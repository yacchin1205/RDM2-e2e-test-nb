{
 "cells": [
  {
   "cell_type": "code",
   "execution_count": 11,
   "id": "e78fb631-9188-4203-9f73-ec7094382df5",
   "metadata": {
    "deletable": true,
    "editable": true,
    "lc_cell_meme": {
     "current": "c81f4e44-ec39-11ef-9c91-5af422c59f17-8-dd80-502c-9bfb-9d2f-749d-4d43-2cb3-22cb",
     "execution_end_time": "2025-02-16T07:51:35.540Z",
     "history": [
      {
       "current": "c81f4e44-ec39-11ef-9c91-5af422c59f17-1-dd80",
       "next": "089c6f7a-ec39-11ef-9c91-5af422c59f17-1-5e21",
       "previous": "99ec3cc2-ec38-11ef-9c91-5af422c59f17"
      },
      {
       "current": "c81f4e44-ec39-11ef-9c91-5af422c59f17-1-dd80",
       "next": "089c6f7a-ec39-11ef-9c91-5af422c59f17-1-5e21",
       "previous": "99ec3cc2-ec38-11ef-9c91-5af422c59f17"
      }
     ],
     "next": "8a4ddeb8-ec71-11ef-9c91-5af422c59f17-5-1a86-2b97-4eb1-14f2-7b87",
     "previous": "e19c810e-3a5c-11f0-8d62-b672e09b3688"
    },
    "pinnedOutputTabIndex": 0,
    "run_through_control": {
     "frozen": false,
     "read_only": false
    },
    "slideshow": {
     "slide_type": ""
    },
    "tags": [
     "parameters"
    ]
   },
   "outputs": [],
   "source": [
    "from getpass import getpass\n",
    "\n",
    "admin_rdm_url = 'http://localhost:8001/'\n",
    "idp_name_1 = 'FakeCAS'\n",
    "idp_username_1 = None\n",
    "idp_password_1 = None\n",
    "default_result_path = None\n",
    "close_on_fail = False\n",
    "transition_timeout = 10000"
   ]
  },
  {
   "cell_type": "code",
   "execution_count": 12,
   "id": "11cfa637-c282-470f-ad9f-da39183f9b70",
   "metadata": {
    "deletable": true,
    "lc_cell_meme": {
     "current": "8a4ddeb8-ec71-11ef-9c91-5af422c59f17-6-1a86-2b97-4eb1-14f2-7b87-f31b",
     "history": [
      {
       "current": "8a4ddeb8-ec71-11ef-9c91-5af422c59f17-2-1a86-2b97",
       "next": "99ec3cc2-ec38-11ef-9c91-5af422c59f17-1-45c1",
       "previous": "c81f4e44-ec39-11ef-9c91-5af422c59f17-2-dd80-502c"
      },
      {
       "current": "8a4ddeb8-ec71-11ef-9c91-5af422c59f17-2-1a86-2b97",
       "next": "99ec3cc2-ec38-11ef-9c91-5af422c59f17-3-45c1-682c-f7d0",
       "previous": "cd412258-ee87-11ef-a157-0242ac120006"
      },
      {
       "current": "8a4ddeb8-ec71-11ef-9c91-5af422c59f17-2-1a86-2b97",
       "next": "99ec3cc2-ec38-11ef-9c91-5af422c59f17-3-45c1-682c-f7d0",
       "previous": "c81f4e44-ec39-11ef-9c91-5af422c59f17-4-dd80-502c-9bfb-9d2f"
      },
      {
       "current": "8a4ddeb8-ec71-11ef-9c91-5af422c59f17-2-1a86-2b97",
       "next": "99ec3cc2-ec38-11ef-9c91-5af422c59f17-3-45c1-682c-f7d0",
       "previous": "3715b50e-ef05-11ef-a157-0242ac120006"
      },
      {
       "current": "8a4ddeb8-ec71-11ef-9c91-5af422c59f17-3-1a86-2b97-4eb1",
       "next": "99ec3cc2-ec38-11ef-9c91-5af422c59f17-3-45c1-682c-f7d0",
       "previous": "c81f4e44-ec39-11ef-9c91-5af422c59f17-4-dd80-502c-9bfb-9d2f"
      },
      {
       "current": "8a4ddeb8-ec71-11ef-9c91-5af422c59f17-4-1a86-2b97-4eb1-14f2",
       "next": "99ec3cc2-ec38-11ef-9c91-5af422c59f17-4-45c1-682c-f7d0-d44f",
       "previous": "c81f4e44-ec39-11ef-9c91-5af422c59f17-5-dd80-502c-9bfb-9d2f-749d"
      },
      {
       "current": "8a4ddeb8-ec71-11ef-9c91-5af422c59f17-5-1a86-2b97-4eb1-14f2-7b87",
       "next": "99ec3cc2-ec38-11ef-9c91-5af422c59f17-5-45c1-682c-f7d0-d44f-ffe3",
       "previous": "c81f4e44-ec39-11ef-9c91-5af422c59f17-6-dd80-502c-9bfb-9d2f-749d-4d43"
      }
     ],
     "next": "99ec3cc2-ec38-11ef-9c91-5af422c59f17-6-45c1-682c-f7d0-d44f-ffe3-6bef",
     "previous": "c81f4e44-ec39-11ef-9c91-5af422c59f17-7-dd80-502c-9bfb-9d2f-749d-4d43-2cb3"
    },
    "pinnedOutputTabIndex": 0,
    "run_through_control": {
     "frozen": false,
     "read_only": false
    }
   },
   "outputs": [
    {
     "data": {
      "text/plain": [
       "(30, 13)"
      ]
     },
     "execution_count": 12,
     "metadata": {},
     "output_type": "execute_result"
    }
   ],
   "source": [
    "if idp_username_1 is None:\n",
    "    idp_username_1 = input(prompt=f'Username for {idp_name_1}')\n",
    "if idp_password_1 is None:\n",
    "    idp_password_1 = getpass(prompt=f'Password for {idp_username_1}@{idp_name_1}')\n",
    "(len(idp_username_1), len(idp_password_1))"
   ]
  },
  {
   "cell_type": "markdown",
   "id": "45b1cb6b-1768-4758-9b8a-1cf7408f7c45",
   "metadata": {
    "deletable": true,
    "editable": true,
    "lc_cell_meme": {
     "current": "99ec3cc2-ec38-11ef-9c91-5af422c59f17-7-45c1-682c-f7d0-d44f-ffe3-6bef-26ac",
     "history": [
      {
       "current": "99ec3cc2-ec38-11ef-9c91-5af422c59f17",
       "next": "089c6f7a-ec39-11ef-9c91-5af422c59f17-1-5e21",
       "previous": "c81f4e44-ec39-11ef-9c91-5af422c59f17-1-dd80"
      },
      {
       "current": "99ec3cc2-ec38-11ef-9c91-5af422c59f17",
       "next": "089c6f7a-ec39-11ef-9c91-5af422c59f17-1-5e21",
       "previous": "db6d9d9c-ec3a-11ef-9c91-5af422c59f17"
      },
      {
       "current": "99ec3cc2-ec38-11ef-9c91-5af422c59f17",
       "next": "089c6f7a-ec39-11ef-9c91-5af422c59f17-1-5e21",
       "previous": "c81f4e44-ec39-11ef-9c91-5af422c59f17-1-dd80"
      },
      {
       "current": "99ec3cc2-ec38-11ef-9c91-5af422c59f17",
       "next": "089c6f7a-ec39-11ef-9c91-5af422c59f17-1-5e21",
       "previous": "9316b6e8-ec3d-11ef-9c91-5af422c59f17"
      },
      {
       "current": "99ec3cc2-ec38-11ef-9c91-5af422c59f17-1-45c1",
       "next": "089c6f7a-ec39-11ef-9c91-5af422c59f17-1-5e21",
       "previous": "c81f4e44-ec39-11ef-9c91-5af422c59f17-1-dd80"
      },
      {
       "current": "99ec3cc2-ec38-11ef-9c91-5af422c59f17-1-45c1",
       "next": "089c6f7a-ec39-11ef-9c91-5af422c59f17-1-5e21",
       "previous": "c81f4e44-ec39-11ef-9c91-5af422c59f17-1-dd80"
      },
      {
       "current": "99ec3cc2-ec38-11ef-9c91-5af422c59f17-1-45c1",
       "next": "089c6f7a-ec39-11ef-9c91-5af422c59f17-2-5e21-aaf5",
       "previous": "c81f4e44-ec39-11ef-9c91-5af422c59f17-2-dd80-502c"
      },
      {
       "current": "99ec3cc2-ec38-11ef-9c91-5af422c59f17-3-45c1-682c-f7d0",
       "next": "089c6f7a-ec39-11ef-9c91-5af422c59f17-2-5e21-aaf5",
       "previous": "8a4ddeb8-ec71-11ef-9c91-5af422c59f17"
      },
      {
       "current": "99ec3cc2-ec38-11ef-9c91-5af422c59f17-4-45c1-682c-f7d0-d44f",
       "next": "089c6f7a-ec39-11ef-9c91-5af422c59f17-4-5e21-aaf5-0a90-4b38",
       "previous": "8a4ddeb8-ec71-11ef-9c91-5af422c59f17-2-1a86-2b97"
      },
      {
       "current": "99ec3cc2-ec38-11ef-9c91-5af422c59f17-5-45c1-682c-f7d0-d44f-ffe3",
       "next": "089c6f7a-ec39-11ef-9c91-5af422c59f17-5-5e21-aaf5-0a90-4b38-a7fe",
       "previous": "8a4ddeb8-ec71-11ef-9c91-5af422c59f17-3-1a86-2b97-4eb1"
      },
      {
       "current": "99ec3cc2-ec38-11ef-9c91-5af422c59f17-6-45c1-682c-f7d0-d44f-ffe3-6bef",
       "next": "089c6f7a-ec39-11ef-9c91-5af422c59f17-6-5e21-aaf5-0a90-4b38-a7fe-2490",
       "previous": "8a4ddeb8-ec71-11ef-9c91-5af422c59f17-4-1a86-2b97-4eb1-14f2"
      }
     ],
     "next": "089c6f7a-ec39-11ef-9c91-5af422c59f17-7-5e21-aaf5-0a90-4b38-a7fe-2490-c4f9",
     "previous": "8a4ddeb8-ec71-11ef-9c91-5af422c59f17-5-1a86-2b97-4eb1-14f2-7b87"
    },
    "pinnedOutputTabIndex": 0,
    "run_through_control": {
     "frozen": false,
     "read_only": false
    },
    "slideshow": {
     "slide_type": ""
    },
    "tags": []
   },
   "source": [
    "# 定期監視-管理者-ログイン\n",
    "\n",
    "- サブシステム名: 管理者\n",
    "- ページ/アドオン: 管理者\n",
    "- 機能分類: ログイン\n",
    "- シナリオ名: ログイン確認\n",
    "- 用意するテストデータ: URL一覧、アカウント(管理者ユーザー1: GRDM)\n",
    "- 備考: https://bitbucket.org/osf_japan/operations/src/master/ARI/%E9%81%8B%E7%94%A8%E6%89%8B%E9%A0%86%E6%9B%B8/%E7%9B%A3%E8%A6%96/%E8%BF%BD%E5%8A%A0%E7%9B%A3%E8%A6%96_%E7%AE%A1%E7%90%86%E8%80%85%E7%94%BB%E9%9D%A2%E3%83%AD%E3%82%B0%E3%82%A4%E3%83%B3%E7%A2%BA%E8%AA%8D.md"
   ]
  },
  {
   "cell_type": "markdown",
   "id": "5597ef8d-2074-4044-88d5-404790f37194",
   "metadata": {
    "deletable": true,
    "editable": true,
    "lc_cell_meme": {
     "current": "089c6f7a-ec39-11ef-9c91-5af422c59f17-8-5e21-aaf5-0a90-4b38-a7fe-2490-c4f9-4b2b",
     "history": [
      {
       "current": "089c6f7a-ec39-11ef-9c91-5af422c59f17-1-5e21",
       "next": "d8e0d05a-ec38-11ef-9c91-5af422c59f17-1-e596",
       "previous": "99ec3cc2-ec38-11ef-9c91-5af422c59f17"
      },
      {
       "current": "089c6f7a-ec39-11ef-9c91-5af422c59f17-1-5e21",
       "next": "29d0d7e4-ec39-11ef-9c91-5af422c59f17",
       "previous": "99ec3cc2-ec38-11ef-9c91-5af422c59f17"
      },
      {
       "current": "089c6f7a-ec39-11ef-9c91-5af422c59f17-1-5e21",
       "next": "8075a73c-ec39-11ef-9c91-5af422c59f17",
       "previous": "99ec3cc2-ec38-11ef-9c91-5af422c59f17"
      },
      {
       "current": "089c6f7a-ec39-11ef-9c91-5af422c59f17-1-5e21",
       "next": "8075a73c-ec39-11ef-9c91-5af422c59f17",
       "previous": "c81f4e44-ec39-11ef-9c91-5af422c59f17"
      },
      {
       "current": "089c6f7a-ec39-11ef-9c91-5af422c59f17-1-5e21",
       "next": "8075a73c-ec39-11ef-9c91-5af422c59f17",
       "previous": "c81f4e44-ec39-11ef-9c91-5af422c59f17"
      },
      {
       "current": "089c6f7a-ec39-11ef-9c91-5af422c59f17-2-5e21-aaf5",
       "next": "8075a73c-ec39-11ef-9c91-5af422c59f17",
       "previous": "99ec3cc2-ec38-11ef-9c91-5af422c59f17"
      },
      {
       "current": "089c6f7a-ec39-11ef-9c91-5af422c59f17-2-5e21-aaf5",
       "next": "8075a73c-ec39-11ef-9c91-5af422c59f17",
       "previous": "99ec3cc2-ec38-11ef-9c91-5af422c59f17"
      },
      {
       "current": "089c6f7a-ec39-11ef-9c91-5af422c59f17-4-5e21-aaf5-0a90-4b38",
       "next": "8075a73c-ec39-11ef-9c91-5af422c59f17-1-bb0f",
       "previous": "99ec3cc2-ec38-11ef-9c91-5af422c59f17-1-45c1"
      },
      {
       "current": "089c6f7a-ec39-11ef-9c91-5af422c59f17-5-5e21-aaf5-0a90-4b38-a7fe",
       "next": "8075a73c-ec39-11ef-9c91-5af422c59f17-3-bb0f-2f43-2629",
       "previous": "99ec3cc2-ec38-11ef-9c91-5af422c59f17-3-45c1-682c-f7d0"
      },
      {
       "current": "089c6f7a-ec39-11ef-9c91-5af422c59f17-6-5e21-aaf5-0a90-4b38-a7fe-2490",
       "next": "8075a73c-ec39-11ef-9c91-5af422c59f17-4-bb0f-2f43-2629-09e6",
       "previous": "99ec3cc2-ec38-11ef-9c91-5af422c59f17-4-45c1-682c-f7d0-d44f"
      },
      {
       "current": "089c6f7a-ec39-11ef-9c91-5af422c59f17-7-5e21-aaf5-0a90-4b38-a7fe-2490-c4f9",
       "next": "8075a73c-ec39-11ef-9c91-5af422c59f17-5-bb0f-2f43-2629-09e6-2250",
       "previous": "99ec3cc2-ec38-11ef-9c91-5af422c59f17-5-45c1-682c-f7d0-d44f-ffe3"
      }
     ],
     "next": "8075a73c-ec39-11ef-9c91-5af422c59f17-6-bb0f-2f43-2629-09e6-2250-1df0",
     "previous": "99ec3cc2-ec38-11ef-9c91-5af422c59f17-6-45c1-682c-f7d0-d44f-ffe3-6bef"
    },
    "pinnedOutputTabIndex": 0,
    "run_through_control": {
     "frozen": false,
     "read_only": false
    },
    "slideshow": {
     "slide_type": ""
    },
    "tags": []
   },
   "source": [
    "## GakuNin RDM管理者ページのURLを開く\n",
    "\n",
    "①ブラウザを開き、画面右上の設定メニューから「シークレットモードで開く」を選択する。  \n",
    "②新規画面が開かれ、画面上において、「シークレットモードです」と表示されていることを確認する。\n",
    "以下、シークレットモードにて確認を行う。\n",
    "\n",
    "③ブラウザを開き、下記URLにアクセスする。  \n",
    "https://rdm.example.com/  "
   ]
  },
  {
   "cell_type": "code",
   "execution_count": 13,
   "id": "a96d7c5b-b085-4470-be21-c0573d4d60f2",
   "metadata": {
    "deletable": true,
    "lc_cell_meme": {
     "current": "8075a73c-ec39-11ef-9c91-5af422c59f17-7-bb0f-2f43-2629-09e6-2250-1df0-bf17",
     "execution_end_time": "2025-02-16T07:42:23.347Z",
     "history": [
      {
       "current": "8075a73c-ec39-11ef-9c91-5af422c59f17-1-bb0f",
       "next": "29d0d7e4-ec39-11ef-9c91-5af422c59f17",
       "previous": "089c6f7a-ec39-11ef-9c91-5af422c59f17-1-5e21"
      },
      {
       "current": "8075a73c-ec39-11ef-9c91-5af422c59f17-1-bb0f",
       "next": "29d0d7e4-ec39-11ef-9c91-5af422c59f17",
       "previous": "089c6f7a-ec39-11ef-9c91-5af422c59f17-1-5e21"
      },
      {
       "current": "8075a73c-ec39-11ef-9c91-5af422c59f17-3-bb0f-2f43-2629",
       "next": "29d0d7e4-ec39-11ef-9c91-5af422c59f17-1-de29",
       "previous": "089c6f7a-ec39-11ef-9c91-5af422c59f17-2-5e21-aaf5"
      },
      {
       "current": "8075a73c-ec39-11ef-9c91-5af422c59f17-4-bb0f-2f43-2629-09e6",
       "next": "29d0d7e4-ec39-11ef-9c91-5af422c59f17-3-de29-9137-ac60",
       "previous": "089c6f7a-ec39-11ef-9c91-5af422c59f17-4-5e21-aaf5-0a90-4b38"
      },
      {
       "current": "8075a73c-ec39-11ef-9c91-5af422c59f17-5-bb0f-2f43-2629-09e6-2250",
       "next": "29d0d7e4-ec39-11ef-9c91-5af422c59f17-4-de29-9137-ac60-4b9a",
       "previous": "089c6f7a-ec39-11ef-9c91-5af422c59f17-5-5e21-aaf5-0a90-4b38-a7fe"
      },
      {
       "current": "8075a73c-ec39-11ef-9c91-5af422c59f17-6-bb0f-2f43-2629-09e6-2250-1df0",
       "next": "29d0d7e4-ec39-11ef-9c91-5af422c59f17-5-de29-9137-ac60-4b9a-7b70",
       "previous": "089c6f7a-ec39-11ef-9c91-5af422c59f17-6-5e21-aaf5-0a90-4b38-a7fe-2490"
      }
     ],
     "next": "29d0d7e4-ec39-11ef-9c91-5af422c59f17-6-de29-9137-ac60-4b9a-7b70-d15e",
     "previous": "089c6f7a-ec39-11ef-9c91-5af422c59f17-7-5e21-aaf5-0a90-4b38-a7fe-2490-c4f9"
    },
    "pinnedOutputTabIndex": 0,
    "run_through_control": {
     "frozen": false,
     "read_only": false
    },
    "slideshow": {
     "slide_type": ""
    },
    "tags": []
   },
   "outputs": [
    {
     "data": {
      "text/plain": [
       "'/var/folders/m0/myy2ys0s3cl_73__2gw8fw140000gn/T/tmpou29ne9s'"
      ]
     },
     "execution_count": 13,
     "metadata": {},
     "output_type": "execute_result"
    }
   ],
   "source": [
    "import tempfile\n",
    "\n",
    "work_dir = tempfile.mkdtemp()\n",
    "if default_result_path is None:\n",
    "    default_result_path = work_dir\n",
    "work_dir"
   ]
  },
  {
   "cell_type": "code",
   "execution_count": 14,
   "id": "38fc3886-f6ee-43a2-a79e-2805f0b01919",
   "metadata": {
    "deletable": true,
    "lc_cell_meme": {
     "current": "29d0d7e4-ec39-11ef-9c91-5af422c59f17-7-de29-9137-ac60-4b9a-7b70-d15e-bcac",
     "execution_end_time": "2025-02-16T08:28:55.573Z",
     "history": [
      {
       "current": "29d0d7e4-ec39-11ef-9c91-5af422c59f17",
       "next": "d8e0d05a-ec38-11ef-9c91-5af422c59f17-1-e596",
       "previous": "089c6f7a-ec39-11ef-9c91-5af422c59f17-1-5e21"
      },
      {
       "current": "29d0d7e4-ec39-11ef-9c91-5af422c59f17",
       "next": "d8e0d05a-ec38-11ef-9c91-5af422c59f17-1-e596",
       "previous": "8075a73c-ec39-11ef-9c91-5af422c59f17"
      },
      {
       "current": "29d0d7e4-ec39-11ef-9c91-5af422c59f17-1-de29",
       "next": "9864a91a-ec39-11ef-9c91-5af422c59f17",
       "previous": "8075a73c-ec39-11ef-9c91-5af422c59f17"
      },
      {
       "current": "29d0d7e4-ec39-11ef-9c91-5af422c59f17-1-de29",
       "next": "9864a91a-ec39-11ef-9c91-5af422c59f17",
       "previous": "8075a73c-ec39-11ef-9c91-5af422c59f17"
      },
      {
       "current": "29d0d7e4-ec39-11ef-9c91-5af422c59f17-3-de29-9137-ac60",
       "next": "9864a91a-ec39-11ef-9c91-5af422c59f17-1-4e4a",
       "previous": "8075a73c-ec39-11ef-9c91-5af422c59f17-1-bb0f"
      },
      {
       "current": "29d0d7e4-ec39-11ef-9c91-5af422c59f17-4-de29-9137-ac60-4b9a",
       "next": "9864a91a-ec39-11ef-9c91-5af422c59f17-3-4e4a-7f3c-e3c0",
       "previous": "8075a73c-ec39-11ef-9c91-5af422c59f17-3-bb0f-2f43-2629"
      },
      {
       "current": "29d0d7e4-ec39-11ef-9c91-5af422c59f17-5-de29-9137-ac60-4b9a-7b70",
       "next": "9864a91a-ec39-11ef-9c91-5af422c59f17-4-4e4a-7f3c-e3c0-e030",
       "previous": "8075a73c-ec39-11ef-9c91-5af422c59f17-4-bb0f-2f43-2629-09e6"
      },
      {
       "current": "29d0d7e4-ec39-11ef-9c91-5af422c59f17-6-de29-9137-ac60-4b9a-7b70-d15e",
       "next": "9864a91a-ec39-11ef-9c91-5af422c59f17-5-4e4a-7f3c-e3c0-e030-25e7",
       "previous": "8075a73c-ec39-11ef-9c91-5af422c59f17-5-bb0f-2f43-2629-09e6-2250"
      }
     ],
     "next": "9864a91a-ec39-11ef-9c91-5af422c59f17-6-4e4a-7f3c-e3c0-e030-25e7-212c",
     "previous": "8075a73c-ec39-11ef-9c91-5af422c59f17-6-bb0f-2f43-2629-09e6-2250-1df0"
    },
    "pinnedOutputTabIndex": 0,
    "run_through_control": {
     "frozen": false,
     "read_only": false
    },
    "slideshow": {
     "slide_type": ""
    },
    "tags": []
   },
   "outputs": [
    {
     "data": {
      "text/plain": [
       "('20250809-153709',\n",
       " '/var/folders/m0/myy2ys0s3cl_73__2gw8fw140000gn/T/tmp2ly2v09y')"
      ]
     },
     "execution_count": 14,
     "metadata": {},
     "output_type": "execute_result"
    }
   ],
   "source": [
    "import importlib\n",
    "import pandas as pd\n",
    "\n",
    "import scripts.playwright\n",
    "importlib.reload(scripts.playwright)\n",
    "\n",
    "from scripts.playwright import *\n",
    "from scripts import grdm\n",
    "\n",
    "await init_pw_context(close_on_fail=close_on_fail, last_path=default_result_path)"
   ]
  },
  {
   "cell_type": "code",
   "execution_count": 15,
   "id": "cc7e082e-9818-4815-8d7e-848a960e5ad9",
   "metadata": {
    "deletable": true,
    "lc_cell_meme": {
     "current": "9864a91a-ec39-11ef-9c91-5af422c59f17-7-4e4a-7f3c-e3c0-e030-25e7-212c-1727",
     "execution_end_time": "2025-02-16T08:28:58.156Z",
     "history": [
      {
       "current": "9864a91a-ec39-11ef-9c91-5af422c59f17",
       "next": "d8e0d05a-ec38-11ef-9c91-5af422c59f17-1-e596",
       "previous": "29d0d7e4-ec39-11ef-9c91-5af422c59f17"
      },
      {
       "current": "9864a91a-ec39-11ef-9c91-5af422c59f17",
       "next": "0006c576-ec3a-11ef-9c91-5af422c59f17",
       "previous": "29d0d7e4-ec39-11ef-9c91-5af422c59f17"
      },
      {
       "current": "9864a91a-ec39-11ef-9c91-5af422c59f17",
       "next": "0006c576-ec3a-11ef-9c91-5af422c59f17",
       "previous": "29d0d7e4-ec39-11ef-9c91-5af422c59f17"
      },
      {
       "current": "9864a91a-ec39-11ef-9c91-5af422c59f17-1-4e4a",
       "next": "0006c576-ec3a-11ef-9c91-5af422c59f17-1-74dd",
       "previous": "29d0d7e4-ec39-11ef-9c91-5af422c59f17"
      },
      {
       "current": "9864a91a-ec39-11ef-9c91-5af422c59f17-1-4e4a",
       "next": "0006c576-ec3a-11ef-9c91-5af422c59f17-1-74dd",
       "previous": "29d0d7e4-ec39-11ef-9c91-5af422c59f17"
      },
      {
       "current": "9864a91a-ec39-11ef-9c91-5af422c59f17-3-4e4a-7f3c-e3c0",
       "next": "0006c576-ec3a-11ef-9c91-5af422c59f17-2-74dd-a17e",
       "previous": "29d0d7e4-ec39-11ef-9c91-5af422c59f17-1-de29"
      },
      {
       "current": "9864a91a-ec39-11ef-9c91-5af422c59f17-4-4e4a-7f3c-e3c0-e030",
       "next": "0006c576-ec3a-11ef-9c91-5af422c59f17-4-74dd-a17e-70fe-2883",
       "previous": "29d0d7e4-ec39-11ef-9c91-5af422c59f17-3-de29-9137-ac60"
      },
      {
       "current": "9864a91a-ec39-11ef-9c91-5af422c59f17-5-4e4a-7f3c-e3c0-e030-25e7",
       "next": "0006c576-ec3a-11ef-9c91-5af422c59f17-5-74dd-a17e-70fe-2883-6ae6",
       "previous": "29d0d7e4-ec39-11ef-9c91-5af422c59f17-4-de29-9137-ac60-4b9a"
      },
      {
       "current": "9864a91a-ec39-11ef-9c91-5af422c59f17-6-4e4a-7f3c-e3c0-e030-25e7-212c",
       "next": "0006c576-ec3a-11ef-9c91-5af422c59f17-6-74dd-a17e-70fe-2883-6ae6-9fa4",
       "previous": "29d0d7e4-ec39-11ef-9c91-5af422c59f17-5-de29-9137-ac60-4b9a-7b70"
      }
     ],
     "next": "0006c576-ec3a-11ef-9c91-5af422c59f17-7-74dd-a17e-70fe-2883-6ae6-9fa4-d212",
     "previous": "29d0d7e4-ec39-11ef-9c91-5af422c59f17-6-de29-9137-ac60-4b9a-7b70-d15e"
    },
    "pinnedOutputTabIndex": 0,
    "run_through_control": {
     "frozen": false,
     "read_only": false
    },
    "scrolled": true,
    "slideshow": {
     "slide_type": ""
    },
    "tags": []
   },
   "outputs": [
    {
     "name": "stdout",
     "output_type": "stream",
     "text": [
      "Start epoch: 1754721431.456175 seconds\n"
     ]
    },
    {
     "data": {
      "image/png": "[encoded data removed]",
      "text/plain": [
       "<IPython.core.display.Image object>"
      ]
     },
     "execution_count": 15,
     "metadata": {},
     "output_type": "execute_result"
    }
   ],
   "source": [
    "import time\n",
    "\n",
    "async def _step(page):\n",
    "    await page.goto(admin_rdm_url)\n",
    "\n",
    "    await expect(page.locator('.login-logo')).to_be_visible(timeout=30000)\n",
    "\n",
    "await run_pw(_step)"
   ]
  },
  {
   "cell_type": "markdown",
   "id": "fe08b3df-1a3d-4836-b40d-270bdd9f3afb",
   "metadata": {
    "deletable": true,
    "editable": true,
    "lc_cell_meme": {
     "current": "0006c576-ec3a-11ef-9c91-5af422c59f17-8-74dd-a17e-70fe-2883-6ae6-9fa4-d212-b605",
     "history": [
      {
       "current": "0006c576-ec3a-11ef-9c91-5af422c59f17-1-74dd",
       "next": "d8e0d05a-ec38-11ef-9c91-5af422c59f17-1-e596",
       "previous": "9864a91a-ec39-11ef-9c91-5af422c59f17"
      },
      {
       "current": "0006c576-ec3a-11ef-9c91-5af422c59f17-2-74dd-a17e",
       "next": "193f6390-ec3a-11ef-9c91-5af422c59f17",
       "previous": "9864a91a-ec39-11ef-9c91-5af422c59f17"
      },
      {
       "current": "0006c576-ec3a-11ef-9c91-5af422c59f17-2-74dd-a17e",
       "next": "193f6390-ec3a-11ef-9c91-5af422c59f17",
       "previous": "9864a91a-ec39-11ef-9c91-5af422c59f17"
      },
      {
       "current": "0006c576-ec3a-11ef-9c91-5af422c59f17-4-74dd-a17e-70fe-2883",
       "next": "193f6390-ec3a-11ef-9c91-5af422c59f17-1-2530",
       "previous": "9864a91a-ec39-11ef-9c91-5af422c59f17-1-4e4a"
      },
      {
       "current": "0006c576-ec3a-11ef-9c91-5af422c59f17-5-74dd-a17e-70fe-2883-6ae6",
       "next": "193f6390-ec3a-11ef-9c91-5af422c59f17-3-2530-9c54-1130",
       "previous": "9864a91a-ec39-11ef-9c91-5af422c59f17-3-4e4a-7f3c-e3c0"
      },
      {
       "current": "0006c576-ec3a-11ef-9c91-5af422c59f17-6-74dd-a17e-70fe-2883-6ae6-9fa4",
       "next": "193f6390-ec3a-11ef-9c91-5af422c59f17-4-2530-9c54-1130-087f",
       "previous": "9864a91a-ec39-11ef-9c91-5af422c59f17-4-4e4a-7f3c-e3c0-e030"
      },
      {
       "current": "0006c576-ec3a-11ef-9c91-5af422c59f17-7-74dd-a17e-70fe-2883-6ae6-9fa4-d212",
       "next": "193f6390-ec3a-11ef-9c91-5af422c59f17-5-2530-9c54-1130-087f-69fd",
       "previous": "9864a91a-ec39-11ef-9c91-5af422c59f17-5-4e4a-7f3c-e3c0-e030-25e7"
      }
     ],
     "next": "193f6390-ec3a-11ef-9c91-5af422c59f17-6-2530-9c54-1130-087f-69fd-8201",
     "previous": "9864a91a-ec39-11ef-9c91-5af422c59f17-6-4e4a-7f3c-e3c0-e030-25e7-212c"
    },
    "pinnedOutputTabIndex": 0,
    "run_through_control": {
     "frozen": false,
     "read_only": false
    },
    "slideshow": {
     "slide_type": ""
    },
    "tags": []
   },
   "source": [
    "## IdPを選択する (1)\n",
    "\n",
    "①プルダウンから、指定されたIdPを選択する。  \n"
   ]
  },
  {
   "cell_type": "code",
   "execution_count": null,
   "id": "5d84fbe4-947c-4db3-8cb5-f1e9069abd5e",
   "metadata": {
    "deletable": true,
    "lc_cell_meme": {
     "current": "193f6390-ec3a-11ef-9c91-5af422c59f17-7-2530-9c54-1130-087f-69fd-8201-5947",
     "execution_end_time": "2025-02-16T08:29:00.613Z",
     "history": [
      {
       "current": "193f6390-ec3a-11ef-9c91-5af422c59f17",
       "next": "d8e0d05a-ec38-11ef-9c91-5af422c59f17-1-e596",
       "previous": "0006c576-ec3a-11ef-9c91-5af422c59f17-1-74dd"
      },
      {
       "current": "193f6390-ec3a-11ef-9c91-5af422c59f17",
       "next": "896ce3b2-ec3b-11ef-9c91-5af422c59f17",
       "previous": "0006c576-ec3a-11ef-9c91-5af422c59f17-1-74dd"
      },
      {
       "current": "193f6390-ec3a-11ef-9c91-5af422c59f17",
       "next": "896ce3b2-ec3b-11ef-9c91-5af422c59f17",
       "previous": "0006c576-ec3a-11ef-9c91-5af422c59f17-1-74dd"
      },
      {
       "current": "193f6390-ec3a-11ef-9c91-5af422c59f17-1-2530",
       "next": "896ce3b2-ec3b-11ef-9c91-5af422c59f17-1-a216",
       "previous": "0006c576-ec3a-11ef-9c91-5af422c59f17-1-74dd"
      },
      {
       "current": "193f6390-ec3a-11ef-9c91-5af422c59f17-1-2530",
       "next": "896ce3b2-ec3b-11ef-9c91-5af422c59f17-1-a216",
       "previous": "0006c576-ec3a-11ef-9c91-5af422c59f17-1-74dd"
      },
      {
       "current": "193f6390-ec3a-11ef-9c91-5af422c59f17-3-2530-9c54-1130",
       "next": "896ce3b2-ec3b-11ef-9c91-5af422c59f17-2-a216-7e0d",
       "previous": "0006c576-ec3a-11ef-9c91-5af422c59f17-2-74dd-a17e"
      },
      {
       "current": "193f6390-ec3a-11ef-9c91-5af422c59f17-4-2530-9c54-1130-087f",
       "next": "896ce3b2-ec3b-11ef-9c91-5af422c59f17-4-a216-7e0d-6023-c01b",
       "previous": "0006c576-ec3a-11ef-9c91-5af422c59f17-4-74dd-a17e-70fe-2883"
      },
      {
       "current": "193f6390-ec3a-11ef-9c91-5af422c59f17-5-2530-9c54-1130-087f-69fd",
       "next": "896ce3b2-ec3b-11ef-9c91-5af422c59f17-5-a216-7e0d-6023-c01b-a6fe",
       "previous": "0006c576-ec3a-11ef-9c91-5af422c59f17-5-74dd-a17e-70fe-2883-6ae6"
      },
      {
       "current": "193f6390-ec3a-11ef-9c91-5af422c59f17-6-2530-9c54-1130-087f-69fd-8201",
       "next": "896ce3b2-ec3b-11ef-9c91-5af422c59f17-6-a216-7e0d-6023-c01b-a6fe-a139",
       "previous": "0006c576-ec3a-11ef-9c91-5af422c59f17-6-74dd-a17e-70fe-2883-6ae6-9fa4"
      }
     ],
     "next": "896ce3b2-ec3b-11ef-9c91-5af422c59f17-7-a216-7e0d-6023-c01b-a6fe-a139-75aa",
     "previous": "0006c576-ec3a-11ef-9c91-5af422c59f17-7-74dd-a17e-70fe-2883-6ae6-9fa4-d212"
    },
    "pinnedOutputTabIndex": 0,
    "run_through_control": {
     "frozen": false,
     "read_only": false
    },
    "slideshow": {
     "slide_type": ""
    },
    "tags": []
   },
   "outputs": [],
   "source": "async def _step(page):\n    if idp_name_1 is None or idp_name_1 == 'FakeCAS':\n        await expect(page.locator('#id_email')).to_be_editable(timeout=transition_timeout)\n    else:\n        # IdPリストから所望のIdPを選択\n        idplist = page.locator('//form[@id = \"IdPList\"]//input[@type = \"text\"]')\n        await idplist.fill(idp_name_1);\n        await idplist.press('Enter');\n        await page.locator(f'//div[@class = \"select\" and text() = \"{idp_name_1}\"]').click()\n\n        # 選択ボタンが有効になったことを確認\n        await expect(page.locator('//input[@id = \"wayf_submit_button\"]')).to_be_enabled()\n\nawait run_pw(_step)"
  },
  {
   "cell_type": "markdown",
   "id": "68cba468-1044-4c54-ad9d-80fed564add4",
   "metadata": {
    "deletable": true,
    "editable": true,
    "lc_cell_meme": {
     "current": "896ce3b2-ec3b-11ef-9c91-5af422c59f17-8-a216-7e0d-6023-c01b-a6fe-a139-75aa-f282",
     "history": [
      {
       "current": "896ce3b2-ec3b-11ef-9c91-5af422c59f17-1-a216",
       "next": "d8e0d05a-ec38-11ef-9c91-5af422c59f17-1-e596",
       "previous": "193f6390-ec3a-11ef-9c91-5af422c59f17"
      },
      {
       "current": "896ce3b2-ec3b-11ef-9c91-5af422c59f17-2-a216-7e0d",
       "next": "e9e65886-ec3b-11ef-9c91-5af422c59f17",
       "previous": "193f6390-ec3a-11ef-9c91-5af422c59f17"
      },
      {
       "current": "896ce3b2-ec3b-11ef-9c91-5af422c59f17-2-a216-7e0d",
       "next": "e9e65886-ec3b-11ef-9c91-5af422c59f17",
       "previous": "193f6390-ec3a-11ef-9c91-5af422c59f17"
      },
      {
       "current": "896ce3b2-ec3b-11ef-9c91-5af422c59f17-4-a216-7e0d-6023-c01b",
       "next": "e9e65886-ec3b-11ef-9c91-5af422c59f17-1-72cc",
       "previous": "193f6390-ec3a-11ef-9c91-5af422c59f17-1-2530"
      },
      {
       "current": "896ce3b2-ec3b-11ef-9c91-5af422c59f17-5-a216-7e0d-6023-c01b-a6fe",
       "next": "e9e65886-ec3b-11ef-9c91-5af422c59f17-3-72cc-0732-6582",
       "previous": "193f6390-ec3a-11ef-9c91-5af422c59f17-3-2530-9c54-1130"
      },
      {
       "current": "896ce3b2-ec3b-11ef-9c91-5af422c59f17-6-a216-7e0d-6023-c01b-a6fe-a139",
       "next": "e9e65886-ec3b-11ef-9c91-5af422c59f17-4-72cc-0732-6582-1974",
       "previous": "193f6390-ec3a-11ef-9c91-5af422c59f17-4-2530-9c54-1130-087f"
      },
      {
       "current": "896ce3b2-ec3b-11ef-9c91-5af422c59f17-7-a216-7e0d-6023-c01b-a6fe-a139-75aa",
       "next": "e9e65886-ec3b-11ef-9c91-5af422c59f17-5-72cc-0732-6582-1974-ecde",
       "previous": "193f6390-ec3a-11ef-9c91-5af422c59f17-5-2530-9c54-1130-087f-69fd"
      }
     ],
     "next": "e9e65886-ec3b-11ef-9c91-5af422c59f17-6-72cc-0732-6582-1974-ecde-aa07",
     "previous": "193f6390-ec3a-11ef-9c91-5af422c59f17-6-2530-9c54-1130-087f-69fd-8201"
    },
    "pinnedOutputTabIndex": 0,
    "run_through_control": {
     "frozen": false,
     "read_only": false
    },
    "slideshow": {
     "slide_type": ""
    },
    "tags": []
   },
   "source": [
    "## IdPを選択する (2)\n",
    "\n",
    "①「選択」を押下する。  \n"
   ]
  },
  {
   "cell_type": "code",
   "execution_count": null,
   "id": "401f86a6-c35a-436d-a38d-e8c9191d2be0",
   "metadata": {
    "deletable": true,
    "lc_cell_meme": {
     "current": "e9e65886-ec3b-11ef-9c91-5af422c59f17-7-72cc-0732-6582-1974-ecde-aa07-3a53",
     "execution_end_time": "2025-02-16T08:29:00.843Z",
     "history": [
      {
       "current": "e9e65886-ec3b-11ef-9c91-5af422c59f17",
       "next": "d8e0d05a-ec38-11ef-9c91-5af422c59f17-1-e596",
       "previous": "896ce3b2-ec3b-11ef-9c91-5af422c59f17-1-a216"
      },
      {
       "current": "e9e65886-ec3b-11ef-9c91-5af422c59f17",
       "next": "f526a3cc-ec3b-11ef-9c91-5af422c59f17",
       "previous": "896ce3b2-ec3b-11ef-9c91-5af422c59f17-1-a216"
      },
      {
       "current": "e9e65886-ec3b-11ef-9c91-5af422c59f17",
       "next": "a70a71e0-ec3c-11ef-9c91-5af422c59f17",
       "previous": "896ce3b2-ec3b-11ef-9c91-5af422c59f17-1-a216"
      },
      {
       "current": "e9e65886-ec3b-11ef-9c91-5af422c59f17",
       "next": "a70a71e0-ec3c-11ef-9c91-5af422c59f17",
       "previous": "896ce3b2-ec3b-11ef-9c91-5af422c59f17-1-a216"
      },
      {
       "current": "e9e65886-ec3b-11ef-9c91-5af422c59f17-1-72cc",
       "next": "a70a71e0-ec3c-11ef-9c91-5af422c59f17-1-ad5d",
       "previous": "896ce3b2-ec3b-11ef-9c91-5af422c59f17-1-a216"
      },
      {
       "current": "e9e65886-ec3b-11ef-9c91-5af422c59f17-1-72cc",
       "next": "a70a71e0-ec3c-11ef-9c91-5af422c59f17-1-ad5d",
       "previous": "896ce3b2-ec3b-11ef-9c91-5af422c59f17-1-a216"
      },
      {
       "current": "e9e65886-ec3b-11ef-9c91-5af422c59f17-3-72cc-0732-6582",
       "next": "a70a71e0-ec3c-11ef-9c91-5af422c59f17-2-ad5d-6644",
       "previous": "896ce3b2-ec3b-11ef-9c91-5af422c59f17-2-a216-7e0d"
      },
      {
       "current": "e9e65886-ec3b-11ef-9c91-5af422c59f17-4-72cc-0732-6582-1974",
       "next": "a70a71e0-ec3c-11ef-9c91-5af422c59f17-4-ad5d-6644-cc84-1d17",
       "previous": "896ce3b2-ec3b-11ef-9c91-5af422c59f17-4-a216-7e0d-6023-c01b"
      },
      {
       "current": "e9e65886-ec3b-11ef-9c91-5af422c59f17-5-72cc-0732-6582-1974-ecde",
       "next": "a70a71e0-ec3c-11ef-9c91-5af422c59f17-5-ad5d-6644-cc84-1d17-0980",
       "previous": "896ce3b2-ec3b-11ef-9c91-5af422c59f17-5-a216-7e0d-6023-c01b-a6fe"
      },
      {
       "current": "e9e65886-ec3b-11ef-9c91-5af422c59f17-6-72cc-0732-6582-1974-ecde-aa07",
       "next": "a70a71e0-ec3c-11ef-9c91-5af422c59f17-6-ad5d-6644-cc84-1d17-0980-1327",
       "previous": "896ce3b2-ec3b-11ef-9c91-5af422c59f17-6-a216-7e0d-6023-c01b-a6fe-a139"
      }
     ],
     "next": "a70a71e0-ec3c-11ef-9c91-5af422c59f17-7-ad5d-6644-cc84-1d17-0980-1327-4d0d",
     "previous": "896ce3b2-ec3b-11ef-9c91-5af422c59f17-7-a216-7e0d-6023-c01b-a6fe-a139-75aa"
    },
    "pinnedOutputTabIndex": 0,
    "run_through_control": {
     "frozen": false,
     "read_only": false
    },
    "slideshow": {
     "slide_type": ""
    },
    "tags": []
   },
   "outputs": [],
   "source": "async def _step(page):\n    if idp_name_1 is None or idp_name_1 == 'FakeCAS':\n        return\n    # 選択ボタンをクリック\n    await page.locator('//input[@id = \"wayf_submit_button\"]').click()\n\n    # アカウント入力欄が編集可能になったことを確認\n    await expect(page.locator('#username')).to_be_editable()\n\nawait run_pw(_step)"
  },
  {
   "cell_type": "markdown",
   "id": "13b6e52b-e134-41cb-969e-ff7283a906d8",
   "metadata": {
    "deletable": true,
    "editable": true,
    "lc_cell_meme": {
     "current": "a70a71e0-ec3c-11ef-9c91-5af422c59f17-8-ad5d-6644-cc84-1d17-0980-1327-4d0d-a10d",
     "history": [
      {
       "current": "a70a71e0-ec3c-11ef-9c91-5af422c59f17-2-ad5d-6644",
       "next": "f526a3cc-ec3b-11ef-9c91-5af422c59f17",
       "previous": "e9e65886-ec3b-11ef-9c91-5af422c59f17"
      },
      {
       "current": "a70a71e0-ec3c-11ef-9c91-5af422c59f17-2-ad5d-6644",
       "next": "f526a3cc-ec3b-11ef-9c91-5af422c59f17",
       "previous": "e9e65886-ec3b-11ef-9c91-5af422c59f17"
      },
      {
       "current": "a70a71e0-ec3c-11ef-9c91-5af422c59f17-4-ad5d-6644-cc84-1d17",
       "next": "f526a3cc-ec3b-11ef-9c91-5af422c59f17-1-9f1b",
       "previous": "e9e65886-ec3b-11ef-9c91-5af422c59f17-1-72cc"
      },
      {
       "current": "a70a71e0-ec3c-11ef-9c91-5af422c59f17-5-ad5d-6644-cc84-1d17-0980",
       "next": "f526a3cc-ec3b-11ef-9c91-5af422c59f17-3-9f1b-7023-2359",
       "previous": "e9e65886-ec3b-11ef-9c91-5af422c59f17-3-72cc-0732-6582"
      },
      {
       "current": "a70a71e0-ec3c-11ef-9c91-5af422c59f17-6-ad5d-6644-cc84-1d17-0980-1327",
       "next": "f526a3cc-ec3b-11ef-9c91-5af422c59f17-4-9f1b-7023-2359-a868",
       "previous": "e9e65886-ec3b-11ef-9c91-5af422c59f17-4-72cc-0732-6582-1974"
      },
      {
       "current": "a70a71e0-ec3c-11ef-9c91-5af422c59f17-7-ad5d-6644-cc84-1d17-0980-1327-4d0d",
       "next": "f526a3cc-ec3b-11ef-9c91-5af422c59f17-5-9f1b-7023-2359-a868-1f4e",
       "previous": "e9e65886-ec3b-11ef-9c91-5af422c59f17-5-72cc-0732-6582-1974-ecde"
      }
     ],
     "next": "f526a3cc-ec3b-11ef-9c91-5af422c59f17-6-9f1b-7023-2359-a868-1f4e-0c2d",
     "previous": "e9e65886-ec3b-11ef-9c91-5af422c59f17-6-72cc-0732-6582-1974-ecde-aa07"
    },
    "pinnedOutputTabIndex": 0,
    "run_through_control": {
     "frozen": false,
     "read_only": false
    },
    "slideshow": {
     "slide_type": ""
    },
    "tags": []
   },
   "source": [
    "## ログインする (1)\n",
    "\n",
    "①「Username」と「Password」を入力する。  \n"
   ]
  },
  {
   "cell_type": "code",
   "execution_count": null,
   "id": "487d6175-b995-4b85-a255-8b413f9108d4",
   "metadata": {
    "deletable": true,
    "lc_cell_meme": {
     "current": "f526a3cc-ec3b-11ef-9c91-5af422c59f17-7-9f1b-7023-2359-a868-1f4e-0c2d-6fa7",
     "execution_end_time": "2025-02-16T08:29:01.017Z",
     "history": [
      {
       "current": "f526a3cc-ec3b-11ef-9c91-5af422c59f17",
       "next": "d8e0d05a-ec38-11ef-9c91-5af422c59f17-1-e596",
       "previous": "e9e65886-ec3b-11ef-9c91-5af422c59f17"
      },
      {
       "current": "f526a3cc-ec3b-11ef-9c91-5af422c59f17",
       "next": "d8e0d05a-ec38-11ef-9c91-5af422c59f17-1-e596",
       "previous": "a70a71e0-ec3c-11ef-9c91-5af422c59f17"
      },
      {
       "current": "f526a3cc-ec3b-11ef-9c91-5af422c59f17",
       "next": "d8e0d05a-ec38-11ef-9c91-5af422c59f17-1-e596",
       "previous": "a70a71e0-ec3c-11ef-9c91-5af422c59f17"
      },
      {
       "current": "f526a3cc-ec3b-11ef-9c91-5af422c59f17",
       "next": "d8e0d05a-ec38-11ef-9c91-5af422c59f17-1-e596",
       "previous": "a70a71e0-ec3c-11ef-9c91-5af422c59f17-1-ad5d"
      },
      {
       "current": "f526a3cc-ec3b-11ef-9c91-5af422c59f17",
       "next": "ebed21d6-ec3c-11ef-9c91-5af422c59f17",
       "previous": "a70a71e0-ec3c-11ef-9c91-5af422c59f17-1-ad5d"
      },
      {
       "current": "f526a3cc-ec3b-11ef-9c91-5af422c59f17",
       "next": "ebed21d6-ec3c-11ef-9c91-5af422c59f17",
       "previous": "a70a71e0-ec3c-11ef-9c91-5af422c59f17-1-ad5d"
      },
      {
       "current": "f526a3cc-ec3b-11ef-9c91-5af422c59f17-1-9f1b",
       "next": "ebed21d6-ec3c-11ef-9c91-5af422c59f17-1-c85d",
       "previous": "a70a71e0-ec3c-11ef-9c91-5af422c59f17-1-ad5d"
      },
      {
       "current": "f526a3cc-ec3b-11ef-9c91-5af422c59f17-1-9f1b",
       "next": "ebed21d6-ec3c-11ef-9c91-5af422c59f17-1-c85d",
       "previous": "a70a71e0-ec3c-11ef-9c91-5af422c59f17-1-ad5d"
      },
      {
       "current": "f526a3cc-ec3b-11ef-9c91-5af422c59f17-3-9f1b-7023-2359",
       "next": "ebed21d6-ec3c-11ef-9c91-5af422c59f17-2-c85d-9bac",
       "previous": "a70a71e0-ec3c-11ef-9c91-5af422c59f17-2-ad5d-6644"
      },
      {
       "current": "f526a3cc-ec3b-11ef-9c91-5af422c59f17-4-9f1b-7023-2359-a868",
       "next": "ebed21d6-ec3c-11ef-9c91-5af422c59f17-4-c85d-9bac-68cd-296d",
       "previous": "a70a71e0-ec3c-11ef-9c91-5af422c59f17-4-ad5d-6644-cc84-1d17"
      },
      {
       "current": "f526a3cc-ec3b-11ef-9c91-5af422c59f17-5-9f1b-7023-2359-a868-1f4e",
       "next": "ebed21d6-ec3c-11ef-9c91-5af422c59f17-5-c85d-9bac-68cd-296d-6e35",
       "previous": "a70a71e0-ec3c-11ef-9c91-5af422c59f17-5-ad5d-6644-cc84-1d17-0980"
      },
      {
       "current": "f526a3cc-ec3b-11ef-9c91-5af422c59f17-6-9f1b-7023-2359-a868-1f4e-0c2d",
       "next": "ebed21d6-ec3c-11ef-9c91-5af422c59f17-6-c85d-9bac-68cd-296d-6e35-298a",
       "previous": "a70a71e0-ec3c-11ef-9c91-5af422c59f17-6-ad5d-6644-cc84-1d17-0980-1327"
      }
     ],
     "next": "ebed21d6-ec3c-11ef-9c91-5af422c59f17-7-c85d-9bac-68cd-296d-6e35-298a-7187",
     "previous": "a70a71e0-ec3c-11ef-9c91-5af422c59f17-7-ad5d-6644-cc84-1d17-0980-1327-4d0d"
    },
    "pinnedOutputTabIndex": 0,
    "run_through_control": {
     "frozen": false,
     "read_only": false
    },
    "slideshow": {
     "slide_type": ""
    },
    "tags": []
   },
   "outputs": [],
   "source": "async def _step(page):\n    # メールアドレスとパスワードを入力\n    if idp_name_1 is None or idp_name_1 == 'FakeCAS':\n        await page.locator('#id_email').fill(idp_username_1)\n        await page.locator('#id_password').fill(idp_password_1)\n    else:\n        await page.locator('#username').fill(idp_username_1)\n        await page.locator('#password').fill(idp_password_1)\n\n    # サインインボタンが押下可能であることを確認\n    await expect(page.locator('//button[@type = \"submit\"]')).to_be_enabled()\n\nawait run_pw(_step)"
  },
  {
   "cell_type": "markdown",
   "id": "2b5fec14-aac6-4fb2-92d1-d6b7c8a99299",
   "metadata": {
    "deletable": true,
    "editable": true,
    "lc_cell_meme": {
     "current": "ebed21d6-ec3c-11ef-9c91-5af422c59f17-8-c85d-9bac-68cd-296d-6e35-298a-7187-0452",
     "history": [
      {
       "current": "ebed21d6-ec3c-11ef-9c91-5af422c59f17-1-c85d",
       "next": "d8e0d05a-ec38-11ef-9c91-5af422c59f17-1-e596",
       "previous": "f526a3cc-ec3b-11ef-9c91-5af422c59f17"
      },
      {
       "current": "ebed21d6-ec3c-11ef-9c91-5af422c59f17-2-c85d-9bac",
       "next": "665baec4-ec3d-11ef-9c91-5af422c59f17",
       "previous": "f526a3cc-ec3b-11ef-9c91-5af422c59f17"
      },
      {
       "current": "ebed21d6-ec3c-11ef-9c91-5af422c59f17-2-c85d-9bac",
       "next": "665baec4-ec3d-11ef-9c91-5af422c59f17",
       "previous": "f526a3cc-ec3b-11ef-9c91-5af422c59f17"
      },
      {
       "current": "ebed21d6-ec3c-11ef-9c91-5af422c59f17-4-c85d-9bac-68cd-296d",
       "next": "665baec4-ec3d-11ef-9c91-5af422c59f17-1-d5a6",
       "previous": "f526a3cc-ec3b-11ef-9c91-5af422c59f17-1-9f1b"
      },
      {
       "current": "ebed21d6-ec3c-11ef-9c91-5af422c59f17-5-c85d-9bac-68cd-296d-6e35",
       "next": "665baec4-ec3d-11ef-9c91-5af422c59f17-3-d5a6-e49c-2d01",
       "previous": "f526a3cc-ec3b-11ef-9c91-5af422c59f17-3-9f1b-7023-2359"
      },
      {
       "current": "ebed21d6-ec3c-11ef-9c91-5af422c59f17-6-c85d-9bac-68cd-296d-6e35-298a",
       "next": "665baec4-ec3d-11ef-9c91-5af422c59f17-4-d5a6-e49c-2d01-379c",
       "previous": "f526a3cc-ec3b-11ef-9c91-5af422c59f17-4-9f1b-7023-2359-a868"
      },
      {
       "current": "ebed21d6-ec3c-11ef-9c91-5af422c59f17-7-c85d-9bac-68cd-296d-6e35-298a-7187",
       "next": "665baec4-ec3d-11ef-9c91-5af422c59f17-5-d5a6-e49c-2d01-379c-7f57",
       "previous": "f526a3cc-ec3b-11ef-9c91-5af422c59f17-5-9f1b-7023-2359-a868-1f4e"
      }
     ],
     "next": "665baec4-ec3d-11ef-9c91-5af422c59f17-6-d5a6-e49c-2d01-379c-7f57-4bbb",
     "previous": "f526a3cc-ec3b-11ef-9c91-5af422c59f17-6-9f1b-7023-2359-a868-1f4e-0c2d"
    },
    "pinnedOutputTabIndex": 0,
    "run_through_control": {
     "frozen": false,
     "read_only": false
    },
    "slideshow": {
     "slide_type": ""
    },
    "tags": []
   },
   "source": [
    "## ログインする (2)\n",
    "\n",
    "①「Ask me again at next login」を押下する。  \n"
   ]
  },
  {
   "cell_type": "code",
   "execution_count": null,
   "id": "7694ed01-c470-479b-afe1-1f69d758c878",
   "metadata": {
    "deletable": true,
    "lc_cell_meme": {
     "current": "665baec4-ec3d-11ef-9c91-5af422c59f17-7-d5a6-e49c-2d01-379c-7f57-4bbb-55e7",
     "execution_end_time": "2025-02-16T08:29:35.207Z",
     "history": [
      {
       "current": "665baec4-ec3d-11ef-9c91-5af422c59f17",
       "next": "d8e0d05a-ec38-11ef-9c91-5af422c59f17-1-e596",
       "previous": "ebed21d6-ec3c-11ef-9c91-5af422c59f17-1-c85d"
      },
      {
       "current": "665baec4-ec3d-11ef-9c91-5af422c59f17",
       "next": "a587600c-ec3d-11ef-9c91-5af422c59f17",
       "previous": "ebed21d6-ec3c-11ef-9c91-5af422c59f17-1-c85d"
      },
      {
       "current": "665baec4-ec3d-11ef-9c91-5af422c59f17-1-d5a6",
       "next": "d8e0d05a-ec38-11ef-9c91-5af422c59f17-1-e596",
       "previous": "ebed21d6-ec3c-11ef-9c91-5af422c59f17-1-c85d"
      },
      {
       "current": "665baec4-ec3d-11ef-9c91-5af422c59f17-1-d5a6",
       "next": "d8e0d05a-ec38-11ef-9c91-5af422c59f17-1-e596",
       "previous": "ebed21d6-ec3c-11ef-9c91-5af422c59f17-1-c85d"
      },
      {
       "current": "665baec4-ec3d-11ef-9c91-5af422c59f17-3-d5a6-e49c-2d01",
       "next": "97376a28-ec4d-11ef-9c91-5af422c59f17",
       "previous": "ebed21d6-ec3c-11ef-9c91-5af422c59f17-2-c85d-9bac"
      },
      {
       "current": "665baec4-ec3d-11ef-9c91-5af422c59f17-4-d5a6-e49c-2d01-379c",
       "next": "97376a28-ec4d-11ef-9c91-5af422c59f17-2-9015-796f",
       "previous": "ebed21d6-ec3c-11ef-9c91-5af422c59f17-4-c85d-9bac-68cd-296d"
      },
      {
       "current": "665baec4-ec3d-11ef-9c91-5af422c59f17-4-d5a6-e49c-2d01-379c",
       "next": "97376a28-ec4d-11ef-9c91-5af422c59f17-3-9015-796f-4e5b",
       "previous": "ebed21d6-ec3c-11ef-9c91-5af422c59f17-5-c85d-9bac-68cd-296d-6e35"
      },
      {
       "current": "665baec4-ec3d-11ef-9c91-5af422c59f17-4-d5a6-e49c-2d01-379c",
       "next": "97376a28-ec4d-11ef-9c91-5af422c59f17-3-9015-796f-4e5b",
       "previous": "ebed21d6-ec3c-11ef-9c91-5af422c59f17-5-c85d-9bac-68cd-296d-6e35"
      },
      {
       "current": "665baec4-ec3d-11ef-9c91-5af422c59f17-5-d5a6-e49c-2d01-379c-7f57",
       "next": "ebed21d6-ec3c-11ef-9c91-5af422c59f17-7-c85d-9bac-68cd-296d-6e35-6918-4b6d",
       "previous": "ebed21d6-ec3c-11ef-9c91-5af422c59f17-5-c85d-9bac-68cd-296d-6e35"
      },
      {
       "current": "665baec4-ec3d-11ef-9c91-5af422c59f17-6-d5a6-e49c-2d01-379c-7f57-4bbb",
       "next": "ebed21d6-ec3c-11ef-9c91-5af422c59f17-8-c85d-9bac-68cd-296d-6e35-6918-4b6d-a2d1",
       "previous": "ebed21d6-ec3c-11ef-9c91-5af422c59f17-6-c85d-9bac-68cd-296d-6e35-298a"
      }
     ],
     "next": "ebed21d6-ec3c-11ef-9c91-5af422c59f17-9-c85d-9bac-68cd-296d-6e35-6918-4b6d-a2d1-557a",
     "previous": "ebed21d6-ec3c-11ef-9c91-5af422c59f17-7-c85d-9bac-68cd-296d-6e35-298a-7187"
    },
    "pinnedOutputTabIndex": 0,
    "run_through_control": {
     "frozen": false,
     "read_only": false
    },
    "slideshow": {
     "slide_type": ""
    },
    "tags": []
   },
   "outputs": [],
   "source": "async def _step(page):\n    # サインインボタンをクリック\n    await page.locator('//button[@type = \"submit\"]').click()\n\n    if idp_name_1 is None or idp_name_1 == 'FakeCAS':\n        # メニューバーに「機関ストレージのクォータ」が表示されることを確認 - transition_timeout 秒以内に表示されることを期待\n        await expect(page.locator('//*[@href=\"/institutional_storage_quota_control/\"]')).to_be_enabled(timeout=transition_timeout)\n        return\n    # チェック「Ask me again at next login」が表示されることを確認 - 30秒以内に表示されることを期待\n    await expect(page.locator('#_shib_idp_doNotRememberConsent')).to_be_enabled(timeout=30000)\n\n    await page.locator('#_shib_idp_doNotRememberConsent').click()\n    await expect(page.locator('#_shib_idp_doNotRememberConsent')).to_be_checked()\n\n    # Acceptが有効\n    await expect(page.locator('//*[@name=\"_eventId_proceed\"]')).to_be_enabled()\n\nawait run_pw(_step)"
  },
  {
   "cell_type": "markdown",
   "id": "d0ca9f57-4389-40db-8473-fb9f47842b0d",
   "metadata": {
    "deletable": true,
    "editable": true,
    "lc_cell_meme": {
     "current": "ebed21d6-ec3c-11ef-9c91-5af422c59f17-10-c85d-9bac-68cd-296d-6e35-6918-4b6d-a2d1-557a-da6c",
     "history": [
      {
       "current": "ebed21d6-ec3c-11ef-9c91-5af422c59f17-1-c85d",
       "next": "d8e0d05a-ec38-11ef-9c91-5af422c59f17-1-e596",
       "previous": "f526a3cc-ec3b-11ef-9c91-5af422c59f17"
      },
      {
       "current": "ebed21d6-ec3c-11ef-9c91-5af422c59f17-2-c85d-9bac",
       "next": "665baec4-ec3d-11ef-9c91-5af422c59f17",
       "previous": "f526a3cc-ec3b-11ef-9c91-5af422c59f17"
      },
      {
       "current": "ebed21d6-ec3c-11ef-9c91-5af422c59f17-2-c85d-9bac",
       "next": "665baec4-ec3d-11ef-9c91-5af422c59f17",
       "previous": "f526a3cc-ec3b-11ef-9c91-5af422c59f17"
      },
      {
       "current": "ebed21d6-ec3c-11ef-9c91-5af422c59f17-4-c85d-9bac-68cd-296d",
       "next": "665baec4-ec3d-11ef-9c91-5af422c59f17-1-d5a6",
       "previous": "f526a3cc-ec3b-11ef-9c91-5af422c59f17-1-9f1b"
      },
      {
       "current": "ebed21d6-ec3c-11ef-9c91-5af422c59f17-6-c85d-9bac-68cd-296d-6e35-6918",
       "next": "665baec4-ec3d-11ef-9c91-5af422c59f17-3-d5a6-e49c-2d01",
       "previous": "f526a3cc-ec3b-11ef-9c91-5af422c59f17-3-9f1b-7023-2359"
      },
      {
       "current": "ebed21d6-ec3c-11ef-9c91-5af422c59f17-7-c85d-9bac-68cd-296d-6e35-6918-4b6d",
       "next": "665baec4-ec3d-11ef-9c91-5af422c59f17-5-d5a6-e49c-2d01-379c-0818",
       "previous": "97376a28-ec4d-11ef-9c91-5af422c59f17-3-9015-796f-4e5b"
      },
      {
       "current": "ebed21d6-ec3c-11ef-9c91-5af422c59f17-7-c85d-9bac-68cd-296d-6e35-6918-4b6d",
       "next": "665baec4-ec3d-11ef-9c91-5af422c59f17-5-d5a6-e49c-2d01-379c-0818",
       "previous": "97376a28-ec4d-11ef-9c91-5af422c59f17-3-9015-796f-4e5b"
      },
      {
       "current": "ebed21d6-ec3c-11ef-9c91-5af422c59f17-7-c85d-9bac-68cd-296d-6e35-6918-4b6d",
       "next": "97376a28-ec4d-11ef-9c91-5af422c59f17-3-9015-796f-4e5b",
       "previous": "665baec4-ec3d-11ef-9c91-5af422c59f17-4-d5a6-e49c-2d01-379c"
      },
      {
       "current": "ebed21d6-ec3c-11ef-9c91-5af422c59f17-7-c85d-9bac-68cd-296d-6e35-6918-4b6d",
       "next": "97376a28-ec4d-11ef-9c91-5af422c59f17-3-9015-796f-4e5b",
       "previous": "665baec4-ec3d-11ef-9c91-5af422c59f17-4-d5a6-e49c-2d01-379c"
      },
      {
       "current": "ebed21d6-ec3c-11ef-9c91-5af422c59f17-8-c85d-9bac-68cd-296d-6e35-6918-4b6d-a2d1",
       "next": "665baec4-ec3d-11ef-9c91-5af422c59f17-6-d5a6-e49c-2d01-379c-0818-3bb5",
       "previous": "665baec4-ec3d-11ef-9c91-5af422c59f17-4-d5a6-e49c-2d01-379c"
      },
      {
       "current": "ebed21d6-ec3c-11ef-9c91-5af422c59f17-9-c85d-9bac-68cd-296d-6e35-6918-4b6d-a2d1-557a",
       "next": "665baec4-ec3d-11ef-9c91-5af422c59f17-7-d5a6-e49c-2d01-379c-0818-3bb5-1f52",
       "previous": "665baec4-ec3d-11ef-9c91-5af422c59f17-5-d5a6-e49c-2d01-379c-7f57"
      }
     ],
     "next": "665baec4-ec3d-11ef-9c91-5af422c59f17-8-d5a6-e49c-2d01-379c-0818-3bb5-1f52-08e4",
     "previous": "665baec4-ec3d-11ef-9c91-5af422c59f17-6-d5a6-e49c-2d01-379c-7f57-4bbb"
    },
    "pinnedOutputTabIndex": 0,
    "run_through_control": {
     "frozen": false,
     "read_only": false
    },
    "slideshow": {
     "slide_type": ""
    },
    "tags": []
   },
   "source": [
    "## ログインする (3)\n",
    "\n",
    "①「Accept」を押下する。  \n"
   ]
  },
  {
   "cell_type": "code",
   "execution_count": null,
   "id": "fcb1ae8c-d848-44ec-8abd-1316691ad105",
   "metadata": {
    "deletable": true,
    "lc_cell_meme": {
     "current": "665baec4-ec3d-11ef-9c91-5af422c59f17-9-d5a6-e49c-2d01-379c-0818-3bb5-1f52-08e4-b86e",
     "execution_end_time": "2025-02-20T08:06:42.850Z",
     "history": [
      {
       "current": "665baec4-ec3d-11ef-9c91-5af422c59f17",
       "next": "d8e0d05a-ec38-11ef-9c91-5af422c59f17-1-e596",
       "previous": "ebed21d6-ec3c-11ef-9c91-5af422c59f17-1-c85d"
      },
      {
       "current": "665baec4-ec3d-11ef-9c91-5af422c59f17",
       "next": "a587600c-ec3d-11ef-9c91-5af422c59f17",
       "previous": "ebed21d6-ec3c-11ef-9c91-5af422c59f17-1-c85d"
      },
      {
       "current": "665baec4-ec3d-11ef-9c91-5af422c59f17-1-d5a6",
       "next": "d8e0d05a-ec38-11ef-9c91-5af422c59f17-1-e596",
       "previous": "ebed21d6-ec3c-11ef-9c91-5af422c59f17-1-c85d"
      },
      {
       "current": "665baec4-ec3d-11ef-9c91-5af422c59f17-1-d5a6",
       "next": "d8e0d05a-ec38-11ef-9c91-5af422c59f17-1-e596",
       "previous": "ebed21d6-ec3c-11ef-9c91-5af422c59f17-1-c85d"
      },
      {
       "current": "665baec4-ec3d-11ef-9c91-5af422c59f17-3-d5a6-e49c-2d01",
       "next": "97376a28-ec4d-11ef-9c91-5af422c59f17",
       "previous": "ebed21d6-ec3c-11ef-9c91-5af422c59f17-2-c85d-9bac"
      },
      {
       "current": "665baec4-ec3d-11ef-9c91-5af422c59f17-5-d5a6-e49c-2d01-379c-0818",
       "next": "97376a28-ec4d-11ef-9c91-5af422c59f17-2-9015-796f",
       "previous": "ebed21d6-ec3c-11ef-9c91-5af422c59f17-4-c85d-9bac-68cd-296d"
      },
      {
       "current": "665baec4-ec3d-11ef-9c91-5af422c59f17-5-d5a6-e49c-2d01-379c-0818",
       "next": "a423b020-ec4d-11ef-9c91-5af422c59f17-3-eac8-6748-b05a",
       "previous": "ebed21d6-ec3c-11ef-9c91-5af422c59f17-6-c85d-9bac-68cd-296d-6e35-6918"
      },
      {
       "current": "665baec4-ec3d-11ef-9c91-5af422c59f17-5-d5a6-e49c-2d01-379c-0818",
       "next": "a423b020-ec4d-11ef-9c91-5af422c59f17-3-eac8-6748-b05a",
       "previous": "ebed21d6-ec3c-11ef-9c91-5af422c59f17-6-c85d-9bac-68cd-296d-6e35-6918"
      },
      {
       "current": "665baec4-ec3d-11ef-9c91-5af422c59f17-6-d5a6-e49c-2d01-379c-0818-3bb5",
       "next": "a423b020-ec4d-11ef-9c91-5af422c59f17-3-eac8-6748-b05a",
       "previous": "97376a28-ec4d-11ef-9c91-5af422c59f17-3-9015-796f-4e5b"
      },
      {
       "current": "665baec4-ec3d-11ef-9c91-5af422c59f17-6-d5a6-e49c-2d01-379c-0818-3bb5",
       "next": "a423b020-ec4d-11ef-9c91-5af422c59f17-3-eac8-6748-b05a",
       "previous": "97376a28-ec4d-11ef-9c91-5af422c59f17-3-9015-796f-4e5b"
      },
      {
       "current": "665baec4-ec3d-11ef-9c91-5af422c59f17-6-d5a6-e49c-2d01-379c-0818-3bb5",
       "next": "97376a28-ec4d-11ef-9c91-5af422c59f17-3-9015-796f-4e5b",
       "previous": "ebed21d6-ec3c-11ef-9c91-5af422c59f17-7-c85d-9bac-68cd-296d-6e35-6918-4b6d"
      },
      {
       "current": "665baec4-ec3d-11ef-9c91-5af422c59f17-6-d5a6-e49c-2d01-379c-0818-3bb5",
       "next": "a423b020-ec4d-11ef-9c91-5af422c59f17-3-eac8-6748-b05a",
       "previous": "ebed21d6-ec3c-11ef-9c91-5af422c59f17-7-c85d-9bac-68cd-296d-6e35-6918-4b6d"
      },
      {
       "current": "665baec4-ec3d-11ef-9c91-5af422c59f17-6-d5a6-e49c-2d01-379c-0818-3bb5",
       "next": "4ca9dbf2-ec4e-11ef-9c91-5af422c59f17-4-24d4-f576-65b8-566f",
       "previous": "ebed21d6-ec3c-11ef-9c91-5af422c59f17-7-c85d-9bac-68cd-296d-6e35-6918-4b6d"
      },
      {
       "current": "665baec4-ec3d-11ef-9c91-5af422c59f17-6-d5a6-e49c-2d01-379c-0818-3bb5",
       "next": "56a5eef2-ec4e-11ef-9c91-5af422c59f17-3-f8e7-ff46-fb15",
       "previous": "ebed21d6-ec3c-11ef-9c91-5af422c59f17-7-c85d-9bac-68cd-296d-6e35-6918-4b6d"
      },
      {
       "current": "665baec4-ec3d-11ef-9c91-5af422c59f17-6-d5a6-e49c-2d01-379c-0818-3bb5",
       "next": "7f7d75e2-ec4f-11ef-9c91-5af422c59f17-4-6ffd-4b74-de0c-58fb",
       "previous": "ebed21d6-ec3c-11ef-9c91-5af422c59f17-7-c85d-9bac-68cd-296d-6e35-6918-4b6d"
      },
      {
       "current": "665baec4-ec3d-11ef-9c91-5af422c59f17-6-d5a6-e49c-2d01-379c-0818-3bb5",
       "next": "9aec140a-ec4f-11ef-9c91-5af422c59f17-3-3e34-7f37-41bb",
       "previous": "ebed21d6-ec3c-11ef-9c91-5af422c59f17-7-c85d-9bac-68cd-296d-6e35-6918-4b6d"
      },
      {
       "current": "665baec4-ec3d-11ef-9c91-5af422c59f17-6-d5a6-e49c-2d01-379c-0818-3bb5",
       "next": "abb0fd14-ec4f-11ef-9c91-5af422c59f17-4-da38-e7d9-ea08-c818",
       "previous": "ebed21d6-ec3c-11ef-9c91-5af422c59f17-7-c85d-9bac-68cd-296d-6e35-6918-4b6d"
      },
      {
       "current": "665baec4-ec3d-11ef-9c91-5af422c59f17-6-d5a6-e49c-2d01-379c-0818-3bb5",
       "next": "ccf7ad9c-ec4f-11ef-9c91-5af422c59f17-3-bb47-0aa4-f622",
       "previous": "ebed21d6-ec3c-11ef-9c91-5af422c59f17-7-c85d-9bac-68cd-296d-6e35-6918-4b6d"
      },
      {
       "current": "665baec4-ec3d-11ef-9c91-5af422c59f17-6-d5a6-e49c-2d01-379c-0818-3bb5",
       "next": "1c5300a2-ec51-11ef-9c91-5af422c59f17-4-ac63-c434-08af-41b9",
       "previous": "ebed21d6-ec3c-11ef-9c91-5af422c59f17-7-c85d-9bac-68cd-296d-6e35-6918-4b6d"
      },
      {
       "current": "665baec4-ec3d-11ef-9c91-5af422c59f17-6-d5a6-e49c-2d01-379c-0818-3bb5",
       "next": "5e8439fa-ec51-11ef-9c91-5af422c59f17-3-0cd2-16ca-e40c",
       "previous": "ebed21d6-ec3c-11ef-9c91-5af422c59f17-7-c85d-9bac-68cd-296d-6e35-6918-4b6d"
      },
      {
       "current": "665baec4-ec3d-11ef-9c91-5af422c59f17-6-d5a6-e49c-2d01-379c-0818-3bb5",
       "next": "0c64a81a-ec53-11ef-9c91-5af422c59f17-4-5b55-7bcf-3da8-2f19",
       "previous": "ebed21d6-ec3c-11ef-9c91-5af422c59f17-7-c85d-9bac-68cd-296d-6e35-6918-4b6d"
      },
      {
       "current": "665baec4-ec3d-11ef-9c91-5af422c59f17-6-d5a6-e49c-2d01-379c-0818-3bb5",
       "next": "20e57d96-ec53-11ef-9c91-5af422c59f17-3-ada4-eec2-2f0b",
       "previous": "ebed21d6-ec3c-11ef-9c91-5af422c59f17-7-c85d-9bac-68cd-296d-6e35-6918-4b6d"
      },
      {
       "current": "665baec4-ec3d-11ef-9c91-5af422c59f17-6-d5a6-e49c-2d01-379c-0818-3bb5",
       "next": "27096f26-ec52-11ef-9c91-5af422c59f17-4-a448-1e89-9de1-98aa",
       "previous": "ebed21d6-ec3c-11ef-9c91-5af422c59f17-7-c85d-9bac-68cd-296d-6e35-6918-4b6d"
      },
      {
       "current": "665baec4-ec3d-11ef-9c91-5af422c59f17-6-d5a6-e49c-2d01-379c-0818-3bb5",
       "next": "5ffb1c48-ec53-11ef-9c91-5af422c59f17-3-662f-da16-ccd0",
       "previous": "ebed21d6-ec3c-11ef-9c91-5af422c59f17-7-c85d-9bac-68cd-296d-6e35-6918-4b6d"
      },
      {
       "current": "665baec4-ec3d-11ef-9c91-5af422c59f17-6-d5a6-e49c-2d01-379c-0818-3bb5",
       "next": "a474110e-ec53-11ef-9c91-5af422c59f17-4-5f35-182e-cdc0-28f1",
       "previous": "ebed21d6-ec3c-11ef-9c91-5af422c59f17-7-c85d-9bac-68cd-296d-6e35-6918-4b6d"
      },
      {
       "current": "665baec4-ec3d-11ef-9c91-5af422c59f17-6-d5a6-e49c-2d01-379c-0818-3bb5",
       "next": "b23b1062-ec53-11ef-9c91-5af422c59f17-3-fb51-708f-b7de",
       "previous": "ebed21d6-ec3c-11ef-9c91-5af422c59f17-7-c85d-9bac-68cd-296d-6e35-6918-4b6d"
      },
      {
       "current": "665baec4-ec3d-11ef-9c91-5af422c59f17-7-d5a6-e49c-2d01-379c-0818-3bb5-1f52",
       "next": "775339b0-ec54-11ef-9c91-5af422c59f17-4-a9a3-5726-2c4d-0ba8",
       "previous": "ebed21d6-ec3c-11ef-9c91-5af422c59f17-7-c85d-9bac-68cd-296d-6e35-6918-4b6d"
      },
      {
       "current": "665baec4-ec3d-11ef-9c91-5af422c59f17-8-d5a6-e49c-2d01-379c-0818-3bb5-1f52-08e4",
       "next": "775339b0-ec54-11ef-9c91-5af422c59f17-5-a9a3-5726-2c4d-0ba8-df66",
       "previous": "ebed21d6-ec3c-11ef-9c91-5af422c59f17-8-c85d-9bac-68cd-296d-6e35-6918-4b6d-a2d1"
      }
     ],
     "next": "775339b0-ec54-11ef-9c91-5af422c59f17-6-a9a3-5726-2c4d-0ba8-df66-7f7c",
     "previous": "ebed21d6-ec3c-11ef-9c91-5af422c59f17-9-c85d-9bac-68cd-296d-6e35-6918-4b6d-a2d1-557a"
    },
    "pinnedOutputTabIndex": 0,
    "run_through_control": {
     "frozen": false,
     "read_only": false
    },
    "slideshow": {
     "slide_type": ""
    },
    "tags": []
   },
   "outputs": [],
   "source": "async def _step(page):\n    if idp_name_1 is None or idp_name_1 == 'FakeCAS':\n        return\n    # サインインボタンをクリック\n    await page.locator('//*[@name=\"_eventId_proceed\"]').click()\n\n    # メニューバーに「機関ストレージのクォータ」が表示されることを確認 - transition_timeout 秒以内に表示されることを期待\n    await expect(page.locator('//*[@href=\"/institutional_storage_quota_control/\"]')).to_be_enabled(timeout=transition_timeout)\n\nawait run_pw(_step)"
  },
  {
   "cell_type": "markdown",
   "id": "cdaf6ed4-f737-4e9e-99a4-1bcf6811aaa1",
   "metadata": {
    "deletable": true,
    "editable": true,
    "lc_cell_meme": {
     "current": "775339b0-ec54-11ef-9c91-5af422c59f17-7-a9a3-5726-2c4d-0ba8-df66-7f7c-7d0f",
     "execution_end_time": "2025-02-16T10:55:12.059Z",
     "history": [
      {
       "current": "775339b0-ec54-11ef-9c91-5af422c59f17-1-a9a3",
       "next": "95667ca6-ec53-11ef-9c91-5af422c59f17-1-86d3",
       "previous": "b23b1062-ec53-11ef-9c91-5af422c59f17"
      },
      {
       "current": "775339b0-ec54-11ef-9c91-5af422c59f17-3-a9a3-5726-2c4d",
       "next": "9e9d574e-ec54-11ef-9c91-5af422c59f17",
       "previous": "b23b1062-ec53-11ef-9c91-5af422c59f17"
      },
      {
       "current": "775339b0-ec54-11ef-9c91-5af422c59f17-4-a9a3-5726-2c4d-0ba8",
       "next": "9e9d574e-ec54-11ef-9c91-5af422c59f17-2-56bc-64b5",
       "previous": "b23b1062-ec53-11ef-9c91-5af422c59f17-2-fb51-708f"
      },
      {
       "current": "775339b0-ec54-11ef-9c91-5af422c59f17-4-a9a3-5726-2c4d-0ba8",
       "next": "9e9d574e-ec54-11ef-9c91-5af422c59f17-3-56bc-64b5-7fb6",
       "previous": "b23b1062-ec53-11ef-9c91-5af422c59f17-3-fb51-708f-b7de"
      },
      {
       "current": "775339b0-ec54-11ef-9c91-5af422c59f17-5-a9a3-5726-2c4d-0ba8-df66",
       "next": "9e9d574e-ec54-11ef-9c91-5af422c59f17-3-56bc-64b5-7fb6",
       "previous": "665baec4-ec3d-11ef-9c91-5af422c59f17-6-d5a6-e49c-2d01-379c-0818-3bb5"
      },
      {
       "current": "775339b0-ec54-11ef-9c91-5af422c59f17-6-a9a3-5726-2c4d-0ba8-df66-7f7c",
       "next": "9e9d574e-ec54-11ef-9c91-5af422c59f17-4-56bc-64b5-7fb6-cc23",
       "previous": "665baec4-ec3d-11ef-9c91-5af422c59f17-7-d5a6-e49c-2d01-379c-0818-3bb5-1f52"
      }
     ],
     "next": "9e9d574e-ec54-11ef-9c91-5af422c59f17-5-56bc-64b5-7fb6-cc23-28cd",
     "previous": "665baec4-ec3d-11ef-9c91-5af422c59f17-8-d5a6-e49c-2d01-379c-0818-3bb5-1f52-08e4"
    },
    "pinnedOutputTabIndex": 0,
    "run_through_control": {
     "frozen": false,
     "read_only": false
    }
   },
   "source": [
    "## ログアウト (1)\n",
    "\n",
    "①「アカウント」を押下する。  \n"
   ]
  },
  {
   "cell_type": "code",
   "execution_count": null,
   "id": "1ac4bf06-6004-4956-ab22-faafdc44eb55",
   "metadata": {
    "deletable": true,
    "lc_cell_meme": {
     "current": "9e9d574e-ec54-11ef-9c91-5af422c59f17-6-56bc-64b5-7fb6-cc23-28cd-3c2a",
     "execution_end_time": "2025-02-16T10:58:29.559Z",
     "history": [
      {
       "current": "9e9d574e-ec54-11ef-9c91-5af422c59f17-2-56bc-64b5",
       "next": "95667ca6-ec53-11ef-9c91-5af422c59f17-1-86d3",
       "previous": "775339b0-ec54-11ef-9c91-5af422c59f17-1-a9a3"
      },
      {
       "current": "9e9d574e-ec54-11ef-9c91-5af422c59f17-3-56bc-64b5-7fb6",
       "next": "95667ca6-ec53-11ef-9c91-5af422c59f17-3-86d3-f8cf-1481",
       "previous": "775339b0-ec54-11ef-9c91-5af422c59f17-3-a9a3-5726-2c4d"
      },
      {
       "current": "9e9d574e-ec54-11ef-9c91-5af422c59f17-3-56bc-64b5-7fb6",
       "next": "95667ca6-ec53-11ef-9c91-5af422c59f17-4-86d3-f8cf-1481-2e62",
       "previous": "775339b0-ec54-11ef-9c91-5af422c59f17-4-a9a3-5726-2c4d-0ba8"
      },
      {
       "current": "9e9d574e-ec54-11ef-9c91-5af422c59f17-3-56bc-64b5-7fb6",
       "next": "728300be-ec54-11ef-9c91-5af422c59f17-3-3e33-98da-aa83",
       "previous": "775339b0-ec54-11ef-9c91-5af422c59f17-4-a9a3-5726-2c4d-0ba8"
      },
      {
       "current": "9e9d574e-ec54-11ef-9c91-5af422c59f17-4-56bc-64b5-7fb6-cc23",
       "next": "1bec4746-ec55-11ef-9c91-5af422c59f17-4-a276-688b-8173-6058",
       "previous": "775339b0-ec54-11ef-9c91-5af422c59f17-4-a9a3-5726-2c4d-0ba8"
      },
      {
       "current": "9e9d574e-ec54-11ef-9c91-5af422c59f17-5-56bc-64b5-7fb6-cc23-28cd",
       "next": "1bec4746-ec55-11ef-9c91-5af422c59f17-5-a276-688b-8173-6058-5bb8",
       "previous": "775339b0-ec54-11ef-9c91-5af422c59f17-5-a9a3-5726-2c4d-0ba8-df66"
      }
     ],
     "next": "1bec4746-ec55-11ef-9c91-5af422c59f17-6-a276-688b-8173-6058-5bb8-1a85",
     "previous": "775339b0-ec54-11ef-9c91-5af422c59f17-6-a9a3-5726-2c4d-0ba8-df66-7f7c"
    },
    "pinnedOutputTabIndex": 0,
    "run_through_control": {
     "frozen": false,
     "read_only": false
    }
   },
   "outputs": [
    {
     "name": "stdout",
     "output_type": "stream",
     "text": [
      "Start epoch: 1754721853.345355 seconds\n"
     ]
    },
    {
     "data": {
      "image/png": "[encoded data removed]",
      "text/plain": [
       "<IPython.core.display.Image object>"
      ]
     },
     "execution_count": 24,
     "metadata": {},
     "output_type": "execute_result"
    }
   ],
   "source": [
    "import traceback\n",
    "\n",
    "async def _step(page):\n",
    "    try:\n",
    "        # 念のためツールバーを隠すボタンを押しておく - なければ無視\n",
    "        await page.locator('#djHideToolBarButton').click()\n",
    "    except:\n",
    "        print('Skipped hiding toolbar')\n",
    "        traceback.print_exc()\n",
    "\n",
    "    await page.locator('//*[@href=\"/account/logout/\"]').click()\n",
    "\n",
    "    await expect(page.locator('.login-logo')).to_be_visible(timeout=transition_timeout)\n",
    "\n",
    "await run_pw(_step)"
   ]
  },
  {
   "cell_type": "markdown",
   "id": "23c0996b-b1e9-459f-9225-b818b2862de5",
   "metadata": {
    "deletable": true,
    "editable": true,
    "lc_cell_meme": {
     "current": "1bec4746-ec55-11ef-9c91-5af422c59f17-7-a276-688b-8173-6058-5bb8-1a85-251a",
     "history": [
      {
       "current": "1bec4746-ec55-11ef-9c91-5af422c59f17-3-a276-688b-8173",
       "next": "1c0564b0-ec55-11ef-9c91-5af422c59f17",
       "previous": "728300be-ec54-11ef-9c91-5af422c59f17"
      },
      {
       "current": "1bec4746-ec55-11ef-9c91-5af422c59f17-4-a276-688b-8173-6058",
       "next": "1c0564b0-ec55-11ef-9c91-5af422c59f17-2-352b-5990",
       "previous": "728300be-ec54-11ef-9c91-5af422c59f17-2-3e33-98da"
      },
      {
       "current": "1bec4746-ec55-11ef-9c91-5af422c59f17-4-a276-688b-8173-6058",
       "next": "1c0564b0-ec55-11ef-9c91-5af422c59f17-3-352b-5990-9663",
       "previous": "728300be-ec54-11ef-9c91-5af422c59f17-3-3e33-98da-aa83"
      },
      {
       "current": "1bec4746-ec55-11ef-9c91-5af422c59f17-5-a276-688b-8173-6058-5bb8",
       "next": "1c0564b0-ec55-11ef-9c91-5af422c59f17-3-352b-5990-9663",
       "previous": "9e9d574e-ec54-11ef-9c91-5af422c59f17-3-56bc-64b5-7fb6"
      },
      {
       "current": "1bec4746-ec55-11ef-9c91-5af422c59f17-6-a276-688b-8173-6058-5bb8-1a85",
       "next": "1c0564b0-ec55-11ef-9c91-5af422c59f17-4-352b-5990-9663-38d4",
       "previous": "9e9d574e-ec54-11ef-9c91-5af422c59f17-4-56bc-64b5-7fb6-cc23"
      }
     ],
     "next": "1c0564b0-ec55-11ef-9c91-5af422c59f17-5-352b-5990-9663-38d4-5e00",
     "previous": "9e9d574e-ec54-11ef-9c91-5af422c59f17-5-56bc-64b5-7fb6-cc23-28cd"
    },
    "pinnedOutputTabIndex": 0,
    "run_through_control": {
     "frozen": false,
     "read_only": false
    }
   },
   "source": [
    "終了処理を実施。"
   ]
  },
  {
   "cell_type": "code",
   "execution_count": 15,
   "id": "80edbb39-8a1e-4540-a922-bf064f73251d",
   "metadata": {
    "deletable": true,
    "lc_cell_meme": {
     "current": "1c0564b0-ec55-11ef-9c91-5af422c59f17-6-352b-5990-9663-38d4-5e00-2924",
     "history": [
      {
       "current": "1c0564b0-ec55-11ef-9c91-5af422c59f17-2-352b-5990",
       "next": "6c9f5ec8-ec71-11ef-9c91-5af422c59f17",
       "previous": "1bec4746-ec55-11ef-9c91-5af422c59f17-1-a276"
      },
      {
       "current": "1c0564b0-ec55-11ef-9c91-5af422c59f17-3-352b-5990-9663",
       "next": "6c9f5ec8-ec71-11ef-9c91-5af422c59f17-2-4f07-60a8",
       "previous": "1bec4746-ec55-11ef-9c91-5af422c59f17-3-a276-688b-8173"
      },
      {
       "current": "1c0564b0-ec55-11ef-9c91-5af422c59f17-4-352b-5990-9663-38d4",
       "next": "6c9f5ec8-ec71-11ef-9c91-5af422c59f17-3-4f07-60a8-16e4",
       "previous": "1bec4746-ec55-11ef-9c91-5af422c59f17-4-a276-688b-8173-6058"
      },
      {
       "current": "1c0564b0-ec55-11ef-9c91-5af422c59f17-5-352b-5990-9663-38d4-5e00",
       "next": "6c9f5ec8-ec71-11ef-9c91-5af422c59f17-4-4f07-60a8-16e4-d13c",
       "previous": "1bec4746-ec55-11ef-9c91-5af422c59f17-5-a276-688b-8173-6058-5bb8"
      }
     ],
     "next": "6c9f5ec8-ec71-11ef-9c91-5af422c59f17-5-4f07-60a8-16e4-d13c-a2c1",
     "previous": "1bec4746-ec55-11ef-9c91-5af422c59f17-6-a276-688b-8173-6058-5bb8-1a85"
    },
    "pinnedOutputTabIndex": 0,
    "run_through_control": {
     "frozen": false,
     "read_only": false
    }
   },
   "outputs": [
    {
     "name": "stdout",
     "output_type": "stream",
     "text": [
      "Video: /tmp/tmpdv2cryjw/video-1.webm\n",
      "HAR: /tmp/tmpdv2cryjw/har.zip\n"
     ]
    }
   ],
   "source": [
    "await finish_pw_context()"
   ]
  },
  {
   "cell_type": "code",
   "execution_count": 16,
   "id": "7c50f5c0-e99e-43f6-9d79-ef6f767729c3",
   "metadata": {
    "deletable": true,
    "lc_cell_meme": {
     "current": "6c9f5ec8-ec71-11ef-9c91-5af422c59f17-6-4f07-60a8-16e4-d13c-a2c1-e730",
     "history": [
      {
       "current": "6c9f5ec8-ec71-11ef-9c91-5af422c59f17-5-4f07-60a8-16e4-d13c-a2c1",
       "next": "7514148e-1ce3-11f0-bede-d2c904970d7c",
       "previous": "1c0564b0-ec55-11ef-9c91-5af422c59f17-4-352b-5990-9663-38d4"
      }
     ],
     "next": "7514148e-1ce3-11f0-bede-d2c904970d7c-1-8264",
     "previous": "1c0564b0-ec55-11ef-9c91-5af422c59f17-5-352b-5990-9663-38d4-5e00"
    },
    "pinnedOutputTabIndex": 0,
    "run_through_control": {
     "frozen": false,
     "read_only": false
    }
   },
   "outputs": [],
   "source": [
    "!rm -fr {work_dir}"
   ]
  },
  {
   "cell_type": "code",
   "execution_count": null,
   "id": "4342a226-80c8-452a-908c-d58906558bdf",
   "metadata": {
    "deletable": true,
    "editable": true,
    "lc_cell_meme": {
     "current": "7514148e-1ce3-11f0-bede-d2c904970d7c-2-8264-b082",
     "previous": "6c9f5ec8-ec71-11ef-9c91-5af422c59f17-5-4f07-60a8-16e4-d13c-a2c1"
    },
    "run_through_control": {
     "frozen": false,
     "read_only": false
    }
   },
   "outputs": [],
   "source": []
  }
 ],
 "metadata": {
  "kernelspec": {
   "display_name": "3.11.5",
   "language": "python",
   "name": "python3"
  },
  "language_info": {
   "codemirror_mode": {
    "name": "ipython",
    "version": 3
   },
   "file_extension": ".py",
   "mimetype": "text/x-python",
   "name": "python",
   "nbconvert_exporter": "python",
   "pygments_lexer": "ipython3",
   "version": "3.11.5"
  },
  "lc_notebook_meme": {
   "current": "99ec3952-ec38-11ef-9c91-5af422c59f17",
   "lc_server_signature": {
    "current": {
     "notebook_dir": "/home/jovyan",
     "notebook_path": "/テスト手順-管理者機能-ログイン.ipynb",
     "signature_id": "1a2a1530-3284-11f0-89c3-c629d0b175e3"
    }
   }
  }
 },
 "nbformat": 4,
 "nbformat_minor": 5
}