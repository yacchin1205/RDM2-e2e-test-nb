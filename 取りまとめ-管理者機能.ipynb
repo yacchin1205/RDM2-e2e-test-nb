{
 "cells": [
  {
   "cell_type": "code",
   "execution_count": null,
   "id": "c11c1bc4-80b2-4ddd-aabc-5ce74e190463",
   "metadata": {
    "deletable": true,
    "editable": true,
    "lc_cell_meme": {
     "current": "f05363a8-0c25-11f0-98e9-5e0a5654d7bd-19-eb64-ff1f-e88c-2049-dbc6-59ee-8262-56d6-df6f-cd9d",
     "history": [
      {
       "current": "f05363a8-0c25-11f0-98e9-5e0a5654d7bd-1-a21c",
       "next": "8b5ce6a0-80d5-11ed-95e1-0242ac120004-8-490a-05fb-01ac-29c3-d4dc-cf29-6b30-a674",
       "previous": "8b5ce66e-80d5-11ed-95e1-0242ac120004-8-cb1b-42bc-e44d-4556-863e-9370-b5f5-e658"
      },
      {
       "current": "f05363a8-0c25-11f0-98e9-5e0a5654d7bd-1-a21c",
       "next": "8b5ce6a0-80d5-11ed-95e1-0242ac120004-8-490a-05fb-01ac-29c3-d4dc-cf29-6b30-a674",
       "previous": "8b5ce66e-80d5-11ed-95e1-0242ac120004-8-cb1b-42bc-e44d-4556-863e-9370-b5f5-e658"
      }
     ],
     "next": "9a6a67cc-0c28-11f0-98e9-5e0a5654d7bd-16-7040-afde-7319-156a-90d0-49e8-3d3f-b16e-7e3b-cdf1",
     "previous": "fddc6dfc-3a57-11f0-8d62-b672e09b3688"
    },
    "pinnedOutputTabIndex": 0,
    "run_through_control": {
     "frozen": false,
     "read_only": false
    },
    "slideshow": {
     "slide_type": ""
    },
    "tags": [
     "parameters"
    ]
   },
   "outputs": [],
   "source": "from datetime import datetime\nfrom getpass import getpass\n\nadmin_rdm_url = 'https://admin.staging.rdm.example.com/'\nrdm_url = 'https://staging.rdm.example.com/'\nidp_name_1 = 'GakuNin RDM IdP'\nidp_username_1 = None\nidp_password_1 = None\nidp_name_2 = 'GakuNin RDM IdP'\nidp_username_2 = None\nidp_password_2 = None\ndefault_result_path = None\nclose_on_fail = False\ntransition_timeout = 60000\nskip_failed_test = True\nexclude_notebooks = []\n\n# ログイン可否設定情報\nentitlement_text = 'GakuNinRDMAdmin:loginNG_VR'\n\n# 検索用ノード情報\nsearch_node_id = 'qe29y'\nsearch_node_title = 'TEST-METADATA-202502082306'\n\n# 検索用ユーザ情報\nsearch_user_name = 'Satoshi Yazawa'\nsearch_user_by_id = 'jbgaz'\nsearch_user_by_name = 'Satoshi'\nsearch_user_by_email = 'satoshiyazawa9@example.com'\n\n# 検索用Registration情報\nsearch_registration_id = 'y9cbd'\nsearch_registration_title = 'test-metadata'\n\n# アナウンスへの入力用データ\nannouncement_title = 'サンプルタイトル'\nannouncement_body = 'サンプル本文'\n\n# 機関選択時の組織\ntarget_organization = 'GakuNin RDM IdP'\n\n# 証跡管理対象\ntimestamp_project_name = 'TEST-A1-NIIストレージ-ファイル操作-20250426'\ntimestamp_start_date = '2025-04-15'\ntimestamp_end_date = '2025-05-01'\ntimestamp_user = 'Hidefumi Moritani (WF6HN)'\n\n# クォータ設定対象\nquota_user_id = 'jbgaz' # target_organizationに所属している必要あり"
  },
  {
   "cell_type": "code",
   "execution_count": null,
   "id": "98f29bed-b81f-4ebf-b015-4cd4853bb0be",
   "metadata": {
    "deletable": true,
    "lc_cell_meme": {
     "current": "9a6a67cc-0c28-11f0-98e9-5e0a5654d7bd-17-afde-7319-156a-90d0-49e8-3d3f-b16e-7e3b-cdf1-120f",
     "execution_end_time": "2025-04-02T06:25:57.346Z",
     "history": [
      {
       "current": "9a6a67cc-0c28-11f0-98e9-5e0a5654d7bd",
       "next": "4f1d97fa-0c26-11f0-98e9-5e0a5654d7bd-1-4202",
       "previous": "f05363a8-0c25-11f0-98e9-5e0a5654d7bd-2-a21c-c06b"
      },
      {
       "current": "9a6a67cc-0c28-11f0-98e9-5e0a5654d7bd",
       "next": "4f1d97fa-0c26-11f0-98e9-5e0a5654d7bd-1-4202",
       "previous": "a0674b68-0c3c-11f0-98e9-5e0a5654d7bd"
      },
      {
       "current": "9a6a67cc-0c28-11f0-98e9-5e0a5654d7bd",
       "next": "4f1d97fa-0c26-11f0-98e9-5e0a5654d7bd-1-4202",
       "previous": "f05363a8-0c25-11f0-98e9-5e0a5654d7bd-2-a21c-c06b"
      },
      {
       "current": "9a6a67cc-0c28-11f0-98e9-5e0a5654d7bd",
       "next": "4f1d97fa-0c26-11f0-98e9-5e0a5654d7bd-1-4202",
       "previous": "d95d6308-0c3c-11f0-98e9-5e0a5654d7bd"
      },
      {
       "current": "9a6a67cc-0c28-11f0-98e9-5e0a5654d7bd",
       "next": "4f1d97fa-0c26-11f0-98e9-5e0a5654d7bd-1-4202",
       "previous": "f05363a8-0c25-11f0-98e9-5e0a5654d7bd-2-a21c-c06b"
      },
      {
       "current": "9a6a67cc-0c28-11f0-98e9-5e0a5654d7bd",
       "next": "4f1d97fa-0c26-11f0-98e9-5e0a5654d7bd-1-4202",
       "previous": "a8832c1c-0c3d-11f0-98e9-5e0a5654d7bd"
      },
      {
       "current": "9a6a67cc-0c28-11f0-98e9-5e0a5654d7bd",
       "next": "4f1d97fa-0c26-11f0-98e9-5e0a5654d7bd-1-4202",
       "previous": "f05363a8-0c25-11f0-98e9-5e0a5654d7bd-2-a21c-c06b"
      },
      {
       "current": "9a6a67cc-0c28-11f0-98e9-5e0a5654d7bd",
       "next": "4f1d97fa-0c26-11f0-98e9-5e0a5654d7bd-1-4202",
       "previous": "e7480d50-0c3d-11f0-98e9-5e0a5654d7bd"
      },
      {
       "current": "9a6a67cc-0c28-11f0-98e9-5e0a5654d7bd-1-3215",
       "next": "4f1d97fa-0c26-11f0-98e9-5e0a5654d7bd-1-4202",
       "previous": "f05363a8-0c25-11f0-98e9-5e0a5654d7bd-2-a21c-c06b"
      },
      {
       "current": "9a6a67cc-0c28-11f0-98e9-5e0a5654d7bd-1-3215",
       "next": "4f1d97fa-0c26-11f0-98e9-5e0a5654d7bd-1-4202",
       "previous": "f05363a8-0c25-11f0-98e9-5e0a5654d7bd-2-a21c-c06b"
      },
      {
       "current": "9a6a67cc-0c28-11f0-98e9-5e0a5654d7bd-1-3215",
       "next": "4f1d97fa-0c26-11f0-98e9-5e0a5654d7bd-1-4202",
       "previous": "f05363a8-0c25-11f0-98e9-5e0a5654d7bd-2-a21c-c06b"
      },
      {
       "current": "9a6a67cc-0c28-11f0-98e9-5e0a5654d7bd-1-3215",
       "next": "4f1d97fa-0c26-11f0-98e9-5e0a5654d7bd-2-4202-aef0",
       "previous": "f05363a8-0c25-11f0-98e9-5e0a5654d7bd-3-a21c-c06b-54e5"
      },
      {
       "current": "9a6a67cc-0c28-11f0-98e9-5e0a5654d7bd-1-3215",
       "next": "4f1d97fa-0c26-11f0-98e9-5e0a5654d7bd-2-4202-aef0",
       "previous": "f93f2d46-0c46-11f0-98e9-5e0a5654d7bd"
      },
      {
       "current": "9a6a67cc-0c28-11f0-98e9-5e0a5654d7bd-1-3215",
       "next": "4f1d97fa-0c26-11f0-98e9-5e0a5654d7bd-2-4202-aef0",
       "previous": "f05363a8-0c25-11f0-98e9-5e0a5654d7bd-3-a21c-c06b-54e5"
      },
      {
       "current": "9a6a67cc-0c28-11f0-98e9-5e0a5654d7bd-1-3215",
       "next": "4f1d97fa-0c26-11f0-98e9-5e0a5654d7bd-2-4202-aef0",
       "previous": "3295fed4-0c48-11f0-98e9-5e0a5654d7bd"
      },
      {
       "current": "9a6a67cc-0c28-11f0-98e9-5e0a5654d7bd-1-3215",
       "next": "4f1d97fa-0c26-11f0-98e9-5e0a5654d7bd-2-4202-aef0",
       "previous": "f05363a8-0c25-11f0-98e9-5e0a5654d7bd-3-a21c-c06b-54e5"
      },
      {
       "current": "9a6a67cc-0c28-11f0-98e9-5e0a5654d7bd-1-3215",
       "next": "4f1d97fa-0c26-11f0-98e9-5e0a5654d7bd-2-4202-aef0",
       "previous": "6a84eba0-0c4a-11f0-98e9-5e0a5654d7bd"
      },
      {
       "current": "9a6a67cc-0c28-11f0-98e9-5e0a5654d7bd-1-3215",
       "next": "4f1d97fa-0c26-11f0-98e9-5e0a5654d7bd-2-4202-aef0",
       "previous": "f05363a8-0c25-11f0-98e9-5e0a5654d7bd-3-a21c-c06b-54e5"
      },
      {
       "current": "9a6a67cc-0c28-11f0-98e9-5e0a5654d7bd-1-3215",
       "next": "4f1d97fa-0c26-11f0-98e9-5e0a5654d7bd-2-4202-aef0",
       "previous": "6d481ba6-0c53-11f0-98e9-5e0a5654d7bd"
      },
      {
       "current": "9a6a67cc-0c28-11f0-98e9-5e0a5654d7bd-1-3215",
       "next": "4f1d97fa-0c26-11f0-98e9-5e0a5654d7bd-2-4202-aef0",
       "previous": "f05363a8-0c25-11f0-98e9-5e0a5654d7bd-3-a21c-c06b-54e5"
      },
      {
       "current": "9a6a67cc-0c28-11f0-98e9-5e0a5654d7bd-1-3215",
       "next": "4f1d97fa-0c26-11f0-98e9-5e0a5654d7bd-2-4202-aef0",
       "previous": "221c4f0a-0c56-11f0-98e9-5e0a5654d7bd"
      },
      {
       "current": "9a6a67cc-0c28-11f0-98e9-5e0a5654d7bd-1-3215",
       "next": "4f1d97fa-0c26-11f0-98e9-5e0a5654d7bd-2-4202-aef0",
       "previous": "f05363a8-0c25-11f0-98e9-5e0a5654d7bd-3-a21c-c06b-54e5"
      },
      {
       "current": "9a6a67cc-0c28-11f0-98e9-5e0a5654d7bd-1-3215",
       "next": "4f1d97fa-0c26-11f0-98e9-5e0a5654d7bd-2-4202-aef0",
       "previous": "19d7ea5a-0c5d-11f0-98e9-5e0a5654d7bd"
      },
      {
       "current": "9a6a67cc-0c28-11f0-98e9-5e0a5654d7bd-1-3215",
       "next": "4f1d97fa-0c26-11f0-98e9-5e0a5654d7bd-2-4202-aef0",
       "previous": "f05363a8-0c25-11f0-98e9-5e0a5654d7bd-3-a21c-c06b-54e5"
      },
      {
       "current": "9a6a67cc-0c28-11f0-98e9-5e0a5654d7bd-1-3215",
       "next": "4f1d97fa-0c26-11f0-98e9-5e0a5654d7bd-2-4202-aef0",
       "previous": "377594ca-0c6e-11f0-98e9-5e0a5654d7bd"
      },
      {
       "current": "9a6a67cc-0c28-11f0-98e9-5e0a5654d7bd-3-3215-63a8-9043",
       "next": "4f1d97fa-0c26-11f0-98e9-5e0a5654d7bd-2-4202-aef0",
       "previous": "f05363a8-0c25-11f0-98e9-5e0a5654d7bd-3-a21c-c06b-54e5"
      },
      {
       "current": "9a6a67cc-0c28-11f0-98e9-5e0a5654d7bd-4-3215-63a8-9043-4ba3",
       "next": "4f1d97fa-0c26-11f0-98e9-5e0a5654d7bd-4-4202-aef0-78b6-5218",
       "previous": "f05363a8-0c25-11f0-98e9-5e0a5654d7bd-5-a21c-c06b-54e5-e070-ec83"
      },
      {
       "current": "9a6a67cc-0c28-11f0-98e9-5e0a5654d7bd-7-3215-63a8-9043-4ba3-5193-3fce-7040",
       "next": "4f1d97fa-0c26-11f0-98e9-5e0a5654d7bd-5-4202-aef0-78b6-5218-939f",
       "previous": "f05363a8-0c25-11f0-98e9-5e0a5654d7bd-6-a21c-c06b-54e5-e070-ec83-fa46"
      },
      {
       "current": "9a6a67cc-0c28-11f0-98e9-5e0a5654d7bd-8-3215-63a8-9043-4ba3-5193-3fce-7040-afde",
       "next": "4f1d97fa-0c26-11f0-98e9-5e0a5654d7bd-8-4202-aef0-78b6-5218-939f-7c1f-36a3-561d",
       "previous": "f05363a8-0c25-11f0-98e9-5e0a5654d7bd-9-a21c-c06b-54e5-e070-ec83-fa46-c0e7-3185-bcb1"
      },
      {
       "current": "9a6a67cc-0c28-11f0-98e9-5e0a5654d7bd-11-63a8-9043-4ba3-5193-3fce-7040-afde-7319-156a-90d0",
       "next": "4f1d97fa-0c26-11f0-98e9-5e0a5654d7bd-9-4202-aef0-78b6-5218-939f-7c1f-36a3-561d-61b6",
       "previous": "f05363a8-0c25-11f0-98e9-5e0a5654d7bd-10-a21c-c06b-54e5-e070-ec83-fa46-c0e7-3185-bcb1-eb64"
      },
      {
       "current": "9a6a67cc-0c28-11f0-98e9-5e0a5654d7bd-12-9043-4ba3-5193-3fce-7040-afde-7319-156a-90d0-49e8",
       "next": "4f1d97fa-0c26-11f0-98e9-5e0a5654d7bd-12-78b6-5218-939f-7c1f-36a3-561d-61b6-8267-4a88-6342",
       "previous": "f05363a8-0c25-11f0-98e9-5e0a5654d7bd-13-e070-ec83-fa46-c0e7-3185-bcb1-eb64-ff1f-e88c-2049"
      },
      {
       "current": "9a6a67cc-0c28-11f0-98e9-5e0a5654d7bd-12-9043-4ba3-5193-3fce-7040-afde-7319-156a-90d0-49e8",
       "next": "4f1d97fa-0c26-11f0-98e9-5e0a5654d7bd-13-5218-939f-7c1f-36a3-561d-61b6-8267-4a88-6342-9019",
       "previous": "f05363a8-0c25-11f0-98e9-5e0a5654d7bd-14-ec83-fa46-c0e7-3185-bcb1-eb64-ff1f-e88c-2049-dbc6"
      },
      {
       "current": "9a6a67cc-0c28-11f0-98e9-5e0a5654d7bd-12-9043-4ba3-5193-3fce-7040-afde-7319-156a-90d0-49e8",
       "next": "4f1d97fa-0c26-11f0-98e9-5e0a5654d7bd-13-5218-939f-7c1f-36a3-561d-61b6-8267-4a88-6342-9019",
       "previous": "e3c02f3a-1e32-11f0-85e7-be8e2cbe8172"
      },
      {
       "current": "9a6a67cc-0c28-11f0-98e9-5e0a5654d7bd-13-4ba3-5193-3fce-7040-afde-7319-156a-90d0-49e8-3d3f",
       "next": "4f1d97fa-0c26-11f0-98e9-5e0a5654d7bd-13-5218-939f-7c1f-36a3-561d-61b6-8267-4a88-6342-9019",
       "previous": "f05363a8-0c25-11f0-98e9-5e0a5654d7bd-14-ec83-fa46-c0e7-3185-bcb1-eb64-ff1f-e88c-2049-dbc6"
      },
      {
       "current": "9a6a67cc-0c28-11f0-98e9-5e0a5654d7bd-14-5193-3fce-7040-afde-7319-156a-90d0-49e8-3d3f-b16e",
       "next": "4f1d97fa-0c26-11f0-98e9-5e0a5654d7bd-14-939f-7c1f-36a3-561d-61b6-8267-4a88-6342-9019-e18c",
       "previous": "f05363a8-0c25-11f0-98e9-5e0a5654d7bd-15-fa46-c0e7-3185-bcb1-eb64-ff1f-e88c-2049-dbc6-59ee"
      },
      {
       "current": "9a6a67cc-0c28-11f0-98e9-5e0a5654d7bd-16-7040-afde-7319-156a-90d0-49e8-3d3f-b16e-7e3b-cdf1",
       "next": "96b89aae-28bb-11f0-84de-32f9ed5d00a6-1-dfef",
       "previous": "f05363a8-0c25-11f0-98e9-5e0a5654d7bd-16-c0e7-3185-bcb1-eb64-ff1f-e88c-2049-dbc6-59ee-8262"
      }
     ],
     "next": "96b89aae-28bb-11f0-84de-32f9ed5d00a6-3-dfef-da2f-0369",
     "previous": "f05363a8-0c25-11f0-98e9-5e0a5654d7bd-18-bcb1-eb64-ff1f-e88c-2049-dbc6-59ee-8262-56d6-df6f"
    },
    "pinnedOutputTabIndex": 0,
    "run_through_control": {
     "frozen": false,
     "read_only": false
    },
    "slideshow": {
     "slide_type": ""
    },
    "tags": []
   },
   "outputs": [],
   "source": [
    "if idp_username_1 is None:\n",
    "    idp_username_1 = input(prompt=f'Username for {idp_name_1}')\n",
    "if idp_password_1 is None:\n",
    "    idp_password_1 = getpass(prompt=f'Password for {idp_username_1}@{idp_name_1}')\n",
    "(len(idp_username_1), len(idp_password_1))"
   ]
  },
  {
   "cell_type": "code",
   "execution_count": null,
   "id": "365c415e-84c5-4196-a2fe-523169d0a054",
   "metadata": {
    "deletable": true,
    "lc_cell_meme": {
     "current": "96b89aae-28bb-11f0-84de-32f9ed5d00a6-4-dfef-da2f-0369-dcc5",
     "execution_end_time": "2025-05-04T08:31:44.694Z",
     "history": [
      {
       "current": "96b89aae-28bb-11f0-84de-32f9ed5d00a6-1-dfef",
       "next": "99ec3cc2-ec38-11ef-9c91-5af422c59f17-11-682c-f7d0-d44f-ffe3-c5b8-c8dd-c8f0-00ac-7b30-aa79",
       "previous": "8a4ddeb8-ec71-11ef-9c91-5af422c59f17-10-1a86-2b97-4eb1-14f2-575c-87a8-a39d-ed65-0370-1f36"
      },
      {
       "current": "96b89aae-28bb-11f0-84de-32f9ed5d00a6-3-dfef-da2f-0369",
       "next": "4f1d97fa-0c26-11f0-98e9-5e0a5654d7bd-15-7c1f-36a3-561d-61b6-8267-4a88-6342-9019-e18c-905a",
       "previous": "9a6a67cc-0c28-11f0-98e9-5e0a5654d7bd-14-5193-3fce-7040-afde-7319-156a-90d0-49e8-3d3f-b16e"
      }
     ],
     "next": "4f1d97fa-0c26-11f0-98e9-5e0a5654d7bd-17-561d-61b6-8267-4a88-6342-9019-e18c-905a-a374-7aa2",
     "previous": "9a6a67cc-0c28-11f0-98e9-5e0a5654d7bd-16-7040-afde-7319-156a-90d0-49e8-3d3f-b16e-7e3b-cdf1"
    },
    "pinnedOutputTabIndex": 0,
    "run_through_control": {
     "frozen": false,
     "read_only": false
    }
   },
   "outputs": [],
   "source": [
    "if idp_username_2 is None:\n",
    "    idp_username_2 = input(prompt=f'Username for {idp_name_2}')\n",
    "if idp_password_2 is None:\n",
    "    idp_password_2 = getpass(prompt=f'Password for {idp_username_2}@{idp_name_2}')\n",
    "(len(idp_username_2), len(idp_password_2))"
   ]
  },
  {
   "cell_type": "code",
   "execution_count": null,
   "id": "97683f65-7f21-419d-8c40-28cca14c5f08",
   "metadata": {
    "deletable": true,
    "lc_cell_meme": {
     "current": "4f1d97fa-0c26-11f0-98e9-5e0a5654d7bd-18-61b6-8267-4a88-6342-9019-e18c-905a-a374-7aa2-233c",
     "execution_end_time": "2025-04-02T06:25:59.737Z",
     "history": [
      {
       "current": "4f1d97fa-0c26-11f0-98e9-5e0a5654d7bd-1-4202",
       "next": "8b5ce66e-80d5-11ed-95e1-0242ac120004-8-cb1b-42bc-e44d-4556-863e-9370-b5f5-e658",
       "previous": "f05363a8-0c25-11f0-98e9-5e0a5654d7bd-1-a21c"
      },
      {
       "current": "4f1d97fa-0c26-11f0-98e9-5e0a5654d7bd-1-4202",
       "next": "8b5ce66e-80d5-11ed-95e1-0242ac120004-9-cb1b-42bc-e44d-4556-863e-9370-b5f5-e658-7a0b",
       "previous": "f05363a8-0c25-11f0-98e9-5e0a5654d7bd-2-a21c-c06b"
      },
      {
       "current": "4f1d97fa-0c26-11f0-98e9-5e0a5654d7bd-2-4202-aef0",
       "next": "8b5ce66e-80d5-11ed-95e1-0242ac120004-9-cb1b-42bc-e44d-4556-863e-9370-b5f5-e658-7a0b",
       "previous": "9a6a67cc-0c28-11f0-98e9-5e0a5654d7bd"
      },
      {
       "current": "4f1d97fa-0c26-11f0-98e9-5e0a5654d7bd-2-4202-aef0",
       "next": "8b5ce66e-80d5-11ed-95e1-0242ac120004-9-cb1b-42bc-e44d-4556-863e-9370-b5f5-e658-7a0b",
       "previous": "9a6a67cc-0c28-11f0-98e9-5e0a5654d7bd"
      },
      {
       "current": "4f1d97fa-0c26-11f0-98e9-5e0a5654d7bd-2-4202-aef0",
       "next": "8b5ce66e-80d5-11ed-95e1-0242ac120004-9-cb1b-42bc-e44d-4556-863e-9370-b5f5-e658-7a0b",
       "previous": "9a6a67cc-0c28-11f0-98e9-5e0a5654d7bd"
      },
      {
       "current": "4f1d97fa-0c26-11f0-98e9-5e0a5654d7bd-2-4202-aef0",
       "next": "8b5ce66e-80d5-11ed-95e1-0242ac120004-10-cb1b-42bc-e44d-4556-863e-9370-b5f5-e658-7a0b-7f11",
       "previous": "9a6a67cc-0c28-11f0-98e9-5e0a5654d7bd-1-3215"
      },
      {
       "current": "4f1d97fa-0c26-11f0-98e9-5e0a5654d7bd-2-4202-aef0",
       "next": "a72e1754-0c48-11f0-98e9-5e0a5654d7bd",
       "previous": "9a6a67cc-0c28-11f0-98e9-5e0a5654d7bd-1-3215"
      },
      {
       "current": "4f1d97fa-0c26-11f0-98e9-5e0a5654d7bd-2-4202-aef0",
       "next": "c31532b8-0c48-11f0-98e9-5e0a5654d7bd",
       "previous": "9a6a67cc-0c28-11f0-98e9-5e0a5654d7bd-1-3215"
      },
      {
       "current": "4f1d97fa-0c26-11f0-98e9-5e0a5654d7bd-4-4202-aef0-78b6-5218",
       "next": "a72e1754-0c48-11f0-98e9-5e0a5654d7bd",
       "previous": "9a6a67cc-0c28-11f0-98e9-5e0a5654d7bd-1-3215"
      },
      {
       "current": "4f1d97fa-0c26-11f0-98e9-5e0a5654d7bd-4-4202-aef0-78b6-5218",
       "next": "a72e1754-0c48-11f0-98e9-5e0a5654d7bd-2-ce6c-01ad",
       "previous": "9a6a67cc-0c28-11f0-98e9-5e0a5654d7bd-3-3215-63a8-9043"
      },
      {
       "current": "4f1d97fa-0c26-11f0-98e9-5e0a5654d7bd-5-4202-aef0-78b6-5218-939f",
       "next": "8b5ce66e-80d5-11ed-95e1-0242ac120004-12-e44d-4556-863e-9370-b5f5-e658-7a0b-7f11-50c2-120c",
       "previous": "9a6a67cc-0c28-11f0-98e9-5e0a5654d7bd-3-3215-63a8-9043"
      },
      {
       "current": "4f1d97fa-0c26-11f0-98e9-5e0a5654d7bd-8-4202-aef0-78b6-5218-939f-7c1f-36a3-561d",
       "next": "8b5ce66e-80d5-11ed-95e1-0242ac120004-13-4556-863e-9370-b5f5-e658-7a0b-7f11-50c2-120c-62e9",
       "previous": "9a6a67cc-0c28-11f0-98e9-5e0a5654d7bd-4-3215-63a8-9043-4ba3"
      },
      {
       "current": "4f1d97fa-0c26-11f0-98e9-5e0a5654d7bd-9-4202-aef0-78b6-5218-939f-7c1f-36a3-561d-61b6",
       "next": "8b5ce66e-80d5-11ed-95e1-0242ac120004-16-b5f5-e658-7a0b-7f11-50c2-120c-62e9-f0ed-0032-2c57",
       "previous": "9a6a67cc-0c28-11f0-98e9-5e0a5654d7bd-7-3215-63a8-9043-4ba3-5193-3fce-7040"
      },
      {
       "current": "4f1d97fa-0c26-11f0-98e9-5e0a5654d7bd-12-78b6-5218-939f-7c1f-36a3-561d-61b6-8267-4a88-6342",
       "next": "8b5ce66e-80d5-11ed-95e1-0242ac120004-17-e658-7a0b-7f11-50c2-120c-62e9-f0ed-0032-2c57-2457",
       "previous": "9a6a67cc-0c28-11f0-98e9-5e0a5654d7bd-8-3215-63a8-9043-4ba3-5193-3fce-7040-afde"
      },
      {
       "current": "4f1d97fa-0c26-11f0-98e9-5e0a5654d7bd-12-78b6-5218-939f-7c1f-36a3-561d-61b6-8267-4a88-6342",
       "next": "8b5ce66e-80d5-11ed-95e1-0242ac120004-20-50c2-120c-62e9-f0ed-0032-2c57-2457-0051-5baf-1f28",
       "previous": "9a6a67cc-0c28-11f0-98e9-5e0a5654d7bd-11-63a8-9043-4ba3-5193-3fce-7040-afde-7319-156a-90d0"
      },
      {
       "current": "4f1d97fa-0c26-11f0-98e9-5e0a5654d7bd-12-78b6-5218-939f-7c1f-36a3-561d-61b6-8267-4a88-6342",
       "next": "8d3a646e-1d6a-11f0-bede-d2c904970d7c",
       "previous": "9a6a67cc-0c28-11f0-98e9-5e0a5654d7bd-11-63a8-9043-4ba3-5193-3fce-7040-afde-7319-156a-90d0"
      },
      {
       "current": "4f1d97fa-0c26-11f0-98e9-5e0a5654d7bd-13-5218-939f-7c1f-36a3-561d-61b6-8267-4a88-6342-9019",
       "next": "8b5ce66e-80d5-11ed-95e1-0242ac120004-20-50c2-120c-62e9-f0ed-0032-2c57-2457-0051-5baf-1f28",
       "previous": "9a6a67cc-0c28-11f0-98e9-5e0a5654d7bd-11-63a8-9043-4ba3-5193-3fce-7040-afde-7319-156a-90d0"
      },
      {
       "current": "4f1d97fa-0c26-11f0-98e9-5e0a5654d7bd-14-939f-7c1f-36a3-561d-61b6-8267-4a88-6342-9019-e18c",
       "next": "8b5ce66e-80d5-11ed-95e1-0242ac120004-21-120c-62e9-f0ed-0032-2c57-2457-0051-5baf-1f28-9078",
       "previous": "9a6a67cc-0c28-11f0-98e9-5e0a5654d7bd-12-9043-4ba3-5193-3fce-7040-afde-7319-156a-90d0-49e8"
      },
      {
       "current": "4f1d97fa-0c26-11f0-98e9-5e0a5654d7bd-15-7c1f-36a3-561d-61b6-8267-4a88-6342-9019-e18c-905a",
       "next": "8b5ce66e-80d5-11ed-95e1-0242ac120004-22-62e9-f0ed-0032-2c57-2457-0051-5baf-1f28-9078-3532",
       "previous": "9a6a67cc-0c28-11f0-98e9-5e0a5654d7bd-13-4ba3-5193-3fce-7040-afde-7319-156a-90d0-49e8-3d3f"
      },
      {
       "current": "4f1d97fa-0c26-11f0-98e9-5e0a5654d7bd-17-561d-61b6-8267-4a88-6342-9019-e18c-905a-a374-7aa2",
       "next": "8b5ce66e-80d5-11ed-95e1-0242ac120004-23-f0ed-0032-2c57-2457-0051-5baf-1f28-9078-3532-aece",
       "previous": "96b89aae-28bb-11f0-84de-32f9ed5d00a6-1-dfef"
      }
     ],
     "next": "8b5ce66e-80d5-11ed-95e1-0242ac120004-25-2c57-2457-0051-5baf-1f28-9078-3532-aece-f82e-2c29",
     "previous": "96b89aae-28bb-11f0-84de-32f9ed5d00a6-3-dfef-da2f-0369"
    },
    "pinnedOutputTabIndex": 0,
    "run_through_control": {
     "frozen": false,
     "read_only": false
    },
    "slideshow": {
     "slide_type": ""
    },
    "tags": []
   },
   "outputs": [],
   "source": [
    "import tempfile\n",
    "\n",
    "work_dir = tempfile.mkdtemp()\n",
    "if default_result_path is None:\n",
    "    default_result_path = work_dir\n",
    "work_dir"
   ]
  },
  {
   "cell_type": "markdown",
   "id": "5ad1e5b4-e544-43b9-9afa-b6fd7ece8584",
   "metadata": {
    "deletable": true,
    "editable": true,
    "lc_cell_meme": {
     "current": "8b5ce66e-80d5-11ed-95e1-0242ac120004-26-2457-0051-5baf-1f28-9078-3532-aece-f82e-2c29-a86d",
     "history": [
      {
       "current": "8b5ce66e-80d5-11ed-95e1-0242ac120004-1-cb1b",
       "next": "8b5ce6a0-80d5-11ed-95e1-0242ac120004",
       "previous": null
      },
      {
       "current": "8b5ce66e-80d5-11ed-95e1-0242ac120004-2-cb1b-42bc",
       "next": "8b5ce6a0-80d5-11ed-95e1-0242ac120004-1-490a",
       "previous": null
      },
      {
       "current": "8b5ce66e-80d5-11ed-95e1-0242ac120004-3-cb1b-42bc-e44d",
       "next": "8b5ce6a0-80d5-11ed-95e1-0242ac120004-2-490a-05fb",
       "previous": null
      },
      {
       "current": "8b5ce66e-80d5-11ed-95e1-0242ac120004-4-cb1b-42bc-e44d-4556",
       "next": "8b5ce6a0-80d5-11ed-95e1-0242ac120004-3-490a-05fb-01ac",
       "previous": null
      },
      {
       "current": "8b5ce66e-80d5-11ed-95e1-0242ac120004-5-cb1b-42bc-e44d-4556-863e",
       "next": "8b5ce6a0-80d5-11ed-95e1-0242ac120004-4-490a-05fb-01ac-29c3",
       "previous": null
      },
      {
       "current": "8b5ce66e-80d5-11ed-95e1-0242ac120004-6-cb1b-42bc-e44d-4556-863e-9370",
       "next": "8b5ce6a0-80d5-11ed-95e1-0242ac120004-5-490a-05fb-01ac-29c3-d4dc",
       "previous": null
      },
      {
       "current": "8b5ce66e-80d5-11ed-95e1-0242ac120004-7-cb1b-42bc-e44d-4556-863e-9370-b5f5",
       "next": "8b5ce6a0-80d5-11ed-95e1-0242ac120004-6-490a-05fb-01ac-29c3-d4dc-cf29",
       "previous": null
      },
      {
       "current": "8b5ce66e-80d5-11ed-95e1-0242ac120004-8-cb1b-42bc-e44d-4556-863e-9370-b5f5-e658",
       "next": "8b5ce6a0-80d5-11ed-95e1-0242ac120004-7-490a-05fb-01ac-29c3-d4dc-cf29-6b30",
       "previous": null
      },
      {
       "current": "8b5ce66e-80d5-11ed-95e1-0242ac120004-8-cb1b-42bc-e44d-4556-863e-9370-b5f5-e658",
       "next": "8b5ce6a0-80d5-11ed-95e1-0242ac120004-8-490a-05fb-01ac-29c3-d4dc-cf29-6b30-a674",
       "previous": "f05363a8-0c25-11f0-98e9-5e0a5654d7bd-1-a21c"
      },
      {
       "current": "8b5ce66e-80d5-11ed-95e1-0242ac120004-8-cb1b-42bc-e44d-4556-863e-9370-b5f5-e658",
       "next": "8b5ce6a0-80d5-11ed-95e1-0242ac120004-8-490a-05fb-01ac-29c3-d4dc-cf29-6b30-a674",
       "previous": "0c7d1c72-0c26-11f0-98e9-5e0a5654d7bd"
      },
      {
       "current": "8b5ce66e-80d5-11ed-95e1-0242ac120004-8-cb1b-42bc-e44d-4556-863e-9370-b5f5-e658",
       "next": "8b5ce6a0-80d5-11ed-95e1-0242ac120004-8-490a-05fb-01ac-29c3-d4dc-cf29-6b30-a674",
       "previous": "f05363a8-0c25-11f0-98e9-5e0a5654d7bd-1-a21c"
      },
      {
       "current": "8b5ce66e-80d5-11ed-95e1-0242ac120004-8-cb1b-42bc-e44d-4556-863e-9370-b5f5-e658",
       "next": "8b5ce6e6-80d5-11ed-95e1-0242ac120004-8-cf3f-b3ef-db35-57ad-2bcf-ffc2-105c-69a6",
       "previous": "f05363a8-0c25-11f0-98e9-5e0a5654d7bd-1-a21c"
      },
      {
       "current": "8b5ce66e-80d5-11ed-95e1-0242ac120004-8-cb1b-42bc-e44d-4556-863e-9370-b5f5-e658",
       "next": "8b5ce704-80d5-11ed-95e1-0242ac120004-8-134a-19fd-8302-4b9a-fe94-8416-c02c-3d66",
       "previous": "f05363a8-0c25-11f0-98e9-5e0a5654d7bd-1-a21c"
      },
      {
       "current": "8b5ce66e-80d5-11ed-95e1-0242ac120004-8-cb1b-42bc-e44d-4556-863e-9370-b5f5-e658",
       "next": "4a2d93ba-575c-11ee-879c-cee8484f477d-7-ce15-af72-2e99-2376-ed5c-8317-0981",
       "previous": "f05363a8-0c25-11f0-98e9-5e0a5654d7bd-1-a21c"
      },
      {
       "current": "8b5ce66e-80d5-11ed-95e1-0242ac120004-8-cb1b-42bc-e44d-4556-863e-9370-b5f5-e658",
       "next": "ac9f5680-9be1-11ef-bec6-b6d4434572e8-3-0c61-b7da-7291",
       "previous": "f05363a8-0c25-11f0-98e9-5e0a5654d7bd-1-a21c"
      },
      {
       "current": "8b5ce66e-80d5-11ed-95e1-0242ac120004-8-cb1b-42bc-e44d-4556-863e-9370-b5f5-e658",
       "next": "8b5ce722-80d5-11ed-95e1-0242ac120004-8-ba9b-f235-19a9-23b6-7145-b64a-6dfb-09dd",
       "previous": "f05363a8-0c25-11f0-98e9-5e0a5654d7bd-1-a21c"
      },
      {
       "current": "8b5ce66e-80d5-11ed-95e1-0242ac120004-8-cb1b-42bc-e44d-4556-863e-9370-b5f5-e658",
       "next": "8b5ce740-80d5-11ed-95e1-0242ac120004-9-2295-9f93-ce95-2df2-6ce8-e56d-28e9-7a4e-fd92",
       "previous": "f05363a8-0c25-11f0-98e9-5e0a5654d7bd-1-a21c"
      },
      {
       "current": "8b5ce66e-80d5-11ed-95e1-0242ac120004-9-cb1b-42bc-e44d-4556-863e-9370-b5f5-e658-7a0b",
       "next": "8b5ce740-80d5-11ed-95e1-0242ac120004-9-2295-9f93-ce95-2df2-6ce8-e56d-28e9-7a4e-fd92",
       "previous": "4f1d97fa-0c26-11f0-98e9-5e0a5654d7bd"
      },
      {
       "current": "8b5ce66e-80d5-11ed-95e1-0242ac120004-10-cb1b-42bc-e44d-4556-863e-9370-b5f5-e658-7a0b-7f11",
       "next": "8b5ce740-80d5-11ed-95e1-0242ac120004-10-2295-9f93-ce95-2df2-6ce8-e56d-28e9-7a4e-fd92-f25a",
       "previous": "4f1d97fa-0c26-11f0-98e9-5e0a5654d7bd-1-4202"
      },
      {
       "current": "8b5ce66e-80d5-11ed-95e1-0242ac120004-10-cb1b-42bc-e44d-4556-863e-9370-b5f5-e658-7a0b-7f11",
       "next": "8b5ce740-80d5-11ed-95e1-0242ac120004-10-2295-9f93-ce95-2df2-6ce8-e56d-28e9-7a4e-fd92-f25a",
       "previous": "4f1d97fa-0c26-11f0-98e9-5e0a5654d7bd-1-4202"
      },
      {
       "current": "8b5ce66e-80d5-11ed-95e1-0242ac120004-10-cb1b-42bc-e44d-4556-863e-9370-b5f5-e658-7a0b-7f11",
       "next": "8b5ce740-80d5-11ed-95e1-0242ac120004-10-2295-9f93-ce95-2df2-6ce8-e56d-28e9-7a4e-fd92-f25a",
       "previous": "4f1d97fa-0c26-11f0-98e9-5e0a5654d7bd-1-4202"
      },
      {
       "current": "8b5ce66e-80d5-11ed-95e1-0242ac120004-10-cb1b-42bc-e44d-4556-863e-9370-b5f5-e658-7a0b-7f11",
       "next": "8b5ce740-80d5-11ed-95e1-0242ac120004-11-9f93-ce95-2df2-6ce8-e56d-28e9-7a4e-fd92-f25a-44f7",
       "previous": "4f1d97fa-0c26-11f0-98e9-5e0a5654d7bd-2-4202-aef0"
      },
      {
       "current": "8b5ce66e-80d5-11ed-95e1-0242ac120004-10-cb1b-42bc-e44d-4556-863e-9370-b5f5-e658-7a0b-7f11",
       "next": "8b5ce740-80d5-11ed-95e1-0242ac120004-11-9f93-ce95-2df2-6ce8-e56d-28e9-7a4e-fd92-f25a-44f7",
       "previous": "a72e1754-0c48-11f0-98e9-5e0a5654d7bd"
      },
      {
       "current": "8b5ce66e-80d5-11ed-95e1-0242ac120004-10-cb1b-42bc-e44d-4556-863e-9370-b5f5-e658-7a0b-7f11",
       "next": "8b5ce740-80d5-11ed-95e1-0242ac120004-11-9f93-ce95-2df2-6ce8-e56d-28e9-7a4e-fd92-f25a-44f7",
       "previous": "3bd0c974-0c49-11f0-98e9-5e0a5654d7bd"
      },
      {
       "current": "8b5ce66e-80d5-11ed-95e1-0242ac120004-12-e44d-4556-863e-9370-b5f5-e658-7a0b-7f11-50c2-120c",
       "next": "8b5ce740-80d5-11ed-95e1-0242ac120004-11-9f93-ce95-2df2-6ce8-e56d-28e9-7a4e-fd92-f25a-44f7",
       "previous": "a72e1754-0c48-11f0-98e9-5e0a5654d7bd"
      },
      {
       "current": "8b5ce66e-80d5-11ed-95e1-0242ac120004-12-e44d-4556-863e-9370-b5f5-e658-7a0b-7f11-50c2-120c",
       "next": "7258c5f6-0f8b-11f0-935e-6e323efef16c",
       "previous": "4f1d97fa-0c26-11f0-98e9-5e0a5654d7bd-4-4202-aef0-78b6-5218"
      },
      {
       "current": "8b5ce66e-80d5-11ed-95e1-0242ac120004-12-e44d-4556-863e-9370-b5f5-e658-7a0b-7f11-50c2-120c",
       "next": "8af0ac06-0c6f-11f0-98e9-5e0a5654d7bd-3-c85a-d8bf-8dea",
       "previous": "4f1d97fa-0c26-11f0-98e9-5e0a5654d7bd-4-4202-aef0-78b6-5218"
      },
      {
       "current": "8b5ce66e-80d5-11ed-95e1-0242ac120004-13-4556-863e-9370-b5f5-e658-7a0b-7f11-50c2-120c-62e9",
       "next": "b4bb8a0a-0f8b-11f0-935e-6e323efef16c",
       "previous": "4f1d97fa-0c26-11f0-98e9-5e0a5654d7bd-4-4202-aef0-78b6-5218"
      },
      {
       "current": "8b5ce66e-80d5-11ed-95e1-0242ac120004-16-b5f5-e658-7a0b-7f11-50c2-120c-62e9-f0ed-0032-2c57",
       "next": "b4bb8a0a-0f8b-11f0-935e-6e323efef16c-1-b213",
       "previous": "4f1d97fa-0c26-11f0-98e9-5e0a5654d7bd-5-4202-aef0-78b6-5218-939f"
      },
      {
       "current": "8b5ce66e-80d5-11ed-95e1-0242ac120004-17-e658-7a0b-7f11-50c2-120c-62e9-f0ed-0032-2c57-2457",
       "next": "b4bb8a0a-0f8b-11f0-935e-6e323efef16c-4-b213-00e1-d99a-d244",
       "previous": "4f1d97fa-0c26-11f0-98e9-5e0a5654d7bd-8-4202-aef0-78b6-5218-939f-7c1f-36a3-561d"
      },
      {
       "current": "8b5ce66e-80d5-11ed-95e1-0242ac120004-20-50c2-120c-62e9-f0ed-0032-2c57-2457-0051-5baf-1f28",
       "next": "b4bb8a0a-0f8b-11f0-935e-6e323efef16c-5-b213-00e1-d99a-d244-936b",
       "previous": "4f1d97fa-0c26-11f0-98e9-5e0a5654d7bd-9-4202-aef0-78b6-5218-939f-7c1f-36a3-561d-61b6"
      },
      {
       "current": "8b5ce66e-80d5-11ed-95e1-0242ac120004-20-50c2-120c-62e9-f0ed-0032-2c57-2457-0051-5baf-1f28",
       "next": "8af0ac06-0c6f-11f0-98e9-5e0a5654d7bd-11-d8bf-8dea-ced2-b6ea-11de-e027-5ced-0939-f364-6bc7",
       "previous": "4f1d97fa-0c26-11f0-98e9-5e0a5654d7bd-12-78b6-5218-939f-7c1f-36a3-561d-61b6-8267-4a88-6342"
      },
      {
       "current": "8b5ce66e-80d5-11ed-95e1-0242ac120004-20-50c2-120c-62e9-f0ed-0032-2c57-2457-0051-5baf-1f28",
       "next": "8af0ac06-0c6f-11f0-98e9-5e0a5654d7bd-11-d8bf-8dea-ced2-b6ea-11de-e027-5ced-0939-f364-6bc7",
       "previous": "8d3a646e-1d6a-11f0-bede-d2c904970d7c"
      },
      {
       "current": "8b5ce66e-80d5-11ed-95e1-0242ac120004-21-120c-62e9-f0ed-0032-2c57-2457-0051-5baf-1f28-9078",
       "next": "8af0ac06-0c6f-11f0-98e9-5e0a5654d7bd-11-d8bf-8dea-ced2-b6ea-11de-e027-5ced-0939-f364-6bc7",
       "previous": "4f1d97fa-0c26-11f0-98e9-5e0a5654d7bd-12-78b6-5218-939f-7c1f-36a3-561d-61b6-8267-4a88-6342"
      },
      {
       "current": "8b5ce66e-80d5-11ed-95e1-0242ac120004-22-62e9-f0ed-0032-2c57-2457-0051-5baf-1f28-9078-3532",
       "next": "8af0ac06-0c6f-11f0-98e9-5e0a5654d7bd-12-8dea-ced2-b6ea-11de-e027-5ced-0939-f364-6bc7-8089",
       "previous": "4f1d97fa-0c26-11f0-98e9-5e0a5654d7bd-13-5218-939f-7c1f-36a3-561d-61b6-8267-4a88-6342-9019"
      },
      {
       "current": "8b5ce66e-80d5-11ed-95e1-0242ac120004-23-f0ed-0032-2c57-2457-0051-5baf-1f28-9078-3532-aece",
       "next": "8af0ac06-0c6f-11f0-98e9-5e0a5654d7bd-13-ced2-b6ea-11de-e027-5ced-0939-f364-6bc7-8089-ecfc",
       "previous": "4f1d97fa-0c26-11f0-98e9-5e0a5654d7bd-14-939f-7c1f-36a3-561d-61b6-8267-4a88-6342-9019-e18c"
      },
      {
       "current": "8b5ce66e-80d5-11ed-95e1-0242ac120004-25-2c57-2457-0051-5baf-1f28-9078-3532-aece-f82e-2c29",
       "next": "8af0ac06-0c6f-11f0-98e9-5e0a5654d7bd-14-b6ea-11de-e027-5ced-0939-f364-6bc7-8089-ecfc-1d11",
       "previous": "4f1d97fa-0c26-11f0-98e9-5e0a5654d7bd-15-7c1f-36a3-561d-61b6-8267-4a88-6342-9019-e18c-905a"
      }
     ],
     "next": "8af0ac06-0c6f-11f0-98e9-5e0a5654d7bd-16-e027-5ced-0939-f364-6bc7-8089-ecfc-1d11-abae-5439",
     "previous": "4f1d97fa-0c26-11f0-98e9-5e0a5654d7bd-17-561d-61b6-8267-4a88-6342-9019-e18c-905a-a374-7aa2"
    },
    "pinnedOutputTabIndex": 0,
    "run_through_control": {
     "frozen": false,
     "read_only": false
    },
    "slideshow": {
     "slide_type": ""
    },
    "tags": []
   },
   "source": [
    "# GakuNinRDM 総合テスト [管理者機能]\n",
    "\n",
    "- サブシステム名: ログイン\n",
    "- ページ/アドオン: トップページ\n",
    "- 機能分類: ストレージ制御確認\n",
    "- シナリオ名: *\n",
    "- 用意するテストデータ: URL一覧、アカウント(既存ユーザー1: GRDM)"
   ]
  },
  {
   "cell_type": "code",
   "execution_count": null,
   "id": "4d89a6c3-cb47-4206-b2ce-5527260dd3e9",
   "metadata": {
    "deletable": true,
    "lc_cell_meme": {
     "current": "8af0ac06-0c6f-11f0-98e9-5e0a5654d7bd-17-5ced-0939-f364-6bc7-8089-ecfc-1d11-abae-5439-6052",
     "execution_end_time": "2025-04-02T06:31:11.748Z",
     "history": [
      {
       "current": "8af0ac06-0c6f-11f0-98e9-5e0a5654d7bd",
       "next": "fc1e9000-ecda-11ef-b381-0242ac120006-8-ad5a-1453-986a-418b-269a-3f21-466e-058e",
       "previous": "8b87efd0-f991-11ef-a92d-0242ac120006-5-ccde-2dab-8cb6-87a2-145c"
      },
      {
       "current": "8af0ac06-0c6f-11f0-98e9-5e0a5654d7bd-1-c85a",
       "next": "c9853da6-0c6f-11f0-98e9-5e0a5654d7bd",
       "previous": "8b87efd0-f991-11ef-a92d-0242ac120006-5-ccde-2dab-8cb6-87a2-145c"
      },
      {
       "current": "8af0ac06-0c6f-11f0-98e9-5e0a5654d7bd-3-c85a-d8bf-8dea",
       "next": "c9853da6-0c6f-11f0-98e9-5e0a5654d7bd-1-f3a3",
       "previous": "8b87efd0-f991-11ef-a92d-0242ac120006-6-ccde-2dab-8cb6-87a2-145c-a1d6"
      },
      {
       "current": "8af0ac06-0c6f-11f0-98e9-5e0a5654d7bd-3-c85a-d8bf-8dea",
       "next": "7258c5f6-0f8b-11f0-935e-6e323efef16c",
       "previous": "8b5ce66e-80d5-11ed-95e1-0242ac120004-12-e44d-4556-863e-9370-b5f5-e658-7a0b-7f11-50c2-120c"
      },
      {
       "current": "8af0ac06-0c6f-11f0-98e9-5e0a5654d7bd-3-c85a-d8bf-8dea",
       "next": "7258c5f6-0f8b-11f0-935e-6e323efef16c",
       "previous": "b4bb8a0a-0f8b-11f0-935e-6e323efef16c"
      },
      {
       "current": "8af0ac06-0c6f-11f0-98e9-5e0a5654d7bd-3-c85a-d8bf-8dea",
       "next": "e49811c6-0f8b-11f0-935e-6e323efef16c",
       "previous": "b4bb8a0a-0f8b-11f0-935e-6e323efef16c"
      },
      {
       "current": "8af0ac06-0c6f-11f0-98e9-5e0a5654d7bd-3-c85a-d8bf-8dea",
       "next": "9954a6fc-0c70-11f0-98e9-5e0a5654d7bd-3-f4b2-32da-b588",
       "previous": "b4bb8a0a-0f8b-11f0-935e-6e323efef16c"
      },
      {
       "current": "8af0ac06-0c6f-11f0-98e9-5e0a5654d7bd-3-c85a-d8bf-8dea",
       "next": "9954a6fc-0c70-11f0-98e9-5e0a5654d7bd-3-f4b2-32da-b588",
       "previous": "b4bb8a0a-0f8b-11f0-935e-6e323efef16c"
      },
      {
       "current": "8af0ac06-0c6f-11f0-98e9-5e0a5654d7bd-3-c85a-d8bf-8dea",
       "next": "3e836c18-0c75-11f0-b991-feb16f56f93e-3-b008-e8d0-3f9b",
       "previous": "b4bb8a0a-0f8b-11f0-935e-6e323efef16c"
      },
      {
       "current": "8af0ac06-0c6f-11f0-98e9-5e0a5654d7bd-3-c85a-d8bf-8dea",
       "next": "1945ee16-0f8c-11f0-935e-6e323efef16c",
       "previous": "b4bb8a0a-0f8b-11f0-935e-6e323efef16c"
      },
      {
       "current": "8af0ac06-0c6f-11f0-98e9-5e0a5654d7bd-3-c85a-d8bf-8dea",
       "next": "1945ee16-0f8c-11f0-935e-6e323efef16c",
       "previous": "b4bb8a0a-0f8b-11f0-935e-6e323efef16c"
      },
      {
       "current": "8af0ac06-0c6f-11f0-98e9-5e0a5654d7bd-4-c85a-d8bf-8dea-ced2",
       "next": "1945ee16-0f8c-11f0-935e-6e323efef16c-1-2c1c",
       "previous": "b4bb8a0a-0f8b-11f0-935e-6e323efef16c"
      },
      {
       "current": "8af0ac06-0c6f-11f0-98e9-5e0a5654d7bd-7-c85a-d8bf-8dea-ced2-b6ea-11de-e027",
       "next": "1945ee16-0f8c-11f0-935e-6e323efef16c-2-2c1c-4f08",
       "previous": "b4bb8a0a-0f8b-11f0-935e-6e323efef16c-1-b213"
      },
      {
       "current": "8af0ac06-0c6f-11f0-98e9-5e0a5654d7bd-7-c85a-d8bf-8dea-ced2-b6ea-11de-e027",
       "next": "e4ebb1f2-191b-11f0-ad36-668cb6ddd6b0",
       "previous": "b4bb8a0a-0f8b-11f0-935e-6e323efef16c-4-b213-00e1-d99a-d244"
      },
      {
       "current": "8af0ac06-0c6f-11f0-98e9-5e0a5654d7bd-8-c85a-d8bf-8dea-ced2-b6ea-11de-e027-5ced",
       "next": "1945ee16-0f8c-11f0-935e-6e323efef16c-5-2c1c-4f08-40b5-cf6e-9e08",
       "previous": "b4bb8a0a-0f8b-11f0-935e-6e323efef16c-4-b213-00e1-d99a-d244"
      },
      {
       "current": "8af0ac06-0c6f-11f0-98e9-5e0a5654d7bd-11-d8bf-8dea-ced2-b6ea-11de-e027-5ced-0939-f364-6bc7",
       "next": "1945ee16-0f8c-11f0-935e-6e323efef16c-6-2c1c-4f08-40b5-cf6e-9e08-8d48",
       "previous": "b4bb8a0a-0f8b-11f0-935e-6e323efef16c-5-b213-00e1-d99a-d244-936b"
      },
      {
       "current": "8af0ac06-0c6f-11f0-98e9-5e0a5654d7bd-12-8dea-ced2-b6ea-11de-e027-5ced-0939-f364-6bc7-8089",
       "next": "1945ee16-0f8c-11f0-935e-6e323efef16c-9-2c1c-4f08-40b5-cf6e-9e08-8d48-f057-5c33-0344",
       "previous": "8b5ce66e-80d5-11ed-95e1-0242ac120004-20-50c2-120c-62e9-f0ed-0032-2c57-2457-0051-5baf-1f28"
      },
      {
       "current": "8af0ac06-0c6f-11f0-98e9-5e0a5654d7bd-13-ced2-b6ea-11de-e027-5ced-0939-f364-6bc7-8089-ecfc",
       "next": "1945ee16-0f8c-11f0-935e-6e323efef16c-10-2c1c-4f08-40b5-cf6e-9e08-8d48-f057-5c33-0344-b44c",
       "previous": "8b5ce66e-80d5-11ed-95e1-0242ac120004-21-120c-62e9-f0ed-0032-2c57-2457-0051-5baf-1f28-9078"
      },
      {
       "current": "8af0ac06-0c6f-11f0-98e9-5e0a5654d7bd-14-b6ea-11de-e027-5ced-0939-f364-6bc7-8089-ecfc-1d11",
       "next": "1945ee16-0f8c-11f0-935e-6e323efef16c-11-4f08-40b5-cf6e-9e08-8d48-f057-5c33-0344-b44c-bcd6",
       "previous": "8b5ce66e-80d5-11ed-95e1-0242ac120004-22-62e9-f0ed-0032-2c57-2457-0051-5baf-1f28-9078-3532"
      },
      {
       "current": "8af0ac06-0c6f-11f0-98e9-5e0a5654d7bd-16-e027-5ced-0939-f364-6bc7-8089-ecfc-1d11-abae-5439",
       "next": "1945ee16-0f8c-11f0-935e-6e323efef16c-12-40b5-cf6e-9e08-8d48-f057-5c33-0344-b44c-bcd6-1c71",
       "previous": "8b5ce66e-80d5-11ed-95e1-0242ac120004-23-f0ed-0032-2c57-2457-0051-5baf-1f28-9078-3532-aece"
      }
     ],
     "next": "1945ee16-0f8c-11f0-935e-6e323efef16c-14-9e08-8d48-f057-5c33-0344-b44c-bcd6-1c71-709f-d8b6",
     "previous": "8b5ce66e-80d5-11ed-95e1-0242ac120004-25-2c57-2457-0051-5baf-1f28-9078-3532-aece-f82e-2c29"
    },
    "pinnedOutputTabIndex": 0,
    "run_through_control": {
     "frozen": false,
     "read_only": false
    }
   },
   "outputs": [],
   "source": "from datetime import datetime\nimport os\nimport papermill as pm\nimport traceback\nfrom scripts.papermillHelpers import gen_run_notebook\n\ndef make_result_dir(base_path):\n    result_dir = os.path.join(base_path, 'notebooks')\n    os.makedirs(result_dir, exist_ok=True)\n    return result_dir\n\nresult_dir = make_result_dir(default_result_path)\n\nrun_notebook = gen_run_notebook(\n    result_dir,\n    transition_timeout,\n    dict(\n        admin_rdm_url=admin_rdm_url,\n        rdm_url=rdm_url,\n        idp_name_1=idp_name_1,\n        idp_username_1=idp_username_1,\n        idp_password_1=idp_password_1,\n    ),\n    skip_failed_test,\n    exclude_notebooks,\n)\n\nresult_notebooks = []\nresult_dir"
  },
  {
   "cell_type": "markdown",
   "id": "1c11ee02-6af0-4719-a05b-0b5abd3b88ff",
   "metadata": {
    "deletable": true,
    "editable": true,
    "lc_cell_meme": {
     "current": "1945ee16-0f8c-11f0-935e-6e323efef16c-15-8d48-f057-5c33-0344-b44c-bcd6-1c71-709f-d8b6-a892",
     "history": [
      {
       "current": "1945ee16-0f8c-11f0-935e-6e323efef16c-2-2c1c-4f08",
       "next": "3e836c18-0c75-11f0-b991-feb16f56f93e-3-b008-e8d0-3f9b",
       "previous": "8af0ac06-0c6f-11f0-98e9-5e0a5654d7bd-3-c85a-d8bf-8dea"
      },
      {
       "current": "1945ee16-0f8c-11f0-935e-6e323efef16c-5-2c1c-4f08-40b5-cf6e-9e08",
       "next": "3e836c18-0c75-11f0-b991-feb16f56f93e-4-b008-e8d0-3f9b-d91b",
       "previous": "8af0ac06-0c6f-11f0-98e9-5e0a5654d7bd-4-c85a-d8bf-8dea-ced2"
      },
      {
       "current": "1945ee16-0f8c-11f0-935e-6e323efef16c-5-2c1c-4f08-40b5-cf6e-9e08",
       "next": "3e836c18-0c75-11f0-b991-feb16f56f93e-7-b008-e8d0-3f9b-d91b-9971-7510-3c5e",
       "previous": "e4ebb1f2-191b-11f0-ad36-668cb6ddd6b0"
      },
      {
       "current": "1945ee16-0f8c-11f0-935e-6e323efef16c-6-2c1c-4f08-40b5-cf6e-9e08-8d48",
       "next": "3e836c18-0c75-11f0-b991-feb16f56f93e-7-b008-e8d0-3f9b-d91b-9971-7510-3c5e",
       "previous": "8af0ac06-0c6f-11f0-98e9-5e0a5654d7bd-7-c85a-d8bf-8dea-ced2-b6ea-11de-e027"
      },
      {
       "current": "1945ee16-0f8c-11f0-935e-6e323efef16c-9-2c1c-4f08-40b5-cf6e-9e08-8d48-f057-5c33-0344",
       "next": "3e836c18-0c75-11f0-b991-feb16f56f93e-8-b008-e8d0-3f9b-d91b-9971-7510-3c5e-1a25",
       "previous": "8af0ac06-0c6f-11f0-98e9-5e0a5654d7bd-8-c85a-d8bf-8dea-ced2-b6ea-11de-e027-5ced"
      },
      {
       "current": "1945ee16-0f8c-11f0-935e-6e323efef16c-10-2c1c-4f08-40b5-cf6e-9e08-8d48-f057-5c33-0344-b44c",
       "next": "3e836c18-0c75-11f0-b991-feb16f56f93e-11-e8d0-3f9b-d91b-9971-7510-3c5e-1a25-8534-be8d-1f5b",
       "previous": "8af0ac06-0c6f-11f0-98e9-5e0a5654d7bd-11-d8bf-8dea-ced2-b6ea-11de-e027-5ced-0939-f364-6bc7"
      },
      {
       "current": "1945ee16-0f8c-11f0-935e-6e323efef16c-11-4f08-40b5-cf6e-9e08-8d48-f057-5c33-0344-b44c-bcd6",
       "next": "3e836c18-0c75-11f0-b991-feb16f56f93e-12-3f9b-d91b-9971-7510-3c5e-1a25-8534-be8d-1f5b-7cd4",
       "previous": "8af0ac06-0c6f-11f0-98e9-5e0a5654d7bd-12-8dea-ced2-b6ea-11de-e027-5ced-0939-f364-6bc7-8089"
      },
      {
       "current": "1945ee16-0f8c-11f0-935e-6e323efef16c-12-40b5-cf6e-9e08-8d48-f057-5c33-0344-b44c-bcd6-1c71",
       "next": "3e836c18-0c75-11f0-b991-feb16f56f93e-13-d91b-9971-7510-3c5e-1a25-8534-be8d-1f5b-7cd4-4eeb",
       "previous": "8af0ac06-0c6f-11f0-98e9-5e0a5654d7bd-13-ced2-b6ea-11de-e027-5ced-0939-f364-6bc7-8089-ecfc"
      },
      {
       "current": "1945ee16-0f8c-11f0-935e-6e323efef16c-14-9e08-8d48-f057-5c33-0344-b44c-bcd6-1c71-709f-d8b6",
       "next": "3e836c18-0c75-11f0-b991-feb16f56f93e-14-9971-7510-3c5e-1a25-8534-be8d-1f5b-7cd4-4eeb-18a6",
       "previous": "8af0ac06-0c6f-11f0-98e9-5e0a5654d7bd-14-b6ea-11de-e027-5ced-0939-f364-6bc7-8089-ecfc-1d11"
      }
     ],
     "next": "3e836c18-0c75-11f0-b991-feb16f56f93e-16-3c5e-1a25-8534-be8d-1f5b-7cd4-4eeb-18a6-9e60-2780",
     "previous": "8af0ac06-0c6f-11f0-98e9-5e0a5654d7bd-16-e027-5ced-0939-f364-6bc7-8089-ecfc-1d11-abae-5439"
    },
    "pinnedOutputTabIndex": 0,
    "run_through_control": {
     "frozen": false,
     "read_only": false
    }
   },
   "source": [
    "## 「未ログイン」テストの実施\n",
    "\n",
    "テスト「テスト手順-管理者機能-未ログイン」を実施する。"
   ]
  },
  {
   "cell_type": "code",
   "execution_count": null,
   "id": "be8b1fd4-9f61-44e4-bea5-2d84e6419b16",
   "metadata": {
    "deletable": true,
    "lc_cell_meme": {
     "current": "3e836c18-0c75-11f0-b991-feb16f56f93e-17-1a25-8534-be8d-1f5b-7cd4-4eeb-18a6-9e60-2780-a545",
     "execution_end_time": "2025-04-02T06:35:23.473Z",
     "history": [
      {
       "current": "3e836c18-0c75-11f0-b991-feb16f56f93e",
       "next": "ce8c187e-f991-11ef-a92d-0242ac120006-6-964d-161e-73da-b120-ac56-8b98",
       "previous": "9954a6fc-0c70-11f0-98e9-5e0a5654d7bd-1-f4b2"
      },
      {
       "current": "3e836c18-0c75-11f0-b991-feb16f56f93e",
       "next": "522aa0f0-0c76-11f0-b991-feb16f56f93e",
       "previous": "9954a6fc-0c70-11f0-98e9-5e0a5654d7bd-1-f4b2"
      },
      {
       "current": "3e836c18-0c75-11f0-b991-feb16f56f93e-2-b008-e8d0",
       "next": "ce8c187e-f991-11ef-a92d-0242ac120006-6-964d-161e-73da-b120-ac56-8b98",
       "previous": "9954a6fc-0c70-11f0-98e9-5e0a5654d7bd-1-f4b2"
      },
      {
       "current": "3e836c18-0c75-11f0-b991-feb16f56f93e-3-b008-e8d0-3f9b",
       "next": "e49811c6-0f8b-11f0-935e-6e323efef16c",
       "previous": "9954a6fc-0c70-11f0-98e9-5e0a5654d7bd-3-f4b2-32da-b588"
      },
      {
       "current": "3e836c18-0c75-11f0-b991-feb16f56f93e-3-b008-e8d0-3f9b",
       "next": "e49811c6-0f8b-11f0-935e-6e323efef16c",
       "previous": "9954a6fc-0c70-11f0-98e9-5e0a5654d7bd-3-f4b2-32da-b588"
      },
      {
       "current": "3e836c18-0c75-11f0-b991-feb16f56f93e-3-b008-e8d0-3f9b",
       "next": "9954a6fc-0c70-11f0-98e9-5e0a5654d7bd-3-f4b2-32da-b588",
       "previous": "8af0ac06-0c6f-11f0-98e9-5e0a5654d7bd-3-c85a-d8bf-8dea"
      },
      {
       "current": "3e836c18-0c75-11f0-b991-feb16f56f93e-3-b008-e8d0-3f9b",
       "next": "9954a6fc-0c70-11f0-98e9-5e0a5654d7bd-3-f4b2-32da-b588",
       "previous": "1945ee16-0f8c-11f0-935e-6e323efef16c"
      },
      {
       "current": "3e836c18-0c75-11f0-b991-feb16f56f93e-3-b008-e8d0-3f9b",
       "next": "9954a6fc-0c70-11f0-98e9-5e0a5654d7bd-3-f4b2-32da-b588",
       "previous": "1945ee16-0f8c-11f0-935e-6e323efef16c"
      },
      {
       "current": "3e836c18-0c75-11f0-b991-feb16f56f93e-3-b008-e8d0-3f9b",
       "next": "9954a6fc-0c70-11f0-98e9-5e0a5654d7bd-3-f4b2-32da-b588",
       "previous": "1945ee16-0f8c-11f0-935e-6e323efef16c-1-2c1c"
      },
      {
       "current": "3e836c18-0c75-11f0-b991-feb16f56f93e-3-b008-e8d0-3f9b",
       "next": "5111a470-0f8c-11f0-935e-6e323efef16c",
       "previous": "1945ee16-0f8c-11f0-935e-6e323efef16c-1-2c1c"
      },
      {
       "current": "3e836c18-0c75-11f0-b991-feb16f56f93e-3-b008-e8d0-3f9b",
       "next": "5111a470-0f8c-11f0-935e-6e323efef16c",
       "previous": "1945ee16-0f8c-11f0-935e-6e323efef16c-1-2c1c"
      },
      {
       "current": "3e836c18-0c75-11f0-b991-feb16f56f93e-4-b008-e8d0-3f9b-d91b",
       "next": "5111a470-0f8c-11f0-935e-6e323efef16c-1-cde4",
       "previous": "1945ee16-0f8c-11f0-935e-6e323efef16c-1-2c1c"
      },
      {
       "current": "3e836c18-0c75-11f0-b991-feb16f56f93e-7-b008-e8d0-3f9b-d91b-9971-7510-3c5e",
       "next": "5111a470-0f8c-11f0-935e-6e323efef16c-2-cde4-2f90",
       "previous": "1945ee16-0f8c-11f0-935e-6e323efef16c-2-2c1c-4f08"
      },
      {
       "current": "3e836c18-0c75-11f0-b991-feb16f56f93e-8-b008-e8d0-3f9b-d91b-9971-7510-3c5e-1a25",
       "next": "5111a470-0f8c-11f0-935e-6e323efef16c-5-cde4-2f90-b5a2-f6e5-88d7",
       "previous": "1945ee16-0f8c-11f0-935e-6e323efef16c-5-2c1c-4f08-40b5-cf6e-9e08"
      },
      {
       "current": "3e836c18-0c75-11f0-b991-feb16f56f93e-11-e8d0-3f9b-d91b-9971-7510-3c5e-1a25-8534-be8d-1f5b",
       "next": "5111a470-0f8c-11f0-935e-6e323efef16c-6-cde4-2f90-b5a2-f6e5-88d7-521b",
       "previous": "1945ee16-0f8c-11f0-935e-6e323efef16c-6-2c1c-4f08-40b5-cf6e-9e08-8d48"
      },
      {
       "current": "3e836c18-0c75-11f0-b991-feb16f56f93e-11-e8d0-3f9b-d91b-9971-7510-3c5e-1a25-8534-be8d-1f5b",
       "next": "5111a470-0f8c-11f0-935e-6e323efef16c-9-cde4-2f90-b5a2-f6e5-88d7-521b-9af2-6a60-a5f5",
       "previous": "1945ee16-0f8c-11f0-935e-6e323efef16c-9-2c1c-4f08-40b5-cf6e-9e08-8d48-f057-5c33-0344"
      },
      {
       "current": "3e836c18-0c75-11f0-b991-feb16f56f93e-11-e8d0-3f9b-d91b-9971-7510-3c5e-1a25-8534-be8d-1f5b",
       "next": "9954a6fc-0c70-11f0-98e9-5e0a5654d7bd-11-32da-b588-2530-2362-ef25-d28e-b01d-99fe-df5d-298e",
       "previous": "1945ee16-0f8c-11f0-935e-6e323efef16c-9-2c1c-4f08-40b5-cf6e-9e08-8d48-f057-5c33-0344"
      },
      {
       "current": "3e836c18-0c75-11f0-b991-feb16f56f93e-11-e8d0-3f9b-d91b-9971-7510-3c5e-1a25-8534-be8d-1f5b",
       "next": "5111a470-0f8c-11f0-935e-6e323efef16c-10-cde4-bd15-47f7-4a43-6e0c-4f72-5d03-228c-c238-5828",
       "previous": "1945ee16-0f8c-11f0-935e-6e323efef16c-9-2c1c-4f08-40b5-cf6e-9e08-8d48-f057-5c33-0344"
      },
      {
       "current": "3e836c18-0c75-11f0-b991-feb16f56f93e-11-e8d0-3f9b-d91b-9971-7510-3c5e-1a25-8534-be8d-1f5b",
       "next": "9954a6fc-0c70-11f0-98e9-5e0a5654d7bd-12-b588-2ea3-c289-53e5-31c4-7b04-2eff-2c6e-2ac3-dfdd",
       "previous": "1945ee16-0f8c-11f0-935e-6e323efef16c-9-2c1c-4f08-40b5-cf6e-9e08-8d48-f057-5c33-0344"
      },
      {
       "current": "3e836c18-0c75-11f0-b991-feb16f56f93e-11-e8d0-3f9b-d91b-9971-7510-3c5e-1a25-8534-be8d-1f5b",
       "next": "49f48492-1c24-11f0-baf6-eaf1011eb67f-4-e4e3-bf8a-77f2-a8ed",
       "previous": "1945ee16-0f8c-11f0-935e-6e323efef16c-9-2c1c-4f08-40b5-cf6e-9e08-8d48-f057-5c33-0344"
      },
      {
       "current": "3e836c18-0c75-11f0-b991-feb16f56f93e-12-3f9b-d91b-9971-7510-3c5e-1a25-8534-be8d-1f5b-7cd4",
       "next": "1945ee16-0f8c-11f0-935e-6e323efef16c-10-2c1c-4f08-40b5-cf6e-9e08-8d48-f057-5c33-0344-c656",
       "previous": "1945ee16-0f8c-11f0-935e-6e323efef16c-9-2c1c-4f08-40b5-cf6e-9e08-8d48-f057-5c33-0344"
      },
      {
       "current": "3e836c18-0c75-11f0-b991-feb16f56f93e-13-d91b-9971-7510-3c5e-1a25-8534-be8d-1f5b-7cd4-4eeb",
       "next": "1945ee16-0f8c-11f0-935e-6e323efef16c-11-4f08-40b5-cf6e-9e08-8d48-f057-5c33-0344-c656-6746",
       "previous": "1945ee16-0f8c-11f0-935e-6e323efef16c-10-2c1c-4f08-40b5-cf6e-9e08-8d48-f057-5c33-0344-b44c"
      },
      {
       "current": "3e836c18-0c75-11f0-b991-feb16f56f93e-14-9971-7510-3c5e-1a25-8534-be8d-1f5b-7cd4-4eeb-18a6",
       "next": "1945ee16-0f8c-11f0-935e-6e323efef16c-12-40b5-cf6e-9e08-8d48-f057-5c33-0344-c656-6746-5c3f",
       "previous": "1945ee16-0f8c-11f0-935e-6e323efef16c-11-4f08-40b5-cf6e-9e08-8d48-f057-5c33-0344-b44c-bcd6"
      },
      {
       "current": "3e836c18-0c75-11f0-b991-feb16f56f93e-16-3c5e-1a25-8534-be8d-1f5b-7cd4-4eeb-18a6-9e60-2780",
       "next": "1945ee16-0f8c-11f0-935e-6e323efef16c-13-cf6e-9e08-8d48-f057-5c33-0344-c656-6746-5c3f-d5e8",
       "previous": "1945ee16-0f8c-11f0-935e-6e323efef16c-12-40b5-cf6e-9e08-8d48-f057-5c33-0344-b44c-bcd6-1c71"
      }
     ],
     "next": "1945ee16-0f8c-11f0-935e-6e323efef16c-15-8d48-f057-5c33-0344-c656-6746-5c3f-d5e8-0082-6ee6",
     "previous": "1945ee16-0f8c-11f0-935e-6e323efef16c-14-9e08-8d48-f057-5c33-0344-b44c-bcd6-1c71-709f-d8b6"
    },
    "pinnedOutputTabIndex": 0,
    "run_through_control": {
     "frozen": false,
     "read_only": false
    }
   },
   "outputs": [],
   "source": [
    "if idp_name_1 is not None:\n",
    "    result_notebooks.append(run_notebook('テスト手順-管理者機能-未ログイン.ipynb'))\n",
    "result_notebooks"
   ]
  },
  {
   "cell_type": "markdown",
   "id": "9e3d0810-cfe6-438a-a9ab-29f29d513f28",
   "metadata": {
    "deletable": true,
    "editable": true,
    "lc_cell_meme": {
     "current": "1945ee16-0f8c-11f0-935e-6e323efef16c-16-f057-5c33-0344-c656-6746-5c3f-d5e8-0082-6ee6-65ec",
     "history": [
      {
       "current": "1945ee16-0f8c-11f0-935e-6e323efef16c-2-2c1c-4f08",
       "next": "3e836c18-0c75-11f0-b991-feb16f56f93e-3-b008-e8d0-3f9b",
       "previous": "8af0ac06-0c6f-11f0-98e9-5e0a5654d7bd-3-c85a-d8bf-8dea"
      },
      {
       "current": "1945ee16-0f8c-11f0-935e-6e323efef16c-5-2c1c-4f08-40b5-cf6e-9e08",
       "next": "3e836c18-0c75-11f0-b991-feb16f56f93e-4-b008-e8d0-3f9b-d91b",
       "previous": "8af0ac06-0c6f-11f0-98e9-5e0a5654d7bd-4-c85a-d8bf-8dea-ced2"
      },
      {
       "current": "1945ee16-0f8c-11f0-935e-6e323efef16c-5-2c1c-4f08-40b5-cf6e-9e08",
       "next": "3e836c18-0c75-11f0-b991-feb16f56f93e-7-b008-e8d0-3f9b-d91b-9971-7510-3c5e",
       "previous": "e4ebb1f2-191b-11f0-ad36-668cb6ddd6b0"
      },
      {
       "current": "1945ee16-0f8c-11f0-935e-6e323efef16c-6-2c1c-4f08-40b5-cf6e-9e08-8d48",
       "next": "3e836c18-0c75-11f0-b991-feb16f56f93e-7-b008-e8d0-3f9b-d91b-9971-7510-3c5e",
       "previous": "8af0ac06-0c6f-11f0-98e9-5e0a5654d7bd-7-c85a-d8bf-8dea-ced2-b6ea-11de-e027"
      },
      {
       "current": "1945ee16-0f8c-11f0-935e-6e323efef16c-9-2c1c-4f08-40b5-cf6e-9e08-8d48-f057-5c33-0344",
       "next": "3e836c18-0c75-11f0-b991-feb16f56f93e-8-b008-e8d0-3f9b-d91b-9971-7510-3c5e-1a25",
       "previous": "8af0ac06-0c6f-11f0-98e9-5e0a5654d7bd-8-c85a-d8bf-8dea-ced2-b6ea-11de-e027-5ced"
      },
      {
       "current": "1945ee16-0f8c-11f0-935e-6e323efef16c-10-2c1c-4f08-40b5-cf6e-9e08-8d48-f057-5c33-0344-c656",
       "next": "3e836c18-0c75-11f0-b991-feb16f56f93e-11-e8d0-3f9b-d91b-9971-7510-3c5e-1a25-8534-be8d-1f5b",
       "previous": "8af0ac06-0c6f-11f0-98e9-5e0a5654d7bd-11-d8bf-8dea-ced2-b6ea-11de-e027-5ced-0939-f364-6bc7"
      },
      {
       "current": "1945ee16-0f8c-11f0-935e-6e323efef16c-11-4f08-40b5-cf6e-9e08-8d48-f057-5c33-0344-c656-6746",
       "next": "3e836c18-0c75-11f0-b991-feb16f56f93e-12-3f9b-d91b-9971-7510-3c5e-1a25-8534-be8d-1f5b-f63a",
       "previous": "3e836c18-0c75-11f0-b991-feb16f56f93e-11-e8d0-3f9b-d91b-9971-7510-3c5e-1a25-8534-be8d-1f5b"
      },
      {
       "current": "1945ee16-0f8c-11f0-935e-6e323efef16c-12-40b5-cf6e-9e08-8d48-f057-5c33-0344-c656-6746-5c3f",
       "next": "3e836c18-0c75-11f0-b991-feb16f56f93e-13-d91b-9971-7510-3c5e-1a25-8534-be8d-1f5b-f63a-eb91",
       "previous": "3e836c18-0c75-11f0-b991-feb16f56f93e-12-3f9b-d91b-9971-7510-3c5e-1a25-8534-be8d-1f5b-7cd4"
      },
      {
       "current": "1945ee16-0f8c-11f0-935e-6e323efef16c-13-cf6e-9e08-8d48-f057-5c33-0344-c656-6746-5c3f-d5e8",
       "next": "3e836c18-0c75-11f0-b991-feb16f56f93e-14-9971-7510-3c5e-1a25-8534-be8d-1f5b-f63a-eb91-96ca",
       "previous": "3e836c18-0c75-11f0-b991-feb16f56f93e-13-d91b-9971-7510-3c5e-1a25-8534-be8d-1f5b-7cd4-4eeb"
      },
      {
       "current": "1945ee16-0f8c-11f0-935e-6e323efef16c-15-8d48-f057-5c33-0344-c656-6746-5c3f-d5e8-0082-6ee6",
       "next": "3e836c18-0c75-11f0-b991-feb16f56f93e-15-7510-3c5e-1a25-8534-be8d-1f5b-f63a-eb91-96ca-fe2f",
       "previous": "3e836c18-0c75-11f0-b991-feb16f56f93e-14-9971-7510-3c5e-1a25-8534-be8d-1f5b-7cd4-4eeb-18a6"
      }
     ],
     "next": "3e836c18-0c75-11f0-b991-feb16f56f93e-17-1a25-8534-be8d-1f5b-f63a-eb91-96ca-fe2f-1141-f7aa",
     "previous": "3e836c18-0c75-11f0-b991-feb16f56f93e-16-3c5e-1a25-8534-be8d-1f5b-7cd4-4eeb-18a6-9e60-2780"
    },
    "pinnedOutputTabIndex": 0,
    "run_through_control": {
     "frozen": false,
     "read_only": false
    }
   },
   "source": [
    "## 「ログイン」テストの実施\n",
    "\n",
    "テスト「テスト手順-管理者機能-ログイン」を実施する。"
   ]
  },
  {
   "cell_type": "code",
   "execution_count": null,
   "id": "2d8b392d-a0a1-4356-b092-f73a6d403cd6",
   "metadata": {
    "deletable": true,
    "lc_cell_meme": {
     "current": "3e836c18-0c75-11f0-b991-feb16f56f93e-18-8534-be8d-1f5b-f63a-eb91-96ca-fe2f-1141-f7aa-a8d0",
     "execution_end_time": "2025-04-19T06:18:32.437Z",
     "history": [
      {
       "current": "3e836c18-0c75-11f0-b991-feb16f56f93e",
       "next": "ce8c187e-f991-11ef-a92d-0242ac120006-6-964d-161e-73da-b120-ac56-8b98",
       "previous": "9954a6fc-0c70-11f0-98e9-5e0a5654d7bd-1-f4b2"
      },
      {
       "current": "3e836c18-0c75-11f0-b991-feb16f56f93e",
       "next": "522aa0f0-0c76-11f0-b991-feb16f56f93e",
       "previous": "9954a6fc-0c70-11f0-98e9-5e0a5654d7bd-1-f4b2"
      },
      {
       "current": "3e836c18-0c75-11f0-b991-feb16f56f93e-2-b008-e8d0",
       "next": "ce8c187e-f991-11ef-a92d-0242ac120006-6-964d-161e-73da-b120-ac56-8b98",
       "previous": "9954a6fc-0c70-11f0-98e9-5e0a5654d7bd-1-f4b2"
      },
      {
       "current": "3e836c18-0c75-11f0-b991-feb16f56f93e-3-b008-e8d0-3f9b",
       "next": "e49811c6-0f8b-11f0-935e-6e323efef16c",
       "previous": "9954a6fc-0c70-11f0-98e9-5e0a5654d7bd-3-f4b2-32da-b588"
      },
      {
       "current": "3e836c18-0c75-11f0-b991-feb16f56f93e-3-b008-e8d0-3f9b",
       "next": "e49811c6-0f8b-11f0-935e-6e323efef16c",
       "previous": "9954a6fc-0c70-11f0-98e9-5e0a5654d7bd-3-f4b2-32da-b588"
      },
      {
       "current": "3e836c18-0c75-11f0-b991-feb16f56f93e-3-b008-e8d0-3f9b",
       "next": "9954a6fc-0c70-11f0-98e9-5e0a5654d7bd-3-f4b2-32da-b588",
       "previous": "8af0ac06-0c6f-11f0-98e9-5e0a5654d7bd-3-c85a-d8bf-8dea"
      },
      {
       "current": "3e836c18-0c75-11f0-b991-feb16f56f93e-3-b008-e8d0-3f9b",
       "next": "9954a6fc-0c70-11f0-98e9-5e0a5654d7bd-3-f4b2-32da-b588",
       "previous": "1945ee16-0f8c-11f0-935e-6e323efef16c"
      },
      {
       "current": "3e836c18-0c75-11f0-b991-feb16f56f93e-3-b008-e8d0-3f9b",
       "next": "9954a6fc-0c70-11f0-98e9-5e0a5654d7bd-3-f4b2-32da-b588",
       "previous": "1945ee16-0f8c-11f0-935e-6e323efef16c"
      },
      {
       "current": "3e836c18-0c75-11f0-b991-feb16f56f93e-3-b008-e8d0-3f9b",
       "next": "9954a6fc-0c70-11f0-98e9-5e0a5654d7bd-3-f4b2-32da-b588",
       "previous": "1945ee16-0f8c-11f0-935e-6e323efef16c-1-2c1c"
      },
      {
       "current": "3e836c18-0c75-11f0-b991-feb16f56f93e-3-b008-e8d0-3f9b",
       "next": "5111a470-0f8c-11f0-935e-6e323efef16c",
       "previous": "1945ee16-0f8c-11f0-935e-6e323efef16c-1-2c1c"
      },
      {
       "current": "3e836c18-0c75-11f0-b991-feb16f56f93e-3-b008-e8d0-3f9b",
       "next": "5111a470-0f8c-11f0-935e-6e323efef16c",
       "previous": "1945ee16-0f8c-11f0-935e-6e323efef16c-1-2c1c"
      },
      {
       "current": "3e836c18-0c75-11f0-b991-feb16f56f93e-4-b008-e8d0-3f9b-d91b",
       "next": "5111a470-0f8c-11f0-935e-6e323efef16c-1-cde4",
       "previous": "1945ee16-0f8c-11f0-935e-6e323efef16c-1-2c1c"
      },
      {
       "current": "3e836c18-0c75-11f0-b991-feb16f56f93e-7-b008-e8d0-3f9b-d91b-9971-7510-3c5e",
       "next": "5111a470-0f8c-11f0-935e-6e323efef16c-2-cde4-2f90",
       "previous": "1945ee16-0f8c-11f0-935e-6e323efef16c-2-2c1c-4f08"
      },
      {
       "current": "3e836c18-0c75-11f0-b991-feb16f56f93e-8-b008-e8d0-3f9b-d91b-9971-7510-3c5e-1a25",
       "next": "5111a470-0f8c-11f0-935e-6e323efef16c-5-cde4-2f90-b5a2-f6e5-88d7",
       "previous": "1945ee16-0f8c-11f0-935e-6e323efef16c-5-2c1c-4f08-40b5-cf6e-9e08"
      },
      {
       "current": "3e836c18-0c75-11f0-b991-feb16f56f93e-11-e8d0-3f9b-d91b-9971-7510-3c5e-1a25-8534-be8d-1f5b",
       "next": "5111a470-0f8c-11f0-935e-6e323efef16c-6-cde4-2f90-b5a2-f6e5-88d7-521b",
       "previous": "1945ee16-0f8c-11f0-935e-6e323efef16c-6-2c1c-4f08-40b5-cf6e-9e08-8d48"
      },
      {
       "current": "3e836c18-0c75-11f0-b991-feb16f56f93e-11-e8d0-3f9b-d91b-9971-7510-3c5e-1a25-8534-be8d-1f5b",
       "next": "5111a470-0f8c-11f0-935e-6e323efef16c-9-cde4-2f90-b5a2-f6e5-88d7-521b-9af2-6a60-a5f5",
       "previous": "1945ee16-0f8c-11f0-935e-6e323efef16c-9-2c1c-4f08-40b5-cf6e-9e08-8d48-f057-5c33-0344"
      },
      {
       "current": "3e836c18-0c75-11f0-b991-feb16f56f93e-11-e8d0-3f9b-d91b-9971-7510-3c5e-1a25-8534-be8d-1f5b",
       "next": "9954a6fc-0c70-11f0-98e9-5e0a5654d7bd-11-32da-b588-2530-2362-ef25-d28e-b01d-99fe-df5d-298e",
       "previous": "1945ee16-0f8c-11f0-935e-6e323efef16c-9-2c1c-4f08-40b5-cf6e-9e08-8d48-f057-5c33-0344"
      },
      {
       "current": "3e836c18-0c75-11f0-b991-feb16f56f93e-11-e8d0-3f9b-d91b-9971-7510-3c5e-1a25-8534-be8d-1f5b",
       "next": "5111a470-0f8c-11f0-935e-6e323efef16c-10-cde4-bd15-47f7-4a43-6e0c-4f72-5d03-228c-c238-5828",
       "previous": "1945ee16-0f8c-11f0-935e-6e323efef16c-9-2c1c-4f08-40b5-cf6e-9e08-8d48-f057-5c33-0344"
      },
      {
       "current": "3e836c18-0c75-11f0-b991-feb16f56f93e-11-e8d0-3f9b-d91b-9971-7510-3c5e-1a25-8534-be8d-1f5b",
       "next": "9954a6fc-0c70-11f0-98e9-5e0a5654d7bd-12-b588-2ea3-c289-53e5-31c4-7b04-2eff-2c6e-2ac3-dfdd",
       "previous": "1945ee16-0f8c-11f0-935e-6e323efef16c-9-2c1c-4f08-40b5-cf6e-9e08-8d48-f057-5c33-0344"
      },
      {
       "current": "3e836c18-0c75-11f0-b991-feb16f56f93e-12-3f9b-d91b-9971-7510-3c5e-1a25-8534-be8d-1f5b-f63a",
       "next": "49f48492-1c24-11f0-baf6-eaf1011eb67f-4-e4e3-bf8a-77f2-a8ed",
       "previous": "1945ee16-0f8c-11f0-935e-6e323efef16c-9-2c1c-4f08-40b5-cf6e-9e08-8d48-f057-5c33-0344"
      },
      {
       "current": "3e836c18-0c75-11f0-b991-feb16f56f93e-12-3f9b-d91b-9971-7510-3c5e-1a25-8534-be8d-1f5b-f63a",
       "next": "49f48492-1c24-11f0-baf6-eaf1011eb67f-4-e4e3-bf8a-77f2-a8ed",
       "previous": "1945ee16-0f8c-11f0-935e-6e323efef16c-10-2c1c-4f08-40b5-cf6e-9e08-8d48-f057-5c33-0344-c656"
      },
      {
       "current": "3e836c18-0c75-11f0-b991-feb16f56f93e-13-d91b-9971-7510-3c5e-1a25-8534-be8d-1f5b-f63a-eb91",
       "next": "1945ee16-0f8c-11f0-935e-6e323efef16c-11-4f08-40b5-cf6e-9e08-8d48-f057-5c33-0344-c656-d3cb",
       "previous": "1945ee16-0f8c-11f0-935e-6e323efef16c-10-2c1c-4f08-40b5-cf6e-9e08-8d48-f057-5c33-0344-c656"
      },
      {
       "current": "3e836c18-0c75-11f0-b991-feb16f56f93e-13-d91b-9971-7510-3c5e-1a25-8534-be8d-1f5b-f63a-eb91",
       "next": "1945ee16-0f8c-11f0-935e-6e323efef16c-12-40b5-cf6e-9e08-8d48-f057-5c33-0344-c656-d3cb-c939",
       "previous": "1945ee16-0f8c-11f0-935e-6e323efef16c-11-4f08-40b5-cf6e-9e08-8d48-f057-5c33-0344-c656-6746"
      },
      {
       "current": "3e836c18-0c75-11f0-b991-feb16f56f93e-14-9971-7510-3c5e-1a25-8534-be8d-1f5b-f63a-eb91-96ca",
       "next": "1945ee16-0f8c-11f0-935e-6e323efef16c-13-cf6e-9e08-8d48-f057-5c33-0344-c656-d3cb-c939-9968",
       "previous": "1945ee16-0f8c-11f0-935e-6e323efef16c-11-4f08-40b5-cf6e-9e08-8d48-f057-5c33-0344-c656-6746"
      },
      {
       "current": "3e836c18-0c75-11f0-b991-feb16f56f93e-15-7510-3c5e-1a25-8534-be8d-1f5b-f63a-eb91-96ca-fe2f",
       "next": "1945ee16-0f8c-11f0-935e-6e323efef16c-14-9e08-8d48-f057-5c33-0344-c656-d3cb-c939-9968-651a",
       "previous": "1945ee16-0f8c-11f0-935e-6e323efef16c-12-40b5-cf6e-9e08-8d48-f057-5c33-0344-c656-6746-5c3f"
      },
      {
       "current": "3e836c18-0c75-11f0-b991-feb16f56f93e-17-1a25-8534-be8d-1f5b-f63a-eb91-96ca-fe2f-1141-f7aa",
       "next": "1945ee16-0f8c-11f0-935e-6e323efef16c-15-8d48-f057-5c33-0344-c656-d3cb-c939-9968-651a-85c9",
       "previous": "1945ee16-0f8c-11f0-935e-6e323efef16c-13-cf6e-9e08-8d48-f057-5c33-0344-c656-6746-5c3f-d5e8"
      }
     ],
     "next": "1945ee16-0f8c-11f0-935e-6e323efef16c-17-5c33-0344-c656-d3cb-c939-9968-651a-85c9-67a0-c4e4",
     "previous": "1945ee16-0f8c-11f0-935e-6e323efef16c-15-8d48-f057-5c33-0344-c656-6746-5c3f-d5e8-0082-6ee6"
    },
    "pinnedOutputTabIndex": 0,
    "run_through_control": {
     "frozen": false,
     "read_only": false
    }
   },
   "outputs": [],
   "source": [
    "if idp_name_1 is not None:\n",
    "    result_notebooks.append(run_notebook('テスト手順-管理者機能-ログイン.ipynb'))\n",
    "result_notebooks"
   ]
  },
  {
   "cell_type": "markdown",
   "id": "9362e511-4425-42c8-ae7d-32a7763fbf89",
   "metadata": {
    "deletable": true,
    "editable": true,
    "lc_cell_meme": {
     "current": "1945ee16-0f8c-11f0-935e-6e323efef16c-18-0344-c656-d3cb-c939-9968-651a-85c9-67a0-c4e4-2687",
     "history": [
      {
       "current": "1945ee16-0f8c-11f0-935e-6e323efef16c-2-2c1c-4f08",
       "next": "3e836c18-0c75-11f0-b991-feb16f56f93e-3-b008-e8d0-3f9b",
       "previous": "8af0ac06-0c6f-11f0-98e9-5e0a5654d7bd-3-c85a-d8bf-8dea"
      },
      {
       "current": "1945ee16-0f8c-11f0-935e-6e323efef16c-5-2c1c-4f08-40b5-cf6e-9e08",
       "next": "3e836c18-0c75-11f0-b991-feb16f56f93e-4-b008-e8d0-3f9b-d91b",
       "previous": "8af0ac06-0c6f-11f0-98e9-5e0a5654d7bd-4-c85a-d8bf-8dea-ced2"
      },
      {
       "current": "1945ee16-0f8c-11f0-935e-6e323efef16c-5-2c1c-4f08-40b5-cf6e-9e08",
       "next": "3e836c18-0c75-11f0-b991-feb16f56f93e-7-b008-e8d0-3f9b-d91b-9971-7510-3c5e",
       "previous": "e4ebb1f2-191b-11f0-ad36-668cb6ddd6b0"
      },
      {
       "current": "1945ee16-0f8c-11f0-935e-6e323efef16c-6-2c1c-4f08-40b5-cf6e-9e08-8d48",
       "next": "3e836c18-0c75-11f0-b991-feb16f56f93e-7-b008-e8d0-3f9b-d91b-9971-7510-3c5e",
       "previous": "8af0ac06-0c6f-11f0-98e9-5e0a5654d7bd-7-c85a-d8bf-8dea-ced2-b6ea-11de-e027"
      },
      {
       "current": "1945ee16-0f8c-11f0-935e-6e323efef16c-9-2c1c-4f08-40b5-cf6e-9e08-8d48-f057-5c33-0344",
       "next": "3e836c18-0c75-11f0-b991-feb16f56f93e-8-b008-e8d0-3f9b-d91b-9971-7510-3c5e-1a25",
       "previous": "8af0ac06-0c6f-11f0-98e9-5e0a5654d7bd-8-c85a-d8bf-8dea-ced2-b6ea-11de-e027-5ced"
      },
      {
       "current": "1945ee16-0f8c-11f0-935e-6e323efef16c-10-2c1c-4f08-40b5-cf6e-9e08-8d48-f057-5c33-0344-c656",
       "next": "3e836c18-0c75-11f0-b991-feb16f56f93e-11-e8d0-3f9b-d91b-9971-7510-3c5e-1a25-8534-be8d-1f5b",
       "previous": "8af0ac06-0c6f-11f0-98e9-5e0a5654d7bd-11-d8bf-8dea-ced2-b6ea-11de-e027-5ced-0939-f364-6bc7"
      },
      {
       "current": "1945ee16-0f8c-11f0-935e-6e323efef16c-11-4f08-40b5-cf6e-9e08-8d48-f057-5c33-0344-c656-d3cb",
       "next": "3e836c18-0c75-11f0-b991-feb16f56f93e-12-3f9b-d91b-9971-7510-3c5e-1a25-8534-be8d-1f5b-f63a",
       "previous": "3e836c18-0c75-11f0-b991-feb16f56f93e-11-e8d0-3f9b-d91b-9971-7510-3c5e-1a25-8534-be8d-1f5b"
      },
      {
       "current": "1945ee16-0f8c-11f0-935e-6e323efef16c-13-cf6e-9e08-8d48-f057-5c33-0344-c656-d3cb-c939-9968",
       "next": "3e836c18-0c75-11f0-b991-feb16f56f93e-13-d91b-9971-7510-3c5e-1a25-8534-be8d-1f5b-f63a-855a",
       "previous": "3e836c18-0c75-11f0-b991-feb16f56f93e-12-3f9b-d91b-9971-7510-3c5e-1a25-8534-be8d-1f5b-f63a"
      },
      {
       "current": "1945ee16-0f8c-11f0-935e-6e323efef16c-13-cf6e-9e08-8d48-f057-5c33-0344-c656-d3cb-c939-9968",
       "next": "3e836c18-0c75-11f0-b991-feb16f56f93e-15-7510-3c5e-1a25-8534-be8d-1f5b-f63a-855a-d1ae-53d7",
       "previous": "3e836c18-0c75-11f0-b991-feb16f56f93e-14-9971-7510-3c5e-1a25-8534-be8d-1f5b-f63a-855a-d1ae"
      },
      {
       "current": "1945ee16-0f8c-11f0-935e-6e323efef16c-14-9e08-8d48-f057-5c33-0344-c656-d3cb-c939-9968-651a",
       "next": "3e836c18-0c75-11f0-b991-feb16f56f93e-15-7510-3c5e-1a25-8534-be8d-1f5b-f63a-855a-d1ae-53d7",
       "previous": "3e836c18-0c75-11f0-b991-feb16f56f93e-13-d91b-9971-7510-3c5e-1a25-8534-be8d-1f5b-f63a-eb91"
      },
      {
       "current": "1945ee16-0f8c-11f0-935e-6e323efef16c-15-8d48-f057-5c33-0344-c656-d3cb-c939-9968-651a-85c9",
       "next": "3e836c18-0c75-11f0-b991-feb16f56f93e-16-3c5e-1a25-8534-be8d-1f5b-f63a-855a-d1ae-53d7-a7ac",
       "previous": "3e836c18-0c75-11f0-b991-feb16f56f93e-14-9971-7510-3c5e-1a25-8534-be8d-1f5b-f63a-eb91-96ca"
      },
      {
       "current": "1945ee16-0f8c-11f0-935e-6e323efef16c-17-5c33-0344-c656-d3cb-c939-9968-651a-85c9-67a0-c4e4",
       "next": "3e836c18-0c75-11f0-b991-feb16f56f93e-17-1a25-8534-be8d-1f5b-f63a-855a-d1ae-53d7-a7ac-15b1",
       "previous": "3e836c18-0c75-11f0-b991-feb16f56f93e-15-7510-3c5e-1a25-8534-be8d-1f5b-f63a-eb91-96ca-fe2f"
      }
     ],
     "next": "3e836c18-0c75-11f0-b991-feb16f56f93e-19-be8d-1f5b-f63a-855a-d1ae-53d7-a7ac-15b1-e1da-b1e0",
     "previous": "3e836c18-0c75-11f0-b991-feb16f56f93e-17-1a25-8534-be8d-1f5b-f63a-eb91-96ca-fe2f-1141-f7aa"
    },
    "pinnedOutputTabIndex": 0,
    "run_through_control": {
     "frozen": false,
     "read_only": false
    }
   },
   "source": [
    "## 「ログイン可否設定」テストの実施\n",
    "\n",
    "テスト「テスト手順-管理者機能-ログイン可否設定」を実施する。"
   ]
  },
  {
   "cell_type": "code",
   "execution_count": null,
   "id": "f0ccf08a-cfd0-4f7a-b8c6-7d9364fecde3",
   "metadata": {
    "deletable": true,
    "lc_cell_meme": {
     "current": "3e836c18-0c75-11f0-b991-feb16f56f93e-20-1f5b-f63a-855a-d1ae-53d7-a7ac-15b1-e1da-b1e0-13b1",
     "execution_end_time": "2025-04-20T22:52:43.088Z",
     "history": [
      {
       "current": "3e836c18-0c75-11f0-b991-feb16f56f93e",
       "next": "ce8c187e-f991-11ef-a92d-0242ac120006-6-964d-161e-73da-b120-ac56-8b98",
       "previous": "9954a6fc-0c70-11f0-98e9-5e0a5654d7bd-1-f4b2"
      },
      {
       "current": "3e836c18-0c75-11f0-b991-feb16f56f93e",
       "next": "522aa0f0-0c76-11f0-b991-feb16f56f93e",
       "previous": "9954a6fc-0c70-11f0-98e9-5e0a5654d7bd-1-f4b2"
      },
      {
       "current": "3e836c18-0c75-11f0-b991-feb16f56f93e-2-b008-e8d0",
       "next": "ce8c187e-f991-11ef-a92d-0242ac120006-6-964d-161e-73da-b120-ac56-8b98",
       "previous": "9954a6fc-0c70-11f0-98e9-5e0a5654d7bd-1-f4b2"
      },
      {
       "current": "3e836c18-0c75-11f0-b991-feb16f56f93e-3-b008-e8d0-3f9b",
       "next": "e49811c6-0f8b-11f0-935e-6e323efef16c",
       "previous": "9954a6fc-0c70-11f0-98e9-5e0a5654d7bd-3-f4b2-32da-b588"
      },
      {
       "current": "3e836c18-0c75-11f0-b991-feb16f56f93e-3-b008-e8d0-3f9b",
       "next": "e49811c6-0f8b-11f0-935e-6e323efef16c",
       "previous": "9954a6fc-0c70-11f0-98e9-5e0a5654d7bd-3-f4b2-32da-b588"
      },
      {
       "current": "3e836c18-0c75-11f0-b991-feb16f56f93e-3-b008-e8d0-3f9b",
       "next": "9954a6fc-0c70-11f0-98e9-5e0a5654d7bd-3-f4b2-32da-b588",
       "previous": "8af0ac06-0c6f-11f0-98e9-5e0a5654d7bd-3-c85a-d8bf-8dea"
      },
      {
       "current": "3e836c18-0c75-11f0-b991-feb16f56f93e-3-b008-e8d0-3f9b",
       "next": "9954a6fc-0c70-11f0-98e9-5e0a5654d7bd-3-f4b2-32da-b588",
       "previous": "1945ee16-0f8c-11f0-935e-6e323efef16c"
      },
      {
       "current": "3e836c18-0c75-11f0-b991-feb16f56f93e-3-b008-e8d0-3f9b",
       "next": "9954a6fc-0c70-11f0-98e9-5e0a5654d7bd-3-f4b2-32da-b588",
       "previous": "1945ee16-0f8c-11f0-935e-6e323efef16c"
      },
      {
       "current": "3e836c18-0c75-11f0-b991-feb16f56f93e-3-b008-e8d0-3f9b",
       "next": "9954a6fc-0c70-11f0-98e9-5e0a5654d7bd-3-f4b2-32da-b588",
       "previous": "1945ee16-0f8c-11f0-935e-6e323efef16c-1-2c1c"
      },
      {
       "current": "3e836c18-0c75-11f0-b991-feb16f56f93e-3-b008-e8d0-3f9b",
       "next": "5111a470-0f8c-11f0-935e-6e323efef16c",
       "previous": "1945ee16-0f8c-11f0-935e-6e323efef16c-1-2c1c"
      },
      {
       "current": "3e836c18-0c75-11f0-b991-feb16f56f93e-3-b008-e8d0-3f9b",
       "next": "5111a470-0f8c-11f0-935e-6e323efef16c",
       "previous": "1945ee16-0f8c-11f0-935e-6e323efef16c-1-2c1c"
      },
      {
       "current": "3e836c18-0c75-11f0-b991-feb16f56f93e-4-b008-e8d0-3f9b-d91b",
       "next": "5111a470-0f8c-11f0-935e-6e323efef16c-1-cde4",
       "previous": "1945ee16-0f8c-11f0-935e-6e323efef16c-1-2c1c"
      },
      {
       "current": "3e836c18-0c75-11f0-b991-feb16f56f93e-7-b008-e8d0-3f9b-d91b-9971-7510-3c5e",
       "next": "5111a470-0f8c-11f0-935e-6e323efef16c-2-cde4-2f90",
       "previous": "1945ee16-0f8c-11f0-935e-6e323efef16c-2-2c1c-4f08"
      },
      {
       "current": "3e836c18-0c75-11f0-b991-feb16f56f93e-8-b008-e8d0-3f9b-d91b-9971-7510-3c5e-1a25",
       "next": "5111a470-0f8c-11f0-935e-6e323efef16c-5-cde4-2f90-b5a2-f6e5-88d7",
       "previous": "1945ee16-0f8c-11f0-935e-6e323efef16c-5-2c1c-4f08-40b5-cf6e-9e08"
      },
      {
       "current": "3e836c18-0c75-11f0-b991-feb16f56f93e-11-e8d0-3f9b-d91b-9971-7510-3c5e-1a25-8534-be8d-1f5b",
       "next": "5111a470-0f8c-11f0-935e-6e323efef16c-6-cde4-2f90-b5a2-f6e5-88d7-521b",
       "previous": "1945ee16-0f8c-11f0-935e-6e323efef16c-6-2c1c-4f08-40b5-cf6e-9e08-8d48"
      },
      {
       "current": "3e836c18-0c75-11f0-b991-feb16f56f93e-11-e8d0-3f9b-d91b-9971-7510-3c5e-1a25-8534-be8d-1f5b",
       "next": "5111a470-0f8c-11f0-935e-6e323efef16c-9-cde4-2f90-b5a2-f6e5-88d7-521b-9af2-6a60-a5f5",
       "previous": "1945ee16-0f8c-11f0-935e-6e323efef16c-9-2c1c-4f08-40b5-cf6e-9e08-8d48-f057-5c33-0344"
      },
      {
       "current": "3e836c18-0c75-11f0-b991-feb16f56f93e-11-e8d0-3f9b-d91b-9971-7510-3c5e-1a25-8534-be8d-1f5b",
       "next": "9954a6fc-0c70-11f0-98e9-5e0a5654d7bd-11-32da-b588-2530-2362-ef25-d28e-b01d-99fe-df5d-298e",
       "previous": "1945ee16-0f8c-11f0-935e-6e323efef16c-9-2c1c-4f08-40b5-cf6e-9e08-8d48-f057-5c33-0344"
      },
      {
       "current": "3e836c18-0c75-11f0-b991-feb16f56f93e-11-e8d0-3f9b-d91b-9971-7510-3c5e-1a25-8534-be8d-1f5b",
       "next": "5111a470-0f8c-11f0-935e-6e323efef16c-10-cde4-bd15-47f7-4a43-6e0c-4f72-5d03-228c-c238-5828",
       "previous": "1945ee16-0f8c-11f0-935e-6e323efef16c-9-2c1c-4f08-40b5-cf6e-9e08-8d48-f057-5c33-0344"
      },
      {
       "current": "3e836c18-0c75-11f0-b991-feb16f56f93e-11-e8d0-3f9b-d91b-9971-7510-3c5e-1a25-8534-be8d-1f5b",
       "next": "9954a6fc-0c70-11f0-98e9-5e0a5654d7bd-12-b588-2ea3-c289-53e5-31c4-7b04-2eff-2c6e-2ac3-dfdd",
       "previous": "1945ee16-0f8c-11f0-935e-6e323efef16c-9-2c1c-4f08-40b5-cf6e-9e08-8d48-f057-5c33-0344"
      },
      {
       "current": "3e836c18-0c75-11f0-b991-feb16f56f93e-12-3f9b-d91b-9971-7510-3c5e-1a25-8534-be8d-1f5b-f63a",
       "next": "49f48492-1c24-11f0-baf6-eaf1011eb67f-4-e4e3-bf8a-77f2-a8ed",
       "previous": "1945ee16-0f8c-11f0-935e-6e323efef16c-9-2c1c-4f08-40b5-cf6e-9e08-8d48-f057-5c33-0344"
      },
      {
       "current": "3e836c18-0c75-11f0-b991-feb16f56f93e-13-d91b-9971-7510-3c5e-1a25-8534-be8d-1f5b-f63a-855a",
       "next": "49f48492-1c24-11f0-baf6-eaf1011eb67f-4-e4e3-bf8a-77f2-a8ed",
       "previous": "1945ee16-0f8c-11f0-935e-6e323efef16c-10-2c1c-4f08-40b5-cf6e-9e08-8d48-f057-5c33-0344-c656"
      },
      {
       "current": "3e836c18-0c75-11f0-b991-feb16f56f93e-15-7510-3c5e-1a25-8534-be8d-1f5b-f63a-855a-d1ae-53d7",
       "next": "49f48492-1c24-11f0-baf6-eaf1011eb67f-4-e4e3-bf8a-77f2-a8ed",
       "previous": "1945ee16-0f8c-11f0-935e-6e323efef16c-11-4f08-40b5-cf6e-9e08-8d48-f057-5c33-0344-c656-d3cb"
      },
      {
       "current": "3e836c18-0c75-11f0-b991-feb16f56f93e-15-7510-3c5e-1a25-8534-be8d-1f5b-f63a-855a-d1ae-53d7",
       "next": "49f48492-1c24-11f0-baf6-eaf1011eb67f-5-e4e3-bf8a-77f2-a8ed-63cb",
       "previous": "1945ee16-0f8c-11f0-935e-6e323efef16c-13-cf6e-9e08-8d48-f057-5c33-0344-c656-d3cb-c939-9968"
      },
      {
       "current": "3e836c18-0c75-11f0-b991-feb16f56f93e-15-7510-3c5e-1a25-8534-be8d-1f5b-f63a-855a-d1ae-53d7",
       "next": "6fd3a518-1e35-11f0-85e7-be8e2cbe8172",
       "previous": "1945ee16-0f8c-11f0-935e-6e323efef16c-13-cf6e-9e08-8d48-f057-5c33-0344-c656-d3cb-c939-9968"
      },
      {
       "current": "3e836c18-0c75-11f0-b991-feb16f56f93e-16-3c5e-1a25-8534-be8d-1f5b-f63a-855a-d1ae-53d7-a7ac",
       "next": "1945ee16-0f8c-11f0-935e-6e323efef16c-14-9e08-8d48-f057-5c33-0344-c656-d3cb-c939-9968-42cc",
       "previous": "1945ee16-0f8c-11f0-935e-6e323efef16c-13-cf6e-9e08-8d48-f057-5c33-0344-c656-d3cb-c939-9968"
      },
      {
       "current": "3e836c18-0c75-11f0-b991-feb16f56f93e-17-1a25-8534-be8d-1f5b-f63a-855a-d1ae-53d7-a7ac-15b1",
       "next": "1945ee16-0f8c-11f0-935e-6e323efef16c-15-8d48-f057-5c33-0344-c656-d3cb-c939-9968-42cc-f0a0",
       "previous": "1945ee16-0f8c-11f0-935e-6e323efef16c-14-9e08-8d48-f057-5c33-0344-c656-d3cb-c939-9968-651a"
      },
      {
       "current": "3e836c18-0c75-11f0-b991-feb16f56f93e-19-be8d-1f5b-f63a-855a-d1ae-53d7-a7ac-15b1-e1da-b1e0",
       "next": "1945ee16-0f8c-11f0-935e-6e323efef16c-15-8d48-f057-5c33-0344-c656-d3cb-c939-9968-651a-85c9",
       "previous": "1945ee16-0f8c-11f0-935e-6e323efef16c-15-8d48-f057-5c33-0344-c656-d3cb-c939-9968-651a-85c9"
      }
     ],
     "next": "1945ee16-0f8c-11f0-935e-6e323efef16c-17-5c33-0344-c656-d3cb-c939-9968-651a-85c9-6570-ceff",
     "previous": "1945ee16-0f8c-11f0-935e-6e323efef16c-17-5c33-0344-c656-d3cb-c939-9968-651a-85c9-67a0-c4e4"
    },
    "pinnedOutputTabIndex": 0,
    "run_through_control": {
     "frozen": false,
     "read_only": false
    }
   },
   "outputs": [],
   "source": [
    "result_notebooks.append(run_notebook(\n",
    "    'テスト手順-管理者機能-ログイン可否設定.ipynb',\n",
    "    dict(\n",
    "        idp_name_2=idp_name_2,\n",
    "        idp_username_2=idp_username_2,\n",
    "        idp_password_2=idp_password_2,\n",
    "        target_organization=target_organization,\n",
    "        entitlement_text=entitlement_text,\n",
    "    ),\n",
    "))\n",
    "result_notebooks"
   ]
  },
  {
   "cell_type": "markdown",
   "id": "71f081f4-a608-4c4b-b1c1-030e098ae291",
   "metadata": {
    "deletable": true,
    "editable": true,
    "lc_cell_meme": {
     "current": "1945ee16-0f8c-11f0-935e-6e323efef16c-18-0344-c656-d3cb-c939-9968-651a-85c9-6570-ceff-c3d5",
     "history": [
      {
       "current": "1945ee16-0f8c-11f0-935e-6e323efef16c-2-2c1c-4f08",
       "next": "3e836c18-0c75-11f0-b991-feb16f56f93e-3-b008-e8d0-3f9b",
       "previous": "8af0ac06-0c6f-11f0-98e9-5e0a5654d7bd-3-c85a-d8bf-8dea"
      },
      {
       "current": "1945ee16-0f8c-11f0-935e-6e323efef16c-5-2c1c-4f08-40b5-cf6e-9e08",
       "next": "3e836c18-0c75-11f0-b991-feb16f56f93e-4-b008-e8d0-3f9b-d91b",
       "previous": "8af0ac06-0c6f-11f0-98e9-5e0a5654d7bd-4-c85a-d8bf-8dea-ced2"
      },
      {
       "current": "1945ee16-0f8c-11f0-935e-6e323efef16c-5-2c1c-4f08-40b5-cf6e-9e08",
       "next": "3e836c18-0c75-11f0-b991-feb16f56f93e-7-b008-e8d0-3f9b-d91b-9971-7510-3c5e",
       "previous": "e4ebb1f2-191b-11f0-ad36-668cb6ddd6b0"
      },
      {
       "current": "1945ee16-0f8c-11f0-935e-6e323efef16c-6-2c1c-4f08-40b5-cf6e-9e08-8d48",
       "next": "3e836c18-0c75-11f0-b991-feb16f56f93e-7-b008-e8d0-3f9b-d91b-9971-7510-3c5e",
       "previous": "8af0ac06-0c6f-11f0-98e9-5e0a5654d7bd-7-c85a-d8bf-8dea-ced2-b6ea-11de-e027"
      },
      {
       "current": "1945ee16-0f8c-11f0-935e-6e323efef16c-9-2c1c-4f08-40b5-cf6e-9e08-8d48-f057-5c33-0344",
       "next": "3e836c18-0c75-11f0-b991-feb16f56f93e-8-b008-e8d0-3f9b-d91b-9971-7510-3c5e-1a25",
       "previous": "8af0ac06-0c6f-11f0-98e9-5e0a5654d7bd-8-c85a-d8bf-8dea-ced2-b6ea-11de-e027-5ced"
      },
      {
       "current": "1945ee16-0f8c-11f0-935e-6e323efef16c-10-2c1c-4f08-40b5-cf6e-9e08-8d48-f057-5c33-0344-c656",
       "next": "3e836c18-0c75-11f0-b991-feb16f56f93e-11-e8d0-3f9b-d91b-9971-7510-3c5e-1a25-8534-be8d-1f5b",
       "previous": "8af0ac06-0c6f-11f0-98e9-5e0a5654d7bd-11-d8bf-8dea-ced2-b6ea-11de-e027-5ced-0939-f364-6bc7"
      },
      {
       "current": "1945ee16-0f8c-11f0-935e-6e323efef16c-11-4f08-40b5-cf6e-9e08-8d48-f057-5c33-0344-c656-d3cb",
       "next": "3e836c18-0c75-11f0-b991-feb16f56f93e-12-3f9b-d91b-9971-7510-3c5e-1a25-8534-be8d-1f5b-f63a",
       "previous": "3e836c18-0c75-11f0-b991-feb16f56f93e-11-e8d0-3f9b-d91b-9971-7510-3c5e-1a25-8534-be8d-1f5b"
      },
      {
       "current": "1945ee16-0f8c-11f0-935e-6e323efef16c-13-cf6e-9e08-8d48-f057-5c33-0344-c656-d3cb-c939-9968",
       "next": "3e836c18-0c75-11f0-b991-feb16f56f93e-13-d91b-9971-7510-3c5e-1a25-8534-be8d-1f5b-f63a-855a",
       "previous": "3e836c18-0c75-11f0-b991-feb16f56f93e-12-3f9b-d91b-9971-7510-3c5e-1a25-8534-be8d-1f5b-f63a"
      },
      {
       "current": "1945ee16-0f8c-11f0-935e-6e323efef16c-13-cf6e-9e08-8d48-f057-5c33-0344-c656-d3cb-c939-9968",
       "next": "3e836c18-0c75-11f0-b991-feb16f56f93e-15-7510-3c5e-1a25-8534-be8d-1f5b-f63a-855a-d1ae-53d7",
       "previous": "3e836c18-0c75-11f0-b991-feb16f56f93e-14-9971-7510-3c5e-1a25-8534-be8d-1f5b-f63a-855a-d1ae"
      },
      {
       "current": "1945ee16-0f8c-11f0-935e-6e323efef16c-14-9e08-8d48-f057-5c33-0344-c656-d3cb-c939-9968-651a",
       "next": "3e836c18-0c75-11f0-b991-feb16f56f93e-15-7510-3c5e-1a25-8534-be8d-1f5b-f63a-855a-d1ae-53d7",
       "previous": "3e836c18-0c75-11f0-b991-feb16f56f93e-13-d91b-9971-7510-3c5e-1a25-8534-be8d-1f5b-f63a-eb91"
      },
      {
       "current": "1945ee16-0f8c-11f0-935e-6e323efef16c-15-8d48-f057-5c33-0344-c656-d3cb-c939-9968-651a-85c9",
       "next": "3e836c18-0c75-11f0-b991-feb16f56f93e-16-3c5e-1a25-8534-be8d-1f5b-f63a-855a-d1ae-53d7-a7ac",
       "previous": "3e836c18-0c75-11f0-b991-feb16f56f93e-14-9971-7510-3c5e-1a25-8534-be8d-1f5b-f63a-eb91-96ca"
      },
      {
       "current": "1945ee16-0f8c-11f0-935e-6e323efef16c-17-5c33-0344-c656-d3cb-c939-9968-651a-85c9-6570-ceff",
       "next": "3e836c18-0c75-11f0-b991-feb16f56f93e-17-1a25-8534-be8d-1f5b-f63a-855a-d1ae-53d7-a7ac-15b1",
       "previous": "3e836c18-0c75-11f0-b991-feb16f56f93e-17-1a25-8534-be8d-1f5b-f63a-855a-d1ae-53d7-a7ac-15b1"
      }
     ],
     "next": "3e836c18-0c75-11f0-b991-feb16f56f93e-19-be8d-1f5b-f63a-855a-d1ae-53d7-a7ac-15b1-9a67-a2c2",
     "previous": "3e836c18-0c75-11f0-b991-feb16f56f93e-19-be8d-1f5b-f63a-855a-d1ae-53d7-a7ac-15b1-e1da-b1e0"
    },
    "pinnedOutputTabIndex": 0,
    "run_through_control": {
     "frozen": false,
     "read_only": false
    }
   },
   "source": [
    "## 「ノード管理」テストの実施\n",
    "\n",
    "テスト「テスト手順-管理者機能-ノード管理」を実施する。"
   ]
  },
  {
   "cell_type": "code",
   "execution_count": null,
   "id": "b7e2a337-9323-4b8f-9ca5-d3e4089284f5",
   "metadata": {
    "deletable": true,
    "lc_cell_meme": {
     "current": "3e836c18-0c75-11f0-b991-feb16f56f93e-20-1f5b-f63a-855a-d1ae-53d7-a7ac-15b1-9a67-a2c2-91e2",
     "execution_end_time": "2025-04-20T22:52:43.088Z",
     "history": [
      {
       "current": "3e836c18-0c75-11f0-b991-feb16f56f93e",
       "next": "ce8c187e-f991-11ef-a92d-0242ac120006-6-964d-161e-73da-b120-ac56-8b98",
       "previous": "9954a6fc-0c70-11f0-98e9-5e0a5654d7bd-1-f4b2"
      },
      {
       "current": "3e836c18-0c75-11f0-b991-feb16f56f93e",
       "next": "522aa0f0-0c76-11f0-b991-feb16f56f93e",
       "previous": "9954a6fc-0c70-11f0-98e9-5e0a5654d7bd-1-f4b2"
      },
      {
       "current": "3e836c18-0c75-11f0-b991-feb16f56f93e-2-b008-e8d0",
       "next": "ce8c187e-f991-11ef-a92d-0242ac120006-6-964d-161e-73da-b120-ac56-8b98",
       "previous": "9954a6fc-0c70-11f0-98e9-5e0a5654d7bd-1-f4b2"
      },
      {
       "current": "3e836c18-0c75-11f0-b991-feb16f56f93e-3-b008-e8d0-3f9b",
       "next": "e49811c6-0f8b-11f0-935e-6e323efef16c",
       "previous": "9954a6fc-0c70-11f0-98e9-5e0a5654d7bd-3-f4b2-32da-b588"
      },
      {
       "current": "3e836c18-0c75-11f0-b991-feb16f56f93e-3-b008-e8d0-3f9b",
       "next": "e49811c6-0f8b-11f0-935e-6e323efef16c",
       "previous": "9954a6fc-0c70-11f0-98e9-5e0a5654d7bd-3-f4b2-32da-b588"
      },
      {
       "current": "3e836c18-0c75-11f0-b991-feb16f56f93e-3-b008-e8d0-3f9b",
       "next": "9954a6fc-0c70-11f0-98e9-5e0a5654d7bd-3-f4b2-32da-b588",
       "previous": "8af0ac06-0c6f-11f0-98e9-5e0a5654d7bd-3-c85a-d8bf-8dea"
      },
      {
       "current": "3e836c18-0c75-11f0-b991-feb16f56f93e-3-b008-e8d0-3f9b",
       "next": "9954a6fc-0c70-11f0-98e9-5e0a5654d7bd-3-f4b2-32da-b588",
       "previous": "1945ee16-0f8c-11f0-935e-6e323efef16c"
      },
      {
       "current": "3e836c18-0c75-11f0-b991-feb16f56f93e-3-b008-e8d0-3f9b",
       "next": "9954a6fc-0c70-11f0-98e9-5e0a5654d7bd-3-f4b2-32da-b588",
       "previous": "1945ee16-0f8c-11f0-935e-6e323efef16c"
      },
      {
       "current": "3e836c18-0c75-11f0-b991-feb16f56f93e-3-b008-e8d0-3f9b",
       "next": "9954a6fc-0c70-11f0-98e9-5e0a5654d7bd-3-f4b2-32da-b588",
       "previous": "1945ee16-0f8c-11f0-935e-6e323efef16c-1-2c1c"
      },
      {
       "current": "3e836c18-0c75-11f0-b991-feb16f56f93e-3-b008-e8d0-3f9b",
       "next": "5111a470-0f8c-11f0-935e-6e323efef16c",
       "previous": "1945ee16-0f8c-11f0-935e-6e323efef16c-1-2c1c"
      },
      {
       "current": "3e836c18-0c75-11f0-b991-feb16f56f93e-3-b008-e8d0-3f9b",
       "next": "5111a470-0f8c-11f0-935e-6e323efef16c",
       "previous": "1945ee16-0f8c-11f0-935e-6e323efef16c-1-2c1c"
      },
      {
       "current": "3e836c18-0c75-11f0-b991-feb16f56f93e-4-b008-e8d0-3f9b-d91b",
       "next": "5111a470-0f8c-11f0-935e-6e323efef16c-1-cde4",
       "previous": "1945ee16-0f8c-11f0-935e-6e323efef16c-1-2c1c"
      },
      {
       "current": "3e836c18-0c75-11f0-b991-feb16f56f93e-7-b008-e8d0-3f9b-d91b-9971-7510-3c5e",
       "next": "5111a470-0f8c-11f0-935e-6e323efef16c-2-cde4-2f90",
       "previous": "1945ee16-0f8c-11f0-935e-6e323efef16c-2-2c1c-4f08"
      },
      {
       "current": "3e836c18-0c75-11f0-b991-feb16f56f93e-8-b008-e8d0-3f9b-d91b-9971-7510-3c5e-1a25",
       "next": "5111a470-0f8c-11f0-935e-6e323efef16c-5-cde4-2f90-b5a2-f6e5-88d7",
       "previous": "1945ee16-0f8c-11f0-935e-6e323efef16c-5-2c1c-4f08-40b5-cf6e-9e08"
      },
      {
       "current": "3e836c18-0c75-11f0-b991-feb16f56f93e-11-e8d0-3f9b-d91b-9971-7510-3c5e-1a25-8534-be8d-1f5b",
       "next": "5111a470-0f8c-11f0-935e-6e323efef16c-6-cde4-2f90-b5a2-f6e5-88d7-521b",
       "previous": "1945ee16-0f8c-11f0-935e-6e323efef16c-6-2c1c-4f08-40b5-cf6e-9e08-8d48"
      },
      {
       "current": "3e836c18-0c75-11f0-b991-feb16f56f93e-11-e8d0-3f9b-d91b-9971-7510-3c5e-1a25-8534-be8d-1f5b",
       "next": "5111a470-0f8c-11f0-935e-6e323efef16c-9-cde4-2f90-b5a2-f6e5-88d7-521b-9af2-6a60-a5f5",
       "previous": "1945ee16-0f8c-11f0-935e-6e323efef16c-9-2c1c-4f08-40b5-cf6e-9e08-8d48-f057-5c33-0344"
      },
      {
       "current": "3e836c18-0c75-11f0-b991-feb16f56f93e-11-e8d0-3f9b-d91b-9971-7510-3c5e-1a25-8534-be8d-1f5b",
       "next": "9954a6fc-0c70-11f0-98e9-5e0a5654d7bd-11-32da-b588-2530-2362-ef25-d28e-b01d-99fe-df5d-298e",
       "previous": "1945ee16-0f8c-11f0-935e-6e323efef16c-9-2c1c-4f08-40b5-cf6e-9e08-8d48-f057-5c33-0344"
      },
      {
       "current": "3e836c18-0c75-11f0-b991-feb16f56f93e-11-e8d0-3f9b-d91b-9971-7510-3c5e-1a25-8534-be8d-1f5b",
       "next": "5111a470-0f8c-11f0-935e-6e323efef16c-10-cde4-bd15-47f7-4a43-6e0c-4f72-5d03-228c-c238-5828",
       "previous": "1945ee16-0f8c-11f0-935e-6e323efef16c-9-2c1c-4f08-40b5-cf6e-9e08-8d48-f057-5c33-0344"
      },
      {
       "current": "3e836c18-0c75-11f0-b991-feb16f56f93e-11-e8d0-3f9b-d91b-9971-7510-3c5e-1a25-8534-be8d-1f5b",
       "next": "9954a6fc-0c70-11f0-98e9-5e0a5654d7bd-12-b588-2ea3-c289-53e5-31c4-7b04-2eff-2c6e-2ac3-dfdd",
       "previous": "1945ee16-0f8c-11f0-935e-6e323efef16c-9-2c1c-4f08-40b5-cf6e-9e08-8d48-f057-5c33-0344"
      },
      {
       "current": "3e836c18-0c75-11f0-b991-feb16f56f93e-12-3f9b-d91b-9971-7510-3c5e-1a25-8534-be8d-1f5b-f63a",
       "next": "49f48492-1c24-11f0-baf6-eaf1011eb67f-4-e4e3-bf8a-77f2-a8ed",
       "previous": "1945ee16-0f8c-11f0-935e-6e323efef16c-9-2c1c-4f08-40b5-cf6e-9e08-8d48-f057-5c33-0344"
      },
      {
       "current": "3e836c18-0c75-11f0-b991-feb16f56f93e-13-d91b-9971-7510-3c5e-1a25-8534-be8d-1f5b-f63a-855a",
       "next": "49f48492-1c24-11f0-baf6-eaf1011eb67f-4-e4e3-bf8a-77f2-a8ed",
       "previous": "1945ee16-0f8c-11f0-935e-6e323efef16c-10-2c1c-4f08-40b5-cf6e-9e08-8d48-f057-5c33-0344-c656"
      },
      {
       "current": "3e836c18-0c75-11f0-b991-feb16f56f93e-15-7510-3c5e-1a25-8534-be8d-1f5b-f63a-855a-d1ae-53d7",
       "next": "49f48492-1c24-11f0-baf6-eaf1011eb67f-4-e4e3-bf8a-77f2-a8ed",
       "previous": "1945ee16-0f8c-11f0-935e-6e323efef16c-11-4f08-40b5-cf6e-9e08-8d48-f057-5c33-0344-c656-d3cb"
      },
      {
       "current": "3e836c18-0c75-11f0-b991-feb16f56f93e-15-7510-3c5e-1a25-8534-be8d-1f5b-f63a-855a-d1ae-53d7",
       "next": "49f48492-1c24-11f0-baf6-eaf1011eb67f-5-e4e3-bf8a-77f2-a8ed-63cb",
       "previous": "1945ee16-0f8c-11f0-935e-6e323efef16c-13-cf6e-9e08-8d48-f057-5c33-0344-c656-d3cb-c939-9968"
      },
      {
       "current": "3e836c18-0c75-11f0-b991-feb16f56f93e-15-7510-3c5e-1a25-8534-be8d-1f5b-f63a-855a-d1ae-53d7",
       "next": "6fd3a518-1e35-11f0-85e7-be8e2cbe8172",
       "previous": "1945ee16-0f8c-11f0-935e-6e323efef16c-13-cf6e-9e08-8d48-f057-5c33-0344-c656-d3cb-c939-9968"
      },
      {
       "current": "3e836c18-0c75-11f0-b991-feb16f56f93e-16-3c5e-1a25-8534-be8d-1f5b-f63a-855a-d1ae-53d7-a7ac",
       "next": "1945ee16-0f8c-11f0-935e-6e323efef16c-14-9e08-8d48-f057-5c33-0344-c656-d3cb-c939-9968-42cc",
       "previous": "1945ee16-0f8c-11f0-935e-6e323efef16c-13-cf6e-9e08-8d48-f057-5c33-0344-c656-d3cb-c939-9968"
      },
      {
       "current": "3e836c18-0c75-11f0-b991-feb16f56f93e-17-1a25-8534-be8d-1f5b-f63a-855a-d1ae-53d7-a7ac-15b1",
       "next": "1945ee16-0f8c-11f0-935e-6e323efef16c-15-8d48-f057-5c33-0344-c656-d3cb-c939-9968-42cc-f0a0",
       "previous": "1945ee16-0f8c-11f0-935e-6e323efef16c-14-9e08-8d48-f057-5c33-0344-c656-d3cb-c939-9968-651a"
      },
      {
       "current": "3e836c18-0c75-11f0-b991-feb16f56f93e-19-be8d-1f5b-f63a-855a-d1ae-53d7-a7ac-15b1-9a67-a2c2",
       "next": "1945ee16-0f8c-11f0-935e-6e323efef16c-16-f057-5c33-0344-c656-d3cb-c939-9968-42cc-f0a0-97f4",
       "previous": "1945ee16-0f8c-11f0-935e-6e323efef16c-15-8d48-f057-5c33-0344-c656-d3cb-c939-9968-651a-85c9"
      }
     ],
     "next": "1945ee16-0f8c-11f0-935e-6e323efef16c-18-0344-c656-d3cb-c939-9968-42cc-f0a0-97f4-2b0e-c8a6",
     "previous": "1945ee16-0f8c-11f0-935e-6e323efef16c-17-5c33-0344-c656-d3cb-c939-9968-651a-85c9-6570-ceff"
    },
    "pinnedOutputTabIndex": 0,
    "run_through_control": {
     "frozen": false,
     "read_only": false
    }
   },
   "outputs": [],
   "source": [
    "result_notebooks.append(run_notebook(\n",
    "    'テスト手順-管理者機能-ノード管理.ipynb',\n",
    "    dict(\n",
    "        search_node_id=search_node_id,\n",
    "        search_node_title=search_node_title,\n",
    "    ),\n",
    "))\n",
    "result_notebooks"
   ]
  },
  {
   "cell_type": "markdown",
   "id": "97bfa133-b479-4689-9a9e-6db47b54975e",
   "metadata": {
    "deletable": true,
    "editable": true,
    "lc_cell_meme": {
     "current": "1945ee16-0f8c-11f0-935e-6e323efef16c-19-c656-d3cb-c939-9968-42cc-f0a0-97f4-2b0e-c8a6-d455",
     "history": [
      {
       "current": "1945ee16-0f8c-11f0-935e-6e323efef16c-2-2c1c-4f08",
       "next": "3e836c18-0c75-11f0-b991-feb16f56f93e-3-b008-e8d0-3f9b",
       "previous": "8af0ac06-0c6f-11f0-98e9-5e0a5654d7bd-3-c85a-d8bf-8dea"
      },
      {
       "current": "1945ee16-0f8c-11f0-935e-6e323efef16c-5-2c1c-4f08-40b5-cf6e-9e08",
       "next": "3e836c18-0c75-11f0-b991-feb16f56f93e-4-b008-e8d0-3f9b-d91b",
       "previous": "8af0ac06-0c6f-11f0-98e9-5e0a5654d7bd-4-c85a-d8bf-8dea-ced2"
      },
      {
       "current": "1945ee16-0f8c-11f0-935e-6e323efef16c-5-2c1c-4f08-40b5-cf6e-9e08",
       "next": "3e836c18-0c75-11f0-b991-feb16f56f93e-7-b008-e8d0-3f9b-d91b-9971-7510-3c5e",
       "previous": "e4ebb1f2-191b-11f0-ad36-668cb6ddd6b0"
      },
      {
       "current": "1945ee16-0f8c-11f0-935e-6e323efef16c-6-2c1c-4f08-40b5-cf6e-9e08-8d48",
       "next": "3e836c18-0c75-11f0-b991-feb16f56f93e-7-b008-e8d0-3f9b-d91b-9971-7510-3c5e",
       "previous": "8af0ac06-0c6f-11f0-98e9-5e0a5654d7bd-7-c85a-d8bf-8dea-ced2-b6ea-11de-e027"
      },
      {
       "current": "1945ee16-0f8c-11f0-935e-6e323efef16c-9-2c1c-4f08-40b5-cf6e-9e08-8d48-f057-5c33-0344",
       "next": "3e836c18-0c75-11f0-b991-feb16f56f93e-8-b008-e8d0-3f9b-d91b-9971-7510-3c5e-1a25",
       "previous": "8af0ac06-0c6f-11f0-98e9-5e0a5654d7bd-8-c85a-d8bf-8dea-ced2-b6ea-11de-e027-5ced"
      },
      {
       "current": "1945ee16-0f8c-11f0-935e-6e323efef16c-10-2c1c-4f08-40b5-cf6e-9e08-8d48-f057-5c33-0344-c656",
       "next": "3e836c18-0c75-11f0-b991-feb16f56f93e-11-e8d0-3f9b-d91b-9971-7510-3c5e-1a25-8534-be8d-1f5b",
       "previous": "8af0ac06-0c6f-11f0-98e9-5e0a5654d7bd-11-d8bf-8dea-ced2-b6ea-11de-e027-5ced-0939-f364-6bc7"
      },
      {
       "current": "1945ee16-0f8c-11f0-935e-6e323efef16c-11-4f08-40b5-cf6e-9e08-8d48-f057-5c33-0344-c656-d3cb",
       "next": "3e836c18-0c75-11f0-b991-feb16f56f93e-12-3f9b-d91b-9971-7510-3c5e-1a25-8534-be8d-1f5b-f63a",
       "previous": "3e836c18-0c75-11f0-b991-feb16f56f93e-11-e8d0-3f9b-d91b-9971-7510-3c5e-1a25-8534-be8d-1f5b"
      },
      {
       "current": "1945ee16-0f8c-11f0-935e-6e323efef16c-13-cf6e-9e08-8d48-f057-5c33-0344-c656-d3cb-c939-9968",
       "next": "3e836c18-0c75-11f0-b991-feb16f56f93e-13-d91b-9971-7510-3c5e-1a25-8534-be8d-1f5b-f63a-855a",
       "previous": "3e836c18-0c75-11f0-b991-feb16f56f93e-12-3f9b-d91b-9971-7510-3c5e-1a25-8534-be8d-1f5b-f63a"
      },
      {
       "current": "1945ee16-0f8c-11f0-935e-6e323efef16c-14-9e08-8d48-f057-5c33-0344-c656-d3cb-c939-9968-42cc",
       "next": "3e836c18-0c75-11f0-b991-feb16f56f93e-15-7510-3c5e-1a25-8534-be8d-1f5b-f63a-855a-d1ae-53d7",
       "previous": "3e836c18-0c75-11f0-b991-feb16f56f93e-14-9971-7510-3c5e-1a25-8534-be8d-1f5b-f63a-855a-d1ae"
      },
      {
       "current": "1945ee16-0f8c-11f0-935e-6e323efef16c-14-9e08-8d48-f057-5c33-0344-c656-d3cb-c939-9968-42cc",
       "next": "3e836c18-0c75-11f0-b991-feb16f56f93e-16-3c5e-1a25-8534-be8d-1f5b-f63a-855a-d1ae-53d7-d31c",
       "previous": "3e836c18-0c75-11f0-b991-feb16f56f93e-15-7510-3c5e-1a25-8534-be8d-1f5b-f63a-855a-d1ae-53d7"
      },
      {
       "current": "1945ee16-0f8c-11f0-935e-6e323efef16c-14-9e08-8d48-f057-5c33-0344-c656-d3cb-c939-9968-42cc",
       "next": "3e836c18-0c75-11f0-b991-feb16f56f93e-16-3c5e-1a25-8534-be8d-1f5b-f63a-855a-d1ae-53d7-d31c",
       "previous": "3e836c18-0c75-11f0-b991-feb16f56f93e-15-7510-3c5e-1a25-8534-be8d-1f5b-f63a-855a-d1ae-53d7"
      },
      {
       "current": "1945ee16-0f8c-11f0-935e-6e323efef16c-14-9e08-8d48-f057-5c33-0344-c656-d3cb-c939-9968-42cc",
       "next": "6fd3a518-1e35-11f0-85e7-be8e2cbe8172-1-be01",
       "previous": "3e836c18-0c75-11f0-b991-feb16f56f93e-15-7510-3c5e-1a25-8534-be8d-1f5b-f63a-855a-d1ae-53d7"
      },
      {
       "current": "1945ee16-0f8c-11f0-935e-6e323efef16c-15-8d48-f057-5c33-0344-c656-d3cb-c939-9968-42cc-f0a0",
       "next": "3e836c18-0c75-11f0-b991-feb16f56f93e-16-3c5e-1a25-8534-be8d-1f5b-f63a-855a-d1ae-53d7-d31c",
       "previous": "3e836c18-0c75-11f0-b991-feb16f56f93e-15-7510-3c5e-1a25-8534-be8d-1f5b-f63a-855a-d1ae-53d7"
      },
      {
       "current": "1945ee16-0f8c-11f0-935e-6e323efef16c-16-f057-5c33-0344-c656-d3cb-c939-9968-42cc-f0a0-97f4",
       "next": "3e836c18-0c75-11f0-b991-feb16f56f93e-17-1a25-8534-be8d-1f5b-f63a-855a-d1ae-53d7-d31c-4e40",
       "previous": "3e836c18-0c75-11f0-b991-feb16f56f93e-16-3c5e-1a25-8534-be8d-1f5b-f63a-855a-d1ae-53d7-a7ac"
      },
      {
       "current": "1945ee16-0f8c-11f0-935e-6e323efef16c-18-0344-c656-d3cb-c939-9968-42cc-f0a0-97f4-2b0e-c8a6",
       "next": "3e836c18-0c75-11f0-b991-feb16f56f93e-18-8534-be8d-1f5b-f63a-855a-d1ae-53d7-d31c-4e40-46d7",
       "previous": "3e836c18-0c75-11f0-b991-feb16f56f93e-17-1a25-8534-be8d-1f5b-f63a-855a-d1ae-53d7-a7ac-15b1"
      }
     ],
     "next": "3e836c18-0c75-11f0-b991-feb16f56f93e-20-1f5b-f63a-855a-d1ae-53d7-d31c-4e40-46d7-588b-b0dd",
     "previous": "3e836c18-0c75-11f0-b991-feb16f56f93e-19-be8d-1f5b-f63a-855a-d1ae-53d7-a7ac-15b1-9a67-a2c2"
    },
    "pinnedOutputTabIndex": 0,
    "run_through_control": {
     "frozen": false,
     "read_only": false
    }
   },
   "source": [
    "## 「ユーザ管理」テストの実施\n",
    "\n",
    "テスト「テスト手順-管理者機能-ユーザ管理」を実施する。"
   ]
  },
  {
   "cell_type": "code",
   "execution_count": null,
   "id": "d1861036-591b-4332-ba3c-5de2aee76658",
   "metadata": {
    "deletable": true,
    "lc_cell_meme": {
     "current": "3e836c18-0c75-11f0-b991-feb16f56f93e-21-f63a-855a-d1ae-53d7-d31c-4e40-46d7-588b-b0dd-2933",
     "execution_end_time": "2025-04-20T22:52:52.670Z",
     "history": [
      {
       "current": "3e836c18-0c75-11f0-b991-feb16f56f93e",
       "next": "ce8c187e-f991-11ef-a92d-0242ac120006-6-964d-161e-73da-b120-ac56-8b98",
       "previous": "9954a6fc-0c70-11f0-98e9-5e0a5654d7bd-1-f4b2"
      },
      {
       "current": "3e836c18-0c75-11f0-b991-feb16f56f93e",
       "next": "522aa0f0-0c76-11f0-b991-feb16f56f93e",
       "previous": "9954a6fc-0c70-11f0-98e9-5e0a5654d7bd-1-f4b2"
      },
      {
       "current": "3e836c18-0c75-11f0-b991-feb16f56f93e-2-b008-e8d0",
       "next": "ce8c187e-f991-11ef-a92d-0242ac120006-6-964d-161e-73da-b120-ac56-8b98",
       "previous": "9954a6fc-0c70-11f0-98e9-5e0a5654d7bd-1-f4b2"
      },
      {
       "current": "3e836c18-0c75-11f0-b991-feb16f56f93e-3-b008-e8d0-3f9b",
       "next": "e49811c6-0f8b-11f0-935e-6e323efef16c",
       "previous": "9954a6fc-0c70-11f0-98e9-5e0a5654d7bd-3-f4b2-32da-b588"
      },
      {
       "current": "3e836c18-0c75-11f0-b991-feb16f56f93e-3-b008-e8d0-3f9b",
       "next": "e49811c6-0f8b-11f0-935e-6e323efef16c",
       "previous": "9954a6fc-0c70-11f0-98e9-5e0a5654d7bd-3-f4b2-32da-b588"
      },
      {
       "current": "3e836c18-0c75-11f0-b991-feb16f56f93e-3-b008-e8d0-3f9b",
       "next": "9954a6fc-0c70-11f0-98e9-5e0a5654d7bd-3-f4b2-32da-b588",
       "previous": "8af0ac06-0c6f-11f0-98e9-5e0a5654d7bd-3-c85a-d8bf-8dea"
      },
      {
       "current": "3e836c18-0c75-11f0-b991-feb16f56f93e-3-b008-e8d0-3f9b",
       "next": "9954a6fc-0c70-11f0-98e9-5e0a5654d7bd-3-f4b2-32da-b588",
       "previous": "1945ee16-0f8c-11f0-935e-6e323efef16c"
      },
      {
       "current": "3e836c18-0c75-11f0-b991-feb16f56f93e-3-b008-e8d0-3f9b",
       "next": "9954a6fc-0c70-11f0-98e9-5e0a5654d7bd-3-f4b2-32da-b588",
       "previous": "1945ee16-0f8c-11f0-935e-6e323efef16c"
      },
      {
       "current": "3e836c18-0c75-11f0-b991-feb16f56f93e-3-b008-e8d0-3f9b",
       "next": "9954a6fc-0c70-11f0-98e9-5e0a5654d7bd-3-f4b2-32da-b588",
       "previous": "1945ee16-0f8c-11f0-935e-6e323efef16c-1-2c1c"
      },
      {
       "current": "3e836c18-0c75-11f0-b991-feb16f56f93e-3-b008-e8d0-3f9b",
       "next": "5111a470-0f8c-11f0-935e-6e323efef16c",
       "previous": "1945ee16-0f8c-11f0-935e-6e323efef16c-1-2c1c"
      },
      {
       "current": "3e836c18-0c75-11f0-b991-feb16f56f93e-3-b008-e8d0-3f9b",
       "next": "5111a470-0f8c-11f0-935e-6e323efef16c",
       "previous": "1945ee16-0f8c-11f0-935e-6e323efef16c-1-2c1c"
      },
      {
       "current": "3e836c18-0c75-11f0-b991-feb16f56f93e-4-b008-e8d0-3f9b-d91b",
       "next": "5111a470-0f8c-11f0-935e-6e323efef16c-1-cde4",
       "previous": "1945ee16-0f8c-11f0-935e-6e323efef16c-1-2c1c"
      },
      {
       "current": "3e836c18-0c75-11f0-b991-feb16f56f93e-7-b008-e8d0-3f9b-d91b-9971-7510-3c5e",
       "next": "5111a470-0f8c-11f0-935e-6e323efef16c-2-cde4-2f90",
       "previous": "1945ee16-0f8c-11f0-935e-6e323efef16c-2-2c1c-4f08"
      },
      {
       "current": "3e836c18-0c75-11f0-b991-feb16f56f93e-8-b008-e8d0-3f9b-d91b-9971-7510-3c5e-1a25",
       "next": "5111a470-0f8c-11f0-935e-6e323efef16c-5-cde4-2f90-b5a2-f6e5-88d7",
       "previous": "1945ee16-0f8c-11f0-935e-6e323efef16c-5-2c1c-4f08-40b5-cf6e-9e08"
      },
      {
       "current": "3e836c18-0c75-11f0-b991-feb16f56f93e-11-e8d0-3f9b-d91b-9971-7510-3c5e-1a25-8534-be8d-1f5b",
       "next": "5111a470-0f8c-11f0-935e-6e323efef16c-6-cde4-2f90-b5a2-f6e5-88d7-521b",
       "previous": "1945ee16-0f8c-11f0-935e-6e323efef16c-6-2c1c-4f08-40b5-cf6e-9e08-8d48"
      },
      {
       "current": "3e836c18-0c75-11f0-b991-feb16f56f93e-11-e8d0-3f9b-d91b-9971-7510-3c5e-1a25-8534-be8d-1f5b",
       "next": "5111a470-0f8c-11f0-935e-6e323efef16c-9-cde4-2f90-b5a2-f6e5-88d7-521b-9af2-6a60-a5f5",
       "previous": "1945ee16-0f8c-11f0-935e-6e323efef16c-9-2c1c-4f08-40b5-cf6e-9e08-8d48-f057-5c33-0344"
      },
      {
       "current": "3e836c18-0c75-11f0-b991-feb16f56f93e-11-e8d0-3f9b-d91b-9971-7510-3c5e-1a25-8534-be8d-1f5b",
       "next": "9954a6fc-0c70-11f0-98e9-5e0a5654d7bd-11-32da-b588-2530-2362-ef25-d28e-b01d-99fe-df5d-298e",
       "previous": "1945ee16-0f8c-11f0-935e-6e323efef16c-9-2c1c-4f08-40b5-cf6e-9e08-8d48-f057-5c33-0344"
      },
      {
       "current": "3e836c18-0c75-11f0-b991-feb16f56f93e-11-e8d0-3f9b-d91b-9971-7510-3c5e-1a25-8534-be8d-1f5b",
       "next": "5111a470-0f8c-11f0-935e-6e323efef16c-10-cde4-bd15-47f7-4a43-6e0c-4f72-5d03-228c-c238-5828",
       "previous": "1945ee16-0f8c-11f0-935e-6e323efef16c-9-2c1c-4f08-40b5-cf6e-9e08-8d48-f057-5c33-0344"
      },
      {
       "current": "3e836c18-0c75-11f0-b991-feb16f56f93e-11-e8d0-3f9b-d91b-9971-7510-3c5e-1a25-8534-be8d-1f5b",
       "next": "9954a6fc-0c70-11f0-98e9-5e0a5654d7bd-12-b588-2ea3-c289-53e5-31c4-7b04-2eff-2c6e-2ac3-dfdd",
       "previous": "1945ee16-0f8c-11f0-935e-6e323efef16c-9-2c1c-4f08-40b5-cf6e-9e08-8d48-f057-5c33-0344"
      },
      {
       "current": "3e836c18-0c75-11f0-b991-feb16f56f93e-12-3f9b-d91b-9971-7510-3c5e-1a25-8534-be8d-1f5b-f63a",
       "next": "49f48492-1c24-11f0-baf6-eaf1011eb67f-4-e4e3-bf8a-77f2-a8ed",
       "previous": "1945ee16-0f8c-11f0-935e-6e323efef16c-9-2c1c-4f08-40b5-cf6e-9e08-8d48-f057-5c33-0344"
      },
      {
       "current": "3e836c18-0c75-11f0-b991-feb16f56f93e-13-d91b-9971-7510-3c5e-1a25-8534-be8d-1f5b-f63a-855a",
       "next": "49f48492-1c24-11f0-baf6-eaf1011eb67f-4-e4e3-bf8a-77f2-a8ed",
       "previous": "1945ee16-0f8c-11f0-935e-6e323efef16c-10-2c1c-4f08-40b5-cf6e-9e08-8d48-f057-5c33-0344-c656"
      },
      {
       "current": "3e836c18-0c75-11f0-b991-feb16f56f93e-15-7510-3c5e-1a25-8534-be8d-1f5b-f63a-855a-d1ae-53d7",
       "next": "49f48492-1c24-11f0-baf6-eaf1011eb67f-4-e4e3-bf8a-77f2-a8ed",
       "previous": "1945ee16-0f8c-11f0-935e-6e323efef16c-11-4f08-40b5-cf6e-9e08-8d48-f057-5c33-0344-c656-d3cb"
      },
      {
       "current": "3e836c18-0c75-11f0-b991-feb16f56f93e-15-7510-3c5e-1a25-8534-be8d-1f5b-f63a-855a-d1ae-53d7",
       "next": "49f48492-1c24-11f0-baf6-eaf1011eb67f-5-e4e3-bf8a-77f2-a8ed-63cb",
       "previous": "1945ee16-0f8c-11f0-935e-6e323efef16c-13-cf6e-9e08-8d48-f057-5c33-0344-c656-d3cb-c939-9968"
      },
      {
       "current": "3e836c18-0c75-11f0-b991-feb16f56f93e-16-3c5e-1a25-8534-be8d-1f5b-f63a-855a-d1ae-53d7-d31c",
       "next": "6fd3a518-1e35-11f0-85e7-be8e2cbe8172",
       "previous": "1945ee16-0f8c-11f0-935e-6e323efef16c-13-cf6e-9e08-8d48-f057-5c33-0344-c656-d3cb-c939-9968"
      },
      {
       "current": "3e836c18-0c75-11f0-b991-feb16f56f93e-16-3c5e-1a25-8534-be8d-1f5b-f63a-855a-d1ae-53d7-d31c",
       "next": "6fd3a518-1e35-11f0-85e7-be8e2cbe8172",
       "previous": "1945ee16-0f8c-11f0-935e-6e323efef16c-14-9e08-8d48-f057-5c33-0344-c656-d3cb-c939-9968-42cc"
      },
      {
       "current": "3e836c18-0c75-11f0-b991-feb16f56f93e-16-3c5e-1a25-8534-be8d-1f5b-f63a-855a-d1ae-53d7-d31c",
       "next": "6fd3a518-1e35-11f0-85e7-be8e2cbe8172",
       "previous": "1945ee16-0f8c-11f0-935e-6e323efef16c-14-9e08-8d48-f057-5c33-0344-c656-d3cb-c939-9968-42cc"
      },
      {
       "current": "3e836c18-0c75-11f0-b991-feb16f56f93e-16-3c5e-1a25-8534-be8d-1f5b-f63a-855a-d1ae-53d7-d31c",
       "next": "49f48492-1c24-11f0-baf6-eaf1011eb67f-5-e4e3-bf8a-77f2-a8ed-63cb",
       "previous": "6fd3a518-1e35-11f0-85e7-be8e2cbe8172-1-be01"
      },
      {
       "current": "3e836c18-0c75-11f0-b991-feb16f56f93e-16-3c5e-1a25-8534-be8d-1f5b-f63a-855a-d1ae-53d7-d31c",
       "next": "49f48492-1c24-11f0-baf6-eaf1011eb67f-5-e4e3-bf8a-77f2-a8ed-63cb",
       "previous": "1945ee16-0f8c-11f0-935e-6e323efef16c-14-9e08-8d48-f057-5c33-0344-c656-d3cb-c939-9968-42cc"
      },
      {
       "current": "3e836c18-0c75-11f0-b991-feb16f56f93e-17-1a25-8534-be8d-1f5b-f63a-855a-d1ae-53d7-d31c-4e40",
       "next": "1945ee16-0f8c-11f0-935e-6e323efef16c-15-8d48-f057-5c33-0344-c656-d3cb-c939-9968-42cc-bfc2",
       "previous": "1945ee16-0f8c-11f0-935e-6e323efef16c-14-9e08-8d48-f057-5c33-0344-c656-d3cb-c939-9968-42cc"
      },
      {
       "current": "3e836c18-0c75-11f0-b991-feb16f56f93e-18-8534-be8d-1f5b-f63a-855a-d1ae-53d7-d31c-4e40-46d7",
       "next": "1945ee16-0f8c-11f0-935e-6e323efef16c-16-f057-5c33-0344-c656-d3cb-c939-9968-42cc-bfc2-4600",
       "previous": "1945ee16-0f8c-11f0-935e-6e323efef16c-15-8d48-f057-5c33-0344-c656-d3cb-c939-9968-42cc-f0a0"
      },
      {
       "current": "3e836c18-0c75-11f0-b991-feb16f56f93e-20-1f5b-f63a-855a-d1ae-53d7-d31c-4e40-46d7-588b-b0dd",
       "next": "1945ee16-0f8c-11f0-935e-6e323efef16c-17-5c33-0344-c656-d3cb-c939-9968-42cc-bfc2-4600-41cb",
       "previous": "1945ee16-0f8c-11f0-935e-6e323efef16c-16-f057-5c33-0344-c656-d3cb-c939-9968-42cc-f0a0-97f4"
      }
     ],
     "next": "1945ee16-0f8c-11f0-935e-6e323efef16c-19-c656-d3cb-c939-9968-42cc-bfc2-4600-41cb-1f07-dd8f",
     "previous": "1945ee16-0f8c-11f0-935e-6e323efef16c-18-0344-c656-d3cb-c939-9968-42cc-f0a0-97f4-2b0e-c8a6"
    },
    "pinnedOutputTabIndex": 0,
    "run_through_control": {
     "frozen": false,
     "read_only": false
    }
   },
   "outputs": [],
   "source": [
    "result_notebooks.append(run_notebook(\n",
    "    'テスト手順-管理者機能-ユーザ管理.ipynb',\n",
    "    dict(\n",
    "        search_user_name=search_user_name,\n",
    "        search_user_by_id=search_user_by_id,\n",
    "        search_user_by_name=search_user_by_name,\n",
    "        search_user_by_email=search_user_by_email,\n",
    "    ),\n",
    "))\n",
    "result_notebooks"
   ]
  },
  {
   "cell_type": "markdown",
   "id": "2dcb1b9c-b8da-4bda-bc1e-63f8bdf1c369",
   "metadata": {
    "deletable": true,
    "editable": true,
    "lc_cell_meme": {
     "current": "1945ee16-0f8c-11f0-935e-6e323efef16c-20-d3cb-c939-9968-42cc-bfc2-4600-41cb-1f07-dd8f-a583",
     "history": [
      {
       "current": "1945ee16-0f8c-11f0-935e-6e323efef16c-2-2c1c-4f08",
       "next": "3e836c18-0c75-11f0-b991-feb16f56f93e-3-b008-e8d0-3f9b",
       "previous": "8af0ac06-0c6f-11f0-98e9-5e0a5654d7bd-3-c85a-d8bf-8dea"
      },
      {
       "current": "1945ee16-0f8c-11f0-935e-6e323efef16c-5-2c1c-4f08-40b5-cf6e-9e08",
       "next": "3e836c18-0c75-11f0-b991-feb16f56f93e-4-b008-e8d0-3f9b-d91b",
       "previous": "8af0ac06-0c6f-11f0-98e9-5e0a5654d7bd-4-c85a-d8bf-8dea-ced2"
      },
      {
       "current": "1945ee16-0f8c-11f0-935e-6e323efef16c-5-2c1c-4f08-40b5-cf6e-9e08",
       "next": "3e836c18-0c75-11f0-b991-feb16f56f93e-7-b008-e8d0-3f9b-d91b-9971-7510-3c5e",
       "previous": "e4ebb1f2-191b-11f0-ad36-668cb6ddd6b0"
      },
      {
       "current": "1945ee16-0f8c-11f0-935e-6e323efef16c-6-2c1c-4f08-40b5-cf6e-9e08-8d48",
       "next": "3e836c18-0c75-11f0-b991-feb16f56f93e-7-b008-e8d0-3f9b-d91b-9971-7510-3c5e",
       "previous": "8af0ac06-0c6f-11f0-98e9-5e0a5654d7bd-7-c85a-d8bf-8dea-ced2-b6ea-11de-e027"
      },
      {
       "current": "1945ee16-0f8c-11f0-935e-6e323efef16c-9-2c1c-4f08-40b5-cf6e-9e08-8d48-f057-5c33-0344",
       "next": "3e836c18-0c75-11f0-b991-feb16f56f93e-8-b008-e8d0-3f9b-d91b-9971-7510-3c5e-1a25",
       "previous": "8af0ac06-0c6f-11f0-98e9-5e0a5654d7bd-8-c85a-d8bf-8dea-ced2-b6ea-11de-e027-5ced"
      },
      {
       "current": "1945ee16-0f8c-11f0-935e-6e323efef16c-10-2c1c-4f08-40b5-cf6e-9e08-8d48-f057-5c33-0344-c656",
       "next": "3e836c18-0c75-11f0-b991-feb16f56f93e-11-e8d0-3f9b-d91b-9971-7510-3c5e-1a25-8534-be8d-1f5b",
       "previous": "8af0ac06-0c6f-11f0-98e9-5e0a5654d7bd-11-d8bf-8dea-ced2-b6ea-11de-e027-5ced-0939-f364-6bc7"
      },
      {
       "current": "1945ee16-0f8c-11f0-935e-6e323efef16c-11-4f08-40b5-cf6e-9e08-8d48-f057-5c33-0344-c656-d3cb",
       "next": "3e836c18-0c75-11f0-b991-feb16f56f93e-12-3f9b-d91b-9971-7510-3c5e-1a25-8534-be8d-1f5b-f63a",
       "previous": "3e836c18-0c75-11f0-b991-feb16f56f93e-11-e8d0-3f9b-d91b-9971-7510-3c5e-1a25-8534-be8d-1f5b"
      },
      {
       "current": "1945ee16-0f8c-11f0-935e-6e323efef16c-13-cf6e-9e08-8d48-f057-5c33-0344-c656-d3cb-c939-9968",
       "next": "3e836c18-0c75-11f0-b991-feb16f56f93e-13-d91b-9971-7510-3c5e-1a25-8534-be8d-1f5b-f63a-855a",
       "previous": "3e836c18-0c75-11f0-b991-feb16f56f93e-12-3f9b-d91b-9971-7510-3c5e-1a25-8534-be8d-1f5b-f63a"
      },
      {
       "current": "1945ee16-0f8c-11f0-935e-6e323efef16c-14-9e08-8d48-f057-5c33-0344-c656-d3cb-c939-9968-42cc",
       "next": "3e836c18-0c75-11f0-b991-feb16f56f93e-15-7510-3c5e-1a25-8534-be8d-1f5b-f63a-855a-d1ae-53d7",
       "previous": "3e836c18-0c75-11f0-b991-feb16f56f93e-14-9971-7510-3c5e-1a25-8534-be8d-1f5b-f63a-855a-d1ae"
      },
      {
       "current": "1945ee16-0f8c-11f0-935e-6e323efef16c-14-9e08-8d48-f057-5c33-0344-c656-d3cb-c939-9968-42cc",
       "next": "3e836c18-0c75-11f0-b991-feb16f56f93e-16-3c5e-1a25-8534-be8d-1f5b-f63a-855a-d1ae-53d7-d31c",
       "previous": "3e836c18-0c75-11f0-b991-feb16f56f93e-15-7510-3c5e-1a25-8534-be8d-1f5b-f63a-855a-d1ae-53d7"
      },
      {
       "current": "1945ee16-0f8c-11f0-935e-6e323efef16c-14-9e08-8d48-f057-5c33-0344-c656-d3cb-c939-9968-42cc",
       "next": "3e836c18-0c75-11f0-b991-feb16f56f93e-16-3c5e-1a25-8534-be8d-1f5b-f63a-855a-d1ae-53d7-d31c",
       "previous": "3e836c18-0c75-11f0-b991-feb16f56f93e-15-7510-3c5e-1a25-8534-be8d-1f5b-f63a-855a-d1ae-53d7"
      },
      {
       "current": "1945ee16-0f8c-11f0-935e-6e323efef16c-14-9e08-8d48-f057-5c33-0344-c656-d3cb-c939-9968-42cc",
       "next": "6fd3a518-1e35-11f0-85e7-be8e2cbe8172-1-be01",
       "previous": "3e836c18-0c75-11f0-b991-feb16f56f93e-15-7510-3c5e-1a25-8534-be8d-1f5b-f63a-855a-d1ae-53d7"
      },
      {
       "current": "1945ee16-0f8c-11f0-935e-6e323efef16c-15-8d48-f057-5c33-0344-c656-d3cb-c939-9968-42cc-bfc2",
       "next": "3e836c18-0c75-11f0-b991-feb16f56f93e-16-3c5e-1a25-8534-be8d-1f5b-f63a-855a-d1ae-53d7-d31c",
       "previous": "3e836c18-0c75-11f0-b991-feb16f56f93e-15-7510-3c5e-1a25-8534-be8d-1f5b-f63a-855a-d1ae-53d7"
      },
      {
       "current": "1945ee16-0f8c-11f0-935e-6e323efef16c-16-f057-5c33-0344-c656-d3cb-c939-9968-42cc-bfc2-4600",
       "next": "3e836c18-0c75-11f0-b991-feb16f56f93e-17-1a25-8534-be8d-1f5b-f63a-855a-d1ae-53d7-d31c-ef62",
       "previous": "3e836c18-0c75-11f0-b991-feb16f56f93e-16-3c5e-1a25-8534-be8d-1f5b-f63a-855a-d1ae-53d7-d31c"
      },
      {
       "current": "1945ee16-0f8c-11f0-935e-6e323efef16c-17-5c33-0344-c656-d3cb-c939-9968-42cc-bfc2-4600-41cb",
       "next": "3e836c18-0c75-11f0-b991-feb16f56f93e-18-8534-be8d-1f5b-f63a-855a-d1ae-53d7-d31c-ef62-3f68",
       "previous": "3e836c18-0c75-11f0-b991-feb16f56f93e-17-1a25-8534-be8d-1f5b-f63a-855a-d1ae-53d7-d31c-4e40"
      },
      {
       "current": "1945ee16-0f8c-11f0-935e-6e323efef16c-19-c656-d3cb-c939-9968-42cc-bfc2-4600-41cb-1f07-dd8f",
       "next": "3e836c18-0c75-11f0-b991-feb16f56f93e-19-be8d-1f5b-f63a-855a-d1ae-53d7-d31c-ef62-3f68-03e8",
       "previous": "3e836c18-0c75-11f0-b991-feb16f56f93e-18-8534-be8d-1f5b-f63a-855a-d1ae-53d7-d31c-4e40-46d7"
      }
     ],
     "next": "3e836c18-0c75-11f0-b991-feb16f56f93e-21-f63a-855a-d1ae-53d7-d31c-ef62-3f68-03e8-9287-f0ba",
     "previous": "3e836c18-0c75-11f0-b991-feb16f56f93e-20-1f5b-f63a-855a-d1ae-53d7-d31c-4e40-46d7-588b-b0dd"
    },
    "pinnedOutputTabIndex": 0,
    "run_through_control": {
     "frozen": false,
     "read_only": false
    }
   },
   "source": [
    "## 「機関設定」テストの実施\n",
    "\n",
    "テスト「テスト手順-管理者機能-機関設定」を実施する。"
   ]
  },
  {
   "cell_type": "code",
   "execution_count": null,
   "id": "2fb3e5f7-7e9b-45fd-a131-8af70c257a3d",
   "metadata": {
    "deletable": true,
    "lc_cell_meme": {
     "current": "3e836c18-0c75-11f0-b991-feb16f56f93e-22-855a-d1ae-53d7-d31c-ef62-3f68-03e8-9287-f0ba-f096",
     "execution_end_time": "2025-04-20T22:52:59.324Z",
     "history": [
      {
       "current": "3e836c18-0c75-11f0-b991-feb16f56f93e",
       "next": "ce8c187e-f991-11ef-a92d-0242ac120006-6-964d-161e-73da-b120-ac56-8b98",
       "previous": "9954a6fc-0c70-11f0-98e9-5e0a5654d7bd-1-f4b2"
      },
      {
       "current": "3e836c18-0c75-11f0-b991-feb16f56f93e",
       "next": "522aa0f0-0c76-11f0-b991-feb16f56f93e",
       "previous": "9954a6fc-0c70-11f0-98e9-5e0a5654d7bd-1-f4b2"
      },
      {
       "current": "3e836c18-0c75-11f0-b991-feb16f56f93e-2-b008-e8d0",
       "next": "ce8c187e-f991-11ef-a92d-0242ac120006-6-964d-161e-73da-b120-ac56-8b98",
       "previous": "9954a6fc-0c70-11f0-98e9-5e0a5654d7bd-1-f4b2"
      },
      {
       "current": "3e836c18-0c75-11f0-b991-feb16f56f93e-3-b008-e8d0-3f9b",
       "next": "e49811c6-0f8b-11f0-935e-6e323efef16c",
       "previous": "9954a6fc-0c70-11f0-98e9-5e0a5654d7bd-3-f4b2-32da-b588"
      },
      {
       "current": "3e836c18-0c75-11f0-b991-feb16f56f93e-3-b008-e8d0-3f9b",
       "next": "e49811c6-0f8b-11f0-935e-6e323efef16c",
       "previous": "9954a6fc-0c70-11f0-98e9-5e0a5654d7bd-3-f4b2-32da-b588"
      },
      {
       "current": "3e836c18-0c75-11f0-b991-feb16f56f93e-3-b008-e8d0-3f9b",
       "next": "9954a6fc-0c70-11f0-98e9-5e0a5654d7bd-3-f4b2-32da-b588",
       "previous": "8af0ac06-0c6f-11f0-98e9-5e0a5654d7bd-3-c85a-d8bf-8dea"
      },
      {
       "current": "3e836c18-0c75-11f0-b991-feb16f56f93e-3-b008-e8d0-3f9b",
       "next": "9954a6fc-0c70-11f0-98e9-5e0a5654d7bd-3-f4b2-32da-b588",
       "previous": "1945ee16-0f8c-11f0-935e-6e323efef16c"
      },
      {
       "current": "3e836c18-0c75-11f0-b991-feb16f56f93e-3-b008-e8d0-3f9b",
       "next": "9954a6fc-0c70-11f0-98e9-5e0a5654d7bd-3-f4b2-32da-b588",
       "previous": "1945ee16-0f8c-11f0-935e-6e323efef16c"
      },
      {
       "current": "3e836c18-0c75-11f0-b991-feb16f56f93e-3-b008-e8d0-3f9b",
       "next": "9954a6fc-0c70-11f0-98e9-5e0a5654d7bd-3-f4b2-32da-b588",
       "previous": "1945ee16-0f8c-11f0-935e-6e323efef16c-1-2c1c"
      },
      {
       "current": "3e836c18-0c75-11f0-b991-feb16f56f93e-3-b008-e8d0-3f9b",
       "next": "5111a470-0f8c-11f0-935e-6e323efef16c",
       "previous": "1945ee16-0f8c-11f0-935e-6e323efef16c-1-2c1c"
      },
      {
       "current": "3e836c18-0c75-11f0-b991-feb16f56f93e-3-b008-e8d0-3f9b",
       "next": "5111a470-0f8c-11f0-935e-6e323efef16c",
       "previous": "1945ee16-0f8c-11f0-935e-6e323efef16c-1-2c1c"
      },
      {
       "current": "3e836c18-0c75-11f0-b991-feb16f56f93e-4-b008-e8d0-3f9b-d91b",
       "next": "5111a470-0f8c-11f0-935e-6e323efef16c-1-cde4",
       "previous": "1945ee16-0f8c-11f0-935e-6e323efef16c-1-2c1c"
      },
      {
       "current": "3e836c18-0c75-11f0-b991-feb16f56f93e-7-b008-e8d0-3f9b-d91b-9971-7510-3c5e",
       "next": "5111a470-0f8c-11f0-935e-6e323efef16c-2-cde4-2f90",
       "previous": "1945ee16-0f8c-11f0-935e-6e323efef16c-2-2c1c-4f08"
      },
      {
       "current": "3e836c18-0c75-11f0-b991-feb16f56f93e-8-b008-e8d0-3f9b-d91b-9971-7510-3c5e-1a25",
       "next": "5111a470-0f8c-11f0-935e-6e323efef16c-5-cde4-2f90-b5a2-f6e5-88d7",
       "previous": "1945ee16-0f8c-11f0-935e-6e323efef16c-5-2c1c-4f08-40b5-cf6e-9e08"
      },
      {
       "current": "3e836c18-0c75-11f0-b991-feb16f56f93e-11-e8d0-3f9b-d91b-9971-7510-3c5e-1a25-8534-be8d-1f5b",
       "next": "5111a470-0f8c-11f0-935e-6e323efef16c-6-cde4-2f90-b5a2-f6e5-88d7-521b",
       "previous": "1945ee16-0f8c-11f0-935e-6e323efef16c-6-2c1c-4f08-40b5-cf6e-9e08-8d48"
      },
      {
       "current": "3e836c18-0c75-11f0-b991-feb16f56f93e-11-e8d0-3f9b-d91b-9971-7510-3c5e-1a25-8534-be8d-1f5b",
       "next": "5111a470-0f8c-11f0-935e-6e323efef16c-9-cde4-2f90-b5a2-f6e5-88d7-521b-9af2-6a60-a5f5",
       "previous": "1945ee16-0f8c-11f0-935e-6e323efef16c-9-2c1c-4f08-40b5-cf6e-9e08-8d48-f057-5c33-0344"
      },
      {
       "current": "3e836c18-0c75-11f0-b991-feb16f56f93e-11-e8d0-3f9b-d91b-9971-7510-3c5e-1a25-8534-be8d-1f5b",
       "next": "9954a6fc-0c70-11f0-98e9-5e0a5654d7bd-11-32da-b588-2530-2362-ef25-d28e-b01d-99fe-df5d-298e",
       "previous": "1945ee16-0f8c-11f0-935e-6e323efef16c-9-2c1c-4f08-40b5-cf6e-9e08-8d48-f057-5c33-0344"
      },
      {
       "current": "3e836c18-0c75-11f0-b991-feb16f56f93e-11-e8d0-3f9b-d91b-9971-7510-3c5e-1a25-8534-be8d-1f5b",
       "next": "5111a470-0f8c-11f0-935e-6e323efef16c-10-cde4-bd15-47f7-4a43-6e0c-4f72-5d03-228c-c238-5828",
       "previous": "1945ee16-0f8c-11f0-935e-6e323efef16c-9-2c1c-4f08-40b5-cf6e-9e08-8d48-f057-5c33-0344"
      },
      {
       "current": "3e836c18-0c75-11f0-b991-feb16f56f93e-11-e8d0-3f9b-d91b-9971-7510-3c5e-1a25-8534-be8d-1f5b",
       "next": "9954a6fc-0c70-11f0-98e9-5e0a5654d7bd-12-b588-2ea3-c289-53e5-31c4-7b04-2eff-2c6e-2ac3-dfdd",
       "previous": "1945ee16-0f8c-11f0-935e-6e323efef16c-9-2c1c-4f08-40b5-cf6e-9e08-8d48-f057-5c33-0344"
      },
      {
       "current": "3e836c18-0c75-11f0-b991-feb16f56f93e-12-3f9b-d91b-9971-7510-3c5e-1a25-8534-be8d-1f5b-f63a",
       "next": "49f48492-1c24-11f0-baf6-eaf1011eb67f-4-e4e3-bf8a-77f2-a8ed",
       "previous": "1945ee16-0f8c-11f0-935e-6e323efef16c-9-2c1c-4f08-40b5-cf6e-9e08-8d48-f057-5c33-0344"
      },
      {
       "current": "3e836c18-0c75-11f0-b991-feb16f56f93e-13-d91b-9971-7510-3c5e-1a25-8534-be8d-1f5b-f63a-855a",
       "next": "49f48492-1c24-11f0-baf6-eaf1011eb67f-4-e4e3-bf8a-77f2-a8ed",
       "previous": "1945ee16-0f8c-11f0-935e-6e323efef16c-10-2c1c-4f08-40b5-cf6e-9e08-8d48-f057-5c33-0344-c656"
      },
      {
       "current": "3e836c18-0c75-11f0-b991-feb16f56f93e-15-7510-3c5e-1a25-8534-be8d-1f5b-f63a-855a-d1ae-53d7",
       "next": "49f48492-1c24-11f0-baf6-eaf1011eb67f-4-e4e3-bf8a-77f2-a8ed",
       "previous": "1945ee16-0f8c-11f0-935e-6e323efef16c-11-4f08-40b5-cf6e-9e08-8d48-f057-5c33-0344-c656-d3cb"
      },
      {
       "current": "3e836c18-0c75-11f0-b991-feb16f56f93e-15-7510-3c5e-1a25-8534-be8d-1f5b-f63a-855a-d1ae-53d7",
       "next": "49f48492-1c24-11f0-baf6-eaf1011eb67f-5-e4e3-bf8a-77f2-a8ed-63cb",
       "previous": "1945ee16-0f8c-11f0-935e-6e323efef16c-13-cf6e-9e08-8d48-f057-5c33-0344-c656-d3cb-c939-9968"
      },
      {
       "current": "3e836c18-0c75-11f0-b991-feb16f56f93e-16-3c5e-1a25-8534-be8d-1f5b-f63a-855a-d1ae-53d7-d31c",
       "next": "6fd3a518-1e35-11f0-85e7-be8e2cbe8172",
       "previous": "1945ee16-0f8c-11f0-935e-6e323efef16c-13-cf6e-9e08-8d48-f057-5c33-0344-c656-d3cb-c939-9968"
      },
      {
       "current": "3e836c18-0c75-11f0-b991-feb16f56f93e-16-3c5e-1a25-8534-be8d-1f5b-f63a-855a-d1ae-53d7-d31c",
       "next": "6fd3a518-1e35-11f0-85e7-be8e2cbe8172",
       "previous": "1945ee16-0f8c-11f0-935e-6e323efef16c-14-9e08-8d48-f057-5c33-0344-c656-d3cb-c939-9968-42cc"
      },
      {
       "current": "3e836c18-0c75-11f0-b991-feb16f56f93e-16-3c5e-1a25-8534-be8d-1f5b-f63a-855a-d1ae-53d7-d31c",
       "next": "6fd3a518-1e35-11f0-85e7-be8e2cbe8172",
       "previous": "1945ee16-0f8c-11f0-935e-6e323efef16c-14-9e08-8d48-f057-5c33-0344-c656-d3cb-c939-9968-42cc"
      },
      {
       "current": "3e836c18-0c75-11f0-b991-feb16f56f93e-16-3c5e-1a25-8534-be8d-1f5b-f63a-855a-d1ae-53d7-d31c",
       "next": "49f48492-1c24-11f0-baf6-eaf1011eb67f-5-e4e3-bf8a-77f2-a8ed-63cb",
       "previous": "6fd3a518-1e35-11f0-85e7-be8e2cbe8172-1-be01"
      },
      {
       "current": "3e836c18-0c75-11f0-b991-feb16f56f93e-17-1a25-8534-be8d-1f5b-f63a-855a-d1ae-53d7-d31c-ef62",
       "next": "49f48492-1c24-11f0-baf6-eaf1011eb67f-5-e4e3-bf8a-77f2-a8ed-63cb",
       "previous": "1945ee16-0f8c-11f0-935e-6e323efef16c-14-9e08-8d48-f057-5c33-0344-c656-d3cb-c939-9968-42cc"
      },
      {
       "current": "3e836c18-0c75-11f0-b991-feb16f56f93e-17-1a25-8534-be8d-1f5b-f63a-855a-d1ae-53d7-d31c-ef62",
       "next": "49f48492-1c24-11f0-baf6-eaf1011eb67f-5-e4e3-bf8a-77f2-a8ed-63cb",
       "previous": "1945ee16-0f8c-11f0-935e-6e323efef16c-15-8d48-f057-5c33-0344-c656-d3cb-c939-9968-42cc-bfc2"
      },
      {
       "current": "3e836c18-0c75-11f0-b991-feb16f56f93e-18-8534-be8d-1f5b-f63a-855a-d1ae-53d7-d31c-ef62-3f68",
       "next": "1945ee16-0f8c-11f0-935e-6e323efef16c-15-8d48-f057-5c33-0344-c656-d3cb-c939-9968-42cc-f723",
       "previous": "1945ee16-0f8c-11f0-935e-6e323efef16c-15-8d48-f057-5c33-0344-c656-d3cb-c939-9968-42cc-bfc2"
      },
      {
       "current": "3e836c18-0c75-11f0-b991-feb16f56f93e-19-be8d-1f5b-f63a-855a-d1ae-53d7-d31c-ef62-3f68-03e8",
       "next": "1945ee16-0f8c-11f0-935e-6e323efef16c-16-f057-5c33-0344-c656-d3cb-c939-9968-42cc-f723-8100",
       "previous": "1945ee16-0f8c-11f0-935e-6e323efef16c-16-f057-5c33-0344-c656-d3cb-c939-9968-42cc-bfc2-4600"
      },
      {
       "current": "3e836c18-0c75-11f0-b991-feb16f56f93e-21-f63a-855a-d1ae-53d7-d31c-ef62-3f68-03e8-9287-f0ba",
       "next": "1945ee16-0f8c-11f0-935e-6e323efef16c-17-5c33-0344-c656-d3cb-c939-9968-42cc-f723-8100-1888",
       "previous": "1945ee16-0f8c-11f0-935e-6e323efef16c-17-5c33-0344-c656-d3cb-c939-9968-42cc-bfc2-4600-41cb"
      }
     ],
     "next": "1945ee16-0f8c-11f0-935e-6e323efef16c-19-c656-d3cb-c939-9968-42cc-f723-8100-1888-3954-b973",
     "previous": "1945ee16-0f8c-11f0-935e-6e323efef16c-19-c656-d3cb-c939-9968-42cc-bfc2-4600-41cb-1f07-dd8f"
    },
    "pinnedOutputTabIndex": 0,
    "run_through_control": {
     "frozen": false,
     "read_only": false
    }
   },
   "outputs": [],
   "source": [
    "result_notebooks.append(run_notebook('テスト手順-管理者機能-機関設定.ipynb'))\n",
    "result_notebooks"
   ]
  },
  {
   "cell_type": "markdown",
   "id": "89cfe6f0-d451-4f48-8703-93a324ab1be4",
   "metadata": {
    "deletable": true,
    "editable": true,
    "lc_cell_meme": {
     "current": "1945ee16-0f8c-11f0-935e-6e323efef16c-20-d3cb-c939-9968-42cc-f723-8100-1888-3954-b973-ded3",
     "history": [
      {
       "current": "1945ee16-0f8c-11f0-935e-6e323efef16c-2-2c1c-4f08",
       "next": "3e836c18-0c75-11f0-b991-feb16f56f93e-3-b008-e8d0-3f9b",
       "previous": "8af0ac06-0c6f-11f0-98e9-5e0a5654d7bd-3-c85a-d8bf-8dea"
      },
      {
       "current": "1945ee16-0f8c-11f0-935e-6e323efef16c-5-2c1c-4f08-40b5-cf6e-9e08",
       "next": "3e836c18-0c75-11f0-b991-feb16f56f93e-4-b008-e8d0-3f9b-d91b",
       "previous": "8af0ac06-0c6f-11f0-98e9-5e0a5654d7bd-4-c85a-d8bf-8dea-ced2"
      },
      {
       "current": "1945ee16-0f8c-11f0-935e-6e323efef16c-5-2c1c-4f08-40b5-cf6e-9e08",
       "next": "3e836c18-0c75-11f0-b991-feb16f56f93e-7-b008-e8d0-3f9b-d91b-9971-7510-3c5e",
       "previous": "e4ebb1f2-191b-11f0-ad36-668cb6ddd6b0"
      },
      {
       "current": "1945ee16-0f8c-11f0-935e-6e323efef16c-6-2c1c-4f08-40b5-cf6e-9e08-8d48",
       "next": "3e836c18-0c75-11f0-b991-feb16f56f93e-7-b008-e8d0-3f9b-d91b-9971-7510-3c5e",
       "previous": "8af0ac06-0c6f-11f0-98e9-5e0a5654d7bd-7-c85a-d8bf-8dea-ced2-b6ea-11de-e027"
      },
      {
       "current": "1945ee16-0f8c-11f0-935e-6e323efef16c-9-2c1c-4f08-40b5-cf6e-9e08-8d48-f057-5c33-0344",
       "next": "3e836c18-0c75-11f0-b991-feb16f56f93e-8-b008-e8d0-3f9b-d91b-9971-7510-3c5e-1a25",
       "previous": "8af0ac06-0c6f-11f0-98e9-5e0a5654d7bd-8-c85a-d8bf-8dea-ced2-b6ea-11de-e027-5ced"
      },
      {
       "current": "1945ee16-0f8c-11f0-935e-6e323efef16c-10-2c1c-4f08-40b5-cf6e-9e08-8d48-f057-5c33-0344-c656",
       "next": "3e836c18-0c75-11f0-b991-feb16f56f93e-11-e8d0-3f9b-d91b-9971-7510-3c5e-1a25-8534-be8d-1f5b",
       "previous": "8af0ac06-0c6f-11f0-98e9-5e0a5654d7bd-11-d8bf-8dea-ced2-b6ea-11de-e027-5ced-0939-f364-6bc7"
      },
      {
       "current": "1945ee16-0f8c-11f0-935e-6e323efef16c-11-4f08-40b5-cf6e-9e08-8d48-f057-5c33-0344-c656-d3cb",
       "next": "3e836c18-0c75-11f0-b991-feb16f56f93e-12-3f9b-d91b-9971-7510-3c5e-1a25-8534-be8d-1f5b-f63a",
       "previous": "3e836c18-0c75-11f0-b991-feb16f56f93e-11-e8d0-3f9b-d91b-9971-7510-3c5e-1a25-8534-be8d-1f5b"
      },
      {
       "current": "1945ee16-0f8c-11f0-935e-6e323efef16c-13-cf6e-9e08-8d48-f057-5c33-0344-c656-d3cb-c939-9968",
       "next": "3e836c18-0c75-11f0-b991-feb16f56f93e-13-d91b-9971-7510-3c5e-1a25-8534-be8d-1f5b-f63a-855a",
       "previous": "3e836c18-0c75-11f0-b991-feb16f56f93e-12-3f9b-d91b-9971-7510-3c5e-1a25-8534-be8d-1f5b-f63a"
      },
      {
       "current": "1945ee16-0f8c-11f0-935e-6e323efef16c-14-9e08-8d48-f057-5c33-0344-c656-d3cb-c939-9968-42cc",
       "next": "3e836c18-0c75-11f0-b991-feb16f56f93e-15-7510-3c5e-1a25-8534-be8d-1f5b-f63a-855a-d1ae-53d7",
       "previous": "3e836c18-0c75-11f0-b991-feb16f56f93e-14-9971-7510-3c5e-1a25-8534-be8d-1f5b-f63a-855a-d1ae"
      },
      {
       "current": "1945ee16-0f8c-11f0-935e-6e323efef16c-14-9e08-8d48-f057-5c33-0344-c656-d3cb-c939-9968-42cc",
       "next": "3e836c18-0c75-11f0-b991-feb16f56f93e-16-3c5e-1a25-8534-be8d-1f5b-f63a-855a-d1ae-53d7-d31c",
       "previous": "3e836c18-0c75-11f0-b991-feb16f56f93e-15-7510-3c5e-1a25-8534-be8d-1f5b-f63a-855a-d1ae-53d7"
      },
      {
       "current": "1945ee16-0f8c-11f0-935e-6e323efef16c-14-9e08-8d48-f057-5c33-0344-c656-d3cb-c939-9968-42cc",
       "next": "3e836c18-0c75-11f0-b991-feb16f56f93e-16-3c5e-1a25-8534-be8d-1f5b-f63a-855a-d1ae-53d7-d31c",
       "previous": "3e836c18-0c75-11f0-b991-feb16f56f93e-15-7510-3c5e-1a25-8534-be8d-1f5b-f63a-855a-d1ae-53d7"
      },
      {
       "current": "1945ee16-0f8c-11f0-935e-6e323efef16c-14-9e08-8d48-f057-5c33-0344-c656-d3cb-c939-9968-42cc",
       "next": "6fd3a518-1e35-11f0-85e7-be8e2cbe8172-1-be01",
       "previous": "3e836c18-0c75-11f0-b991-feb16f56f93e-15-7510-3c5e-1a25-8534-be8d-1f5b-f63a-855a-d1ae-53d7"
      },
      {
       "current": "1945ee16-0f8c-11f0-935e-6e323efef16c-15-8d48-f057-5c33-0344-c656-d3cb-c939-9968-42cc-f723",
       "next": "3e836c18-0c75-11f0-b991-feb16f56f93e-16-3c5e-1a25-8534-be8d-1f5b-f63a-855a-d1ae-53d7-d31c",
       "previous": "3e836c18-0c75-11f0-b991-feb16f56f93e-15-7510-3c5e-1a25-8534-be8d-1f5b-f63a-855a-d1ae-53d7"
      },
      {
       "current": "1945ee16-0f8c-11f0-935e-6e323efef16c-16-f057-5c33-0344-c656-d3cb-c939-9968-42cc-f723-8100",
       "next": "3e836c18-0c75-11f0-b991-feb16f56f93e-17-1a25-8534-be8d-1f5b-f63a-855a-d1ae-53d7-d31c-97e6",
       "previous": "3e836c18-0c75-11f0-b991-feb16f56f93e-17-1a25-8534-be8d-1f5b-f63a-855a-d1ae-53d7-d31c-ef62"
      },
      {
       "current": "1945ee16-0f8c-11f0-935e-6e323efef16c-17-5c33-0344-c656-d3cb-c939-9968-42cc-f723-8100-1888",
       "next": "3e836c18-0c75-11f0-b991-feb16f56f93e-18-8534-be8d-1f5b-f63a-855a-d1ae-53d7-d31c-97e6-8e38",
       "previous": "3e836c18-0c75-11f0-b991-feb16f56f93e-18-8534-be8d-1f5b-f63a-855a-d1ae-53d7-d31c-ef62-3f68"
      },
      {
       "current": "1945ee16-0f8c-11f0-935e-6e323efef16c-19-c656-d3cb-c939-9968-42cc-f723-8100-1888-3954-b973",
       "next": "3e836c18-0c75-11f0-b991-feb16f56f93e-19-be8d-1f5b-f63a-855a-d1ae-53d7-d31c-97e6-8e38-99f0",
       "previous": "3e836c18-0c75-11f0-b991-feb16f56f93e-19-be8d-1f5b-f63a-855a-d1ae-53d7-d31c-ef62-3f68-03e8"
      }
     ],
     "next": "3e836c18-0c75-11f0-b991-feb16f56f93e-21-f63a-855a-d1ae-53d7-d31c-97e6-8e38-99f0-11b4-0ff4",
     "previous": "3e836c18-0c75-11f0-b991-feb16f56f93e-21-f63a-855a-d1ae-53d7-d31c-ef62-3f68-03e8-9287-f0ba"
    },
    "pinnedOutputTabIndex": 0,
    "run_through_control": {
     "frozen": false,
     "read_only": false
    }
   },
   "source": [
    "## 「RDMユーザメール」テストの実施\n",
    "\n",
    "テスト「テスト手順-管理者機能-RDMユーザメール」を実施する。"
   ]
  },
  {
   "cell_type": "code",
   "execution_count": null,
   "id": "f3761eba-ac84-4f7b-a1ba-b0e4a79d9cd5",
   "metadata": {
    "deletable": true,
    "lc_cell_meme": {
     "current": "3e836c18-0c75-11f0-b991-feb16f56f93e-22-855a-d1ae-53d7-d31c-97e6-8e38-99f0-11b4-0ff4-00b7",
     "execution_end_time": "2025-04-20T22:53:10.340Z",
     "history": [
      {
       "current": "3e836c18-0c75-11f0-b991-feb16f56f93e",
       "next": "ce8c187e-f991-11ef-a92d-0242ac120006-6-964d-161e-73da-b120-ac56-8b98",
       "previous": "9954a6fc-0c70-11f0-98e9-5e0a5654d7bd-1-f4b2"
      },
      {
       "current": "3e836c18-0c75-11f0-b991-feb16f56f93e",
       "next": "522aa0f0-0c76-11f0-b991-feb16f56f93e",
       "previous": "9954a6fc-0c70-11f0-98e9-5e0a5654d7bd-1-f4b2"
      },
      {
       "current": "3e836c18-0c75-11f0-b991-feb16f56f93e-2-b008-e8d0",
       "next": "ce8c187e-f991-11ef-a92d-0242ac120006-6-964d-161e-73da-b120-ac56-8b98",
       "previous": "9954a6fc-0c70-11f0-98e9-5e0a5654d7bd-1-f4b2"
      },
      {
       "current": "3e836c18-0c75-11f0-b991-feb16f56f93e-3-b008-e8d0-3f9b",
       "next": "e49811c6-0f8b-11f0-935e-6e323efef16c",
       "previous": "9954a6fc-0c70-11f0-98e9-5e0a5654d7bd-3-f4b2-32da-b588"
      },
      {
       "current": "3e836c18-0c75-11f0-b991-feb16f56f93e-3-b008-e8d0-3f9b",
       "next": "e49811c6-0f8b-11f0-935e-6e323efef16c",
       "previous": "9954a6fc-0c70-11f0-98e9-5e0a5654d7bd-3-f4b2-32da-b588"
      },
      {
       "current": "3e836c18-0c75-11f0-b991-feb16f56f93e-3-b008-e8d0-3f9b",
       "next": "9954a6fc-0c70-11f0-98e9-5e0a5654d7bd-3-f4b2-32da-b588",
       "previous": "8af0ac06-0c6f-11f0-98e9-5e0a5654d7bd-3-c85a-d8bf-8dea"
      },
      {
       "current": "3e836c18-0c75-11f0-b991-feb16f56f93e-3-b008-e8d0-3f9b",
       "next": "9954a6fc-0c70-11f0-98e9-5e0a5654d7bd-3-f4b2-32da-b588",
       "previous": "1945ee16-0f8c-11f0-935e-6e323efef16c"
      },
      {
       "current": "3e836c18-0c75-11f0-b991-feb16f56f93e-3-b008-e8d0-3f9b",
       "next": "9954a6fc-0c70-11f0-98e9-5e0a5654d7bd-3-f4b2-32da-b588",
       "previous": "1945ee16-0f8c-11f0-935e-6e323efef16c"
      },
      {
       "current": "3e836c18-0c75-11f0-b991-feb16f56f93e-3-b008-e8d0-3f9b",
       "next": "9954a6fc-0c70-11f0-98e9-5e0a5654d7bd-3-f4b2-32da-b588",
       "previous": "1945ee16-0f8c-11f0-935e-6e323efef16c-1-2c1c"
      },
      {
       "current": "3e836c18-0c75-11f0-b991-feb16f56f93e-3-b008-e8d0-3f9b",
       "next": "5111a470-0f8c-11f0-935e-6e323efef16c",
       "previous": "1945ee16-0f8c-11f0-935e-6e323efef16c-1-2c1c"
      },
      {
       "current": "3e836c18-0c75-11f0-b991-feb16f56f93e-3-b008-e8d0-3f9b",
       "next": "5111a470-0f8c-11f0-935e-6e323efef16c",
       "previous": "1945ee16-0f8c-11f0-935e-6e323efef16c-1-2c1c"
      },
      {
       "current": "3e836c18-0c75-11f0-b991-feb16f56f93e-4-b008-e8d0-3f9b-d91b",
       "next": "5111a470-0f8c-11f0-935e-6e323efef16c-1-cde4",
       "previous": "1945ee16-0f8c-11f0-935e-6e323efef16c-1-2c1c"
      },
      {
       "current": "3e836c18-0c75-11f0-b991-feb16f56f93e-7-b008-e8d0-3f9b-d91b-9971-7510-3c5e",
       "next": "5111a470-0f8c-11f0-935e-6e323efef16c-2-cde4-2f90",
       "previous": "1945ee16-0f8c-11f0-935e-6e323efef16c-2-2c1c-4f08"
      },
      {
       "current": "3e836c18-0c75-11f0-b991-feb16f56f93e-8-b008-e8d0-3f9b-d91b-9971-7510-3c5e-1a25",
       "next": "5111a470-0f8c-11f0-935e-6e323efef16c-5-cde4-2f90-b5a2-f6e5-88d7",
       "previous": "1945ee16-0f8c-11f0-935e-6e323efef16c-5-2c1c-4f08-40b5-cf6e-9e08"
      },
      {
       "current": "3e836c18-0c75-11f0-b991-feb16f56f93e-11-e8d0-3f9b-d91b-9971-7510-3c5e-1a25-8534-be8d-1f5b",
       "next": "5111a470-0f8c-11f0-935e-6e323efef16c-6-cde4-2f90-b5a2-f6e5-88d7-521b",
       "previous": "1945ee16-0f8c-11f0-935e-6e323efef16c-6-2c1c-4f08-40b5-cf6e-9e08-8d48"
      },
      {
       "current": "3e836c18-0c75-11f0-b991-feb16f56f93e-11-e8d0-3f9b-d91b-9971-7510-3c5e-1a25-8534-be8d-1f5b",
       "next": "5111a470-0f8c-11f0-935e-6e323efef16c-9-cde4-2f90-b5a2-f6e5-88d7-521b-9af2-6a60-a5f5",
       "previous": "1945ee16-0f8c-11f0-935e-6e323efef16c-9-2c1c-4f08-40b5-cf6e-9e08-8d48-f057-5c33-0344"
      },
      {
       "current": "3e836c18-0c75-11f0-b991-feb16f56f93e-11-e8d0-3f9b-d91b-9971-7510-3c5e-1a25-8534-be8d-1f5b",
       "next": "9954a6fc-0c70-11f0-98e9-5e0a5654d7bd-11-32da-b588-2530-2362-ef25-d28e-b01d-99fe-df5d-298e",
       "previous": "1945ee16-0f8c-11f0-935e-6e323efef16c-9-2c1c-4f08-40b5-cf6e-9e08-8d48-f057-5c33-0344"
      },
      {
       "current": "3e836c18-0c75-11f0-b991-feb16f56f93e-11-e8d0-3f9b-d91b-9971-7510-3c5e-1a25-8534-be8d-1f5b",
       "next": "5111a470-0f8c-11f0-935e-6e323efef16c-10-cde4-bd15-47f7-4a43-6e0c-4f72-5d03-228c-c238-5828",
       "previous": "1945ee16-0f8c-11f0-935e-6e323efef16c-9-2c1c-4f08-40b5-cf6e-9e08-8d48-f057-5c33-0344"
      },
      {
       "current": "3e836c18-0c75-11f0-b991-feb16f56f93e-11-e8d0-3f9b-d91b-9971-7510-3c5e-1a25-8534-be8d-1f5b",
       "next": "9954a6fc-0c70-11f0-98e9-5e0a5654d7bd-12-b588-2ea3-c289-53e5-31c4-7b04-2eff-2c6e-2ac3-dfdd",
       "previous": "1945ee16-0f8c-11f0-935e-6e323efef16c-9-2c1c-4f08-40b5-cf6e-9e08-8d48-f057-5c33-0344"
      },
      {
       "current": "3e836c18-0c75-11f0-b991-feb16f56f93e-12-3f9b-d91b-9971-7510-3c5e-1a25-8534-be8d-1f5b-f63a",
       "next": "49f48492-1c24-11f0-baf6-eaf1011eb67f-4-e4e3-bf8a-77f2-a8ed",
       "previous": "1945ee16-0f8c-11f0-935e-6e323efef16c-9-2c1c-4f08-40b5-cf6e-9e08-8d48-f057-5c33-0344"
      },
      {
       "current": "3e836c18-0c75-11f0-b991-feb16f56f93e-13-d91b-9971-7510-3c5e-1a25-8534-be8d-1f5b-f63a-855a",
       "next": "49f48492-1c24-11f0-baf6-eaf1011eb67f-4-e4e3-bf8a-77f2-a8ed",
       "previous": "1945ee16-0f8c-11f0-935e-6e323efef16c-10-2c1c-4f08-40b5-cf6e-9e08-8d48-f057-5c33-0344-c656"
      },
      {
       "current": "3e836c18-0c75-11f0-b991-feb16f56f93e-15-7510-3c5e-1a25-8534-be8d-1f5b-f63a-855a-d1ae-53d7",
       "next": "49f48492-1c24-11f0-baf6-eaf1011eb67f-4-e4e3-bf8a-77f2-a8ed",
       "previous": "1945ee16-0f8c-11f0-935e-6e323efef16c-11-4f08-40b5-cf6e-9e08-8d48-f057-5c33-0344-c656-d3cb"
      },
      {
       "current": "3e836c18-0c75-11f0-b991-feb16f56f93e-15-7510-3c5e-1a25-8534-be8d-1f5b-f63a-855a-d1ae-53d7",
       "next": "49f48492-1c24-11f0-baf6-eaf1011eb67f-5-e4e3-bf8a-77f2-a8ed-63cb",
       "previous": "1945ee16-0f8c-11f0-935e-6e323efef16c-13-cf6e-9e08-8d48-f057-5c33-0344-c656-d3cb-c939-9968"
      },
      {
       "current": "3e836c18-0c75-11f0-b991-feb16f56f93e-16-3c5e-1a25-8534-be8d-1f5b-f63a-855a-d1ae-53d7-d31c",
       "next": "6fd3a518-1e35-11f0-85e7-be8e2cbe8172",
       "previous": "1945ee16-0f8c-11f0-935e-6e323efef16c-13-cf6e-9e08-8d48-f057-5c33-0344-c656-d3cb-c939-9968"
      },
      {
       "current": "3e836c18-0c75-11f0-b991-feb16f56f93e-16-3c5e-1a25-8534-be8d-1f5b-f63a-855a-d1ae-53d7-d31c",
       "next": "6fd3a518-1e35-11f0-85e7-be8e2cbe8172",
       "previous": "1945ee16-0f8c-11f0-935e-6e323efef16c-14-9e08-8d48-f057-5c33-0344-c656-d3cb-c939-9968-42cc"
      },
      {
       "current": "3e836c18-0c75-11f0-b991-feb16f56f93e-16-3c5e-1a25-8534-be8d-1f5b-f63a-855a-d1ae-53d7-d31c",
       "next": "6fd3a518-1e35-11f0-85e7-be8e2cbe8172",
       "previous": "1945ee16-0f8c-11f0-935e-6e323efef16c-14-9e08-8d48-f057-5c33-0344-c656-d3cb-c939-9968-42cc"
      },
      {
       "current": "3e836c18-0c75-11f0-b991-feb16f56f93e-16-3c5e-1a25-8534-be8d-1f5b-f63a-855a-d1ae-53d7-d31c",
       "next": "49f48492-1c24-11f0-baf6-eaf1011eb67f-5-e4e3-bf8a-77f2-a8ed-63cb",
       "previous": "6fd3a518-1e35-11f0-85e7-be8e2cbe8172-1-be01"
      },
      {
       "current": "3e836c18-0c75-11f0-b991-feb16f56f93e-16-3c5e-1a25-8534-be8d-1f5b-f63a-855a-d1ae-53d7-d31c",
       "next": "49f48492-1c24-11f0-baf6-eaf1011eb67f-5-e4e3-bf8a-77f2-a8ed-63cb",
       "previous": "1945ee16-0f8c-11f0-935e-6e323efef16c-14-9e08-8d48-f057-5c33-0344-c656-d3cb-c939-9968-42cc"
      },
      {
       "current": "3e836c18-0c75-11f0-b991-feb16f56f93e-17-1a25-8534-be8d-1f5b-f63a-855a-d1ae-53d7-d31c-97e6",
       "next": "1945ee16-0f8c-11f0-935e-6e323efef16c-15-8d48-f057-5c33-0344-c656-d3cb-c939-9968-42cc-bfc2",
       "previous": "1945ee16-0f8c-11f0-935e-6e323efef16c-14-9e08-8d48-f057-5c33-0344-c656-d3cb-c939-9968-42cc"
      },
      {
       "current": "3e836c18-0c75-11f0-b991-feb16f56f93e-17-1a25-8534-be8d-1f5b-f63a-855a-d1ae-53d7-d31c-97e6",
       "next": "49f48492-1c24-11f0-baf6-eaf1011eb67f-5-e4e3-bf8a-77f2-a8ed-63cb",
       "previous": "1945ee16-0f8c-11f0-935e-6e323efef16c-15-8d48-f057-5c33-0344-c656-d3cb-c939-9968-42cc-f723"
      },
      {
       "current": "3e836c18-0c75-11f0-b991-feb16f56f93e-18-8534-be8d-1f5b-f63a-855a-d1ae-53d7-d31c-97e6-8e38",
       "next": "1945ee16-0f8c-11f0-935e-6e323efef16c-14-9e08-8d48-f057-5c33-0344-c656-d3cb-c939-9968-cf54",
       "previous": "1945ee16-0f8c-11f0-935e-6e323efef16c-15-8d48-f057-5c33-0344-c656-d3cb-c939-9968-42cc-f723"
      },
      {
       "current": "3e836c18-0c75-11f0-b991-feb16f56f93e-19-be8d-1f5b-f63a-855a-d1ae-53d7-d31c-97e6-8e38-99f0",
       "next": "1945ee16-0f8c-11f0-935e-6e323efef16c-15-8d48-f057-5c33-0344-c656-d3cb-c939-9968-cf54-3a5a",
       "previous": "1945ee16-0f8c-11f0-935e-6e323efef16c-16-f057-5c33-0344-c656-d3cb-c939-9968-42cc-f723-8100"
      },
      {
       "current": "3e836c18-0c75-11f0-b991-feb16f56f93e-21-f63a-855a-d1ae-53d7-d31c-97e6-8e38-99f0-11b4-0ff4",
       "next": "1945ee16-0f8c-11f0-935e-6e323efef16c-16-f057-5c33-0344-c656-d3cb-c939-9968-cf54-3a5a-033d",
       "previous": "1945ee16-0f8c-11f0-935e-6e323efef16c-17-5c33-0344-c656-d3cb-c939-9968-42cc-f723-8100-1888"
      }
     ],
     "next": "1945ee16-0f8c-11f0-935e-6e323efef16c-18-0344-c656-d3cb-c939-9968-cf54-3a5a-033d-432e-0f18",
     "previous": "1945ee16-0f8c-11f0-935e-6e323efef16c-19-c656-d3cb-c939-9968-42cc-f723-8100-1888-3954-b973"
    },
    "pinnedOutputTabIndex": 0,
    "run_through_control": {
     "frozen": false,
     "read_only": false
    }
   },
   "outputs": [],
   "source": [
    "result_notebooks.append(run_notebook(\n",
    "    'テスト手順-管理者機能-RDMユーザメール.ipynb',\n",
    "    dict(\n",
    "        search_user_name=search_user_name,\n",
    "        search_user_by_id=search_user_by_id,\n",
    "        search_user_by_name=search_user_by_name,\n",
    "        search_user_by_email=search_user_by_email,\n",
    "    ),\n",
    "))\n",
    "result_notebooks"
   ]
  },
  {
   "cell_type": "markdown",
   "id": "35bdd87a-bc44-4e7e-9f54-0dca6f7b2f99",
   "metadata": {
    "deletable": true,
    "editable": true,
    "lc_cell_meme": {
     "current": "1945ee16-0f8c-11f0-935e-6e323efef16c-19-c656-d3cb-c939-9968-cf54-3a5a-033d-432e-0f18-1b17",
     "history": [
      {
       "current": "1945ee16-0f8c-11f0-935e-6e323efef16c-2-2c1c-4f08",
       "next": "3e836c18-0c75-11f0-b991-feb16f56f93e-3-b008-e8d0-3f9b",
       "previous": "8af0ac06-0c6f-11f0-98e9-5e0a5654d7bd-3-c85a-d8bf-8dea"
      },
      {
       "current": "1945ee16-0f8c-11f0-935e-6e323efef16c-5-2c1c-4f08-40b5-cf6e-9e08",
       "next": "3e836c18-0c75-11f0-b991-feb16f56f93e-4-b008-e8d0-3f9b-d91b",
       "previous": "8af0ac06-0c6f-11f0-98e9-5e0a5654d7bd-4-c85a-d8bf-8dea-ced2"
      },
      {
       "current": "1945ee16-0f8c-11f0-935e-6e323efef16c-5-2c1c-4f08-40b5-cf6e-9e08",
       "next": "3e836c18-0c75-11f0-b991-feb16f56f93e-7-b008-e8d0-3f9b-d91b-9971-7510-3c5e",
       "previous": "e4ebb1f2-191b-11f0-ad36-668cb6ddd6b0"
      },
      {
       "current": "1945ee16-0f8c-11f0-935e-6e323efef16c-6-2c1c-4f08-40b5-cf6e-9e08-8d48",
       "next": "3e836c18-0c75-11f0-b991-feb16f56f93e-7-b008-e8d0-3f9b-d91b-9971-7510-3c5e",
       "previous": "8af0ac06-0c6f-11f0-98e9-5e0a5654d7bd-7-c85a-d8bf-8dea-ced2-b6ea-11de-e027"
      },
      {
       "current": "1945ee16-0f8c-11f0-935e-6e323efef16c-9-2c1c-4f08-40b5-cf6e-9e08-8d48-f057-5c33-0344",
       "next": "3e836c18-0c75-11f0-b991-feb16f56f93e-8-b008-e8d0-3f9b-d91b-9971-7510-3c5e-1a25",
       "previous": "8af0ac06-0c6f-11f0-98e9-5e0a5654d7bd-8-c85a-d8bf-8dea-ced2-b6ea-11de-e027-5ced"
      },
      {
       "current": "1945ee16-0f8c-11f0-935e-6e323efef16c-10-2c1c-4f08-40b5-cf6e-9e08-8d48-f057-5c33-0344-c656",
       "next": "3e836c18-0c75-11f0-b991-feb16f56f93e-11-e8d0-3f9b-d91b-9971-7510-3c5e-1a25-8534-be8d-1f5b",
       "previous": "8af0ac06-0c6f-11f0-98e9-5e0a5654d7bd-11-d8bf-8dea-ced2-b6ea-11de-e027-5ced-0939-f364-6bc7"
      },
      {
       "current": "1945ee16-0f8c-11f0-935e-6e323efef16c-11-4f08-40b5-cf6e-9e08-8d48-f057-5c33-0344-c656-d3cb",
       "next": "3e836c18-0c75-11f0-b991-feb16f56f93e-12-3f9b-d91b-9971-7510-3c5e-1a25-8534-be8d-1f5b-f63a",
       "previous": "3e836c18-0c75-11f0-b991-feb16f56f93e-11-e8d0-3f9b-d91b-9971-7510-3c5e-1a25-8534-be8d-1f5b"
      },
      {
       "current": "1945ee16-0f8c-11f0-935e-6e323efef16c-13-cf6e-9e08-8d48-f057-5c33-0344-c656-d3cb-c939-9968",
       "next": "3e836c18-0c75-11f0-b991-feb16f56f93e-13-d91b-9971-7510-3c5e-1a25-8534-be8d-1f5b-f63a-855a",
       "previous": "3e836c18-0c75-11f0-b991-feb16f56f93e-12-3f9b-d91b-9971-7510-3c5e-1a25-8534-be8d-1f5b-f63a"
      },
      {
       "current": "1945ee16-0f8c-11f0-935e-6e323efef16c-14-9e08-8d48-f057-5c33-0344-c656-d3cb-c939-9968-cf54",
       "next": "3e836c18-0c75-11f0-b991-feb16f56f93e-15-7510-3c5e-1a25-8534-be8d-1f5b-f63a-855a-d1ae-53d7",
       "previous": "3e836c18-0c75-11f0-b991-feb16f56f93e-14-9971-7510-3c5e-1a25-8534-be8d-1f5b-f63a-855a-d1ae"
      },
      {
       "current": "1945ee16-0f8c-11f0-935e-6e323efef16c-15-8d48-f057-5c33-0344-c656-d3cb-c939-9968-cf54-3a5a",
       "next": "3e836c18-0c75-11f0-b991-feb16f56f93e-16-3c5e-1a25-8534-be8d-1f5b-f63a-855a-d1ae-53d7-50f7",
       "previous": "3e836c18-0c75-11f0-b991-feb16f56f93e-17-1a25-8534-be8d-1f5b-f63a-855a-d1ae-53d7-d31c-97e6"
      },
      {
       "current": "1945ee16-0f8c-11f0-935e-6e323efef16c-16-f057-5c33-0344-c656-d3cb-c939-9968-cf54-3a5a-033d",
       "next": "3e836c18-0c75-11f0-b991-feb16f56f93e-17-1a25-8534-be8d-1f5b-f63a-855a-d1ae-53d7-50f7-33dc",
       "previous": "3e836c18-0c75-11f0-b991-feb16f56f93e-18-8534-be8d-1f5b-f63a-855a-d1ae-53d7-d31c-97e6-8e38"
      },
      {
       "current": "1945ee16-0f8c-11f0-935e-6e323efef16c-18-0344-c656-d3cb-c939-9968-cf54-3a5a-033d-432e-0f18",
       "next": "3e836c18-0c75-11f0-b991-feb16f56f93e-18-8534-be8d-1f5b-f63a-855a-d1ae-53d7-50f7-33dc-3762",
       "previous": "3e836c18-0c75-11f0-b991-feb16f56f93e-19-be8d-1f5b-f63a-855a-d1ae-53d7-d31c-97e6-8e38-99f0"
      }
     ],
     "next": "3e836c18-0c75-11f0-b991-feb16f56f93e-20-1f5b-f63a-855a-d1ae-53d7-50f7-33dc-3762-cb43-789d",
     "previous": "3e836c18-0c75-11f0-b991-feb16f56f93e-21-f63a-855a-d1ae-53d7-d31c-97e6-8e38-99f0-11b4-0ff4"
    },
    "pinnedOutputTabIndex": 0,
    "run_through_control": {
     "frozen": false,
     "read_only": false
    }
   },
   "source": [
    "## 「RDM登録」テストの実施\n",
    "\n",
    "テスト「テスト手順-管理者機能-RDM登録」を実施する。"
   ]
  },
  {
   "cell_type": "code",
   "execution_count": null,
   "id": "4948ff5d-846d-42fe-8447-7238bdfe9457",
   "metadata": {
    "deletable": true,
    "lc_cell_meme": {
     "current": "3e836c18-0c75-11f0-b991-feb16f56f93e-21-f63a-855a-d1ae-53d7-50f7-33dc-3762-cb43-789d-3d9a",
     "execution_end_time": "2025-04-20T23:12:21.249Z",
     "history": [
      {
       "current": "3e836c18-0c75-11f0-b991-feb16f56f93e",
       "next": "ce8c187e-f991-11ef-a92d-0242ac120006-6-964d-161e-73da-b120-ac56-8b98",
       "previous": "9954a6fc-0c70-11f0-98e9-5e0a5654d7bd-1-f4b2"
      },
      {
       "current": "3e836c18-0c75-11f0-b991-feb16f56f93e",
       "next": "522aa0f0-0c76-11f0-b991-feb16f56f93e",
       "previous": "9954a6fc-0c70-11f0-98e9-5e0a5654d7bd-1-f4b2"
      },
      {
       "current": "3e836c18-0c75-11f0-b991-feb16f56f93e-2-b008-e8d0",
       "next": "ce8c187e-f991-11ef-a92d-0242ac120006-6-964d-161e-73da-b120-ac56-8b98",
       "previous": "9954a6fc-0c70-11f0-98e9-5e0a5654d7bd-1-f4b2"
      },
      {
       "current": "3e836c18-0c75-11f0-b991-feb16f56f93e-3-b008-e8d0-3f9b",
       "next": "e49811c6-0f8b-11f0-935e-6e323efef16c",
       "previous": "9954a6fc-0c70-11f0-98e9-5e0a5654d7bd-3-f4b2-32da-b588"
      },
      {
       "current": "3e836c18-0c75-11f0-b991-feb16f56f93e-3-b008-e8d0-3f9b",
       "next": "e49811c6-0f8b-11f0-935e-6e323efef16c",
       "previous": "9954a6fc-0c70-11f0-98e9-5e0a5654d7bd-3-f4b2-32da-b588"
      },
      {
       "current": "3e836c18-0c75-11f0-b991-feb16f56f93e-3-b008-e8d0-3f9b",
       "next": "9954a6fc-0c70-11f0-98e9-5e0a5654d7bd-3-f4b2-32da-b588",
       "previous": "8af0ac06-0c6f-11f0-98e9-5e0a5654d7bd-3-c85a-d8bf-8dea"
      },
      {
       "current": "3e836c18-0c75-11f0-b991-feb16f56f93e-3-b008-e8d0-3f9b",
       "next": "9954a6fc-0c70-11f0-98e9-5e0a5654d7bd-3-f4b2-32da-b588",
       "previous": "1945ee16-0f8c-11f0-935e-6e323efef16c"
      },
      {
       "current": "3e836c18-0c75-11f0-b991-feb16f56f93e-3-b008-e8d0-3f9b",
       "next": "9954a6fc-0c70-11f0-98e9-5e0a5654d7bd-3-f4b2-32da-b588",
       "previous": "1945ee16-0f8c-11f0-935e-6e323efef16c"
      },
      {
       "current": "3e836c18-0c75-11f0-b991-feb16f56f93e-3-b008-e8d0-3f9b",
       "next": "9954a6fc-0c70-11f0-98e9-5e0a5654d7bd-3-f4b2-32da-b588",
       "previous": "1945ee16-0f8c-11f0-935e-6e323efef16c-1-2c1c"
      },
      {
       "current": "3e836c18-0c75-11f0-b991-feb16f56f93e-3-b008-e8d0-3f9b",
       "next": "5111a470-0f8c-11f0-935e-6e323efef16c",
       "previous": "1945ee16-0f8c-11f0-935e-6e323efef16c-1-2c1c"
      },
      {
       "current": "3e836c18-0c75-11f0-b991-feb16f56f93e-3-b008-e8d0-3f9b",
       "next": "5111a470-0f8c-11f0-935e-6e323efef16c",
       "previous": "1945ee16-0f8c-11f0-935e-6e323efef16c-1-2c1c"
      },
      {
       "current": "3e836c18-0c75-11f0-b991-feb16f56f93e-4-b008-e8d0-3f9b-d91b",
       "next": "5111a470-0f8c-11f0-935e-6e323efef16c-1-cde4",
       "previous": "1945ee16-0f8c-11f0-935e-6e323efef16c-1-2c1c"
      },
      {
       "current": "3e836c18-0c75-11f0-b991-feb16f56f93e-7-b008-e8d0-3f9b-d91b-9971-7510-3c5e",
       "next": "5111a470-0f8c-11f0-935e-6e323efef16c-2-cde4-2f90",
       "previous": "1945ee16-0f8c-11f0-935e-6e323efef16c-2-2c1c-4f08"
      },
      {
       "current": "3e836c18-0c75-11f0-b991-feb16f56f93e-8-b008-e8d0-3f9b-d91b-9971-7510-3c5e-1a25",
       "next": "5111a470-0f8c-11f0-935e-6e323efef16c-5-cde4-2f90-b5a2-f6e5-88d7",
       "previous": "1945ee16-0f8c-11f0-935e-6e323efef16c-5-2c1c-4f08-40b5-cf6e-9e08"
      },
      {
       "current": "3e836c18-0c75-11f0-b991-feb16f56f93e-11-e8d0-3f9b-d91b-9971-7510-3c5e-1a25-8534-be8d-1f5b",
       "next": "5111a470-0f8c-11f0-935e-6e323efef16c-6-cde4-2f90-b5a2-f6e5-88d7-521b",
       "previous": "1945ee16-0f8c-11f0-935e-6e323efef16c-6-2c1c-4f08-40b5-cf6e-9e08-8d48"
      },
      {
       "current": "3e836c18-0c75-11f0-b991-feb16f56f93e-11-e8d0-3f9b-d91b-9971-7510-3c5e-1a25-8534-be8d-1f5b",
       "next": "5111a470-0f8c-11f0-935e-6e323efef16c-9-cde4-2f90-b5a2-f6e5-88d7-521b-9af2-6a60-a5f5",
       "previous": "1945ee16-0f8c-11f0-935e-6e323efef16c-9-2c1c-4f08-40b5-cf6e-9e08-8d48-f057-5c33-0344"
      },
      {
       "current": "3e836c18-0c75-11f0-b991-feb16f56f93e-11-e8d0-3f9b-d91b-9971-7510-3c5e-1a25-8534-be8d-1f5b",
       "next": "9954a6fc-0c70-11f0-98e9-5e0a5654d7bd-11-32da-b588-2530-2362-ef25-d28e-b01d-99fe-df5d-298e",
       "previous": "1945ee16-0f8c-11f0-935e-6e323efef16c-9-2c1c-4f08-40b5-cf6e-9e08-8d48-f057-5c33-0344"
      },
      {
       "current": "3e836c18-0c75-11f0-b991-feb16f56f93e-11-e8d0-3f9b-d91b-9971-7510-3c5e-1a25-8534-be8d-1f5b",
       "next": "5111a470-0f8c-11f0-935e-6e323efef16c-10-cde4-bd15-47f7-4a43-6e0c-4f72-5d03-228c-c238-5828",
       "previous": "1945ee16-0f8c-11f0-935e-6e323efef16c-9-2c1c-4f08-40b5-cf6e-9e08-8d48-f057-5c33-0344"
      },
      {
       "current": "3e836c18-0c75-11f0-b991-feb16f56f93e-11-e8d0-3f9b-d91b-9971-7510-3c5e-1a25-8534-be8d-1f5b",
       "next": "9954a6fc-0c70-11f0-98e9-5e0a5654d7bd-12-b588-2ea3-c289-53e5-31c4-7b04-2eff-2c6e-2ac3-dfdd",
       "previous": "1945ee16-0f8c-11f0-935e-6e323efef16c-9-2c1c-4f08-40b5-cf6e-9e08-8d48-f057-5c33-0344"
      },
      {
       "current": "3e836c18-0c75-11f0-b991-feb16f56f93e-12-3f9b-d91b-9971-7510-3c5e-1a25-8534-be8d-1f5b-f63a",
       "next": "49f48492-1c24-11f0-baf6-eaf1011eb67f-4-e4e3-bf8a-77f2-a8ed",
       "previous": "1945ee16-0f8c-11f0-935e-6e323efef16c-9-2c1c-4f08-40b5-cf6e-9e08-8d48-f057-5c33-0344"
      },
      {
       "current": "3e836c18-0c75-11f0-b991-feb16f56f93e-13-d91b-9971-7510-3c5e-1a25-8534-be8d-1f5b-f63a-855a",
       "next": "49f48492-1c24-11f0-baf6-eaf1011eb67f-4-e4e3-bf8a-77f2-a8ed",
       "previous": "1945ee16-0f8c-11f0-935e-6e323efef16c-10-2c1c-4f08-40b5-cf6e-9e08-8d48-f057-5c33-0344-c656"
      },
      {
       "current": "3e836c18-0c75-11f0-b991-feb16f56f93e-15-7510-3c5e-1a25-8534-be8d-1f5b-f63a-855a-d1ae-53d7",
       "next": "49f48492-1c24-11f0-baf6-eaf1011eb67f-4-e4e3-bf8a-77f2-a8ed",
       "previous": "1945ee16-0f8c-11f0-935e-6e323efef16c-11-4f08-40b5-cf6e-9e08-8d48-f057-5c33-0344-c656-d3cb"
      },
      {
       "current": "3e836c18-0c75-11f0-b991-feb16f56f93e-15-7510-3c5e-1a25-8534-be8d-1f5b-f63a-855a-d1ae-53d7",
       "next": "49f48492-1c24-11f0-baf6-eaf1011eb67f-5-e4e3-bf8a-77f2-a8ed-63cb",
       "previous": "1945ee16-0f8c-11f0-935e-6e323efef16c-13-cf6e-9e08-8d48-f057-5c33-0344-c656-d3cb-c939-9968"
      },
      {
       "current": "3e836c18-0c75-11f0-b991-feb16f56f93e-15-7510-3c5e-1a25-8534-be8d-1f5b-f63a-855a-d1ae-53d7",
       "next": "6fd3a518-1e35-11f0-85e7-be8e2cbe8172",
       "previous": "1945ee16-0f8c-11f0-935e-6e323efef16c-13-cf6e-9e08-8d48-f057-5c33-0344-c656-d3cb-c939-9968"
      },
      {
       "current": "3e836c18-0c75-11f0-b991-feb16f56f93e-16-3c5e-1a25-8534-be8d-1f5b-f63a-855a-d1ae-53d7-50f7",
       "next": "1945ee16-0f8c-11f0-935e-6e323efef16c-14-9e08-8d48-f057-5c33-0344-c656-d3cb-c939-9968-42cc",
       "previous": "1945ee16-0f8c-11f0-935e-6e323efef16c-13-cf6e-9e08-8d48-f057-5c33-0344-c656-d3cb-c939-9968"
      },
      {
       "current": "3e836c18-0c75-11f0-b991-feb16f56f93e-16-3c5e-1a25-8534-be8d-1f5b-f63a-855a-d1ae-53d7-50f7",
       "next": "49f48492-1c24-11f0-baf6-eaf1011eb67f-5-e4e3-bf8a-77f2-a8ed-63cb",
       "previous": "1945ee16-0f8c-11f0-935e-6e323efef16c-14-9e08-8d48-f057-5c33-0344-c656-d3cb-c939-9968-cf54"
      },
      {
       "current": "3e836c18-0c75-11f0-b991-feb16f56f93e-17-1a25-8534-be8d-1f5b-f63a-855a-d1ae-53d7-50f7-33dc",
       "next": "1945ee16-0f8c-11f0-935e-6e323efef16c-14-9e08-8d48-f057-5c33-0344-c656-d3cb-c939-9968-cf54",
       "previous": "1945ee16-0f8c-11f0-935e-6e323efef16c-14-9e08-8d48-f057-5c33-0344-c656-d3cb-c939-9968-cf54"
      },
      {
       "current": "3e836c18-0c75-11f0-b991-feb16f56f93e-18-8534-be8d-1f5b-f63a-855a-d1ae-53d7-50f7-33dc-3762",
       "next": "1945ee16-0f8c-11f0-935e-6e323efef16c-15-8d48-f057-5c33-0344-c656-d3cb-c939-9968-cf54-f090",
       "previous": "1945ee16-0f8c-11f0-935e-6e323efef16c-15-8d48-f057-5c33-0344-c656-d3cb-c939-9968-cf54-3a5a"
      },
      {
       "current": "3e836c18-0c75-11f0-b991-feb16f56f93e-20-1f5b-f63a-855a-d1ae-53d7-50f7-33dc-3762-cb43-789d",
       "next": "1945ee16-0f8c-11f0-935e-6e323efef16c-16-f057-5c33-0344-c656-d3cb-c939-9968-cf54-f090-6427",
       "previous": "1945ee16-0f8c-11f0-935e-6e323efef16c-16-f057-5c33-0344-c656-d3cb-c939-9968-cf54-3a5a-033d"
      }
     ],
     "next": "1945ee16-0f8c-11f0-935e-6e323efef16c-18-0344-c656-d3cb-c939-9968-cf54-f090-6427-37c2-cc0a",
     "previous": "1945ee16-0f8c-11f0-935e-6e323efef16c-18-0344-c656-d3cb-c939-9968-cf54-3a5a-033d-432e-0f18"
    },
    "pinnedOutputTabIndex": 0,
    "run_through_control": {
     "frozen": false,
     "read_only": false
    }
   },
   "outputs": [],
   "source": [
    "result_notebooks.append(run_notebook(\n",
    "    'テスト手順-管理者機能-RDM登録.ipynb',\n",
    "    dict(\n",
    "        search_registration_id=search_registration_id,\n",
    "        search_registration_title=search_registration_title,\n",
    "    ),\n",
    "))\n",
    "result_notebooks"
   ]
  },
  {
   "cell_type": "markdown",
   "id": "d627e784-77d7-49df-9eb8-14d1c54ad27b",
   "metadata": {
    "deletable": true,
    "editable": true,
    "lc_cell_meme": {
     "current": "1945ee16-0f8c-11f0-935e-6e323efef16c-19-c656-d3cb-c939-9968-cf54-f090-6427-37c2-cc0a-c7e1",
     "history": [
      {
       "current": "1945ee16-0f8c-11f0-935e-6e323efef16c-2-2c1c-4f08",
       "next": "3e836c18-0c75-11f0-b991-feb16f56f93e-3-b008-e8d0-3f9b",
       "previous": "8af0ac06-0c6f-11f0-98e9-5e0a5654d7bd-3-c85a-d8bf-8dea"
      },
      {
       "current": "1945ee16-0f8c-11f0-935e-6e323efef16c-5-2c1c-4f08-40b5-cf6e-9e08",
       "next": "3e836c18-0c75-11f0-b991-feb16f56f93e-4-b008-e8d0-3f9b-d91b",
       "previous": "8af0ac06-0c6f-11f0-98e9-5e0a5654d7bd-4-c85a-d8bf-8dea-ced2"
      },
      {
       "current": "1945ee16-0f8c-11f0-935e-6e323efef16c-5-2c1c-4f08-40b5-cf6e-9e08",
       "next": "3e836c18-0c75-11f0-b991-feb16f56f93e-7-b008-e8d0-3f9b-d91b-9971-7510-3c5e",
       "previous": "e4ebb1f2-191b-11f0-ad36-668cb6ddd6b0"
      },
      {
       "current": "1945ee16-0f8c-11f0-935e-6e323efef16c-6-2c1c-4f08-40b5-cf6e-9e08-8d48",
       "next": "3e836c18-0c75-11f0-b991-feb16f56f93e-7-b008-e8d0-3f9b-d91b-9971-7510-3c5e",
       "previous": "8af0ac06-0c6f-11f0-98e9-5e0a5654d7bd-7-c85a-d8bf-8dea-ced2-b6ea-11de-e027"
      },
      {
       "current": "1945ee16-0f8c-11f0-935e-6e323efef16c-9-2c1c-4f08-40b5-cf6e-9e08-8d48-f057-5c33-0344",
       "next": "3e836c18-0c75-11f0-b991-feb16f56f93e-8-b008-e8d0-3f9b-d91b-9971-7510-3c5e-1a25",
       "previous": "8af0ac06-0c6f-11f0-98e9-5e0a5654d7bd-8-c85a-d8bf-8dea-ced2-b6ea-11de-e027-5ced"
      },
      {
       "current": "1945ee16-0f8c-11f0-935e-6e323efef16c-10-2c1c-4f08-40b5-cf6e-9e08-8d48-f057-5c33-0344-c656",
       "next": "3e836c18-0c75-11f0-b991-feb16f56f93e-11-e8d0-3f9b-d91b-9971-7510-3c5e-1a25-8534-be8d-1f5b",
       "previous": "8af0ac06-0c6f-11f0-98e9-5e0a5654d7bd-11-d8bf-8dea-ced2-b6ea-11de-e027-5ced-0939-f364-6bc7"
      },
      {
       "current": "1945ee16-0f8c-11f0-935e-6e323efef16c-11-4f08-40b5-cf6e-9e08-8d48-f057-5c33-0344-c656-d3cb",
       "next": "3e836c18-0c75-11f0-b991-feb16f56f93e-12-3f9b-d91b-9971-7510-3c5e-1a25-8534-be8d-1f5b-f63a",
       "previous": "3e836c18-0c75-11f0-b991-feb16f56f93e-11-e8d0-3f9b-d91b-9971-7510-3c5e-1a25-8534-be8d-1f5b"
      },
      {
       "current": "1945ee16-0f8c-11f0-935e-6e323efef16c-13-cf6e-9e08-8d48-f057-5c33-0344-c656-d3cb-c939-9968",
       "next": "3e836c18-0c75-11f0-b991-feb16f56f93e-13-d91b-9971-7510-3c5e-1a25-8534-be8d-1f5b-f63a-855a",
       "previous": "3e836c18-0c75-11f0-b991-feb16f56f93e-12-3f9b-d91b-9971-7510-3c5e-1a25-8534-be8d-1f5b-f63a"
      },
      {
       "current": "1945ee16-0f8c-11f0-935e-6e323efef16c-14-9e08-8d48-f057-5c33-0344-c656-d3cb-c939-9968-cf54",
       "next": "3e836c18-0c75-11f0-b991-feb16f56f93e-15-7510-3c5e-1a25-8534-be8d-1f5b-f63a-855a-d1ae-53d7",
       "previous": "3e836c18-0c75-11f0-b991-feb16f56f93e-14-9971-7510-3c5e-1a25-8534-be8d-1f5b-f63a-855a-d1ae"
      },
      {
       "current": "1945ee16-0f8c-11f0-935e-6e323efef16c-14-9e08-8d48-f057-5c33-0344-c656-d3cb-c939-9968-cf54",
       "next": "3e836c18-0c75-11f0-b991-feb16f56f93e-16-3c5e-1a25-8534-be8d-1f5b-f63a-855a-d1ae-53d7-50f7",
       "previous": "3e836c18-0c75-11f0-b991-feb16f56f93e-17-1a25-8534-be8d-1f5b-f63a-855a-d1ae-53d7-d31c-97e6"
      },
      {
       "current": "1945ee16-0f8c-11f0-935e-6e323efef16c-15-8d48-f057-5c33-0344-c656-d3cb-c939-9968-cf54-f090",
       "next": "3e836c18-0c75-11f0-b991-feb16f56f93e-16-3c5e-1a25-8534-be8d-1f5b-f63a-855a-d1ae-53d7-50f7",
       "previous": "3e836c18-0c75-11f0-b991-feb16f56f93e-16-3c5e-1a25-8534-be8d-1f5b-f63a-855a-d1ae-53d7-50f7"
      },
      {
       "current": "1945ee16-0f8c-11f0-935e-6e323efef16c-16-f057-5c33-0344-c656-d3cb-c939-9968-cf54-f090-6427",
       "next": "3e836c18-0c75-11f0-b991-feb16f56f93e-17-1a25-8534-be8d-1f5b-f63a-855a-d1ae-53d7-50f7-08c4",
       "previous": "3e836c18-0c75-11f0-b991-feb16f56f93e-17-1a25-8534-be8d-1f5b-f63a-855a-d1ae-53d7-50f7-33dc"
      },
      {
       "current": "1945ee16-0f8c-11f0-935e-6e323efef16c-18-0344-c656-d3cb-c939-9968-cf54-f090-6427-37c2-cc0a",
       "next": "3e836c18-0c75-11f0-b991-feb16f56f93e-18-8534-be8d-1f5b-f63a-855a-d1ae-53d7-50f7-08c4-0808",
       "previous": "3e836c18-0c75-11f0-b991-feb16f56f93e-18-8534-be8d-1f5b-f63a-855a-d1ae-53d7-50f7-33dc-3762"
      }
     ],
     "next": "3e836c18-0c75-11f0-b991-feb16f56f93e-20-1f5b-f63a-855a-d1ae-53d7-50f7-08c4-0808-9157-3ee9",
     "previous": "3e836c18-0c75-11f0-b991-feb16f56f93e-20-1f5b-f63a-855a-d1ae-53d7-50f7-33dc-3762-cb43-789d"
    },
    "pinnedOutputTabIndex": 0,
    "run_through_control": {
     "frozen": false,
     "read_only": false
    }
   },
   "source": [
    "## 「メンテナンスアラート」テストの実施\n",
    "\n",
    "テスト「テスト手順-管理者機能-メンテナンスアラート」を実施する。"
   ]
  },
  {
   "cell_type": "code",
   "execution_count": null,
   "id": "175bf9db-f15d-4aa8-8c91-90008940f7ae",
   "metadata": {
    "deletable": true,
    "lc_cell_meme": {
     "current": "3e836c18-0c75-11f0-b991-feb16f56f93e-21-f63a-855a-d1ae-53d7-50f7-08c4-0808-9157-3ee9-627e",
     "execution_end_time": "2025-04-20T23:12:21.249Z",
     "history": [
      {
       "current": "3e836c18-0c75-11f0-b991-feb16f56f93e",
       "next": "ce8c187e-f991-11ef-a92d-0242ac120006-6-964d-161e-73da-b120-ac56-8b98",
       "previous": "9954a6fc-0c70-11f0-98e9-5e0a5654d7bd-1-f4b2"
      },
      {
       "current": "3e836c18-0c75-11f0-b991-feb16f56f93e",
       "next": "522aa0f0-0c76-11f0-b991-feb16f56f93e",
       "previous": "9954a6fc-0c70-11f0-98e9-5e0a5654d7bd-1-f4b2"
      },
      {
       "current": "3e836c18-0c75-11f0-b991-feb16f56f93e-2-b008-e8d0",
       "next": "ce8c187e-f991-11ef-a92d-0242ac120006-6-964d-161e-73da-b120-ac56-8b98",
       "previous": "9954a6fc-0c70-11f0-98e9-5e0a5654d7bd-1-f4b2"
      },
      {
       "current": "3e836c18-0c75-11f0-b991-feb16f56f93e-3-b008-e8d0-3f9b",
       "next": "e49811c6-0f8b-11f0-935e-6e323efef16c",
       "previous": "9954a6fc-0c70-11f0-98e9-5e0a5654d7bd-3-f4b2-32da-b588"
      },
      {
       "current": "3e836c18-0c75-11f0-b991-feb16f56f93e-3-b008-e8d0-3f9b",
       "next": "e49811c6-0f8b-11f0-935e-6e323efef16c",
       "previous": "9954a6fc-0c70-11f0-98e9-5e0a5654d7bd-3-f4b2-32da-b588"
      },
      {
       "current": "3e836c18-0c75-11f0-b991-feb16f56f93e-3-b008-e8d0-3f9b",
       "next": "9954a6fc-0c70-11f0-98e9-5e0a5654d7bd-3-f4b2-32da-b588",
       "previous": "8af0ac06-0c6f-11f0-98e9-5e0a5654d7bd-3-c85a-d8bf-8dea"
      },
      {
       "current": "3e836c18-0c75-11f0-b991-feb16f56f93e-3-b008-e8d0-3f9b",
       "next": "9954a6fc-0c70-11f0-98e9-5e0a5654d7bd-3-f4b2-32da-b588",
       "previous": "1945ee16-0f8c-11f0-935e-6e323efef16c"
      },
      {
       "current": "3e836c18-0c75-11f0-b991-feb16f56f93e-3-b008-e8d0-3f9b",
       "next": "9954a6fc-0c70-11f0-98e9-5e0a5654d7bd-3-f4b2-32da-b588",
       "previous": "1945ee16-0f8c-11f0-935e-6e323efef16c"
      },
      {
       "current": "3e836c18-0c75-11f0-b991-feb16f56f93e-3-b008-e8d0-3f9b",
       "next": "9954a6fc-0c70-11f0-98e9-5e0a5654d7bd-3-f4b2-32da-b588",
       "previous": "1945ee16-0f8c-11f0-935e-6e323efef16c-1-2c1c"
      },
      {
       "current": "3e836c18-0c75-11f0-b991-feb16f56f93e-3-b008-e8d0-3f9b",
       "next": "5111a470-0f8c-11f0-935e-6e323efef16c",
       "previous": "1945ee16-0f8c-11f0-935e-6e323efef16c-1-2c1c"
      },
      {
       "current": "3e836c18-0c75-11f0-b991-feb16f56f93e-3-b008-e8d0-3f9b",
       "next": "5111a470-0f8c-11f0-935e-6e323efef16c",
       "previous": "1945ee16-0f8c-11f0-935e-6e323efef16c-1-2c1c"
      },
      {
       "current": "3e836c18-0c75-11f0-b991-feb16f56f93e-4-b008-e8d0-3f9b-d91b",
       "next": "5111a470-0f8c-11f0-935e-6e323efef16c-1-cde4",
       "previous": "1945ee16-0f8c-11f0-935e-6e323efef16c-1-2c1c"
      },
      {
       "current": "3e836c18-0c75-11f0-b991-feb16f56f93e-7-b008-e8d0-3f9b-d91b-9971-7510-3c5e",
       "next": "5111a470-0f8c-11f0-935e-6e323efef16c-2-cde4-2f90",
       "previous": "1945ee16-0f8c-11f0-935e-6e323efef16c-2-2c1c-4f08"
      },
      {
       "current": "3e836c18-0c75-11f0-b991-feb16f56f93e-8-b008-e8d0-3f9b-d91b-9971-7510-3c5e-1a25",
       "next": "5111a470-0f8c-11f0-935e-6e323efef16c-5-cde4-2f90-b5a2-f6e5-88d7",
       "previous": "1945ee16-0f8c-11f0-935e-6e323efef16c-5-2c1c-4f08-40b5-cf6e-9e08"
      },
      {
       "current": "3e836c18-0c75-11f0-b991-feb16f56f93e-11-e8d0-3f9b-d91b-9971-7510-3c5e-1a25-8534-be8d-1f5b",
       "next": "5111a470-0f8c-11f0-935e-6e323efef16c-6-cde4-2f90-b5a2-f6e5-88d7-521b",
       "previous": "1945ee16-0f8c-11f0-935e-6e323efef16c-6-2c1c-4f08-40b5-cf6e-9e08-8d48"
      },
      {
       "current": "3e836c18-0c75-11f0-b991-feb16f56f93e-11-e8d0-3f9b-d91b-9971-7510-3c5e-1a25-8534-be8d-1f5b",
       "next": "5111a470-0f8c-11f0-935e-6e323efef16c-9-cde4-2f90-b5a2-f6e5-88d7-521b-9af2-6a60-a5f5",
       "previous": "1945ee16-0f8c-11f0-935e-6e323efef16c-9-2c1c-4f08-40b5-cf6e-9e08-8d48-f057-5c33-0344"
      },
      {
       "current": "3e836c18-0c75-11f0-b991-feb16f56f93e-11-e8d0-3f9b-d91b-9971-7510-3c5e-1a25-8534-be8d-1f5b",
       "next": "9954a6fc-0c70-11f0-98e9-5e0a5654d7bd-11-32da-b588-2530-2362-ef25-d28e-b01d-99fe-df5d-298e",
       "previous": "1945ee16-0f8c-11f0-935e-6e323efef16c-9-2c1c-4f08-40b5-cf6e-9e08-8d48-f057-5c33-0344"
      },
      {
       "current": "3e836c18-0c75-11f0-b991-feb16f56f93e-11-e8d0-3f9b-d91b-9971-7510-3c5e-1a25-8534-be8d-1f5b",
       "next": "5111a470-0f8c-11f0-935e-6e323efef16c-10-cde4-bd15-47f7-4a43-6e0c-4f72-5d03-228c-c238-5828",
       "previous": "1945ee16-0f8c-11f0-935e-6e323efef16c-9-2c1c-4f08-40b5-cf6e-9e08-8d48-f057-5c33-0344"
      },
      {
       "current": "3e836c18-0c75-11f0-b991-feb16f56f93e-11-e8d0-3f9b-d91b-9971-7510-3c5e-1a25-8534-be8d-1f5b",
       "next": "9954a6fc-0c70-11f0-98e9-5e0a5654d7bd-12-b588-2ea3-c289-53e5-31c4-7b04-2eff-2c6e-2ac3-dfdd",
       "previous": "1945ee16-0f8c-11f0-935e-6e323efef16c-9-2c1c-4f08-40b5-cf6e-9e08-8d48-f057-5c33-0344"
      },
      {
       "current": "3e836c18-0c75-11f0-b991-feb16f56f93e-12-3f9b-d91b-9971-7510-3c5e-1a25-8534-be8d-1f5b-f63a",
       "next": "49f48492-1c24-11f0-baf6-eaf1011eb67f-4-e4e3-bf8a-77f2-a8ed",
       "previous": "1945ee16-0f8c-11f0-935e-6e323efef16c-9-2c1c-4f08-40b5-cf6e-9e08-8d48-f057-5c33-0344"
      },
      {
       "current": "3e836c18-0c75-11f0-b991-feb16f56f93e-13-d91b-9971-7510-3c5e-1a25-8534-be8d-1f5b-f63a-855a",
       "next": "49f48492-1c24-11f0-baf6-eaf1011eb67f-4-e4e3-bf8a-77f2-a8ed",
       "previous": "1945ee16-0f8c-11f0-935e-6e323efef16c-10-2c1c-4f08-40b5-cf6e-9e08-8d48-f057-5c33-0344-c656"
      },
      {
       "current": "3e836c18-0c75-11f0-b991-feb16f56f93e-15-7510-3c5e-1a25-8534-be8d-1f5b-f63a-855a-d1ae-53d7",
       "next": "49f48492-1c24-11f0-baf6-eaf1011eb67f-4-e4e3-bf8a-77f2-a8ed",
       "previous": "1945ee16-0f8c-11f0-935e-6e323efef16c-11-4f08-40b5-cf6e-9e08-8d48-f057-5c33-0344-c656-d3cb"
      },
      {
       "current": "3e836c18-0c75-11f0-b991-feb16f56f93e-15-7510-3c5e-1a25-8534-be8d-1f5b-f63a-855a-d1ae-53d7",
       "next": "49f48492-1c24-11f0-baf6-eaf1011eb67f-5-e4e3-bf8a-77f2-a8ed-63cb",
       "previous": "1945ee16-0f8c-11f0-935e-6e323efef16c-13-cf6e-9e08-8d48-f057-5c33-0344-c656-d3cb-c939-9968"
      },
      {
       "current": "3e836c18-0c75-11f0-b991-feb16f56f93e-15-7510-3c5e-1a25-8534-be8d-1f5b-f63a-855a-d1ae-53d7",
       "next": "6fd3a518-1e35-11f0-85e7-be8e2cbe8172",
       "previous": "1945ee16-0f8c-11f0-935e-6e323efef16c-13-cf6e-9e08-8d48-f057-5c33-0344-c656-d3cb-c939-9968"
      },
      {
       "current": "3e836c18-0c75-11f0-b991-feb16f56f93e-16-3c5e-1a25-8534-be8d-1f5b-f63a-855a-d1ae-53d7-50f7",
       "next": "1945ee16-0f8c-11f0-935e-6e323efef16c-14-9e08-8d48-f057-5c33-0344-c656-d3cb-c939-9968-42cc",
       "previous": "1945ee16-0f8c-11f0-935e-6e323efef16c-13-cf6e-9e08-8d48-f057-5c33-0344-c656-d3cb-c939-9968"
      },
      {
       "current": "3e836c18-0c75-11f0-b991-feb16f56f93e-16-3c5e-1a25-8534-be8d-1f5b-f63a-855a-d1ae-53d7-50f7",
       "next": "49f48492-1c24-11f0-baf6-eaf1011eb67f-5-e4e3-bf8a-77f2-a8ed-63cb",
       "previous": "1945ee16-0f8c-11f0-935e-6e323efef16c-14-9e08-8d48-f057-5c33-0344-c656-d3cb-c939-9968-cf54"
      },
      {
       "current": "3e836c18-0c75-11f0-b991-feb16f56f93e-16-3c5e-1a25-8534-be8d-1f5b-f63a-855a-d1ae-53d7-50f7",
       "next": "1945ee16-0f8c-11f0-935e-6e323efef16c-13-cf6e-9e08-8d48-f057-5c33-0344-c656-d3cb-c939-867b",
       "previous": "1945ee16-0f8c-11f0-935e-6e323efef16c-14-9e08-8d48-f057-5c33-0344-c656-d3cb-c939-9968-cf54"
      },
      {
       "current": "3e836c18-0c75-11f0-b991-feb16f56f93e-17-1a25-8534-be8d-1f5b-f63a-855a-d1ae-53d7-50f7-08c4",
       "next": "1945ee16-0f8c-11f0-935e-6e323efef16c-15-8d48-f057-5c33-0344-c656-d3cb-c939-9968-cf54-c89d",
       "previous": "1945ee16-0f8c-11f0-935e-6e323efef16c-14-9e08-8d48-f057-5c33-0344-c656-d3cb-c939-9968-cf54"
      },
      {
       "current": "3e836c18-0c75-11f0-b991-feb16f56f93e-18-8534-be8d-1f5b-f63a-855a-d1ae-53d7-50f7-08c4-0808",
       "next": "1945ee16-0f8c-11f0-935e-6e323efef16c-16-f057-5c33-0344-c656-d3cb-c939-9968-cf54-c89d-6dbe",
       "previous": "1945ee16-0f8c-11f0-935e-6e323efef16c-15-8d48-f057-5c33-0344-c656-d3cb-c939-9968-cf54-f090"
      },
      {
       "current": "3e836c18-0c75-11f0-b991-feb16f56f93e-20-1f5b-f63a-855a-d1ae-53d7-50f7-08c4-0808-9157-3ee9",
       "next": "1945ee16-0f8c-11f0-935e-6e323efef16c-17-5c33-0344-c656-d3cb-c939-9968-cf54-c89d-6dbe-241f",
       "previous": "1945ee16-0f8c-11f0-935e-6e323efef16c-16-f057-5c33-0344-c656-d3cb-c939-9968-cf54-f090-6427"
      }
     ],
     "next": "1945ee16-0f8c-11f0-935e-6e323efef16c-19-c656-d3cb-c939-9968-cf54-c89d-6dbe-241f-e165-93af",
     "previous": "1945ee16-0f8c-11f0-935e-6e323efef16c-18-0344-c656-d3cb-c939-9968-cf54-f090-6427-37c2-cc0a"
    },
    "pinnedOutputTabIndex": 0,
    "run_through_control": {
     "frozen": false,
     "read_only": false
    }
   },
   "outputs": [],
   "source": [
    "result_notebooks.append(run_notebook('テスト手順-管理者機能-メンテナンスアラート.ipynb'))\n",
    "result_notebooks"
   ]
  },
  {
   "cell_type": "markdown",
   "id": "f1d998d2-19bb-49b1-86e3-9df9904113d8",
   "metadata": {
    "deletable": true,
    "editable": true,
    "lc_cell_meme": {
     "current": "1945ee16-0f8c-11f0-935e-6e323efef16c-20-d3cb-c939-9968-cf54-c89d-6dbe-241f-e165-93af-6b98",
     "history": [
      {
       "current": "1945ee16-0f8c-11f0-935e-6e323efef16c-2-2c1c-4f08",
       "next": "3e836c18-0c75-11f0-b991-feb16f56f93e-3-b008-e8d0-3f9b",
       "previous": "8af0ac06-0c6f-11f0-98e9-5e0a5654d7bd-3-c85a-d8bf-8dea"
      },
      {
       "current": "1945ee16-0f8c-11f0-935e-6e323efef16c-5-2c1c-4f08-40b5-cf6e-9e08",
       "next": "3e836c18-0c75-11f0-b991-feb16f56f93e-4-b008-e8d0-3f9b-d91b",
       "previous": "8af0ac06-0c6f-11f0-98e9-5e0a5654d7bd-4-c85a-d8bf-8dea-ced2"
      },
      {
       "current": "1945ee16-0f8c-11f0-935e-6e323efef16c-5-2c1c-4f08-40b5-cf6e-9e08",
       "next": "3e836c18-0c75-11f0-b991-feb16f56f93e-7-b008-e8d0-3f9b-d91b-9971-7510-3c5e",
       "previous": "e4ebb1f2-191b-11f0-ad36-668cb6ddd6b0"
      },
      {
       "current": "1945ee16-0f8c-11f0-935e-6e323efef16c-6-2c1c-4f08-40b5-cf6e-9e08-8d48",
       "next": "3e836c18-0c75-11f0-b991-feb16f56f93e-7-b008-e8d0-3f9b-d91b-9971-7510-3c5e",
       "previous": "8af0ac06-0c6f-11f0-98e9-5e0a5654d7bd-7-c85a-d8bf-8dea-ced2-b6ea-11de-e027"
      },
      {
       "current": "1945ee16-0f8c-11f0-935e-6e323efef16c-9-2c1c-4f08-40b5-cf6e-9e08-8d48-f057-5c33-0344",
       "next": "3e836c18-0c75-11f0-b991-feb16f56f93e-8-b008-e8d0-3f9b-d91b-9971-7510-3c5e-1a25",
       "previous": "8af0ac06-0c6f-11f0-98e9-5e0a5654d7bd-8-c85a-d8bf-8dea-ced2-b6ea-11de-e027-5ced"
      },
      {
       "current": "1945ee16-0f8c-11f0-935e-6e323efef16c-10-2c1c-4f08-40b5-cf6e-9e08-8d48-f057-5c33-0344-c656",
       "next": "3e836c18-0c75-11f0-b991-feb16f56f93e-11-e8d0-3f9b-d91b-9971-7510-3c5e-1a25-8534-be8d-1f5b",
       "previous": "8af0ac06-0c6f-11f0-98e9-5e0a5654d7bd-11-d8bf-8dea-ced2-b6ea-11de-e027-5ced-0939-f364-6bc7"
      },
      {
       "current": "1945ee16-0f8c-11f0-935e-6e323efef16c-11-4f08-40b5-cf6e-9e08-8d48-f057-5c33-0344-c656-d3cb",
       "next": "3e836c18-0c75-11f0-b991-feb16f56f93e-12-3f9b-d91b-9971-7510-3c5e-1a25-8534-be8d-1f5b-f63a",
       "previous": "3e836c18-0c75-11f0-b991-feb16f56f93e-11-e8d0-3f9b-d91b-9971-7510-3c5e-1a25-8534-be8d-1f5b"
      },
      {
       "current": "1945ee16-0f8c-11f0-935e-6e323efef16c-13-cf6e-9e08-8d48-f057-5c33-0344-c656-d3cb-c939-9968",
       "next": "3e836c18-0c75-11f0-b991-feb16f56f93e-13-d91b-9971-7510-3c5e-1a25-8534-be8d-1f5b-f63a-855a",
       "previous": "3e836c18-0c75-11f0-b991-feb16f56f93e-12-3f9b-d91b-9971-7510-3c5e-1a25-8534-be8d-1f5b-f63a"
      },
      {
       "current": "1945ee16-0f8c-11f0-935e-6e323efef16c-14-9e08-8d48-f057-5c33-0344-c656-d3cb-c939-9968-cf54",
       "next": "3e836c18-0c75-11f0-b991-feb16f56f93e-15-7510-3c5e-1a25-8534-be8d-1f5b-f63a-855a-d1ae-53d7",
       "previous": "3e836c18-0c75-11f0-b991-feb16f56f93e-14-9971-7510-3c5e-1a25-8534-be8d-1f5b-f63a-855a-d1ae"
      },
      {
       "current": "1945ee16-0f8c-11f0-935e-6e323efef16c-14-9e08-8d48-f057-5c33-0344-c656-d3cb-c939-9968-cf54",
       "next": "3e836c18-0c75-11f0-b991-feb16f56f93e-16-3c5e-1a25-8534-be8d-1f5b-f63a-855a-d1ae-53d7-50f7",
       "previous": "3e836c18-0c75-11f0-b991-feb16f56f93e-17-1a25-8534-be8d-1f5b-f63a-855a-d1ae-53d7-d31c-97e6"
      },
      {
       "current": "1945ee16-0f8c-11f0-935e-6e323efef16c-15-8d48-f057-5c33-0344-c656-d3cb-c939-9968-cf54-c89d",
       "next": "3e836c18-0c75-11f0-b991-feb16f56f93e-16-3c5e-1a25-8534-be8d-1f5b-f63a-855a-d1ae-53d7-50f7",
       "previous": "3e836c18-0c75-11f0-b991-feb16f56f93e-16-3c5e-1a25-8534-be8d-1f5b-f63a-855a-d1ae-53d7-50f7"
      },
      {
       "current": "1945ee16-0f8c-11f0-935e-6e323efef16c-16-f057-5c33-0344-c656-d3cb-c939-9968-cf54-c89d-6dbe",
       "next": "3e836c18-0c75-11f0-b991-feb16f56f93e-17-1a25-8534-be8d-1f5b-f63a-855a-d1ae-53d7-50f7-6975",
       "previous": "3e836c18-0c75-11f0-b991-feb16f56f93e-16-3c5e-1a25-8534-be8d-1f5b-f63a-855a-d1ae-53d7-50f7"
      },
      {
       "current": "1945ee16-0f8c-11f0-935e-6e323efef16c-17-5c33-0344-c656-d3cb-c939-9968-cf54-c89d-6dbe-241f",
       "next": "3e836c18-0c75-11f0-b991-feb16f56f93e-18-8534-be8d-1f5b-f63a-855a-d1ae-53d7-50f7-6975-3f18",
       "previous": "3e836c18-0c75-11f0-b991-feb16f56f93e-17-1a25-8534-be8d-1f5b-f63a-855a-d1ae-53d7-50f7-08c4"
      },
      {
       "current": "1945ee16-0f8c-11f0-935e-6e323efef16c-19-c656-d3cb-c939-9968-cf54-c89d-6dbe-241f-e165-93af",
       "next": "3e836c18-0c75-11f0-b991-feb16f56f93e-19-be8d-1f5b-f63a-855a-d1ae-53d7-50f7-6975-3f18-03ce",
       "previous": "3e836c18-0c75-11f0-b991-feb16f56f93e-18-8534-be8d-1f5b-f63a-855a-d1ae-53d7-50f7-08c4-0808"
      }
     ],
     "next": "3e836c18-0c75-11f0-b991-feb16f56f93e-21-f63a-855a-d1ae-53d7-50f7-6975-3f18-03ce-f8f4-a0b3",
     "previous": "3e836c18-0c75-11f0-b991-feb16f56f93e-20-1f5b-f63a-855a-d1ae-53d7-50f7-08c4-0808-9157-3ee9"
    },
    "pinnedOutputTabIndex": 0,
    "run_through_control": {
     "frozen": false,
     "read_only": false
    }
   },
   "source": [
    "## 「アドオン利用制御」テストの実施\n",
    "\n",
    "テスト「テスト手順-管理者機能-アドオン利用制御」を実施する。"
   ]
  },
  {
   "cell_type": "code",
   "execution_count": null,
   "id": "81867e54-b35f-4ef2-8357-725079c3be6c",
   "metadata": {
    "deletable": true,
    "lc_cell_meme": {
     "current": "3e836c18-0c75-11f0-b991-feb16f56f93e-22-855a-d1ae-53d7-50f7-6975-3f18-03ce-f8f4-a0b3-8812",
     "execution_end_time": "2025-04-21T02:34:16.607Z",
     "history": [
      {
       "current": "3e836c18-0c75-11f0-b991-feb16f56f93e",
       "next": "ce8c187e-f991-11ef-a92d-0242ac120006-6-964d-161e-73da-b120-ac56-8b98",
       "previous": "9954a6fc-0c70-11f0-98e9-5e0a5654d7bd-1-f4b2"
      },
      {
       "current": "3e836c18-0c75-11f0-b991-feb16f56f93e",
       "next": "522aa0f0-0c76-11f0-b991-feb16f56f93e",
       "previous": "9954a6fc-0c70-11f0-98e9-5e0a5654d7bd-1-f4b2"
      },
      {
       "current": "3e836c18-0c75-11f0-b991-feb16f56f93e-2-b008-e8d0",
       "next": "ce8c187e-f991-11ef-a92d-0242ac120006-6-964d-161e-73da-b120-ac56-8b98",
       "previous": "9954a6fc-0c70-11f0-98e9-5e0a5654d7bd-1-f4b2"
      },
      {
       "current": "3e836c18-0c75-11f0-b991-feb16f56f93e-3-b008-e8d0-3f9b",
       "next": "e49811c6-0f8b-11f0-935e-6e323efef16c",
       "previous": "9954a6fc-0c70-11f0-98e9-5e0a5654d7bd-3-f4b2-32da-b588"
      },
      {
       "current": "3e836c18-0c75-11f0-b991-feb16f56f93e-3-b008-e8d0-3f9b",
       "next": "e49811c6-0f8b-11f0-935e-6e323efef16c",
       "previous": "9954a6fc-0c70-11f0-98e9-5e0a5654d7bd-3-f4b2-32da-b588"
      },
      {
       "current": "3e836c18-0c75-11f0-b991-feb16f56f93e-3-b008-e8d0-3f9b",
       "next": "9954a6fc-0c70-11f0-98e9-5e0a5654d7bd-3-f4b2-32da-b588",
       "previous": "8af0ac06-0c6f-11f0-98e9-5e0a5654d7bd-3-c85a-d8bf-8dea"
      },
      {
       "current": "3e836c18-0c75-11f0-b991-feb16f56f93e-3-b008-e8d0-3f9b",
       "next": "9954a6fc-0c70-11f0-98e9-5e0a5654d7bd-3-f4b2-32da-b588",
       "previous": "1945ee16-0f8c-11f0-935e-6e323efef16c"
      },
      {
       "current": "3e836c18-0c75-11f0-b991-feb16f56f93e-3-b008-e8d0-3f9b",
       "next": "9954a6fc-0c70-11f0-98e9-5e0a5654d7bd-3-f4b2-32da-b588",
       "previous": "1945ee16-0f8c-11f0-935e-6e323efef16c"
      },
      {
       "current": "3e836c18-0c75-11f0-b991-feb16f56f93e-3-b008-e8d0-3f9b",
       "next": "9954a6fc-0c70-11f0-98e9-5e0a5654d7bd-3-f4b2-32da-b588",
       "previous": "1945ee16-0f8c-11f0-935e-6e323efef16c-1-2c1c"
      },
      {
       "current": "3e836c18-0c75-11f0-b991-feb16f56f93e-3-b008-e8d0-3f9b",
       "next": "5111a470-0f8c-11f0-935e-6e323efef16c",
       "previous": "1945ee16-0f8c-11f0-935e-6e323efef16c-1-2c1c"
      },
      {
       "current": "3e836c18-0c75-11f0-b991-feb16f56f93e-3-b008-e8d0-3f9b",
       "next": "5111a470-0f8c-11f0-935e-6e323efef16c",
       "previous": "1945ee16-0f8c-11f0-935e-6e323efef16c-1-2c1c"
      },
      {
       "current": "3e836c18-0c75-11f0-b991-feb16f56f93e-4-b008-e8d0-3f9b-d91b",
       "next": "5111a470-0f8c-11f0-935e-6e323efef16c-1-cde4",
       "previous": "1945ee16-0f8c-11f0-935e-6e323efef16c-1-2c1c"
      },
      {
       "current": "3e836c18-0c75-11f0-b991-feb16f56f93e-7-b008-e8d0-3f9b-d91b-9971-7510-3c5e",
       "next": "5111a470-0f8c-11f0-935e-6e323efef16c-2-cde4-2f90",
       "previous": "1945ee16-0f8c-11f0-935e-6e323efef16c-2-2c1c-4f08"
      },
      {
       "current": "3e836c18-0c75-11f0-b991-feb16f56f93e-8-b008-e8d0-3f9b-d91b-9971-7510-3c5e-1a25",
       "next": "5111a470-0f8c-11f0-935e-6e323efef16c-5-cde4-2f90-b5a2-f6e5-88d7",
       "previous": "1945ee16-0f8c-11f0-935e-6e323efef16c-5-2c1c-4f08-40b5-cf6e-9e08"
      },
      {
       "current": "3e836c18-0c75-11f0-b991-feb16f56f93e-11-e8d0-3f9b-d91b-9971-7510-3c5e-1a25-8534-be8d-1f5b",
       "next": "5111a470-0f8c-11f0-935e-6e323efef16c-6-cde4-2f90-b5a2-f6e5-88d7-521b",
       "previous": "1945ee16-0f8c-11f0-935e-6e323efef16c-6-2c1c-4f08-40b5-cf6e-9e08-8d48"
      },
      {
       "current": "3e836c18-0c75-11f0-b991-feb16f56f93e-11-e8d0-3f9b-d91b-9971-7510-3c5e-1a25-8534-be8d-1f5b",
       "next": "5111a470-0f8c-11f0-935e-6e323efef16c-9-cde4-2f90-b5a2-f6e5-88d7-521b-9af2-6a60-a5f5",
       "previous": "1945ee16-0f8c-11f0-935e-6e323efef16c-9-2c1c-4f08-40b5-cf6e-9e08-8d48-f057-5c33-0344"
      },
      {
       "current": "3e836c18-0c75-11f0-b991-feb16f56f93e-11-e8d0-3f9b-d91b-9971-7510-3c5e-1a25-8534-be8d-1f5b",
       "next": "9954a6fc-0c70-11f0-98e9-5e0a5654d7bd-11-32da-b588-2530-2362-ef25-d28e-b01d-99fe-df5d-298e",
       "previous": "1945ee16-0f8c-11f0-935e-6e323efef16c-9-2c1c-4f08-40b5-cf6e-9e08-8d48-f057-5c33-0344"
      },
      {
       "current": "3e836c18-0c75-11f0-b991-feb16f56f93e-11-e8d0-3f9b-d91b-9971-7510-3c5e-1a25-8534-be8d-1f5b",
       "next": "5111a470-0f8c-11f0-935e-6e323efef16c-10-cde4-bd15-47f7-4a43-6e0c-4f72-5d03-228c-c238-5828",
       "previous": "1945ee16-0f8c-11f0-935e-6e323efef16c-9-2c1c-4f08-40b5-cf6e-9e08-8d48-f057-5c33-0344"
      },
      {
       "current": "3e836c18-0c75-11f0-b991-feb16f56f93e-11-e8d0-3f9b-d91b-9971-7510-3c5e-1a25-8534-be8d-1f5b",
       "next": "9954a6fc-0c70-11f0-98e9-5e0a5654d7bd-12-b588-2ea3-c289-53e5-31c4-7b04-2eff-2c6e-2ac3-dfdd",
       "previous": "1945ee16-0f8c-11f0-935e-6e323efef16c-9-2c1c-4f08-40b5-cf6e-9e08-8d48-f057-5c33-0344"
      },
      {
       "current": "3e836c18-0c75-11f0-b991-feb16f56f93e-12-3f9b-d91b-9971-7510-3c5e-1a25-8534-be8d-1f5b-f63a",
       "next": "49f48492-1c24-11f0-baf6-eaf1011eb67f-4-e4e3-bf8a-77f2-a8ed",
       "previous": "1945ee16-0f8c-11f0-935e-6e323efef16c-9-2c1c-4f08-40b5-cf6e-9e08-8d48-f057-5c33-0344"
      },
      {
       "current": "3e836c18-0c75-11f0-b991-feb16f56f93e-13-d91b-9971-7510-3c5e-1a25-8534-be8d-1f5b-f63a-855a",
       "next": "49f48492-1c24-11f0-baf6-eaf1011eb67f-4-e4e3-bf8a-77f2-a8ed",
       "previous": "1945ee16-0f8c-11f0-935e-6e323efef16c-10-2c1c-4f08-40b5-cf6e-9e08-8d48-f057-5c33-0344-c656"
      },
      {
       "current": "3e836c18-0c75-11f0-b991-feb16f56f93e-15-7510-3c5e-1a25-8534-be8d-1f5b-f63a-855a-d1ae-53d7",
       "next": "49f48492-1c24-11f0-baf6-eaf1011eb67f-4-e4e3-bf8a-77f2-a8ed",
       "previous": "1945ee16-0f8c-11f0-935e-6e323efef16c-11-4f08-40b5-cf6e-9e08-8d48-f057-5c33-0344-c656-d3cb"
      },
      {
       "current": "3e836c18-0c75-11f0-b991-feb16f56f93e-15-7510-3c5e-1a25-8534-be8d-1f5b-f63a-855a-d1ae-53d7",
       "next": "49f48492-1c24-11f0-baf6-eaf1011eb67f-5-e4e3-bf8a-77f2-a8ed-63cb",
       "previous": "1945ee16-0f8c-11f0-935e-6e323efef16c-13-cf6e-9e08-8d48-f057-5c33-0344-c656-d3cb-c939-9968"
      },
      {
       "current": "3e836c18-0c75-11f0-b991-feb16f56f93e-15-7510-3c5e-1a25-8534-be8d-1f5b-f63a-855a-d1ae-53d7",
       "next": "6fd3a518-1e35-11f0-85e7-be8e2cbe8172",
       "previous": "1945ee16-0f8c-11f0-935e-6e323efef16c-13-cf6e-9e08-8d48-f057-5c33-0344-c656-d3cb-c939-9968"
      },
      {
       "current": "3e836c18-0c75-11f0-b991-feb16f56f93e-16-3c5e-1a25-8534-be8d-1f5b-f63a-855a-d1ae-53d7-50f7",
       "next": "1945ee16-0f8c-11f0-935e-6e323efef16c-14-9e08-8d48-f057-5c33-0344-c656-d3cb-c939-9968-42cc",
       "previous": "1945ee16-0f8c-11f0-935e-6e323efef16c-13-cf6e-9e08-8d48-f057-5c33-0344-c656-d3cb-c939-9968"
      },
      {
       "current": "3e836c18-0c75-11f0-b991-feb16f56f93e-16-3c5e-1a25-8534-be8d-1f5b-f63a-855a-d1ae-53d7-50f7",
       "next": "49f48492-1c24-11f0-baf6-eaf1011eb67f-5-e4e3-bf8a-77f2-a8ed-63cb",
       "previous": "1945ee16-0f8c-11f0-935e-6e323efef16c-14-9e08-8d48-f057-5c33-0344-c656-d3cb-c939-9968-cf54"
      },
      {
       "current": "3e836c18-0c75-11f0-b991-feb16f56f93e-17-1a25-8534-be8d-1f5b-f63a-855a-d1ae-53d7-50f7-6975",
       "next": "1945ee16-0f8c-11f0-935e-6e323efef16c-13-cf6e-9e08-8d48-f057-5c33-0344-c656-d3cb-c939-867b",
       "previous": "1945ee16-0f8c-11f0-935e-6e323efef16c-14-9e08-8d48-f057-5c33-0344-c656-d3cb-c939-9968-cf54"
      },
      {
       "current": "3e836c18-0c75-11f0-b991-feb16f56f93e-18-8534-be8d-1f5b-f63a-855a-d1ae-53d7-50f7-6975-3f18",
       "next": "1945ee16-0f8c-11f0-935e-6e323efef16c-13-cf6e-9e08-8d48-f057-5c33-0344-c656-d3cb-c939-867b",
       "previous": "1945ee16-0f8c-11f0-935e-6e323efef16c-15-8d48-f057-5c33-0344-c656-d3cb-c939-9968-cf54-c89d"
      },
      {
       "current": "3e836c18-0c75-11f0-b991-feb16f56f93e-19-be8d-1f5b-f63a-855a-d1ae-53d7-50f7-6975-3f18-03ce",
       "next": "1945ee16-0f8c-11f0-935e-6e323efef16c-14-9e08-8d48-f057-5c33-0344-c656-d3cb-c939-867b-9ff8",
       "previous": "1945ee16-0f8c-11f0-935e-6e323efef16c-16-f057-5c33-0344-c656-d3cb-c939-9968-cf54-c89d-6dbe"
      },
      {
       "current": "3e836c18-0c75-11f0-b991-feb16f56f93e-21-f63a-855a-d1ae-53d7-50f7-6975-3f18-03ce-f8f4-a0b3",
       "next": "1945ee16-0f8c-11f0-935e-6e323efef16c-15-8d48-f057-5c33-0344-c656-d3cb-c939-867b-9ff8-f89e",
       "previous": "1945ee16-0f8c-11f0-935e-6e323efef16c-17-5c33-0344-c656-d3cb-c939-9968-cf54-c89d-6dbe-241f"
      }
     ],
     "next": "1945ee16-0f8c-11f0-935e-6e323efef16c-17-5c33-0344-c656-d3cb-c939-867b-9ff8-f89e-52f0-423e",
     "previous": "1945ee16-0f8c-11f0-935e-6e323efef16c-19-c656-d3cb-c939-9968-cf54-c89d-6dbe-241f-e165-93af"
    },
    "pinnedOutputTabIndex": 0,
    "run_through_control": {
     "frozen": false,
     "read_only": false
    }
   },
   "outputs": [],
   "source": [
    "result_notebooks.append(run_notebook('テスト手順-管理者機能-アドオン利用制御.ipynb'))\n",
    "result_notebooks"
   ]
  },
  {
   "cell_type": "markdown",
   "id": "a838d452-6c2d-408f-aeb6-59c2845a7612",
   "metadata": {
    "deletable": true,
    "editable": true,
    "lc_cell_meme": {
     "current": "1945ee16-0f8c-11f0-935e-6e323efef16c-18-0344-c656-d3cb-c939-867b-9ff8-f89e-52f0-423e-de54",
     "history": [
      {
       "current": "1945ee16-0f8c-11f0-935e-6e323efef16c-2-2c1c-4f08",
       "next": "3e836c18-0c75-11f0-b991-feb16f56f93e-3-b008-e8d0-3f9b",
       "previous": "8af0ac06-0c6f-11f0-98e9-5e0a5654d7bd-3-c85a-d8bf-8dea"
      },
      {
       "current": "1945ee16-0f8c-11f0-935e-6e323efef16c-5-2c1c-4f08-40b5-cf6e-9e08",
       "next": "3e836c18-0c75-11f0-b991-feb16f56f93e-4-b008-e8d0-3f9b-d91b",
       "previous": "8af0ac06-0c6f-11f0-98e9-5e0a5654d7bd-4-c85a-d8bf-8dea-ced2"
      },
      {
       "current": "1945ee16-0f8c-11f0-935e-6e323efef16c-5-2c1c-4f08-40b5-cf6e-9e08",
       "next": "3e836c18-0c75-11f0-b991-feb16f56f93e-7-b008-e8d0-3f9b-d91b-9971-7510-3c5e",
       "previous": "e4ebb1f2-191b-11f0-ad36-668cb6ddd6b0"
      },
      {
       "current": "1945ee16-0f8c-11f0-935e-6e323efef16c-6-2c1c-4f08-40b5-cf6e-9e08-8d48",
       "next": "3e836c18-0c75-11f0-b991-feb16f56f93e-7-b008-e8d0-3f9b-d91b-9971-7510-3c5e",
       "previous": "8af0ac06-0c6f-11f0-98e9-5e0a5654d7bd-7-c85a-d8bf-8dea-ced2-b6ea-11de-e027"
      },
      {
       "current": "1945ee16-0f8c-11f0-935e-6e323efef16c-9-2c1c-4f08-40b5-cf6e-9e08-8d48-f057-5c33-0344",
       "next": "3e836c18-0c75-11f0-b991-feb16f56f93e-8-b008-e8d0-3f9b-d91b-9971-7510-3c5e-1a25",
       "previous": "8af0ac06-0c6f-11f0-98e9-5e0a5654d7bd-8-c85a-d8bf-8dea-ced2-b6ea-11de-e027-5ced"
      },
      {
       "current": "1945ee16-0f8c-11f0-935e-6e323efef16c-10-2c1c-4f08-40b5-cf6e-9e08-8d48-f057-5c33-0344-c656",
       "next": "3e836c18-0c75-11f0-b991-feb16f56f93e-11-e8d0-3f9b-d91b-9971-7510-3c5e-1a25-8534-be8d-1f5b",
       "previous": "8af0ac06-0c6f-11f0-98e9-5e0a5654d7bd-11-d8bf-8dea-ced2-b6ea-11de-e027-5ced-0939-f364-6bc7"
      },
      {
       "current": "1945ee16-0f8c-11f0-935e-6e323efef16c-11-4f08-40b5-cf6e-9e08-8d48-f057-5c33-0344-c656-d3cb",
       "next": "3e836c18-0c75-11f0-b991-feb16f56f93e-12-3f9b-d91b-9971-7510-3c5e-1a25-8534-be8d-1f5b-f63a",
       "previous": "3e836c18-0c75-11f0-b991-feb16f56f93e-11-e8d0-3f9b-d91b-9971-7510-3c5e-1a25-8534-be8d-1f5b"
      },
      {
       "current": "1945ee16-0f8c-11f0-935e-6e323efef16c-12-40b5-cf6e-9e08-8d48-f057-5c33-0344-c656-d3cb-c939",
       "next": "3e836c18-0c75-11f0-b991-feb16f56f93e-13-d91b-9971-7510-3c5e-1a25-8534-be8d-1f5b-f63a-855a",
       "previous": "3e836c18-0c75-11f0-b991-feb16f56f93e-12-3f9b-d91b-9971-7510-3c5e-1a25-8534-be8d-1f5b-f63a"
      },
      {
       "current": "1945ee16-0f8c-11f0-935e-6e323efef16c-13-cf6e-9e08-8d48-f057-5c33-0344-c656-d3cb-c939-867b",
       "next": "3e836c18-0c75-11f0-b991-feb16f56f93e-14-9971-7510-3c5e-1a25-8534-be8d-1f5b-f63a-855a-d1ae",
       "previous": "3e836c18-0c75-11f0-b991-feb16f56f93e-13-d91b-9971-7510-3c5e-1a25-8534-be8d-1f5b-f63a-eb91"
      },
      {
       "current": "1945ee16-0f8c-11f0-935e-6e323efef16c-13-cf6e-9e08-8d48-f057-5c33-0344-c656-d3cb-c939-867b",
       "next": "3e836c18-0c75-11f0-b991-feb16f56f93e-15-7510-3c5e-1a25-8534-be8d-1f5b-f63a-855a-d1ae-aa0b",
       "previous": "3e836c18-0c75-11f0-b991-feb16f56f93e-16-3c5e-1a25-8534-be8d-1f5b-f63a-855a-d1ae-53d7-50f7"
      },
      {
       "current": "1945ee16-0f8c-11f0-935e-6e323efef16c-14-9e08-8d48-f057-5c33-0344-c656-d3cb-c939-867b-9ff8",
       "next": "3e836c18-0c75-11f0-b991-feb16f56f93e-15-7510-3c5e-1a25-8534-be8d-1f5b-f63a-855a-d1ae-aa0b",
       "previous": "3e836c18-0c75-11f0-b991-feb16f56f93e-17-1a25-8534-be8d-1f5b-f63a-855a-d1ae-53d7-50f7-6975"
      },
      {
       "current": "1945ee16-0f8c-11f0-935e-6e323efef16c-15-8d48-f057-5c33-0344-c656-d3cb-c939-867b-9ff8-f89e",
       "next": "3e836c18-0c75-11f0-b991-feb16f56f93e-16-3c5e-1a25-8534-be8d-1f5b-f63a-855a-d1ae-aa0b-1924",
       "previous": "3e836c18-0c75-11f0-b991-feb16f56f93e-18-8534-be8d-1f5b-f63a-855a-d1ae-53d7-50f7-6975-3f18"
      },
      {
       "current": "1945ee16-0f8c-11f0-935e-6e323efef16c-17-5c33-0344-c656-d3cb-c939-867b-9ff8-f89e-52f0-423e",
       "next": "3e836c18-0c75-11f0-b991-feb16f56f93e-17-1a25-8534-be8d-1f5b-f63a-855a-d1ae-aa0b-1924-5b26",
       "previous": "3e836c18-0c75-11f0-b991-feb16f56f93e-19-be8d-1f5b-f63a-855a-d1ae-53d7-50f7-6975-3f18-03ce"
      }
     ],
     "next": "3e836c18-0c75-11f0-b991-feb16f56f93e-19-be8d-1f5b-f63a-855a-d1ae-aa0b-1924-5b26-9e17-634a",
     "previous": "3e836c18-0c75-11f0-b991-feb16f56f93e-21-f63a-855a-d1ae-53d7-50f7-6975-3f18-03ce-f8f4-a0b3"
    },
    "pinnedOutputTabIndex": 0,
    "run_through_control": {
     "frozen": false,
     "read_only": false
    }
   },
   "source": [
    "## 「利用統計」テストの実施\n",
    "\n",
    "テスト「テスト手順-管理者機能-利用統計」を実施する。"
   ]
  },
  {
   "cell_type": "code",
   "execution_count": null,
   "id": "c8d731dc-4b54-40f8-826b-93aa5ab8e505",
   "metadata": {
    "deletable": true,
    "lc_cell_meme": {
     "current": "3e836c18-0c75-11f0-b991-feb16f56f93e-20-1f5b-f63a-855a-d1ae-aa0b-1924-5b26-9e17-634a-5533",
     "execution_end_time": "2025-04-19T22:51:35.059Z",
     "history": [
      {
       "current": "3e836c18-0c75-11f0-b991-feb16f56f93e",
       "next": "ce8c187e-f991-11ef-a92d-0242ac120006-6-964d-161e-73da-b120-ac56-8b98",
       "previous": "9954a6fc-0c70-11f0-98e9-5e0a5654d7bd-1-f4b2"
      },
      {
       "current": "3e836c18-0c75-11f0-b991-feb16f56f93e",
       "next": "522aa0f0-0c76-11f0-b991-feb16f56f93e",
       "previous": "9954a6fc-0c70-11f0-98e9-5e0a5654d7bd-1-f4b2"
      },
      {
       "current": "3e836c18-0c75-11f0-b991-feb16f56f93e-2-b008-e8d0",
       "next": "ce8c187e-f991-11ef-a92d-0242ac120006-6-964d-161e-73da-b120-ac56-8b98",
       "previous": "9954a6fc-0c70-11f0-98e9-5e0a5654d7bd-1-f4b2"
      },
      {
       "current": "3e836c18-0c75-11f0-b991-feb16f56f93e-3-b008-e8d0-3f9b",
       "next": "e49811c6-0f8b-11f0-935e-6e323efef16c",
       "previous": "9954a6fc-0c70-11f0-98e9-5e0a5654d7bd-3-f4b2-32da-b588"
      },
      {
       "current": "3e836c18-0c75-11f0-b991-feb16f56f93e-3-b008-e8d0-3f9b",
       "next": "e49811c6-0f8b-11f0-935e-6e323efef16c",
       "previous": "9954a6fc-0c70-11f0-98e9-5e0a5654d7bd-3-f4b2-32da-b588"
      },
      {
       "current": "3e836c18-0c75-11f0-b991-feb16f56f93e-3-b008-e8d0-3f9b",
       "next": "9954a6fc-0c70-11f0-98e9-5e0a5654d7bd-3-f4b2-32da-b588",
       "previous": "8af0ac06-0c6f-11f0-98e9-5e0a5654d7bd-3-c85a-d8bf-8dea"
      },
      {
       "current": "3e836c18-0c75-11f0-b991-feb16f56f93e-3-b008-e8d0-3f9b",
       "next": "9954a6fc-0c70-11f0-98e9-5e0a5654d7bd-3-f4b2-32da-b588",
       "previous": "1945ee16-0f8c-11f0-935e-6e323efef16c"
      },
      {
       "current": "3e836c18-0c75-11f0-b991-feb16f56f93e-3-b008-e8d0-3f9b",
       "next": "9954a6fc-0c70-11f0-98e9-5e0a5654d7bd-3-f4b2-32da-b588",
       "previous": "1945ee16-0f8c-11f0-935e-6e323efef16c"
      },
      {
       "current": "3e836c18-0c75-11f0-b991-feb16f56f93e-3-b008-e8d0-3f9b",
       "next": "9954a6fc-0c70-11f0-98e9-5e0a5654d7bd-3-f4b2-32da-b588",
       "previous": "1945ee16-0f8c-11f0-935e-6e323efef16c-1-2c1c"
      },
      {
       "current": "3e836c18-0c75-11f0-b991-feb16f56f93e-3-b008-e8d0-3f9b",
       "next": "5111a470-0f8c-11f0-935e-6e323efef16c",
       "previous": "1945ee16-0f8c-11f0-935e-6e323efef16c-1-2c1c"
      },
      {
       "current": "3e836c18-0c75-11f0-b991-feb16f56f93e-3-b008-e8d0-3f9b",
       "next": "5111a470-0f8c-11f0-935e-6e323efef16c",
       "previous": "1945ee16-0f8c-11f0-935e-6e323efef16c-1-2c1c"
      },
      {
       "current": "3e836c18-0c75-11f0-b991-feb16f56f93e-4-b008-e8d0-3f9b-d91b",
       "next": "5111a470-0f8c-11f0-935e-6e323efef16c-1-cde4",
       "previous": "1945ee16-0f8c-11f0-935e-6e323efef16c-1-2c1c"
      },
      {
       "current": "3e836c18-0c75-11f0-b991-feb16f56f93e-7-b008-e8d0-3f9b-d91b-9971-7510-3c5e",
       "next": "5111a470-0f8c-11f0-935e-6e323efef16c-2-cde4-2f90",
       "previous": "1945ee16-0f8c-11f0-935e-6e323efef16c-2-2c1c-4f08"
      },
      {
       "current": "3e836c18-0c75-11f0-b991-feb16f56f93e-8-b008-e8d0-3f9b-d91b-9971-7510-3c5e-1a25",
       "next": "5111a470-0f8c-11f0-935e-6e323efef16c-5-cde4-2f90-b5a2-f6e5-88d7",
       "previous": "1945ee16-0f8c-11f0-935e-6e323efef16c-5-2c1c-4f08-40b5-cf6e-9e08"
      },
      {
       "current": "3e836c18-0c75-11f0-b991-feb16f56f93e-11-e8d0-3f9b-d91b-9971-7510-3c5e-1a25-8534-be8d-1f5b",
       "next": "5111a470-0f8c-11f0-935e-6e323efef16c-6-cde4-2f90-b5a2-f6e5-88d7-521b",
       "previous": "1945ee16-0f8c-11f0-935e-6e323efef16c-6-2c1c-4f08-40b5-cf6e-9e08-8d48"
      },
      {
       "current": "3e836c18-0c75-11f0-b991-feb16f56f93e-11-e8d0-3f9b-d91b-9971-7510-3c5e-1a25-8534-be8d-1f5b",
       "next": "5111a470-0f8c-11f0-935e-6e323efef16c-9-cde4-2f90-b5a2-f6e5-88d7-521b-9af2-6a60-a5f5",
       "previous": "1945ee16-0f8c-11f0-935e-6e323efef16c-9-2c1c-4f08-40b5-cf6e-9e08-8d48-f057-5c33-0344"
      },
      {
       "current": "3e836c18-0c75-11f0-b991-feb16f56f93e-11-e8d0-3f9b-d91b-9971-7510-3c5e-1a25-8534-be8d-1f5b",
       "next": "9954a6fc-0c70-11f0-98e9-5e0a5654d7bd-11-32da-b588-2530-2362-ef25-d28e-b01d-99fe-df5d-298e",
       "previous": "1945ee16-0f8c-11f0-935e-6e323efef16c-9-2c1c-4f08-40b5-cf6e-9e08-8d48-f057-5c33-0344"
      },
      {
       "current": "3e836c18-0c75-11f0-b991-feb16f56f93e-11-e8d0-3f9b-d91b-9971-7510-3c5e-1a25-8534-be8d-1f5b",
       "next": "5111a470-0f8c-11f0-935e-6e323efef16c-10-cde4-bd15-47f7-4a43-6e0c-4f72-5d03-228c-c238-5828",
       "previous": "1945ee16-0f8c-11f0-935e-6e323efef16c-9-2c1c-4f08-40b5-cf6e-9e08-8d48-f057-5c33-0344"
      },
      {
       "current": "3e836c18-0c75-11f0-b991-feb16f56f93e-11-e8d0-3f9b-d91b-9971-7510-3c5e-1a25-8534-be8d-1f5b",
       "next": "9954a6fc-0c70-11f0-98e9-5e0a5654d7bd-12-b588-2ea3-c289-53e5-31c4-7b04-2eff-2c6e-2ac3-dfdd",
       "previous": "1945ee16-0f8c-11f0-935e-6e323efef16c-9-2c1c-4f08-40b5-cf6e-9e08-8d48-f057-5c33-0344"
      },
      {
       "current": "3e836c18-0c75-11f0-b991-feb16f56f93e-12-3f9b-d91b-9971-7510-3c5e-1a25-8534-be8d-1f5b-f63a",
       "next": "49f48492-1c24-11f0-baf6-eaf1011eb67f-4-e4e3-bf8a-77f2-a8ed",
       "previous": "1945ee16-0f8c-11f0-935e-6e323efef16c-9-2c1c-4f08-40b5-cf6e-9e08-8d48-f057-5c33-0344"
      },
      {
       "current": "3e836c18-0c75-11f0-b991-feb16f56f93e-13-d91b-9971-7510-3c5e-1a25-8534-be8d-1f5b-f63a-855a",
       "next": "49f48492-1c24-11f0-baf6-eaf1011eb67f-4-e4e3-bf8a-77f2-a8ed",
       "previous": "1945ee16-0f8c-11f0-935e-6e323efef16c-10-2c1c-4f08-40b5-cf6e-9e08-8d48-f057-5c33-0344-c656"
      },
      {
       "current": "3e836c18-0c75-11f0-b991-feb16f56f93e-14-9971-7510-3c5e-1a25-8534-be8d-1f5b-f63a-855a-d1ae",
       "next": "49f48492-1c24-11f0-baf6-eaf1011eb67f-4-e4e3-bf8a-77f2-a8ed",
       "previous": "1945ee16-0f8c-11f0-935e-6e323efef16c-11-4f08-40b5-cf6e-9e08-8d48-f057-5c33-0344-c656-d3cb"
      },
      {
       "current": "3e836c18-0c75-11f0-b991-feb16f56f93e-15-7510-3c5e-1a25-8534-be8d-1f5b-f63a-855a-d1ae-aa0b",
       "next": "1945ee16-0f8c-11f0-935e-6e323efef16c-13-cf6e-9e08-8d48-f057-5c33-0344-c656-d3cb-c939-9968",
       "previous": "1945ee16-0f8c-11f0-935e-6e323efef16c-12-40b5-cf6e-9e08-8d48-f057-5c33-0344-c656-d3cb-c939"
      },
      {
       "current": "3e836c18-0c75-11f0-b991-feb16f56f93e-15-7510-3c5e-1a25-8534-be8d-1f5b-f63a-855a-d1ae-aa0b",
       "next": "49f48492-1c24-11f0-baf6-eaf1011eb67f-5-e4e3-bf8a-77f2-a8ed-63cb",
       "previous": "1945ee16-0f8c-11f0-935e-6e323efef16c-13-cf6e-9e08-8d48-f057-5c33-0344-c656-d3cb-c939-867b"
      },
      {
       "current": "3e836c18-0c75-11f0-b991-feb16f56f93e-15-7510-3c5e-1a25-8534-be8d-1f5b-f63a-855a-d1ae-aa0b",
       "next": "e2e49448-1e5a-11f0-85e7-be8e2cbe8172",
       "previous": "1945ee16-0f8c-11f0-935e-6e323efef16c-13-cf6e-9e08-8d48-f057-5c33-0344-c656-d3cb-c939-867b"
      },
      {
       "current": "3e836c18-0c75-11f0-b991-feb16f56f93e-16-3c5e-1a25-8534-be8d-1f5b-f63a-855a-d1ae-aa0b-1924",
       "next": "1945ee16-0f8c-11f0-935e-6e323efef16c-14-9e08-8d48-f057-5c33-0344-c656-d3cb-c939-867b-235c",
       "previous": "1945ee16-0f8c-11f0-935e-6e323efef16c-13-cf6e-9e08-8d48-f057-5c33-0344-c656-d3cb-c939-867b"
      },
      {
       "current": "3e836c18-0c75-11f0-b991-feb16f56f93e-17-1a25-8534-be8d-1f5b-f63a-855a-d1ae-aa0b-1924-5b26",
       "next": "1945ee16-0f8c-11f0-935e-6e323efef16c-15-8d48-f057-5c33-0344-c656-d3cb-c939-867b-235c-e284",
       "previous": "1945ee16-0f8c-11f0-935e-6e323efef16c-14-9e08-8d48-f057-5c33-0344-c656-d3cb-c939-867b-9ff8"
      },
      {
       "current": "3e836c18-0c75-11f0-b991-feb16f56f93e-19-be8d-1f5b-f63a-855a-d1ae-aa0b-1924-5b26-9e17-634a",
       "next": "1945ee16-0f8c-11f0-935e-6e323efef16c-16-f057-5c33-0344-c656-d3cb-c939-867b-235c-e284-1296",
       "previous": "1945ee16-0f8c-11f0-935e-6e323efef16c-15-8d48-f057-5c33-0344-c656-d3cb-c939-867b-9ff8-f89e"
      }
     ],
     "next": "1945ee16-0f8c-11f0-935e-6e323efef16c-18-0344-c656-d3cb-c939-867b-235c-e284-1296-65d5-451c",
     "previous": "1945ee16-0f8c-11f0-935e-6e323efef16c-17-5c33-0344-c656-d3cb-c939-867b-9ff8-f89e-52f0-423e"
    },
    "pinnedOutputTabIndex": 0,
    "run_through_control": {
     "frozen": false,
     "read_only": false
    }
   },
   "outputs": [],
   "source": [
    "result_notebooks.append(run_notebook('テスト手順-管理者機能-利用統計.ipynb'))\n",
    "result_notebooks"
   ]
  },
  {
   "cell_type": "markdown",
   "id": "4c9a63f4-0d39-42d8-b38c-f94a141672c2",
   "metadata": {
    "deletable": true,
    "editable": true,
    "lc_cell_meme": {
     "current": "1945ee16-0f8c-11f0-935e-6e323efef16c-19-c656-d3cb-c939-867b-235c-e284-1296-65d5-451c-7db2",
     "history": [
      {
       "current": "1945ee16-0f8c-11f0-935e-6e323efef16c-2-2c1c-4f08",
       "next": "3e836c18-0c75-11f0-b991-feb16f56f93e-3-b008-e8d0-3f9b",
       "previous": "8af0ac06-0c6f-11f0-98e9-5e0a5654d7bd-3-c85a-d8bf-8dea"
      },
      {
       "current": "1945ee16-0f8c-11f0-935e-6e323efef16c-5-2c1c-4f08-40b5-cf6e-9e08",
       "next": "3e836c18-0c75-11f0-b991-feb16f56f93e-4-b008-e8d0-3f9b-d91b",
       "previous": "8af0ac06-0c6f-11f0-98e9-5e0a5654d7bd-4-c85a-d8bf-8dea-ced2"
      },
      {
       "current": "1945ee16-0f8c-11f0-935e-6e323efef16c-5-2c1c-4f08-40b5-cf6e-9e08",
       "next": "3e836c18-0c75-11f0-b991-feb16f56f93e-7-b008-e8d0-3f9b-d91b-9971-7510-3c5e",
       "previous": "e4ebb1f2-191b-11f0-ad36-668cb6ddd6b0"
      },
      {
       "current": "1945ee16-0f8c-11f0-935e-6e323efef16c-6-2c1c-4f08-40b5-cf6e-9e08-8d48",
       "next": "3e836c18-0c75-11f0-b991-feb16f56f93e-7-b008-e8d0-3f9b-d91b-9971-7510-3c5e",
       "previous": "8af0ac06-0c6f-11f0-98e9-5e0a5654d7bd-7-c85a-d8bf-8dea-ced2-b6ea-11de-e027"
      },
      {
       "current": "1945ee16-0f8c-11f0-935e-6e323efef16c-9-2c1c-4f08-40b5-cf6e-9e08-8d48-f057-5c33-0344",
       "next": "3e836c18-0c75-11f0-b991-feb16f56f93e-8-b008-e8d0-3f9b-d91b-9971-7510-3c5e-1a25",
       "previous": "8af0ac06-0c6f-11f0-98e9-5e0a5654d7bd-8-c85a-d8bf-8dea-ced2-b6ea-11de-e027-5ced"
      },
      {
       "current": "1945ee16-0f8c-11f0-935e-6e323efef16c-10-2c1c-4f08-40b5-cf6e-9e08-8d48-f057-5c33-0344-c656",
       "next": "3e836c18-0c75-11f0-b991-feb16f56f93e-11-e8d0-3f9b-d91b-9971-7510-3c5e-1a25-8534-be8d-1f5b",
       "previous": "8af0ac06-0c6f-11f0-98e9-5e0a5654d7bd-11-d8bf-8dea-ced2-b6ea-11de-e027-5ced-0939-f364-6bc7"
      },
      {
       "current": "1945ee16-0f8c-11f0-935e-6e323efef16c-11-4f08-40b5-cf6e-9e08-8d48-f057-5c33-0344-c656-d3cb",
       "next": "3e836c18-0c75-11f0-b991-feb16f56f93e-12-3f9b-d91b-9971-7510-3c5e-1a25-8534-be8d-1f5b-f63a",
       "previous": "3e836c18-0c75-11f0-b991-feb16f56f93e-11-e8d0-3f9b-d91b-9971-7510-3c5e-1a25-8534-be8d-1f5b"
      },
      {
       "current": "1945ee16-0f8c-11f0-935e-6e323efef16c-12-40b5-cf6e-9e08-8d48-f057-5c33-0344-c656-d3cb-c939",
       "next": "3e836c18-0c75-11f0-b991-feb16f56f93e-13-d91b-9971-7510-3c5e-1a25-8534-be8d-1f5b-f63a-855a",
       "previous": "3e836c18-0c75-11f0-b991-feb16f56f93e-12-3f9b-d91b-9971-7510-3c5e-1a25-8534-be8d-1f5b-f63a"
      },
      {
       "current": "1945ee16-0f8c-11f0-935e-6e323efef16c-13-cf6e-9e08-8d48-f057-5c33-0344-c656-d3cb-c939-867b",
       "next": "3e836c18-0c75-11f0-b991-feb16f56f93e-14-9971-7510-3c5e-1a25-8534-be8d-1f5b-f63a-855a-d1ae",
       "previous": "3e836c18-0c75-11f0-b991-feb16f56f93e-13-d91b-9971-7510-3c5e-1a25-8534-be8d-1f5b-f63a-eb91"
      },
      {
       "current": "1945ee16-0f8c-11f0-935e-6e323efef16c-13-cf6e-9e08-8d48-f057-5c33-0344-c656-d3cb-c939-867b",
       "next": "3e836c18-0c75-11f0-b991-feb16f56f93e-15-7510-3c5e-1a25-8534-be8d-1f5b-f63a-855a-d1ae-aa0b",
       "previous": "3e836c18-0c75-11f0-b991-feb16f56f93e-16-3c5e-1a25-8534-be8d-1f5b-f63a-855a-d1ae-53d7-50f7"
      },
      {
       "current": "1945ee16-0f8c-11f0-935e-6e323efef16c-14-9e08-8d48-f057-5c33-0344-c656-d3cb-c939-867b-235c",
       "next": "3e836c18-0c75-11f0-b991-feb16f56f93e-15-7510-3c5e-1a25-8534-be8d-1f5b-f63a-855a-d1ae-aa0b",
       "previous": "3e836c18-0c75-11f0-b991-feb16f56f93e-17-1a25-8534-be8d-1f5b-f63a-855a-d1ae-53d7-50f7-6975"
      },
      {
       "current": "1945ee16-0f8c-11f0-935e-6e323efef16c-15-8d48-f057-5c33-0344-c656-d3cb-c939-867b-235c-e284",
       "next": "3e836c18-0c75-11f0-b991-feb16f56f93e-16-3c5e-1a25-8534-be8d-1f5b-f63a-855a-d1ae-aa0b-0652",
       "previous": "3e836c18-0c75-11f0-b991-feb16f56f93e-15-7510-3c5e-1a25-8534-be8d-1f5b-f63a-855a-d1ae-aa0b"
      },
      {
       "current": "1945ee16-0f8c-11f0-935e-6e323efef16c-16-f057-5c33-0344-c656-d3cb-c939-867b-235c-e284-1296",
       "next": "3e836c18-0c75-11f0-b991-feb16f56f93e-17-1a25-8534-be8d-1f5b-f63a-855a-d1ae-aa0b-0652-9f52",
       "previous": "3e836c18-0c75-11f0-b991-feb16f56f93e-16-3c5e-1a25-8534-be8d-1f5b-f63a-855a-d1ae-aa0b-1924"
      },
      {
       "current": "1945ee16-0f8c-11f0-935e-6e323efef16c-18-0344-c656-d3cb-c939-867b-235c-e284-1296-65d5-451c",
       "next": "3e836c18-0c75-11f0-b991-feb16f56f93e-18-8534-be8d-1f5b-f63a-855a-d1ae-aa0b-0652-9f52-7da8",
       "previous": "3e836c18-0c75-11f0-b991-feb16f56f93e-17-1a25-8534-be8d-1f5b-f63a-855a-d1ae-aa0b-1924-5b26"
      }
     ],
     "next": "3e836c18-0c75-11f0-b991-feb16f56f93e-20-1f5b-f63a-855a-d1ae-aa0b-0652-9f52-7da8-a468-2e92",
     "previous": "3e836c18-0c75-11f0-b991-feb16f56f93e-19-be8d-1f5b-f63a-855a-d1ae-aa0b-1924-5b26-9e17-634a"
    },
    "pinnedOutputTabIndex": 0,
    "run_through_control": {
     "frozen": false,
     "read_only": false
    }
   },
   "source": [
    "## 「アナウンス」テストの実施\n",
    "\n",
    "テスト「テスト手順-管理者機能-アナウンス」を実施する。"
   ]
  },
  {
   "cell_type": "code",
   "execution_count": null,
   "id": "9617b371-8a92-4917-9454-5266b0e7e1f1",
   "metadata": {
    "deletable": true,
    "lc_cell_meme": {
     "current": "3e836c18-0c75-11f0-b991-feb16f56f93e-21-f63a-855a-d1ae-aa0b-0652-9f52-7da8-a468-2e92-1b20",
     "execution_end_time": "2025-04-21T02:47:50.561Z",
     "history": [
      {
       "current": "3e836c18-0c75-11f0-b991-feb16f56f93e",
       "next": "ce8c187e-f991-11ef-a92d-0242ac120006-6-964d-161e-73da-b120-ac56-8b98",
       "previous": "9954a6fc-0c70-11f0-98e9-5e0a5654d7bd-1-f4b2"
      },
      {
       "current": "3e836c18-0c75-11f0-b991-feb16f56f93e",
       "next": "522aa0f0-0c76-11f0-b991-feb16f56f93e",
       "previous": "9954a6fc-0c70-11f0-98e9-5e0a5654d7bd-1-f4b2"
      },
      {
       "current": "3e836c18-0c75-11f0-b991-feb16f56f93e-2-b008-e8d0",
       "next": "ce8c187e-f991-11ef-a92d-0242ac120006-6-964d-161e-73da-b120-ac56-8b98",
       "previous": "9954a6fc-0c70-11f0-98e9-5e0a5654d7bd-1-f4b2"
      },
      {
       "current": "3e836c18-0c75-11f0-b991-feb16f56f93e-3-b008-e8d0-3f9b",
       "next": "e49811c6-0f8b-11f0-935e-6e323efef16c",
       "previous": "9954a6fc-0c70-11f0-98e9-5e0a5654d7bd-3-f4b2-32da-b588"
      },
      {
       "current": "3e836c18-0c75-11f0-b991-feb16f56f93e-3-b008-e8d0-3f9b",
       "next": "e49811c6-0f8b-11f0-935e-6e323efef16c",
       "previous": "9954a6fc-0c70-11f0-98e9-5e0a5654d7bd-3-f4b2-32da-b588"
      },
      {
       "current": "3e836c18-0c75-11f0-b991-feb16f56f93e-3-b008-e8d0-3f9b",
       "next": "9954a6fc-0c70-11f0-98e9-5e0a5654d7bd-3-f4b2-32da-b588",
       "previous": "8af0ac06-0c6f-11f0-98e9-5e0a5654d7bd-3-c85a-d8bf-8dea"
      },
      {
       "current": "3e836c18-0c75-11f0-b991-feb16f56f93e-3-b008-e8d0-3f9b",
       "next": "9954a6fc-0c70-11f0-98e9-5e0a5654d7bd-3-f4b2-32da-b588",
       "previous": "1945ee16-0f8c-11f0-935e-6e323efef16c"
      },
      {
       "current": "3e836c18-0c75-11f0-b991-feb16f56f93e-3-b008-e8d0-3f9b",
       "next": "9954a6fc-0c70-11f0-98e9-5e0a5654d7bd-3-f4b2-32da-b588",
       "previous": "1945ee16-0f8c-11f0-935e-6e323efef16c"
      },
      {
       "current": "3e836c18-0c75-11f0-b991-feb16f56f93e-3-b008-e8d0-3f9b",
       "next": "9954a6fc-0c70-11f0-98e9-5e0a5654d7bd-3-f4b2-32da-b588",
       "previous": "1945ee16-0f8c-11f0-935e-6e323efef16c-1-2c1c"
      },
      {
       "current": "3e836c18-0c75-11f0-b991-feb16f56f93e-3-b008-e8d0-3f9b",
       "next": "5111a470-0f8c-11f0-935e-6e323efef16c",
       "previous": "1945ee16-0f8c-11f0-935e-6e323efef16c-1-2c1c"
      },
      {
       "current": "3e836c18-0c75-11f0-b991-feb16f56f93e-3-b008-e8d0-3f9b",
       "next": "5111a470-0f8c-11f0-935e-6e323efef16c",
       "previous": "1945ee16-0f8c-11f0-935e-6e323efef16c-1-2c1c"
      },
      {
       "current": "3e836c18-0c75-11f0-b991-feb16f56f93e-4-b008-e8d0-3f9b-d91b",
       "next": "5111a470-0f8c-11f0-935e-6e323efef16c-1-cde4",
       "previous": "1945ee16-0f8c-11f0-935e-6e323efef16c-1-2c1c"
      },
      {
       "current": "3e836c18-0c75-11f0-b991-feb16f56f93e-7-b008-e8d0-3f9b-d91b-9971-7510-3c5e",
       "next": "5111a470-0f8c-11f0-935e-6e323efef16c-2-cde4-2f90",
       "previous": "1945ee16-0f8c-11f0-935e-6e323efef16c-2-2c1c-4f08"
      },
      {
       "current": "3e836c18-0c75-11f0-b991-feb16f56f93e-8-b008-e8d0-3f9b-d91b-9971-7510-3c5e-1a25",
       "next": "5111a470-0f8c-11f0-935e-6e323efef16c-5-cde4-2f90-b5a2-f6e5-88d7",
       "previous": "1945ee16-0f8c-11f0-935e-6e323efef16c-5-2c1c-4f08-40b5-cf6e-9e08"
      },
      {
       "current": "3e836c18-0c75-11f0-b991-feb16f56f93e-11-e8d0-3f9b-d91b-9971-7510-3c5e-1a25-8534-be8d-1f5b",
       "next": "5111a470-0f8c-11f0-935e-6e323efef16c-6-cde4-2f90-b5a2-f6e5-88d7-521b",
       "previous": "1945ee16-0f8c-11f0-935e-6e323efef16c-6-2c1c-4f08-40b5-cf6e-9e08-8d48"
      },
      {
       "current": "3e836c18-0c75-11f0-b991-feb16f56f93e-11-e8d0-3f9b-d91b-9971-7510-3c5e-1a25-8534-be8d-1f5b",
       "next": "5111a470-0f8c-11f0-935e-6e323efef16c-9-cde4-2f90-b5a2-f6e5-88d7-521b-9af2-6a60-a5f5",
       "previous": "1945ee16-0f8c-11f0-935e-6e323efef16c-9-2c1c-4f08-40b5-cf6e-9e08-8d48-f057-5c33-0344"
      },
      {
       "current": "3e836c18-0c75-11f0-b991-feb16f56f93e-11-e8d0-3f9b-d91b-9971-7510-3c5e-1a25-8534-be8d-1f5b",
       "next": "9954a6fc-0c70-11f0-98e9-5e0a5654d7bd-11-32da-b588-2530-2362-ef25-d28e-b01d-99fe-df5d-298e",
       "previous": "1945ee16-0f8c-11f0-935e-6e323efef16c-9-2c1c-4f08-40b5-cf6e-9e08-8d48-f057-5c33-0344"
      },
      {
       "current": "3e836c18-0c75-11f0-b991-feb16f56f93e-11-e8d0-3f9b-d91b-9971-7510-3c5e-1a25-8534-be8d-1f5b",
       "next": "5111a470-0f8c-11f0-935e-6e323efef16c-10-cde4-bd15-47f7-4a43-6e0c-4f72-5d03-228c-c238-5828",
       "previous": "1945ee16-0f8c-11f0-935e-6e323efef16c-9-2c1c-4f08-40b5-cf6e-9e08-8d48-f057-5c33-0344"
      },
      {
       "current": "3e836c18-0c75-11f0-b991-feb16f56f93e-11-e8d0-3f9b-d91b-9971-7510-3c5e-1a25-8534-be8d-1f5b",
       "next": "9954a6fc-0c70-11f0-98e9-5e0a5654d7bd-12-b588-2ea3-c289-53e5-31c4-7b04-2eff-2c6e-2ac3-dfdd",
       "previous": "1945ee16-0f8c-11f0-935e-6e323efef16c-9-2c1c-4f08-40b5-cf6e-9e08-8d48-f057-5c33-0344"
      },
      {
       "current": "3e836c18-0c75-11f0-b991-feb16f56f93e-12-3f9b-d91b-9971-7510-3c5e-1a25-8534-be8d-1f5b-f63a",
       "next": "49f48492-1c24-11f0-baf6-eaf1011eb67f-4-e4e3-bf8a-77f2-a8ed",
       "previous": "1945ee16-0f8c-11f0-935e-6e323efef16c-9-2c1c-4f08-40b5-cf6e-9e08-8d48-f057-5c33-0344"
      },
      {
       "current": "3e836c18-0c75-11f0-b991-feb16f56f93e-13-d91b-9971-7510-3c5e-1a25-8534-be8d-1f5b-f63a-855a",
       "next": "49f48492-1c24-11f0-baf6-eaf1011eb67f-4-e4e3-bf8a-77f2-a8ed",
       "previous": "1945ee16-0f8c-11f0-935e-6e323efef16c-10-2c1c-4f08-40b5-cf6e-9e08-8d48-f057-5c33-0344-c656"
      },
      {
       "current": "3e836c18-0c75-11f0-b991-feb16f56f93e-14-9971-7510-3c5e-1a25-8534-be8d-1f5b-f63a-855a-d1ae",
       "next": "49f48492-1c24-11f0-baf6-eaf1011eb67f-4-e4e3-bf8a-77f2-a8ed",
       "previous": "1945ee16-0f8c-11f0-935e-6e323efef16c-11-4f08-40b5-cf6e-9e08-8d48-f057-5c33-0344-c656-d3cb"
      },
      {
       "current": "3e836c18-0c75-11f0-b991-feb16f56f93e-15-7510-3c5e-1a25-8534-be8d-1f5b-f63a-855a-d1ae-aa0b",
       "next": "1945ee16-0f8c-11f0-935e-6e323efef16c-13-cf6e-9e08-8d48-f057-5c33-0344-c656-d3cb-c939-9968",
       "previous": "1945ee16-0f8c-11f0-935e-6e323efef16c-12-40b5-cf6e-9e08-8d48-f057-5c33-0344-c656-d3cb-c939"
      },
      {
       "current": "3e836c18-0c75-11f0-b991-feb16f56f93e-15-7510-3c5e-1a25-8534-be8d-1f5b-f63a-855a-d1ae-aa0b",
       "next": "49f48492-1c24-11f0-baf6-eaf1011eb67f-5-e4e3-bf8a-77f2-a8ed-63cb",
       "previous": "1945ee16-0f8c-11f0-935e-6e323efef16c-13-cf6e-9e08-8d48-f057-5c33-0344-c656-d3cb-c939-867b"
      },
      {
       "current": "3e836c18-0c75-11f0-b991-feb16f56f93e-16-3c5e-1a25-8534-be8d-1f5b-f63a-855a-d1ae-aa0b-0652",
       "next": "e2e49448-1e5a-11f0-85e7-be8e2cbe8172",
       "previous": "1945ee16-0f8c-11f0-935e-6e323efef16c-13-cf6e-9e08-8d48-f057-5c33-0344-c656-d3cb-c939-867b"
      },
      {
       "current": "3e836c18-0c75-11f0-b991-feb16f56f93e-16-3c5e-1a25-8534-be8d-1f5b-f63a-855a-d1ae-aa0b-0652",
       "next": "e2e49448-1e5a-11f0-85e7-be8e2cbe8172",
       "previous": "1945ee16-0f8c-11f0-935e-6e323efef16c-14-9e08-8d48-f057-5c33-0344-c656-d3cb-c939-867b-235c"
      },
      {
       "current": "3e836c18-0c75-11f0-b991-feb16f56f93e-16-3c5e-1a25-8534-be8d-1f5b-f63a-855a-d1ae-aa0b-0652",
       "next": "49f48492-1c24-11f0-baf6-eaf1011eb67f-5-e4e3-bf8a-77f2-a8ed-63cb",
       "previous": "1945ee16-0f8c-11f0-935e-6e323efef16c-14-9e08-8d48-f057-5c33-0344-c656-d3cb-c939-867b-235c"
      },
      {
       "current": "3e836c18-0c75-11f0-b991-feb16f56f93e-16-3c5e-1a25-8534-be8d-1f5b-f63a-855a-d1ae-aa0b-0652",
       "next": "cba9b558-1e5d-11f0-85e7-be8e2cbe8172",
       "previous": "1945ee16-0f8c-11f0-935e-6e323efef16c-14-9e08-8d48-f057-5c33-0344-c656-d3cb-c939-867b-235c"
      },
      {
       "current": "3e836c18-0c75-11f0-b991-feb16f56f93e-17-1a25-8534-be8d-1f5b-f63a-855a-d1ae-aa0b-0652-9f52",
       "next": "1945ee16-0f8c-11f0-935e-6e323efef16c-15-8d48-f057-5c33-0344-c656-d3cb-c939-867b-235c-2933",
       "previous": "1945ee16-0f8c-11f0-935e-6e323efef16c-14-9e08-8d48-f057-5c33-0344-c656-d3cb-c939-867b-235c"
      },
      {
       "current": "3e836c18-0c75-11f0-b991-feb16f56f93e-18-8534-be8d-1f5b-f63a-855a-d1ae-aa0b-0652-9f52-7da8",
       "next": "1945ee16-0f8c-11f0-935e-6e323efef16c-16-f057-5c33-0344-c656-d3cb-c939-867b-235c-2933-4728",
       "previous": "1945ee16-0f8c-11f0-935e-6e323efef16c-15-8d48-f057-5c33-0344-c656-d3cb-c939-867b-235c-e284"
      },
      {
       "current": "3e836c18-0c75-11f0-b991-feb16f56f93e-20-1f5b-f63a-855a-d1ae-aa0b-0652-9f52-7da8-a468-2e92",
       "next": "1945ee16-0f8c-11f0-935e-6e323efef16c-17-5c33-0344-c656-d3cb-c939-867b-235c-2933-4728-e0bc",
       "previous": "1945ee16-0f8c-11f0-935e-6e323efef16c-16-f057-5c33-0344-c656-d3cb-c939-867b-235c-e284-1296"
      }
     ],
     "next": "1945ee16-0f8c-11f0-935e-6e323efef16c-19-c656-d3cb-c939-867b-235c-2933-4728-e0bc-0172-e1de",
     "previous": "1945ee16-0f8c-11f0-935e-6e323efef16c-18-0344-c656-d3cb-c939-867b-235c-e284-1296-65d5-451c"
    },
    "pinnedOutputTabIndex": 0,
    "run_through_control": {
     "frozen": false,
     "read_only": false
    }
   },
   "outputs": [],
   "source": [
    "result_notebooks.append(run_notebook(\n",
    "    'テスト手順-管理者機能-アナウンス.ipynb',\n",
    "    dict(\n",
    "        announcement_title=announcement_title,\n",
    "        announcement_body=announcement_body,\n",
    "    ),\n",
    "))\n",
    "result_notebooks"
   ]
  },
  {
   "cell_type": "markdown",
   "id": "ab7f3632-1a8a-4d2f-9406-f2cffcd3af71",
   "metadata": {
    "deletable": true,
    "editable": true,
    "lc_cell_meme": {
     "current": "1945ee16-0f8c-11f0-935e-6e323efef16c-20-d3cb-c939-867b-235c-2933-4728-e0bc-0172-e1de-362e",
     "history": [
      {
       "current": "1945ee16-0f8c-11f0-935e-6e323efef16c-2-2c1c-4f08",
       "next": "3e836c18-0c75-11f0-b991-feb16f56f93e-3-b008-e8d0-3f9b",
       "previous": "8af0ac06-0c6f-11f0-98e9-5e0a5654d7bd-3-c85a-d8bf-8dea"
      },
      {
       "current": "1945ee16-0f8c-11f0-935e-6e323efef16c-5-2c1c-4f08-40b5-cf6e-9e08",
       "next": "3e836c18-0c75-11f0-b991-feb16f56f93e-4-b008-e8d0-3f9b-d91b",
       "previous": "8af0ac06-0c6f-11f0-98e9-5e0a5654d7bd-4-c85a-d8bf-8dea-ced2"
      },
      {
       "current": "1945ee16-0f8c-11f0-935e-6e323efef16c-5-2c1c-4f08-40b5-cf6e-9e08",
       "next": "3e836c18-0c75-11f0-b991-feb16f56f93e-7-b008-e8d0-3f9b-d91b-9971-7510-3c5e",
       "previous": "e4ebb1f2-191b-11f0-ad36-668cb6ddd6b0"
      },
      {
       "current": "1945ee16-0f8c-11f0-935e-6e323efef16c-6-2c1c-4f08-40b5-cf6e-9e08-8d48",
       "next": "3e836c18-0c75-11f0-b991-feb16f56f93e-7-b008-e8d0-3f9b-d91b-9971-7510-3c5e",
       "previous": "8af0ac06-0c6f-11f0-98e9-5e0a5654d7bd-7-c85a-d8bf-8dea-ced2-b6ea-11de-e027"
      },
      {
       "current": "1945ee16-0f8c-11f0-935e-6e323efef16c-9-2c1c-4f08-40b5-cf6e-9e08-8d48-f057-5c33-0344",
       "next": "3e836c18-0c75-11f0-b991-feb16f56f93e-8-b008-e8d0-3f9b-d91b-9971-7510-3c5e-1a25",
       "previous": "8af0ac06-0c6f-11f0-98e9-5e0a5654d7bd-8-c85a-d8bf-8dea-ced2-b6ea-11de-e027-5ced"
      },
      {
       "current": "1945ee16-0f8c-11f0-935e-6e323efef16c-10-2c1c-4f08-40b5-cf6e-9e08-8d48-f057-5c33-0344-c656",
       "next": "3e836c18-0c75-11f0-b991-feb16f56f93e-11-e8d0-3f9b-d91b-9971-7510-3c5e-1a25-8534-be8d-1f5b",
       "previous": "8af0ac06-0c6f-11f0-98e9-5e0a5654d7bd-11-d8bf-8dea-ced2-b6ea-11de-e027-5ced-0939-f364-6bc7"
      },
      {
       "current": "1945ee16-0f8c-11f0-935e-6e323efef16c-11-4f08-40b5-cf6e-9e08-8d48-f057-5c33-0344-c656-d3cb",
       "next": "3e836c18-0c75-11f0-b991-feb16f56f93e-12-3f9b-d91b-9971-7510-3c5e-1a25-8534-be8d-1f5b-f63a",
       "previous": "3e836c18-0c75-11f0-b991-feb16f56f93e-11-e8d0-3f9b-d91b-9971-7510-3c5e-1a25-8534-be8d-1f5b"
      },
      {
       "current": "1945ee16-0f8c-11f0-935e-6e323efef16c-12-40b5-cf6e-9e08-8d48-f057-5c33-0344-c656-d3cb-c939",
       "next": "3e836c18-0c75-11f0-b991-feb16f56f93e-13-d91b-9971-7510-3c5e-1a25-8534-be8d-1f5b-f63a-855a",
       "previous": "3e836c18-0c75-11f0-b991-feb16f56f93e-12-3f9b-d91b-9971-7510-3c5e-1a25-8534-be8d-1f5b-f63a"
      },
      {
       "current": "1945ee16-0f8c-11f0-935e-6e323efef16c-13-cf6e-9e08-8d48-f057-5c33-0344-c656-d3cb-c939-867b",
       "next": "3e836c18-0c75-11f0-b991-feb16f56f93e-14-9971-7510-3c5e-1a25-8534-be8d-1f5b-f63a-855a-d1ae",
       "previous": "3e836c18-0c75-11f0-b991-feb16f56f93e-13-d91b-9971-7510-3c5e-1a25-8534-be8d-1f5b-f63a-eb91"
      },
      {
       "current": "1945ee16-0f8c-11f0-935e-6e323efef16c-13-cf6e-9e08-8d48-f057-5c33-0344-c656-d3cb-c939-867b",
       "next": "3e836c18-0c75-11f0-b991-feb16f56f93e-15-7510-3c5e-1a25-8534-be8d-1f5b-f63a-855a-d1ae-aa0b",
       "previous": "3e836c18-0c75-11f0-b991-feb16f56f93e-16-3c5e-1a25-8534-be8d-1f5b-f63a-855a-d1ae-53d7-50f7"
      },
      {
       "current": "1945ee16-0f8c-11f0-935e-6e323efef16c-14-9e08-8d48-f057-5c33-0344-c656-d3cb-c939-867b-235c",
       "next": "3e836c18-0c75-11f0-b991-feb16f56f93e-15-7510-3c5e-1a25-8534-be8d-1f5b-f63a-855a-d1ae-aa0b",
       "previous": "3e836c18-0c75-11f0-b991-feb16f56f93e-17-1a25-8534-be8d-1f5b-f63a-855a-d1ae-53d7-50f7-6975"
      },
      {
       "current": "1945ee16-0f8c-11f0-935e-6e323efef16c-15-8d48-f057-5c33-0344-c656-d3cb-c939-867b-235c-2933",
       "next": "3e836c18-0c75-11f0-b991-feb16f56f93e-16-3c5e-1a25-8534-be8d-1f5b-f63a-855a-d1ae-aa0b-0652",
       "previous": "3e836c18-0c75-11f0-b991-feb16f56f93e-15-7510-3c5e-1a25-8534-be8d-1f5b-f63a-855a-d1ae-aa0b"
      },
      {
       "current": "1945ee16-0f8c-11f0-935e-6e323efef16c-16-f057-5c33-0344-c656-d3cb-c939-867b-235c-2933-4728",
       "next": "3e836c18-0c75-11f0-b991-feb16f56f93e-17-1a25-8534-be8d-1f5b-f63a-855a-d1ae-aa0b-0652-bf39",
       "previous": "3e836c18-0c75-11f0-b991-feb16f56f93e-16-3c5e-1a25-8534-be8d-1f5b-f63a-855a-d1ae-aa0b-0652"
      },
      {
       "current": "1945ee16-0f8c-11f0-935e-6e323efef16c-17-5c33-0344-c656-d3cb-c939-867b-235c-2933-4728-e0bc",
       "next": "3e836c18-0c75-11f0-b991-feb16f56f93e-18-8534-be8d-1f5b-f63a-855a-d1ae-aa0b-0652-bf39-0158",
       "previous": "3e836c18-0c75-11f0-b991-feb16f56f93e-17-1a25-8534-be8d-1f5b-f63a-855a-d1ae-aa0b-0652-9f52"
      },
      {
       "current": "1945ee16-0f8c-11f0-935e-6e323efef16c-19-c656-d3cb-c939-867b-235c-2933-4728-e0bc-0172-e1de",
       "next": "3e836c18-0c75-11f0-b991-feb16f56f93e-19-be8d-1f5b-f63a-855a-d1ae-aa0b-0652-bf39-0158-ba7a",
       "previous": "3e836c18-0c75-11f0-b991-feb16f56f93e-18-8534-be8d-1f5b-f63a-855a-d1ae-aa0b-0652-9f52-7da8"
      }
     ],
     "next": "3e836c18-0c75-11f0-b991-feb16f56f93e-21-f63a-855a-d1ae-aa0b-0652-bf39-0158-ba7a-71c7-3797",
     "previous": "3e836c18-0c75-11f0-b991-feb16f56f93e-20-1f5b-f63a-855a-d1ae-aa0b-0652-9f52-7da8-a468-2e92"
    },
    "pinnedOutputTabIndex": 0,
    "run_through_control": {
     "frozen": false,
     "read_only": false
    }
   },
   "source": [
    "## 「証跡管理」テストの実施\n",
    "\n",
    "テスト「テスト手順-管理者機能-証跡管理」を実施する。"
   ]
  },
  {
   "cell_type": "code",
   "execution_count": null,
   "id": "52c92cc6-6da5-4e6c-ba3a-a29a3e8d31ca",
   "metadata": {
    "deletable": true,
    "lc_cell_meme": {
     "current": "3e836c18-0c75-11f0-b991-feb16f56f93e-22-855a-d1ae-aa0b-0652-bf39-0158-ba7a-71c7-3797-726f",
     "execution_end_time": "2025-04-21T03:08:59.767Z",
     "history": [
      {
       "current": "3e836c18-0c75-11f0-b991-feb16f56f93e",
       "next": "ce8c187e-f991-11ef-a92d-0242ac120006-6-964d-161e-73da-b120-ac56-8b98",
       "previous": "9954a6fc-0c70-11f0-98e9-5e0a5654d7bd-1-f4b2"
      },
      {
       "current": "3e836c18-0c75-11f0-b991-feb16f56f93e",
       "next": "522aa0f0-0c76-11f0-b991-feb16f56f93e",
       "previous": "9954a6fc-0c70-11f0-98e9-5e0a5654d7bd-1-f4b2"
      },
      {
       "current": "3e836c18-0c75-11f0-b991-feb16f56f93e-2-b008-e8d0",
       "next": "ce8c187e-f991-11ef-a92d-0242ac120006-6-964d-161e-73da-b120-ac56-8b98",
       "previous": "9954a6fc-0c70-11f0-98e9-5e0a5654d7bd-1-f4b2"
      },
      {
       "current": "3e836c18-0c75-11f0-b991-feb16f56f93e-3-b008-e8d0-3f9b",
       "next": "e49811c6-0f8b-11f0-935e-6e323efef16c",
       "previous": "9954a6fc-0c70-11f0-98e9-5e0a5654d7bd-3-f4b2-32da-b588"
      },
      {
       "current": "3e836c18-0c75-11f0-b991-feb16f56f93e-3-b008-e8d0-3f9b",
       "next": "e49811c6-0f8b-11f0-935e-6e323efef16c",
       "previous": "9954a6fc-0c70-11f0-98e9-5e0a5654d7bd-3-f4b2-32da-b588"
      },
      {
       "current": "3e836c18-0c75-11f0-b991-feb16f56f93e-3-b008-e8d0-3f9b",
       "next": "9954a6fc-0c70-11f0-98e9-5e0a5654d7bd-3-f4b2-32da-b588",
       "previous": "8af0ac06-0c6f-11f0-98e9-5e0a5654d7bd-3-c85a-d8bf-8dea"
      },
      {
       "current": "3e836c18-0c75-11f0-b991-feb16f56f93e-3-b008-e8d0-3f9b",
       "next": "9954a6fc-0c70-11f0-98e9-5e0a5654d7bd-3-f4b2-32da-b588",
       "previous": "1945ee16-0f8c-11f0-935e-6e323efef16c"
      },
      {
       "current": "3e836c18-0c75-11f0-b991-feb16f56f93e-3-b008-e8d0-3f9b",
       "next": "9954a6fc-0c70-11f0-98e9-5e0a5654d7bd-3-f4b2-32da-b588",
       "previous": "1945ee16-0f8c-11f0-935e-6e323efef16c"
      },
      {
       "current": "3e836c18-0c75-11f0-b991-feb16f56f93e-3-b008-e8d0-3f9b",
       "next": "9954a6fc-0c70-11f0-98e9-5e0a5654d7bd-3-f4b2-32da-b588",
       "previous": "1945ee16-0f8c-11f0-935e-6e323efef16c-1-2c1c"
      },
      {
       "current": "3e836c18-0c75-11f0-b991-feb16f56f93e-3-b008-e8d0-3f9b",
       "next": "5111a470-0f8c-11f0-935e-6e323efef16c",
       "previous": "1945ee16-0f8c-11f0-935e-6e323efef16c-1-2c1c"
      },
      {
       "current": "3e836c18-0c75-11f0-b991-feb16f56f93e-3-b008-e8d0-3f9b",
       "next": "5111a470-0f8c-11f0-935e-6e323efef16c",
       "previous": "1945ee16-0f8c-11f0-935e-6e323efef16c-1-2c1c"
      },
      {
       "current": "3e836c18-0c75-11f0-b991-feb16f56f93e-4-b008-e8d0-3f9b-d91b",
       "next": "5111a470-0f8c-11f0-935e-6e323efef16c-1-cde4",
       "previous": "1945ee16-0f8c-11f0-935e-6e323efef16c-1-2c1c"
      },
      {
       "current": "3e836c18-0c75-11f0-b991-feb16f56f93e-7-b008-e8d0-3f9b-d91b-9971-7510-3c5e",
       "next": "5111a470-0f8c-11f0-935e-6e323efef16c-2-cde4-2f90",
       "previous": "1945ee16-0f8c-11f0-935e-6e323efef16c-2-2c1c-4f08"
      },
      {
       "current": "3e836c18-0c75-11f0-b991-feb16f56f93e-8-b008-e8d0-3f9b-d91b-9971-7510-3c5e-1a25",
       "next": "5111a470-0f8c-11f0-935e-6e323efef16c-5-cde4-2f90-b5a2-f6e5-88d7",
       "previous": "1945ee16-0f8c-11f0-935e-6e323efef16c-5-2c1c-4f08-40b5-cf6e-9e08"
      },
      {
       "current": "3e836c18-0c75-11f0-b991-feb16f56f93e-11-e8d0-3f9b-d91b-9971-7510-3c5e-1a25-8534-be8d-1f5b",
       "next": "5111a470-0f8c-11f0-935e-6e323efef16c-6-cde4-2f90-b5a2-f6e5-88d7-521b",
       "previous": "1945ee16-0f8c-11f0-935e-6e323efef16c-6-2c1c-4f08-40b5-cf6e-9e08-8d48"
      },
      {
       "current": "3e836c18-0c75-11f0-b991-feb16f56f93e-11-e8d0-3f9b-d91b-9971-7510-3c5e-1a25-8534-be8d-1f5b",
       "next": "5111a470-0f8c-11f0-935e-6e323efef16c-9-cde4-2f90-b5a2-f6e5-88d7-521b-9af2-6a60-a5f5",
       "previous": "1945ee16-0f8c-11f0-935e-6e323efef16c-9-2c1c-4f08-40b5-cf6e-9e08-8d48-f057-5c33-0344"
      },
      {
       "current": "3e836c18-0c75-11f0-b991-feb16f56f93e-11-e8d0-3f9b-d91b-9971-7510-3c5e-1a25-8534-be8d-1f5b",
       "next": "9954a6fc-0c70-11f0-98e9-5e0a5654d7bd-11-32da-b588-2530-2362-ef25-d28e-b01d-99fe-df5d-298e",
       "previous": "1945ee16-0f8c-11f0-935e-6e323efef16c-9-2c1c-4f08-40b5-cf6e-9e08-8d48-f057-5c33-0344"
      },
      {
       "current": "3e836c18-0c75-11f0-b991-feb16f56f93e-11-e8d0-3f9b-d91b-9971-7510-3c5e-1a25-8534-be8d-1f5b",
       "next": "5111a470-0f8c-11f0-935e-6e323efef16c-10-cde4-bd15-47f7-4a43-6e0c-4f72-5d03-228c-c238-5828",
       "previous": "1945ee16-0f8c-11f0-935e-6e323efef16c-9-2c1c-4f08-40b5-cf6e-9e08-8d48-f057-5c33-0344"
      },
      {
       "current": "3e836c18-0c75-11f0-b991-feb16f56f93e-11-e8d0-3f9b-d91b-9971-7510-3c5e-1a25-8534-be8d-1f5b",
       "next": "9954a6fc-0c70-11f0-98e9-5e0a5654d7bd-12-b588-2ea3-c289-53e5-31c4-7b04-2eff-2c6e-2ac3-dfdd",
       "previous": "1945ee16-0f8c-11f0-935e-6e323efef16c-9-2c1c-4f08-40b5-cf6e-9e08-8d48-f057-5c33-0344"
      },
      {
       "current": "3e836c18-0c75-11f0-b991-feb16f56f93e-12-3f9b-d91b-9971-7510-3c5e-1a25-8534-be8d-1f5b-f63a",
       "next": "49f48492-1c24-11f0-baf6-eaf1011eb67f-4-e4e3-bf8a-77f2-a8ed",
       "previous": "1945ee16-0f8c-11f0-935e-6e323efef16c-9-2c1c-4f08-40b5-cf6e-9e08-8d48-f057-5c33-0344"
      },
      {
       "current": "3e836c18-0c75-11f0-b991-feb16f56f93e-13-d91b-9971-7510-3c5e-1a25-8534-be8d-1f5b-f63a-855a",
       "next": "49f48492-1c24-11f0-baf6-eaf1011eb67f-4-e4e3-bf8a-77f2-a8ed",
       "previous": "1945ee16-0f8c-11f0-935e-6e323efef16c-10-2c1c-4f08-40b5-cf6e-9e08-8d48-f057-5c33-0344-c656"
      },
      {
       "current": "3e836c18-0c75-11f0-b991-feb16f56f93e-14-9971-7510-3c5e-1a25-8534-be8d-1f5b-f63a-855a-d1ae",
       "next": "49f48492-1c24-11f0-baf6-eaf1011eb67f-4-e4e3-bf8a-77f2-a8ed",
       "previous": "1945ee16-0f8c-11f0-935e-6e323efef16c-11-4f08-40b5-cf6e-9e08-8d48-f057-5c33-0344-c656-d3cb"
      },
      {
       "current": "3e836c18-0c75-11f0-b991-feb16f56f93e-15-7510-3c5e-1a25-8534-be8d-1f5b-f63a-855a-d1ae-aa0b",
       "next": "1945ee16-0f8c-11f0-935e-6e323efef16c-13-cf6e-9e08-8d48-f057-5c33-0344-c656-d3cb-c939-9968",
       "previous": "1945ee16-0f8c-11f0-935e-6e323efef16c-12-40b5-cf6e-9e08-8d48-f057-5c33-0344-c656-d3cb-c939"
      },
      {
       "current": "3e836c18-0c75-11f0-b991-feb16f56f93e-15-7510-3c5e-1a25-8534-be8d-1f5b-f63a-855a-d1ae-aa0b",
       "next": "49f48492-1c24-11f0-baf6-eaf1011eb67f-5-e4e3-bf8a-77f2-a8ed-63cb",
       "previous": "1945ee16-0f8c-11f0-935e-6e323efef16c-13-cf6e-9e08-8d48-f057-5c33-0344-c656-d3cb-c939-867b"
      },
      {
       "current": "3e836c18-0c75-11f0-b991-feb16f56f93e-16-3c5e-1a25-8534-be8d-1f5b-f63a-855a-d1ae-aa0b-0652",
       "next": "e2e49448-1e5a-11f0-85e7-be8e2cbe8172",
       "previous": "1945ee16-0f8c-11f0-935e-6e323efef16c-13-cf6e-9e08-8d48-f057-5c33-0344-c656-d3cb-c939-867b"
      },
      {
       "current": "3e836c18-0c75-11f0-b991-feb16f56f93e-16-3c5e-1a25-8534-be8d-1f5b-f63a-855a-d1ae-aa0b-0652",
       "next": "e2e49448-1e5a-11f0-85e7-be8e2cbe8172",
       "previous": "1945ee16-0f8c-11f0-935e-6e323efef16c-14-9e08-8d48-f057-5c33-0344-c656-d3cb-c939-867b-235c"
      },
      {
       "current": "3e836c18-0c75-11f0-b991-feb16f56f93e-16-3c5e-1a25-8534-be8d-1f5b-f63a-855a-d1ae-aa0b-0652",
       "next": "49f48492-1c24-11f0-baf6-eaf1011eb67f-5-e4e3-bf8a-77f2-a8ed-63cb",
       "previous": "1945ee16-0f8c-11f0-935e-6e323efef16c-14-9e08-8d48-f057-5c33-0344-c656-d3cb-c939-867b-235c"
      },
      {
       "current": "3e836c18-0c75-11f0-b991-feb16f56f93e-17-1a25-8534-be8d-1f5b-f63a-855a-d1ae-aa0b-0652-bf39",
       "next": "cba9b558-1e5d-11f0-85e7-be8e2cbe8172",
       "previous": "1945ee16-0f8c-11f0-935e-6e323efef16c-14-9e08-8d48-f057-5c33-0344-c656-d3cb-c939-867b-235c"
      },
      {
       "current": "3e836c18-0c75-11f0-b991-feb16f56f93e-17-1a25-8534-be8d-1f5b-f63a-855a-d1ae-aa0b-0652-bf39",
       "next": "cba9b558-1e5d-11f0-85e7-be8e2cbe8172",
       "previous": "1945ee16-0f8c-11f0-935e-6e323efef16c-15-8d48-f057-5c33-0344-c656-d3cb-c939-867b-235c-2933"
      },
      {
       "current": "3e836c18-0c75-11f0-b991-feb16f56f93e-18-8534-be8d-1f5b-f63a-855a-d1ae-aa0b-0652-bf39-0158",
       "next": "49f48492-1c24-11f0-baf6-eaf1011eb67f-5-e4e3-bf8a-77f2-a8ed-63cb",
       "previous": "1945ee16-0f8c-11f0-935e-6e323efef16c-15-8d48-f057-5c33-0344-c656-d3cb-c939-867b-235c-2933"
      },
      {
       "current": "3e836c18-0c75-11f0-b991-feb16f56f93e-19-be8d-1f5b-f63a-855a-d1ae-aa0b-0652-bf39-0158-ba7a",
       "next": "1945ee16-0f8c-11f0-935e-6e323efef16c-17-5c33-0344-c656-d3cb-c939-867b-235c-2933-4728-6771",
       "previous": "1945ee16-0f8c-11f0-935e-6e323efef16c-16-f057-5c33-0344-c656-d3cb-c939-867b-235c-2933-4728"
      },
      {
       "current": "3e836c18-0c75-11f0-b991-feb16f56f93e-21-f63a-855a-d1ae-aa0b-0652-bf39-0158-ba7a-71c7-3797",
       "next": "1945ee16-0f8c-11f0-935e-6e323efef16c-18-0344-c656-d3cb-c939-867b-235c-2933-4728-6771-1a59",
       "previous": "1945ee16-0f8c-11f0-935e-6e323efef16c-17-5c33-0344-c656-d3cb-c939-867b-235c-2933-4728-e0bc"
      }
     ],
     "next": "1945ee16-0f8c-11f0-935e-6e323efef16c-20-d3cb-c939-867b-235c-2933-4728-6771-1a59-5f1a-e48c",
     "previous": "1945ee16-0f8c-11f0-935e-6e323efef16c-19-c656-d3cb-c939-867b-235c-2933-4728-e0bc-0172-e1de"
    },
    "pinnedOutputTabIndex": 0,
    "run_through_control": {
     "frozen": false,
     "read_only": false
    },
    "scrolled": true
   },
   "outputs": [],
   "source": [
    "result_notebooks.append(run_notebook(\n",
    "    'テスト手順-管理者機能-証跡管理.ipynb',\n",
    "    dict(\n",
    "        target_organization=target_organization,\n",
    "        timestamp_project_name=timestamp_project_name,\n",
    "        timestamp_start_date=timestamp_start_date,\n",
    "        timestamp_end_date=timestamp_end_date,\n",
    "        timestamp_user=timestamp_user,\n",
    "    ),\n",
    "))\n",
    "result_notebooks"
   ]
  },
  {
   "cell_type": "markdown",
   "id": "e3cf758d-85bf-4c40-83a0-957195a83b7c",
   "metadata": {
    "deletable": true,
    "editable": true,
    "lc_cell_meme": {
     "current": "1945ee16-0f8c-11f0-935e-6e323efef16c-21-c939-867b-235c-2933-4728-6771-1a59-5f1a-e48c-1bf8",
     "history": [
      {
       "current": "1945ee16-0f8c-11f0-935e-6e323efef16c-2-2c1c-4f08",
       "next": "3e836c18-0c75-11f0-b991-feb16f56f93e-3-b008-e8d0-3f9b",
       "previous": "8af0ac06-0c6f-11f0-98e9-5e0a5654d7bd-3-c85a-d8bf-8dea"
      },
      {
       "current": "1945ee16-0f8c-11f0-935e-6e323efef16c-5-2c1c-4f08-40b5-cf6e-9e08",
       "next": "3e836c18-0c75-11f0-b991-feb16f56f93e-4-b008-e8d0-3f9b-d91b",
       "previous": "8af0ac06-0c6f-11f0-98e9-5e0a5654d7bd-4-c85a-d8bf-8dea-ced2"
      },
      {
       "current": "1945ee16-0f8c-11f0-935e-6e323efef16c-5-2c1c-4f08-40b5-cf6e-9e08",
       "next": "3e836c18-0c75-11f0-b991-feb16f56f93e-7-b008-e8d0-3f9b-d91b-9971-7510-3c5e",
       "previous": "e4ebb1f2-191b-11f0-ad36-668cb6ddd6b0"
      },
      {
       "current": "1945ee16-0f8c-11f0-935e-6e323efef16c-6-2c1c-4f08-40b5-cf6e-9e08-8d48",
       "next": "3e836c18-0c75-11f0-b991-feb16f56f93e-7-b008-e8d0-3f9b-d91b-9971-7510-3c5e",
       "previous": "8af0ac06-0c6f-11f0-98e9-5e0a5654d7bd-7-c85a-d8bf-8dea-ced2-b6ea-11de-e027"
      },
      {
       "current": "1945ee16-0f8c-11f0-935e-6e323efef16c-9-2c1c-4f08-40b5-cf6e-9e08-8d48-f057-5c33-0344",
       "next": "3e836c18-0c75-11f0-b991-feb16f56f93e-8-b008-e8d0-3f9b-d91b-9971-7510-3c5e-1a25",
       "previous": "8af0ac06-0c6f-11f0-98e9-5e0a5654d7bd-8-c85a-d8bf-8dea-ced2-b6ea-11de-e027-5ced"
      },
      {
       "current": "1945ee16-0f8c-11f0-935e-6e323efef16c-10-2c1c-4f08-40b5-cf6e-9e08-8d48-f057-5c33-0344-c656",
       "next": "3e836c18-0c75-11f0-b991-feb16f56f93e-11-e8d0-3f9b-d91b-9971-7510-3c5e-1a25-8534-be8d-1f5b",
       "previous": "8af0ac06-0c6f-11f0-98e9-5e0a5654d7bd-11-d8bf-8dea-ced2-b6ea-11de-e027-5ced-0939-f364-6bc7"
      },
      {
       "current": "1945ee16-0f8c-11f0-935e-6e323efef16c-11-4f08-40b5-cf6e-9e08-8d48-f057-5c33-0344-c656-d3cb",
       "next": "3e836c18-0c75-11f0-b991-feb16f56f93e-12-3f9b-d91b-9971-7510-3c5e-1a25-8534-be8d-1f5b-f63a",
       "previous": "3e836c18-0c75-11f0-b991-feb16f56f93e-11-e8d0-3f9b-d91b-9971-7510-3c5e-1a25-8534-be8d-1f5b"
      },
      {
       "current": "1945ee16-0f8c-11f0-935e-6e323efef16c-12-40b5-cf6e-9e08-8d48-f057-5c33-0344-c656-d3cb-c939",
       "next": "3e836c18-0c75-11f0-b991-feb16f56f93e-13-d91b-9971-7510-3c5e-1a25-8534-be8d-1f5b-f63a-855a",
       "previous": "3e836c18-0c75-11f0-b991-feb16f56f93e-12-3f9b-d91b-9971-7510-3c5e-1a25-8534-be8d-1f5b-f63a"
      },
      {
       "current": "1945ee16-0f8c-11f0-935e-6e323efef16c-13-cf6e-9e08-8d48-f057-5c33-0344-c656-d3cb-c939-867b",
       "next": "3e836c18-0c75-11f0-b991-feb16f56f93e-14-9971-7510-3c5e-1a25-8534-be8d-1f5b-f63a-855a-d1ae",
       "previous": "3e836c18-0c75-11f0-b991-feb16f56f93e-13-d91b-9971-7510-3c5e-1a25-8534-be8d-1f5b-f63a-eb91"
      },
      {
       "current": "1945ee16-0f8c-11f0-935e-6e323efef16c-13-cf6e-9e08-8d48-f057-5c33-0344-c656-d3cb-c939-867b",
       "next": "3e836c18-0c75-11f0-b991-feb16f56f93e-15-7510-3c5e-1a25-8534-be8d-1f5b-f63a-855a-d1ae-aa0b",
       "previous": "3e836c18-0c75-11f0-b991-feb16f56f93e-16-3c5e-1a25-8534-be8d-1f5b-f63a-855a-d1ae-53d7-50f7"
      },
      {
       "current": "1945ee16-0f8c-11f0-935e-6e323efef16c-14-9e08-8d48-f057-5c33-0344-c656-d3cb-c939-867b-235c",
       "next": "3e836c18-0c75-11f0-b991-feb16f56f93e-15-7510-3c5e-1a25-8534-be8d-1f5b-f63a-855a-d1ae-aa0b",
       "previous": "3e836c18-0c75-11f0-b991-feb16f56f93e-17-1a25-8534-be8d-1f5b-f63a-855a-d1ae-53d7-50f7-6975"
      },
      {
       "current": "1945ee16-0f8c-11f0-935e-6e323efef16c-15-8d48-f057-5c33-0344-c656-d3cb-c939-867b-235c-2933",
       "next": "3e836c18-0c75-11f0-b991-feb16f56f93e-16-3c5e-1a25-8534-be8d-1f5b-f63a-855a-d1ae-aa0b-0652",
       "previous": "3e836c18-0c75-11f0-b991-feb16f56f93e-15-7510-3c5e-1a25-8534-be8d-1f5b-f63a-855a-d1ae-aa0b"
      },
      {
       "current": "1945ee16-0f8c-11f0-935e-6e323efef16c-17-5c33-0344-c656-d3cb-c939-867b-235c-2933-4728-6771",
       "next": "3e836c18-0c75-11f0-b991-feb16f56f93e-17-1a25-8534-be8d-1f5b-f63a-855a-d1ae-aa0b-0652-bf39",
       "previous": "3e836c18-0c75-11f0-b991-feb16f56f93e-16-3c5e-1a25-8534-be8d-1f5b-f63a-855a-d1ae-aa0b-0652"
      },
      {
       "current": "1945ee16-0f8c-11f0-935e-6e323efef16c-18-0344-c656-d3cb-c939-867b-235c-2933-4728-6771-1a59",
       "next": "3e836c18-0c75-11f0-b991-feb16f56f93e-19-be8d-1f5b-f63a-855a-d1ae-aa0b-0652-bf39-0158-fb1b",
       "previous": "3e836c18-0c75-11f0-b991-feb16f56f93e-18-8534-be8d-1f5b-f63a-855a-d1ae-aa0b-0652-bf39-0158"
      },
      {
       "current": "1945ee16-0f8c-11f0-935e-6e323efef16c-20-d3cb-c939-867b-235c-2933-4728-6771-1a59-5f1a-e48c",
       "next": "3e836c18-0c75-11f0-b991-feb16f56f93e-20-1f5b-f63a-855a-d1ae-aa0b-0652-bf39-0158-fb1b-c1c5",
       "previous": "3e836c18-0c75-11f0-b991-feb16f56f93e-19-be8d-1f5b-f63a-855a-d1ae-aa0b-0652-bf39-0158-ba7a"
      }
     ],
     "next": "3e836c18-0c75-11f0-b991-feb16f56f93e-22-855a-d1ae-aa0b-0652-bf39-0158-fb1b-c1c5-b0df-8e32",
     "previous": "3e836c18-0c75-11f0-b991-feb16f56f93e-21-f63a-855a-d1ae-aa0b-0652-bf39-0158-ba7a-71c7-3797"
    },
    "pinnedOutputTabIndex": 0,
    "run_through_control": {
     "frozen": false,
     "read_only": false
    }
   },
   "source": [
    "## 「NIIストレージのクォータ」テストの実施\n",
    "\n",
    "テスト「テスト手順-管理者機能-NIIストレージのクォータ」を実施する。"
   ]
  },
  {
   "cell_type": "code",
   "execution_count": null,
   "id": "d2f37db8-8676-4831-9870-64897221ee19",
   "metadata": {
    "deletable": true,
    "lc_cell_meme": {
     "current": "3e836c18-0c75-11f0-b991-feb16f56f93e-23-d1ae-aa0b-0652-bf39-0158-fb1b-c1c5-b0df-8e32-7832",
     "execution_end_time": "2025-04-21T05:53:58.287Z",
     "history": [
      {
       "current": "3e836c18-0c75-11f0-b991-feb16f56f93e",
       "next": "ce8c187e-f991-11ef-a92d-0242ac120006-6-964d-161e-73da-b120-ac56-8b98",
       "previous": "9954a6fc-0c70-11f0-98e9-5e0a5654d7bd-1-f4b2"
      },
      {
       "current": "3e836c18-0c75-11f0-b991-feb16f56f93e",
       "next": "522aa0f0-0c76-11f0-b991-feb16f56f93e",
       "previous": "9954a6fc-0c70-11f0-98e9-5e0a5654d7bd-1-f4b2"
      },
      {
       "current": "3e836c18-0c75-11f0-b991-feb16f56f93e-2-b008-e8d0",
       "next": "ce8c187e-f991-11ef-a92d-0242ac120006-6-964d-161e-73da-b120-ac56-8b98",
       "previous": "9954a6fc-0c70-11f0-98e9-5e0a5654d7bd-1-f4b2"
      },
      {
       "current": "3e836c18-0c75-11f0-b991-feb16f56f93e-3-b008-e8d0-3f9b",
       "next": "e49811c6-0f8b-11f0-935e-6e323efef16c",
       "previous": "9954a6fc-0c70-11f0-98e9-5e0a5654d7bd-3-f4b2-32da-b588"
      },
      {
       "current": "3e836c18-0c75-11f0-b991-feb16f56f93e-3-b008-e8d0-3f9b",
       "next": "e49811c6-0f8b-11f0-935e-6e323efef16c",
       "previous": "9954a6fc-0c70-11f0-98e9-5e0a5654d7bd-3-f4b2-32da-b588"
      },
      {
       "current": "3e836c18-0c75-11f0-b991-feb16f56f93e-3-b008-e8d0-3f9b",
       "next": "9954a6fc-0c70-11f0-98e9-5e0a5654d7bd-3-f4b2-32da-b588",
       "previous": "8af0ac06-0c6f-11f0-98e9-5e0a5654d7bd-3-c85a-d8bf-8dea"
      },
      {
       "current": "3e836c18-0c75-11f0-b991-feb16f56f93e-3-b008-e8d0-3f9b",
       "next": "9954a6fc-0c70-11f0-98e9-5e0a5654d7bd-3-f4b2-32da-b588",
       "previous": "1945ee16-0f8c-11f0-935e-6e323efef16c"
      },
      {
       "current": "3e836c18-0c75-11f0-b991-feb16f56f93e-3-b008-e8d0-3f9b",
       "next": "9954a6fc-0c70-11f0-98e9-5e0a5654d7bd-3-f4b2-32da-b588",
       "previous": "1945ee16-0f8c-11f0-935e-6e323efef16c"
      },
      {
       "current": "3e836c18-0c75-11f0-b991-feb16f56f93e-3-b008-e8d0-3f9b",
       "next": "9954a6fc-0c70-11f0-98e9-5e0a5654d7bd-3-f4b2-32da-b588",
       "previous": "1945ee16-0f8c-11f0-935e-6e323efef16c-1-2c1c"
      },
      {
       "current": "3e836c18-0c75-11f0-b991-feb16f56f93e-3-b008-e8d0-3f9b",
       "next": "5111a470-0f8c-11f0-935e-6e323efef16c",
       "previous": "1945ee16-0f8c-11f0-935e-6e323efef16c-1-2c1c"
      },
      {
       "current": "3e836c18-0c75-11f0-b991-feb16f56f93e-3-b008-e8d0-3f9b",
       "next": "5111a470-0f8c-11f0-935e-6e323efef16c",
       "previous": "1945ee16-0f8c-11f0-935e-6e323efef16c-1-2c1c"
      },
      {
       "current": "3e836c18-0c75-11f0-b991-feb16f56f93e-4-b008-e8d0-3f9b-d91b",
       "next": "5111a470-0f8c-11f0-935e-6e323efef16c-1-cde4",
       "previous": "1945ee16-0f8c-11f0-935e-6e323efef16c-1-2c1c"
      },
      {
       "current": "3e836c18-0c75-11f0-b991-feb16f56f93e-7-b008-e8d0-3f9b-d91b-9971-7510-3c5e",
       "next": "5111a470-0f8c-11f0-935e-6e323efef16c-2-cde4-2f90",
       "previous": "1945ee16-0f8c-11f0-935e-6e323efef16c-2-2c1c-4f08"
      },
      {
       "current": "3e836c18-0c75-11f0-b991-feb16f56f93e-8-b008-e8d0-3f9b-d91b-9971-7510-3c5e-1a25",
       "next": "5111a470-0f8c-11f0-935e-6e323efef16c-5-cde4-2f90-b5a2-f6e5-88d7",
       "previous": "1945ee16-0f8c-11f0-935e-6e323efef16c-5-2c1c-4f08-40b5-cf6e-9e08"
      },
      {
       "current": "3e836c18-0c75-11f0-b991-feb16f56f93e-11-e8d0-3f9b-d91b-9971-7510-3c5e-1a25-8534-be8d-1f5b",
       "next": "5111a470-0f8c-11f0-935e-6e323efef16c-6-cde4-2f90-b5a2-f6e5-88d7-521b",
       "previous": "1945ee16-0f8c-11f0-935e-6e323efef16c-6-2c1c-4f08-40b5-cf6e-9e08-8d48"
      },
      {
       "current": "3e836c18-0c75-11f0-b991-feb16f56f93e-11-e8d0-3f9b-d91b-9971-7510-3c5e-1a25-8534-be8d-1f5b",
       "next": "5111a470-0f8c-11f0-935e-6e323efef16c-9-cde4-2f90-b5a2-f6e5-88d7-521b-9af2-6a60-a5f5",
       "previous": "1945ee16-0f8c-11f0-935e-6e323efef16c-9-2c1c-4f08-40b5-cf6e-9e08-8d48-f057-5c33-0344"
      },
      {
       "current": "3e836c18-0c75-11f0-b991-feb16f56f93e-11-e8d0-3f9b-d91b-9971-7510-3c5e-1a25-8534-be8d-1f5b",
       "next": "9954a6fc-0c70-11f0-98e9-5e0a5654d7bd-11-32da-b588-2530-2362-ef25-d28e-b01d-99fe-df5d-298e",
       "previous": "1945ee16-0f8c-11f0-935e-6e323efef16c-9-2c1c-4f08-40b5-cf6e-9e08-8d48-f057-5c33-0344"
      },
      {
       "current": "3e836c18-0c75-11f0-b991-feb16f56f93e-11-e8d0-3f9b-d91b-9971-7510-3c5e-1a25-8534-be8d-1f5b",
       "next": "5111a470-0f8c-11f0-935e-6e323efef16c-10-cde4-bd15-47f7-4a43-6e0c-4f72-5d03-228c-c238-5828",
       "previous": "1945ee16-0f8c-11f0-935e-6e323efef16c-9-2c1c-4f08-40b5-cf6e-9e08-8d48-f057-5c33-0344"
      },
      {
       "current": "3e836c18-0c75-11f0-b991-feb16f56f93e-11-e8d0-3f9b-d91b-9971-7510-3c5e-1a25-8534-be8d-1f5b",
       "next": "9954a6fc-0c70-11f0-98e9-5e0a5654d7bd-12-b588-2ea3-c289-53e5-31c4-7b04-2eff-2c6e-2ac3-dfdd",
       "previous": "1945ee16-0f8c-11f0-935e-6e323efef16c-9-2c1c-4f08-40b5-cf6e-9e08-8d48-f057-5c33-0344"
      },
      {
       "current": "3e836c18-0c75-11f0-b991-feb16f56f93e-12-3f9b-d91b-9971-7510-3c5e-1a25-8534-be8d-1f5b-f63a",
       "next": "49f48492-1c24-11f0-baf6-eaf1011eb67f-4-e4e3-bf8a-77f2-a8ed",
       "previous": "1945ee16-0f8c-11f0-935e-6e323efef16c-9-2c1c-4f08-40b5-cf6e-9e08-8d48-f057-5c33-0344"
      },
      {
       "current": "3e836c18-0c75-11f0-b991-feb16f56f93e-13-d91b-9971-7510-3c5e-1a25-8534-be8d-1f5b-f63a-855a",
       "next": "49f48492-1c24-11f0-baf6-eaf1011eb67f-4-e4e3-bf8a-77f2-a8ed",
       "previous": "1945ee16-0f8c-11f0-935e-6e323efef16c-10-2c1c-4f08-40b5-cf6e-9e08-8d48-f057-5c33-0344-c656"
      },
      {
       "current": "3e836c18-0c75-11f0-b991-feb16f56f93e-14-9971-7510-3c5e-1a25-8534-be8d-1f5b-f63a-855a-d1ae",
       "next": "49f48492-1c24-11f0-baf6-eaf1011eb67f-4-e4e3-bf8a-77f2-a8ed",
       "previous": "1945ee16-0f8c-11f0-935e-6e323efef16c-11-4f08-40b5-cf6e-9e08-8d48-f057-5c33-0344-c656-d3cb"
      },
      {
       "current": "3e836c18-0c75-11f0-b991-feb16f56f93e-15-7510-3c5e-1a25-8534-be8d-1f5b-f63a-855a-d1ae-aa0b",
       "next": "1945ee16-0f8c-11f0-935e-6e323efef16c-13-cf6e-9e08-8d48-f057-5c33-0344-c656-d3cb-c939-9968",
       "previous": "1945ee16-0f8c-11f0-935e-6e323efef16c-12-40b5-cf6e-9e08-8d48-f057-5c33-0344-c656-d3cb-c939"
      },
      {
       "current": "3e836c18-0c75-11f0-b991-feb16f56f93e-15-7510-3c5e-1a25-8534-be8d-1f5b-f63a-855a-d1ae-aa0b",
       "next": "49f48492-1c24-11f0-baf6-eaf1011eb67f-5-e4e3-bf8a-77f2-a8ed-63cb",
       "previous": "1945ee16-0f8c-11f0-935e-6e323efef16c-13-cf6e-9e08-8d48-f057-5c33-0344-c656-d3cb-c939-867b"
      },
      {
       "current": "3e836c18-0c75-11f0-b991-feb16f56f93e-16-3c5e-1a25-8534-be8d-1f5b-f63a-855a-d1ae-aa0b-0652",
       "next": "e2e49448-1e5a-11f0-85e7-be8e2cbe8172",
       "previous": "1945ee16-0f8c-11f0-935e-6e323efef16c-13-cf6e-9e08-8d48-f057-5c33-0344-c656-d3cb-c939-867b"
      },
      {
       "current": "3e836c18-0c75-11f0-b991-feb16f56f93e-16-3c5e-1a25-8534-be8d-1f5b-f63a-855a-d1ae-aa0b-0652",
       "next": "e2e49448-1e5a-11f0-85e7-be8e2cbe8172",
       "previous": "1945ee16-0f8c-11f0-935e-6e323efef16c-14-9e08-8d48-f057-5c33-0344-c656-d3cb-c939-867b-235c"
      },
      {
       "current": "3e836c18-0c75-11f0-b991-feb16f56f93e-16-3c5e-1a25-8534-be8d-1f5b-f63a-855a-d1ae-aa0b-0652",
       "next": "49f48492-1c24-11f0-baf6-eaf1011eb67f-5-e4e3-bf8a-77f2-a8ed-63cb",
       "previous": "1945ee16-0f8c-11f0-935e-6e323efef16c-14-9e08-8d48-f057-5c33-0344-c656-d3cb-c939-867b-235c"
      },
      {
       "current": "3e836c18-0c75-11f0-b991-feb16f56f93e-17-1a25-8534-be8d-1f5b-f63a-855a-d1ae-aa0b-0652-bf39",
       "next": "cba9b558-1e5d-11f0-85e7-be8e2cbe8172",
       "previous": "1945ee16-0f8c-11f0-935e-6e323efef16c-14-9e08-8d48-f057-5c33-0344-c656-d3cb-c939-867b-235c"
      },
      {
       "current": "3e836c18-0c75-11f0-b991-feb16f56f93e-17-1a25-8534-be8d-1f5b-f63a-855a-d1ae-aa0b-0652-bf39",
       "next": "cba9b558-1e5d-11f0-85e7-be8e2cbe8172",
       "previous": "1945ee16-0f8c-11f0-935e-6e323efef16c-15-8d48-f057-5c33-0344-c656-d3cb-c939-867b-235c-2933"
      },
      {
       "current": "3e836c18-0c75-11f0-b991-feb16f56f93e-19-be8d-1f5b-f63a-855a-d1ae-aa0b-0652-bf39-0158-fb1b",
       "next": "49f48492-1c24-11f0-baf6-eaf1011eb67f-5-e4e3-bf8a-77f2-a8ed-63cb",
       "previous": "1945ee16-0f8c-11f0-935e-6e323efef16c-15-8d48-f057-5c33-0344-c656-d3cb-c939-867b-235c-2933"
      },
      {
       "current": "3e836c18-0c75-11f0-b991-feb16f56f93e-20-1f5b-f63a-855a-d1ae-aa0b-0652-bf39-0158-fb1b-c1c5",
       "next": "49f48492-1c24-11f0-baf6-eaf1011eb67f-6-e4e3-bf8a-77f2-a8ed-63cb-1fb0",
       "previous": "1945ee16-0f8c-11f0-935e-6e323efef16c-17-5c33-0344-c656-d3cb-c939-867b-235c-2933-4728-6771"
      },
      {
       "current": "3e836c18-0c75-11f0-b991-feb16f56f93e-22-855a-d1ae-aa0b-0652-bf39-0158-fb1b-c1c5-b0df-8e32",
       "next": "49f48492-1c24-11f0-baf6-eaf1011eb67f-7-e4e3-bf8a-77f2-a8ed-63cb-1fb0-4156",
       "previous": "1945ee16-0f8c-11f0-935e-6e323efef16c-18-0344-c656-d3cb-c939-867b-235c-2933-4728-6771-1a59"
      }
     ],
     "next": "49f48492-1c24-11f0-baf6-eaf1011eb67f-9-e4e3-bf8a-77f2-a8ed-63cb-1fb0-4156-f445-1ba3",
     "previous": "1945ee16-0f8c-11f0-935e-6e323efef16c-20-d3cb-c939-867b-235c-2933-4728-6771-1a59-5f1a-e48c"
    },
    "pinnedOutputTabIndex": 0,
    "run_through_control": {
     "frozen": false,
     "read_only": false
    }
   },
   "outputs": [],
   "source": [
    "result_notebooks.append(run_notebook(\n",
    "    'テスト手順-管理者機能-NIIストレージのクォータ.ipynb',\n",
    "    dict(\n",
    "        target_organization=target_organization,\n",
    "        quota_user_id=quota_user_id,\n",
    "    ),\n",
    "))\n",
    "result_notebooks"
   ]
  },
  {
   "cell_type": "markdown",
   "id": "c5cc83a0-92f4-43f4-92d4-0788ef8f838e",
   "metadata": {
    "deletable": true,
    "editable": true,
    "lc_cell_meme": {
     "current": "49f48492-1c24-11f0-baf6-eaf1011eb67f-10-e4e3-bf8a-77f2-a8ed-63cb-1fb0-4156-f445-1ba3-682f",
     "execution_end_time": "2025-04-18T07:11:11.384Z",
     "history": [
      {
       "current": "49f48492-1c24-11f0-baf6-eaf1011eb67f-4-e4e3-bf8a-77f2-a8ed",
       "next": "41ca8840-0c28-11f0-98e9-5e0a5654d7bd-7-1403-a376-dc1e-e116-9124-5c27-100b",
       "previous": "9954a6fc-0c70-11f0-98e9-5e0a5654d7bd-9-f4b2-32da-b588-2ea3-c289-53e5-31c4-7b04-2eff"
      },
      {
       "current": "49f48492-1c24-11f0-baf6-eaf1011eb67f-4-e4e3-bf8a-77f2-a8ed",
       "next": "41ca8840-0c28-11f0-98e9-5e0a5654d7bd-10-1403-a376-dc1e-e116-9124-5c27-100b-e3ef-d2c3-7ea4",
       "previous": "9954a6fc-0c70-11f0-98e9-5e0a5654d7bd-12-b588-2ea3-c289-53e5-31c4-7b04-2eff-2c6e-2ac3-dfdd"
      },
      {
       "current": "49f48492-1c24-11f0-baf6-eaf1011eb67f-4-e4e3-bf8a-77f2-a8ed",
       "next": "41ca8840-0c28-11f0-98e9-5e0a5654d7bd-10-1403-a376-dc1e-e116-9124-5c27-100b-e3ef-d2c3-7ea4",
       "previous": "3e836c18-0c75-11f0-b991-feb16f56f93e-11-e8d0-3f9b-d91b-9971-7510-3c5e-1a25-8534-be8d-1f5b"
      },
      {
       "current": "49f48492-1c24-11f0-baf6-eaf1011eb67f-4-e4e3-bf8a-77f2-a8ed",
       "next": "41ca8840-0c28-11f0-98e9-5e0a5654d7bd-10-1403-a376-dc1e-e116-9124-5c27-100b-e3ef-d2c3-7ea4",
       "previous": "3e836c18-0c75-11f0-b991-feb16f56f93e-12-3f9b-d91b-9971-7510-3c5e-1a25-8534-be8d-1f5b-f63a"
      },
      {
       "current": "49f48492-1c24-11f0-baf6-eaf1011eb67f-5-e4e3-bf8a-77f2-a8ed-63cb",
       "next": "41ca8840-0c28-11f0-98e9-5e0a5654d7bd-10-1403-a376-dc1e-e116-9124-5c27-100b-e3ef-d2c3-7ea4",
       "previous": "3e836c18-0c75-11f0-b991-feb16f56f93e-13-d91b-9971-7510-3c5e-1a25-8534-be8d-1f5b-f63a-855a"
      },
      {
       "current": "49f48492-1c24-11f0-baf6-eaf1011eb67f-5-e4e3-bf8a-77f2-a8ed-63cb",
       "next": "41ca8840-0c28-11f0-98e9-5e0a5654d7bd-11-a376-dc1e-e116-9124-5c27-100b-e3ef-d2c3-7ea4-848c",
       "previous": "3e836c18-0c75-11f0-b991-feb16f56f93e-15-7510-3c5e-1a25-8534-be8d-1f5b-f63a-855a-d1ae-53d7"
      },
      {
       "current": "49f48492-1c24-11f0-baf6-eaf1011eb67f-5-e4e3-bf8a-77f2-a8ed-63cb",
       "next": "41ca8840-0c28-11f0-98e9-5e0a5654d7bd-11-a376-dc1e-e116-9124-5c27-100b-e3ef-d2c3-7ea4-848c",
       "previous": "6fd3a518-1e35-11f0-85e7-be8e2cbe8172"
      },
      {
       "current": "49f48492-1c24-11f0-baf6-eaf1011eb67f-5-e4e3-bf8a-77f2-a8ed-63cb",
       "next": "41ca8840-0c28-11f0-98e9-5e0a5654d7bd-11-a376-dc1e-e116-9124-5c27-100b-e3ef-d2c3-7ea4-848c",
       "previous": "6fd3a518-1e35-11f0-85e7-be8e2cbe8172"
      },
      {
       "current": "49f48492-1c24-11f0-baf6-eaf1011eb67f-5-e4e3-bf8a-77f2-a8ed-63cb",
       "next": "41ca8840-0c28-11f0-98e9-5e0a5654d7bd-11-a376-dc1e-e116-9124-5c27-100b-e3ef-d2c3-7ea4-848c",
       "previous": "3e836c18-0c75-11f0-b991-feb16f56f93e-16-3c5e-1a25-8534-be8d-1f5b-f63a-855a-d1ae-53d7-d31c"
      },
      {
       "current": "49f48492-1c24-11f0-baf6-eaf1011eb67f-5-e4e3-bf8a-77f2-a8ed-63cb",
       "next": "41ca8840-0c28-11f0-98e9-5e0a5654d7bd-11-a376-dc1e-e116-9124-5c27-100b-e3ef-d2c3-7ea4-848c",
       "previous": "3e836c18-0c75-11f0-b991-feb16f56f93e-17-1a25-8534-be8d-1f5b-f63a-855a-d1ae-53d7-d31c-ef62"
      },
      {
       "current": "49f48492-1c24-11f0-baf6-eaf1011eb67f-5-e4e3-bf8a-77f2-a8ed-63cb",
       "next": "41ca8840-0c28-11f0-98e9-5e0a5654d7bd-11-a376-dc1e-e116-9124-5c27-100b-e3ef-d2c3-7ea4-848c",
       "previous": "3e836c18-0c75-11f0-b991-feb16f56f93e-17-1a25-8534-be8d-1f5b-f63a-855a-d1ae-53d7-d31c-97e6"
      },
      {
       "current": "49f48492-1c24-11f0-baf6-eaf1011eb67f-5-e4e3-bf8a-77f2-a8ed-63cb",
       "next": "41ca8840-0c28-11f0-98e9-5e0a5654d7bd-11-a376-dc1e-e116-9124-5c27-100b-e3ef-d2c3-7ea4-848c",
       "previous": "3e836c18-0c75-11f0-b991-feb16f56f93e-16-3c5e-1a25-8534-be8d-1f5b-f63a-855a-d1ae-53d7-50f7"
      },
      {
       "current": "49f48492-1c24-11f0-baf6-eaf1011eb67f-5-e4e3-bf8a-77f2-a8ed-63cb",
       "next": "41ca8840-0c28-11f0-98e9-5e0a5654d7bd-11-a376-dc1e-e116-9124-5c27-100b-e3ef-d2c3-7ea4-848c",
       "previous": "3e836c18-0c75-11f0-b991-feb16f56f93e-15-7510-3c5e-1a25-8534-be8d-1f5b-f63a-855a-d1ae-aa0b"
      },
      {
       "current": "49f48492-1c24-11f0-baf6-eaf1011eb67f-5-e4e3-bf8a-77f2-a8ed-63cb",
       "next": "41ca8840-0c28-11f0-98e9-5e0a5654d7bd-11-a376-dc1e-e116-9124-5c27-100b-e3ef-d2c3-7ea4-848c",
       "previous": "e2e49448-1e5a-11f0-85e7-be8e2cbe8172"
      },
      {
       "current": "49f48492-1c24-11f0-baf6-eaf1011eb67f-5-e4e3-bf8a-77f2-a8ed-63cb",
       "next": "41ca8840-0c28-11f0-98e9-5e0a5654d7bd-11-a376-dc1e-e116-9124-5c27-100b-e3ef-d2c3-7ea4-848c",
       "previous": "3e836c18-0c75-11f0-b991-feb16f56f93e-16-3c5e-1a25-8534-be8d-1f5b-f63a-855a-d1ae-aa0b-0652"
      },
      {
       "current": "49f48492-1c24-11f0-baf6-eaf1011eb67f-5-e4e3-bf8a-77f2-a8ed-63cb",
       "next": "41ca8840-0c28-11f0-98e9-5e0a5654d7bd-11-a376-dc1e-e116-9124-5c27-100b-e3ef-d2c3-7ea4-848c",
       "previous": "cba9b558-1e5d-11f0-85e7-be8e2cbe8172"
      },
      {
       "current": "49f48492-1c24-11f0-baf6-eaf1011eb67f-6-e4e3-bf8a-77f2-a8ed-63cb-1fb0",
       "next": "41ca8840-0c28-11f0-98e9-5e0a5654d7bd-11-a376-dc1e-e116-9124-5c27-100b-e3ef-d2c3-7ea4-848c",
       "previous": "3e836c18-0c75-11f0-b991-feb16f56f93e-17-1a25-8534-be8d-1f5b-f63a-855a-d1ae-aa0b-0652-bf39"
      },
      {
       "current": "49f48492-1c24-11f0-baf6-eaf1011eb67f-7-e4e3-bf8a-77f2-a8ed-63cb-1fb0-4156",
       "next": "41ca8840-0c28-11f0-98e9-5e0a5654d7bd-12-dc1e-e116-9124-5c27-100b-e3ef-d2c3-7ea4-848c-54d8",
       "previous": "3e836c18-0c75-11f0-b991-feb16f56f93e-19-be8d-1f5b-f63a-855a-d1ae-aa0b-0652-bf39-0158-fb1b"
      },
      {
       "current": "49f48492-1c24-11f0-baf6-eaf1011eb67f-9-e4e3-bf8a-77f2-a8ed-63cb-1fb0-4156-f445-1ba3",
       "next": "41ca8840-0c28-11f0-98e9-5e0a5654d7bd-13-e116-9124-5c27-100b-e3ef-d2c3-7ea4-848c-54d8-27e2",
       "previous": "3e836c18-0c75-11f0-b991-feb16f56f93e-20-1f5b-f63a-855a-d1ae-aa0b-0652-bf39-0158-fb1b-c1c5"
      }
     ],
     "next": "41ca8840-0c28-11f0-98e9-5e0a5654d7bd-15-5c27-100b-e3ef-d2c3-7ea4-848c-54d8-27e2-4a7b-f260",
     "previous": "3e836c18-0c75-11f0-b991-feb16f56f93e-22-855a-d1ae-aa0b-0652-bf39-0158-fb1b-c1c5-b0df-8e32"
    },
    "pinnedOutputTabIndex": 0,
    "run_through_control": {
     "frozen": false,
     "read_only": false
    }
   },
   "source": [
    "終了処理を実施。"
   ]
  },
  {
   "cell_type": "code",
   "execution_count": null,
   "id": "14ba6005-25df-40b0-a422-5904229346ea",
   "metadata": {
    "deletable": true,
    "lc_cell_meme": {
     "current": "41ca8840-0c28-11f0-98e9-5e0a5654d7bd-16-100b-e3ef-d2c3-7ea4-848c-54d8-27e2-4a7b-f260-3b70",
     "history": [
      {
       "current": "41ca8840-0c28-11f0-98e9-5e0a5654d7bd",
       "next": "d9d1b1ac-ba69-11ee-be42-76dc322c86bf-7-4788-8a30-7d73-49da-50cd-ddaa-9795",
       "previous": "0d153210-80d6-11ed-95e1-0242ac120004-8-bd88-6497-d40c-e2d4-e257-f333-e27b-a86e"
      },
      {
       "current": "41ca8840-0c28-11f0-98e9-5e0a5654d7bd",
       "next": "a0be15fa-cfbc-11ee-aac4-e614fd240312-5-d8db-2f52-2d72-4f01-7bae",
       "previous": "0d153210-80d6-11ed-95e1-0242ac120004-8-bd88-6497-d40c-e2d4-e257-f333-e27b-a86e"
      },
      {
       "current": "41ca8840-0c28-11f0-98e9-5e0a5654d7bd",
       "next": "be5ca7a6-cfbd-11ee-aac4-e614fd240312-5-2859-6def-5a16-eab4-6380",
       "previous": "0d153210-80d6-11ed-95e1-0242ac120004-8-bd88-6497-d40c-e2d4-e257-f333-e27b-a86e"
      },
      {
       "current": "41ca8840-0c28-11f0-98e9-5e0a5654d7bd-1-1403",
       "next": "dcea328c-cfbe-11ee-aac4-e614fd240312-5-2457-4dd6-1c26-a538-0927",
       "previous": "0d153210-80d6-11ed-95e1-0242ac120004-8-bd88-6497-d40c-e2d4-e257-f333-e27b-a86e"
      },
      {
       "current": "41ca8840-0c28-11f0-98e9-5e0a5654d7bd-2-1403-a376",
       "next": "dcea328c-cfbe-11ee-aac4-e614fd240312-6-2457-4dd6-1c26-a538-0927-fec0",
       "previous": "0d153210-80d6-11ed-95e1-0242ac120004-9-bd88-6497-d40c-e2d4-e257-f333-e27b-a86e-3653"
      },
      {
       "current": "41ca8840-0c28-11f0-98e9-5e0a5654d7bd-2-1403-a376",
       "next": "dcea328c-cfbe-11ee-aac4-e614fd240312-6-2457-4dd6-1c26-a538-0927-fec0",
       "previous": "0d153210-80d6-11ed-95e1-0242ac120004-9-bd88-6497-d40c-e2d4-e257-f333-e27b-a86e-3653"
      },
      {
       "current": "41ca8840-0c28-11f0-98e9-5e0a5654d7bd-2-1403-a376",
       "next": "dcea328c-cfbe-11ee-aac4-e614fd240312-6-2457-4dd6-1c26-a538-0927-fec0",
       "previous": "0d153210-80d6-11ed-95e1-0242ac120004-9-bd88-6497-d40c-e2d4-e257-f333-e27b-a86e-3653"
      },
      {
       "current": "41ca8840-0c28-11f0-98e9-5e0a5654d7bd-4-1403-a376-dc1e-e116",
       "next": "dcea328c-cfbe-11ee-aac4-e614fd240312-7-2457-4dd6-1c26-a538-0927-fec0-3901",
       "previous": "0d153210-80d6-11ed-95e1-0242ac120004-10-bd88-6497-d40c-e2d4-e257-f333-e27b-a86e-3653-5c2a"
      },
      {
       "current": "41ca8840-0c28-11f0-98e9-5e0a5654d7bd-4-1403-a376-dc1e-e116",
       "next": "cf79f6c6-0422-11ef-b901-9ee4ca18f90f-9-3228-42c1-7841-354c-51c4-ea5d-d982-3358-01df",
       "previous": "0d153210-80d6-11ed-95e1-0242ac120004-12-d40c-e2d4-e257-f333-e27b-a86e-3653-5c2a-fa15-d3c9"
      },
      {
       "current": "41ca8840-0c28-11f0-98e9-5e0a5654d7bd-4-1403-a376-dc1e-e116",
       "next": "d270a640-0422-11ef-b901-9ee4ca18f90f-8-7a83-35a2-e666-ef9d-6e01-3bb7-30fc-7a42",
       "previous": "0d153210-80d6-11ed-95e1-0242ac120004-12-d40c-e2d4-e257-f333-e27b-a86e-3653-5c2a-fa15-d3c9"
      },
      {
       "current": "41ca8840-0c28-11f0-98e9-5e0a5654d7bd-4-1403-a376-dc1e-e116",
       "next": "88d5931c-0434-11ef-b901-9ee4ca18f90f-9-656a-f4ab-e3d8-0fc4-8f9b-dfcc-a95f-af4d-9c46",
       "previous": "0d153210-80d6-11ed-95e1-0242ac120004-12-d40c-e2d4-e257-f333-e27b-a86e-3653-5c2a-fa15-d3c9"
      },
      {
       "current": "41ca8840-0c28-11f0-98e9-5e0a5654d7bd-4-1403-a376-dc1e-e116",
       "next": "939d9c60-e7a8-11ef-8804-e664e9f91ae7-1-61df",
       "previous": "0d153210-80d6-11ed-95e1-0242ac120004-12-d40c-e2d4-e257-f333-e27b-a86e-3653-5c2a-fa15-d3c9"
      },
      {
       "current": "41ca8840-0c28-11f0-98e9-5e0a5654d7bd-4-1403-a376-dc1e-e116",
       "next": "8c06187c-0434-11ef-b901-9ee4ca18f90f-8-7549-a108-3151-df1a-9436-0956-114e-4777",
       "previous": "0d153210-80d6-11ed-95e1-0242ac120004-12-d40c-e2d4-e257-f333-e27b-a86e-3653-5c2a-fa15-d3c9"
      },
      {
       "current": "41ca8840-0c28-11f0-98e9-5e0a5654d7bd-6-1403-a376-dc1e-e116-9124-5c27",
       "next": "13c35e24-73c9-11ef-b0d7-cee2f9bc9ae0-2-4d24-05bb",
       "previous": "0d153210-80d6-11ed-95e1-0242ac120004-12-d40c-e2d4-e257-f333-e27b-a86e-3653-5c2a-fa15-d3c9"
      },
      {
       "current": "41ca8840-0c28-11f0-98e9-5e0a5654d7bd-7-1403-a376-dc1e-e116-9124-5c27-100b",
       "next": "7e8f35b8-1151-11f0-b2ca-76718da5da48-2-f82d-bed3",
       "previous": "0d153210-80d6-11ed-95e1-0242ac120004-14-e257-f333-e27b-a86e-3653-5c2a-fa15-d3c9-8f37-c6be"
      },
      {
       "current": "41ca8840-0c28-11f0-98e9-5e0a5654d7bd-7-1403-a376-dc1e-e116-9124-5c27-100b",
       "next": "41ca8840-0c28-11f0-98e9-5e0a5654d7bd-9-1403-a376-dc1e-51a1-47bb-3e03-b84f-4b83-212e",
       "previous": "0d153210-80d6-11ed-95e1-0242ac120004-15-f333-e27b-a86e-3653-5c2a-fa15-d3c9-8f37-c6be-0edc"
      },
      {
       "current": "41ca8840-0c28-11f0-98e9-5e0a5654d7bd-7-1403-a376-dc1e-e116-9124-5c27-100b",
       "next": "e49811c6-0f8b-11f0-935e-6e323efef16c-5-0919-5415-28e2-399c-c26b",
       "previous": "0d153210-80d6-11ed-95e1-0242ac120004-15-f333-e27b-a86e-3653-5c2a-fa15-d3c9-8f37-c6be-0edc"
      },
      {
       "current": "41ca8840-0c28-11f0-98e9-5e0a5654d7bd-7-1403-a376-dc1e-e116-9124-5c27-100b",
       "next": "e49811c6-0f8b-11f0-935e-6e323efef16c-5-0919-5415-28e2-399c-c26b",
       "previous": "9954a6fc-0c70-11f0-98e9-5e0a5654d7bd-9-f4b2-32da-b588-2ea3-c289-53e5-31c4-7b04-2eff"
      },
      {
       "current": "41ca8840-0c28-11f0-98e9-5e0a5654d7bd-7-1403-a376-dc1e-e116-9124-5c27-100b",
       "next": "e49811c6-0f8b-11f0-935e-6e323efef16c-5-0919-5415-28e2-399c-c26b",
       "previous": "49f48492-1c24-11f0-baf6-eaf1011eb67f"
      },
      {
       "current": "41ca8840-0c28-11f0-98e9-5e0a5654d7bd-7-1403-a376-dc1e-e116-9124-5c27-100b",
       "next": "e49811c6-0f8b-11f0-935e-6e323efef16c-5-0919-5415-28e2-399c-c26b",
       "previous": "49f48492-1c24-11f0-baf6-eaf1011eb67f"
      },
      {
       "current": "41ca8840-0c28-11f0-98e9-5e0a5654d7bd-10-1403-a376-dc1e-e116-9124-5c27-100b-e3ef-d2c3-7ea4",
       "next": "e49811c6-0f8b-11f0-935e-6e323efef16c-5-0919-5415-28e2-399c-c26b",
       "previous": "49f48492-1c24-11f0-baf6-eaf1011eb67f-1-e4e3"
      },
      {
       "current": "41ca8840-0c28-11f0-98e9-5e0a5654d7bd-11-a376-dc1e-e116-9124-5c27-100b-e3ef-d2c3-7ea4-848c",
       "next": "e49811c6-0f8b-11f0-935e-6e323efef16c-8-0919-5415-28e2-399c-c26b-0541-36c1-2505",
       "previous": "49f48492-1c24-11f0-baf6-eaf1011eb67f-4-e4e3-bf8a-77f2-a8ed"
      },
      {
       "current": "41ca8840-0c28-11f0-98e9-5e0a5654d7bd-12-dc1e-e116-9124-5c27-100b-e3ef-d2c3-7ea4-848c-54d8",
       "next": "e49811c6-0f8b-11f0-935e-6e323efef16c-9-0919-5415-28e2-399c-c26b-0541-36c1-2505-dc91",
       "previous": "49f48492-1c24-11f0-baf6-eaf1011eb67f-5-e4e3-bf8a-77f2-a8ed-63cb"
      },
      {
       "current": "41ca8840-0c28-11f0-98e9-5e0a5654d7bd-13-e116-9124-5c27-100b-e3ef-d2c3-7ea4-848c-54d8-27e2",
       "next": "e49811c6-0f8b-11f0-935e-6e323efef16c-10-0919-5415-28e2-399c-c26b-0541-36c1-2505-dc91-f5ad",
       "previous": "49f48492-1c24-11f0-baf6-eaf1011eb67f-6-e4e3-bf8a-77f2-a8ed-63cb-1fb0"
      },
      {
       "current": "41ca8840-0c28-11f0-98e9-5e0a5654d7bd-15-5c27-100b-e3ef-d2c3-7ea4-848c-54d8-27e2-4a7b-f260",
       "next": "e49811c6-0f8b-11f0-935e-6e323efef16c-11-5415-28e2-399c-c26b-0541-36c1-2505-dc91-f5ad-49aa",
       "previous": "49f48492-1c24-11f0-baf6-eaf1011eb67f-7-e4e3-bf8a-77f2-a8ed-63cb-1fb0-4156"
      }
     ],
     "next": "e49811c6-0f8b-11f0-935e-6e323efef16c-13-399c-c26b-0541-36c1-2505-dc91-f5ad-49aa-8cc7-1615",
     "previous": "49f48492-1c24-11f0-baf6-eaf1011eb67f-9-e4e3-bf8a-77f2-a8ed-63cb-1fb0-4156-f445-1ba3"
    },
    "pinnedOutputTabIndex": 0,
    "run_through_control": {
     "frozen": false,
     "read_only": false
    },
    "slideshow": {
     "slide_type": ""
    },
    "tags": [
     "parameters"
    ]
   },
   "outputs": [],
   "source": [
    "!rm -fr {work_dir}"
   ]
  },
  {
   "cell_type": "code",
   "execution_count": null,
   "id": "47643a4c-de6f-48f2-b966-f46138e7e9e1",
   "metadata": {
    "deletable": true,
    "editable": true,
    "lc_cell_meme": {
     "current": "e49811c6-0f8b-11f0-935e-6e323efef16c-14-c26b-0541-36c1-2505-dc91-f5ad-49aa-8cc7-1615-9d72",
     "history": [
      {
       "current": "e49811c6-0f8b-11f0-935e-6e323efef16c",
       "next": "7258c5f6-0f8b-11f0-935e-6e323efef16c",
       "previous": "8af0ac06-0c6f-11f0-98e9-5e0a5654d7bd-3-c85a-d8bf-8dea"
      },
      {
       "current": "e49811c6-0f8b-11f0-935e-6e323efef16c",
       "next": "7258c5f6-0f8b-11f0-935e-6e323efef16c",
       "previous": "3e836c18-0c75-11f0-b991-feb16f56f93e-2-b008-e8d0"
      },
      {
       "current": "e49811c6-0f8b-11f0-935e-6e323efef16c",
       "next": "7258c5f6-0f8b-11f0-935e-6e323efef16c",
       "previous": "3e836c18-0c75-11f0-b991-feb16f56f93e-2-b008-e8d0"
      }
     ],
     "previous": "41ca8840-0c28-11f0-98e9-5e0a5654d7bd-15-5c27-100b-e3ef-d2c3-7ea4-848c-54d8-27e2-4a7b-f260"
    },
    "pinnedOutputTabIndex": 0,
    "run_through_control": {
     "frozen": false,
     "read_only": false
    },
    "slideshow": {
     "slide_type": ""
    },
    "tags": [
     "parameters"
    ]
   },
   "outputs": [],
   "source": []
  }
 ],
 "metadata": {
  "kernelspec": {
   "display_name": "Python 3",
   "language": "python",
   "name": "python3"
  },
  "language_info": {
   "file_extension": ".py",
   "mimetype": "text/x-python",
   "name": "python",
   "nbconvert_exporter": "python",
   "pygments_lexer": "ipython3",
   "version": "3.12.9"
  },
  "lc_notebook_meme": {
   "current": "efecb6ea-0f8a-11f0-935e-6e323efef16c",
   "lc_server_signature": {
    "current": {
     "notebook_dir": "/home/jovyan",
     "notebook_path": "/取りまとめ-管理者機能.ipynb",
     "signature_id": "1a2a1530-3284-11f0-89c3-c629d0b175e3"
    }
   }
  }
 },
 "nbformat": 4,
 "nbformat_minor": 5
}