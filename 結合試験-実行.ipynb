{
 "cells": [
  {
   "cell_type": "markdown",
   "id": "ebf58950-47d0-43ea-a1c2-28a3332b39dc",
   "metadata": {
    "deletable": true,
    "editable": true,
    "lc_cell_meme": {
     "current": "9cf22f32-ecdb-11ef-b381-0242ac120006-26-afde-7fe6-fdc4-fd50-a737-af3a-e705-3e52-fcf7-5748",
     "history": [
      {
       "current": "9cf22f32-ecdb-11ef-b381-0242ac120006-1-71f4",
       "next": "24264e68-ecda-11ef-b381-0242ac120006-1-66b0",
       "previous": "25b124d0-ecd8-11ef-b381-0242ac120006-1-592e"
      },
      {
       "current": "9cf22f32-ecdb-11ef-b381-0242ac120006-1-71f4",
       "next": "24264e68-ecda-11ef-b381-0242ac120006-1-66b0",
       "previous": "25b124d0-ecd8-11ef-b381-0242ac120006-1-592e"
      }
     ],
     "next": "7f4bd3e4-f991-11ef-a92d-0242ac120006-19-017a-0a91-2cf3-e539-485f-96fc-9a3d-5b2c-bd92-624d"
    },
    "pinnedOutputTabIndex": 0,
    "run_through_control": {
     "frozen": false,
     "read_only": false
    },
    "slideshow": {
     "slide_type": ""
    },
    "tags": []
   },
   "source": [
    "定期実行を行う。"
   ]
  },
  {
   "cell_type": "markdown",
   "id": "a4409a56-5627-48fe-8b28-555912888c2e",
   "metadata": {
    "deletable": true,
    "editable": true,
    "lc_cell_meme": {
     "current": "7f4bd3e4-f991-11ef-a92d-0242ac120006-22-e539-485f-96fc-9a3d-5b2c-bd92-624d-d3c9-e212-d603",
     "history": [
      {
       "current": "7f4bd3e4-f991-11ef-a92d-0242ac120006-1-1aed",
       "next": "24264e68-ecda-11ef-b381-0242ac120006-5-66b0-5b8e-ae6b-6164-f809",
       "previous": "25b124d0-ecd8-11ef-b381-0242ac120006-5-592e-e65e-639f-d7b6-724d"
      },
      {
       "current": "7f4bd3e4-f991-11ef-a92d-0242ac120006-1-1aed",
       "next": "24264e68-ecda-11ef-b381-0242ac120006-5-66b0-5b8e-ae6b-6164-f809",
       "previous": "25b124d0-ecd8-11ef-b381-0242ac120006-5-592e-e65e-639f-d7b6-724d"
      },
      {
       "current": "7f4bd3e4-f991-11ef-a92d-0242ac120006-4-1aed-67f0-af08-f305",
       "next": "25b124d0-ecd8-11ef-b381-0242ac120006-5-592e-e65e-639f-d7b6-724d",
       "previous": "9cf22f32-ecdb-11ef-b381-0242ac120006-6-71f4-ec97-7beb-a852-6377-ec9d"
      },
      {
       "current": "7f4bd3e4-f991-11ef-a92d-0242ac120006-6-1aed-67f0-af08-f305-b97e-feea",
       "next": "25b124d0-ecd8-11ef-b381-0242ac120006-7-592e-e65e-639f-d7b6-724d-59b7-5af4",
       "previous": "9cf22f32-ecdb-11ef-b381-0242ac120006-8-71f4-ec97-7beb-a852-6377-ec9d-74c6-1b84"
      },
      {
       "current": "7f4bd3e4-f991-11ef-a92d-0242ac120006-6-1aed-67f0-af08-f305-b97e-feea",
       "next": "25b124d0-ecd8-11ef-b381-0242ac120006-7-592e-e65e-639f-d7b6-724d-59b7-5af4",
       "previous": "9cf22f32-ecdb-11ef-b381-0242ac120006-8-71f4-ec97-7beb-a852-6377-ec9d-74c6-1b84"
      },
      {
       "current": "7f4bd3e4-f991-11ef-a92d-0242ac120006-7-1aed-67f0-af08-f305-b97e-feea-8153",
       "next": "25b124d0-ecd8-11ef-b381-0242ac120006-9-592e-e65e-639f-d7b6-724d-59b7-5af4-97f9-e7cc",
       "previous": "9cf22f32-ecdb-11ef-b381-0242ac120006-10-71f4-ec97-7beb-a852-6377-ec9d-74c6-1b84-5268-e286"
      },
      {
       "current": "7f4bd3e4-f991-11ef-a92d-0242ac120006-8-1aed-67f0-af08-f305-b97e-feea-8153-60e6",
       "next": "25b124d0-ecd8-11ef-b381-0242ac120006-10-592e-e65e-639f-d7b6-724d-59b7-5af4-97f9-e7cc-4158",
       "previous": "9cf22f32-ecdb-11ef-b381-0242ac120006-11-ec97-7beb-a852-6377-ec9d-74c6-1b84-5268-e286-1364"
      },
      {
       "current": "7f4bd3e4-f991-11ef-a92d-0242ac120006-10-1aed-67f0-af08-f305-b97e-feea-8153-60e6-4879-017a",
       "next": "25b124d0-ecd8-11ef-b381-0242ac120006-11-e65e-639f-d7b6-724d-59b7-5af4-97f9-e7cc-4158-8543",
       "previous": "9cf22f32-ecdb-11ef-b381-0242ac120006-12-7beb-a852-6377-ec9d-74c6-1b84-5268-e286-1364-d448"
      },
      {
       "current": "7f4bd3e4-f991-11ef-a92d-0242ac120006-11-67f0-af08-f305-b97e-feea-8153-60e6-4879-017a-0a91",
       "next": "25b124d0-ecd8-11ef-b381-0242ac120006-13-d7b6-724d-59b7-5af4-97f9-e7cc-4158-8543-e920-d332",
       "previous": "9cf22f32-ecdb-11ef-b381-0242ac120006-14-6377-ec9d-74c6-1b84-5268-e286-1364-d448-786d-6730"
      },
      {
       "current": "7f4bd3e4-f991-11ef-a92d-0242ac120006-12-af08-f305-b97e-feea-8153-60e6-4879-017a-0a91-2cf3",
       "next": "25b124d0-ecd8-11ef-b381-0242ac120006-14-724d-59b7-5af4-97f9-e7cc-4158-8543-e920-d332-7521",
       "previous": "9cf22f32-ecdb-11ef-b381-0242ac120006-15-ec9d-74c6-1b84-5268-e286-1364-d448-786d-6730-798b"
      },
      {
       "current": "7f4bd3e4-f991-11ef-a92d-0242ac120006-13-f305-b97e-feea-8153-60e6-4879-017a-0a91-2cf3-e539",
       "next": "25b124d0-ecd8-11ef-b381-0242ac120006-15-59b7-5af4-97f9-e7cc-4158-8543-e920-d332-7521-082e",
       "previous": "9cf22f32-ecdb-11ef-b381-0242ac120006-16-74c6-1b84-5268-e286-1364-d448-786d-6730-798b-10cd"
      },
      {
       "current": "7f4bd3e4-f991-11ef-a92d-0242ac120006-15-feea-8153-60e6-4879-017a-0a91-2cf3-e539-485f-96fc",
       "next": "25b124d0-ecd8-11ef-b381-0242ac120006-16-5af4-97f9-e7cc-4158-8543-e920-d332-7521-082e-234b",
       "previous": "9cf22f32-ecdb-11ef-b381-0242ac120006-17-1b84-5268-e286-1364-d448-786d-6730-798b-10cd-afde"
      },
      {
       "current": "7f4bd3e4-f991-11ef-a92d-0242ac120006-17-60e6-4879-017a-0a91-2cf3-e539-485f-96fc-9a3d-5b2c",
       "next": "25b124d0-ecd8-11ef-b381-0242ac120006-18-e7cc-4158-8543-e920-d332-7521-082e-234b-515a-7a30",
       "previous": "9cf22f32-ecdb-11ef-b381-0242ac120006-19-e286-1364-d448-786d-6730-798b-10cd-afde-7fe6-fdc4"
      },
      {
       "current": "7f4bd3e4-f991-11ef-a92d-0242ac120006-18-4879-017a-0a91-2cf3-e539-485f-96fc-9a3d-5b2c-bd92",
       "next": "25b124d0-ecd8-11ef-b381-0242ac120006-20-8543-e920-d332-7521-082e-234b-515a-7a30-1e1a-2c4a",
       "previous": "9cf22f32-ecdb-11ef-b381-0242ac120006-21-d448-786d-6730-798b-10cd-afde-7fe6-fdc4-fd50-a737"
      },
      {
       "current": "7f4bd3e4-f991-11ef-a92d-0242ac120006-19-017a-0a91-2cf3-e539-485f-96fc-9a3d-5b2c-bd92-624d",
       "next": "25b124d0-ecd8-11ef-b381-0242ac120006-21-e920-d332-7521-082e-234b-515a-7a30-1e1a-2c4a-3d7d",
       "previous": "9cf22f32-ecdb-11ef-b381-0242ac120006-22-786d-6730-798b-10cd-afde-7fe6-fdc4-fd50-a737-af3a"
      }
     ],
     "next": "25b124d0-ecd8-11ef-b381-0242ac120006-22-d332-7521-082e-234b-515a-7a30-1e1a-2c4a-3d7d-37ce",
     "previous": "9cf22f32-ecdb-11ef-b381-0242ac120006-23-6730-798b-10cd-afde-7fe6-fdc4-fd50-a737-af3a-e705"
    },
    "pinnedOutputTabIndex": 0,
    "run_through_control": {
     "frozen": false,
     "read_only": false
    }
   },
   "source": [
    "# 実行パラメータの調整"
   ]
  },
  {
   "cell_type": "code",
   "execution_count": 1,
   "id": "d50cebad-1933-4003-a605-f062d50c03eb",
   "metadata": {
    "deletable": false,
    "editable": false,
    "lc_cell_meme": {
     "current": "25b124d0-ecd8-11ef-b381-0242ac120006-25-234b-515a-7a30-1e1a-2c4a-3d7d-37ce-660c-5d72-a8ab",
     "execution_end_time": "2025-02-17T03:02:08.911Z",
     "history": [
      {
       "current": "25b124d0-ecd8-11ef-b381-0242ac120006-1-592e",
       "next": "0b6a3256-ecd8-11ef-b381-0242ac120006",
       "previous": "be13dbec-ecd7-11ef-b381-0242ac120006"
      },
      {
       "current": "25b124d0-ecd8-11ef-b381-0242ac120006-1-592e",
       "next": "0b6a3256-ecd8-11ef-b381-0242ac120006",
       "previous": "be13dbec-ecd7-11ef-b381-0242ac120006"
      },
      {
       "current": "25b124d0-ecd8-11ef-b381-0242ac120006-1-592e",
       "next": "24264e68-ecda-11ef-b381-0242ac120006-1-66b0",
       "previous": "9cf22f32-ecdb-11ef-b381-0242ac120006-1-71f4"
      },
      {
       "current": "25b124d0-ecd8-11ef-b381-0242ac120006-1-592e",
       "next": "24264e68-ecda-11ef-b381-0242ac120006-1-66b0",
       "previous": "9cf22f32-ecdb-11ef-b381-0242ac120006-1-71f4"
      },
      {
       "current": "25b124d0-ecd8-11ef-b381-0242ac120006-2-592e-e65e",
       "next": "24264e68-ecda-11ef-b381-0242ac120006-1-66b0",
       "previous": "9cf22f32-ecdb-11ef-b381-0242ac120006-2-71f4-ec97"
      },
      {
       "current": "25b124d0-ecd8-11ef-b381-0242ac120006-3-592e-e65e-639f",
       "next": "24264e68-ecda-11ef-b381-0242ac120006-2-66b0-5b8e",
       "previous": "9cf22f32-ecdb-11ef-b381-0242ac120006-3-71f4-ec97-7beb"
      },
      {
       "current": "25b124d0-ecd8-11ef-b381-0242ac120006-5-592e-e65e-639f-d7b6-724d",
       "next": "24264e68-ecda-11ef-b381-0242ac120006-3-66b0-5b8e-ae6b",
       "previous": "9cf22f32-ecdb-11ef-b381-0242ac120006-4-71f4-ec97-7beb-a852"
      },
      {
       "current": "25b124d0-ecd8-11ef-b381-0242ac120006-5-592e-e65e-639f-d7b6-724d",
       "next": "24264e68-ecda-11ef-b381-0242ac120006-5-66b0-5b8e-ae6b-6164-f809",
       "previous": "9cf22f32-ecdb-11ef-b381-0242ac120006-6-71f4-ec97-7beb-a852-6377-ec9d"
      },
      {
       "current": "25b124d0-ecd8-11ef-b381-0242ac120006-5-592e-e65e-639f-d7b6-724d",
       "next": "7f4bd3e4-f991-11ef-a92d-0242ac120006",
       "previous": "9cf22f32-ecdb-11ef-b381-0242ac120006-6-71f4-ec97-7beb-a852-6377-ec9d"
      },
      {
       "current": "25b124d0-ecd8-11ef-b381-0242ac120006-5-592e-e65e-639f-d7b6-724d",
       "next": "7f4bd3e4-f991-11ef-a92d-0242ac120006",
       "previous": "9cf22f32-ecdb-11ef-b381-0242ac120006-6-71f4-ec97-7beb-a852-6377-ec9d"
      },
      {
       "current": "25b124d0-ecd8-11ef-b381-0242ac120006-5-592e-e65e-639f-d7b6-724d",
       "next": "24264e68-ecda-11ef-b381-0242ac120006-5-66b0-5b8e-ae6b-6164-f809",
       "previous": "7f4bd3e4-f991-11ef-a92d-0242ac120006-1-1aed"
      },
      {
       "current": "25b124d0-ecd8-11ef-b381-0242ac120006-5-592e-e65e-639f-d7b6-724d",
       "next": "24264e68-ecda-11ef-b381-0242ac120006-5-66b0-5b8e-ae6b-6164-f809",
       "previous": "7f4bd3e4-f991-11ef-a92d-0242ac120006-1-1aed"
      },
      {
       "current": "25b124d0-ecd8-11ef-b381-0242ac120006-7-592e-e65e-639f-d7b6-724d-59b7-5af4",
       "next": "24264e68-ecda-11ef-b381-0242ac120006-5-66b0-5b8e-ae6b-6164-f809",
       "previous": "7f4bd3e4-f991-11ef-a92d-0242ac120006-2-1aed-67f0"
      },
      {
       "current": "25b124d0-ecd8-11ef-b381-0242ac120006-9-592e-e65e-639f-d7b6-724d-59b7-5af4-97f9-e7cc",
       "next": "24264e68-ecda-11ef-b381-0242ac120006-7-66b0-5b8e-ae6b-6164-f809-df2f-b223",
       "previous": "7f4bd3e4-f991-11ef-a92d-0242ac120006-4-1aed-67f0-af08-f305"
      },
      {
       "current": "25b124d0-ecd8-11ef-b381-0242ac120006-9-592e-e65e-639f-d7b6-724d-59b7-5af4-97f9-e7cc",
       "next": "24264e68-ecda-11ef-b381-0242ac120006-7-66b0-5b8e-ae6b-6164-f809-df2f-b223",
       "previous": "7f4bd3e4-f991-11ef-a92d-0242ac120006-4-1aed-67f0-af08-f305"
      },
      {
       "current": "25b124d0-ecd8-11ef-b381-0242ac120006-10-592e-e65e-639f-d7b6-724d-59b7-5af4-97f9-e7cc-4158",
       "next": "24264e68-ecda-11ef-b381-0242ac120006-9-66b0-5b8e-ae6b-6164-f809-df2f-b223-6376-cc54",
       "previous": "7f4bd3e4-f991-11ef-a92d-0242ac120006-6-1aed-67f0-af08-f305-b97e-feea"
      },
      {
       "current": "25b124d0-ecd8-11ef-b381-0242ac120006-11-e65e-639f-d7b6-724d-59b7-5af4-97f9-e7cc-4158-8543",
       "next": "24264e68-ecda-11ef-b381-0242ac120006-10-66b0-5b8e-ae6b-6164-f809-df2f-b223-6376-cc54-a05f",
       "previous": "7f4bd3e4-f991-11ef-a92d-0242ac120006-7-1aed-67f0-af08-f305-b97e-feea-8153"
      },
      {
       "current": "25b124d0-ecd8-11ef-b381-0242ac120006-13-d7b6-724d-59b7-5af4-97f9-e7cc-4158-8543-e920-d332",
       "next": "24264e68-ecda-11ef-b381-0242ac120006-11-5b8e-ae6b-6164-f809-df2f-b223-6376-cc54-a05f-042b",
       "previous": "7f4bd3e4-f991-11ef-a92d-0242ac120006-8-1aed-67f0-af08-f305-b97e-feea-8153-60e6"
      },
      {
       "current": "25b124d0-ecd8-11ef-b381-0242ac120006-14-724d-59b7-5af4-97f9-e7cc-4158-8543-e920-d332-7521",
       "next": "24264e68-ecda-11ef-b381-0242ac120006-13-6164-f809-df2f-b223-6376-cc54-a05f-042b-cbeb-bb29",
       "previous": "7f4bd3e4-f991-11ef-a92d-0242ac120006-10-1aed-67f0-af08-f305-b97e-feea-8153-60e6-4879-017a"
      },
      {
       "current": "25b124d0-ecd8-11ef-b381-0242ac120006-15-59b7-5af4-97f9-e7cc-4158-8543-e920-d332-7521-082e",
       "next": "24264e68-ecda-11ef-b381-0242ac120006-14-f809-df2f-b223-6376-cc54-a05f-042b-cbeb-bb29-763c",
       "previous": "7f4bd3e4-f991-11ef-a92d-0242ac120006-11-67f0-af08-f305-b97e-feea-8153-60e6-4879-017a-0a91"
      },
      {
       "current": "25b124d0-ecd8-11ef-b381-0242ac120006-16-5af4-97f9-e7cc-4158-8543-e920-d332-7521-082e-234b",
       "next": "24264e68-ecda-11ef-b381-0242ac120006-15-df2f-b223-6376-cc54-a05f-042b-cbeb-bb29-763c-9201",
       "previous": "7f4bd3e4-f991-11ef-a92d-0242ac120006-12-af08-f305-b97e-feea-8153-60e6-4879-017a-0a91-2cf3"
      },
      {
       "current": "25b124d0-ecd8-11ef-b381-0242ac120006-18-e7cc-4158-8543-e920-d332-7521-082e-234b-515a-7a30",
       "next": "24264e68-ecda-11ef-b381-0242ac120006-16-b223-6376-cc54-a05f-042b-cbeb-bb29-763c-9201-276e",
       "previous": "7f4bd3e4-f991-11ef-a92d-0242ac120006-13-f305-b97e-feea-8153-60e6-4879-017a-0a91-2cf3-e539"
      },
      {
       "current": "25b124d0-ecd8-11ef-b381-0242ac120006-20-8543-e920-d332-7521-082e-234b-515a-7a30-1e1a-2c4a",
       "next": "24264e68-ecda-11ef-b381-0242ac120006-18-cc54-a05f-042b-cbeb-bb29-763c-9201-276e-e152-8ca5",
       "previous": "7f4bd3e4-f991-11ef-a92d-0242ac120006-15-feea-8153-60e6-4879-017a-0a91-2cf3-e539-485f-96fc"
      },
      {
       "current": "25b124d0-ecd8-11ef-b381-0242ac120006-21-e920-d332-7521-082e-234b-515a-7a30-1e1a-2c4a-3d7d",
       "next": "24264e68-ecda-11ef-b381-0242ac120006-20-042b-cbeb-bb29-763c-9201-276e-e152-8ca5-ff29-35a1",
       "previous": "7f4bd3e4-f991-11ef-a92d-0242ac120006-17-60e6-4879-017a-0a91-2cf3-e539-485f-96fc-9a3d-5b2c"
      },
      {
       "current": "25b124d0-ecd8-11ef-b381-0242ac120006-22-d332-7521-082e-234b-515a-7a30-1e1a-2c4a-3d7d-37ce",
       "next": "24264e68-ecda-11ef-b381-0242ac120006-21-cbeb-bb29-763c-9201-276e-e152-8ca5-ff29-35a1-d86c",
       "previous": "7f4bd3e4-f991-11ef-a92d-0242ac120006-18-4879-017a-0a91-2cf3-e539-485f-96fc-9a3d-5b2c-bd92"
      }
     ],
     "next": "24264e68-ecda-11ef-b381-0242ac120006-22-bb29-763c-9201-276e-e152-8ca5-ff29-35a1-d86c-b68e",
     "previous": "7f4bd3e4-f991-11ef-a92d-0242ac120006-19-017a-0a91-2cf3-e539-485f-96fc-9a3d-5b2c-bd92-624d"
    },
    "pinnedOutputTabIndex": 0,
    "run_through_control": {
     "frozen": true,
     "read_only": false
    },
    "slideshow": {
     "slide_type": ""
    },
    "tags": [
     "parameters"
    ]
   },
   "outputs": [
    {
     "data": {
      "text/plain": [
       "('.config.yaml', None)"
      ]
     },
     "execution_count": 1,
     "metadata": {},
     "output_type": "execute_result"
    }
   ],
   "source": [
    "config_path = '.config.yaml'\n",
    "default_result_path = None\n",
    "log_path = './result'\n",
    "(config_path, default_result_path)"
   ]
  },
  {
   "cell_type": "markdown",
   "id": "0179e2a0-d93e-4530-8706-7e65f43fbcdf",
   "metadata": {
    "deletable": true,
    "editable": true,
    "lc_cell_meme": {
     "current": "24264e68-ecda-11ef-b381-0242ac120006-25-276e-e152-8ca5-ff29-35a1-d86c-b68e-774a-6480-616e",
     "history": [
      {
       "current": "24264e68-ecda-11ef-b381-0242ac120006-1-66b0",
       "next": "be13dbec-ecd7-11ef-b381-0242ac120006",
       "previous": "25b124d0-ecd8-11ef-b381-0242ac120006-1-592e"
      },
      {
       "current": "24264e68-ecda-11ef-b381-0242ac120006-1-66b0",
       "next": "be13dbec-ecd7-11ef-b381-0242ac120006",
       "previous": "9cf22f32-ecdb-11ef-b381-0242ac120006"
      },
      {
       "current": "24264e68-ecda-11ef-b381-0242ac120006-1-66b0",
       "next": "be13dbec-ecd7-11ef-b381-0242ac120006",
       "previous": "9cf22f32-ecdb-11ef-b381-0242ac120006"
      },
      {
       "current": "24264e68-ecda-11ef-b381-0242ac120006-2-66b0-5b8e",
       "next": "be13dbec-ecd7-11ef-b381-0242ac120006",
       "previous": "25b124d0-ecd8-11ef-b381-0242ac120006-1-592e"
      },
      {
       "current": "24264e68-ecda-11ef-b381-0242ac120006-3-66b0-5b8e-ae6b",
       "next": "be13dbec-ecd7-11ef-b381-0242ac120006-1-620e",
       "previous": "25b124d0-ecd8-11ef-b381-0242ac120006-2-592e-e65e"
      },
      {
       "current": "24264e68-ecda-11ef-b381-0242ac120006-5-66b0-5b8e-ae6b-6164-f809",
       "next": "be13dbec-ecd7-11ef-b381-0242ac120006-2-620e-a152",
       "previous": "25b124d0-ecd8-11ef-b381-0242ac120006-3-592e-e65e-639f"
      },
      {
       "current": "24264e68-ecda-11ef-b381-0242ac120006-5-66b0-5b8e-ae6b-6164-f809",
       "next": "be13dbec-ecd7-11ef-b381-0242ac120006-4-620e-a152-f573-98ba",
       "previous": "25b124d0-ecd8-11ef-b381-0242ac120006-5-592e-e65e-639f-d7b6-724d"
      },
      {
       "current": "24264e68-ecda-11ef-b381-0242ac120006-5-66b0-5b8e-ae6b-6164-f809",
       "next": "be13dbec-ecd7-11ef-b381-0242ac120006-4-620e-a152-f573-98ba",
       "previous": "7f4bd3e4-f991-11ef-a92d-0242ac120006"
      },
      {
       "current": "24264e68-ecda-11ef-b381-0242ac120006-5-66b0-5b8e-ae6b-6164-f809",
       "next": "be13dbec-ecd7-11ef-b381-0242ac120006-4-620e-a152-f573-98ba",
       "previous": "7f4bd3e4-f991-11ef-a92d-0242ac120006"
      },
      {
       "current": "24264e68-ecda-11ef-b381-0242ac120006-7-66b0-5b8e-ae6b-6164-f809-df2f-b223",
       "next": "be13dbec-ecd7-11ef-b381-0242ac120006-4-620e-a152-f573-98ba",
       "previous": "25b124d0-ecd8-11ef-b381-0242ac120006-5-592e-e65e-639f-d7b6-724d"
      },
      {
       "current": "24264e68-ecda-11ef-b381-0242ac120006-9-66b0-5b8e-ae6b-6164-f809-df2f-b223-6376-cc54",
       "next": "be13dbec-ecd7-11ef-b381-0242ac120006-6-620e-a152-f573-98ba-5506-ead5",
       "previous": "25b124d0-ecd8-11ef-b381-0242ac120006-7-592e-e65e-639f-d7b6-724d-59b7-5af4"
      },
      {
       "current": "24264e68-ecda-11ef-b381-0242ac120006-9-66b0-5b8e-ae6b-6164-f809-df2f-b223-6376-cc54",
       "next": "be13dbec-ecd7-11ef-b381-0242ac120006-6-620e-a152-f573-98ba-5506-ead5",
       "previous": "25b124d0-ecd8-11ef-b381-0242ac120006-7-592e-e65e-639f-d7b6-724d-59b7-5af4"
      },
      {
       "current": "24264e68-ecda-11ef-b381-0242ac120006-10-66b0-5b8e-ae6b-6164-f809-df2f-b223-6376-cc54-a05f",
       "next": "be13dbec-ecd7-11ef-b381-0242ac120006-8-620e-a152-f573-98ba-5506-ead5-1364-8997",
       "previous": "25b124d0-ecd8-11ef-b381-0242ac120006-9-592e-e65e-639f-d7b6-724d-59b7-5af4-97f9-e7cc"
      },
      {
       "current": "24264e68-ecda-11ef-b381-0242ac120006-11-5b8e-ae6b-6164-f809-df2f-b223-6376-cc54-a05f-042b",
       "next": "be13dbec-ecd7-11ef-b381-0242ac120006-9-620e-a152-f573-98ba-5506-ead5-1364-8997-17f3",
       "previous": "25b124d0-ecd8-11ef-b381-0242ac120006-10-592e-e65e-639f-d7b6-724d-59b7-5af4-97f9-e7cc-4158"
      },
      {
       "current": "24264e68-ecda-11ef-b381-0242ac120006-13-6164-f809-df2f-b223-6376-cc54-a05f-042b-cbeb-bb29",
       "next": "be13dbec-ecd7-11ef-b381-0242ac120006-10-620e-a152-f573-98ba-5506-ead5-1364-8997-17f3-a189",
       "previous": "25b124d0-ecd8-11ef-b381-0242ac120006-11-e65e-639f-d7b6-724d-59b7-5af4-97f9-e7cc-4158-8543"
      },
      {
       "current": "24264e68-ecda-11ef-b381-0242ac120006-14-f809-df2f-b223-6376-cc54-a05f-042b-cbeb-bb29-763c",
       "next": "be13dbec-ecd7-11ef-b381-0242ac120006-12-f573-98ba-5506-ead5-1364-8997-17f3-a189-c892-97cb",
       "previous": "25b124d0-ecd8-11ef-b381-0242ac120006-13-d7b6-724d-59b7-5af4-97f9-e7cc-4158-8543-e920-d332"
      },
      {
       "current": "24264e68-ecda-11ef-b381-0242ac120006-15-df2f-b223-6376-cc54-a05f-042b-cbeb-bb29-763c-9201",
       "next": "be13dbec-ecd7-11ef-b381-0242ac120006-13-98ba-5506-ead5-1364-8997-17f3-a189-c892-97cb-4c86",
       "previous": "25b124d0-ecd8-11ef-b381-0242ac120006-14-724d-59b7-5af4-97f9-e7cc-4158-8543-e920-d332-7521"
      },
      {
       "current": "24264e68-ecda-11ef-b381-0242ac120006-16-b223-6376-cc54-a05f-042b-cbeb-bb29-763c-9201-276e",
       "next": "be13dbec-ecd7-11ef-b381-0242ac120006-14-5506-ead5-1364-8997-17f3-a189-c892-97cb-4c86-9b01",
       "previous": "25b124d0-ecd8-11ef-b381-0242ac120006-15-59b7-5af4-97f9-e7cc-4158-8543-e920-d332-7521-082e"
      },
      {
       "current": "24264e68-ecda-11ef-b381-0242ac120006-18-cc54-a05f-042b-cbeb-bb29-763c-9201-276e-e152-8ca5",
       "next": "be13dbec-ecd7-11ef-b381-0242ac120006-15-ead5-1364-8997-17f3-a189-c892-97cb-4c86-9b01-013d",
       "previous": "25b124d0-ecd8-11ef-b381-0242ac120006-16-5af4-97f9-e7cc-4158-8543-e920-d332-7521-082e-234b"
      },
      {
       "current": "24264e68-ecda-11ef-b381-0242ac120006-20-042b-cbeb-bb29-763c-9201-276e-e152-8ca5-ff29-35a1",
       "next": "be13dbec-ecd7-11ef-b381-0242ac120006-17-8997-17f3-a189-c892-97cb-4c86-9b01-013d-44d9-1893",
       "previous": "25b124d0-ecd8-11ef-b381-0242ac120006-18-e7cc-4158-8543-e920-d332-7521-082e-234b-515a-7a30"
      },
      {
       "current": "24264e68-ecda-11ef-b381-0242ac120006-21-cbeb-bb29-763c-9201-276e-e152-8ca5-ff29-35a1-d86c",
       "next": "be13dbec-ecd7-11ef-b381-0242ac120006-19-a189-c892-97cb-4c86-9b01-013d-44d9-1893-da65-b06d",
       "previous": "25b124d0-ecd8-11ef-b381-0242ac120006-20-8543-e920-d332-7521-082e-234b-515a-7a30-1e1a-2c4a"
      },
      {
       "current": "24264e68-ecda-11ef-b381-0242ac120006-22-bb29-763c-9201-276e-e152-8ca5-ff29-35a1-d86c-b68e",
       "next": "be13dbec-ecd7-11ef-b381-0242ac120006-20-c892-97cb-4c86-9b01-013d-44d9-1893-da65-b06d-1da3",
       "previous": "25b124d0-ecd8-11ef-b381-0242ac120006-21-e920-d332-7521-082e-234b-515a-7a30-1e1a-2c4a-3d7d"
      }
     ],
     "next": "be13dbec-ecd7-11ef-b381-0242ac120006-21-97cb-4c86-9b01-013d-44d9-1893-da65-b06d-1da3-3c30",
     "previous": "25b124d0-ecd8-11ef-b381-0242ac120006-22-d332-7521-082e-234b-515a-7a30-1e1a-2c4a-3d7d-37ce"
    },
    "pinnedOutputTabIndex": 0,
    "run_through_control": {
     "frozen": false,
     "read_only": false
    },
    "slideshow": {
     "slide_type": ""
    },
    "tags": []
   },
   "source": [
    "設定のデフォルト値"
   ]
  },
  {
   "cell_type": "code",
   "execution_count": null,
   "id": "2314a45b-7883-4036-8b42-5fea3ee9e5d0",
   "metadata": {
    "deletable": false,
    "editable": false,
    "lc_cell_meme": {
     "current": "be13dbec-ecd7-11ef-b381-0242ac120006-24-013d-44d9-1893-da65-b06d-1da3-3c30-c762-be13-d92a",
     "history": [
      {
       "current": "be13dbec-ecd7-11ef-b381-0242ac120006",
       "next": "0b6a3256-ecd8-11ef-b381-0242ac120006",
       "previous": "25b124d0-ecd8-11ef-b381-0242ac120006-1-592e"
      },
      {
       "current": "be13dbec-ecd7-11ef-b381-0242ac120006",
       "next": "0b6a3256-ecd8-11ef-b381-0242ac120006",
       "previous": "24264e68-ecda-11ef-b381-0242ac120006"
      },
      {
       "current": "be13dbec-ecd7-11ef-b381-0242ac120006",
       "next": "0b6a3256-ecd8-11ef-b381-0242ac120006",
       "previous": "24264e68-ecda-11ef-b381-0242ac120006"
      },
      {
       "current": "be13dbec-ecd7-11ef-b381-0242ac120006-1-620e",
       "next": "0b6a3256-ecd8-11ef-b381-0242ac120006",
       "previous": "24264e68-ecda-11ef-b381-0242ac120006-1-66b0"
      },
      {
       "current": "be13dbec-ecd7-11ef-b381-0242ac120006-1-620e",
       "next": "0b6a3256-ecd8-11ef-b381-0242ac120006-1-e8a9",
       "previous": "24264e68-ecda-11ef-b381-0242ac120006-2-66b0-5b8e"
      },
      {
       "current": "be13dbec-ecd7-11ef-b381-0242ac120006-1-620e",
       "next": "ea686914-ecec-11ef-a157-0242ac120006",
       "previous": "24264e68-ecda-11ef-b381-0242ac120006-2-66b0-5b8e"
      },
      {
       "current": "be13dbec-ecd7-11ef-b381-0242ac120006-2-620e-a152",
       "next": "0b6a3256-ecd8-11ef-b381-0242ac120006-1-e8a9",
       "previous": "24264e68-ecda-11ef-b381-0242ac120006-2-66b0-5b8e"
      },
      {
       "current": "be13dbec-ecd7-11ef-b381-0242ac120006-4-620e-a152-f573-98ba",
       "next": "0b6a3256-ecd8-11ef-b381-0242ac120006-2-e8a9-82a5",
       "previous": "24264e68-ecda-11ef-b381-0242ac120006-3-66b0-5b8e-ae6b"
      },
      {
       "current": "be13dbec-ecd7-11ef-b381-0242ac120006-6-620e-a152-f573-98ba-5506-ead5",
       "next": "0b6a3256-ecd8-11ef-b381-0242ac120006-4-e8a9-82a5-f396-4fdc",
       "previous": "24264e68-ecda-11ef-b381-0242ac120006-5-66b0-5b8e-ae6b-6164-f809"
      },
      {
       "current": "be13dbec-ecd7-11ef-b381-0242ac120006-8-620e-a152-f573-98ba-5506-ead5-1364-8997",
       "next": "0b6a3256-ecd8-11ef-b381-0242ac120006-6-e8a9-82a5-f396-4fdc-b40b-6e5b",
       "previous": "24264e68-ecda-11ef-b381-0242ac120006-7-66b0-5b8e-ae6b-6164-f809-df2f-b223"
      },
      {
       "current": "be13dbec-ecd7-11ef-b381-0242ac120006-8-620e-a152-f573-98ba-5506-ead5-1364-8997",
       "next": "0b6a3256-ecd8-11ef-b381-0242ac120006-6-e8a9-82a5-f396-4fdc-b40b-6e5b",
       "previous": "24264e68-ecda-11ef-b381-0242ac120006-7-66b0-5b8e-ae6b-6164-f809-df2f-b223"
      },
      {
       "current": "be13dbec-ecd7-11ef-b381-0242ac120006-8-620e-a152-f573-98ba-5506-ead5-1364-8997",
       "next": "0b6a3256-ecd8-11ef-b381-0242ac120006-9-e8a9-82a5-f396-4fdc-b40b-6e5b-4212-13e9-6152",
       "previous": "24264e68-ecda-11ef-b381-0242ac120006-9-66b0-5b8e-ae6b-6164-f809-df2f-b223-6376-cc54"
      },
      {
       "current": "be13dbec-ecd7-11ef-b381-0242ac120006-8-620e-a152-f573-98ba-5506-ead5-1364-8997",
       "next": "0b6a3256-ecd8-11ef-b381-0242ac120006-9-e8a9-82a5-f396-4fdc-b40b-6e5b-4212-13e9-6152",
       "previous": "24264e68-ecda-11ef-b381-0242ac120006-9-66b0-5b8e-ae6b-6164-f809-df2f-b223-6376-cc54"
      },
      {
       "current": "be13dbec-ecd7-11ef-b381-0242ac120006-9-620e-a152-f573-98ba-5506-ead5-1364-8997-17f3",
       "next": "0b6a3256-ecd8-11ef-b381-0242ac120006-10-e8a9-82a5-f396-4fdc-b40b-6e5b-4212-13e9-6152-8383",
       "previous": "24264e68-ecda-11ef-b381-0242ac120006-9-66b0-5b8e-ae6b-6164-f809-df2f-b223-6376-cc54"
      },
      {
       "current": "be13dbec-ecd7-11ef-b381-0242ac120006-10-620e-a152-f573-98ba-5506-ead5-1364-8997-17f3-a189",
       "next": "0b6a3256-ecd8-11ef-b381-0242ac120006-11-82a5-f396-4fdc-b40b-6e5b-4212-13e9-6152-8383-4702",
       "previous": "24264e68-ecda-11ef-b381-0242ac120006-10-66b0-5b8e-ae6b-6164-f809-df2f-b223-6376-cc54-a05f"
      },
      {
       "current": "be13dbec-ecd7-11ef-b381-0242ac120006-12-f573-98ba-5506-ead5-1364-8997-17f3-a189-c892-97cb",
       "next": "0b6a3256-ecd8-11ef-b381-0242ac120006-12-f396-4fdc-b40b-6e5b-4212-13e9-6152-8383-4702-91d2",
       "previous": "24264e68-ecda-11ef-b381-0242ac120006-11-5b8e-ae6b-6164-f809-df2f-b223-6376-cc54-a05f-042b"
      },
      {
       "current": "be13dbec-ecd7-11ef-b381-0242ac120006-12-f573-98ba-5506-ead5-1364-8997-17f3-a189-c892-97cb",
       "next": "0b6a3256-ecd8-11ef-b381-0242ac120006-14-b40b-6e5b-4212-13e9-6152-8383-4702-91d2-bdd3-2a5d",
       "previous": "24264e68-ecda-11ef-b381-0242ac120006-13-6164-f809-df2f-b223-6376-cc54-a05f-042b-cbeb-bb29"
      },
      {
       "current": "be13dbec-ecd7-11ef-b381-0242ac120006-12-f573-98ba-5506-ead5-1364-8997-17f3-a189-c892-97cb",
       "next": "3791fff2-1114-11f0-acfe-1231102d67ae",
       "previous": "24264e68-ecda-11ef-b381-0242ac120006-13-6164-f809-df2f-b223-6376-cc54-a05f-042b-cbeb-bb29"
      },
      {
       "current": "be13dbec-ecd7-11ef-b381-0242ac120006-12-f573-98ba-5506-ead5-1364-8997-17f3-a189-c892-97cb",
       "next": "0b6a3256-ecd8-11ef-b381-0242ac120006-14-b40b-6e5b-4212-13e9-6152-8383-4702-91d2-bdd3-2a5d",
       "previous": "24264e68-ecda-11ef-b381-0242ac120006-13-6164-f809-df2f-b223-6376-cc54-a05f-042b-cbeb-bb29"
      },
      {
       "current": "be13dbec-ecd7-11ef-b381-0242ac120006-12-f573-98ba-5506-ead5-1364-8997-17f3-a189-c892-97cb",
       "next": "a42e7b22-1119-11f0-acfe-1231102d67ae",
       "previous": "24264e68-ecda-11ef-b381-0242ac120006-13-6164-f809-df2f-b223-6376-cc54-a05f-042b-cbeb-bb29"
      },
      {
       "current": "be13dbec-ecd7-11ef-b381-0242ac120006-12-f573-98ba-5506-ead5-1364-8997-17f3-a189-c892-97cb",
       "next": "0b6a3256-ecd8-11ef-b381-0242ac120006-14-b40b-6e5b-4212-13e9-6152-8383-4702-91d2-bdd3-2a5d",
       "previous": "24264e68-ecda-11ef-b381-0242ac120006-13-6164-f809-df2f-b223-6376-cc54-a05f-042b-cbeb-bb29"
      },
      {
       "current": "be13dbec-ecd7-11ef-b381-0242ac120006-12-f573-98ba-5506-ead5-1364-8997-17f3-a189-c892-97cb",
       "next": "290d17f8-111b-11f0-acfe-1231102d67ae",
       "previous": "24264e68-ecda-11ef-b381-0242ac120006-13-6164-f809-df2f-b223-6376-cc54-a05f-042b-cbeb-bb29"
      },
      {
       "current": "be13dbec-ecd7-11ef-b381-0242ac120006-12-f573-98ba-5506-ead5-1364-8997-17f3-a189-c892-97cb",
       "next": "0b6a3256-ecd8-11ef-b381-0242ac120006-14-b40b-6e5b-4212-13e9-6152-8383-4702-91d2-bdd3-2a5d",
       "previous": "24264e68-ecda-11ef-b381-0242ac120006-13-6164-f809-df2f-b223-6376-cc54-a05f-042b-cbeb-bb29"
      },
      {
       "current": "be13dbec-ecd7-11ef-b381-0242ac120006-12-f573-98ba-5506-ead5-1364-8997-17f3-a189-c892-97cb",
       "next": "b6cf53f2-111c-11f0-acfe-1231102d67ae",
       "previous": "24264e68-ecda-11ef-b381-0242ac120006-13-6164-f809-df2f-b223-6376-cc54-a05f-042b-cbeb-bb29"
      },
      {
       "current": "be13dbec-ecd7-11ef-b381-0242ac120006-13-98ba-5506-ead5-1364-8997-17f3-a189-c892-97cb-4c86",
       "next": "0b6a3256-ecd8-11ef-b381-0242ac120006-14-b40b-6e5b-4212-13e9-6152-8383-4702-91d2-bdd3-2a5d",
       "previous": "24264e68-ecda-11ef-b381-0242ac120006-13-6164-f809-df2f-b223-6376-cc54-a05f-042b-cbeb-bb29"
      },
      {
       "current": "be13dbec-ecd7-11ef-b381-0242ac120006-14-5506-ead5-1364-8997-17f3-a189-c892-97cb-4c86-9b01",
       "next": "0b6a3256-ecd8-11ef-b381-0242ac120006-15-6e5b-4212-13e9-6152-8383-4702-91d2-bdd3-2a5d-2a26",
       "previous": "24264e68-ecda-11ef-b381-0242ac120006-14-f809-df2f-b223-6376-cc54-a05f-042b-cbeb-bb29-763c"
      },
      {
       "current": "be13dbec-ecd7-11ef-b381-0242ac120006-14-5506-ead5-1364-8997-17f3-a189-c892-97cb-4c86-9b01",
       "next": "253f9026-1330-11f0-88c4-7e93a5d0b9a2",
       "previous": "24264e68-ecda-11ef-b381-0242ac120006-15-df2f-b223-6376-cc54-a05f-042b-cbeb-bb29-763c-9201"
      },
      {
       "current": "be13dbec-ecd7-11ef-b381-0242ac120006-14-5506-ead5-1364-8997-17f3-a189-c892-97cb-4c86-9b01",
       "next": "253f9026-1330-11f0-88c4-7e93a5d0b9a2",
       "previous": "24264e68-ecda-11ef-b381-0242ac120006-15-df2f-b223-6376-cc54-a05f-042b-cbeb-bb29-763c-9201"
      },
      {
       "current": "be13dbec-ecd7-11ef-b381-0242ac120006-14-5506-ead5-1364-8997-17f3-a189-c892-97cb-4c86-9b01",
       "next": "253f9026-1330-11f0-88c4-7e93a5d0b9a2-1-5f5c",
       "previous": "24264e68-ecda-11ef-b381-0242ac120006-15-df2f-b223-6376-cc54-a05f-042b-cbeb-bb29-763c-9201"
      },
      {
       "current": "be13dbec-ecd7-11ef-b381-0242ac120006-14-5506-ead5-1364-8997-17f3-a189-c892-97cb-4c86-9b01",
       "next": "173d7fda-1333-11f0-88c4-7e93a5d0b9a2",
       "previous": "24264e68-ecda-11ef-b381-0242ac120006-15-df2f-b223-6376-cc54-a05f-042b-cbeb-bb29-763c-9201"
      },
      {
       "current": "be13dbec-ecd7-11ef-b381-0242ac120006-14-5506-ead5-1364-8997-17f3-a189-c892-97cb-4c86-9b01",
       "next": "253f9026-1330-11f0-88c4-7e93a5d0b9a2-1-5f5c",
       "previous": "24264e68-ecda-11ef-b381-0242ac120006-15-df2f-b223-6376-cc54-a05f-042b-cbeb-bb29-763c-9201"
      },
      {
       "current": "be13dbec-ecd7-11ef-b381-0242ac120006-14-5506-ead5-1364-8997-17f3-a189-c892-97cb-4c86-9b01",
       "next": "708e57ec-1335-11f0-88c4-7e93a5d0b9a2",
       "previous": "24264e68-ecda-11ef-b381-0242ac120006-15-df2f-b223-6376-cc54-a05f-042b-cbeb-bb29-763c-9201"
      },
      {
       "current": "be13dbec-ecd7-11ef-b381-0242ac120006-15-ead5-1364-8997-17f3-a189-c892-97cb-4c86-9b01-013d",
       "next": "253f9026-1330-11f0-88c4-7e93a5d0b9a2-1-5f5c",
       "previous": "24264e68-ecda-11ef-b381-0242ac120006-15-df2f-b223-6376-cc54-a05f-042b-cbeb-bb29-763c-9201"
      },
      {
       "current": "be13dbec-ecd7-11ef-b381-0242ac120006-17-8997-17f3-a189-c892-97cb-4c86-9b01-013d-44d9-1893",
       "next": "253f9026-1330-11f0-88c4-7e93a5d0b9a2-2-5f5c-f3b8",
       "previous": "24264e68-ecda-11ef-b381-0242ac120006-16-b223-6376-cc54-a05f-042b-cbeb-bb29-763c-9201-276e"
      },
      {
       "current": "be13dbec-ecd7-11ef-b381-0242ac120006-19-a189-c892-97cb-4c86-9b01-013d-44d9-1893-da65-b06d",
       "next": "253f9026-1330-11f0-88c4-7e93a5d0b9a2-4-5f5c-f3b8-07d2-82c8",
       "previous": "24264e68-ecda-11ef-b381-0242ac120006-18-cc54-a05f-042b-cbeb-bb29-763c-9201-276e-e152-8ca5"
      },
      {
       "current": "be13dbec-ecd7-11ef-b381-0242ac120006-20-c892-97cb-4c86-9b01-013d-44d9-1893-da65-b06d-1da3",
       "next": "253f9026-1330-11f0-88c4-7e93a5d0b9a2-6-5f5c-f3b8-07d2-82c8-293c-7293",
       "previous": "24264e68-ecda-11ef-b381-0242ac120006-20-042b-cbeb-bb29-763c-9201-276e-e152-8ca5-ff29-35a1"
      },
      {
       "current": "be13dbec-ecd7-11ef-b381-0242ac120006-21-97cb-4c86-9b01-013d-44d9-1893-da65-b06d-1da3-3c30",
       "next": "253f9026-1330-11f0-88c4-7e93a5d0b9a2-7-5f5c-f3b8-07d2-82c8-293c-7293-d6d8",
       "previous": "24264e68-ecda-11ef-b381-0242ac120006-21-cbeb-bb29-763c-9201-276e-e152-8ca5-ff29-35a1-d86c"
      }
     ],
     "next": "253f9026-1330-11f0-88c4-7e93a5d0b9a2-8-5f5c-f3b8-07d2-82c8-293c-7293-d6d8-9cb6",
     "previous": "24264e68-ecda-11ef-b381-0242ac120006-22-bb29-763c-9201-276e-e152-8ca5-ff29-35a1-d86c-b68e"
    },
    "pinnedOutputTabIndex": 0,
    "run_through_control": {
     "frozen": true,
     "read_only": false
    },
    "slideshow": {
     "slide_type": ""
    },
    "tags": []
   },
   "outputs": [],
   "source": [
    "from getpass import getpass\n",
    "\n",
    "rdm_url = 'https://rdm.example.com/'\n",
    "admin_rdm_url = 'https://admin.rdm.example.com/'\n",
    "\n",
    "# ログインテスト対象のプロジェクト情報 (1) - idp_username_1のユーザーがアクセスできる必要あり\n",
    "rdm_project_url_1 = 'https://rdm.example.com/tvuxd/'\n",
    "rdm_project_name_1 = 'test_login'\n",
    "# ログインテスト対象のプロジェクト情報 (2) - idp_username_1のユーザーがアクセスできてはならない\n",
    "rdm_project_url_2 = 'https://rdm.example.com/xwz59/'\n",
    "\n",
    "idp_name_1 = 'GakuNin RDM IdP'\n",
    "idp_username_1 = None\n",
    "idp_password_1 = None\n",
    "\n",
    "idp_name_2 = 'GakuNin RDM IdP'\n",
    "idp_username_2 = None\n",
    "idp_password_2 = None\n",
    "\n",
    "s3_access_key_1 = None\n",
    "s3_secret_access_key_1 = None\n",
    "s3_default_region_1 = None\n",
    "s3_test_bucket_name_1 = None\n",
    "s3_access_key_2 = None\n",
    "s3_secret_access_key_2 = None\n",
    "s3_default_region_2 = None\n",
    "s3_test_bucket_name_2 = None\n",
    "\n",
    "s3compat_access_key_1 = None\n",
    "s3compat_secret_access_key_1 = None\n",
    "s3compat_default_region_1 = None\n",
    "s3compat_test_bucket_name_1 = None\n",
    "s3compat_access_key_2 = None\n",
    "s3compat_secret_access_key_2 = None\n",
    "s3compat_default_region_2 = None\n",
    "s3compat_test_bucket_name_2 = None\n",
    "s3compat_type_name_1 = 'Wasabi'\n",
    "s3compat_type_name_2 = 'SAKURA Cloud'\n",
    "\n",
    "dropbox_folder_1 = None\n",
    "dropbox_folder_2 = None\n",
    "googledrive_folder_1 = None\n",
    "googledrive_folder_2 = None\n",
    "onedrive_folder_1 = None\n",
    "onedrive_folder_2 = None\n",
    "nextcloud_folder_1 = None\n",
    "nextcloud_folder_2 = None\n",
    "\n",
    "enable_1gb_file_upload = False\n",
    "skip_failed_test = True\n",
    "transition_timeout = 60000\n",
    "skip_preview_check = False\n",
    "\n",
    "skip_default_storage = False\n",
    "skip_metadata = False\n",
    "skip_erad_completion_test = False\n",
    "skip_admin = False\n",
    "\n",
    "storages_oauth = [\n",
    "    {'id': 'dropbox', 'name': 'Dropbox'},\n",
    "    {'id': 'googledrive', 'name': 'Google Drive'},\n",
    "    {'id': 'onedrive', 'name': 'OneDrive'},\n",
    "    {'id': 'nextcloud', 'name': 'Nextcloud'},\n",
    "]\n",
    "\n",
    "storages_s3 = [\n",
    "    {'id': 's3', 'name': 'Amazon S3'},\n",
    "    {'id': 's3compat', 'name': 'S3 Compatible Storage'},\n",
    "]\n",
    "\n",
    "# 管理者機能のテスト用\n",
    "\n",
    "# ログイン可否設定情報\n",
    "admin_entitlement_text = 'GakuNinRDMAdmin:loginNG_VR'\n",
    "\n",
    "# 検索用ノード情報\n",
    "admin_search_node_id = 'xxxxx'\n",
    "admin_search_node_title = 'TEST-METADATA-202502082306'\n",
    "\n",
    "# 検索用ユーザ情報\n",
    "admin_search_user_name = 'Satoshi Yazawa'\n",
    "admin_search_user_by_id = 'xxxxx'\n",
    "admin_search_user_by_name = 'Satoshi'\n",
    "admin_search_user_by_email = 'satoshiyazawa9@example.com'\n",
    "\n",
    "# 検索用Registration情報\n",
    "admin_search_registration_id = 'xxxxx'\n",
    "admin_search_registration_title = 'test-metadata'\n",
    "\n",
    "# アナウンスへの入力用データ\n",
    "admin_announcement_title = 'サンプルタイトル'\n",
    "admin_announcement_body = 'サンプル本文'\n",
    "\n",
    "# 機関選択時の組織\n",
    "admin_target_organization = 'GakuNin RDM IdP'\n",
    "\n",
    "# 証跡管理対象\n",
    "admin_timestamp_project_name = 'TEST-A1-NIIストレージ-ファイル操作-20250426'\n",
    "admin_timestamp_start_date = '2025-04-15'\n",
    "admin_timestamp_end_date = '2025-05-01'\n",
    "admin_timestamp_user = 'TEST USER'\n",
    "\n",
    "# クォータ設定対象\n",
    "admin_quota_user_id = 'xxxxx' # target_organizationに所属している必要あり"
   ]
  },
  {
   "cell_type": "markdown",
   "id": "59500747-a7cf-45ee-adcc-fc917501e15c",
   "metadata": {
    "deletable": true,
    "editable": true,
    "lc_cell_meme": {
     "current": "253f9026-1330-11f0-88c4-7e93a5d0b9a2-11-f3b8-07d2-82c8-293c-7293-d6d8-9cb6-c8dd-f96e-ea6a",
     "history": [
      {
       "current": "253f9026-1330-11f0-88c4-7e93a5d0b9a2-1-5f5c",
       "next": "0b6a3256-ecd8-11ef-b381-0242ac120006-16-4212-13e9-6152-8383-4702-91d2-bdd3-2a5d-2a26-96d6",
       "previous": "be13dbec-ecd7-11ef-b381-0242ac120006-14-5506-ead5-1364-8997-17f3-a189-c892-97cb-4c86-9b01"
      },
      {
       "current": "253f9026-1330-11f0-88c4-7e93a5d0b9a2-1-5f5c",
       "next": "39b0d862-1330-11f0-88c4-7e93a5d0b9a2",
       "previous": "be13dbec-ecd7-11ef-b381-0242ac120006-14-5506-ead5-1364-8997-17f3-a189-c892-97cb-4c86-9b01"
      },
      {
       "current": "253f9026-1330-11f0-88c4-7e93a5d0b9a2-1-5f5c",
       "next": "39b0d862-1330-11f0-88c4-7e93a5d0b9a2",
       "previous": "173d7fda-1333-11f0-88c4-7e93a5d0b9a2"
      },
      {
       "current": "253f9026-1330-11f0-88c4-7e93a5d0b9a2-1-5f5c",
       "next": "39b0d862-1330-11f0-88c4-7e93a5d0b9a2",
       "previous": "be13dbec-ecd7-11ef-b381-0242ac120006-14-5506-ead5-1364-8997-17f3-a189-c892-97cb-4c86-9b01"
      },
      {
       "current": "253f9026-1330-11f0-88c4-7e93a5d0b9a2-1-5f5c",
       "next": "39b0d862-1330-11f0-88c4-7e93a5d0b9a2",
       "previous": "708e57ec-1335-11f0-88c4-7e93a5d0b9a2"
      },
      {
       "current": "253f9026-1330-11f0-88c4-7e93a5d0b9a2-2-5f5c-f3b8",
       "next": "39b0d862-1330-11f0-88c4-7e93a5d0b9a2",
       "previous": "be13dbec-ecd7-11ef-b381-0242ac120006-14-5506-ead5-1364-8997-17f3-a189-c892-97cb-4c86-9b01"
      },
      {
       "current": "253f9026-1330-11f0-88c4-7e93a5d0b9a2-4-5f5c-f3b8-07d2-82c8",
       "next": "39b0d862-1330-11f0-88c4-7e93a5d0b9a2-1-4c08",
       "previous": "be13dbec-ecd7-11ef-b381-0242ac120006-15-ead5-1364-8997-17f3-a189-c892-97cb-4c86-9b01-013d"
      },
      {
       "current": "253f9026-1330-11f0-88c4-7e93a5d0b9a2-6-5f5c-f3b8-07d2-82c8-293c-7293",
       "next": "39b0d862-1330-11f0-88c4-7e93a5d0b9a2-3-4c08-445b-2eaf",
       "previous": "be13dbec-ecd7-11ef-b381-0242ac120006-17-8997-17f3-a189-c892-97cb-4c86-9b01-013d-44d9-1893"
      },
      {
       "current": "253f9026-1330-11f0-88c4-7e93a5d0b9a2-7-5f5c-f3b8-07d2-82c8-293c-7293-d6d8",
       "next": "39b0d862-1330-11f0-88c4-7e93a5d0b9a2-5-4c08-445b-2eaf-909e-93ef",
       "previous": "be13dbec-ecd7-11ef-b381-0242ac120006-19-a189-c892-97cb-4c86-9b01-013d-44d9-1893-da65-b06d"
      },
      {
       "current": "253f9026-1330-11f0-88c4-7e93a5d0b9a2-8-5f5c-f3b8-07d2-82c8-293c-7293-d6d8-9cb6",
       "next": "39b0d862-1330-11f0-88c4-7e93a5d0b9a2-6-4c08-445b-2eaf-909e-93ef-6b0c",
       "previous": "be13dbec-ecd7-11ef-b381-0242ac120006-20-c892-97cb-4c86-9b01-013d-44d9-1893-da65-b06d-1da3"
      }
     ],
     "next": "39b0d862-1330-11f0-88c4-7e93a5d0b9a2-7-4c08-445b-2eaf-909e-93ef-6b0c-89c2",
     "previous": "be13dbec-ecd7-11ef-b381-0242ac120006-21-97cb-4c86-9b01-013d-44d9-1893-da65-b06d-1da3-3c30"
    },
    "pinnedOutputTabIndex": 0,
    "run_through_control": {
     "frozen": false,
     "read_only": false
    }
   },
   "source": [
    "設定ファイルはテスト対象等によって準備する。設定ファイルのパス変更が必要な場合は以下で入力する。"
   ]
  },
  {
   "cell_type": "code",
   "execution_count": 3,
   "id": "6d440d72-eddd-4b39-855e-c431160ec342",
   "metadata": {
    "deletable": false,
    "editable": false,
    "lc_cell_meme": {
     "current": "39b0d862-1330-11f0-88c4-7e93a5d0b9a2-10-4c08-445b-2eaf-909e-93ef-6b0c-89c2-eab7-4d0d-ddff",
     "execution_end_time": "2025-04-06T22:39:08.425Z",
     "history": [
      {
       "current": "39b0d862-1330-11f0-88c4-7e93a5d0b9a2-1-4c08",
       "next": "0b6a3256-ecd8-11ef-b381-0242ac120006-16-4212-13e9-6152-8383-4702-91d2-bdd3-2a5d-2a26-96d6",
       "previous": "253f9026-1330-11f0-88c4-7e93a5d0b9a2-1-5f5c"
      },
      {
       "current": "39b0d862-1330-11f0-88c4-7e93a5d0b9a2-3-4c08-445b-2eaf",
       "next": "0b6a3256-ecd8-11ef-b381-0242ac120006-17-13e9-6152-8383-4702-91d2-bdd3-2a5d-2a26-96d6-1b06",
       "previous": "253f9026-1330-11f0-88c4-7e93a5d0b9a2-2-5f5c-f3b8"
      },
      {
       "current": "39b0d862-1330-11f0-88c4-7e93a5d0b9a2-5-4c08-445b-2eaf-909e-93ef",
       "next": "0b6a3256-ecd8-11ef-b381-0242ac120006-19-8383-4702-91d2-bdd3-2a5d-2a26-96d6-1b06-9578-6756",
       "previous": "253f9026-1330-11f0-88c4-7e93a5d0b9a2-4-5f5c-f3b8-07d2-82c8"
      },
      {
       "current": "39b0d862-1330-11f0-88c4-7e93a5d0b9a2-6-4c08-445b-2eaf-909e-93ef-6b0c",
       "next": "0b6a3256-ecd8-11ef-b381-0242ac120006-21-91d2-bdd3-2a5d-2a26-96d6-1b06-9578-6756-b5f0-d537",
       "previous": "253f9026-1330-11f0-88c4-7e93a5d0b9a2-6-5f5c-f3b8-07d2-82c8-293c-7293"
      },
      {
       "current": "39b0d862-1330-11f0-88c4-7e93a5d0b9a2-7-4c08-445b-2eaf-909e-93ef-6b0c-89c2",
       "next": "0b6a3256-ecd8-11ef-b381-0242ac120006-22-bdd3-2a5d-2a26-96d6-1b06-9578-6756-b5f0-d537-a3e7",
       "previous": "253f9026-1330-11f0-88c4-7e93a5d0b9a2-7-5f5c-f3b8-07d2-82c8-293c-7293-d6d8"
      }
     ],
     "next": "0b6a3256-ecd8-11ef-b381-0242ac120006-23-2a5d-2a26-96d6-1b06-9578-6756-b5f0-d537-a3e7-f765",
     "previous": "253f9026-1330-11f0-88c4-7e93a5d0b9a2-8-5f5c-f3b8-07d2-82c8-293c-7293-d6d8-9cb6"
    },
    "pinnedOutputTabIndex": 0,
    "run_through_control": {
     "frozen": true,
     "read_only": false
    }
   },
   "outputs": [
    {
     "name": "stdout",
     "output_type": "stream",
     "text": [
      "接続先等設定ファイル(YAML)のパスを入力してください。空文字列を入力した場合、 `.config.yaml` となります。 yzwlab.config.yaml\n"
     ]
    },
    {
     "data": {
      "text/plain": [
       "'yzwlab.config.yaml'"
      ]
     },
     "execution_count": 3,
     "metadata": {},
     "output_type": "execute_result"
    }
   ],
   "source": [
    "config_path = input(prompt='接続先等設定ファイル(YAML)のパスを入力してください。空文字列を入力した場合、 `.config.yaml` となります。').strip() or config_path\n",
    "config_path"
   ]
  },
  {
   "cell_type": "code",
   "execution_count": 4,
   "id": "158a5779-6f8d-438b-be78-4557f3086084",
   "metadata": {
    "deletable": false,
    "editable": false,
    "lc_cell_meme": {
     "current": "0b6a3256-ecd8-11ef-b381-0242ac120006-26-1b06-9578-6756-b5f0-d537-a3e7-f765-4c9f-c6c7-bc35",
     "execution_end_time": "2025-03-29T07:27:07.821Z",
     "history": [
      {
       "current": "0b6a3256-ecd8-11ef-b381-0242ac120006",
       "next": "be13dc32-ecd7-11ef-b381-0242ac120006",
       "previous": "be13dbec-ecd7-11ef-b381-0242ac120006"
      },
      {
       "current": "0b6a3256-ecd8-11ef-b381-0242ac120006",
       "next": "be13dc32-ecd7-11ef-b381-0242ac120006",
       "previous": "25b124d0-ecd8-11ef-b381-0242ac120006"
      },
      {
       "current": "0b6a3256-ecd8-11ef-b381-0242ac120006",
       "next": "be13dc32-ecd7-11ef-b381-0242ac120006",
       "previous": "25b124d0-ecd8-11ef-b381-0242ac120006"
      },
      {
       "current": "0b6a3256-ecd8-11ef-b381-0242ac120006-1-e8a9",
       "next": "be13dc32-ecd7-11ef-b381-0242ac120006",
       "previous": "be13dbec-ecd7-11ef-b381-0242ac120006"
      },
      {
       "current": "0b6a3256-ecd8-11ef-b381-0242ac120006-1-e8a9",
       "next": "be13dc32-ecd7-11ef-b381-0242ac120006-1-f4a9",
       "previous": "be13dbec-ecd7-11ef-b381-0242ac120006-1-620e"
      },
      {
       "current": "0b6a3256-ecd8-11ef-b381-0242ac120006-1-e8a9",
       "next": "be13dc32-ecd7-11ef-b381-0242ac120006-1-f4a9",
       "previous": "ea686914-ecec-11ef-a157-0242ac120006"
      },
      {
       "current": "0b6a3256-ecd8-11ef-b381-0242ac120006-2-e8a9-82a5",
       "next": "be13dc32-ecd7-11ef-b381-0242ac120006-1-f4a9",
       "previous": "be13dbec-ecd7-11ef-b381-0242ac120006-1-620e"
      },
      {
       "current": "0b6a3256-ecd8-11ef-b381-0242ac120006-4-e8a9-82a5-f396-4fdc",
       "next": "be13dc32-ecd7-11ef-b381-0242ac120006-2-f4a9-da30",
       "previous": "be13dbec-ecd7-11ef-b381-0242ac120006-2-620e-a152"
      },
      {
       "current": "0b6a3256-ecd8-11ef-b381-0242ac120006-6-e8a9-82a5-f396-4fdc-b40b-6e5b",
       "next": "be13dc32-ecd7-11ef-b381-0242ac120006-4-f4a9-da30-14ab-853b",
       "previous": "be13dbec-ecd7-11ef-b381-0242ac120006-4-620e-a152-f573-98ba"
      },
      {
       "current": "0b6a3256-ecd8-11ef-b381-0242ac120006-9-e8a9-82a5-f396-4fdc-b40b-6e5b-4212-13e9-6152",
       "next": "be13dc32-ecd7-11ef-b381-0242ac120006-6-f4a9-da30-14ab-853b-0cdd-9d73",
       "previous": "be13dbec-ecd7-11ef-b381-0242ac120006-6-620e-a152-f573-98ba-5506-ead5"
      },
      {
       "current": "0b6a3256-ecd8-11ef-b381-0242ac120006-9-e8a9-82a5-f396-4fdc-b40b-6e5b-4212-13e9-6152",
       "next": "be13dc32-ecd7-11ef-b381-0242ac120006-6-f4a9-da30-14ab-853b-0cdd-9d73",
       "previous": "be13dbec-ecd7-11ef-b381-0242ac120006-6-620e-a152-f573-98ba-5506-ead5"
      },
      {
       "current": "0b6a3256-ecd8-11ef-b381-0242ac120006-11-82a5-f396-4fdc-b40b-6e5b-4212-13e9-6152-8383-4702",
       "next": "be13dc32-ecd7-11ef-b381-0242ac120006-8-f4a9-da30-14ab-853b-0cdd-9d73-989c-1306",
       "previous": "be13dbec-ecd7-11ef-b381-0242ac120006-8-620e-a152-f573-98ba-5506-ead5-1364-8997"
      },
      {
       "current": "0b6a3256-ecd8-11ef-b381-0242ac120006-12-f396-4fdc-b40b-6e5b-4212-13e9-6152-8383-4702-91d2",
       "next": "be13dc32-ecd7-11ef-b381-0242ac120006-9-f4a9-da30-14ab-853b-0cdd-9d73-989c-1306-3e4b",
       "previous": "be13dbec-ecd7-11ef-b381-0242ac120006-9-620e-a152-f573-98ba-5506-ead5-1364-8997-17f3"
      },
      {
       "current": "0b6a3256-ecd8-11ef-b381-0242ac120006-14-b40b-6e5b-4212-13e9-6152-8383-4702-91d2-bdd3-2a5d",
       "next": "be13dc32-ecd7-11ef-b381-0242ac120006-10-f4a9-da30-14ab-853b-0cdd-9d73-989c-1306-3e4b-9ea4",
       "previous": "be13dbec-ecd7-11ef-b381-0242ac120006-10-620e-a152-f573-98ba-5506-ead5-1364-8997-17f3-a189"
      },
      {
       "current": "0b6a3256-ecd8-11ef-b381-0242ac120006-14-b40b-6e5b-4212-13e9-6152-8383-4702-91d2-bdd3-2a5d",
       "next": "be13dc32-ecd7-11ef-b381-0242ac120006-12-14ab-853b-0cdd-9d73-989c-1306-3e4b-9ea4-15c2-eb51",
       "previous": "be13dbec-ecd7-11ef-b381-0242ac120006-12-f573-98ba-5506-ead5-1364-8997-17f3-a189-c892-97cb"
      },
      {
       "current": "0b6a3256-ecd8-11ef-b381-0242ac120006-14-b40b-6e5b-4212-13e9-6152-8383-4702-91d2-bdd3-2a5d",
       "next": "be13dc32-ecd7-11ef-b381-0242ac120006-12-14ab-853b-0cdd-9d73-989c-1306-3e4b-9ea4-15c2-eb51",
       "previous": "3791fff2-1114-11f0-acfe-1231102d67ae"
      },
      {
       "current": "0b6a3256-ecd8-11ef-b381-0242ac120006-14-b40b-6e5b-4212-13e9-6152-8383-4702-91d2-bdd3-2a5d",
       "next": "be13dc32-ecd7-11ef-b381-0242ac120006-12-14ab-853b-0cdd-9d73-989c-1306-3e4b-9ea4-15c2-eb51",
       "previous": "be13dbec-ecd7-11ef-b381-0242ac120006-12-f573-98ba-5506-ead5-1364-8997-17f3-a189-c892-97cb"
      },
      {
       "current": "0b6a3256-ecd8-11ef-b381-0242ac120006-14-b40b-6e5b-4212-13e9-6152-8383-4702-91d2-bdd3-2a5d",
       "next": "be13dc32-ecd7-11ef-b381-0242ac120006-12-14ab-853b-0cdd-9d73-989c-1306-3e4b-9ea4-15c2-eb51",
       "previous": "a42e7b22-1119-11f0-acfe-1231102d67ae"
      },
      {
       "current": "0b6a3256-ecd8-11ef-b381-0242ac120006-14-b40b-6e5b-4212-13e9-6152-8383-4702-91d2-bdd3-2a5d",
       "next": "be13dc32-ecd7-11ef-b381-0242ac120006-12-14ab-853b-0cdd-9d73-989c-1306-3e4b-9ea4-15c2-eb51",
       "previous": "be13dbec-ecd7-11ef-b381-0242ac120006-12-f573-98ba-5506-ead5-1364-8997-17f3-a189-c892-97cb"
      },
      {
       "current": "0b6a3256-ecd8-11ef-b381-0242ac120006-14-b40b-6e5b-4212-13e9-6152-8383-4702-91d2-bdd3-2a5d",
       "next": "be13dc32-ecd7-11ef-b381-0242ac120006-12-14ab-853b-0cdd-9d73-989c-1306-3e4b-9ea4-15c2-eb51",
       "previous": "290d17f8-111b-11f0-acfe-1231102d67ae"
      },
      {
       "current": "0b6a3256-ecd8-11ef-b381-0242ac120006-14-b40b-6e5b-4212-13e9-6152-8383-4702-91d2-bdd3-2a5d",
       "next": "be13dc32-ecd7-11ef-b381-0242ac120006-12-14ab-853b-0cdd-9d73-989c-1306-3e4b-9ea4-15c2-eb51",
       "previous": "be13dbec-ecd7-11ef-b381-0242ac120006-12-f573-98ba-5506-ead5-1364-8997-17f3-a189-c892-97cb"
      },
      {
       "current": "0b6a3256-ecd8-11ef-b381-0242ac120006-14-b40b-6e5b-4212-13e9-6152-8383-4702-91d2-bdd3-2a5d",
       "next": "be13dc32-ecd7-11ef-b381-0242ac120006-12-14ab-853b-0cdd-9d73-989c-1306-3e4b-9ea4-15c2-eb51",
       "previous": "b6cf53f2-111c-11f0-acfe-1231102d67ae"
      },
      {
       "current": "0b6a3256-ecd8-11ef-b381-0242ac120006-15-6e5b-4212-13e9-6152-8383-4702-91d2-bdd3-2a5d-2a26",
       "next": "be13dc32-ecd7-11ef-b381-0242ac120006-12-14ab-853b-0cdd-9d73-989c-1306-3e4b-9ea4-15c2-eb51",
       "previous": "be13dbec-ecd7-11ef-b381-0242ac120006-12-f573-98ba-5506-ead5-1364-8997-17f3-a189-c892-97cb"
      },
      {
       "current": "0b6a3256-ecd8-11ef-b381-0242ac120006-16-4212-13e9-6152-8383-4702-91d2-bdd3-2a5d-2a26-96d6",
       "next": "be13dc32-ecd7-11ef-b381-0242ac120006-13-853b-0cdd-9d73-989c-1306-3e4b-9ea4-15c2-eb51-3380",
       "previous": "be13dbec-ecd7-11ef-b381-0242ac120006-13-98ba-5506-ead5-1364-8997-17f3-a189-c892-97cb-4c86"
      },
      {
       "current": "0b6a3256-ecd8-11ef-b381-0242ac120006-16-4212-13e9-6152-8383-4702-91d2-bdd3-2a5d-2a26-96d6",
       "next": "be13dc32-ecd7-11ef-b381-0242ac120006-14-0cdd-9d73-989c-1306-3e4b-9ea4-15c2-eb51-3380-ca65",
       "previous": "253f9026-1330-11f0-88c4-7e93a5d0b9a2"
      },
      {
       "current": "0b6a3256-ecd8-11ef-b381-0242ac120006-16-4212-13e9-6152-8383-4702-91d2-bdd3-2a5d-2a26-96d6",
       "next": "be13dc32-ecd7-11ef-b381-0242ac120006-14-0cdd-9d73-989c-1306-3e4b-9ea4-15c2-eb51-3380-ca65",
       "previous": "253f9026-1330-11f0-88c4-7e93a5d0b9a2"
      },
      {
       "current": "0b6a3256-ecd8-11ef-b381-0242ac120006-16-4212-13e9-6152-8383-4702-91d2-bdd3-2a5d-2a26-96d6",
       "next": "be13dc32-ecd7-11ef-b381-0242ac120006-14-0cdd-9d73-989c-1306-3e4b-9ea4-15c2-eb51-3380-ca65",
       "previous": "253f9026-1330-11f0-88c4-7e93a5d0b9a2-1-5f5c"
      },
      {
       "current": "0b6a3256-ecd8-11ef-b381-0242ac120006-17-13e9-6152-8383-4702-91d2-bdd3-2a5d-2a26-96d6-1b06",
       "next": "be13dc32-ecd7-11ef-b381-0242ac120006-14-0cdd-9d73-989c-1306-3e4b-9ea4-15c2-eb51-3380-ca65",
       "previous": "39b0d862-1330-11f0-88c4-7e93a5d0b9a2"
      },
      {
       "current": "0b6a3256-ecd8-11ef-b381-0242ac120006-19-8383-4702-91d2-bdd3-2a5d-2a26-96d6-1b06-9578-6756",
       "next": "be13dc32-ecd7-11ef-b381-0242ac120006-15-9d73-989c-1306-3e4b-9ea4-15c2-eb51-3380-ca65-7a59",
       "previous": "39b0d862-1330-11f0-88c4-7e93a5d0b9a2-1-4c08"
      },
      {
       "current": "0b6a3256-ecd8-11ef-b381-0242ac120006-21-91d2-bdd3-2a5d-2a26-96d6-1b06-9578-6756-b5f0-d537",
       "next": "be13dc32-ecd7-11ef-b381-0242ac120006-17-1306-3e4b-9ea4-15c2-eb51-3380-ca65-7a59-0061-4856",
       "previous": "39b0d862-1330-11f0-88c4-7e93a5d0b9a2-3-4c08-445b-2eaf"
      },
      {
       "current": "0b6a3256-ecd8-11ef-b381-0242ac120006-22-bdd3-2a5d-2a26-96d6-1b06-9578-6756-b5f0-d537-a3e7",
       "next": "be13dc32-ecd7-11ef-b381-0242ac120006-19-9ea4-15c2-eb51-3380-ca65-7a59-0061-4856-d2d8-b2b2",
       "previous": "39b0d862-1330-11f0-88c4-7e93a5d0b9a2-5-4c08-445b-2eaf-909e-93ef"
      },
      {
       "current": "0b6a3256-ecd8-11ef-b381-0242ac120006-23-2a5d-2a26-96d6-1b06-9578-6756-b5f0-d537-a3e7-f765",
       "next": "be13dc32-ecd7-11ef-b381-0242ac120006-20-15c2-eb51-3380-ca65-7a59-0061-4856-d2d8-b2b2-6157",
       "previous": "39b0d862-1330-11f0-88c4-7e93a5d0b9a2-6-4c08-445b-2eaf-909e-93ef-6b0c"
      }
     ],
     "next": "be13dc32-ecd7-11ef-b381-0242ac120006-21-eb51-3380-ca65-7a59-0061-4856-d2d8-b2b2-6157-8dc4",
     "previous": "39b0d862-1330-11f0-88c4-7e93a5d0b9a2-7-4c08-445b-2eaf-909e-93ef-6b0c-89c2"
    },
    "pinnedOutputTabIndex": 0,
    "run_through_control": {
     "frozen": true,
     "read_only": false
    },
    "slideshow": {
     "slide_type": ""
    },
    "tags": []
   },
   "outputs": [
    {
     "name": "stdout",
     "output_type": "stream",
     "text": [
      "Set rdm_url from yzwlab.config.yaml\n",
      "Set admin_rdm_url from yzwlab.config.yaml\n",
      "Set rdm_project_url_1 from yzwlab.config.yaml\n",
      "Set rdm_project_name_1 from yzwlab.config.yaml\n",
      "Set rdm_project_url_2 from yzwlab.config.yaml\n",
      "Set idp_name_1 from yzwlab.config.yaml\n",
      "Set idp_username_1 from yzwlab.config.yaml\n",
      "Set idp_password_1 from yzwlab.config.yaml\n",
      "Set idp_name_2 from yzwlab.config.yaml\n",
      "Set idp_username_2 from yzwlab.config.yaml\n",
      "Set idp_password_2 from yzwlab.config.yaml\n",
      "Set s3_access_key_1 from yzwlab.config.yaml\n",
      "Set s3_secret_access_key_1 from yzwlab.config.yaml\n",
      "Set s3_default_region_1 from yzwlab.config.yaml\n",
      "Set s3_test_bucket_name_1 from yzwlab.config.yaml\n",
      "Set s3_access_key_2 from yzwlab.config.yaml\n",
      "Set s3_secret_access_key_2 from yzwlab.config.yaml\n",
      "Set s3_default_region_2 from yzwlab.config.yaml\n",
      "Set s3_test_bucket_name_2 from yzwlab.config.yaml\n",
      "Set s3compat_access_key_1 from yzwlab.config.yaml\n",
      "Set s3compat_secret_access_key_1 from yzwlab.config.yaml\n",
      "Set s3compat_test_bucket_name_1 from yzwlab.config.yaml\n",
      "Set s3compat_access_key_2 from yzwlab.config.yaml\n",
      "Set s3compat_secret_access_key_2 from yzwlab.config.yaml\n",
      "Set s3compat_test_bucket_name_2 from yzwlab.config.yaml\n",
      "Set dropbox_folder_1 from yzwlab.config.yaml\n",
      "Set dropbox_folder_2 from yzwlab.config.yaml\n",
      "Set googledrive_folder_1 from yzwlab.config.yaml\n",
      "Set googledrive_folder_2 from yzwlab.config.yaml\n",
      "Set onedrive_folder_1 from yzwlab.config.yaml\n",
      "Set onedrive_folder_2 from yzwlab.config.yaml\n",
      "Set nextcloud_folder_1 from yzwlab.config.yaml\n",
      "Set nextcloud_folder_2 from yzwlab.config.yaml\n",
      "Set enable_1gb_file_upload from yzwlab.config.yaml\n",
      "Set skip_failed_test from yzwlab.config.yaml\n",
      "Set skip_preview_check from yzwlab.config.yaml\n",
      "Set skip_default_storage from yzwlab.config.yaml\n",
      "Set skip_admin from yzwlab.config.yaml\n",
      "Set storages_oauth from yzwlab.config.yaml\n",
      "Set storages_s3 from yzwlab.config.yaml\n"
     ]
    },
    {
     "data": {
      "text/plain": [
       "dict_keys(['idp_name_1', 'idp_password_1', 'idp_username_1', 'idp_name_2', 'idp_password_2', 'idp_username_2', 'enable_1gb_file_upload', 'admin_rdm_url', 'rdm_url', 'rdm_project_url_1', 'rdm_project_name_1', 'rdm_project_url_2', 's3_access_key_1', 's3_access_key_2', 's3_default_region_1', 's3_default_region_2', 's3_secret_access_key_1', 's3_secret_access_key_2', 's3_test_bucket_name_1', 's3_test_bucket_name_2', 's3compat_access_key_1', 's3compat_access_key_2', 's3compat_default_region_1', 's3compat_default_region_2', 's3compat_secret_access_key_1', 's3compat_secret_access_key_2', 's3compat_test_bucket_name_1', 's3compat_test_bucket_name_2', 's3compat_type_name_1', 's3compat_type_name_2', 'dropbox_folder_1', 'dropbox_folder_2', 'googledrive_folder_1', 'googledrive_folder_2', 'onedrive_folder_1', 'onedrive_folder_2', 'nextcloud_folder_1', 'nextcloud_folder_2', 'skip_failed_test', 'transition_timeout', 'skip_preview_check', 'skip_default_storage', 'skip_metadata', 'skip_admin', 'storages_oauth', 'storages_s3'])"
      ]
     },
     "execution_count": 4,
     "metadata": {},
     "output_type": "execute_result"
    }
   ],
   "source": [
    "import os\n",
    "import yaml\n",
    "\n",
    "param_prefixes = [\n",
    "    'idp_',\n",
    "    's3_',\n",
    "    's3compat_',\n",
    "    'dropbox_',\n",
    "    'googledrive_',\n",
    "    'onedrive_',\n",
    "    'nextcloud_',\n",
    "    'enable_',\n",
    "    'storages_',\n",
    "    'skip_',\n",
    "    'transition_timeout',\n",
    "    'admin_',\n",
    "]\n",
    "\n",
    "param_keys = [\n",
    "    k\n",
    "    for k in locals().keys()\n",
    "    if 'rdm_' in k or any([k.startswith(prefix) for prefix in param_prefixes])\n",
    "]\n",
    "\n",
    "config = None\n",
    "if os.path.exists(config_path):\n",
    "    with open(config_path) as f:\n",
    "        config = yaml.load(f.read(), yaml.SafeLoader)\n",
    "        for key in param_keys:\n",
    "            if key not in config:\n",
    "                continue\n",
    "            if locals()[key] == config[key]:\n",
    "                continue\n",
    "            locals()[key] = config[key]\n",
    "            print(f'Set {key} from {config_path}')\n",
    "else:\n",
    "    print(f'設定ファイル {config_path} が見つかりません。無視します。')\n",
    "config.keys() if config else {}"
   ]
  },
  {
   "cell_type": "code",
   "execution_count": 5,
   "id": "a5cf3a48-1556-4551-8d54-5bcb86589b78",
   "metadata": {
    "deletable": false,
    "editable": false,
    "lc_cell_meme": {
     "current": "be13dc32-ecd7-11ef-b381-0242ac120006-24-7a59-0061-4856-d2d8-b2b2-6157-8dc4-2d76-5adf-1fb9",
     "execution_end_time": "2025-02-17T03:02:10.900Z",
     "history": [
      {
       "current": "be13dc32-ecd7-11ef-b381-0242ac120006",
       "next": "c7ff5410-ecd7-11ef-b381-0242ac120006",
       "previous": "be13dbec-ecd7-11ef-b381-0242ac120006"
      },
      {
       "current": "be13dc32-ecd7-11ef-b381-0242ac120006-1-f4a9",
       "next": "c7ff5410-ecd7-11ef-b381-0242ac120006",
       "previous": "0b6a3256-ecd8-11ef-b381-0242ac120006"
      },
      {
       "current": "be13dc32-ecd7-11ef-b381-0242ac120006-2-f4a9-da30",
       "next": "f29fd528-eceb-11ef-a157-0242ac120006",
       "previous": "0b6a3256-ecd8-11ef-b381-0242ac120006-1-e8a9"
      },
      {
       "current": "be13dc32-ecd7-11ef-b381-0242ac120006-4-f4a9-da30-14ab-853b",
       "next": "f29fd528-eceb-11ef-a157-0242ac120006-1-019c",
       "previous": "0b6a3256-ecd8-11ef-b381-0242ac120006-2-e8a9-82a5"
      },
      {
       "current": "be13dc32-ecd7-11ef-b381-0242ac120006-6-f4a9-da30-14ab-853b-0cdd-9d73",
       "next": "f29fd528-eceb-11ef-a157-0242ac120006-3-019c-9263-4055",
       "previous": "0b6a3256-ecd8-11ef-b381-0242ac120006-4-e8a9-82a5-f396-4fdc"
      },
      {
       "current": "be13dc32-ecd7-11ef-b381-0242ac120006-8-f4a9-da30-14ab-853b-0cdd-9d73-989c-1306",
       "next": "f29fd528-eceb-11ef-a157-0242ac120006-5-019c-9263-4055-d2e4-8930",
       "previous": "0b6a3256-ecd8-11ef-b381-0242ac120006-6-e8a9-82a5-f396-4fdc-b40b-6e5b"
      },
      {
       "current": "be13dc32-ecd7-11ef-b381-0242ac120006-8-f4a9-da30-14ab-853b-0cdd-9d73-989c-1306",
       "next": "f29fd528-eceb-11ef-a157-0242ac120006-5-019c-9263-4055-d2e4-8930",
       "previous": "0b6a3256-ecd8-11ef-b381-0242ac120006-6-e8a9-82a5-f396-4fdc-b40b-6e5b"
      },
      {
       "current": "be13dc32-ecd7-11ef-b381-0242ac120006-8-f4a9-da30-14ab-853b-0cdd-9d73-989c-1306",
       "next": "f29fd528-eceb-11ef-a157-0242ac120006-7-019c-9263-4055-d2e4-8930-45a9-e13d",
       "previous": "0b6a3256-ecd8-11ef-b381-0242ac120006-9-e8a9-82a5-f396-4fdc-b40b-6e5b-4212-13e9-6152"
      },
      {
       "current": "be13dc32-ecd7-11ef-b381-0242ac120006-8-f4a9-da30-14ab-853b-0cdd-9d73-989c-1306",
       "next": "f29fd528-eceb-11ef-a157-0242ac120006-7-019c-9263-4055-d2e4-8930-45a9-e13d",
       "previous": "0b6a3256-ecd8-11ef-b381-0242ac120006-9-e8a9-82a5-f396-4fdc-b40b-6e5b-4212-13e9-6152"
      },
      {
       "current": "be13dc32-ecd7-11ef-b381-0242ac120006-8-f4a9-da30-14ab-853b-0cdd-9d73-989c-1306",
       "next": "f29fd528-eceb-11ef-a157-0242ac120006-7-019c-9263-4055-d2e4-8930-45a9-e13d",
       "previous": "0b6a3256-ecd8-11ef-b381-0242ac120006-10-e8a9-82a5-f396-4fdc-b40b-6e5b-4212-13e9-6152-8383"
      },
      {
       "current": "be13dc32-ecd7-11ef-b381-0242ac120006-9-f4a9-da30-14ab-853b-0cdd-9d73-989c-1306-3e4b",
       "next": "c7ff5410-ecd7-11ef-b381-0242ac120006-8-af71-1d65-ee8f-1faa-f6bd-d018-e727-f89c",
       "previous": "0b6a3256-ecd8-11ef-b381-0242ac120006-10-e8a9-82a5-f396-4fdc-b40b-6e5b-4212-13e9-6152-8383"
      },
      {
       "current": "be13dc32-ecd7-11ef-b381-0242ac120006-10-f4a9-da30-14ab-853b-0cdd-9d73-989c-1306-3e4b-9ea4",
       "next": "c7ff5410-ecd7-11ef-b381-0242ac120006-9-af71-1d65-ee8f-1faa-f6bd-d018-e727-f89c-c91e",
       "previous": "0b6a3256-ecd8-11ef-b381-0242ac120006-11-82a5-f396-4fdc-b40b-6e5b-4212-13e9-6152-8383-4702"
      },
      {
       "current": "be13dc32-ecd7-11ef-b381-0242ac120006-12-14ab-853b-0cdd-9d73-989c-1306-3e4b-9ea4-15c2-eb51",
       "next": "1691ee48-0f9d-11f0-ac4d-3e7a738eaee3-1-4927",
       "previous": "0b6a3256-ecd8-11ef-b381-0242ac120006-12-f396-4fdc-b40b-6e5b-4212-13e9-6152-8383-4702-91d2"
      },
      {
       "current": "be13dc32-ecd7-11ef-b381-0242ac120006-13-853b-0cdd-9d73-989c-1306-3e4b-9ea4-15c2-eb51-3380",
       "next": "1691ee48-0f9d-11f0-ac4d-3e7a738eaee3-3-4927-d9f2-e697",
       "previous": "0b6a3256-ecd8-11ef-b381-0242ac120006-14-b40b-6e5b-4212-13e9-6152-8383-4702-91d2-bdd3-2a5d"
      },
      {
       "current": "be13dc32-ecd7-11ef-b381-0242ac120006-14-0cdd-9d73-989c-1306-3e4b-9ea4-15c2-eb51-3380-ca65",
       "next": "1691ee48-0f9d-11f0-ac4d-3e7a738eaee3-4-4927-d9f2-e697-8959",
       "previous": "0b6a3256-ecd8-11ef-b381-0242ac120006-15-6e5b-4212-13e9-6152-8383-4702-91d2-bdd3-2a5d-2a26"
      },
      {
       "current": "be13dc32-ecd7-11ef-b381-0242ac120006-15-9d73-989c-1306-3e4b-9ea4-15c2-eb51-3380-ca65-7a59",
       "next": "1691ee48-0f9d-11f0-ac4d-3e7a738eaee3-5-4927-d9f2-e697-8959-26d1",
       "previous": "0b6a3256-ecd8-11ef-b381-0242ac120006-16-4212-13e9-6152-8383-4702-91d2-bdd3-2a5d-2a26-96d6"
      },
      {
       "current": "be13dc32-ecd7-11ef-b381-0242ac120006-17-1306-3e4b-9ea4-15c2-eb51-3380-ca65-7a59-0061-4856",
       "next": "1691ee48-0f9d-11f0-ac4d-3e7a738eaee3-6-4927-d9f2-e697-8959-26d1-d098",
       "previous": "0b6a3256-ecd8-11ef-b381-0242ac120006-17-13e9-6152-8383-4702-91d2-bdd3-2a5d-2a26-96d6-1b06"
      },
      {
       "current": "be13dc32-ecd7-11ef-b381-0242ac120006-19-9ea4-15c2-eb51-3380-ca65-7a59-0061-4856-d2d8-b2b2",
       "next": "1691ee48-0f9d-11f0-ac4d-3e7a738eaee3-8-4927-d9f2-e697-8959-26d1-d098-00c1-6549",
       "previous": "0b6a3256-ecd8-11ef-b381-0242ac120006-19-8383-4702-91d2-bdd3-2a5d-2a26-96d6-1b06-9578-6756"
      },
      {
       "current": "be13dc32-ecd7-11ef-b381-0242ac120006-20-15c2-eb51-3380-ca65-7a59-0061-4856-d2d8-b2b2-6157",
       "next": "1691ee48-0f9d-11f0-ac4d-3e7a738eaee3-10-4927-d9f2-e697-8959-26d1-d098-00c1-6549-5fa2-029d",
       "previous": "0b6a3256-ecd8-11ef-b381-0242ac120006-21-91d2-bdd3-2a5d-2a26-96d6-1b06-9578-6756-b5f0-d537"
      },
      {
       "current": "be13dc32-ecd7-11ef-b381-0242ac120006-21-eb51-3380-ca65-7a59-0061-4856-d2d8-b2b2-6157-8dc4",
       "next": "1691ee48-0f9d-11f0-ac4d-3e7a738eaee3-11-d9f2-e697-8959-26d1-d098-00c1-6549-5fa2-029d-99a0",
       "previous": "0b6a3256-ecd8-11ef-b381-0242ac120006-22-bdd3-2a5d-2a26-96d6-1b06-9578-6756-b5f0-d537-a3e7"
      },
      {
       "current": "be13dc32-ecd7-11ef-b381-0242ac120006-21-eb51-3380-ca65-7a59-0061-4856-d2d8-b2b2-6157-8dc4",
       "next": "1691ee48-0f9d-11f0-ac4d-3e7a738eaee3-12-e697-8959-26d1-d098-00c1-6549-5fa2-029d-99a0-a3a7",
       "previous": "0b6a3256-ecd8-11ef-b381-0242ac120006-23-2a5d-2a26-96d6-1b06-9578-6756-b5f0-d537-a3e7-f765"
      }
     ],
     "next": "cac026d4-28c3-11f0-84de-32f9ed5d00a6",
     "previous": "0b6a3256-ecd8-11ef-b381-0242ac120006-23-2a5d-2a26-96d6-1b06-9578-6756-b5f0-d537-a3e7-f765"
    },
    "pinnedOutputTabIndex": 0,
    "run_through_control": {
     "frozen": true,
     "read_only": false
    },
    "slideshow": {
     "slide_type": ""
    },
    "tags": []
   },
   "outputs": [
    {
     "data": {
      "text/plain": [
       "(24, 13)"
      ]
     },
     "execution_count": 5,
     "metadata": {},
     "output_type": "execute_result"
    }
   ],
   "source": [
    "if idp_username_1 is None:\n",
    "    idp_username_1 = input(prompt=f'Username for {idp_name_1}')\n",
    "if idp_password_1 is None:\n",
    "    idp_password_1 = getpass(prompt=f'Password for {idp_username_1}@{idp_name_1}')\n",
    "(len(idp_username_1), len(idp_password_1))"
   ]
  },
  {
   "cell_type": "code",
   "execution_count": 6,
   "id": "c4b6437e-a02e-4d94-b659-0e2d07b6e8e3",
   "metadata": {
    "deletable": false,
    "editable": false,
    "lc_cell_meme": {
     "current": "cac026d4-28c3-11f0-84de-32f9ed5d00a6-3-98c6-7724-5106",
     "execution_end_time": "2025-05-04T08:44:13.795Z",
     "next": "1691ee48-0f9d-11f0-ac4d-3e7a738eaee3-12-e697-8959-26d1-d098-00c1-6549-5fa2-029d-99a0-a3a7",
     "previous": "be13dc32-ecd7-11ef-b381-0242ac120006-21-eb51-3380-ca65-7a59-0061-4856-d2d8-b2b2-6157-8dc4"
    },
    "pinnedOutputTabIndex": 0,
    "run_through_control": {
     "frozen": true,
     "read_only": false
    }
   },
   "outputs": [
    {
     "data": {
      "text/plain": [
       "(27, 13)"
      ]
     },
     "execution_count": 6,
     "metadata": {},
     "output_type": "execute_result"
    }
   ],
   "source": [
    "if idp_username_2 is None:\n",
    "    idp_username_2 = input(prompt=f'Username for {idp_name_2}')\n",
    "if idp_password_2 is None:\n",
    "    idp_password_2 = getpass(prompt=f'Password for {idp_username_2}@{idp_name_2}')\n",
    "(len(idp_username_2), len(idp_password_2))"
   ]
  },
  {
   "cell_type": "code",
   "execution_count": 7,
   "id": "1725e39f-d501-4e69-8e76-c37c476e56d1",
   "metadata": {
    "deletable": false,
    "editable": false,
    "lc_cell_meme": {
     "current": "1691ee48-0f9d-11f0-ac4d-3e7a738eaee3-15-d098-00c1-6549-5fa2-029d-99a0-a3a7-bbcf-04e5-5de3",
     "execution_end_time": "2025-04-02T21:48:51.193Z",
     "history": [
      {
       "current": "1691ee48-0f9d-11f0-ac4d-3e7a738eaee3",
       "next": "4f1d97fa-0c26-11f0-98e9-5e0a5654d7bd-6-4202-aef0-78b6-5218-939f-a0d0",
       "previous": "9a6a67cc-0c28-11f0-98e9-5e0a5654d7bd-5-3215-63a8-9043-4ba3-9c01"
      },
      {
       "current": "1691ee48-0f9d-11f0-ac4d-3e7a738eaee3",
       "next": "b97165ca-0fa3-11f0-ac4d-3e7a738eaee3",
       "previous": "9a6a67cc-0c28-11f0-98e9-5e0a5654d7bd-5-3215-63a8-9043-4ba3-9c01"
      },
      {
       "current": "1691ee48-0f9d-11f0-ac4d-3e7a738eaee3-1-4927",
       "next": "71ba4578-0fab-11f0-ac4d-3e7a738eaee3",
       "previous": "9a6a67cc-0c28-11f0-98e9-5e0a5654d7bd-5-3215-63a8-9043-4ba3-9c01"
      },
      {
       "current": "1691ee48-0f9d-11f0-ac4d-3e7a738eaee3-3-4927-d9f2-e697",
       "next": "71ba4578-0fab-11f0-ac4d-3e7a738eaee3-1-4636",
       "previous": "be13dc32-ecd7-11ef-b381-0242ac120006-10-f4a9-da30-14ab-853b-0cdd-9d73-989c-1306-3e4b-9ea4"
      },
      {
       "current": "1691ee48-0f9d-11f0-ac4d-3e7a738eaee3-4-4927-d9f2-e697-8959",
       "next": "71ba4578-0fab-11f0-ac4d-3e7a738eaee3-3-4636-de2e-9f37",
       "previous": "be13dc32-ecd7-11ef-b381-0242ac120006-12-14ab-853b-0cdd-9d73-989c-1306-3e4b-9ea4-15c2-eb51"
      },
      {
       "current": "1691ee48-0f9d-11f0-ac4d-3e7a738eaee3-5-4927-d9f2-e697-8959-26d1",
       "next": "71ba4578-0fab-11f0-ac4d-3e7a738eaee3-4-4636-de2e-9f37-faa9",
       "previous": "be13dc32-ecd7-11ef-b381-0242ac120006-13-853b-0cdd-9d73-989c-1306-3e4b-9ea4-15c2-eb51-3380"
      },
      {
       "current": "1691ee48-0f9d-11f0-ac4d-3e7a738eaee3-6-4927-d9f2-e697-8959-26d1-d098",
       "next": "71ba4578-0fab-11f0-ac4d-3e7a738eaee3-5-4636-de2e-9f37-faa9-e13d",
       "previous": "be13dc32-ecd7-11ef-b381-0242ac120006-14-0cdd-9d73-989c-1306-3e4b-9ea4-15c2-eb51-3380-ca65"
      },
      {
       "current": "1691ee48-0f9d-11f0-ac4d-3e7a738eaee3-8-4927-d9f2-e697-8959-26d1-d098-00c1-6549",
       "next": "71ba4578-0fab-11f0-ac4d-3e7a738eaee3-6-4636-de2e-9f37-faa9-e13d-9642",
       "previous": "be13dc32-ecd7-11ef-b381-0242ac120006-15-9d73-989c-1306-3e4b-9ea4-15c2-eb51-3380-ca65-7a59"
      },
      {
       "current": "1691ee48-0f9d-11f0-ac4d-3e7a738eaee3-10-4927-d9f2-e697-8959-26d1-d098-00c1-6549-5fa2-029d",
       "next": "71ba4578-0fab-11f0-ac4d-3e7a738eaee3-8-4636-de2e-9f37-faa9-e13d-9642-faef-5a77",
       "previous": "be13dc32-ecd7-11ef-b381-0242ac120006-17-1306-3e4b-9ea4-15c2-eb51-3380-ca65-7a59-0061-4856"
      },
      {
       "current": "1691ee48-0f9d-11f0-ac4d-3e7a738eaee3-11-d9f2-e697-8959-26d1-d098-00c1-6549-5fa2-029d-99a0",
       "next": "71ba4578-0fab-11f0-ac4d-3e7a738eaee3-10-4636-de2e-9f37-faa9-e13d-9642-faef-5a77-a78c-cd91",
       "previous": "be13dc32-ecd7-11ef-b381-0242ac120006-19-9ea4-15c2-eb51-3380-ca65-7a59-0061-4856-d2d8-b2b2"
      },
      {
       "current": "1691ee48-0f9d-11f0-ac4d-3e7a738eaee3-12-e697-8959-26d1-d098-00c1-6549-5fa2-029d-99a0-a3a7",
       "next": "71ba4578-0fab-11f0-ac4d-3e7a738eaee3-11-de2e-9f37-faa9-e13d-9642-faef-5a77-a78c-cd91-a353",
       "previous": "be13dc32-ecd7-11ef-b381-0242ac120006-20-15c2-eb51-3380-ca65-7a59-0061-4856-d2d8-b2b2-6157"
      },
      {
       "current": "1691ee48-0f9d-11f0-ac4d-3e7a738eaee3-12-e697-8959-26d1-d098-00c1-6549-5fa2-029d-99a0-a3a7",
       "next": "71ba4578-0fab-11f0-ac4d-3e7a738eaee3-12-9f37-faa9-e13d-9642-faef-5a77-a78c-cd91-a353-59ea",
       "previous": "be13dc32-ecd7-11ef-b381-0242ac120006-21-eb51-3380-ca65-7a59-0061-4856-d2d8-b2b2-6157-8dc4"
      }
     ],
     "next": "71ba4578-0fab-11f0-ac4d-3e7a738eaee3-12-9f37-faa9-e13d-9642-faef-5a77-a78c-cd91-a353-59ea",
     "previous": "cac026d4-28c3-11f0-84de-32f9ed5d00a6"
    },
    "pinnedOutputTabIndex": 0,
    "run_through_control": {
     "frozen": true,
     "read_only": false
    }
   },
   "outputs": [],
   "source": [
    "if s3_access_key_1 is None:\n",
    "    s3_access_key_1 = input(prompt='Amazon S3 Access Key #1')\n",
    "if s3_secret_access_key_1 is None:\n",
    "    s3_secret_access_key_1 = getpass(prompt='Amazon S3 Secret Access Key #1')\n",
    "if s3_default_region_1 is None:\n",
    "    s3_default_region_1 = input(prompt='Amazon S3 Region #1')\n",
    "if s3_test_bucket_name_1 is None:\n",
    "    s3_test_bucket_name_1 = input('Amazon S3 Bucket Name #1')\n",
    "(s3_access_key_1, s3_default_region_1, s3_test_bucket_name_1)"
   ]
  },
  {
   "cell_type": "code",
   "execution_count": 8,
   "id": "553b5b06-38fd-4490-980f-1d26855aa2aa",
   "metadata": {
    "deletable": false,
    "editable": false,
    "lc_cell_meme": {
     "current": "71ba4578-0fab-11f0-ac4d-3e7a738eaee3-15-9642-faef-5a77-a78c-cd91-a353-59ea-3190-3a0e-6a4d",
     "execution_end_time": "2025-04-02T21:48:51.541Z",
     "history": [
      {
       "current": "71ba4578-0fab-11f0-ac4d-3e7a738eaee3",
       "next": "4f1d97fa-0c26-11f0-98e9-5e0a5654d7bd-6-4202-aef0-78b6-5218-939f-a0d0",
       "previous": "b97165ca-0fa3-11f0-ac4d-3e7a738eaee3"
      },
      {
       "current": "71ba4578-0fab-11f0-ac4d-3e7a738eaee3",
       "next": "4f1d97fa-0c26-11f0-98e9-5e0a5654d7bd-6-4202-aef0-78b6-5218-939f-a0d0",
       "previous": "1691ee48-0f9d-11f0-ac4d-3e7a738eaee3"
      },
      {
       "current": "71ba4578-0fab-11f0-ac4d-3e7a738eaee3",
       "next": "2f2c5154-0fc1-11f0-ac4d-3e7a738eaee3",
       "previous": "1691ee48-0f9d-11f0-ac4d-3e7a738eaee3"
      },
      {
       "current": "71ba4578-0fab-11f0-ac4d-3e7a738eaee3-1-4636",
       "next": "4f1d97fa-0c26-11f0-98e9-5e0a5654d7bd-6-4202-aef0-78b6-5218-939f-a0d0",
       "previous": "1691ee48-0f9d-11f0-ac4d-3e7a738eaee3"
      },
      {
       "current": "71ba4578-0fab-11f0-ac4d-3e7a738eaee3-3-4636-de2e-9f37",
       "next": "c7ff5410-ecd7-11ef-b381-0242ac120006-10-af71-1d65-ee8f-1faa-f6bd-d018-e727-f89c-c91e-d9cd",
       "previous": "1691ee48-0f9d-11f0-ac4d-3e7a738eaee3-1-4927"
      },
      {
       "current": "71ba4578-0fab-11f0-ac4d-3e7a738eaee3-3-4636-de2e-9f37",
       "next": "c7ff5410-ecd7-11ef-b381-0242ac120006-12-ee8f-1faa-f6bd-d018-e727-f89c-c91e-d9cd-583e-eb7e",
       "previous": "1691ee48-0f9d-11f0-ac4d-3e7a738eaee3-3-4927-d9f2-e697"
      },
      {
       "current": "71ba4578-0fab-11f0-ac4d-3e7a738eaee3-3-4636-de2e-9f37",
       "next": "c0bf013a-10f6-11f0-acfe-1231102d67ae",
       "previous": "1691ee48-0f9d-11f0-ac4d-3e7a738eaee3-3-4927-d9f2-e697"
      },
      {
       "current": "71ba4578-0fab-11f0-ac4d-3e7a738eaee3-3-4636-de2e-9f37",
       "next": "caed385c-10f6-11f0-acfe-1231102d67ae",
       "previous": "1691ee48-0f9d-11f0-ac4d-3e7a738eaee3-3-4927-d9f2-e697"
      },
      {
       "current": "71ba4578-0fab-11f0-ac4d-3e7a738eaee3-3-4636-de2e-9f37",
       "next": "c0bf013a-10f6-11f0-acfe-1231102d67ae",
       "previous": "1691ee48-0f9d-11f0-ac4d-3e7a738eaee3-3-4927-d9f2-e697"
      },
      {
       "current": "71ba4578-0fab-11f0-ac4d-3e7a738eaee3-3-4636-de2e-9f37",
       "next": "caed385c-10f6-11f0-acfe-1231102d67ae-1-55c5",
       "previous": "1691ee48-0f9d-11f0-ac4d-3e7a738eaee3-3-4927-d9f2-e697"
      },
      {
       "current": "71ba4578-0fab-11f0-ac4d-3e7a738eaee3-4-4636-de2e-9f37-faa9",
       "next": "c0bf013a-10f6-11f0-acfe-1231102d67ae",
       "previous": "1691ee48-0f9d-11f0-ac4d-3e7a738eaee3-3-4927-d9f2-e697"
      },
      {
       "current": "71ba4578-0fab-11f0-ac4d-3e7a738eaee3-5-4636-de2e-9f37-faa9-e13d",
       "next": "c0bf013a-10f6-11f0-acfe-1231102d67ae-1-0acd",
       "previous": "1691ee48-0f9d-11f0-ac4d-3e7a738eaee3-4-4927-d9f2-e697-8959"
      },
      {
       "current": "71ba4578-0fab-11f0-ac4d-3e7a738eaee3-6-4636-de2e-9f37-faa9-e13d-9642",
       "next": "c0bf013a-10f6-11f0-acfe-1231102d67ae-2-0acd-814c",
       "previous": "1691ee48-0f9d-11f0-ac4d-3e7a738eaee3-5-4927-d9f2-e697-8959-26d1"
      },
      {
       "current": "71ba4578-0fab-11f0-ac4d-3e7a738eaee3-8-4636-de2e-9f37-faa9-e13d-9642-faef-5a77",
       "next": "c0bf013a-10f6-11f0-acfe-1231102d67ae-3-0acd-814c-9970",
       "previous": "1691ee48-0f9d-11f0-ac4d-3e7a738eaee3-6-4927-d9f2-e697-8959-26d1-d098"
      },
      {
       "current": "71ba4578-0fab-11f0-ac4d-3e7a738eaee3-10-4636-de2e-9f37-faa9-e13d-9642-faef-5a77-a78c-cd91",
       "next": "c0bf013a-10f6-11f0-acfe-1231102d67ae-5-0acd-814c-9970-9597-89f6",
       "previous": "1691ee48-0f9d-11f0-ac4d-3e7a738eaee3-8-4927-d9f2-e697-8959-26d1-d098-00c1-6549"
      },
      {
       "current": "71ba4578-0fab-11f0-ac4d-3e7a738eaee3-11-de2e-9f37-faa9-e13d-9642-faef-5a77-a78c-cd91-a353",
       "next": "c0bf013a-10f6-11f0-acfe-1231102d67ae-7-0acd-814c-9970-9597-89f6-7819-0795",
       "previous": "1691ee48-0f9d-11f0-ac4d-3e7a738eaee3-10-4927-d9f2-e697-8959-26d1-d098-00c1-6549-5fa2-029d"
      },
      {
       "current": "71ba4578-0fab-11f0-ac4d-3e7a738eaee3-12-9f37-faa9-e13d-9642-faef-5a77-a78c-cd91-a353-59ea",
       "next": "1691ee48-0f9d-11f0-ac4d-3e7a738eaee3-12-e697-8959-26d1-d098-00c1-6549-5fa2-029d-99a0-df3b",
       "previous": "1691ee48-0f9d-11f0-ac4d-3e7a738eaee3-11-d9f2-e697-8959-26d1-d098-00c1-6549-5fa2-029d-99a0"
      }
     ],
     "next": "1691ee48-0f9d-11f0-ac4d-3e7a738eaee3-13-8959-26d1-d098-00c1-6549-5fa2-029d-99a0-df3b-8719",
     "previous": "1691ee48-0f9d-11f0-ac4d-3e7a738eaee3-12-e697-8959-26d1-d098-00c1-6549-5fa2-029d-99a0-a3a7"
    },
    "pinnedOutputTabIndex": 0,
    "run_through_control": {
     "frozen": true,
     "read_only": false
    }
   },
   "outputs": [],
   "source": [
    "# S3認証キー #2 は #1 と異なるアカウントのものである必要あり\n",
    "if s3_access_key_2 is None:\n",
    "    s3_access_key_2 = input(prompt='Amazon S3 Access Key #2')\n",
    "if s3_secret_access_key_2 is None:\n",
    "    s3_secret_access_key_2 = getpass(prompt='Amazon S3 Secret Access Key #2')\n",
    "if s3_default_region_2 is None:\n",
    "    s3_default_region_2 = input(prompt='Amazon S3 Region #2')\n",
    "if s3_test_bucket_name_2 is None:\n",
    "    s3_test_bucket_name_2 = input('Amazon S3 Bucket Name #2')\n",
    "(s3_access_key_2, s3_default_region_2, s3_test_bucket_name_2)"
   ]
  },
  {
   "cell_type": "code",
   "execution_count": 9,
   "id": "04c3c0b4-d820-48b8-aaaf-77ae1437d9c7",
   "metadata": {
    "deletable": false,
    "editable": false,
    "lc_cell_meme": {
     "current": "1691ee48-0f9d-11f0-ac4d-3e7a738eaee3-16-00c1-6549-5fa2-029d-99a0-df3b-8719-3af2-e2dd-d323",
     "execution_end_time": "2025-04-19T02:40:13.573Z",
     "history": [
      {
       "current": "1691ee48-0f9d-11f0-ac4d-3e7a738eaee3",
       "next": "4f1d97fa-0c26-11f0-98e9-5e0a5654d7bd-6-4202-aef0-78b6-5218-939f-a0d0",
       "previous": "9a6a67cc-0c28-11f0-98e9-5e0a5654d7bd-5-3215-63a8-9043-4ba3-9c01"
      },
      {
       "current": "1691ee48-0f9d-11f0-ac4d-3e7a738eaee3",
       "next": "b97165ca-0fa3-11f0-ac4d-3e7a738eaee3",
       "previous": "9a6a67cc-0c28-11f0-98e9-5e0a5654d7bd-5-3215-63a8-9043-4ba3-9c01"
      },
      {
       "current": "1691ee48-0f9d-11f0-ac4d-3e7a738eaee3-1-4927",
       "next": "71ba4578-0fab-11f0-ac4d-3e7a738eaee3",
       "previous": "9a6a67cc-0c28-11f0-98e9-5e0a5654d7bd-5-3215-63a8-9043-4ba3-9c01"
      },
      {
       "current": "1691ee48-0f9d-11f0-ac4d-3e7a738eaee3-3-4927-d9f2-e697",
       "next": "71ba4578-0fab-11f0-ac4d-3e7a738eaee3-1-4636",
       "previous": "be13dc32-ecd7-11ef-b381-0242ac120006-10-f4a9-da30-14ab-853b-0cdd-9d73-989c-1306-3e4b-9ea4"
      },
      {
       "current": "1691ee48-0f9d-11f0-ac4d-3e7a738eaee3-4-4927-d9f2-e697-8959",
       "next": "71ba4578-0fab-11f0-ac4d-3e7a738eaee3-3-4636-de2e-9f37",
       "previous": "be13dc32-ecd7-11ef-b381-0242ac120006-12-14ab-853b-0cdd-9d73-989c-1306-3e4b-9ea4-15c2-eb51"
      },
      {
       "current": "1691ee48-0f9d-11f0-ac4d-3e7a738eaee3-5-4927-d9f2-e697-8959-26d1",
       "next": "71ba4578-0fab-11f0-ac4d-3e7a738eaee3-4-4636-de2e-9f37-faa9",
       "previous": "be13dc32-ecd7-11ef-b381-0242ac120006-13-853b-0cdd-9d73-989c-1306-3e4b-9ea4-15c2-eb51-3380"
      },
      {
       "current": "1691ee48-0f9d-11f0-ac4d-3e7a738eaee3-6-4927-d9f2-e697-8959-26d1-d098",
       "next": "71ba4578-0fab-11f0-ac4d-3e7a738eaee3-5-4636-de2e-9f37-faa9-e13d",
       "previous": "be13dc32-ecd7-11ef-b381-0242ac120006-14-0cdd-9d73-989c-1306-3e4b-9ea4-15c2-eb51-3380-ca65"
      },
      {
       "current": "1691ee48-0f9d-11f0-ac4d-3e7a738eaee3-8-4927-d9f2-e697-8959-26d1-d098-00c1-6549",
       "next": "71ba4578-0fab-11f0-ac4d-3e7a738eaee3-6-4636-de2e-9f37-faa9-e13d-9642",
       "previous": "be13dc32-ecd7-11ef-b381-0242ac120006-15-9d73-989c-1306-3e4b-9ea4-15c2-eb51-3380-ca65-7a59"
      },
      {
       "current": "1691ee48-0f9d-11f0-ac4d-3e7a738eaee3-10-4927-d9f2-e697-8959-26d1-d098-00c1-6549-5fa2-029d",
       "next": "71ba4578-0fab-11f0-ac4d-3e7a738eaee3-8-4636-de2e-9f37-faa9-e13d-9642-faef-5a77",
       "previous": "be13dc32-ecd7-11ef-b381-0242ac120006-17-1306-3e4b-9ea4-15c2-eb51-3380-ca65-7a59-0061-4856"
      },
      {
       "current": "1691ee48-0f9d-11f0-ac4d-3e7a738eaee3-12-e697-8959-26d1-d098-00c1-6549-5fa2-029d-99a0-df3b",
       "next": "71ba4578-0fab-11f0-ac4d-3e7a738eaee3-10-4636-de2e-9f37-faa9-e13d-9642-faef-5a77-a78c-cd91",
       "previous": "be13dc32-ecd7-11ef-b381-0242ac120006-19-9ea4-15c2-eb51-3380-ca65-7a59-0061-4856-d2d8-b2b2"
      },
      {
       "current": "1691ee48-0f9d-11f0-ac4d-3e7a738eaee3-13-8959-26d1-d098-00c1-6549-5fa2-029d-99a0-df3b-8719",
       "next": "71ba4578-0fab-11f0-ac4d-3e7a738eaee3-12-9f37-faa9-e13d-9642-faef-5a77-a78c-cd91-a353-6f68",
       "previous": "71ba4578-0fab-11f0-ac4d-3e7a738eaee3-11-de2e-9f37-faa9-e13d-9642-faef-5a77-a78c-cd91-a353"
      }
     ],
     "next": "71ba4578-0fab-11f0-ac4d-3e7a738eaee3-13-faa9-e13d-9642-faef-5a77-a78c-cd91-a353-6f68-0b39",
     "previous": "71ba4578-0fab-11f0-ac4d-3e7a738eaee3-12-9f37-faa9-e13d-9642-faef-5a77-a78c-cd91-a353-59ea"
    },
    "pinnedOutputTabIndex": 0,
    "run_through_control": {
     "frozen": true,
     "read_only": false
    }
   },
   "outputs": [
    {
     "data": {
      "text/plain": [
       "('72EX94UKB1BBM5CMFQOA', '', 'grdm-system-test-selenium')"
      ]
     },
     "execution_count": 9,
     "metadata": {},
     "output_type": "execute_result"
    }
   ],
   "source": [
    "if s3compat_access_key_1 is None:\n",
    "    s3compat_access_key_1 = input(prompt='S3 Compatible Storage Access Key #1')\n",
    "if s3compat_secret_access_key_1 is None:\n",
    "    s3compat_secret_access_key_1 = getpass(prompt='S3 Compatible Storage Secret Access Key #1')\n",
    "if s3compat_default_region_1 is None:\n",
    "    s3compat_default_region_1 = ''\n",
    "if s3compat_test_bucket_name_1 is None:\n",
    "    s3compat_test_bucket_name_1 = input('S3 Compatible Storage Bucket Name #1')\n",
    "(s3compat_access_key_1, s3compat_default_region_1, s3compat_test_bucket_name_1)"
   ]
  },
  {
   "cell_type": "code",
   "execution_count": 10,
   "id": "fe4e604d-2f4c-4b09-a9c1-f243a73be0a7",
   "metadata": {
    "deletable": false,
    "editable": false,
    "lc_cell_meme": {
     "current": "71ba4578-0fab-11f0-ac4d-3e7a738eaee3-16-faef-5a77-a78c-cd91-a353-6f68-0b39-ebf2-ba9f-eb20",
     "execution_end_time": "2025-04-19T02:40:13.597Z",
     "history": [
      {
       "current": "71ba4578-0fab-11f0-ac4d-3e7a738eaee3",
       "next": "4f1d97fa-0c26-11f0-98e9-5e0a5654d7bd-6-4202-aef0-78b6-5218-939f-a0d0",
       "previous": "b97165ca-0fa3-11f0-ac4d-3e7a738eaee3"
      },
      {
       "current": "71ba4578-0fab-11f0-ac4d-3e7a738eaee3",
       "next": "4f1d97fa-0c26-11f0-98e9-5e0a5654d7bd-6-4202-aef0-78b6-5218-939f-a0d0",
       "previous": "1691ee48-0f9d-11f0-ac4d-3e7a738eaee3"
      },
      {
       "current": "71ba4578-0fab-11f0-ac4d-3e7a738eaee3",
       "next": "2f2c5154-0fc1-11f0-ac4d-3e7a738eaee3",
       "previous": "1691ee48-0f9d-11f0-ac4d-3e7a738eaee3"
      },
      {
       "current": "71ba4578-0fab-11f0-ac4d-3e7a738eaee3-1-4636",
       "next": "4f1d97fa-0c26-11f0-98e9-5e0a5654d7bd-6-4202-aef0-78b6-5218-939f-a0d0",
       "previous": "1691ee48-0f9d-11f0-ac4d-3e7a738eaee3"
      },
      {
       "current": "71ba4578-0fab-11f0-ac4d-3e7a738eaee3-3-4636-de2e-9f37",
       "next": "c7ff5410-ecd7-11ef-b381-0242ac120006-10-af71-1d65-ee8f-1faa-f6bd-d018-e727-f89c-c91e-d9cd",
       "previous": "1691ee48-0f9d-11f0-ac4d-3e7a738eaee3-1-4927"
      },
      {
       "current": "71ba4578-0fab-11f0-ac4d-3e7a738eaee3-3-4636-de2e-9f37",
       "next": "c7ff5410-ecd7-11ef-b381-0242ac120006-12-ee8f-1faa-f6bd-d018-e727-f89c-c91e-d9cd-583e-eb7e",
       "previous": "1691ee48-0f9d-11f0-ac4d-3e7a738eaee3-3-4927-d9f2-e697"
      },
      {
       "current": "71ba4578-0fab-11f0-ac4d-3e7a738eaee3-3-4636-de2e-9f37",
       "next": "c0bf013a-10f6-11f0-acfe-1231102d67ae",
       "previous": "1691ee48-0f9d-11f0-ac4d-3e7a738eaee3-3-4927-d9f2-e697"
      },
      {
       "current": "71ba4578-0fab-11f0-ac4d-3e7a738eaee3-3-4636-de2e-9f37",
       "next": "caed385c-10f6-11f0-acfe-1231102d67ae",
       "previous": "1691ee48-0f9d-11f0-ac4d-3e7a738eaee3-3-4927-d9f2-e697"
      },
      {
       "current": "71ba4578-0fab-11f0-ac4d-3e7a738eaee3-3-4636-de2e-9f37",
       "next": "c0bf013a-10f6-11f0-acfe-1231102d67ae",
       "previous": "1691ee48-0f9d-11f0-ac4d-3e7a738eaee3-3-4927-d9f2-e697"
      },
      {
       "current": "71ba4578-0fab-11f0-ac4d-3e7a738eaee3-3-4636-de2e-9f37",
       "next": "caed385c-10f6-11f0-acfe-1231102d67ae-1-55c5",
       "previous": "1691ee48-0f9d-11f0-ac4d-3e7a738eaee3-3-4927-d9f2-e697"
      },
      {
       "current": "71ba4578-0fab-11f0-ac4d-3e7a738eaee3-4-4636-de2e-9f37-faa9",
       "next": "c0bf013a-10f6-11f0-acfe-1231102d67ae",
       "previous": "1691ee48-0f9d-11f0-ac4d-3e7a738eaee3-3-4927-d9f2-e697"
      },
      {
       "current": "71ba4578-0fab-11f0-ac4d-3e7a738eaee3-5-4636-de2e-9f37-faa9-e13d",
       "next": "c0bf013a-10f6-11f0-acfe-1231102d67ae-1-0acd",
       "previous": "1691ee48-0f9d-11f0-ac4d-3e7a738eaee3-4-4927-d9f2-e697-8959"
      },
      {
       "current": "71ba4578-0fab-11f0-ac4d-3e7a738eaee3-6-4636-de2e-9f37-faa9-e13d-9642",
       "next": "c0bf013a-10f6-11f0-acfe-1231102d67ae-2-0acd-814c",
       "previous": "1691ee48-0f9d-11f0-ac4d-3e7a738eaee3-5-4927-d9f2-e697-8959-26d1"
      },
      {
       "current": "71ba4578-0fab-11f0-ac4d-3e7a738eaee3-8-4636-de2e-9f37-faa9-e13d-9642-faef-5a77",
       "next": "c0bf013a-10f6-11f0-acfe-1231102d67ae-3-0acd-814c-9970",
       "previous": "1691ee48-0f9d-11f0-ac4d-3e7a738eaee3-6-4927-d9f2-e697-8959-26d1-d098"
      },
      {
       "current": "71ba4578-0fab-11f0-ac4d-3e7a738eaee3-10-4636-de2e-9f37-faa9-e13d-9642-faef-5a77-a78c-cd91",
       "next": "c0bf013a-10f6-11f0-acfe-1231102d67ae-5-0acd-814c-9970-9597-89f6",
       "previous": "1691ee48-0f9d-11f0-ac4d-3e7a738eaee3-8-4927-d9f2-e697-8959-26d1-d098-00c1-6549"
      },
      {
       "current": "71ba4578-0fab-11f0-ac4d-3e7a738eaee3-12-9f37-faa9-e13d-9642-faef-5a77-a78c-cd91-a353-6f68",
       "next": "c0bf013a-10f6-11f0-acfe-1231102d67ae-7-0acd-814c-9970-9597-89f6-7819-0795",
       "previous": "1691ee48-0f9d-11f0-ac4d-3e7a738eaee3-10-4927-d9f2-e697-8959-26d1-d098-00c1-6549-5fa2-029d"
      },
      {
       "current": "71ba4578-0fab-11f0-ac4d-3e7a738eaee3-13-faa9-e13d-9642-faef-5a77-a78c-cd91-a353-6f68-0b39",
       "next": "c0bf013a-10f6-11f0-acfe-1231102d67ae-8-0acd-814c-9970-9597-89f6-7819-0795-9908",
       "previous": "1691ee48-0f9d-11f0-ac4d-3e7a738eaee3-12-e697-8959-26d1-d098-00c1-6549-5fa2-029d-99a0-df3b"
      }
     ],
     "next": "c0bf013a-10f6-11f0-acfe-1231102d67ae-9-0acd-814c-9970-9597-89f6-7819-0795-9908-5fbd",
     "previous": "1691ee48-0f9d-11f0-ac4d-3e7a738eaee3-13-8959-26d1-d098-00c1-6549-5fa2-029d-99a0-df3b-8719"
    },
    "pinnedOutputTabIndex": 0,
    "run_through_control": {
     "frozen": true,
     "read_only": false
    }
   },
   "outputs": [
    {
     "data": {
      "text/plain": [
       "('DE367XHQWCLCJMUM191I', '', 'grdm-test-bucket')"
      ]
     },
     "execution_count": 10,
     "metadata": {},
     "output_type": "execute_result"
    }
   ],
   "source": [
    "# S3認証キー #2 は #1 と異なるアカウントのものである必要あり\n",
    "if s3compat_access_key_2 is None:\n",
    "    s3compat_access_key_2 = input(prompt='S3 Compatible Storage Access Key #2')\n",
    "if s3compat_secret_access_key_2 is None:\n",
    "    s3compat_secret_access_key_2 = getpass(prompt='S3 Compatible Storage Secret Access Key #2')\n",
    "if s3compat_default_region_2 is None:\n",
    "    s3compat_default_region_2 = ''\n",
    "if s3compat_test_bucket_name_2 is None:\n",
    "    s3compat_test_bucket_name_2 = input('S3 Compatible Storage Bucket Name #2')\n",
    "(s3compat_access_key_2, s3compat_default_region_2, s3compat_test_bucket_name_2)"
   ]
  },
  {
   "cell_type": "code",
   "execution_count": 11,
   "id": "6969bc3f-191d-40eb-a079-30666b5f8c72",
   "metadata": {
    "deletable": false,
    "editable": false,
    "lc_cell_meme": {
     "current": "c0bf013a-10f6-11f0-acfe-1231102d67ae-12-9970-9597-89f6-7819-0795-9908-5fbd-d217-eca2-2527",
     "execution_end_time": "2025-04-04T06:26:05.576Z",
     "history": [
      {
       "current": "c0bf013a-10f6-11f0-acfe-1231102d67ae",
       "next": "c7ff5410-ecd7-11ef-b381-0242ac120006-12-ee8f-1faa-f6bd-d018-e727-f89c-c91e-d9cd-583e-eb7e",
       "previous": "71ba4578-0fab-11f0-ac4d-3e7a738eaee3-3-4636-de2e-9f37"
      },
      {
       "current": "c0bf013a-10f6-11f0-acfe-1231102d67ae",
       "next": "c7ff5410-ecd7-11ef-b381-0242ac120006-12-ee8f-1faa-f6bd-d018-e727-f89c-c91e-d9cd-583e-eb7e",
       "previous": "caed385c-10f6-11f0-acfe-1231102d67ae"
      },
      {
       "current": "c0bf013a-10f6-11f0-acfe-1231102d67ae",
       "next": "c7ff5410-ecd7-11ef-b381-0242ac120006-12-ee8f-1faa-f6bd-d018-e727-f89c-c91e-d9cd-583e-eb7e",
       "previous": "71ba4578-0fab-11f0-ac4d-3e7a738eaee3-3-4636-de2e-9f37"
      },
      {
       "current": "c0bf013a-10f6-11f0-acfe-1231102d67ae",
       "next": "c7ff5410-ecd7-11ef-b381-0242ac120006-12-ee8f-1faa-f6bd-d018-e727-f89c-c91e-d9cd-583e-eb7e",
       "previous": "caed385c-10f6-11f0-acfe-1231102d67ae-1-55c5"
      },
      {
       "current": "c0bf013a-10f6-11f0-acfe-1231102d67ae",
       "next": "c7ff5410-ecd7-11ef-b381-0242ac120006-12-ee8f-1faa-f6bd-d018-e727-f89c-c91e-d9cd-583e-eb7e",
       "previous": "71ba4578-0fab-11f0-ac4d-3e7a738eaee3-3-4636-de2e-9f37"
      },
      {
       "current": "c0bf013a-10f6-11f0-acfe-1231102d67ae-1-0acd",
       "next": "3ebef6f4-1114-11f0-acfe-1231102d67ae",
       "previous": "71ba4578-0fab-11f0-ac4d-3e7a738eaee3-3-4636-de2e-9f37"
      },
      {
       "current": "c0bf013a-10f6-11f0-acfe-1231102d67ae-2-0acd-814c",
       "next": "3ebef6f4-1114-11f0-acfe-1231102d67ae-1-6846",
       "previous": "71ba4578-0fab-11f0-ac4d-3e7a738eaee3-4-4636-de2e-9f37-faa9"
      },
      {
       "current": "c0bf013a-10f6-11f0-acfe-1231102d67ae-3-0acd-814c-9970",
       "next": "3ebef6f4-1114-11f0-acfe-1231102d67ae-2-6846-97c6",
       "previous": "71ba4578-0fab-11f0-ac4d-3e7a738eaee3-5-4636-de2e-9f37-faa9-e13d"
      },
      {
       "current": "c0bf013a-10f6-11f0-acfe-1231102d67ae-5-0acd-814c-9970-9597-89f6",
       "next": "3ebef6f4-1114-11f0-acfe-1231102d67ae-3-6846-97c6-94a6",
       "previous": "71ba4578-0fab-11f0-ac4d-3e7a738eaee3-6-4636-de2e-9f37-faa9-e13d-9642"
      },
      {
       "current": "c0bf013a-10f6-11f0-acfe-1231102d67ae-7-0acd-814c-9970-9597-89f6-7819-0795",
       "next": "3ebef6f4-1114-11f0-acfe-1231102d67ae-5-6846-97c6-94a6-0059-d5a4",
       "previous": "71ba4578-0fab-11f0-ac4d-3e7a738eaee3-8-4636-de2e-9f37-faa9-e13d-9642-faef-5a77"
      },
      {
       "current": "c0bf013a-10f6-11f0-acfe-1231102d67ae-8-0acd-814c-9970-9597-89f6-7819-0795-9908",
       "next": "3ebef6f4-1114-11f0-acfe-1231102d67ae-7-6846-97c6-94a6-0059-d5a4-719b-4f72",
       "previous": "71ba4578-0fab-11f0-ac4d-3e7a738eaee3-10-4636-de2e-9f37-faa9-e13d-9642-faef-5a77-a78c-cd91"
      },
      {
       "current": "c0bf013a-10f6-11f0-acfe-1231102d67ae-9-0acd-814c-9970-9597-89f6-7819-0795-9908-5fbd",
       "next": "3ebef6f4-1114-11f0-acfe-1231102d67ae-8-6846-97c6-94a6-0059-d5a4-719b-4f72-4aec",
       "previous": "71ba4578-0fab-11f0-ac4d-3e7a738eaee3-12-9f37-faa9-e13d-9642-faef-5a77-a78c-cd91-a353-6f68"
      }
     ],
     "next": "3ebef6f4-1114-11f0-acfe-1231102d67ae-9-6846-97c6-94a6-0059-d5a4-719b-4f72-4aec-ef02",
     "previous": "71ba4578-0fab-11f0-ac4d-3e7a738eaee3-13-faa9-e13d-9642-faef-5a77-a78c-cd91-a353-6f68-0b39"
    },
    "pinnedOutputTabIndex": 0,
    "run_through_control": {
     "frozen": true,
     "read_only": false
    }
   },
   "outputs": [
    {
     "data": {
      "text/plain": [
       "('RDM1', 'RDM2')"
      ]
     },
     "execution_count": 11,
     "metadata": {},
     "output_type": "execute_result"
    }
   ],
   "source": [
    "if dropbox_folder_1 is None:\n",
    "    dropbox_folder_1 = input(prompt='Dropbox Folder #1')\n",
    "if dropbox_folder_2 is None:\n",
    "    dropbox_folder_2 = input(prompt='Dropbox Folder #2')\n",
    "(dropbox_folder_1, dropbox_folder_2)"
   ]
  },
  {
   "cell_type": "code",
   "execution_count": 12,
   "id": "0dbadae9-db0d-4b6d-9177-fb8e69aca73e",
   "metadata": {
    "deletable": false,
    "editable": false,
    "lc_cell_meme": {
     "current": "3ebef6f4-1114-11f0-acfe-1231102d67ae-12-94a6-0059-d5a4-719b-4f72-4aec-ef02-e6cf-ce8e-a4ce",
     "execution_end_time": "2025-04-04T06:26:11.921Z",
     "history": [
      {
       "current": "3ebef6f4-1114-11f0-acfe-1231102d67ae-1-6846",
       "next": "c7ff5410-ecd7-11ef-b381-0242ac120006-12-ee8f-1faa-f6bd-d018-e727-f89c-c91e-d9cd-583e-eb7e",
       "previous": "c0bf013a-10f6-11f0-acfe-1231102d67ae"
      },
      {
       "current": "3ebef6f4-1114-11f0-acfe-1231102d67ae-2-6846-97c6",
       "next": "64a19b62-1153-11f0-b2ca-76718da5da48",
       "previous": "c0bf013a-10f6-11f0-acfe-1231102d67ae-1-0acd"
      },
      {
       "current": "3ebef6f4-1114-11f0-acfe-1231102d67ae-3-6846-97c6-94a6",
       "next": "64a19b62-1153-11f0-b2ca-76718da5da48-1-34d2",
       "previous": "c0bf013a-10f6-11f0-acfe-1231102d67ae-2-0acd-814c"
      },
      {
       "current": "3ebef6f4-1114-11f0-acfe-1231102d67ae-5-6846-97c6-94a6-0059-d5a4",
       "next": "64a19b62-1153-11f0-b2ca-76718da5da48-2-34d2-50c8",
       "previous": "c0bf013a-10f6-11f0-acfe-1231102d67ae-3-0acd-814c-9970"
      },
      {
       "current": "3ebef6f4-1114-11f0-acfe-1231102d67ae-7-6846-97c6-94a6-0059-d5a4-719b-4f72",
       "next": "64a19b62-1153-11f0-b2ca-76718da5da48-4-34d2-50c8-b861-6567",
       "previous": "c0bf013a-10f6-11f0-acfe-1231102d67ae-5-0acd-814c-9970-9597-89f6"
      },
      {
       "current": "3ebef6f4-1114-11f0-acfe-1231102d67ae-8-6846-97c6-94a6-0059-d5a4-719b-4f72-4aec",
       "next": "64a19b62-1153-11f0-b2ca-76718da5da48-6-34d2-50c8-b861-6567-101d-fbf4",
       "previous": "c0bf013a-10f6-11f0-acfe-1231102d67ae-7-0acd-814c-9970-9597-89f6-7819-0795"
      },
      {
       "current": "3ebef6f4-1114-11f0-acfe-1231102d67ae-9-6846-97c6-94a6-0059-d5a4-719b-4f72-4aec-ef02",
       "next": "64a19b62-1153-11f0-b2ca-76718da5da48-7-34d2-50c8-b861-6567-101d-fbf4-f9be",
       "previous": "c0bf013a-10f6-11f0-acfe-1231102d67ae-8-0acd-814c-9970-9597-89f6-7819-0795-9908"
      }
     ],
     "next": "64a19b62-1153-11f0-b2ca-76718da5da48-8-34d2-50c8-b861-6567-101d-fbf4-f9be-4290",
     "previous": "c0bf013a-10f6-11f0-acfe-1231102d67ae-9-0acd-814c-9970-9597-89f6-7819-0795-9908-5fbd"
    },
    "pinnedOutputTabIndex": 0,
    "run_through_control": {
     "frozen": true,
     "read_only": false
    }
   },
   "outputs": [
    {
     "data": {
      "text/plain": [
       "('RDM1', 'RDM2')"
      ]
     },
     "execution_count": 12,
     "metadata": {},
     "output_type": "execute_result"
    }
   ],
   "source": [
    "if googledrive_folder_1 is None:\n",
    "    googledrive_folder_1 = input(prompt='Google Drive Folder #1')\n",
    "if googledrive_folder_2 is None:\n",
    "    googledrive_folder_2 = input(prompt='Google Drive Folder #2')\n",
    "(googledrive_folder_1, googledrive_folder_2)"
   ]
  },
  {
   "cell_type": "code",
   "execution_count": 13,
   "id": "25ef6ce9-0869-4e25-9091-bdc062f2d985",
   "metadata": {
    "deletable": false,
    "editable": false,
    "lc_cell_meme": {
     "current": "64a19b62-1153-11f0-b2ca-76718da5da48-11-50c8-b861-6567-101d-fbf4-f9be-4290-72ae-c754-8b6c",
     "execution_end_time": "2025-04-04T12:52:15.839Z",
     "history": [
      {
       "current": "64a19b62-1153-11f0-b2ca-76718da5da48-1-34d2",
       "next": "c7ff5410-ecd7-11ef-b381-0242ac120006-13-1faa-f6bd-d018-e727-f89c-c91e-d9cd-583e-eb7e-349a",
       "previous": "3ebef6f4-1114-11f0-acfe-1231102d67ae-1-6846"
      },
      {
       "current": "64a19b62-1153-11f0-b2ca-76718da5da48-2-34d2-50c8",
       "next": "c7ff5410-ecd7-11ef-b381-0242ac120006-14-f6bd-d018-e727-f89c-c91e-d9cd-583e-eb7e-349a-9e83",
       "previous": "3ebef6f4-1114-11f0-acfe-1231102d67ae-2-6846-97c6"
      },
      {
       "current": "64a19b62-1153-11f0-b2ca-76718da5da48-4-34d2-50c8-b861-6567",
       "next": "c7ff5410-ecd7-11ef-b381-0242ac120006-15-d018-e727-f89c-c91e-d9cd-583e-eb7e-349a-9e83-eb2b",
       "previous": "3ebef6f4-1114-11f0-acfe-1231102d67ae-3-6846-97c6-94a6"
      },
      {
       "current": "64a19b62-1153-11f0-b2ca-76718da5da48-6-34d2-50c8-b861-6567-101d-fbf4",
       "next": "4bac91ec-1c26-11f0-baf6-eaf1011eb67f",
       "previous": "3ebef6f4-1114-11f0-acfe-1231102d67ae-5-6846-97c6-94a6-0059-d5a4"
      },
      {
       "current": "64a19b62-1153-11f0-b2ca-76718da5da48-7-34d2-50c8-b861-6567-101d-fbf4-f9be",
       "next": "4bac91ec-1c26-11f0-baf6-eaf1011eb67f-2-06c5-195d",
       "previous": "3ebef6f4-1114-11f0-acfe-1231102d67ae-7-6846-97c6-94a6-0059-d5a4-719b-4f72"
      },
      {
       "current": "64a19b62-1153-11f0-b2ca-76718da5da48-8-34d2-50c8-b861-6567-101d-fbf4-f9be-4290",
       "next": "4bac91ec-1c26-11f0-baf6-eaf1011eb67f-3-06c5-195d-e86f",
       "previous": "3ebef6f4-1114-11f0-acfe-1231102d67ae-8-6846-97c6-94a6-0059-d5a4-719b-4f72-4aec"
      }
     ],
     "next": "4bac91ec-1c26-11f0-baf6-eaf1011eb67f-4-06c5-195d-e86f-4b49",
     "previous": "3ebef6f4-1114-11f0-acfe-1231102d67ae-9-6846-97c6-94a6-0059-d5a4-719b-4f72-4aec-ef02"
    },
    "pinnedOutputTabIndex": 0,
    "run_through_control": {
     "frozen": true,
     "read_only": false
    }
   },
   "outputs": [
    {
     "data": {
      "text/plain": [
       "('RDM-TEST-VR-1', 'RDM-TEST-VR-2')"
      ]
     },
     "execution_count": 13,
     "metadata": {},
     "output_type": "execute_result"
    }
   ],
   "source": [
    "if onedrive_folder_1 is None:\n",
    "    onedrive_folder_1 = input(prompt='OneDrive Folder #1')\n",
    "if onedrive_folder_2 is None:\n",
    "    onedrive_folder_2 = input(prompt='OneDrive Folder #2')\n",
    "(onedrive_folder_1, onedrive_folder_2)"
   ]
  },
  {
   "cell_type": "code",
   "execution_count": 14,
   "id": "61abef19-aeba-4122-a728-8c569ad2b576",
   "metadata": {
    "deletable": false,
    "editable": false,
    "lc_cell_meme": {
     "current": "4bac91ec-1c26-11f0-baf6-eaf1011eb67f-7-06c5-195d-e86f-4b49-4dad-44b5-33dc",
     "execution_end_time": "2025-04-18T07:33:24.834Z",
     "history": [
      {
       "current": "4bac91ec-1c26-11f0-baf6-eaf1011eb67f-2-06c5-195d",
       "next": "c7ff5410-ecd7-11ef-b381-0242ac120006-17-f89c-c91e-d9cd-583e-eb7e-349a-9e83-eb2b-8da9-a504",
       "previous": "64a19b62-1153-11f0-b2ca-76718da5da48-4-34d2-50c8-b861-6567"
      },
      {
       "current": "4bac91ec-1c26-11f0-baf6-eaf1011eb67f-3-06c5-195d-e86f",
       "next": "c7ff5410-ecd7-11ef-b381-0242ac120006-19-d9cd-583e-eb7e-349a-9e83-eb2b-8da9-a504-18c7-d422",
       "previous": "64a19b62-1153-11f0-b2ca-76718da5da48-6-34d2-50c8-b861-6567-101d-fbf4"
      },
      {
       "current": "4bac91ec-1c26-11f0-baf6-eaf1011eb67f-4-06c5-195d-e86f-4b49",
       "next": "c7ff5410-ecd7-11ef-b381-0242ac120006-20-583e-eb7e-349a-9e83-eb2b-8da9-a504-18c7-d422-8f48",
       "previous": "64a19b62-1153-11f0-b2ca-76718da5da48-7-34d2-50c8-b861-6567-101d-fbf4-f9be"
      }
     ],
     "next": "c7ff5410-ecd7-11ef-b381-0242ac120006-21-eb7e-349a-9e83-eb2b-8da9-a504-18c7-d422-8f48-84aa",
     "previous": "64a19b62-1153-11f0-b2ca-76718da5da48-8-34d2-50c8-b861-6567-101d-fbf4-f9be-4290"
    },
    "pinnedOutputTabIndex": 0,
    "run_through_control": {
     "frozen": true,
     "read_only": false
    }
   },
   "outputs": [
    {
     "data": {
      "text/plain": [
       "('VR-総合テスト機械化-1', 'VR-総合テスト機械化-2')"
      ]
     },
     "execution_count": 14,
     "metadata": {},
     "output_type": "execute_result"
    }
   ],
   "source": [
    "if nextcloud_folder_1 is None:\n",
    "    nextcloud_folder_1 = input(prompt='Nextcloud Folder #1')\n",
    "if nextcloud_folder_2 is None:\n",
    "    nextcloud_folder_2 = input(prompt='Nextcloud Folder #2')\n",
    "(nextcloud_folder_1, nextcloud_folder_2)"
   ]
  },
  {
   "cell_type": "code",
   "execution_count": 15,
   "id": "21adf1b0-07da-4656-837c-b7b69fc63f94",
   "metadata": {
    "deletable": false,
    "editable": false,
    "lc_cell_meme": {
     "current": "c7ff5410-ecd7-11ef-b381-0242ac120006-24-eb2b-8da9-a504-18c7-d422-8f48-84aa-bfe1-79f7-7022",
     "execution_end_time": "2025-02-17T03:02:15.980Z",
     "history": [
      {
       "current": "c7ff5410-ecd7-11ef-b381-0242ac120006",
       "next": "fc1e9000-ecda-11ef-b381-0242ac120006",
       "previous": "be13dc32-ecd7-11ef-b381-0242ac120006"
      },
      {
       "current": "c7ff5410-ecd7-11ef-b381-0242ac120006-1-af71",
       "next": "17494748-ecdc-11ef-b381-0242ac120006",
       "previous": "be13dc32-ecd7-11ef-b381-0242ac120006"
      },
      {
       "current": "c7ff5410-ecd7-11ef-b381-0242ac120006-2-af71-1d65",
       "next": "17494748-ecdc-11ef-b381-0242ac120006-1-d6aa",
       "previous": "f29fd528-eceb-11ef-a157-0242ac120006"
      },
      {
       "current": "c7ff5410-ecd7-11ef-b381-0242ac120006-4-af71-1d65-ee8f-1faa",
       "next": "17494748-ecdc-11ef-b381-0242ac120006-2-d6aa-50d6",
       "previous": "f29fd528-eceb-11ef-a157-0242ac120006-1-019c"
      },
      {
       "current": "c7ff5410-ecd7-11ef-b381-0242ac120006-6-af71-1d65-ee8f-1faa-f6bd-d018",
       "next": "17494748-ecdc-11ef-b381-0242ac120006-4-d6aa-50d6-afe6-abc0",
       "previous": "f29fd528-eceb-11ef-a157-0242ac120006-3-019c-9263-4055"
      },
      {
       "current": "c7ff5410-ecd7-11ef-b381-0242ac120006-8-af71-1d65-ee8f-1faa-f6bd-d018-e727-f89c",
       "next": "17494748-ecdc-11ef-b381-0242ac120006-6-d6aa-50d6-afe6-abc0-54a8-fba2",
       "previous": "f29fd528-eceb-11ef-a157-0242ac120006-5-019c-9263-4055-d2e4-8930"
      },
      {
       "current": "c7ff5410-ecd7-11ef-b381-0242ac120006-8-af71-1d65-ee8f-1faa-f6bd-d018-e727-f89c",
       "next": "17494748-ecdc-11ef-b381-0242ac120006-6-d6aa-50d6-afe6-abc0-54a8-fba2",
       "previous": "f29fd528-eceb-11ef-a157-0242ac120006-5-019c-9263-4055-d2e4-8930"
      },
      {
       "current": "c7ff5410-ecd7-11ef-b381-0242ac120006-8-af71-1d65-ee8f-1faa-f6bd-d018-e727-f89c",
       "next": "17494748-ecdc-11ef-b381-0242ac120006-8-d6aa-50d6-afe6-abc0-54a8-fba2-5860-d443",
       "previous": "f29fd528-eceb-11ef-a157-0242ac120006-7-019c-9263-4055-d2e4-8930-45a9-e13d"
      },
      {
       "current": "c7ff5410-ecd7-11ef-b381-0242ac120006-9-af71-1d65-ee8f-1faa-f6bd-d018-e727-f89c-c91e",
       "next": "17494748-ecdc-11ef-b381-0242ac120006-8-d6aa-50d6-afe6-abc0-54a8-fba2-5860-d443",
       "previous": "be13dc32-ecd7-11ef-b381-0242ac120006-8-f4a9-da30-14ab-853b-0cdd-9d73-989c-1306"
      },
      {
       "current": "c7ff5410-ecd7-11ef-b381-0242ac120006-10-af71-1d65-ee8f-1faa-f6bd-d018-e727-f89c-c91e-d9cd",
       "next": "17494748-ecdc-11ef-b381-0242ac120006-9-d6aa-50d6-afe6-abc0-54a8-fba2-5860-d443-81c2",
       "previous": "be13dc32-ecd7-11ef-b381-0242ac120006-9-f4a9-da30-14ab-853b-0cdd-9d73-989c-1306-3e4b"
      },
      {
       "current": "c7ff5410-ecd7-11ef-b381-0242ac120006-12-ee8f-1faa-f6bd-d018-e727-f89c-c91e-d9cd-583e-eb7e",
       "next": "17494748-ecdc-11ef-b381-0242ac120006-10-d6aa-50d6-afe6-abc0-54a8-fba2-5860-d443-81c2-7879",
       "previous": "71ba4578-0fab-11f0-ac4d-3e7a738eaee3-1-4636"
      },
      {
       "current": "c7ff5410-ecd7-11ef-b381-0242ac120006-12-ee8f-1faa-f6bd-d018-e727-f89c-c91e-d9cd-583e-eb7e",
       "next": "17494748-ecdc-11ef-b381-0242ac120006-12-afe6-abc0-54a8-fba2-5860-d443-81c2-7879-a176-7d85",
       "previous": "71ba4578-0fab-11f0-ac4d-3e7a738eaee3-3-4636-de2e-9f37"
      },
      {
       "current": "c7ff5410-ecd7-11ef-b381-0242ac120006-12-ee8f-1faa-f6bd-d018-e727-f89c-c91e-d9cd-583e-eb7e",
       "next": "17494748-ecdc-11ef-b381-0242ac120006-12-afe6-abc0-54a8-fba2-5860-d443-81c2-7879-a176-7d85",
       "previous": "c0bf013a-10f6-11f0-acfe-1231102d67ae"
      },
      {
       "current": "c7ff5410-ecd7-11ef-b381-0242ac120006-13-1faa-f6bd-d018-e727-f89c-c91e-d9cd-583e-eb7e-349a",
       "next": "17494748-ecdc-11ef-b381-0242ac120006-12-afe6-abc0-54a8-fba2-5860-d443-81c2-7879-a176-7d85",
       "previous": "3ebef6f4-1114-11f0-acfe-1231102d67ae"
      },
      {
       "current": "c7ff5410-ecd7-11ef-b381-0242ac120006-14-f6bd-d018-e727-f89c-c91e-d9cd-583e-eb7e-349a-9e83",
       "next": "17494748-ecdc-11ef-b381-0242ac120006-13-abc0-54a8-fba2-5860-d443-81c2-7879-a176-7d85-858e",
       "previous": "64a19b62-1153-11f0-b2ca-76718da5da48"
      },
      {
       "current": "c7ff5410-ecd7-11ef-b381-0242ac120006-15-d018-e727-f89c-c91e-d9cd-583e-eb7e-349a-9e83-eb2b",
       "next": "17494748-ecdc-11ef-b381-0242ac120006-14-54a8-fba2-5860-d443-81c2-7879-a176-7d85-858e-862e",
       "previous": "64a19b62-1153-11f0-b2ca-76718da5da48-1-34d2"
      },
      {
       "current": "c7ff5410-ecd7-11ef-b381-0242ac120006-17-f89c-c91e-d9cd-583e-eb7e-349a-9e83-eb2b-8da9-a504",
       "next": "17494748-ecdc-11ef-b381-0242ac120006-15-fba2-5860-d443-81c2-7879-a176-7d85-858e-862e-ac23",
       "previous": "64a19b62-1153-11f0-b2ca-76718da5da48-2-34d2-50c8"
      },
      {
       "current": "c7ff5410-ecd7-11ef-b381-0242ac120006-19-d9cd-583e-eb7e-349a-9e83-eb2b-8da9-a504-18c7-d422",
       "next": "17494748-ecdc-11ef-b381-0242ac120006-17-d443-81c2-7879-a176-7d85-858e-862e-ac23-a5da-1684",
       "previous": "4bac91ec-1c26-11f0-baf6-eaf1011eb67f"
      },
      {
       "current": "c7ff5410-ecd7-11ef-b381-0242ac120006-20-583e-eb7e-349a-9e83-eb2b-8da9-a504-18c7-d422-8f48",
       "next": "17494748-ecdc-11ef-b381-0242ac120006-19-7879-a176-7d85-858e-862e-ac23-a5da-1684-b72e-29a1",
       "previous": "4bac91ec-1c26-11f0-baf6-eaf1011eb67f-2-06c5-195d"
      },
      {
       "current": "c7ff5410-ecd7-11ef-b381-0242ac120006-21-eb7e-349a-9e83-eb2b-8da9-a504-18c7-d422-8f48-84aa",
       "next": "17494748-ecdc-11ef-b381-0242ac120006-20-a176-7d85-858e-862e-ac23-a5da-1684-b72e-29a1-d902",
       "previous": "4bac91ec-1c26-11f0-baf6-eaf1011eb67f-3-06c5-195d-e86f"
      }
     ],
     "next": "17494748-ecdc-11ef-b381-0242ac120006-21-7d85-858e-862e-ac23-a5da-1684-b72e-29a1-d902-4023",
     "previous": "4bac91ec-1c26-11f0-baf6-eaf1011eb67f-4-06c5-195d-e86f-4b49"
    },
    "pinnedOutputTabIndex": 0,
    "run_through_control": {
     "frozen": true,
     "read_only": false
    },
    "slideshow": {
     "slide_type": ""
    },
    "tags": []
   },
   "outputs": [
    {
     "name": "stdout",
     "output_type": "stream",
     "text": [
      "-rw-r--r-- 1 jovyan users 2588 May 20 01:37 .config.yaml\n"
     ]
    }
   ],
   "source": [
    "current_config_path = '.config.yaml'\n",
    "\n",
    "if config_path != '.config.yaml' or config is None or any([\n",
    "    config is not None and key not in config or locals()[key] != config[key]\n",
    "    for key in param_keys\n",
    "]):\n",
    "    with open(current_config_path, 'w') as f:\n",
    "        f.write(yaml.dump(dict([\n",
    "            (key, locals()[key])\n",
    "            for key in param_keys\n",
    "        ])))\n",
    "!ls -la {current_config_path}"
   ]
  },
  {
   "cell_type": "code",
   "execution_count": 16,
   "id": "e69b4736-03b8-46ef-bba8-bac4a95ac222",
   "metadata": {
    "deletable": false,
    "editable": false,
    "lc_cell_meme": {
     "current": "17494748-ecdc-11ef-b381-0242ac120006-24-ac23-a5da-1684-b72e-29a1-d902-4023-0958-d587-efb2",
     "execution_end_time": "2025-02-17T03:07:18.738Z",
     "history": [
      {
       "current": "17494748-ecdc-11ef-b381-0242ac120006-1-d6aa",
       "next": "fc1e9000-ecda-11ef-b381-0242ac120006",
       "previous": "c7ff5410-ecd7-11ef-b381-0242ac120006"
      },
      {
       "current": "17494748-ecdc-11ef-b381-0242ac120006-2-d6aa-50d6",
       "next": "fc1e9000-ecda-11ef-b381-0242ac120006-1-ad5a",
       "previous": "c7ff5410-ecd7-11ef-b381-0242ac120006-1-af71"
      },
      {
       "current": "17494748-ecdc-11ef-b381-0242ac120006-4-d6aa-50d6-afe6-abc0",
       "next": "fc1e9000-ecda-11ef-b381-0242ac120006-2-ad5a-1453",
       "previous": "c7ff5410-ecd7-11ef-b381-0242ac120006-2-af71-1d65"
      },
      {
       "current": "17494748-ecdc-11ef-b381-0242ac120006-4-d6aa-50d6-afe6-abc0",
       "next": "fc1e9000-ecda-11ef-b381-0242ac120006-4-ad5a-1453-986a-418b",
       "previous": "c7ff5410-ecd7-11ef-b381-0242ac120006-4-af71-1d65-ee8f-1faa"
      },
      {
       "current": "17494748-ecdc-11ef-b381-0242ac120006-4-d6aa-50d6-afe6-abc0",
       "next": "8b87efd0-f991-11ef-a92d-0242ac120006",
       "previous": "c7ff5410-ecd7-11ef-b381-0242ac120006-4-af71-1d65-ee8f-1faa"
      },
      {
       "current": "17494748-ecdc-11ef-b381-0242ac120006-4-d6aa-50d6-afe6-abc0",
       "next": "8b87efd0-f991-11ef-a92d-0242ac120006",
       "previous": "c7ff5410-ecd7-11ef-b381-0242ac120006-4-af71-1d65-ee8f-1faa"
      },
      {
       "current": "17494748-ecdc-11ef-b381-0242ac120006-6-d6aa-50d6-afe6-abc0-54a8-fba2",
       "next": "8b87efd0-f991-11ef-a92d-0242ac120006-1-ccde",
       "previous": "c7ff5410-ecd7-11ef-b381-0242ac120006-4-af71-1d65-ee8f-1faa"
      },
      {
       "current": "17494748-ecdc-11ef-b381-0242ac120006-8-d6aa-50d6-afe6-abc0-54a8-fba2-5860-d443",
       "next": "8b87efd0-f991-11ef-a92d-0242ac120006-3-ccde-2dab-8cb6",
       "previous": "c7ff5410-ecd7-11ef-b381-0242ac120006-6-af71-1d65-ee8f-1faa-f6bd-d018"
      },
      {
       "current": "17494748-ecdc-11ef-b381-0242ac120006-8-d6aa-50d6-afe6-abc0-54a8-fba2-5860-d443",
       "next": "8b87efd0-f991-11ef-a92d-0242ac120006-3-ccde-2dab-8cb6",
       "previous": "c7ff5410-ecd7-11ef-b381-0242ac120006-6-af71-1d65-ee8f-1faa-f6bd-d018"
      },
      {
       "current": "17494748-ecdc-11ef-b381-0242ac120006-9-d6aa-50d6-afe6-abc0-54a8-fba2-5860-d443-81c2",
       "next": "8b87efd0-f991-11ef-a92d-0242ac120006-5-ccde-2dab-8cb6-87a2-145c",
       "previous": "c7ff5410-ecd7-11ef-b381-0242ac120006-8-af71-1d65-ee8f-1faa-f6bd-d018-e727-f89c"
      },
      {
       "current": "17494748-ecdc-11ef-b381-0242ac120006-10-d6aa-50d6-afe6-abc0-54a8-fba2-5860-d443-81c2-7879",
       "next": "8b87efd0-f991-11ef-a92d-0242ac120006-6-ccde-2dab-8cb6-87a2-145c-a1d6",
       "previous": "c7ff5410-ecd7-11ef-b381-0242ac120006-9-af71-1d65-ee8f-1faa-f6bd-d018-e727-f89c-c91e"
      },
      {
       "current": "17494748-ecdc-11ef-b381-0242ac120006-12-afe6-abc0-54a8-fba2-5860-d443-81c2-7879-a176-7d85",
       "next": "8b87efd0-f991-11ef-a92d-0242ac120006-7-ccde-2dab-8cb6-87a2-145c-a1d6-bc34",
       "previous": "c7ff5410-ecd7-11ef-b381-0242ac120006-10-af71-1d65-ee8f-1faa-f6bd-d018-e727-f89c-c91e-d9cd"
      },
      {
       "current": "17494748-ecdc-11ef-b381-0242ac120006-12-afe6-abc0-54a8-fba2-5860-d443-81c2-7879-a176-7d85",
       "next": "8b87efd0-f991-11ef-a92d-0242ac120006-9-ccde-2dab-8cb6-87a2-145c-a1d6-bc34-896a-9f13",
       "previous": "c7ff5410-ecd7-11ef-b381-0242ac120006-12-ee8f-1faa-f6bd-d018-e727-f89c-c91e-d9cd-583e-eb7e"
      },
      {
       "current": "17494748-ecdc-11ef-b381-0242ac120006-12-afe6-abc0-54a8-fba2-5860-d443-81c2-7879-a176-7d85",
       "next": "b8c1067a-111b-11f0-acfe-1231102d67ae",
       "previous": "c7ff5410-ecd7-11ef-b381-0242ac120006-12-ee8f-1faa-f6bd-d018-e727-f89c-c91e-d9cd-583e-eb7e"
      },
      {
       "current": "17494748-ecdc-11ef-b381-0242ac120006-13-abc0-54a8-fba2-5860-d443-81c2-7879-a176-7d85-858e",
       "next": "8b87efd0-f991-11ef-a92d-0242ac120006-9-ccde-2dab-8cb6-87a2-145c-a1d6-bc34-896a-9f13",
       "previous": "c7ff5410-ecd7-11ef-b381-0242ac120006-12-ee8f-1faa-f6bd-d018-e727-f89c-c91e-d9cd-583e-eb7e"
      },
      {
       "current": "17494748-ecdc-11ef-b381-0242ac120006-14-54a8-fba2-5860-d443-81c2-7879-a176-7d85-858e-862e",
       "next": "8b87efd0-f991-11ef-a92d-0242ac120006-10-ccde-2dab-8cb6-87a2-145c-a1d6-bc34-896a-9f13-eaac",
       "previous": "c7ff5410-ecd7-11ef-b381-0242ac120006-13-1faa-f6bd-d018-e727-f89c-c91e-d9cd-583e-eb7e-349a"
      },
      {
       "current": "17494748-ecdc-11ef-b381-0242ac120006-15-fba2-5860-d443-81c2-7879-a176-7d85-858e-862e-ac23",
       "next": "8b87efd0-f991-11ef-a92d-0242ac120006-11-2dab-8cb6-87a2-145c-a1d6-bc34-896a-9f13-eaac-46fd",
       "previous": "c7ff5410-ecd7-11ef-b381-0242ac120006-14-f6bd-d018-e727-f89c-c91e-d9cd-583e-eb7e-349a-9e83"
      },
      {
       "current": "17494748-ecdc-11ef-b381-0242ac120006-17-d443-81c2-7879-a176-7d85-858e-862e-ac23-a5da-1684",
       "next": "8b87efd0-f991-11ef-a92d-0242ac120006-12-8cb6-87a2-145c-a1d6-bc34-896a-9f13-eaac-46fd-214f",
       "previous": "c7ff5410-ecd7-11ef-b381-0242ac120006-15-d018-e727-f89c-c91e-d9cd-583e-eb7e-349a-9e83-eb2b"
      },
      {
       "current": "17494748-ecdc-11ef-b381-0242ac120006-19-7879-a176-7d85-858e-862e-ac23-a5da-1684-b72e-29a1",
       "next": "8b87efd0-f991-11ef-a92d-0242ac120006-14-145c-a1d6-bc34-896a-9f13-eaac-46fd-214f-ecf9-db52",
       "previous": "c7ff5410-ecd7-11ef-b381-0242ac120006-17-f89c-c91e-d9cd-583e-eb7e-349a-9e83-eb2b-8da9-a504"
      },
      {
       "current": "17494748-ecdc-11ef-b381-0242ac120006-19-7879-a176-7d85-858e-862e-ac23-a5da-1684-b72e-29a1",
       "next": "aab06aca-1c3e-11f0-a653-9281a4835edb",
       "previous": "c7ff5410-ecd7-11ef-b381-0242ac120006-19-d9cd-583e-eb7e-349a-9e83-eb2b-8da9-a504-18c7-d422"
      },
      {
       "current": "17494748-ecdc-11ef-b381-0242ac120006-20-a176-7d85-858e-862e-ac23-a5da-1684-b72e-29a1-d902",
       "next": "8b87efd0-f991-11ef-a92d-0242ac120006-16-bc34-896a-9f13-eaac-46fd-214f-ecf9-db52-4f2e-16e1",
       "previous": "c7ff5410-ecd7-11ef-b381-0242ac120006-19-d9cd-583e-eb7e-349a-9e83-eb2b-8da9-a504-18c7-d422"
      },
      {
       "current": "17494748-ecdc-11ef-b381-0242ac120006-21-7d85-858e-862e-ac23-a5da-1684-b72e-29a1-d902-4023",
       "next": "8b87efd0-f991-11ef-a92d-0242ac120006-17-896a-9f13-eaac-46fd-214f-ecf9-db52-4f2e-16e1-8b5e",
       "previous": "c7ff5410-ecd7-11ef-b381-0242ac120006-20-583e-eb7e-349a-9e83-eb2b-8da9-a504-18c7-d422-8f48"
      }
     ],
     "next": "8b87efd0-f991-11ef-a92d-0242ac120006-18-9f13-eaac-46fd-214f-ecf9-db52-4f2e-16e1-8b5e-c9d6",
     "previous": "c7ff5410-ecd7-11ef-b381-0242ac120006-21-eb7e-349a-9e83-eb2b-8da9-a504-18c7-d422-8f48-84aa"
    },
    "pinnedOutputTabIndex": 0,
    "run_through_control": {
     "frozen": true,
     "read_only": false
    },
    "slideshow": {
     "slide_type": ""
    },
    "tags": []
   },
   "outputs": [
    {
     "data": {
      "text/plain": [
       "'/tmp/tmpuxb1djzm'"
      ]
     },
     "execution_count": 16,
     "metadata": {},
     "output_type": "execute_result"
    }
   ],
   "source": [
    "import tempfile\n",
    "\n",
    "work_dir = tempfile.mkdtemp()\n",
    "\n",
    "if default_result_path is None:\n",
    "    default_result_path = work_dir\n",
    "default_result_path"
   ]
  },
  {
   "cell_type": "markdown",
   "id": "0f6d72c0-8bbb-40e4-9ea0-29a819899bba",
   "metadata": {
    "deletable": true,
    "editable": true,
    "lc_cell_meme": {
     "current": "8b87efd0-f991-11ef-a92d-0242ac120006-21-214f-ecf9-db52-4f2e-16e1-8b5e-c9d6-ce2f-dd80-2c55",
     "history": [
      {
       "current": "8b87efd0-f991-11ef-a92d-0242ac120006-3-ccde-2dab-8cb6",
       "next": "fc1e9000-ecda-11ef-b381-0242ac120006-4-ad5a-1453-986a-418b",
       "previous": "17494748-ecdc-11ef-b381-0242ac120006-4-d6aa-50d6-afe6-abc0"
      },
      {
       "current": "8b87efd0-f991-11ef-a92d-0242ac120006-5-ccde-2dab-8cb6-87a2-145c",
       "next": "fc1e9000-ecda-11ef-b381-0242ac120006-6-ad5a-1453-986a-418b-269a-3f21",
       "previous": "17494748-ecdc-11ef-b381-0242ac120006-6-d6aa-50d6-afe6-abc0-54a8-fba2"
      },
      {
       "current": "8b87efd0-f991-11ef-a92d-0242ac120006-5-ccde-2dab-8cb6-87a2-145c",
       "next": "fc1e9000-ecda-11ef-b381-0242ac120006-6-ad5a-1453-986a-418b-269a-3f21",
       "previous": "17494748-ecdc-11ef-b381-0242ac120006-6-d6aa-50d6-afe6-abc0-54a8-fba2"
      },
      {
       "current": "8b87efd0-f991-11ef-a92d-0242ac120006-5-ccde-2dab-8cb6-87a2-145c",
       "next": "fc1e9000-ecda-11ef-b381-0242ac120006-8-ad5a-1453-986a-418b-269a-3f21-466e-058e",
       "previous": "17494748-ecdc-11ef-b381-0242ac120006-8-d6aa-50d6-afe6-abc0-54a8-fba2-5860-d443"
      },
      {
       "current": "8b87efd0-f991-11ef-a92d-0242ac120006-6-ccde-2dab-8cb6-87a2-145c-a1d6",
       "next": "8af0ac06-0c6f-11f0-98e9-5e0a5654d7bd",
       "previous": "17494748-ecdc-11ef-b381-0242ac120006-8-d6aa-50d6-afe6-abc0-54a8-fba2-5860-d443"
      },
      {
       "current": "8b87efd0-f991-11ef-a92d-0242ac120006-7-ccde-2dab-8cb6-87a2-145c-a1d6-bc34",
       "next": "8af0ac06-0c6f-11f0-98e9-5e0a5654d7bd-1-c85a",
       "previous": "17494748-ecdc-11ef-b381-0242ac120006-9-d6aa-50d6-afe6-abc0-54a8-fba2-5860-d443-81c2"
      },
      {
       "current": "8b87efd0-f991-11ef-a92d-0242ac120006-9-ccde-2dab-8cb6-87a2-145c-a1d6-bc34-896a-9f13",
       "next": "8af0ac06-0c6f-11f0-98e9-5e0a5654d7bd-2-c85a-b9b7",
       "previous": "17494748-ecdc-11ef-b381-0242ac120006-10-d6aa-50d6-afe6-abc0-54a8-fba2-5860-d443-81c2-7879"
      },
      {
       "current": "8b87efd0-f991-11ef-a92d-0242ac120006-9-ccde-2dab-8cb6-87a2-145c-a1d6-bc34-896a-9f13",
       "next": "8af0ac06-0c6f-11f0-98e9-5e0a5654d7bd-4-c85a-b9b7-427d-eb8e",
       "previous": "17494748-ecdc-11ef-b381-0242ac120006-12-afe6-abc0-54a8-fba2-5860-d443-81c2-7879-a176-7d85"
      },
      {
       "current": "8b87efd0-f991-11ef-a92d-0242ac120006-9-ccde-2dab-8cb6-87a2-145c-a1d6-bc34-896a-9f13",
       "next": "8af0ac06-0c6f-11f0-98e9-5e0a5654d7bd-4-c85a-b9b7-427d-eb8e",
       "previous": "b8c1067a-111b-11f0-acfe-1231102d67ae"
      },
      {
       "current": "8b87efd0-f991-11ef-a92d-0242ac120006-10-ccde-2dab-8cb6-87a2-145c-a1d6-bc34-896a-9f13-eaac",
       "next": "8af0ac06-0c6f-11f0-98e9-5e0a5654d7bd-4-c85a-b9b7-427d-eb8e",
       "previous": "17494748-ecdc-11ef-b381-0242ac120006-12-afe6-abc0-54a8-fba2-5860-d443-81c2-7879-a176-7d85"
      },
      {
       "current": "8b87efd0-f991-11ef-a92d-0242ac120006-11-2dab-8cb6-87a2-145c-a1d6-bc34-896a-9f13-eaac-46fd",
       "next": "8af0ac06-0c6f-11f0-98e9-5e0a5654d7bd-5-c85a-b9b7-427d-eb8e-7f7d",
       "previous": "17494748-ecdc-11ef-b381-0242ac120006-13-abc0-54a8-fba2-5860-d443-81c2-7879-a176-7d85-858e"
      },
      {
       "current": "8b87efd0-f991-11ef-a92d-0242ac120006-12-8cb6-87a2-145c-a1d6-bc34-896a-9f13-eaac-46fd-214f",
       "next": "8af0ac06-0c6f-11f0-98e9-5e0a5654d7bd-6-c85a-b9b7-427d-eb8e-7f7d-53b1",
       "previous": "17494748-ecdc-11ef-b381-0242ac120006-14-54a8-fba2-5860-d443-81c2-7879-a176-7d85-858e-862e"
      },
      {
       "current": "8b87efd0-f991-11ef-a92d-0242ac120006-14-145c-a1d6-bc34-896a-9f13-eaac-46fd-214f-ecf9-db52",
       "next": "8af0ac06-0c6f-11f0-98e9-5e0a5654d7bd-7-c85a-b9b7-427d-eb8e-7f7d-53b1-e02b",
       "previous": "17494748-ecdc-11ef-b381-0242ac120006-15-fba2-5860-d443-81c2-7879-a176-7d85-858e-862e-ac23"
      },
      {
       "current": "8b87efd0-f991-11ef-a92d-0242ac120006-16-bc34-896a-9f13-eaac-46fd-214f-ecf9-db52-4f2e-16e1",
       "next": "8af0ac06-0c6f-11f0-98e9-5e0a5654d7bd-9-c85a-b9b7-427d-eb8e-7f7d-53b1-e02b-0f2f-2d9d",
       "previous": "17494748-ecdc-11ef-b381-0242ac120006-17-d443-81c2-7879-a176-7d85-858e-862e-ac23-a5da-1684"
      },
      {
       "current": "8b87efd0-f991-11ef-a92d-0242ac120006-16-bc34-896a-9f13-eaac-46fd-214f-ecf9-db52-4f2e-16e1",
       "next": "8af0ac06-0c6f-11f0-98e9-5e0a5654d7bd-11-b9b7-427d-eb8e-7f7d-53b1-e02b-0f2f-2d9d-6c20-4c0c",
       "previous": "aab06aca-1c3e-11f0-a653-9281a4835edb"
      },
      {
       "current": "8b87efd0-f991-11ef-a92d-0242ac120006-17-896a-9f13-eaac-46fd-214f-ecf9-db52-4f2e-16e1-8b5e",
       "next": "8af0ac06-0c6f-11f0-98e9-5e0a5654d7bd-11-b9b7-427d-eb8e-7f7d-53b1-e02b-0f2f-2d9d-6c20-4c0c",
       "previous": "17494748-ecdc-11ef-b381-0242ac120006-19-7879-a176-7d85-858e-862e-ac23-a5da-1684-b72e-29a1"
      },
      {
       "current": "8b87efd0-f991-11ef-a92d-0242ac120006-18-9f13-eaac-46fd-214f-ecf9-db52-4f2e-16e1-8b5e-c9d6",
       "next": "8af0ac06-0c6f-11f0-98e9-5e0a5654d7bd-12-427d-eb8e-7f7d-53b1-e02b-0f2f-2d9d-6c20-4c0c-6d65",
       "previous": "17494748-ecdc-11ef-b381-0242ac120006-20-a176-7d85-858e-862e-ac23-a5da-1684-b72e-29a1-d902"
      }
     ],
     "next": "8af0ac06-0c6f-11f0-98e9-5e0a5654d7bd-13-eb8e-7f7d-53b1-e02b-0f2f-2d9d-6c20-4c0c-6d65-667a",
     "previous": "17494748-ecdc-11ef-b381-0242ac120006-21-7d85-858e-862e-ac23-a5da-1684-b72e-29a1-d902-4023"
    },
    "pinnedOutputTabIndex": 0,
    "run_through_control": {
     "frozen": false,
     "read_only": false
    }
   },
   "source": [
    "# Notebookの実行"
   ]
  },
  {
   "cell_type": "code",
   "execution_count": 39,
   "id": "4d89a6c3-cb47-4206-b2ce-5527260dd3e9",
   "metadata": {
    "deletable": false,
    "editable": false,
    "lc_cell_meme": {
     "current": "8af0ac06-0c6f-11f0-98e9-5e0a5654d7bd-16-e02b-0f2f-2d9d-6c20-4c0c-6d65-667a-7a13-4f73-353d",
     "history": [
      {
       "current": "8af0ac06-0c6f-11f0-98e9-5e0a5654d7bd",
       "next": "fc1e9000-ecda-11ef-b381-0242ac120006-8-ad5a-1453-986a-418b-269a-3f21-466e-058e",
       "previous": "8b87efd0-f991-11ef-a92d-0242ac120006-5-ccde-2dab-8cb6-87a2-145c"
      },
      {
       "current": "8af0ac06-0c6f-11f0-98e9-5e0a5654d7bd-1-c85a",
       "next": "c9853da6-0c6f-11f0-98e9-5e0a5654d7bd",
       "previous": "8b87efd0-f991-11ef-a92d-0242ac120006-5-ccde-2dab-8cb6-87a2-145c"
      },
      {
       "current": "8af0ac06-0c6f-11f0-98e9-5e0a5654d7bd-2-c85a-b9b7",
       "next": "c9853da6-0c6f-11f0-98e9-5e0a5654d7bd-1-f3a3",
       "previous": "8b87efd0-f991-11ef-a92d-0242ac120006-6-ccde-2dab-8cb6-87a2-145c-a1d6"
      },
      {
       "current": "8af0ac06-0c6f-11f0-98e9-5e0a5654d7bd-2-c85a-b9b7",
       "next": "c9853da6-0c6f-11f0-98e9-5e0a5654d7bd-2-f3a3-2ae4",
       "previous": "8b87efd0-f991-11ef-a92d-0242ac120006-7-ccde-2dab-8cb6-87a2-145c-a1d6-bc34"
      },
      {
       "current": "8af0ac06-0c6f-11f0-98e9-5e0a5654d7bd-4-c85a-b9b7-427d-eb8e",
       "next": "6d45e16c-100c-11f0-ac4d-3e7a738eaee3",
       "previous": "8b87efd0-f991-11ef-a92d-0242ac120006-7-ccde-2dab-8cb6-87a2-145c-a1d6-bc34"
      },
      {
       "current": "8af0ac06-0c6f-11f0-98e9-5e0a5654d7bd-4-c85a-b9b7-427d-eb8e",
       "next": "6d45e16c-100c-11f0-ac4d-3e7a738eaee3-2-fee6-0838",
       "previous": "8b87efd0-f991-11ef-a92d-0242ac120006-9-ccde-2dab-8cb6-87a2-145c-a1d6-bc34-896a-9f13"
      },
      {
       "current": "8af0ac06-0c6f-11f0-98e9-5e0a5654d7bd-5-c85a-b9b7-427d-eb8e-7f7d",
       "next": "00e3a3c2-10f4-11f0-acfe-1231102d67ae",
       "previous": "8b87efd0-f991-11ef-a92d-0242ac120006-9-ccde-2dab-8cb6-87a2-145c-a1d6-bc34-896a-9f13"
      },
      {
       "current": "8af0ac06-0c6f-11f0-98e9-5e0a5654d7bd-6-c85a-b9b7-427d-eb8e-7f7d-53b1",
       "next": "00e3a3c2-10f4-11f0-acfe-1231102d67ae-1-2840",
       "previous": "8b87efd0-f991-11ef-a92d-0242ac120006-10-ccde-2dab-8cb6-87a2-145c-a1d6-bc34-896a-9f13-eaac"
      },
      {
       "current": "8af0ac06-0c6f-11f0-98e9-5e0a5654d7bd-7-c85a-b9b7-427d-eb8e-7f7d-53b1-e02b",
       "next": "00e3a3c2-10f4-11f0-acfe-1231102d67ae-2-2840-f3f6",
       "previous": "8b87efd0-f991-11ef-a92d-0242ac120006-11-2dab-8cb6-87a2-145c-a1d6-bc34-896a-9f13-eaac-46fd"
      },
      {
       "current": "8af0ac06-0c6f-11f0-98e9-5e0a5654d7bd-9-c85a-b9b7-427d-eb8e-7f7d-53b1-e02b-0f2f-2d9d",
       "next": "00e3a3c2-10f4-11f0-acfe-1231102d67ae-3-2840-f3f6-a22e",
       "previous": "8b87efd0-f991-11ef-a92d-0242ac120006-12-8cb6-87a2-145c-a1d6-bc34-896a-9f13-eaac-46fd-214f"
      },
      {
       "current": "8af0ac06-0c6f-11f0-98e9-5e0a5654d7bd-11-b9b7-427d-eb8e-7f7d-53b1-e02b-0f2f-2d9d-6c20-4c0c",
       "next": "00e3a3c2-10f4-11f0-acfe-1231102d67ae-5-2840-f3f6-a22e-1e00-0a2c",
       "previous": "8b87efd0-f991-11ef-a92d-0242ac120006-14-145c-a1d6-bc34-896a-9f13-eaac-46fd-214f-ecf9-db52"
      },
      {
       "current": "8af0ac06-0c6f-11f0-98e9-5e0a5654d7bd-12-427d-eb8e-7f7d-53b1-e02b-0f2f-2d9d-6c20-4c0c-6d65",
       "next": "00e3a3c2-10f4-11f0-acfe-1231102d67ae-7-2840-f3f6-a22e-1e00-0a2c-b400-ed6e",
       "previous": "8b87efd0-f991-11ef-a92d-0242ac120006-16-bc34-896a-9f13-eaac-46fd-214f-ecf9-db52-4f2e-16e1"
      },
      {
       "current": "8af0ac06-0c6f-11f0-98e9-5e0a5654d7bd-13-eb8e-7f7d-53b1-e02b-0f2f-2d9d-6c20-4c0c-6d65-667a",
       "next": "00e3a3c2-10f4-11f0-acfe-1231102d67ae-8-2840-f3f6-a22e-1e00-0a2c-b400-ed6e-5ed5",
       "previous": "8b87efd0-f991-11ef-a92d-0242ac120006-17-896a-9f13-eaac-46fd-214f-ecf9-db52-4f2e-16e1-8b5e"
      }
     ],
     "next": "00e3a3c2-10f4-11f0-acfe-1231102d67ae-9-2840-f3f6-a22e-1e00-0a2c-b400-ed6e-5ed5-5d2d",
     "previous": "8b87efd0-f991-11ef-a92d-0242ac120006-18-9f13-eaac-46fd-214f-ecf9-db52-4f2e-16e1-8b5e-c9d6"
    },
    "pinnedOutputTabIndex": 0,
    "run_through_control": {
     "frozen": true,
     "read_only": false
    }
   },
   "outputs": [],
   "source": [
    "from datetime import datetime\n",
    "import os\n",
    "import papermill as pm\n",
    "import traceback\n",
    "\n",
    "def make_result_dir():\n",
    "    run_id = datetime.now().strftime('%Y%m%d-%H%M%S')\n",
    "    result_dir = f'result/result-{run_id}'\n",
    "    os.makedirs(result_dir)\n",
    "    return result_dir\n",
    "\n",
    "def run_notebook(result_dir, base_notebook, optional_result_id=None, **optional_params):\n",
    "    _, filename = os.path.split(base_notebook)\n",
    "    result_id, _ = os.path.splitext(filename)\n",
    "    if optional_result_id:\n",
    "        result_id += optional_result_id\n",
    "    result_notebook = os.path.join(result_dir, result_id + '.ipynb')\n",
    "    result_path = os.path.join(result_dir, result_id)\n",
    "    os.makedirs(result_path, exist_ok=True)\n",
    "    params = dict(\n",
    "        rdm_url=rdm_url,\n",
    "        idp_name=idp_name_1,\n",
    "        idp_username=idp_username_1,\n",
    "        idp_password=idp_password_1,\n",
    "        idp_name_1=idp_name_1,\n",
    "        idp_username_1=idp_username_1,\n",
    "        idp_password_1=idp_password_1,\n",
    "        default_result_path=result_path,\n",
    "        close_on_fail=True,\n",
    "        transition_timeout=transition_timeout,\n",
    "    )\n",
    "    params.update(optional_params)\n",
    "    try:\n",
    "        pm.execute_notebook(\n",
    "            base_notebook,\n",
    "            result_notebook,\n",
    "            parameters=params\n",
    "        )\n",
    "    except pm.PapermillExecutionError:\n",
    "        if not skip_failed_test:\n",
    "            raise\n",
    "        print('失敗しました。テストは続行します...')\n",
    "        traceback.print_exc()\n",
    "    return result_notebook\n",
    "\n",
    "result_dir = make_result_dir()\n",
    "result_notebooks = []"
   ]
  },
  {
   "cell_type": "code",
   "execution_count": 40,
   "id": "47a7e5e8-6e54-44df-b05c-dae5a549a274",
   "metadata": {
    "deletable": false,
    "editable": false,
    "lc_cell_meme": {
     "current": "00e3a3c2-10f4-11f0-acfe-1231102d67ae-12-a22e-1e00-0a2c-b400-ed6e-5ed5-5d2d-fe50-2483-cbd1",
     "history": [
      {
       "current": "00e3a3c2-10f4-11f0-acfe-1231102d67ae",
       "next": "6d45e16c-100c-11f0-ac4d-3e7a738eaee3-2-fee6-0838",
       "previous": "8af0ac06-0c6f-11f0-98e9-5e0a5654d7bd-4-c85a-b9b7-427d-eb8e"
      },
      {
       "current": "00e3a3c2-10f4-11f0-acfe-1231102d67ae",
       "next": "00fe047e-10f4-11f0-acfe-1231102d67ae",
       "previous": "8af0ac06-0c6f-11f0-98e9-5e0a5654d7bd-4-c85a-b9b7-427d-eb8e"
      },
      {
       "current": "00e3a3c2-10f4-11f0-acfe-1231102d67ae",
       "next": "0118dc0e-10f4-11f0-acfe-1231102d67ae",
       "previous": "8af0ac06-0c6f-11f0-98e9-5e0a5654d7bd-4-c85a-b9b7-427d-eb8e"
      },
      {
       "current": "00e3a3c2-10f4-11f0-acfe-1231102d67ae",
       "next": "6d45e16c-100c-11f0-ac4d-3e7a738eaee3-2-fee6-0838",
       "previous": "8af0ac06-0c6f-11f0-98e9-5e0a5654d7bd-4-c85a-b9b7-427d-eb8e"
      },
      {
       "current": "00e3a3c2-10f4-11f0-acfe-1231102d67ae-1-2840",
       "next": "0e1f67be-1113-11f0-acfe-1231102d67ae",
       "previous": "8af0ac06-0c6f-11f0-98e9-5e0a5654d7bd-4-c85a-b9b7-427d-eb8e"
      },
      {
       "current": "00e3a3c2-10f4-11f0-acfe-1231102d67ae-2-2840-f3f6",
       "next": "0e1f67be-1113-11f0-acfe-1231102d67ae-1-ca0f",
       "previous": "8af0ac06-0c6f-11f0-98e9-5e0a5654d7bd-5-c85a-b9b7-427d-eb8e-7f7d"
      },
      {
       "current": "00e3a3c2-10f4-11f0-acfe-1231102d67ae-2-2840-f3f6",
       "next": "0e1f67be-1113-11f0-acfe-1231102d67ae-2-ca0f-6499",
       "previous": "8af0ac06-0c6f-11f0-98e9-5e0a5654d7bd-6-c85a-b9b7-427d-eb8e-7f7d-53b1"
      },
      {
       "current": "00e3a3c2-10f4-11f0-acfe-1231102d67ae-2-2840-f3f6",
       "next": "0e1f67be-1113-11f0-acfe-1231102d67ae-2-ca0f-6499",
       "previous": "8af0ac06-0c6f-11f0-98e9-5e0a5654d7bd-6-c85a-b9b7-427d-eb8e-7f7d-53b1"
      },
      {
       "current": "00e3a3c2-10f4-11f0-acfe-1231102d67ae-2-2840-f3f6",
       "next": "6d45e16c-100c-11f0-ac4d-3e7a738eaee3-5-fee6-0838-96f4-60e4-1fe6",
       "previous": "8af0ac06-0c6f-11f0-98e9-5e0a5654d7bd-6-c85a-b9b7-427d-eb8e-7f7d-53b1"
      },
      {
       "current": "00e3a3c2-10f4-11f0-acfe-1231102d67ae-2-2840-f3f6",
       "next": "2b9c40c8-1334-11f0-88c4-7e93a5d0b9a2",
       "previous": "8af0ac06-0c6f-11f0-98e9-5e0a5654d7bd-6-c85a-b9b7-427d-eb8e-7f7d-53b1"
      },
      {
       "current": "00e3a3c2-10f4-11f0-acfe-1231102d67ae-2-2840-f3f6",
       "next": "2b9c40c8-1334-11f0-88c4-7e93a5d0b9a2",
       "previous": "8af0ac06-0c6f-11f0-98e9-5e0a5654d7bd-6-c85a-b9b7-427d-eb8e-7f7d-53b1"
      },
      {
       "current": "00e3a3c2-10f4-11f0-acfe-1231102d67ae-3-2840-f3f6-a22e",
       "next": "2b9c40c8-1334-11f0-88c4-7e93a5d0b9a2-1-a509",
       "previous": "8af0ac06-0c6f-11f0-98e9-5e0a5654d7bd-6-c85a-b9b7-427d-eb8e-7f7d-53b1"
      },
      {
       "current": "00e3a3c2-10f4-11f0-acfe-1231102d67ae-5-2840-f3f6-a22e-1e00-0a2c",
       "next": "2b9c40c8-1334-11f0-88c4-7e93a5d0b9a2-2-a509-56a5",
       "previous": "8af0ac06-0c6f-11f0-98e9-5e0a5654d7bd-7-c85a-b9b7-427d-eb8e-7f7d-53b1-e02b"
      },
      {
       "current": "00e3a3c2-10f4-11f0-acfe-1231102d67ae-7-2840-f3f6-a22e-1e00-0a2c-b400-ed6e",
       "next": "2b9c40c8-1334-11f0-88c4-7e93a5d0b9a2-4-a509-56a5-682c-9a84",
       "previous": "8af0ac06-0c6f-11f0-98e9-5e0a5654d7bd-9-c85a-b9b7-427d-eb8e-7f7d-53b1-e02b-0f2f-2d9d"
      },
      {
       "current": "00e3a3c2-10f4-11f0-acfe-1231102d67ae-8-2840-f3f6-a22e-1e00-0a2c-b400-ed6e-5ed5",
       "next": "2b9c40c8-1334-11f0-88c4-7e93a5d0b9a2-6-a509-56a5-682c-9a84-fcbd-070c",
       "previous": "8af0ac06-0c6f-11f0-98e9-5e0a5654d7bd-11-b9b7-427d-eb8e-7f7d-53b1-e02b-0f2f-2d9d-6c20-4c0c"
      },
      {
       "current": "00e3a3c2-10f4-11f0-acfe-1231102d67ae-9-2840-f3f6-a22e-1e00-0a2c-b400-ed6e-5ed5-5d2d",
       "next": "2b9c40c8-1334-11f0-88c4-7e93a5d0b9a2-7-a509-56a5-682c-9a84-fcbd-070c-25d4",
       "previous": "8af0ac06-0c6f-11f0-98e9-5e0a5654d7bd-12-427d-eb8e-7f7d-53b1-e02b-0f2f-2d9d-6c20-4c0c-6d65"
      }
     ],
     "next": "2b9c40c8-1334-11f0-88c4-7e93a5d0b9a2-8-a509-56a5-682c-9a84-fcbd-070c-25d4-22f6",
     "previous": "8af0ac06-0c6f-11f0-98e9-5e0a5654d7bd-13-eb8e-7f7d-53b1-e02b-0f2f-2d9d-6c20-4c0c-6d65-667a"
    },
    "pinnedOutputTabIndex": 0,
    "run_through_control": {
     "frozen": true,
     "read_only": false
    }
   },
   "outputs": [],
   "source": [
    "import shutil\n",
    "\n",
    "local_vars = dict(locals())\n",
    "\n",
    "def run_manual_notebook(notebook_filename, optional_result_id=None, **optional_params):\n",
    "    result_id, _ = os.path.splitext(notebook_filename)\n",
    "    if optional_result_id:\n",
    "        result_id += optional_result_id\n",
    "    result_notebook = os.path.join(result_dir, result_id + '.ipynb')\n",
    "    result_path = os.path.join(result_dir, result_id)\n",
    "    \n",
    "    user_config_path = os.path.join(work_dir, '.config.yaml')\n",
    "    with open(user_config_path, 'w') as f:\n",
    "        additional = [\n",
    "            ('default_result_path', result_path),\n",
    "        ]\n",
    "        f.write(yaml.dump(dict([\n",
    "            (k, local_vars[k])\n",
    "            for k in local_vars.keys()\n",
    "            if (isinstance(local_vars[k], str) or local_vars[k] is None) and k not in ['work_dir'] and not k.startswith('_')\n",
    "        ] + additional + list(optional_params.items()))))\n",
    "    \n",
    "    print('以下の操作を実施してください。')\n",
    "\n",
    "    print(f'1. Jupyter Notebook {notebook_filename} を開く')\n",
    "    print('2. Run All Cellsを実施する')\n",
    "    print(f'  設定ファイルを要求されたときには、 {user_config_path} を入力する')\n",
    "    \n",
    "    assert input(prompt=\"全てのセル実行の成功を確認し、Notebookの保存を完了したら、'finished'と入力してください\") == 'finished'\n",
    "    result_notebook = os.path.join(result_dir, result_id + '.ipynb')\n",
    "    shutil.copyfile(notebook_filename, result_notebook)\n",
    "    return result_notebook"
   ]
  },
  {
   "cell_type": "markdown",
   "id": "45e1080a-7aca-492d-aaf4-9fdef62eab45",
   "metadata": {
    "deletable": true,
    "editable": true,
    "lc_cell_meme": {
     "current": "2b9c40c8-1334-11f0-88c4-7e93a5d0b9a2-11-56a5-682c-9a84-fcbd-070c-25d4-22f6-034d-78c0-2fa2",
     "history": [
      {
       "current": "2b9c40c8-1334-11f0-88c4-7e93a5d0b9a2-2-a509-56a5",
       "next": "6d45e16c-100c-11f0-ac4d-3e7a738eaee3-5-fee6-0838-96f4-60e4-1fe6",
       "previous": "00e3a3c2-10f4-11f0-acfe-1231102d67ae-2-2840-f3f6"
      },
      {
       "current": "2b9c40c8-1334-11f0-88c4-7e93a5d0b9a2-4-a509-56a5-682c-9a84",
       "next": "6d45e16c-100c-11f0-ac4d-3e7a738eaee3-6-fee6-0838-96f4-60e4-1fe6-aa1b",
       "previous": "00e3a3c2-10f4-11f0-acfe-1231102d67ae-3-2840-f3f6-a22e"
      },
      {
       "current": "2b9c40c8-1334-11f0-88c4-7e93a5d0b9a2-6-a509-56a5-682c-9a84-fcbd-070c",
       "next": "6d45e16c-100c-11f0-ac4d-3e7a738eaee3-8-fee6-0838-96f4-60e4-1fe6-aa1b-64b9-05ae",
       "previous": "00e3a3c2-10f4-11f0-acfe-1231102d67ae-5-2840-f3f6-a22e-1e00-0a2c"
      },
      {
       "current": "2b9c40c8-1334-11f0-88c4-7e93a5d0b9a2-7-a509-56a5-682c-9a84-fcbd-070c-25d4",
       "next": "6d45e16c-100c-11f0-ac4d-3e7a738eaee3-10-fee6-0838-96f4-60e4-1fe6-aa1b-64b9-05ae-6338-7a0c",
       "previous": "00e3a3c2-10f4-11f0-acfe-1231102d67ae-7-2840-f3f6-a22e-1e00-0a2c-b400-ed6e"
      },
      {
       "current": "2b9c40c8-1334-11f0-88c4-7e93a5d0b9a2-8-a509-56a5-682c-9a84-fcbd-070c-25d4-22f6",
       "next": "6d45e16c-100c-11f0-ac4d-3e7a738eaee3-11-0838-96f4-60e4-1fe6-aa1b-64b9-05ae-6338-7a0c-64bf",
       "previous": "00e3a3c2-10f4-11f0-acfe-1231102d67ae-8-2840-f3f6-a22e-1e00-0a2c-b400-ed6e-5ed5"
      }
     ],
     "next": "6d45e16c-100c-11f0-ac4d-3e7a738eaee3-12-96f4-60e4-1fe6-aa1b-64b9-05ae-6338-7a0c-64bf-0290",
     "previous": "00e3a3c2-10f4-11f0-acfe-1231102d67ae-9-2840-f3f6-a22e-1e00-0a2c-b400-ed6e-5ed5-5d2d"
    },
    "pinnedOutputTabIndex": 0,
    "run_through_control": {
     "frozen": false,
     "read_only": false
    }
   },
   "source": [
    "## ログイン関連テスト"
   ]
  },
  {
   "cell_type": "code",
   "execution_count": 41,
   "id": "ffacbf86-0c05-4766-8260-e31681c8efce",
   "metadata": {
    "deletable": false,
    "editable": false,
    "lc_cell_meme": {
     "current": "6d45e16c-100c-11f0-ac4d-3e7a738eaee3-15-aa1b-64b9-05ae-6338-7a0c-64bf-0290-8c87-044b-16e1",
     "execution_end_time": "2025-04-06T23:09:00.056Z",
     "history": [
      {
       "current": "6d45e16c-100c-11f0-ac4d-3e7a738eaee3-2-fee6-0838",
       "next": "c9853da6-0c6f-11f0-98e9-5e0a5654d7bd-2-f3a3-2ae4",
       "previous": "8af0ac06-0c6f-11f0-98e9-5e0a5654d7bd-2-c85a-b9b7"
      },
      {
       "current": "6d45e16c-100c-11f0-ac4d-3e7a738eaee3-2-fee6-0838",
       "next": "c9853da6-0c6f-11f0-98e9-5e0a5654d7bd-4-f3a3-2ae4-d95a-9ae2",
       "previous": "8af0ac06-0c6f-11f0-98e9-5e0a5654d7bd-4-c85a-b9b7-427d-eb8e"
      },
      {
       "current": "6d45e16c-100c-11f0-ac4d-3e7a738eaee3-2-fee6-0838",
       "next": "c9853da6-0c6f-11f0-98e9-5e0a5654d7bd-4-f3a3-2ae4-d95a-9ae2",
       "previous": "00e3a3c2-10f4-11f0-acfe-1231102d67ae"
      },
      {
       "current": "6d45e16c-100c-11f0-ac4d-3e7a738eaee3-2-fee6-0838",
       "next": "c9853da6-0c6f-11f0-98e9-5e0a5654d7bd-4-f3a3-2ae4-d95a-9ae2",
       "previous": "00fe047e-10f4-11f0-acfe-1231102d67ae"
      },
      {
       "current": "6d45e16c-100c-11f0-ac4d-3e7a738eaee3-2-fee6-0838",
       "next": "c9853da6-0c6f-11f0-98e9-5e0a5654d7bd-4-f3a3-2ae4-d95a-9ae2",
       "previous": "0118dc0e-10f4-11f0-acfe-1231102d67ae"
      },
      {
       "current": "6d45e16c-100c-11f0-ac4d-3e7a738eaee3-2-fee6-0838",
       "next": "c9853da6-0c6f-11f0-98e9-5e0a5654d7bd-4-f3a3-2ae4-d95a-9ae2",
       "previous": "00e3a3c2-10f4-11f0-acfe-1231102d67ae"
      },
      {
       "current": "6d45e16c-100c-11f0-ac4d-3e7a738eaee3-2-fee6-0838",
       "next": "c9853da6-0c6f-11f0-98e9-5e0a5654d7bd-4-f3a3-2ae4-d95a-9ae2",
       "previous": "0e1f67be-1113-11f0-acfe-1231102d67ae"
      },
      {
       "current": "6d45e16c-100c-11f0-ac4d-3e7a738eaee3-2-fee6-0838",
       "next": "c9853da6-0c6f-11f0-98e9-5e0a5654d7bd-4-f3a3-2ae4-d95a-9ae2",
       "previous": "1182a100-1113-11f0-acfe-1231102d67ae"
      },
      {
       "current": "6d45e16c-100c-11f0-ac4d-3e7a738eaee3-3-fee6-0838-96f4",
       "next": "c9853da6-0c6f-11f0-98e9-5e0a5654d7bd-4-f3a3-2ae4-d95a-9ae2",
       "previous": "0e1f67be-1113-11f0-acfe-1231102d67ae"
      },
      {
       "current": "6d45e16c-100c-11f0-ac4d-3e7a738eaee3-4-fee6-0838-96f4-60e4",
       "next": "c9853da6-0c6f-11f0-98e9-5e0a5654d7bd-5-f3a3-2ae4-d95a-9ae2-c5df",
       "previous": "0e1f67be-1113-11f0-acfe-1231102d67ae-1-ca0f"
      },
      {
       "current": "6d45e16c-100c-11f0-ac4d-3e7a738eaee3-5-fee6-0838-96f4-60e4-1fe6",
       "next": "c9853da6-0c6f-11f0-98e9-5e0a5654d7bd-6-f3a3-2ae4-d95a-9ae2-c5df-f62b",
       "previous": "0e1f67be-1113-11f0-acfe-1231102d67ae-2-ca0f-6499"
      },
      {
       "current": "6d45e16c-100c-11f0-ac4d-3e7a738eaee3-5-fee6-0838-96f4-60e4-1fe6",
       "next": "c9853da6-0c6f-11f0-98e9-5e0a5654d7bd-6-f3a3-2ae4-d95a-9ae2-c5df-f62b",
       "previous": "0e1f67be-1113-11f0-acfe-1231102d67ae-2-ca0f-6499"
      },
      {
       "current": "6d45e16c-100c-11f0-ac4d-3e7a738eaee3-5-fee6-0838-96f4-60e4-1fe6",
       "next": "0e1f67be-1113-11f0-acfe-1231102d67ae-2-ca0f-6499",
       "previous": "00e3a3c2-10f4-11f0-acfe-1231102d67ae-2-2840-f3f6"
      },
      {
       "current": "6d45e16c-100c-11f0-ac4d-3e7a738eaee3-5-fee6-0838-96f4-60e4-1fe6",
       "next": "0e1f67be-1113-11f0-acfe-1231102d67ae-2-ca0f-6499",
       "previous": "2b9c40c8-1334-11f0-88c4-7e93a5d0b9a2"
      },
      {
       "current": "6d45e16c-100c-11f0-ac4d-3e7a738eaee3-5-fee6-0838-96f4-60e4-1fe6",
       "next": "0e1f67be-1113-11f0-acfe-1231102d67ae-2-ca0f-6499",
       "previous": "2b9c40c8-1334-11f0-88c4-7e93a5d0b9a2"
      },
      {
       "current": "6d45e16c-100c-11f0-ac4d-3e7a738eaee3-5-fee6-0838-96f4-60e4-1fe6",
       "next": "0e1f67be-1113-11f0-acfe-1231102d67ae-2-ca0f-6499",
       "previous": "2b9c40c8-1334-11f0-88c4-7e93a5d0b9a2-1-a509"
      },
      {
       "current": "6d45e16c-100c-11f0-ac4d-3e7a738eaee3-5-fee6-0838-96f4-60e4-1fe6",
       "next": "0e1f67be-1113-11f0-acfe-1231102d67ae-2-ca0f-6499",
       "previous": "2b9c40c8-1334-11f0-88c4-7e93a5d0b9a2-1-a509"
      },
      {
       "current": "6d45e16c-100c-11f0-ac4d-3e7a738eaee3-6-fee6-0838-96f4-60e4-1fe6-aa1b",
       "next": "c9853da6-0c6f-11f0-98e9-5e0a5654d7bd-7-f3a3-2ae4-d95a-9ae2-c5df-f62b-4133",
       "previous": "2b9c40c8-1334-11f0-88c4-7e93a5d0b9a2-1-a509"
      },
      {
       "current": "6d45e16c-100c-11f0-ac4d-3e7a738eaee3-8-fee6-0838-96f4-60e4-1fe6-aa1b-64b9-05ae",
       "next": "c9853da6-0c6f-11f0-98e9-5e0a5654d7bd-8-f3a3-2ae4-d95a-9ae2-c5df-f62b-4133-7070",
       "previous": "2b9c40c8-1334-11f0-88c4-7e93a5d0b9a2-2-a509-56a5"
      },
      {
       "current": "6d45e16c-100c-11f0-ac4d-3e7a738eaee3-10-fee6-0838-96f4-60e4-1fe6-aa1b-64b9-05ae-6338-7a0c",
       "next": "c9853da6-0c6f-11f0-98e9-5e0a5654d7bd-10-f3a3-2ae4-d95a-9ae2-c5df-f62b-4133-7070-00df-3be9",
       "previous": "2b9c40c8-1334-11f0-88c4-7e93a5d0b9a2-4-a509-56a5-682c-9a84"
      },
      {
       "current": "6d45e16c-100c-11f0-ac4d-3e7a738eaee3-11-0838-96f4-60e4-1fe6-aa1b-64b9-05ae-6338-7a0c-64bf",
       "next": "c9853da6-0c6f-11f0-98e9-5e0a5654d7bd-12-d95a-9ae2-c5df-f62b-4133-7070-00df-3be9-bbb5-7067",
       "previous": "2b9c40c8-1334-11f0-88c4-7e93a5d0b9a2-6-a509-56a5-682c-9a84-fcbd-070c"
      },
      {
       "current": "6d45e16c-100c-11f0-ac4d-3e7a738eaee3-12-96f4-60e4-1fe6-aa1b-64b9-05ae-6338-7a0c-64bf-0290",
       "next": "c9853da6-0c6f-11f0-98e9-5e0a5654d7bd-13-9ae2-c5df-f62b-4133-7070-00df-3be9-bbb5-7067-5a29",
       "previous": "2b9c40c8-1334-11f0-88c4-7e93a5d0b9a2-7-a509-56a5-682c-9a84-fcbd-070c-25d4"
      }
     ],
     "next": "c9853da6-0c6f-11f0-98e9-5e0a5654d7bd-14-c5df-f62b-4133-7070-00df-3be9-bbb5-7067-5a29-3d47",
     "previous": "2b9c40c8-1334-11f0-88c4-7e93a5d0b9a2-8-a509-56a5-682c-9a84-fcbd-070c-25d4-22f6"
    },
    "pinnedOutputTabIndex": 0,
    "run_through_control": {
     "frozen": true,
     "read_only": false
    },
    "scrolled": true
   },
   "outputs": [
    {
     "name": "stdout",
     "output_type": "stream",
     "text": [
      "IdPが指定された時のみ未ログインテストを実施します。\n"
     ]
    },
    {
     "data": {
      "text/plain": [
       "[]"
      ]
     },
     "execution_count": 41,
     "metadata": {},
     "output_type": "execute_result"
    }
   ],
   "source": [
    "if idp_name_1 is not None:\n",
    "    result_notebooks.append(run_notebook(result_dir, 'テスト手順-未ログイン.ipynb'))\n",
    "else:\n",
    "    print('IdPが指定された時のみ未ログインテストを実施します。')\n",
    "result_notebooks"
   ]
  },
  {
   "cell_type": "code",
   "execution_count": 42,
   "id": "2ae9f0b6-72a8-4d80-aba3-c02e89e0fb00",
   "metadata": {
    "deletable": false,
    "editable": false,
    "lc_cell_meme": {
     "current": "c9853da6-0c6f-11f0-98e9-5e0a5654d7bd-17-7070-00df-3be9-bbb5-7067-5a29-3d47-a429-93c4-7010",
     "execution_end_time": "2025-04-06T23:09:52.965Z",
     "history": [
      {
       "current": "c9853da6-0c6f-11f0-98e9-5e0a5654d7bd",
       "next": "fc1e9000-ecda-11ef-b381-0242ac120006-8-ad5a-1453-986a-418b-269a-3f21-466e-058e",
       "previous": "8af0ac06-0c6f-11f0-98e9-5e0a5654d7bd"
      },
      {
       "current": "c9853da6-0c6f-11f0-98e9-5e0a5654d7bd-1-f3a3",
       "next": "9954a6fc-0c70-11f0-98e9-5e0a5654d7bd",
       "previous": "8af0ac06-0c6f-11f0-98e9-5e0a5654d7bd"
      },
      {
       "current": "c9853da6-0c6f-11f0-98e9-5e0a5654d7bd-2-f3a3-2ae4",
       "next": "9954a6fc-0c70-11f0-98e9-5e0a5654d7bd-1-f4b2",
       "previous": "8af0ac06-0c6f-11f0-98e9-5e0a5654d7bd-1-c85a"
      },
      {
       "current": "c9853da6-0c6f-11f0-98e9-5e0a5654d7bd-2-f3a3-2ae4",
       "next": "9954a6fc-0c70-11f0-98e9-5e0a5654d7bd-2-f4b2-da7a",
       "previous": "8af0ac06-0c6f-11f0-98e9-5e0a5654d7bd-2-c85a-b9b7"
      },
      {
       "current": "c9853da6-0c6f-11f0-98e9-5e0a5654d7bd-4-f3a3-2ae4-d95a-9ae2",
       "next": "9954a6fc-0c70-11f0-98e9-5e0a5654d7bd-2-f4b2-da7a",
       "previous": "6d45e16c-100c-11f0-ac4d-3e7a738eaee3"
      },
      {
       "current": "c9853da6-0c6f-11f0-98e9-5e0a5654d7bd-5-f3a3-2ae4-d95a-9ae2-c5df",
       "next": "9954a6fc-0c70-11f0-98e9-5e0a5654d7bd-4-f4b2-da7a-a83c-ed27",
       "previous": "6d45e16c-100c-11f0-ac4d-3e7a738eaee3-2-fee6-0838"
      },
      {
       "current": "c9853da6-0c6f-11f0-98e9-5e0a5654d7bd-6-f3a3-2ae4-d95a-9ae2-c5df-f62b",
       "next": "9954a6fc-0c70-11f0-98e9-5e0a5654d7bd-5-f4b2-da7a-a83c-ed27-74c8",
       "previous": "6d45e16c-100c-11f0-ac4d-3e7a738eaee3-3-fee6-0838-96f4"
      },
      {
       "current": "c9853da6-0c6f-11f0-98e9-5e0a5654d7bd-6-f3a3-2ae4-d95a-9ae2-c5df-f62b",
       "next": "9954a6fc-0c70-11f0-98e9-5e0a5654d7bd-6-f4b2-da7a-a83c-ed27-74c8-e71c",
       "previous": "6d45e16c-100c-11f0-ac4d-3e7a738eaee3-4-fee6-0838-96f4-60e4"
      },
      {
       "current": "c9853da6-0c6f-11f0-98e9-5e0a5654d7bd-6-f3a3-2ae4-d95a-9ae2-c5df-f62b",
       "next": "9954a6fc-0c70-11f0-98e9-5e0a5654d7bd-6-f4b2-da7a-a83c-ed27-74c8-e71c",
       "previous": "6d45e16c-100c-11f0-ac4d-3e7a738eaee3-4-fee6-0838-96f4-60e4"
      },
      {
       "current": "c9853da6-0c6f-11f0-98e9-5e0a5654d7bd-7-f3a3-2ae4-d95a-9ae2-c5df-f62b-4133",
       "next": "9954a6fc-0c70-11f0-98e9-5e0a5654d7bd-6-f4b2-da7a-a83c-ed27-74c8-e71c",
       "previous": "0e1f67be-1113-11f0-acfe-1231102d67ae-2-ca0f-6499"
      },
      {
       "current": "c9853da6-0c6f-11f0-98e9-5e0a5654d7bd-7-f3a3-2ae4-d95a-9ae2-c5df-f62b-4133",
       "next": "9954a6fc-0c70-11f0-98e9-5e0a5654d7bd-6-f4b2-da7a-a83c-ed27-74c8-e71c",
       "previous": "0e1f67be-1113-11f0-acfe-1231102d67ae-2-ca0f-6499"
      },
      {
       "current": "c9853da6-0c6f-11f0-98e9-5e0a5654d7bd-7-f3a3-2ae4-d95a-9ae2-c5df-f62b-4133",
       "next": "0e1f67be-1113-11f0-acfe-1231102d67ae-2-ca0f-6499",
       "previous": "6d45e16c-100c-11f0-ac4d-3e7a738eaee3-5-fee6-0838-96f4-60e4-1fe6"
      },
      {
       "current": "c9853da6-0c6f-11f0-98e9-5e0a5654d7bd-7-f3a3-2ae4-d95a-9ae2-c5df-f62b-4133",
       "next": "3e0a601e-1334-11f0-88c4-7e93a5d0b9a2",
       "previous": "6d45e16c-100c-11f0-ac4d-3e7a738eaee3-5-fee6-0838-96f4-60e4-1fe6"
      },
      {
       "current": "c9853da6-0c6f-11f0-98e9-5e0a5654d7bd-7-f3a3-2ae4-d95a-9ae2-c5df-f62b-4133",
       "next": "3e0a601e-1334-11f0-88c4-7e93a5d0b9a2",
       "previous": "6d45e16c-100c-11f0-ac4d-3e7a738eaee3-5-fee6-0838-96f4-60e4-1fe6"
      },
      {
       "current": "c9853da6-0c6f-11f0-98e9-5e0a5654d7bd-8-f3a3-2ae4-d95a-9ae2-c5df-f62b-4133-7070",
       "next": "3e0a601e-1334-11f0-88c4-7e93a5d0b9a2-1-c4c2",
       "previous": "6d45e16c-100c-11f0-ac4d-3e7a738eaee3-5-fee6-0838-96f4-60e4-1fe6"
      },
      {
       "current": "c9853da6-0c6f-11f0-98e9-5e0a5654d7bd-10-f3a3-2ae4-d95a-9ae2-c5df-f62b-4133-7070-00df-3be9",
       "next": "3e0a601e-1334-11f0-88c4-7e93a5d0b9a2-2-c4c2-d0a1",
       "previous": "6d45e16c-100c-11f0-ac4d-3e7a738eaee3-6-fee6-0838-96f4-60e4-1fe6-aa1b"
      },
      {
       "current": "c9853da6-0c6f-11f0-98e9-5e0a5654d7bd-12-d95a-9ae2-c5df-f62b-4133-7070-00df-3be9-bbb5-7067",
       "next": "3e0a601e-1334-11f0-88c4-7e93a5d0b9a2-4-c4c2-d0a1-aef3-37bc",
       "previous": "6d45e16c-100c-11f0-ac4d-3e7a738eaee3-8-fee6-0838-96f4-60e4-1fe6-aa1b-64b9-05ae"
      },
      {
       "current": "c9853da6-0c6f-11f0-98e9-5e0a5654d7bd-13-9ae2-c5df-f62b-4133-7070-00df-3be9-bbb5-7067-5a29",
       "next": "3e0a601e-1334-11f0-88c4-7e93a5d0b9a2-6-c4c2-d0a1-aef3-37bc-6696-b65d",
       "previous": "6d45e16c-100c-11f0-ac4d-3e7a738eaee3-10-fee6-0838-96f4-60e4-1fe6-aa1b-64b9-05ae-6338-7a0c"
      },
      {
       "current": "c9853da6-0c6f-11f0-98e9-5e0a5654d7bd-14-c5df-f62b-4133-7070-00df-3be9-bbb5-7067-5a29-3d47",
       "next": "3e0a601e-1334-11f0-88c4-7e93a5d0b9a2-7-c4c2-d0a1-aef3-37bc-6696-b65d-eb18",
       "previous": "6d45e16c-100c-11f0-ac4d-3e7a738eaee3-11-0838-96f4-60e4-1fe6-aa1b-64b9-05ae-6338-7a0c-64bf"
      }
     ],
     "next": "3e0a601e-1334-11f0-88c4-7e93a5d0b9a2-8-c4c2-d0a1-aef3-37bc-6696-b65d-eb18-e995",
     "previous": "6d45e16c-100c-11f0-ac4d-3e7a738eaee3-12-96f4-60e4-1fe6-aa1b-64b9-05ae-6338-7a0c-64bf-0290"
    },
    "pinnedOutputTabIndex": 0,
    "run_through_control": {
     "frozen": true,
     "read_only": false
    }
   },
   "outputs": [
    {
     "name": "stdout",
     "output_type": "stream",
     "text": [
      "IdPが指定された時のみ未ログインテストを実施します。\n"
     ]
    },
    {
     "data": {
      "text/plain": [
       "[]"
      ]
     },
     "execution_count": 42,
     "metadata": {},
     "output_type": "execute_result"
    }
   ],
   "source": [
    "if idp_name_1 is not None:\n",
    "    result_notebooks.append(run_notebook(\n",
    "        result_dir, 'テスト手順-ログイン.ipynb',\n",
    "        rdm_project_url_1=rdm_project_url_1,\n",
    "        rdm_project_name_1=rdm_project_name_1,\n",
    "        rdm_project_url_2=rdm_project_url_2,\n",
    "    ))\n",
    "else:\n",
    "    print('IdPが指定された時のみ未ログインテストを実施します。')\n",
    "result_notebooks"
   ]
  },
  {
   "cell_type": "markdown",
   "id": "7949952a-c7f9-4459-b4e9-d23e3a848f47",
   "metadata": {
    "deletable": true,
    "editable": true,
    "lc_cell_meme": {
     "current": "3e0a601e-1334-11f0-88c4-7e93a5d0b9a2-11-d0a1-aef3-37bc-6696-b65d-eb18-e995-a89a-7cef-693d",
     "history": [
      {
       "current": "3e0a601e-1334-11f0-88c4-7e93a5d0b9a2-2-c4c2-d0a1",
       "next": "0e1f67be-1113-11f0-acfe-1231102d67ae-2-ca0f-6499",
       "previous": "c9853da6-0c6f-11f0-98e9-5e0a5654d7bd-7-f3a3-2ae4-d95a-9ae2-c5df-f62b-4133"
      },
      {
       "current": "3e0a601e-1334-11f0-88c4-7e93a5d0b9a2-4-c4c2-d0a1-aef3-37bc",
       "next": "0e1f67be-1113-11f0-acfe-1231102d67ae-3-ca0f-6499-f4c9",
       "previous": "c9853da6-0c6f-11f0-98e9-5e0a5654d7bd-8-f3a3-2ae4-d95a-9ae2-c5df-f62b-4133-7070"
      },
      {
       "current": "3e0a601e-1334-11f0-88c4-7e93a5d0b9a2-6-c4c2-d0a1-aef3-37bc-6696-b65d",
       "next": "0e1f67be-1113-11f0-acfe-1231102d67ae-5-ca0f-6499-f4c9-b15d-e2fc",
       "previous": "c9853da6-0c6f-11f0-98e9-5e0a5654d7bd-10-f3a3-2ae4-d95a-9ae2-c5df-f62b-4133-7070-00df-3be9"
      },
      {
       "current": "3e0a601e-1334-11f0-88c4-7e93a5d0b9a2-7-c4c2-d0a1-aef3-37bc-6696-b65d-eb18",
       "next": "0e1f67be-1113-11f0-acfe-1231102d67ae-7-ca0f-6499-f4c9-b15d-e2fc-c0d5-687f",
       "previous": "c9853da6-0c6f-11f0-98e9-5e0a5654d7bd-12-d95a-9ae2-c5df-f62b-4133-7070-00df-3be9-bbb5-7067"
      },
      {
       "current": "3e0a601e-1334-11f0-88c4-7e93a5d0b9a2-8-c4c2-d0a1-aef3-37bc-6696-b65d-eb18-e995",
       "next": "0e1f67be-1113-11f0-acfe-1231102d67ae-8-ca0f-6499-f4c9-b15d-e2fc-c0d5-687f-037f",
       "previous": "c9853da6-0c6f-11f0-98e9-5e0a5654d7bd-13-9ae2-c5df-f62b-4133-7070-00df-3be9-bbb5-7067-5a29"
      }
     ],
     "next": "0e1f67be-1113-11f0-acfe-1231102d67ae-9-ca0f-6499-f4c9-b15d-e2fc-c0d5-687f-037f-8484",
     "previous": "c9853da6-0c6f-11f0-98e9-5e0a5654d7bd-14-c5df-f62b-4133-7070-00df-3be9-bbb5-7067-5a29-3d47"
    },
    "pinnedOutputTabIndex": 0,
    "run_through_control": {
     "frozen": false,
     "read_only": false
    }
   },
   "source": [
    "## ストレージ関連テスト"
   ]
  },
  {
   "cell_type": "code",
   "execution_count": 43,
   "id": "f5c59d8c-a553-4faf-98a6-6f554830edbf",
   "metadata": {
    "deletable": false,
    "editable": false,
    "lc_cell_meme": {
     "current": "0e1f67be-1113-11f0-acfe-1231102d67ae-12-f4c9-b15d-e2fc-c0d5-687f-037f-8484-7f94-87a1-843c",
     "execution_end_time": "2025-04-04T06:48:10.598Z",
     "history": [
      {
       "current": "0e1f67be-1113-11f0-acfe-1231102d67ae",
       "next": "6d45e16c-100c-11f0-ac4d-3e7a738eaee3-2-fee6-0838",
       "previous": "00e3a3c2-10f4-11f0-acfe-1231102d67ae"
      },
      {
       "current": "0e1f67be-1113-11f0-acfe-1231102d67ae",
       "next": "1182a100-1113-11f0-acfe-1231102d67ae",
       "previous": "00e3a3c2-10f4-11f0-acfe-1231102d67ae"
      },
      {
       "current": "0e1f67be-1113-11f0-acfe-1231102d67ae-1-ca0f",
       "next": "6d45e16c-100c-11f0-ac4d-3e7a738eaee3-2-fee6-0838",
       "previous": "00e3a3c2-10f4-11f0-acfe-1231102d67ae"
      },
      {
       "current": "0e1f67be-1113-11f0-acfe-1231102d67ae-2-ca0f-6499",
       "next": "6d45e16c-100c-11f0-ac4d-3e7a738eaee3-3-fee6-0838-96f4",
       "previous": "00e3a3c2-10f4-11f0-acfe-1231102d67ae-1-2840"
      },
      {
       "current": "0e1f67be-1113-11f0-acfe-1231102d67ae-2-ca0f-6499",
       "next": "6d45e16c-100c-11f0-ac4d-3e7a738eaee3-4-fee6-0838-96f4-60e4",
       "previous": "00e3a3c2-10f4-11f0-acfe-1231102d67ae-2-2840-f3f6"
      },
      {
       "current": "0e1f67be-1113-11f0-acfe-1231102d67ae-2-ca0f-6499",
       "next": "6d45e16c-100c-11f0-ac4d-3e7a738eaee3-4-fee6-0838-96f4-60e4",
       "previous": "00e3a3c2-10f4-11f0-acfe-1231102d67ae-2-2840-f3f6"
      },
      {
       "current": "0e1f67be-1113-11f0-acfe-1231102d67ae-2-ca0f-6499",
       "next": "c9853da6-0c6f-11f0-98e9-5e0a5654d7bd-6-f3a3-2ae4-d95a-9ae2-c5df-f62b",
       "previous": "6d45e16c-100c-11f0-ac4d-3e7a738eaee3-5-fee6-0838-96f4-60e4-1fe6"
      },
      {
       "current": "0e1f67be-1113-11f0-acfe-1231102d67ae-2-ca0f-6499",
       "next": "c9853da6-0c6f-11f0-98e9-5e0a5654d7bd-6-f3a3-2ae4-d95a-9ae2-c5df-f62b",
       "previous": "6d45e16c-100c-11f0-ac4d-3e7a738eaee3-5-fee6-0838-96f4-60e4-1fe6"
      },
      {
       "current": "0e1f67be-1113-11f0-acfe-1231102d67ae-2-ca0f-6499",
       "next": "9954a6fc-0c70-11f0-98e9-5e0a5654d7bd-6-f4b2-da7a-a83c-ed27-74c8-e71c",
       "previous": "c9853da6-0c6f-11f0-98e9-5e0a5654d7bd-7-f3a3-2ae4-d95a-9ae2-c5df-f62b-4133"
      },
      {
       "current": "0e1f67be-1113-11f0-acfe-1231102d67ae-2-ca0f-6499",
       "next": "9954a6fc-0c70-11f0-98e9-5e0a5654d7bd-6-f4b2-da7a-a83c-ed27-74c8-e71c",
       "previous": "3e0a601e-1334-11f0-88c4-7e93a5d0b9a2"
      },
      {
       "current": "0e1f67be-1113-11f0-acfe-1231102d67ae-2-ca0f-6499",
       "next": "9954a6fc-0c70-11f0-98e9-5e0a5654d7bd-6-f4b2-da7a-a83c-ed27-74c8-e71c",
       "previous": "3e0a601e-1334-11f0-88c4-7e93a5d0b9a2"
      },
      {
       "current": "0e1f67be-1113-11f0-acfe-1231102d67ae-3-ca0f-6499-f4c9",
       "next": "9954a6fc-0c70-11f0-98e9-5e0a5654d7bd-6-f4b2-da7a-a83c-ed27-74c8-e71c",
       "previous": "3e0a601e-1334-11f0-88c4-7e93a5d0b9a2-1-c4c2"
      },
      {
       "current": "0e1f67be-1113-11f0-acfe-1231102d67ae-5-ca0f-6499-f4c9-b15d-e2fc",
       "next": "9954a6fc-0c70-11f0-98e9-5e0a5654d7bd-7-f4b2-da7a-a83c-ed27-74c8-e71c-344e",
       "previous": "3e0a601e-1334-11f0-88c4-7e93a5d0b9a2-2-c4c2-d0a1"
      },
      {
       "current": "0e1f67be-1113-11f0-acfe-1231102d67ae-7-ca0f-6499-f4c9-b15d-e2fc-c0d5-687f",
       "next": "9954a6fc-0c70-11f0-98e9-5e0a5654d7bd-9-f4b2-da7a-a83c-ed27-74c8-e71c-344e-639e-16bc",
       "previous": "3e0a601e-1334-11f0-88c4-7e93a5d0b9a2-4-c4c2-d0a1-aef3-37bc"
      },
      {
       "current": "0e1f67be-1113-11f0-acfe-1231102d67ae-8-ca0f-6499-f4c9-b15d-e2fc-c0d5-687f-037f",
       "next": "9954a6fc-0c70-11f0-98e9-5e0a5654d7bd-11-da7a-a83c-ed27-74c8-e71c-344e-639e-16bc-4839-ca2e",
       "previous": "3e0a601e-1334-11f0-88c4-7e93a5d0b9a2-6-c4c2-d0a1-aef3-37bc-6696-b65d"
      },
      {
       "current": "0e1f67be-1113-11f0-acfe-1231102d67ae-9-ca0f-6499-f4c9-b15d-e2fc-c0d5-687f-037f-8484",
       "next": "9954a6fc-0c70-11f0-98e9-5e0a5654d7bd-12-a83c-ed27-74c8-e71c-344e-639e-16bc-4839-ca2e-581a",
       "previous": "3e0a601e-1334-11f0-88c4-7e93a5d0b9a2-7-c4c2-d0a1-aef3-37bc-6696-b65d-eb18"
      }
     ],
     "next": "9954a6fc-0c70-11f0-98e9-5e0a5654d7bd-13-ed27-74c8-e71c-344e-639e-16bc-4839-ca2e-581a-54c6",
     "previous": "3e0a601e-1334-11f0-88c4-7e93a5d0b9a2-8-c4c2-d0a1-aef3-37bc-6696-b65d-eb18-e995"
    },
    "pinnedOutputTabIndex": 0,
    "run_through_control": {
     "frozen": true,
     "read_only": false
    }
   },
   "outputs": [
    {
     "data": {
      "text/plain": [
       "[]"
      ]
     },
     "execution_count": 43,
     "metadata": {},
     "output_type": "execute_result"
    }
   ],
   "source": [
    "rdm_project_prefixes = {}\n",
    "\n",
    "for storage_info in storages_oauth:\n",
    "    storage_id = storage_info['id']\n",
    "    storage_name = storage_info['name']\n",
    "    print(f'ストレージアカウント設定 - {storage_name}')\n",
    "    rdm_project_prefixes[storage_id] = 'TEST-{}-{}'.format(storage_id.upper(), datetime.now().strftime('%Y%m%d-%H%M%S'))\n",
    "    \n",
    "    result_notebooks.append(run_manual_notebook(\n",
    "        'テスト手順-拡張ストレージ-アカウント設定.ipynb',\n",
    "        optional_result_id=f'-{storage_name}',\n",
    "        rdm_project_prefix=rdm_project_prefixes[storage_id],\n",
    "        target_storage_name=storage_name,\n",
    "        target_storage_id=storage_id,\n",
    "        folder_1=locals()[f'{storage_id}_folder_1'],\n",
    "        folder_2=locals()[f'{storage_id}_folder_2'],\n",
    "    ))\n",
    "    print()\n",
    "result_notebooks"
   ]
  },
  {
   "cell_type": "code",
   "execution_count": 44,
   "id": "6bcaad96-d67d-4ce2-bca8-57ea0d5fb3c0",
   "metadata": {
    "deletable": false,
    "editable": false,
    "lc_cell_meme": {
     "current": "9954a6fc-0c70-11f0-98e9-5e0a5654d7bd-16-344e-639e-16bc-4839-ca2e-581a-54c6-3bf0-db63-1d71",
     "history": [
      {
       "current": "9954a6fc-0c70-11f0-98e9-5e0a5654d7bd",
       "next": "fc1e9000-ecda-11ef-b381-0242ac120006-8-ad5a-1453-986a-418b-269a-3f21-466e-058e",
       "previous": "c9853da6-0c6f-11f0-98e9-5e0a5654d7bd"
      },
      {
       "current": "9954a6fc-0c70-11f0-98e9-5e0a5654d7bd-1-f4b2",
       "next": "ce8c187e-f991-11ef-a92d-0242ac120006-5-964d-161e-73da-b120-ac56",
       "previous": "c9853da6-0c6f-11f0-98e9-5e0a5654d7bd"
      },
      {
       "current": "9954a6fc-0c70-11f0-98e9-5e0a5654d7bd-2-f4b2-da7a",
       "next": "3e836c18-0c75-11f0-b991-feb16f56f93e",
       "previous": "c9853da6-0c6f-11f0-98e9-5e0a5654d7bd-1-f3a3"
      },
      {
       "current": "9954a6fc-0c70-11f0-98e9-5e0a5654d7bd-4-f4b2-da7a-a83c-ed27",
       "next": "3e836c18-0c75-11f0-b991-feb16f56f93e-1-ec50",
       "previous": "c9853da6-0c6f-11f0-98e9-5e0a5654d7bd-2-f3a3-2ae4"
      },
      {
       "current": "9954a6fc-0c70-11f0-98e9-5e0a5654d7bd-5-f4b2-da7a-a83c-ed27-74c8",
       "next": "3e836c18-0c75-11f0-b991-feb16f56f93e-3-ec50-acce-16d7",
       "previous": "c9853da6-0c6f-11f0-98e9-5e0a5654d7bd-4-f3a3-2ae4-d95a-9ae2"
      },
      {
       "current": "9954a6fc-0c70-11f0-98e9-5e0a5654d7bd-6-f4b2-da7a-a83c-ed27-74c8-e71c",
       "next": "3e836c18-0c75-11f0-b991-feb16f56f93e-4-ec50-acce-16d7-78aa",
       "previous": "c9853da6-0c6f-11f0-98e9-5e0a5654d7bd-5-f3a3-2ae4-d95a-9ae2-c5df"
      },
      {
       "current": "9954a6fc-0c70-11f0-98e9-5e0a5654d7bd-6-f4b2-da7a-a83c-ed27-74c8-e71c",
       "next": "3e836c18-0c75-11f0-b991-feb16f56f93e-5-ec50-acce-16d7-78aa-8f0d",
       "previous": "c9853da6-0c6f-11f0-98e9-5e0a5654d7bd-6-f3a3-2ae4-d95a-9ae2-c5df-f62b"
      },
      {
       "current": "9954a6fc-0c70-11f0-98e9-5e0a5654d7bd-6-f4b2-da7a-a83c-ed27-74c8-e71c",
       "next": "3e836c18-0c75-11f0-b991-feb16f56f93e-5-ec50-acce-16d7-78aa-8f0d",
       "previous": "c9853da6-0c6f-11f0-98e9-5e0a5654d7bd-6-f3a3-2ae4-d95a-9ae2-c5df-f62b"
      },
      {
       "current": "9954a6fc-0c70-11f0-98e9-5e0a5654d7bd-7-f4b2-da7a-a83c-ed27-74c8-e71c-344e",
       "next": "3e836c18-0c75-11f0-b991-feb16f56f93e-5-ec50-acce-16d7-78aa-8f0d",
       "previous": "0e1f67be-1113-11f0-acfe-1231102d67ae-2-ca0f-6499"
      },
      {
       "current": "9954a6fc-0c70-11f0-98e9-5e0a5654d7bd-9-f4b2-da7a-a83c-ed27-74c8-e71c-344e-639e-16bc",
       "next": "3e836c18-0c75-11f0-b991-feb16f56f93e-6-ec50-acce-16d7-78aa-8f0d-cf7d",
       "previous": "0e1f67be-1113-11f0-acfe-1231102d67ae-3-ca0f-6499-f4c9"
      },
      {
       "current": "9954a6fc-0c70-11f0-98e9-5e0a5654d7bd-11-da7a-a83c-ed27-74c8-e71c-344e-639e-16bc-4839-ca2e",
       "next": "3e836c18-0c75-11f0-b991-feb16f56f93e-8-ec50-acce-16d7-78aa-8f0d-cf7d-974d-99b6",
       "previous": "0e1f67be-1113-11f0-acfe-1231102d67ae-5-ca0f-6499-f4c9-b15d-e2fc"
      },
      {
       "current": "9954a6fc-0c70-11f0-98e9-5e0a5654d7bd-12-a83c-ed27-74c8-e71c-344e-639e-16bc-4839-ca2e-581a",
       "next": "3e836c18-0c75-11f0-b991-feb16f56f93e-10-ec50-acce-16d7-78aa-8f0d-cf7d-974d-99b6-ab69-3817",
       "previous": "0e1f67be-1113-11f0-acfe-1231102d67ae-7-ca0f-6499-f4c9-b15d-e2fc-c0d5-687f"
      },
      {
       "current": "9954a6fc-0c70-11f0-98e9-5e0a5654d7bd-13-ed27-74c8-e71c-344e-639e-16bc-4839-ca2e-581a-54c6",
       "next": "3e836c18-0c75-11f0-b991-feb16f56f93e-11-acce-16d7-78aa-8f0d-cf7d-974d-99b6-ab69-3817-252c",
       "previous": "0e1f67be-1113-11f0-acfe-1231102d67ae-8-ca0f-6499-f4c9-b15d-e2fc-c0d5-687f-037f"
      },
      {
       "current": "9954a6fc-0c70-11f0-98e9-5e0a5654d7bd-13-ed27-74c8-e71c-344e-639e-16bc-4839-ca2e-581a-54c6",
       "next": "3e836c18-0c75-11f0-b991-feb16f56f93e-12-16d7-78aa-8f0d-cf7d-974d-99b6-ab69-3817-252c-8494",
       "previous": "0e1f67be-1113-11f0-acfe-1231102d67ae-9-ca0f-6499-f4c9-b15d-e2fc-c0d5-687f-037f-8484"
      },
      {
       "current": "9954a6fc-0c70-11f0-98e9-5e0a5654d7bd-13-ed27-74c8-e71c-344e-639e-16bc-4839-ca2e-581a-54c6",
       "next": "8735565a-27a1-11f0-84de-32f9ed5d00a6",
       "previous": "0e1f67be-1113-11f0-acfe-1231102d67ae-9-ca0f-6499-f4c9-b15d-e2fc-c0d5-687f-037f-8484"
      }
     ],
     "next": "3e836c18-0c75-11f0-b991-feb16f56f93e-12-16d7-78aa-8f0d-cf7d-974d-99b6-ab69-3817-252c-8494",
     "previous": "0e1f67be-1113-11f0-acfe-1231102d67ae-9-ca0f-6499-f4c9-b15d-e2fc-c0d5-687f-037f-8484"
    },
    "pinnedOutputTabIndex": 0,
    "run_through_control": {
     "frozen": true,
     "read_only": false
    }
   },
   "outputs": [
    {
     "data": {
      "text/plain": [
       "[]"
      ]
     },
     "execution_count": 44,
     "metadata": {},
     "output_type": "execute_result"
    }
   ],
   "source": [
    "if not skip_default_storage:\n",
    "    result_notebooks.append(run_notebook(\n",
    "        result_dir,\n",
    "        '取りまとめ-NIIストレージ.ipynb',\n",
    "        enable_1gb_file_upload=enable_1gb_file_upload,\n",
    "        skip_failed_test=skip_failed_test,\n",
    "        skip_preview_check=skip_preview_check,\n",
    "    ))\n",
    "result_notebooks"
   ]
  },
  {
   "cell_type": "code",
   "execution_count": 45,
   "id": "7eb7a6f3-0178-4fe3-baf9-80ba70755713",
   "metadata": {
    "deletable": false,
    "editable": false,
    "lc_cell_meme": {
     "current": "3e836c18-0c75-11f0-b991-feb16f56f93e-15-cf7d-974d-99b6-ab69-3817-252c-8494-3b83-67b5-abb6",
     "execution_end_time": "2025-03-29T08:34:21.650Z",
     "history": [
      {
       "current": "3e836c18-0c75-11f0-b991-feb16f56f93e",
       "next": "ce8c187e-f991-11ef-a92d-0242ac120006-6-964d-161e-73da-b120-ac56-8b98",
       "previous": "9954a6fc-0c70-11f0-98e9-5e0a5654d7bd-1-f4b2"
      },
      {
       "current": "3e836c18-0c75-11f0-b991-feb16f56f93e",
       "next": "522aa0f0-0c76-11f0-b991-feb16f56f93e",
       "previous": "9954a6fc-0c70-11f0-98e9-5e0a5654d7bd-1-f4b2"
      },
      {
       "current": "3e836c18-0c75-11f0-b991-feb16f56f93e-1-ec50",
       "next": "ce8c187e-f991-11ef-a92d-0242ac120006-6-964d-161e-73da-b120-ac56-8b98",
       "previous": "9954a6fc-0c70-11f0-98e9-5e0a5654d7bd-1-f4b2"
      },
      {
       "current": "3e836c18-0c75-11f0-b991-feb16f56f93e-3-ec50-acce-16d7",
       "next": "ce8c187e-f991-11ef-a92d-0242ac120006-7-964d-161e-73da-b120-ac56-8b98-1201",
       "previous": "9954a6fc-0c70-11f0-98e9-5e0a5654d7bd-2-f4b2-da7a"
      },
      {
       "current": "3e836c18-0c75-11f0-b991-feb16f56f93e-3-ec50-acce-16d7",
       "next": "4a660ff4-10f3-11f0-acfe-1231102d67ae",
       "previous": "9954a6fc-0c70-11f0-98e9-5e0a5654d7bd-4-f4b2-da7a-a83c-ed27"
      },
      {
       "current": "3e836c18-0c75-11f0-b991-feb16f56f93e-4-ec50-acce-16d7-78aa",
       "next": "3ad3ff3a-110f-11f0-acfe-1231102d67ae",
       "previous": "9954a6fc-0c70-11f0-98e9-5e0a5654d7bd-4-f4b2-da7a-a83c-ed27"
      },
      {
       "current": "3e836c18-0c75-11f0-b991-feb16f56f93e-5-ec50-acce-16d7-78aa-8f0d",
       "next": "3ad3ff3a-110f-11f0-acfe-1231102d67ae-1-295f",
       "previous": "9954a6fc-0c70-11f0-98e9-5e0a5654d7bd-5-f4b2-da7a-a83c-ed27-74c8"
      },
      {
       "current": "3e836c18-0c75-11f0-b991-feb16f56f93e-6-ec50-acce-16d7-78aa-8f0d-cf7d",
       "next": "3ad3ff3a-110f-11f0-acfe-1231102d67ae-2-295f-e6ae",
       "previous": "9954a6fc-0c70-11f0-98e9-5e0a5654d7bd-6-f4b2-da7a-a83c-ed27-74c8-e71c"
      },
      {
       "current": "3e836c18-0c75-11f0-b991-feb16f56f93e-8-ec50-acce-16d7-78aa-8f0d-cf7d-974d-99b6",
       "next": "3ad3ff3a-110f-11f0-acfe-1231102d67ae-3-295f-e6ae-8fc8",
       "previous": "9954a6fc-0c70-11f0-98e9-5e0a5654d7bd-7-f4b2-da7a-a83c-ed27-74c8-e71c-344e"
      },
      {
       "current": "3e836c18-0c75-11f0-b991-feb16f56f93e-10-ec50-acce-16d7-78aa-8f0d-cf7d-974d-99b6-ab69-3817",
       "next": "3ad3ff3a-110f-11f0-acfe-1231102d67ae-5-295f-e6ae-8fc8-2607-146b",
       "previous": "9954a6fc-0c70-11f0-98e9-5e0a5654d7bd-9-f4b2-da7a-a83c-ed27-74c8-e71c-344e-639e-16bc"
      },
      {
       "current": "3e836c18-0c75-11f0-b991-feb16f56f93e-11-acce-16d7-78aa-8f0d-cf7d-974d-99b6-ab69-3817-252c",
       "next": "3ad3ff3a-110f-11f0-acfe-1231102d67ae-7-295f-e6ae-8fc8-2607-146b-dcdd-8953",
       "previous": "9954a6fc-0c70-11f0-98e9-5e0a5654d7bd-11-da7a-a83c-ed27-74c8-e71c-344e-639e-16bc-4839-ca2e"
      },
      {
       "current": "3e836c18-0c75-11f0-b991-feb16f56f93e-11-acce-16d7-78aa-8f0d-cf7d-974d-99b6-ab69-3817-252c",
       "next": "3ad3ff3a-110f-11f0-acfe-1231102d67ae-8-295f-e6ae-8fc8-2607-146b-dcdd-8953-763d",
       "previous": "9954a6fc-0c70-11f0-98e9-5e0a5654d7bd-12-a83c-ed27-74c8-e71c-344e-639e-16bc-4839-ca2e-581a"
      },
      {
       "current": "3e836c18-0c75-11f0-b991-feb16f56f93e-11-acce-16d7-78aa-8f0d-cf7d-974d-99b6-ab69-3817-252c",
       "next": "775b9550-1cc5-11f0-bede-d2c904970d7c",
       "previous": "9954a6fc-0c70-11f0-98e9-5e0a5654d7bd-12-a83c-ed27-74c8-e71c-344e-639e-16bc-4839-ca2e-581a"
      },
      {
       "current": "3e836c18-0c75-11f0-b991-feb16f56f93e-12-16d7-78aa-8f0d-cf7d-974d-99b6-ab69-3817-252c-8494",
       "next": "3ad3ff3a-110f-11f0-acfe-1231102d67ae-8-295f-e6ae-8fc8-2607-146b-dcdd-8953-763d",
       "previous": "9954a6fc-0c70-11f0-98e9-5e0a5654d7bd-12-a83c-ed27-74c8-e71c-344e-639e-16bc-4839-ca2e-581a"
      },
      {
       "current": "3e836c18-0c75-11f0-b991-feb16f56f93e-12-16d7-78aa-8f0d-cf7d-974d-99b6-ab69-3817-252c-8494",
       "next": "3ad3ff3a-110f-11f0-acfe-1231102d67ae-9-295f-e6ae-8fc8-2607-146b-dcdd-8953-763d-2379",
       "previous": "9954a6fc-0c70-11f0-98e9-5e0a5654d7bd-13-ed27-74c8-e71c-344e-639e-16bc-4839-ca2e-581a-54c6"
      },
      {
       "current": "3e836c18-0c75-11f0-b991-feb16f56f93e-12-16d7-78aa-8f0d-cf7d-974d-99b6-ab69-3817-252c-8494",
       "next": "3ad3ff3a-110f-11f0-acfe-1231102d67ae-9-295f-e6ae-8fc8-2607-146b-dcdd-8953-763d-2379",
       "previous": "8735565a-27a1-11f0-84de-32f9ed5d00a6"
      }
     ],
     "next": "3ad3ff3a-110f-11f0-acfe-1231102d67ae-9-295f-e6ae-8fc8-2607-146b-dcdd-8953-763d-2379",
     "previous": "9954a6fc-0c70-11f0-98e9-5e0a5654d7bd-13-ed27-74c8-e71c-344e-639e-16bc-4839-ca2e-581a-54c6"
    },
    "pinnedOutputTabIndex": 0,
    "run_through_control": {
     "frozen": true,
     "read_only": false
    },
    "scrolled": true
   },
   "outputs": [
    {
     "data": {
      "text/plain": [
       "[]"
      ]
     },
     "execution_count": 45,
     "metadata": {},
     "output_type": "execute_result"
    }
   ],
   "source": [
    "for storage_info in storages_s3:\n",
    "    storage_id = storage_info['id']\n",
    "    storage_name = storage_info['name']\n",
    "    print(f'S3共通ストレージテスト - {storage_name}')\n",
    "    rdm_project_prefixes[storage_id] = 'TEST-{}-{}'.format(storage_id.upper(), datetime.now().strftime('%Y%m%d-%H%M%S'))\n",
    "    result_notebooks.append(run_notebook(\n",
    "        result_dir, '取りまとめ-S3共通.ipynb',\n",
    "        optional_result_id=f'-{storage_name}',\n",
    "        s3_access_key_1=locals()[f'{storage_id}_access_key_1'],\n",
    "        s3_secret_access_key_1=locals()[f'{storage_id}_secret_access_key_1'],\n",
    "        s3_default_region_1=locals()[f'{storage_id}_default_region_1'],\n",
    "        s3_test_bucket_name_1=locals()[f'{storage_id}_test_bucket_name_1'],\n",
    "        s3_access_key_2=locals()[f'{storage_id}_access_key_2'],\n",
    "        s3_secret_access_key_2=locals()[f'{storage_id}_secret_access_key_2'],\n",
    "        s3_default_region_2=locals()[f'{storage_id}_default_region_2'],\n",
    "        s3_test_bucket_name_2=locals()[f'{storage_id}_test_bucket_name_2'],\n",
    "        rdm_project_prefix=rdm_project_prefixes[storage_id],\n",
    "        target_storage_name=storage_name,\n",
    "        target_storage_id=storage_id,\n",
    "        enable_1gb_file_upload=enable_1gb_file_upload,\n",
    "        skip_failed_test=skip_failed_test,\n",
    "        skip_preview_check=skip_preview_check,\n",
    "        s3compat_type_name_1=s3compat_type_name_1 if storage_id == 's3compat' else None,\n",
    "        s3compat_type_name_2=s3compat_type_name_2 if storage_id == 's3compat' else None,\n",
    "        skip_too_many_files_check=storage_info.get('skip_too_many_files_check', False),\n",
    "    ))\n",
    "result_notebooks"
   ]
  },
  {
   "cell_type": "code",
   "execution_count": 46,
   "id": "7ec495ac-9bc6-4f76-be19-eaa5cd974207",
   "metadata": {
    "deletable": false,
    "editable": false,
    "lc_cell_meme": {
     "current": "3ad3ff3a-110f-11f0-acfe-1231102d67ae-12-8fc8-2607-146b-dcdd-8953-763d-2379-9a2c-0a3c-7bb9",
     "execution_end_time": "2025-04-04T07:45:05.028Z",
     "history": [
      {
       "current": "3ad3ff3a-110f-11f0-acfe-1231102d67ae",
       "next": "4a660ff4-10f3-11f0-acfe-1231102d67ae",
       "previous": "3e836c18-0c75-11f0-b991-feb16f56f93e-3-ec50-acce-16d7"
      },
      {
       "current": "3ad3ff3a-110f-11f0-acfe-1231102d67ae",
       "next": "ce8c187e-f991-11ef-a92d-0242ac120006-9-964d-161e-73da-b120-ac56-8b98-1201-7cb7-3196",
       "previous": "3e836c18-0c75-11f0-b991-feb16f56f93e-3-ec50-acce-16d7"
      },
      {
       "current": "3ad3ff3a-110f-11f0-acfe-1231102d67ae",
       "next": "f8e78012-1116-11f0-acfe-1231102d67ae",
       "previous": "3e836c18-0c75-11f0-b991-feb16f56f93e-3-ec50-acce-16d7"
      },
      {
       "current": "3ad3ff3a-110f-11f0-acfe-1231102d67ae-1-295f",
       "next": "ce8c187e-f991-11ef-a92d-0242ac120006-9-964d-161e-73da-b120-ac56-8b98-1201-7cb7-3196",
       "previous": "3e836c18-0c75-11f0-b991-feb16f56f93e-3-ec50-acce-16d7"
      },
      {
       "current": "3ad3ff3a-110f-11f0-acfe-1231102d67ae-2-295f-e6ae",
       "next": "ce8c187e-f991-11ef-a92d-0242ac120006-10-964d-161e-73da-b120-ac56-8b98-1201-7cb7-3196-2eb1",
       "previous": "3e836c18-0c75-11f0-b991-feb16f56f93e-4-ec50-acce-16d7-78aa"
      },
      {
       "current": "3ad3ff3a-110f-11f0-acfe-1231102d67ae-2-295f-e6ae",
       "next": "ce8c187e-f991-11ef-a92d-0242ac120006-11-161e-73da-b120-ac56-8b98-1201-7cb7-3196-2eb1-0197",
       "previous": "3e836c18-0c75-11f0-b991-feb16f56f93e-5-ec50-acce-16d7-78aa-8f0d"
      },
      {
       "current": "3ad3ff3a-110f-11f0-acfe-1231102d67ae-3-295f-e6ae-8fc8",
       "next": "75724f5c-1349-11f0-88c4-7e93a5d0b9a2",
       "previous": "3e836c18-0c75-11f0-b991-feb16f56f93e-5-ec50-acce-16d7-78aa-8f0d"
      },
      {
       "current": "3ad3ff3a-110f-11f0-acfe-1231102d67ae-5-295f-e6ae-8fc8-2607-146b",
       "next": "75724f5c-1349-11f0-88c4-7e93a5d0b9a2-1-f5fc",
       "previous": "3e836c18-0c75-11f0-b991-feb16f56f93e-6-ec50-acce-16d7-78aa-8f0d-cf7d"
      },
      {
       "current": "3ad3ff3a-110f-11f0-acfe-1231102d67ae-7-295f-e6ae-8fc8-2607-146b-dcdd-8953",
       "next": "75724f5c-1349-11f0-88c4-7e93a5d0b9a2-3-f5fc-59bf-43bf",
       "previous": "3e836c18-0c75-11f0-b991-feb16f56f93e-8-ec50-acce-16d7-78aa-8f0d-cf7d-974d-99b6"
      },
      {
       "current": "3ad3ff3a-110f-11f0-acfe-1231102d67ae-8-295f-e6ae-8fc8-2607-146b-dcdd-8953-763d",
       "next": "75724f5c-1349-11f0-88c4-7e93a5d0b9a2-5-f5fc-59bf-43bf-c59f-3479",
       "previous": "3e836c18-0c75-11f0-b991-feb16f56f93e-10-ec50-acce-16d7-78aa-8f0d-cf7d-974d-99b6-ab69-3817"
      },
      {
       "current": "3ad3ff3a-110f-11f0-acfe-1231102d67ae-8-295f-e6ae-8fc8-2607-146b-dcdd-8953-763d",
       "next": "75724f5c-1349-11f0-88c4-7e93a5d0b9a2-6-f5fc-59bf-43bf-c59f-3479-3b46",
       "previous": "3e836c18-0c75-11f0-b991-feb16f56f93e-11-acce-16d7-78aa-8f0d-cf7d-974d-99b6-ab69-3817-252c"
      },
      {
       "current": "3ad3ff3a-110f-11f0-acfe-1231102d67ae-8-295f-e6ae-8fc8-2607-146b-dcdd-8953-763d",
       "next": "75724f5c-1349-11f0-88c4-7e93a5d0b9a2-6-f5fc-59bf-43bf-c59f-3479-3b46",
       "previous": "775b9550-1cc5-11f0-bede-d2c904970d7c"
      },
      {
       "current": "3ad3ff3a-110f-11f0-acfe-1231102d67ae-9-295f-e6ae-8fc8-2607-146b-dcdd-8953-763d-2379",
       "next": "75724f5c-1349-11f0-88c4-7e93a5d0b9a2-6-f5fc-59bf-43bf-c59f-3479-3b46",
       "previous": "3e836c18-0c75-11f0-b991-feb16f56f93e-11-acce-16d7-78aa-8f0d-cf7d-974d-99b6-ab69-3817-252c"
      },
      {
       "current": "3ad3ff3a-110f-11f0-acfe-1231102d67ae-9-295f-e6ae-8fc8-2607-146b-dcdd-8953-763d-2379",
       "next": "75724f5c-1349-11f0-88c4-7e93a5d0b9a2-7-f5fc-59bf-43bf-c59f-3479-3b46-9d78",
       "previous": "3e836c18-0c75-11f0-b991-feb16f56f93e-12-16d7-78aa-8f0d-cf7d-974d-99b6-ab69-3817-252c-8494"
      },
      {
       "current": "3ad3ff3a-110f-11f0-acfe-1231102d67ae-9-295f-e6ae-8fc8-2607-146b-dcdd-8953-763d-2379",
       "next": "92b2bcd6-2876-11f0-84de-32f9ed5d00a6",
       "previous": "3e836c18-0c75-11f0-b991-feb16f56f93e-12-16d7-78aa-8f0d-cf7d-974d-99b6-ab69-3817-252c-8494"
      }
     ],
     "next": "75724f5c-1349-11f0-88c4-7e93a5d0b9a2-7-f5fc-59bf-43bf-c59f-3479-3b46-9d78",
     "previous": "3e836c18-0c75-11f0-b991-feb16f56f93e-12-16d7-78aa-8f0d-cf7d-974d-99b6-ab69-3817-252c-8494"
    },
    "pinnedOutputTabIndex": 0,
    "run_through_control": {
     "frozen": true,
     "read_only": false
    }
   },
   "outputs": [
    {
     "data": {
      "text/plain": [
       "[]"
      ]
     },
     "execution_count": 46,
     "metadata": {},
     "output_type": "execute_result"
    }
   ],
   "source": [
    "for storage_info in storages_oauth[::-1]:\n",
    "    storage_id = storage_info['id']\n",
    "    storage_name = storage_info['name']\n",
    "    print(storage_name)\n",
    "    result_notebooks.append(run_notebook(\n",
    "        result_dir, '取りまとめ-拡張ストレージ-共通試験.ipynb',\n",
    "        optional_result_id=f'-{storage_name}',\n",
    "        rdm_project_prefix=rdm_project_prefixes[storage_id],\n",
    "        target_storage_name=storage_name,\n",
    "        target_storage_id=storage_id,\n",
    "        enable_1gb_file_upload=enable_1gb_file_upload,\n",
    "        skip_failed_test=skip_failed_test,\n",
    "    ))\n",
    "result_notebooks"
   ]
  },
  {
   "cell_type": "code",
   "execution_count": null,
   "id": "ca7a0d4d-66c3-41d9-bdde-5442a59ed6ca",
   "metadata": {
    "deletable": false,
    "editable": false,
    "lc_cell_meme": {
     "current": "75724f5c-1349-11f0-88c4-7e93a5d0b9a2-10-f5fc-59bf-43bf-c59f-3479-3b46-9d78-3695-bedb-6b8d",
     "execution_end_time": "2025-04-07T01:27:01.561Z",
     "history": [
      {
       "current": "75724f5c-1349-11f0-88c4-7e93a5d0b9a2-1-f5fc",
       "next": "ce8c187e-f991-11ef-a92d-0242ac120006-11-161e-73da-b120-ac56-8b98-1201-7cb7-3196-2eb1-0197",
       "previous": "3ad3ff3a-110f-11f0-acfe-1231102d67ae-2-295f-e6ae"
      },
      {
       "current": "75724f5c-1349-11f0-88c4-7e93a5d0b9a2-1-f5fc",
       "next": "209f1b98-1382-11f0-9aa5-12c295de3846",
       "previous": "3ad3ff3a-110f-11f0-acfe-1231102d67ae-3-295f-e6ae-8fc8"
      },
      {
       "current": "75724f5c-1349-11f0-88c4-7e93a5d0b9a2-1-f5fc",
       "next": "ce8c187e-f991-11ef-a92d-0242ac120006-12-73da-b120-ac56-8b98-1201-7cb7-3196-2eb1-0197-36e5",
       "previous": "3ad3ff3a-110f-11f0-acfe-1231102d67ae-3-295f-e6ae-8fc8"
      },
      {
       "current": "75724f5c-1349-11f0-88c4-7e93a5d0b9a2-1-f5fc",
       "next": "2522b10c-1382-11f0-9aa5-12c295de3846",
       "previous": "3ad3ff3a-110f-11f0-acfe-1231102d67ae-3-295f-e6ae-8fc8"
      },
      {
       "current": "75724f5c-1349-11f0-88c4-7e93a5d0b9a2-3-f5fc-59bf-43bf",
       "next": "ce8c187e-f991-11ef-a92d-0242ac120006-12-73da-b120-ac56-8b98-1201-7cb7-3196-2eb1-0197-36e5",
       "previous": "3ad3ff3a-110f-11f0-acfe-1231102d67ae-3-295f-e6ae-8fc8"
      },
      {
       "current": "75724f5c-1349-11f0-88c4-7e93a5d0b9a2-5-f5fc-59bf-43bf-c59f-3479",
       "next": "ce8c187e-f991-11ef-a92d-0242ac120006-14-ac56-8b98-1201-7cb7-3196-2eb1-0197-36e5-a430-f688",
       "previous": "3ad3ff3a-110f-11f0-acfe-1231102d67ae-5-295f-e6ae-8fc8-2607-146b"
      },
      {
       "current": "75724f5c-1349-11f0-88c4-7e93a5d0b9a2-6-f5fc-59bf-43bf-c59f-3479-3b46",
       "next": "ce8c187e-f991-11ef-a92d-0242ac120006-16-1201-7cb7-3196-2eb1-0197-36e5-a430-f688-6e12-50ad",
       "previous": "3ad3ff3a-110f-11f0-acfe-1231102d67ae-7-295f-e6ae-8fc8-2607-146b-dcdd-8953"
      },
      {
       "current": "75724f5c-1349-11f0-88c4-7e93a5d0b9a2-6-f5fc-59bf-43bf-c59f-3479-3b46",
       "next": "ce8c187e-f991-11ef-a92d-0242ac120006-17-7cb7-3196-2eb1-0197-36e5-a430-f688-6e12-50ad-fa33",
       "previous": "3ad3ff3a-110f-11f0-acfe-1231102d67ae-8-295f-e6ae-8fc8-2607-146b-dcdd-8953-763d"
      },
      {
       "current": "75724f5c-1349-11f0-88c4-7e93a5d0b9a2-7-f5fc-59bf-43bf-c59f-3479-3b46-9d78",
       "next": "ffa0c83a-1d70-11f0-bede-d2c904970d7c",
       "previous": "3ad3ff3a-110f-11f0-acfe-1231102d67ae-8-295f-e6ae-8fc8-2607-146b-dcdd-8953-763d"
      },
      {
       "current": "75724f5c-1349-11f0-88c4-7e93a5d0b9a2-7-f5fc-59bf-43bf-c59f-3479-3b46-9d78",
       "next": "ffa0c83a-1d70-11f0-bede-d2c904970d7c-1-a604",
       "previous": "3ad3ff3a-110f-11f0-acfe-1231102d67ae-9-295f-e6ae-8fc8-2607-146b-dcdd-8953-763d-2379"
      },
      {
       "current": "75724f5c-1349-11f0-88c4-7e93a5d0b9a2-7-f5fc-59bf-43bf-c59f-3479-3b46-9d78",
       "next": "ffa0c83a-1d70-11f0-bede-d2c904970d7c-1-a604",
       "previous": "92b2bcd6-2876-11f0-84de-32f9ed5d00a6"
      },
      {
       "current": "75724f5c-1349-11f0-88c4-7e93a5d0b9a2-7-f5fc-59bf-43bf-c59f-3479-3b46-9d78",
       "next": "ffa0c83a-1d70-11f0-bede-d2c904970d7c-1-a604",
       "previous": "3ad3ff3a-110f-11f0-acfe-1231102d67ae-9-295f-e6ae-8fc8-2607-146b-dcdd-8953-763d-2379"
      },
      {
       "current": "75724f5c-1349-11f0-88c4-7e93a5d0b9a2-7-f5fc-59bf-43bf-c59f-3479-3b46-9d78",
       "next": "5aea7552-2888-11f0-84de-32f9ed5d00a6",
       "previous": "3ad3ff3a-110f-11f0-acfe-1231102d67ae-9-295f-e6ae-8fc8-2607-146b-dcdd-8953-763d-2379"
      },
      {
       "current": "75724f5c-1349-11f0-88c4-7e93a5d0b9a2-7-f5fc-59bf-43bf-c59f-3479-3b46-9d78",
       "next": "5aea7552-2888-11f0-84de-32f9ed5d00a6",
       "previous": "3ad3ff3a-110f-11f0-acfe-1231102d67ae-9-295f-e6ae-8fc8-2607-146b-dcdd-8953-763d-2379"
      }
     ],
     "next": "5aea7552-2888-11f0-84de-32f9ed5d00a6-1-a992",
     "previous": "3ad3ff3a-110f-11f0-acfe-1231102d67ae-9-295f-e6ae-8fc8-2607-146b-dcdd-8953-763d-2379"
    },
    "pinnedOutputTabIndex": 0,
    "run_through_control": {
     "frozen": true,
     "read_only": false
    }
   },
   "outputs": [
    {
     "name": "stderr",
     "output_type": "stream",
     "text": [
      "Passed unknown parameter: idp_name\n",
      "Passed unknown parameter: idp_username\n",
      "Passed unknown parameter: idp_password\n"
     ]
    },
    {
     "data": {
      "application/vnd.jupyter.widget-view+json": {
       "model_id": "223d7a7c020040c890af4c11b317296e",
       "version_major": 2,
       "version_minor": 0
      },
      "text/plain": [
       "Executing:   0%|          | 0/27 [00:00<?, ?cell/s]"
      ]
     },
     "metadata": {},
     "output_type": "display_data"
    },
    {
     "name": "stderr",
     "output_type": "stream",
     "text": [
      "[IPKernelApp] ERROR | Notebook JSON is invalid: Additional properties are not allowed ('execution_count' was unexpected)\n",
      "\n",
      "Failed validating 'additionalProperties' in error:\n",
      "\n",
      "On instance['cells'][20]['outputs'][1]:\n",
      "{'ename': 'AssertionError',\n",
      " 'evalue': 'Locator expected to be visible\\n'\n",
      "           'Actual value: <element(s) not fou...',\n",
      " 'execution_count': 14,\n",
      " 'output_type': 'error',\n",
      " 'traceback': ['\\x1b[0;31m---------------------------------------------------------...',\n",
      "               '\\x1b[0;31mAssertionError\\x1b[0m                            '\n",
      "               'Traceback (...',\n",
      "               'Cell \\x1b[0;32mIn[14], line 8\\x1b[0m\\n'\n",
      "               '\\x1b[1;32m      5\\x1b[0m     \\x1b[38;5;28;...',\n",
      "               'File \\x1b[0;32m~/scripts/playwright.py:57\\x1b[0m, in '\n",
      "               '\\x1b[0;36mrun_pw\\x1b[0;...',\n",
      "               'Cell \\x1b[0;32mIn[14], line 5\\x1b[0m, in '\n",
      "               '\\x1b[0;36m_step\\x1b[0;34m(page)\\x1b[0m...',\n",
      "               '    \\x1b[0;31m[... skipping hidden 2 frame]\\x1b[0m\\n',\n",
      "               'File '\n",
      "               '\\x1b[0;32m/opt/conda/lib/python3.12/site-packages/playwright/_...',\n",
      "               '\\x1b[0;31mAssertionError\\x1b[0m: Locator expected to be '\n",
      "               'visible\\n'\n",
      "               'Actual...']}\n"
     ]
    },
    {
     "data": {
      "text/plain": [
       "['result/result-20250520-015143/取りまとめ-Metadataアドオン.ipynb']"
      ]
     },
     "execution_count": 47,
     "metadata": {},
     "output_type": "execute_result"
    }
   ],
   "source": [
    "if not skip_metadata:\n",
    "    result_notebooks.append(run_notebook(\n",
    "        result_dir,\n",
    "        '取りまとめ-Metadataアドオン.ipynb',\n",
    "        idp_name_2=idp_name_2,\n",
    "        idp_username_2=idp_username_2,\n",
    "        idp_password_2=idp_password_2,\n",
    "        skip_failed_test=skip_failed_test,\n",
    "        skip_erad_completion_test=skip_erad_completion_test,\n",
    "    ))\n",
    "result_notebooks"
   ]
  },
  {
   "cell_type": "markdown",
   "id": "dec7726a-7c49-417b-bbb7-6aa2731c887b",
   "metadata": {
    "deletable": true,
    "editable": true,
    "lc_cell_meme": {
     "current": "5aea7552-2888-11f0-84de-32f9ed5d00a6-4-a992-2874-4540-9c82",
     "next": "ffa0c83a-1d70-11f0-bede-d2c904970d7c-1-a604",
     "previous": "75724f5c-1349-11f0-88c4-7e93a5d0b9a2-7-f5fc-59bf-43bf-c59f-3479-3b46-9d78"
    },
    "pinnedOutputTabIndex": 0,
    "run_through_control": {
     "frozen": false,
     "read_only": false
    }
   },
   "source": [
    "## 管理者機能関連テスト"
   ]
  },
  {
   "cell_type": "code",
   "execution_count": 48,
   "id": "937ad965-84a6-4dcd-bb62-0b1694893ca7",
   "metadata": {
    "deletable": false,
    "editable": false,
    "lc_cell_meme": {
     "current": "ffa0c83a-1d70-11f0-bede-d2c904970d7c-4-a604-c68e-e257-d182",
     "execution_end_time": "2025-04-19T23:09:57.850Z",
     "history": [
      {
       "current": "ffa0c83a-1d70-11f0-bede-d2c904970d7c-1-a604",
       "next": "ce8c187e-f991-11ef-a92d-0242ac120006-17-7cb7-3196-2eb1-0197-36e5-a430-f688-6e12-50ad-fa33",
       "previous": "75724f5c-1349-11f0-88c4-7e93a5d0b9a2-6-f5fc-59bf-43bf-c59f-3479-3b46"
      },
      {
       "current": "ffa0c83a-1d70-11f0-bede-d2c904970d7c-1-a604",
       "next": "ce8c187e-f991-11ef-a92d-0242ac120006-18-3196-2eb1-0197-36e5-a430-f688-6e12-50ad-fa33-99cb",
       "previous": "75724f5c-1349-11f0-88c4-7e93a5d0b9a2-7-f5fc-59bf-43bf-c59f-3479-3b46-9d78"
      },
      {
       "current": "ffa0c83a-1d70-11f0-bede-d2c904970d7c-1-a604",
       "next": "1f808a5c-2878-11f0-84de-32f9ed5d00a6",
       "previous": "75724f5c-1349-11f0-88c4-7e93a5d0b9a2-7-f5fc-59bf-43bf-c59f-3479-3b46-9d78"
      },
      {
       "current": "ffa0c83a-1d70-11f0-bede-d2c904970d7c-1-a604",
       "next": "ce8c187e-f991-11ef-a92d-0242ac120006-18-3196-2eb1-0197-36e5-a430-f688-6e12-50ad-fa33-99cb",
       "previous": "75724f5c-1349-11f0-88c4-7e93a5d0b9a2-7-f5fc-59bf-43bf-c59f-3479-3b46-9d78"
      },
      {
       "current": "ffa0c83a-1d70-11f0-bede-d2c904970d7c-1-a604",
       "next": "ce8c187e-f991-11ef-a92d-0242ac120006-18-3196-2eb1-0197-36e5-a430-f688-6e12-50ad-fa33-99cb",
       "previous": "5aea7552-2888-11f0-84de-32f9ed5d00a6"
      },
      {
       "current": "ffa0c83a-1d70-11f0-bede-d2c904970d7c-1-a604",
       "next": "ce8c187e-f991-11ef-a92d-0242ac120006-18-3196-2eb1-0197-36e5-a430-f688-6e12-50ad-fa33-99cb",
       "previous": "5aea7552-2888-11f0-84de-32f9ed5d00a6"
      }
     ],
     "next": "ce8c187e-f991-11ef-a92d-0242ac120006-18-3196-2eb1-0197-36e5-a430-f688-6e12-50ad-fa33-99cb",
     "previous": "5aea7552-2888-11f0-84de-32f9ed5d00a6-1-a992"
    },
    "pinnedOutputTabIndex": 0,
    "run_through_control": {
     "frozen": true,
     "read_only": false
    }
   },
   "outputs": [
    {
     "data": {
      "text/plain": [
       "['result/result-20250520-015143/取りまとめ-Metadataアドオン.ipynb']"
      ]
     },
     "execution_count": 48,
     "metadata": {},
     "output_type": "execute_result"
    }
   ],
   "source": [
    "if not skip_admin:\n",
    "    result_notebooks.append(run_notebook(\n",
    "        result_dir,\n",
    "        '取りまとめ-管理者機能.ipynb',\n",
    "        admin_rdm_url=admin_rdm_url,\n",
    "        idp_name_2=idp_name_2,\n",
    "        idp_username_2=idp_username_2,\n",
    "        idp_password_2=idp_password_2,\n",
    "        skip_failed_test=skip_failed_test,\n",
    "        search_node_id=admin_search_node_id,\n",
    "        search_node_title=admin_search_node_title,\n",
    "        search_user_name=admin_search_user_name,\n",
    "        search_user_by_id=admin_search_user_by_id,\n",
    "        search_user_by_name=admin_search_user_by_name,\n",
    "        search_user_by_email=admin_search_user_by_email,\n",
    "        search_registration_id=admin_search_registration_id,\n",
    "        search_registration_title=admin_search_registration_title,\n",
    "        announcement_title=admin_announcement_title,\n",
    "        announcement_body=admin_announcement_body,\n",
    "        target_organization=admin_target_organization,\n",
    "        timestamp_project_name=admin_timestamp_project_name,\n",
    "        timestamp_start_date=admin_timestamp_start_date,\n",
    "        timestamp_end_date=admin_timestamp_end_date,\n",
    "        timestamp_user=admin_timestamp_user,\n",
    "        quota_user_id=admin_quota_user_id,\n",
    "        entitlement_text=admin_entitlement_text,\n",
    "    ))\n",
    "result_notebooks"
   ]
  },
  {
   "cell_type": "markdown",
   "id": "fb4d1c59-a57e-4870-9a53-440fb398ca73",
   "metadata": {
    "deletable": true,
    "editable": true,
    "lc_cell_meme": {
     "current": "ce8c187e-f991-11ef-a92d-0242ac120006-21-36e5-a430-f688-6e12-50ad-fa33-99cb-c92b-a486-95d1",
     "history": [
      {
       "current": "ce8c187e-f991-11ef-a92d-0242ac120006-3-964d-161e-73da",
       "next": "49140074-ecdc-11ef-b381-0242ac120006-4-25eb-deb0-0809-1273",
       "previous": "fc1e9000-ecda-11ef-b381-0242ac120006-4-ad5a-1453-986a-418b"
      },
      {
       "current": "ce8c187e-f991-11ef-a92d-0242ac120006-5-964d-161e-73da-b120-ac56",
       "next": "49140074-ecdc-11ef-b381-0242ac120006-6-25eb-deb0-0809-1273-60f1-622c",
       "previous": "fc1e9000-ecda-11ef-b381-0242ac120006-6-ad5a-1453-986a-418b-269a-3f21"
      },
      {
       "current": "ce8c187e-f991-11ef-a92d-0242ac120006-5-964d-161e-73da-b120-ac56",
       "next": "49140074-ecdc-11ef-b381-0242ac120006-6-25eb-deb0-0809-1273-60f1-622c",
       "previous": "fc1e9000-ecda-11ef-b381-0242ac120006-6-ad5a-1453-986a-418b-269a-3f21"
      },
      {
       "current": "ce8c187e-f991-11ef-a92d-0242ac120006-5-964d-161e-73da-b120-ac56",
       "next": "49140074-ecdc-11ef-b381-0242ac120006-8-25eb-deb0-0809-1273-60f1-622c-3afd-42ca",
       "previous": "fc1e9000-ecda-11ef-b381-0242ac120006-8-ad5a-1453-986a-418b-269a-3f21-466e-058e"
      },
      {
       "current": "ce8c187e-f991-11ef-a92d-0242ac120006-6-964d-161e-73da-b120-ac56-8b98",
       "next": "49140074-ecdc-11ef-b381-0242ac120006-8-25eb-deb0-0809-1273-60f1-622c-3afd-42ca",
       "previous": "9954a6fc-0c70-11f0-98e9-5e0a5654d7bd"
      },
      {
       "current": "ce8c187e-f991-11ef-a92d-0242ac120006-6-964d-161e-73da-b120-ac56-8b98",
       "next": "49140074-ecdc-11ef-b381-0242ac120006-9-25eb-deb0-0809-1273-60f1-622c-3afd-42ca-af3c",
       "previous": "3e836c18-0c75-11f0-b991-feb16f56f93e"
      },
      {
       "current": "ce8c187e-f991-11ef-a92d-0242ac120006-6-964d-161e-73da-b120-ac56-8b98",
       "next": "49140074-ecdc-11ef-b381-0242ac120006-9-25eb-deb0-0809-1273-60f1-622c-3afd-42ca-af3c",
       "previous": "522aa0f0-0c76-11f0-b991-feb16f56f93e"
      },
      {
       "current": "ce8c187e-f991-11ef-a92d-0242ac120006-7-964d-161e-73da-b120-ac56-8b98-1201",
       "next": "49140074-ecdc-11ef-b381-0242ac120006-9-25eb-deb0-0809-1273-60f1-622c-3afd-42ca-af3c",
       "previous": "3e836c18-0c75-11f0-b991-feb16f56f93e"
      },
      {
       "current": "ce8c187e-f991-11ef-a92d-0242ac120006-9-964d-161e-73da-b120-ac56-8b98-1201-7cb7-3196",
       "next": "49140074-ecdc-11ef-b381-0242ac120006-10-25eb-deb0-0809-1273-60f1-622c-3afd-42ca-af3c-0299",
       "previous": "3e836c18-0c75-11f0-b991-feb16f56f93e-1-ec50"
      },
      {
       "current": "ce8c187e-f991-11ef-a92d-0242ac120006-9-964d-161e-73da-b120-ac56-8b98-1201-7cb7-3196",
       "next": "49140074-ecdc-11ef-b381-0242ac120006-12-0809-1273-60f1-622c-3afd-42ca-af3c-0299-c116-49f4",
       "previous": "4a660ff4-10f3-11f0-acfe-1231102d67ae"
      },
      {
       "current": "ce8c187e-f991-11ef-a92d-0242ac120006-9-964d-161e-73da-b120-ac56-8b98-1201-7cb7-3196",
       "next": "49140074-ecdc-11ef-b381-0242ac120006-12-0809-1273-60f1-622c-3afd-42ca-af3c-0299-c116-49f4",
       "previous": "3ad3ff3a-110f-11f0-acfe-1231102d67ae"
      },
      {
       "current": "ce8c187e-f991-11ef-a92d-0242ac120006-9-964d-161e-73da-b120-ac56-8b98-1201-7cb7-3196",
       "next": "49140074-ecdc-11ef-b381-0242ac120006-12-0809-1273-60f1-622c-3afd-42ca-af3c-0299-c116-49f4",
       "previous": "f8e78012-1116-11f0-acfe-1231102d67ae"
      },
      {
       "current": "ce8c187e-f991-11ef-a92d-0242ac120006-10-964d-161e-73da-b120-ac56-8b98-1201-7cb7-3196-2eb1",
       "next": "49140074-ecdc-11ef-b381-0242ac120006-12-0809-1273-60f1-622c-3afd-42ca-af3c-0299-c116-49f4",
       "previous": "3ad3ff3a-110f-11f0-acfe-1231102d67ae"
      },
      {
       "current": "ce8c187e-f991-11ef-a92d-0242ac120006-11-161e-73da-b120-ac56-8b98-1201-7cb7-3196-2eb1-0197",
       "next": "49140074-ecdc-11ef-b381-0242ac120006-13-1273-60f1-622c-3afd-42ca-af3c-0299-c116-49f4-0329",
       "previous": "3ad3ff3a-110f-11f0-acfe-1231102d67ae-1-295f"
      },
      {
       "current": "ce8c187e-f991-11ef-a92d-0242ac120006-11-161e-73da-b120-ac56-8b98-1201-7cb7-3196-2eb1-0197",
       "next": "49140074-ecdc-11ef-b381-0242ac120006-14-60f1-622c-3afd-42ca-af3c-0299-c116-49f4-0329-1070",
       "previous": "3ad3ff3a-110f-11f0-acfe-1231102d67ae-2-295f-e6ae"
      },
      {
       "current": "ce8c187e-f991-11ef-a92d-0242ac120006-12-73da-b120-ac56-8b98-1201-7cb7-3196-2eb1-0197-36e5",
       "next": "49140074-ecdc-11ef-b381-0242ac120006-14-60f1-622c-3afd-42ca-af3c-0299-c116-49f4-0329-1070",
       "previous": "75724f5c-1349-11f0-88c4-7e93a5d0b9a2"
      },
      {
       "current": "ce8c187e-f991-11ef-a92d-0242ac120006-12-73da-b120-ac56-8b98-1201-7cb7-3196-2eb1-0197-36e5",
       "next": "49140074-ecdc-11ef-b381-0242ac120006-15-622c-3afd-42ca-af3c-0299-c116-49f4-0329-1070-c8dc",
       "previous": "209f1b98-1382-11f0-9aa5-12c295de3846"
      },
      {
       "current": "ce8c187e-f991-11ef-a92d-0242ac120006-12-73da-b120-ac56-8b98-1201-7cb7-3196-2eb1-0197-36e5",
       "next": "49140074-ecdc-11ef-b381-0242ac120006-15-622c-3afd-42ca-af3c-0299-c116-49f4-0329-1070-c8dc",
       "previous": "75724f5c-1349-11f0-88c4-7e93a5d0b9a2-1-f5fc"
      },
      {
       "current": "ce8c187e-f991-11ef-a92d-0242ac120006-12-73da-b120-ac56-8b98-1201-7cb7-3196-2eb1-0197-36e5",
       "next": "49140074-ecdc-11ef-b381-0242ac120006-15-622c-3afd-42ca-af3c-0299-c116-49f4-0329-1070-c8dc",
       "previous": "2522b10c-1382-11f0-9aa5-12c295de3846"
      },
      {
       "current": "ce8c187e-f991-11ef-a92d-0242ac120006-14-ac56-8b98-1201-7cb7-3196-2eb1-0197-36e5-a430-f688",
       "next": "49140074-ecdc-11ef-b381-0242ac120006-15-622c-3afd-42ca-af3c-0299-c116-49f4-0329-1070-c8dc",
       "previous": "75724f5c-1349-11f0-88c4-7e93a5d0b9a2-1-f5fc"
      },
      {
       "current": "ce8c187e-f991-11ef-a92d-0242ac120006-16-1201-7cb7-3196-2eb1-0197-36e5-a430-f688-6e12-50ad",
       "next": "49140074-ecdc-11ef-b381-0242ac120006-17-42ca-af3c-0299-c116-49f4-0329-1070-c8dc-dbe5-281b",
       "previous": "75724f5c-1349-11f0-88c4-7e93a5d0b9a2-3-f5fc-59bf-43bf"
      },
      {
       "current": "ce8c187e-f991-11ef-a92d-0242ac120006-17-7cb7-3196-2eb1-0197-36e5-a430-f688-6e12-50ad-fa33",
       "next": "49140074-ecdc-11ef-b381-0242ac120006-19-0299-c116-49f4-0329-1070-c8dc-dbe5-281b-05e4-fe24",
       "previous": "75724f5c-1349-11f0-88c4-7e93a5d0b9a2-5-f5fc-59bf-43bf-c59f-3479"
      },
      {
       "current": "ce8c187e-f991-11ef-a92d-0242ac120006-17-7cb7-3196-2eb1-0197-36e5-a430-f688-6e12-50ad-fa33",
       "next": "49140074-ecdc-11ef-b381-0242ac120006-20-c116-49f4-0329-1070-c8dc-dbe5-281b-05e4-fe24-20a1",
       "previous": "75724f5c-1349-11f0-88c4-7e93a5d0b9a2-6-f5fc-59bf-43bf-c59f-3479-3b46"
      },
      {
       "current": "ce8c187e-f991-11ef-a92d-0242ac120006-18-3196-2eb1-0197-36e5-a430-f688-6e12-50ad-fa33-99cb",
       "next": "49140074-ecdc-11ef-b381-0242ac120006-20-c116-49f4-0329-1070-c8dc-dbe5-281b-05e4-fe24-20a1",
       "previous": "ffa0c83a-1d70-11f0-bede-d2c904970d7c"
      },
      {
       "current": "ce8c187e-f991-11ef-a92d-0242ac120006-18-3196-2eb1-0197-36e5-a430-f688-6e12-50ad-fa33-99cb",
       "next": "49140074-ecdc-11ef-b381-0242ac120006-21-49f4-0329-1070-c8dc-dbe5-281b-05e4-fe24-20a1-8c49",
       "previous": "ffa0c83a-1d70-11f0-bede-d2c904970d7c-1-a604"
      },
      {
       "current": "ce8c187e-f991-11ef-a92d-0242ac120006-18-3196-2eb1-0197-36e5-a430-f688-6e12-50ad-fa33-99cb",
       "next": "49140074-ecdc-11ef-b381-0242ac120006-21-49f4-0329-1070-c8dc-dbe5-281b-05e4-fe24-20a1-8c49",
       "previous": "1f808a5c-2878-11f0-84de-32f9ed5d00a6"
      }
     ],
     "next": "49140074-ecdc-11ef-b381-0242ac120006-21-49f4-0329-1070-c8dc-dbe5-281b-05e4-fe24-20a1-8c49",
     "previous": "ffa0c83a-1d70-11f0-bede-d2c904970d7c-1-a604"
    },
    "pinnedOutputTabIndex": 0,
    "run_through_control": {
     "frozen": false,
     "read_only": false
    }
   },
   "source": [
    "# 結果の収集"
   ]
  },
  {
   "cell_type": "code",
   "execution_count": 49,
   "id": "46d80668-dc9f-437e-b239-49e9787e144b",
   "metadata": {
    "deletable": false,
    "editable": false,
    "lc_cell_meme": {
     "current": "49140074-ecdc-11ef-b381-0242ac120006-24-c8dc-dbe5-281b-05e4-fe24-20a1-8c49-b848-6d70-f6e8",
     "execution_end_time": "2025-02-17T03:09:32.934Z",
     "history": [
      {
       "current": "49140074-ecdc-11ef-b381-0242ac120006-1-25eb",
       "next": "8fb6040a-ecdc-11ef-b381-0242ac120006",
       "previous": "fc1e9000-ecda-11ef-b381-0242ac120006"
      },
      {
       "current": "49140074-ecdc-11ef-b381-0242ac120006-1-25eb",
       "next": "8fb6040a-ecdc-11ef-b381-0242ac120006-1-297f",
       "previous": "fc1e9000-ecda-11ef-b381-0242ac120006-1-ad5a"
      },
      {
       "current": "49140074-ecdc-11ef-b381-0242ac120006-1-25eb",
       "next": "114a6988-eced-11ef-a157-0242ac120006",
       "previous": "fc1e9000-ecda-11ef-b381-0242ac120006-1-ad5a"
      },
      {
       "current": "49140074-ecdc-11ef-b381-0242ac120006-1-25eb",
       "next": "114a6988-eced-11ef-a157-0242ac120006",
       "previous": "6bf860c6-ed13-11ef-a157-0242ac120006"
      },
      {
       "current": "49140074-ecdc-11ef-b381-0242ac120006-1-25eb",
       "next": "114a6988-eced-11ef-a157-0242ac120006",
       "previous": "fc1e9000-ecda-11ef-b381-0242ac120006-1-ad5a"
      },
      {
       "current": "49140074-ecdc-11ef-b381-0242ac120006-1-25eb",
       "next": "8fb6040a-ecdc-11ef-b381-0242ac120006-1-297f",
       "previous": "fc1e9000-ecda-11ef-b381-0242ac120006-1-ad5a"
      },
      {
       "current": "49140074-ecdc-11ef-b381-0242ac120006-2-25eb-deb0",
       "next": "5219f0aa-ed1a-11ef-a157-0242ac120006",
       "previous": "fc1e9000-ecda-11ef-b381-0242ac120006-1-ad5a"
      },
      {
       "current": "49140074-ecdc-11ef-b381-0242ac120006-2-25eb-deb0",
       "next": "5219f0aa-ed1a-11ef-a157-0242ac120006-1-ae56",
       "previous": "fc1e9000-ecda-11ef-b381-0242ac120006-2-ad5a-1453"
      },
      {
       "current": "49140074-ecdc-11ef-b381-0242ac120006-2-25eb-deb0",
       "next": "5219f0aa-ed1a-11ef-a157-0242ac120006-1-ae56",
       "previous": "1edadbf2-edcc-11ef-a157-0242ac120006"
      },
      {
       "current": "49140074-ecdc-11ef-b381-0242ac120006-4-25eb-deb0-0809-1273",
       "next": "5219f0aa-ed1a-11ef-a157-0242ac120006-1-ae56",
       "previous": "fc1e9000-ecda-11ef-b381-0242ac120006-2-ad5a-1453"
      },
      {
       "current": "49140074-ecdc-11ef-b381-0242ac120006-4-25eb-deb0-0809-1273",
       "next": "5219f0aa-ed1a-11ef-a157-0242ac120006-3-ae56-d3e5-60f3",
       "previous": "fc1e9000-ecda-11ef-b381-0242ac120006-4-ad5a-1453-986a-418b"
      },
      {
       "current": "49140074-ecdc-11ef-b381-0242ac120006-4-25eb-deb0-0809-1273",
       "next": "5219f0aa-ed1a-11ef-a157-0242ac120006-3-ae56-d3e5-60f3",
       "previous": "ce8c187e-f991-11ef-a92d-0242ac120006"
      },
      {
       "current": "49140074-ecdc-11ef-b381-0242ac120006-4-25eb-deb0-0809-1273",
       "next": "5219f0aa-ed1a-11ef-a157-0242ac120006-3-ae56-d3e5-60f3",
       "previous": "ce8c187e-f991-11ef-a92d-0242ac120006"
      },
      {
       "current": "49140074-ecdc-11ef-b381-0242ac120006-4-25eb-deb0-0809-1273",
       "next": "5219f0aa-ed1a-11ef-a157-0242ac120006-3-ae56-d3e5-60f3",
       "previous": "ce8c187e-f991-11ef-a92d-0242ac120006-1-964d"
      },
      {
       "current": "49140074-ecdc-11ef-b381-0242ac120006-4-25eb-deb0-0809-1273",
       "next": "eb6dbd76-f991-11ef-a92d-0242ac120006",
       "previous": "ce8c187e-f991-11ef-a92d-0242ac120006-1-964d"
      },
      {
       "current": "49140074-ecdc-11ef-b381-0242ac120006-4-25eb-deb0-0809-1273",
       "next": "eb6dbd76-f991-11ef-a92d-0242ac120006",
       "previous": "ce8c187e-f991-11ef-a92d-0242ac120006-1-964d"
      },
      {
       "current": "49140074-ecdc-11ef-b381-0242ac120006-4-25eb-deb0-0809-1273",
       "next": "5219f0aa-ed1a-11ef-a157-0242ac120006-3-ae56-d3e5-60f3",
       "previous": "ce8c187e-f991-11ef-a92d-0242ac120006-1-964d"
      },
      {
       "current": "49140074-ecdc-11ef-b381-0242ac120006-4-25eb-deb0-0809-1273",
       "next": "3aed01c2-f992-11ef-a92d-0242ac120006",
       "previous": "ce8c187e-f991-11ef-a92d-0242ac120006-1-964d"
      },
      {
       "current": "49140074-ecdc-11ef-b381-0242ac120006-4-25eb-deb0-0809-1273",
       "next": "3aed01c2-f992-11ef-a92d-0242ac120006",
       "previous": "ce8c187e-f991-11ef-a92d-0242ac120006-1-964d"
      },
      {
       "current": "49140074-ecdc-11ef-b381-0242ac120006-6-25eb-deb0-0809-1273-60f1-622c",
       "next": "3aed01c2-f992-11ef-a92d-0242ac120006-1-8381",
       "previous": "ce8c187e-f991-11ef-a92d-0242ac120006-1-964d"
      },
      {
       "current": "49140074-ecdc-11ef-b381-0242ac120006-8-25eb-deb0-0809-1273-60f1-622c-3afd-42ca",
       "next": "3aed01c2-f992-11ef-a92d-0242ac120006-3-8381-06fd-07a0",
       "previous": "ce8c187e-f991-11ef-a92d-0242ac120006-3-964d-161e-73da"
      },
      {
       "current": "49140074-ecdc-11ef-b381-0242ac120006-8-25eb-deb0-0809-1273-60f1-622c-3afd-42ca",
       "next": "3aed01c2-f992-11ef-a92d-0242ac120006-3-8381-06fd-07a0",
       "previous": "ce8c187e-f991-11ef-a92d-0242ac120006-3-964d-161e-73da"
      },
      {
       "current": "49140074-ecdc-11ef-b381-0242ac120006-9-25eb-deb0-0809-1273-60f1-622c-3afd-42ca-af3c",
       "next": "3aed01c2-f992-11ef-a92d-0242ac120006-5-8381-06fd-07a0-431e-d5cc",
       "previous": "ce8c187e-f991-11ef-a92d-0242ac120006-5-964d-161e-73da-b120-ac56"
      },
      {
       "current": "49140074-ecdc-11ef-b381-0242ac120006-10-25eb-deb0-0809-1273-60f1-622c-3afd-42ca-af3c-0299",
       "next": "3aed01c2-f992-11ef-a92d-0242ac120006-6-8381-06fd-07a0-431e-d5cc-eb22",
       "previous": "ce8c187e-f991-11ef-a92d-0242ac120006-6-964d-161e-73da-b120-ac56-8b98"
      },
      {
       "current": "49140074-ecdc-11ef-b381-0242ac120006-12-0809-1273-60f1-622c-3afd-42ca-af3c-0299-c116-49f4",
       "next": "3aed01c2-f992-11ef-a92d-0242ac120006-7-8381-06fd-07a0-431e-d5cc-eb22-056a",
       "previous": "ce8c187e-f991-11ef-a92d-0242ac120006-7-964d-161e-73da-b120-ac56-8b98-1201"
      },
      {
       "current": "49140074-ecdc-11ef-b381-0242ac120006-13-1273-60f1-622c-3afd-42ca-af3c-0299-c116-49f4-0329",
       "next": "3aed01c2-f992-11ef-a92d-0242ac120006-9-8381-06fd-07a0-431e-d5cc-eb22-056a-fdfa-1ec7",
       "previous": "ce8c187e-f991-11ef-a92d-0242ac120006-9-964d-161e-73da-b120-ac56-8b98-1201-7cb7-3196"
      },
      {
       "current": "49140074-ecdc-11ef-b381-0242ac120006-14-60f1-622c-3afd-42ca-af3c-0299-c116-49f4-0329-1070",
       "next": "3aed01c2-f992-11ef-a92d-0242ac120006-10-8381-06fd-07a0-431e-d5cc-eb22-056a-fdfa-1ec7-14f3",
       "previous": "ce8c187e-f991-11ef-a92d-0242ac120006-10-964d-161e-73da-b120-ac56-8b98-1201-7cb7-3196-2eb1"
      },
      {
       "current": "49140074-ecdc-11ef-b381-0242ac120006-15-622c-3afd-42ca-af3c-0299-c116-49f4-0329-1070-c8dc",
       "next": "3aed01c2-f992-11ef-a92d-0242ac120006-11-06fd-07a0-431e-d5cc-eb22-056a-fdfa-1ec7-14f3-9bf6",
       "previous": "ce8c187e-f991-11ef-a92d-0242ac120006-11-161e-73da-b120-ac56-8b98-1201-7cb7-3196-2eb1-0197"
      },
      {
       "current": "49140074-ecdc-11ef-b381-0242ac120006-17-42ca-af3c-0299-c116-49f4-0329-1070-c8dc-dbe5-281b",
       "next": "3aed01c2-f992-11ef-a92d-0242ac120006-12-07a0-431e-d5cc-eb22-056a-fdfa-1ec7-14f3-9bf6-079f",
       "previous": "ce8c187e-f991-11ef-a92d-0242ac120006-12-73da-b120-ac56-8b98-1201-7cb7-3196-2eb1-0197-36e5"
      },
      {
       "current": "49140074-ecdc-11ef-b381-0242ac120006-19-0299-c116-49f4-0329-1070-c8dc-dbe5-281b-05e4-fe24",
       "next": "3aed01c2-f992-11ef-a92d-0242ac120006-14-d5cc-eb22-056a-fdfa-1ec7-14f3-9bf6-079f-3a55-cc39",
       "previous": "ce8c187e-f991-11ef-a92d-0242ac120006-14-ac56-8b98-1201-7cb7-3196-2eb1-0197-36e5-a430-f688"
      },
      {
       "current": "49140074-ecdc-11ef-b381-0242ac120006-20-c116-49f4-0329-1070-c8dc-dbe5-281b-05e4-fe24-20a1",
       "next": "3aed01c2-f992-11ef-a92d-0242ac120006-16-056a-fdfa-1ec7-14f3-9bf6-079f-3a55-cc39-83fe-230d",
       "previous": "ce8c187e-f991-11ef-a92d-0242ac120006-16-1201-7cb7-3196-2eb1-0197-36e5-a430-f688-6e12-50ad"
      },
      {
       "current": "49140074-ecdc-11ef-b381-0242ac120006-21-49f4-0329-1070-c8dc-dbe5-281b-05e4-fe24-20a1-8c49",
       "next": "3aed01c2-f992-11ef-a92d-0242ac120006-17-fdfa-1ec7-14f3-9bf6-079f-3a55-cc39-83fe-230d-f5d9",
       "previous": "ce8c187e-f991-11ef-a92d-0242ac120006-17-7cb7-3196-2eb1-0197-36e5-a430-f688-6e12-50ad-fa33"
      }
     ],
     "next": "3aed01c2-f992-11ef-a92d-0242ac120006-18-1ec7-14f3-9bf6-079f-3a55-cc39-83fe-230d-f5d9-f500",
     "previous": "ce8c187e-f991-11ef-a92d-0242ac120006-18-3196-2eb1-0197-36e5-a430-f688-6e12-50ad-fa33-99cb"
    },
    "pinnedOutputTabIndex": 0,
    "run_through_control": {
     "frozen": true,
     "read_only": false
    },
    "scrolled": true,
    "slideshow": {
     "slide_type": ""
    },
    "tags": []
   },
   "outputs": [
    {
     "name": "stdout",
     "output_type": "stream",
     "text": [
      "total 1416\n",
      "drwxr-sr-x 3 jovyan users    4096 May 20 01:51 .\n",
      "drwxr-sr-x 3 jovyan users    4096 May 20 01:51 ..\n",
      "drwxr-sr-x 3 jovyan users    4096 May 20 02:03 取りまとめ-Metadataアドオン\n",
      "-rw-r--r-- 1 jovyan users 1437489 May 20 02:03 取りまとめ-Metadataアドオン.ipynb\n"
     ]
    }
   ],
   "source": [
    "!ls -la {result_dir}"
   ]
  },
  {
   "cell_type": "markdown",
   "id": "35b7fb77-80bf-4ee5-95f4-eeb24d8646c7",
   "metadata": {
    "deletable": true,
    "editable": true,
    "lc_cell_meme": {
     "current": "3aed01c2-f992-11ef-a92d-0242ac120006-21-079f-3a55-cc39-83fe-230d-f5d9-f500-8bd6-fcb9-a226",
     "history": [
      {
       "current": "3aed01c2-f992-11ef-a92d-0242ac120006-3-8381-06fd-07a0",
       "next": "5219f0aa-ed1a-11ef-a157-0242ac120006-3-ae56-d3e5-60f3",
       "previous": "49140074-ecdc-11ef-b381-0242ac120006-4-25eb-deb0-0809-1273"
      },
      {
       "current": "3aed01c2-f992-11ef-a92d-0242ac120006-5-8381-06fd-07a0-431e-d5cc",
       "next": "5219f0aa-ed1a-11ef-a157-0242ac120006-5-ae56-d3e5-60f3-64d0-9d2d",
       "previous": "49140074-ecdc-11ef-b381-0242ac120006-6-25eb-deb0-0809-1273-60f1-622c"
      },
      {
       "current": "3aed01c2-f992-11ef-a92d-0242ac120006-5-8381-06fd-07a0-431e-d5cc",
       "next": "5219f0aa-ed1a-11ef-a157-0242ac120006-5-ae56-d3e5-60f3-64d0-9d2d",
       "previous": "49140074-ecdc-11ef-b381-0242ac120006-6-25eb-deb0-0809-1273-60f1-622c"
      },
      {
       "current": "3aed01c2-f992-11ef-a92d-0242ac120006-6-8381-06fd-07a0-431e-d5cc-eb22",
       "next": "5219f0aa-ed1a-11ef-a157-0242ac120006-7-ae56-d3e5-60f3-64d0-9d2d-86c5-4d1c",
       "previous": "49140074-ecdc-11ef-b381-0242ac120006-8-25eb-deb0-0809-1273-60f1-622c-3afd-42ca"
      },
      {
       "current": "3aed01c2-f992-11ef-a92d-0242ac120006-6-8381-06fd-07a0-431e-d5cc-eb22",
       "next": "5219f0aa-ed1a-11ef-a157-0242ac120006-8-ae56-d3e5-60f3-64d0-9d2d-86c5-4d1c-4e32",
       "previous": "49140074-ecdc-11ef-b381-0242ac120006-9-25eb-deb0-0809-1273-60f1-622c-3afd-42ca-af3c"
      },
      {
       "current": "3aed01c2-f992-11ef-a92d-0242ac120006-7-8381-06fd-07a0-431e-d5cc-eb22-056a",
       "next": "eb6dbd76-f991-11ef-a92d-0242ac120006-6-8889-842e-cedc-47e8-1a64-21aa",
       "previous": "49140074-ecdc-11ef-b381-0242ac120006-9-25eb-deb0-0809-1273-60f1-622c-3afd-42ca-af3c"
      },
      {
       "current": "3aed01c2-f992-11ef-a92d-0242ac120006-9-8381-06fd-07a0-431e-d5cc-eb22-056a-fdfa-1ec7",
       "next": "eb6dbd76-f991-11ef-a92d-0242ac120006-7-8889-842e-cedc-47e8-1a64-21aa-fe61",
       "previous": "49140074-ecdc-11ef-b381-0242ac120006-10-25eb-deb0-0809-1273-60f1-622c-3afd-42ca-af3c-0299"
      },
      {
       "current": "3aed01c2-f992-11ef-a92d-0242ac120006-10-8381-06fd-07a0-431e-d5cc-eb22-056a-fdfa-1ec7-14f3",
       "next": "eb6dbd76-f991-11ef-a92d-0242ac120006-9-8889-842e-cedc-47e8-1a64-21aa-fe61-ff57-dd67",
       "previous": "49140074-ecdc-11ef-b381-0242ac120006-12-0809-1273-60f1-622c-3afd-42ca-af3c-0299-c116-49f4"
      },
      {
       "current": "3aed01c2-f992-11ef-a92d-0242ac120006-11-06fd-07a0-431e-d5cc-eb22-056a-fdfa-1ec7-14f3-9bf6",
       "next": "eb6dbd76-f991-11ef-a92d-0242ac120006-10-8889-842e-cedc-47e8-1a64-21aa-fe61-ff57-dd67-d3c2",
       "previous": "49140074-ecdc-11ef-b381-0242ac120006-13-1273-60f1-622c-3afd-42ca-af3c-0299-c116-49f4-0329"
      },
      {
       "current": "3aed01c2-f992-11ef-a92d-0242ac120006-12-07a0-431e-d5cc-eb22-056a-fdfa-1ec7-14f3-9bf6-079f",
       "next": "eb6dbd76-f991-11ef-a92d-0242ac120006-11-842e-cedc-47e8-1a64-21aa-fe61-ff57-dd67-d3c2-efa6",
       "previous": "49140074-ecdc-11ef-b381-0242ac120006-14-60f1-622c-3afd-42ca-af3c-0299-c116-49f4-0329-1070"
      },
      {
       "current": "3aed01c2-f992-11ef-a92d-0242ac120006-14-d5cc-eb22-056a-fdfa-1ec7-14f3-9bf6-079f-3a55-cc39",
       "next": "eb6dbd76-f991-11ef-a92d-0242ac120006-12-cedc-47e8-1a64-21aa-fe61-ff57-dd67-d3c2-efa6-634e",
       "previous": "49140074-ecdc-11ef-b381-0242ac120006-15-622c-3afd-42ca-af3c-0299-c116-49f4-0329-1070-c8dc"
      },
      {
       "current": "3aed01c2-f992-11ef-a92d-0242ac120006-16-056a-fdfa-1ec7-14f3-9bf6-079f-3a55-cc39-83fe-230d",
       "next": "eb6dbd76-f991-11ef-a92d-0242ac120006-14-1a64-21aa-fe61-ff57-dd67-d3c2-efa6-634e-b217-b28c",
       "previous": "49140074-ecdc-11ef-b381-0242ac120006-17-42ca-af3c-0299-c116-49f4-0329-1070-c8dc-dbe5-281b"
      },
      {
       "current": "3aed01c2-f992-11ef-a92d-0242ac120006-17-fdfa-1ec7-14f3-9bf6-079f-3a55-cc39-83fe-230d-f5d9",
       "next": "eb6dbd76-f991-11ef-a92d-0242ac120006-16-fe61-ff57-dd67-d3c2-efa6-634e-b217-b28c-8bc6-3c71",
       "previous": "49140074-ecdc-11ef-b381-0242ac120006-19-0299-c116-49f4-0329-1070-c8dc-dbe5-281b-05e4-fe24"
      },
      {
       "current": "3aed01c2-f992-11ef-a92d-0242ac120006-18-1ec7-14f3-9bf6-079f-3a55-cc39-83fe-230d-f5d9-f500",
       "next": "eb6dbd76-f991-11ef-a92d-0242ac120006-17-ff57-dd67-d3c2-efa6-634e-b217-b28c-8bc6-3c71-c6c2",
       "previous": "49140074-ecdc-11ef-b381-0242ac120006-20-c116-49f4-0329-1070-c8dc-dbe5-281b-05e4-fe24-20a1"
      }
     ],
     "next": "eb6dbd76-f991-11ef-a92d-0242ac120006-18-dd67-d3c2-efa6-634e-b217-b28c-8bc6-3c71-c6c2-9528",
     "previous": "49140074-ecdc-11ef-b381-0242ac120006-21-49f4-0329-1070-c8dc-dbe5-281b-05e4-fe24-20a1-8c49"
    },
    "pinnedOutputTabIndex": 0,
    "run_through_control": {
     "frozen": false,
     "read_only": false
    }
   },
   "source": [
    "## 動画の調整\n",
    "\n",
    "操作中のシーンに見出し字幕をつける"
   ]
  },
  {
   "cell_type": "code",
   "execution_count": 50,
   "id": "1ea36712-4d46-4c17-973d-9e90946f74be",
   "metadata": {
    "deletable": false,
    "editable": false,
    "lc_cell_meme": {
     "current": "eb6dbd76-f991-11ef-a92d-0242ac120006-21-634e-b217-b28c-8bc6-3c71-c6c2-9528-fdee-f837-0de1",
     "execution_end_time": "2025-03-05T07:32:57.309Z",
     "history": [
      {
       "current": "eb6dbd76-f991-11ef-a92d-0242ac120006",
       "next": "5219f0aa-ed1a-11ef-a157-0242ac120006-3-ae56-d3e5-60f3",
       "previous": "49140074-ecdc-11ef-b381-0242ac120006-4-25eb-deb0-0809-1273"
      },
      {
       "current": "eb6dbd76-f991-11ef-a92d-0242ac120006-1-8889",
       "next": "5219f0aa-ed1a-11ef-a157-0242ac120006-3-ae56-d3e5-60f3",
       "previous": "49140074-ecdc-11ef-b381-0242ac120006-4-25eb-deb0-0809-1273"
      },
      {
       "current": "eb6dbd76-f991-11ef-a92d-0242ac120006-1-8889",
       "next": "6de74618-edc2-11ef-a157-0242ac120006-2-de82-6fc2",
       "previous": "5219f0aa-ed1a-11ef-a157-0242ac120006-3-ae56-d3e5-60f3"
      },
      {
       "current": "eb6dbd76-f991-11ef-a92d-0242ac120006-1-8889",
       "next": "816e156e-f992-11ef-a92d-0242ac120006",
       "previous": "5219f0aa-ed1a-11ef-a157-0242ac120006-3-ae56-d3e5-60f3"
      },
      {
       "current": "eb6dbd76-f991-11ef-a92d-0242ac120006-1-8889",
       "next": "6de74618-edc2-11ef-a157-0242ac120006-2-de82-6fc2",
       "previous": "5219f0aa-ed1a-11ef-a157-0242ac120006-3-ae56-d3e5-60f3"
      },
      {
       "current": "eb6dbd76-f991-11ef-a92d-0242ac120006-1-8889",
       "next": "15675aaa-f993-11ef-a92d-0242ac120006",
       "previous": "5219f0aa-ed1a-11ef-a157-0242ac120006-3-ae56-d3e5-60f3"
      },
      {
       "current": "eb6dbd76-f991-11ef-a92d-0242ac120006-1-8889",
       "next": "15675aaa-f993-11ef-a92d-0242ac120006",
       "previous": "5219f0aa-ed1a-11ef-a157-0242ac120006-3-ae56-d3e5-60f3"
      },
      {
       "current": "eb6dbd76-f991-11ef-a92d-0242ac120006-3-8889-842e-cedc",
       "next": "15675aaa-f993-11ef-a92d-0242ac120006-1-d2e6",
       "previous": "5219f0aa-ed1a-11ef-a157-0242ac120006-3-ae56-d3e5-60f3"
      },
      {
       "current": "eb6dbd76-f991-11ef-a92d-0242ac120006-5-8889-842e-cedc-47e8-1a64",
       "next": "15675aaa-f993-11ef-a92d-0242ac120006-3-d2e6-6a44-9e21",
       "previous": "5219f0aa-ed1a-11ef-a157-0242ac120006-5-ae56-d3e5-60f3-64d0-9d2d"
      },
      {
       "current": "eb6dbd76-f991-11ef-a92d-0242ac120006-5-8889-842e-cedc-47e8-1a64",
       "next": "15675aaa-f993-11ef-a92d-0242ac120006-3-d2e6-6a44-9e21",
       "previous": "5219f0aa-ed1a-11ef-a157-0242ac120006-5-ae56-d3e5-60f3-64d0-9d2d"
      },
      {
       "current": "eb6dbd76-f991-11ef-a92d-0242ac120006-6-8889-842e-cedc-47e8-1a64-21aa",
       "next": "15675aaa-f993-11ef-a92d-0242ac120006-5-d2e6-6a44-9e21-1744-ab0b",
       "previous": "5219f0aa-ed1a-11ef-a157-0242ac120006-7-ae56-d3e5-60f3-64d0-9d2d-86c5-4d1c"
      },
      {
       "current": "eb6dbd76-f991-11ef-a92d-0242ac120006-6-8889-842e-cedc-47e8-1a64-21aa",
       "next": "15675aaa-f993-11ef-a92d-0242ac120006-6-d2e6-6a44-9e21-1744-ab0b-3935",
       "previous": "5219f0aa-ed1a-11ef-a157-0242ac120006-8-ae56-d3e5-60f3-64d0-9d2d-86c5-4d1c-4e32"
      },
      {
       "current": "eb6dbd76-f991-11ef-a92d-0242ac120006-7-8889-842e-cedc-47e8-1a64-21aa-fe61",
       "next": "15675aaa-f993-11ef-a92d-0242ac120006-6-d2e6-6a44-9e21-1744-ab0b-3935",
       "previous": "3aed01c2-f992-11ef-a92d-0242ac120006-6-8381-06fd-07a0-431e-d5cc-eb22"
      },
      {
       "current": "eb6dbd76-f991-11ef-a92d-0242ac120006-9-8889-842e-cedc-47e8-1a64-21aa-fe61-ff57-dd67",
       "next": "15675aaa-f993-11ef-a92d-0242ac120006-7-d2e6-6a44-9e21-1744-ab0b-3935-5dfc",
       "previous": "3aed01c2-f992-11ef-a92d-0242ac120006-7-8381-06fd-07a0-431e-d5cc-eb22-056a"
      },
      {
       "current": "eb6dbd76-f991-11ef-a92d-0242ac120006-9-8889-842e-cedc-47e8-1a64-21aa-fe61-ff57-dd67",
       "next": "15675aaa-f993-11ef-a92d-0242ac120006-9-d2e6-6a44-9e21-1744-ab0b-3935-5dfc-db5e-1d89",
       "previous": "3aed01c2-f992-11ef-a92d-0242ac120006-9-8381-06fd-07a0-431e-d5cc-eb22-056a-fdfa-1ec7"
      },
      {
       "current": "eb6dbd76-f991-11ef-a92d-0242ac120006-9-8889-842e-cedc-47e8-1a64-21aa-fe61-ff57-dd67",
       "next": "09b30c72-112b-11f0-acfe-1231102d67ae",
       "previous": "3aed01c2-f992-11ef-a92d-0242ac120006-9-8381-06fd-07a0-431e-d5cc-eb22-056a-fdfa-1ec7"
      },
      {
       "current": "eb6dbd76-f991-11ef-a92d-0242ac120006-9-8889-842e-cedc-47e8-1a64-21aa-fe61-ff57-dd67",
       "next": "09b30c72-112b-11f0-acfe-1231102d67ae",
       "previous": "3aed01c2-f992-11ef-a92d-0242ac120006-9-8381-06fd-07a0-431e-d5cc-eb22-056a-fdfa-1ec7"
      },
      {
       "current": "eb6dbd76-f991-11ef-a92d-0242ac120006-10-8889-842e-cedc-47e8-1a64-21aa-fe61-ff57-dd67-d3c2",
       "next": "09b30c72-112b-11f0-acfe-1231102d67ae-1-3ee5",
       "previous": "3aed01c2-f992-11ef-a92d-0242ac120006-9-8381-06fd-07a0-431e-d5cc-eb22-056a-fdfa-1ec7"
      },
      {
       "current": "eb6dbd76-f991-11ef-a92d-0242ac120006-11-842e-cedc-47e8-1a64-21aa-fe61-ff57-dd67-d3c2-efa6",
       "next": "09b30c72-112b-11f0-acfe-1231102d67ae-2-3ee5-19d8",
       "previous": "3aed01c2-f992-11ef-a92d-0242ac120006-10-8381-06fd-07a0-431e-d5cc-eb22-056a-fdfa-1ec7-14f3"
      },
      {
       "current": "eb6dbd76-f991-11ef-a92d-0242ac120006-12-cedc-47e8-1a64-21aa-fe61-ff57-dd67-d3c2-efa6-634e",
       "next": "09b30c72-112b-11f0-acfe-1231102d67ae-3-3ee5-19d8-bd1a",
       "previous": "3aed01c2-f992-11ef-a92d-0242ac120006-11-06fd-07a0-431e-d5cc-eb22-056a-fdfa-1ec7-14f3-9bf6"
      },
      {
       "current": "eb6dbd76-f991-11ef-a92d-0242ac120006-14-1a64-21aa-fe61-ff57-dd67-d3c2-efa6-634e-b217-b28c",
       "next": "09b30c72-112b-11f0-acfe-1231102d67ae-4-3ee5-19d8-bd1a-477f",
       "previous": "3aed01c2-f992-11ef-a92d-0242ac120006-12-07a0-431e-d5cc-eb22-056a-fdfa-1ec7-14f3-9bf6-079f"
      },
      {
       "current": "eb6dbd76-f991-11ef-a92d-0242ac120006-16-fe61-ff57-dd67-d3c2-efa6-634e-b217-b28c-8bc6-3c71",
       "next": "09b30c72-112b-11f0-acfe-1231102d67ae-6-3ee5-19d8-bd1a-477f-1db0-8b13",
       "previous": "3aed01c2-f992-11ef-a92d-0242ac120006-14-d5cc-eb22-056a-fdfa-1ec7-14f3-9bf6-079f-3a55-cc39"
      },
      {
       "current": "eb6dbd76-f991-11ef-a92d-0242ac120006-17-ff57-dd67-d3c2-efa6-634e-b217-b28c-8bc6-3c71-c6c2",
       "next": "09b30c72-112b-11f0-acfe-1231102d67ae-8-3ee5-19d8-bd1a-477f-1db0-8b13-34f7-5067",
       "previous": "3aed01c2-f992-11ef-a92d-0242ac120006-16-056a-fdfa-1ec7-14f3-9bf6-079f-3a55-cc39-83fe-230d"
      },
      {
       "current": "eb6dbd76-f991-11ef-a92d-0242ac120006-18-dd67-d3c2-efa6-634e-b217-b28c-8bc6-3c71-c6c2-9528",
       "next": "09b30c72-112b-11f0-acfe-1231102d67ae-9-3ee5-19d8-bd1a-477f-1db0-8b13-34f7-5067-6577",
       "previous": "3aed01c2-f992-11ef-a92d-0242ac120006-17-fdfa-1ec7-14f3-9bf6-079f-3a55-cc39-83fe-230d-f5d9"
      }
     ],
     "next": "09b30c72-112b-11f0-acfe-1231102d67ae-10-3ee5-19d8-bd1a-477f-1db0-8b13-34f7-5067-6577-4b7a",
     "previous": "3aed01c2-f992-11ef-a92d-0242ac120006-18-1ec7-14f3-9bf6-079f-3a55-cc39-83fe-230d-f5d9-f500"
    },
    "pinnedOutputTabIndex": 0,
    "run_through_control": {
     "frozen": true,
     "read_only": false
    },
    "scrolled": true
   },
   "outputs": [],
   "source": [
    "# import pandas as pd\n",
    "# # import importlib\n",
    "# # import scripts.stat\n",
    "# # importlib.reload(scripts.stat)\n",
    "# from scripts.stat import get_notebook_stats\n",
    "\n",
    "# # https://chatgpt.com/share/67c7faa7-3cb4-8003-8249-1fb4b6f47093\n",
    "# def seconds_to_ass_time(seconds):\n",
    "#     \"\"\"秒を ASS の時間フォーマット (h:mm:ss.cs) に変換\"\"\"\n",
    "#     hours = int(seconds // 3600)\n",
    "#     minutes = int((seconds % 3600) // 60)\n",
    "#     sec = int(seconds % 60)\n",
    "#     centiseconds = int((seconds - int(seconds)) * 100)  # 1秒=100センチ秒\n",
    "#     return f\"{hours}:{minutes:02}:{sec:02}.{centiseconds:02}\"\n",
    "\n",
    "# def generate_ass_from_dataframe(df, output_file=\"subtitles.ass\"):\n",
    "#     \"\"\"\n",
    "#     Pandas DataFrame から .ass ファイルを生成する。\n",
    "#     DataFrame は 'duration' (秒), 'text' (字幕内容) のカラムを持つとする。\n",
    "#     \"\"\"\n",
    "#     ass_header = \"\"\"[Script Info]\n",
    "# Title: Generated ASS\n",
    "# ScriptType: v4.00+\n",
    "# Collisions: Normal\n",
    "# PlayDepth: 0\n",
    "\n",
    "# [V4+ Styles]\n",
    "# Format: Name, Fontname, Fontsize, PrimaryColour, SecondaryColour, OutlineColour, BackColour, Bold, Italic, Underline, StrikeOut, ScaleX, ScaleY, Spacing, Angle, BorderStyle, Outline, Shadow, Alignment, MarginL, MarginR, MarginV, Encoding\n",
    "# Style: Default,Arial,20,&H00FFFFFF,&H000000FF,&H00000000,&H80000000,-1,0,0,0,100,100,0,0,1,1,0,2,10,10,10,1\n",
    "\n",
    "# [Events]\n",
    "# Format: Layer, Start, End, Style, Name, MarginL, MarginR, MarginV, Effect, Text\n",
    "# \"\"\"\n",
    "\n",
    "#     ass_events = []\n",
    "#     start_time = 0.0  # 最初の字幕の開始時間\n",
    "#     for _, row in df.iterrows():\n",
    "#         if row[\"header\"] is None:\n",
    "#             # 先頭部分の処理は字幕対象外\n",
    "#             continue\n",
    "#         duration = row[\"duration\"]\n",
    "#         if duration == 0:\n",
    "#             continue\n",
    "#         text = row[\"header\"].replace(\"\\n\", \"\\\\N\")  # ASS は改行を \\N で表現\n",
    "#         end_time = start_time + duration\n",
    "#         ass_events.append(f\"Dialogue: 0,{seconds_to_ass_time(start_time)},{seconds_to_ass_time(end_time)},Default,,0,0,0,,{text}\")\n",
    "#         start_time = end_time  # 次の字幕の開始時間を更新\n",
    "\n",
    "#     # ASS ファイルを書き出し\n",
    "#     with open(output_file, \"w\", encoding=\"utf-8\") as f:\n",
    "#         f.write(ass_header + \"\\n\".join(ass_events))\n",
    "\n",
    "#     print(f\"ASS ファイルが生成されました: {output_file}\")\n",
    "\n",
    "# for dirname in os.listdir(result_dir):\n",
    "#     dirpath = os.path.join(result_dir, dirname)\n",
    "#     if not os.path.isdir(dirpath):\n",
    "#         continue\n",
    "#     video_paths = [\n",
    "#         os.path.join(dirpath, f)\n",
    "#         for f in os.listdir(dirpath)\n",
    "#         if os.path.splitext(f)[-1].lower() == '.webm'\n",
    "#     ]\n",
    "    \n",
    "#     current_df = get_notebook_stats(dirpath + '.ipynb')\n",
    "    \n",
    "#     # .ass を生成\n",
    "#     ass_path = os.path.join(work_dir, \"output.ass\")\n",
    "#     generate_ass_from_dataframe(current_df, ass_path)\n",
    "#     !cat {ass_path}\n",
    "    \n",
    "#     temp_path = os.path.join(work_dir, 'output.webm')\n",
    "    \n",
    "#     if len(video_paths) > 0:\n",
    "#         video_path = video_paths[0]\n",
    "#         !ffmpeg -i \"{video_path}\" -vf \"ass={ass_path}\" -c:v libvpx-vp9 -y -c:a copy {temp_path}\n",
    "#         video_pathbody, _ = os.path.splitext(video_path)\n",
    "#         !cp {temp_path} \"{video_pathbody}.subtitle.webm\""
   ]
  },
  {
   "cell_type": "markdown",
   "id": "b509a643-1df6-4c6c-b24b-cc5a8de2b96b",
   "metadata": {
    "deletable": true,
    "editable": true,
    "lc_cell_meme": {
     "current": "09b30c72-112b-11f0-acfe-1231102d67ae-13-477f-1db0-8b13-34f7-5067-6577-4b7a-ca7a-8d73-90bc",
     "history": [
      {
       "current": "09b30c72-112b-11f0-acfe-1231102d67ae-1-3ee5",
       "next": "15675aaa-f993-11ef-a92d-0242ac120006-9-d2e6-6a44-9e21-1744-ab0b-3935-5dfc-db5e-1d89",
       "previous": "eb6dbd76-f991-11ef-a92d-0242ac120006-9-8889-842e-cedc-47e8-1a64-21aa-fe61-ff57-dd67"
      },
      {
       "current": "09b30c72-112b-11f0-acfe-1231102d67ae-1-3ee5",
       "next": "2bdbb708-112c-11f0-acfe-1231102d67ae",
       "previous": "eb6dbd76-f991-11ef-a92d-0242ac120006-9-8889-842e-cedc-47e8-1a64-21aa-fe61-ff57-dd67"
      },
      {
       "current": "09b30c72-112b-11f0-acfe-1231102d67ae-1-3ee5",
       "next": "7752de0e-112d-11f0-acfe-1231102d67ae",
       "previous": "eb6dbd76-f991-11ef-a92d-0242ac120006-9-8889-842e-cedc-47e8-1a64-21aa-fe61-ff57-dd67"
      },
      {
       "current": "09b30c72-112b-11f0-acfe-1231102d67ae-1-3ee5",
       "next": "8e6d9f8e-112d-11f0-acfe-1231102d67ae",
       "previous": "eb6dbd76-f991-11ef-a92d-0242ac120006-9-8889-842e-cedc-47e8-1a64-21aa-fe61-ff57-dd67"
      },
      {
       "current": "09b30c72-112b-11f0-acfe-1231102d67ae-1-3ee5",
       "next": "cbc7e6b2-112f-11f0-acfe-1231102d67ae",
       "previous": "eb6dbd76-f991-11ef-a92d-0242ac120006-9-8889-842e-cedc-47e8-1a64-21aa-fe61-ff57-dd67"
      },
      {
       "current": "09b30c72-112b-11f0-acfe-1231102d67ae-2-3ee5-19d8",
       "next": "8e6d9f8e-112d-11f0-acfe-1231102d67ae",
       "previous": "eb6dbd76-f991-11ef-a92d-0242ac120006-9-8889-842e-cedc-47e8-1a64-21aa-fe61-ff57-dd67"
      },
      {
       "current": "09b30c72-112b-11f0-acfe-1231102d67ae-3-3ee5-19d8-bd1a",
       "next": "8e6d9f8e-112d-11f0-acfe-1231102d67ae-1-2604",
       "previous": "eb6dbd76-f991-11ef-a92d-0242ac120006-10-8889-842e-cedc-47e8-1a64-21aa-fe61-ff57-dd67-d3c2"
      },
      {
       "current": "09b30c72-112b-11f0-acfe-1231102d67ae-4-3ee5-19d8-bd1a-477f",
       "next": "8e6d9f8e-112d-11f0-acfe-1231102d67ae-2-2604-4366",
       "previous": "eb6dbd76-f991-11ef-a92d-0242ac120006-11-842e-cedc-47e8-1a64-21aa-fe61-ff57-dd67-d3c2-efa6"
      },
      {
       "current": "09b30c72-112b-11f0-acfe-1231102d67ae-6-3ee5-19d8-bd1a-477f-1db0-8b13",
       "next": "8e6d9f8e-112d-11f0-acfe-1231102d67ae-3-2604-4366-d3cf",
       "previous": "eb6dbd76-f991-11ef-a92d-0242ac120006-12-cedc-47e8-1a64-21aa-fe61-ff57-dd67-d3c2-efa6-634e"
      },
      {
       "current": "09b30c72-112b-11f0-acfe-1231102d67ae-8-3ee5-19d8-bd1a-477f-1db0-8b13-34f7-5067",
       "next": "8e6d9f8e-112d-11f0-acfe-1231102d67ae-5-2604-4366-d3cf-0383-8043",
       "previous": "eb6dbd76-f991-11ef-a92d-0242ac120006-14-1a64-21aa-fe61-ff57-dd67-d3c2-efa6-634e-b217-b28c"
      },
      {
       "current": "09b30c72-112b-11f0-acfe-1231102d67ae-9-3ee5-19d8-bd1a-477f-1db0-8b13-34f7-5067-6577",
       "next": "8e6d9f8e-112d-11f0-acfe-1231102d67ae-7-2604-4366-d3cf-0383-8043-893c-1118",
       "previous": "eb6dbd76-f991-11ef-a92d-0242ac120006-16-fe61-ff57-dd67-d3c2-efa6-634e-b217-b28c-8bc6-3c71"
      },
      {
       "current": "09b30c72-112b-11f0-acfe-1231102d67ae-10-3ee5-19d8-bd1a-477f-1db0-8b13-34f7-5067-6577-4b7a",
       "next": "8e6d9f8e-112d-11f0-acfe-1231102d67ae-8-2604-4366-d3cf-0383-8043-893c-1118-4af1",
       "previous": "eb6dbd76-f991-11ef-a92d-0242ac120006-17-ff57-dd67-d3c2-efa6-634e-b217-b28c-8bc6-3c71-c6c2"
      }
     ],
     "next": "8e6d9f8e-112d-11f0-acfe-1231102d67ae-9-2604-4366-d3cf-0383-8043-893c-1118-4af1-7d5b",
     "previous": "eb6dbd76-f991-11ef-a92d-0242ac120006-18-dd67-d3c2-efa6-634e-b217-b28c-8bc6-3c71-c6c2-9528"
    },
    "pinnedOutputTabIndex": 0,
    "run_through_control": {
     "frozen": false,
     "read_only": false
    }
   },
   "source": [
    "## 実施結果のまとめ"
   ]
  },
  {
   "cell_type": "code",
   "execution_count": 51,
   "id": "0b1ead76-467d-4f22-a1ae-2c9de14fb1c2",
   "metadata": {
    "deletable": false,
    "editable": false,
    "lc_cell_meme": {
     "current": "8e6d9f8e-112d-11f0-acfe-1231102d67ae-12-d3cf-0383-8043-893c-1118-4af1-7d5b-2171-1b2f-e738",
     "execution_end_time": "2025-04-04T08:40:30.409Z",
     "history": [
      {
       "current": "8e6d9f8e-112d-11f0-acfe-1231102d67ae",
       "next": "7752de0e-112d-11f0-acfe-1231102d67ae",
       "previous": "09b30c72-112b-11f0-acfe-1231102d67ae-1-3ee5"
      },
      {
       "current": "8e6d9f8e-112d-11f0-acfe-1231102d67ae",
       "next": "7752de0e-112d-11f0-acfe-1231102d67ae",
       "previous": "cbc7e6b2-112f-11f0-acfe-1231102d67ae"
      },
      {
       "current": "8e6d9f8e-112d-11f0-acfe-1231102d67ae",
       "next": "7752de0e-112d-11f0-acfe-1231102d67ae",
       "previous": "09b30c72-112b-11f0-acfe-1231102d67ae-1-3ee5"
      },
      {
       "current": "8e6d9f8e-112d-11f0-acfe-1231102d67ae",
       "next": "2bdbb708-112c-11f0-acfe-1231102d67ae",
       "previous": "09b30c72-112b-11f0-acfe-1231102d67ae-1-3ee5"
      },
      {
       "current": "8e6d9f8e-112d-11f0-acfe-1231102d67ae-1-2604",
       "next": "12e7c0d8-1132-11f0-acfe-1231102d67ae",
       "previous": "09b30c72-112b-11f0-acfe-1231102d67ae-1-3ee5"
      },
      {
       "current": "8e6d9f8e-112d-11f0-acfe-1231102d67ae-2-2604-4366",
       "next": "12e7c0d8-1132-11f0-acfe-1231102d67ae-1-08ea",
       "previous": "09b30c72-112b-11f0-acfe-1231102d67ae-2-3ee5-19d8"
      },
      {
       "current": "8e6d9f8e-112d-11f0-acfe-1231102d67ae-3-2604-4366-d3cf",
       "next": "12e7c0d8-1132-11f0-acfe-1231102d67ae-2-08ea-b381",
       "previous": "09b30c72-112b-11f0-acfe-1231102d67ae-3-3ee5-19d8-bd1a"
      },
      {
       "current": "8e6d9f8e-112d-11f0-acfe-1231102d67ae-5-2604-4366-d3cf-0383-8043",
       "next": "12e7c0d8-1132-11f0-acfe-1231102d67ae-3-08ea-b381-ef28",
       "previous": "09b30c72-112b-11f0-acfe-1231102d67ae-4-3ee5-19d8-bd1a-477f"
      },
      {
       "current": "8e6d9f8e-112d-11f0-acfe-1231102d67ae-7-2604-4366-d3cf-0383-8043-893c-1118",
       "next": "12e7c0d8-1132-11f0-acfe-1231102d67ae-5-08ea-b381-ef28-90c7-2a4a",
       "previous": "09b30c72-112b-11f0-acfe-1231102d67ae-6-3ee5-19d8-bd1a-477f-1db0-8b13"
      },
      {
       "current": "8e6d9f8e-112d-11f0-acfe-1231102d67ae-8-2604-4366-d3cf-0383-8043-893c-1118-4af1",
       "next": "12e7c0d8-1132-11f0-acfe-1231102d67ae-7-08ea-b381-ef28-90c7-2a4a-a810-3404",
       "previous": "09b30c72-112b-11f0-acfe-1231102d67ae-8-3ee5-19d8-bd1a-477f-1db0-8b13-34f7-5067"
      },
      {
       "current": "8e6d9f8e-112d-11f0-acfe-1231102d67ae-9-2604-4366-d3cf-0383-8043-893c-1118-4af1-7d5b",
       "next": "12e7c0d8-1132-11f0-acfe-1231102d67ae-8-08ea-b381-ef28-90c7-2a4a-a810-3404-7621",
       "previous": "09b30c72-112b-11f0-acfe-1231102d67ae-9-3ee5-19d8-bd1a-477f-1db0-8b13-34f7-5067-6577"
      }
     ],
     "next": "12e7c0d8-1132-11f0-acfe-1231102d67ae-9-08ea-b381-ef28-90c7-2a4a-a810-3404-7621-fbed",
     "previous": "09b30c72-112b-11f0-acfe-1231102d67ae-10-3ee5-19d8-bd1a-477f-1db0-8b13-34f7-5067-6577-4b7a"
    },
    "pinnedOutputTabIndex": 0,
    "run_through_control": {
     "frozen": true,
     "read_only": false
    }
   },
   "outputs": [
    {
     "name": "stdout",
     "output_type": "stream",
     "text": [
      "result/result-20250520-015143/取りまとめ-Metadataアドオン.ipynb\n",
      "result/result-20250520-015143/取りまとめ-Metadataアドオン/notebooks/テスト手順-Metadataアドオン-非管理者での実行.ipynb\n",
      "result/result-20250520-015143/取りまとめ-Metadataアドオン/notebooks/テスト手順-Metadataアドオン-e-Rad情報を用いた自動補完.ipynb\n",
      "result/result-20250520-015143/取りまとめ-Metadataアドオン/notebooks/テスト手順-Metadataアドオン-複数メタデータの一括設定.ipynb\n",
      "result/result-20250520-015143/取りまとめ-Metadataアドオン/notebooks/テスト手順-ストレージ共通-Metadataアドオン.ipynb\n"
     ]
    },
    {
     "data": {
      "text/plain": [
       "5"
      ]
     },
     "execution_count": 51,
     "metadata": {},
     "output_type": "execute_result"
    }
   ],
   "source": [
    "import nbformat\n",
    "import re\n",
    "\n",
    "def has_header1(cell):\n",
    "    if cell['cell_type'] != 'markdown':\n",
    "        return False\n",
    "    line = cell['source'].split('\\n')[0]\n",
    "    m = re.match(r'#\\s+(.+)', line)\n",
    "    if not m:\n",
    "        return False\n",
    "    return True\n",
    "\n",
    "def is_test_set(cell):\n",
    "    if cell['cell_type'] != 'markdown':\n",
    "        return False\n",
    "    line = cell['source'].split('\\n')[0]\n",
    "    m = re.match(r'#\\s+(.+)', line)\n",
    "    if not m:\n",
    "        return False\n",
    "    if m.group(1) == '報告書出力':\n",
    "        return False\n",
    "    return True\n",
    "\n",
    "def parse_cells(notebook_file):\n",
    "    notebook = nbformat.read(\n",
    "        notebook_file,\n",
    "        as_version=nbformat.NO_CONVERT\n",
    "    )\n",
    "    cells = notebook['cells']\n",
    "    test_sets = []\n",
    "    \n",
    "    for i, cell in enumerate(cells):\n",
    "        if not has_header1(cell):\n",
    "            continue\n",
    "        if is_test_set(cell):\n",
    "            test_sets.append((i, cell))\n",
    "        else:\n",
    "            test_sets.append((i, None))\n",
    "            break\n",
    "    if len(test_sets) == 0 or test_sets[-1][-1] is not None:\n",
    "        test_sets.append((len(cells), None))\n",
    "    return (cells, test_sets)\n",
    "\n",
    "all_test_sets = []\n",
    "\n",
    "for notebook_file in result_notebooks:\n",
    "    print(notebook_file)\n",
    "    all_test_sets.append((notebook_file, parse_cells(notebook_file)))\n",
    "    notebook_dir, _ = os.path.split(notebook_file)\n",
    "    notebooks_dir = os.path.join(notebook_dir, os.path.splitext(os.path.split(notebook_file)[-1])[0], 'notebooks')\n",
    "    if not os.path.isdir(notebooks_dir):\n",
    "        continue\n",
    "    for filename in os.listdir(notebooks_dir):\n",
    "        if os.path.splitext(filename)[-1] != '.ipynb':\n",
    "            continue\n",
    "        child_notebook_file = os.path.join(notebooks_dir, filename)\n",
    "        print(child_notebook_file)\n",
    "        all_test_sets.append((child_notebook_file, parse_cells(child_notebook_file)))\n",
    "len(all_test_sets)"
   ]
  },
  {
   "cell_type": "code",
   "execution_count": 52,
   "id": "8dd31aab-5f4a-45b4-89bb-85f1f3837f5a",
   "metadata": {
    "deletable": false,
    "editable": false,
    "lc_cell_meme": {
     "current": "12e7c0d8-1132-11f0-acfe-1231102d67ae-12-ef28-90c7-2a4a-a810-3404-7621-fbed-f497-5af4-62d6",
     "history": [
      {
       "current": "12e7c0d8-1132-11f0-acfe-1231102d67ae-1-08ea",
       "next": "2bdbb708-112c-11f0-acfe-1231102d67ae",
       "previous": "8e6d9f8e-112d-11f0-acfe-1231102d67ae"
      },
      {
       "current": "12e7c0d8-1132-11f0-acfe-1231102d67ae-2-08ea-b381",
       "next": "2bdbb708-112c-11f0-acfe-1231102d67ae-1-666c",
       "previous": "8e6d9f8e-112d-11f0-acfe-1231102d67ae-1-2604"
      },
      {
       "current": "12e7c0d8-1132-11f0-acfe-1231102d67ae-3-08ea-b381-ef28",
       "next": "2bdbb708-112c-11f0-acfe-1231102d67ae-2-666c-7f7d",
       "previous": "8e6d9f8e-112d-11f0-acfe-1231102d67ae-2-2604-4366"
      },
      {
       "current": "12e7c0d8-1132-11f0-acfe-1231102d67ae-5-08ea-b381-ef28-90c7-2a4a",
       "next": "2bdbb708-112c-11f0-acfe-1231102d67ae-3-666c-7f7d-6b8b",
       "previous": "8e6d9f8e-112d-11f0-acfe-1231102d67ae-3-2604-4366-d3cf"
      },
      {
       "current": "12e7c0d8-1132-11f0-acfe-1231102d67ae-7-08ea-b381-ef28-90c7-2a4a-a810-3404",
       "next": "2bdbb708-112c-11f0-acfe-1231102d67ae-5-666c-7f7d-6b8b-ae57-1f5c",
       "previous": "8e6d9f8e-112d-11f0-acfe-1231102d67ae-5-2604-4366-d3cf-0383-8043"
      },
      {
       "current": "12e7c0d8-1132-11f0-acfe-1231102d67ae-8-08ea-b381-ef28-90c7-2a4a-a810-3404-7621",
       "next": "2bdbb708-112c-11f0-acfe-1231102d67ae-7-666c-7f7d-6b8b-ae57-1f5c-4670-cb8e",
       "previous": "8e6d9f8e-112d-11f0-acfe-1231102d67ae-7-2604-4366-d3cf-0383-8043-893c-1118"
      },
      {
       "current": "12e7c0d8-1132-11f0-acfe-1231102d67ae-9-08ea-b381-ef28-90c7-2a4a-a810-3404-7621-fbed",
       "next": "2bdbb708-112c-11f0-acfe-1231102d67ae-8-666c-7f7d-6b8b-ae57-1f5c-4670-cb8e-87e4",
       "previous": "8e6d9f8e-112d-11f0-acfe-1231102d67ae-8-2604-4366-d3cf-0383-8043-893c-1118-4af1"
      }
     ],
     "next": "2bdbb708-112c-11f0-acfe-1231102d67ae-9-666c-7f7d-6b8b-ae57-1f5c-4670-cb8e-87e4-2602",
     "previous": "8e6d9f8e-112d-11f0-acfe-1231102d67ae-9-2604-4366-d3cf-0383-8043-893c-1118-4af1-7d5b"
    },
    "pinnedOutputTabIndex": 0,
    "run_through_control": {
     "frozen": true,
     "read_only": false
    }
   },
   "outputs": [],
   "source": [
    "id_prefix = ''\n",
    "ticket_number = ''\n",
    "author = 'Testrates'"
   ]
  },
  {
   "cell_type": "code",
   "execution_count": 54,
   "id": "70e80720-6d7d-41dd-be7e-db335fa78a9f",
   "metadata": {
    "deletable": false,
    "editable": false,
    "lc_cell_meme": {
     "current": "2bdbb708-112c-11f0-acfe-1231102d67ae-12-6b8b-ae57-1f5c-4670-cb8e-87e4-2602-1e61-516b-8061",
     "execution_end_time": "2025-04-04T08:14:21.446Z",
     "history": [
      {
       "current": "2bdbb708-112c-11f0-acfe-1231102d67ae",
       "next": "15675aaa-f993-11ef-a92d-0242ac120006-9-d2e6-6a44-9e21-1744-ab0b-3935-5dfc-db5e-1d89",
       "previous": "09b30c72-112b-11f0-acfe-1231102d67ae-1-3ee5"
      },
      {
       "current": "2bdbb708-112c-11f0-acfe-1231102d67ae",
       "next": "15675aaa-f993-11ef-a92d-0242ac120006-9-d2e6-6a44-9e21-1744-ab0b-3935-5dfc-db5e-1d89",
       "previous": "7752de0e-112d-11f0-acfe-1231102d67ae"
      },
      {
       "current": "2bdbb708-112c-11f0-acfe-1231102d67ae",
       "next": "15675aaa-f993-11ef-a92d-0242ac120006-9-d2e6-6a44-9e21-1744-ab0b-3935-5dfc-db5e-1d89",
       "previous": "8e6d9f8e-112d-11f0-acfe-1231102d67ae"
      },
      {
       "current": "2bdbb708-112c-11f0-acfe-1231102d67ae",
       "next": "15675aaa-f993-11ef-a92d-0242ac120006-9-d2e6-6a44-9e21-1744-ab0b-3935-5dfc-db5e-1d89",
       "previous": "12e7c0d8-1132-11f0-acfe-1231102d67ae"
      },
      {
       "current": "2bdbb708-112c-11f0-acfe-1231102d67ae",
       "next": "dc9b92a6-1132-11f0-acfe-1231102d67ae",
       "previous": "12e7c0d8-1132-11f0-acfe-1231102d67ae"
      },
      {
       "current": "2bdbb708-112c-11f0-acfe-1231102d67ae-1-666c",
       "next": "15675aaa-f993-11ef-a92d-0242ac120006-9-d2e6-6a44-9e21-1744-ab0b-3935-5dfc-db5e-1d89",
       "previous": "12e7c0d8-1132-11f0-acfe-1231102d67ae"
      },
      {
       "current": "2bdbb708-112c-11f0-acfe-1231102d67ae-2-666c-7f7d",
       "next": "15675aaa-f993-11ef-a92d-0242ac120006-10-d2e6-6a44-9e21-1744-ab0b-3935-5dfc-db5e-1d89-8496",
       "previous": "12e7c0d8-1132-11f0-acfe-1231102d67ae-1-08ea"
      },
      {
       "current": "2bdbb708-112c-11f0-acfe-1231102d67ae-2-666c-7f7d",
       "next": "15675aaa-f993-11ef-a92d-0242ac120006-11-6a44-9e21-1744-ab0b-3935-5dfc-db5e-1d89-8496-0ba0",
       "previous": "12e7c0d8-1132-11f0-acfe-1231102d67ae-2-08ea-b381"
      },
      {
       "current": "2bdbb708-112c-11f0-acfe-1231102d67ae-3-666c-7f7d-6b8b",
       "next": "caa4a88e-133b-11f0-88c4-7e93a5d0b9a2",
       "previous": "12e7c0d8-1132-11f0-acfe-1231102d67ae-2-08ea-b381"
      },
      {
       "current": "2bdbb708-112c-11f0-acfe-1231102d67ae-5-666c-7f7d-6b8b-ae57-1f5c",
       "next": "caa4a88e-133b-11f0-88c4-7e93a5d0b9a2-1-12fc",
       "previous": "12e7c0d8-1132-11f0-acfe-1231102d67ae-3-08ea-b381-ef28"
      },
      {
       "current": "2bdbb708-112c-11f0-acfe-1231102d67ae-7-666c-7f7d-6b8b-ae57-1f5c-4670-cb8e",
       "next": "caa4a88e-133b-11f0-88c4-7e93a5d0b9a2-3-12fc-34b4-90f2",
       "previous": "12e7c0d8-1132-11f0-acfe-1231102d67ae-5-08ea-b381-ef28-90c7-2a4a"
      },
      {
       "current": "2bdbb708-112c-11f0-acfe-1231102d67ae-8-666c-7f7d-6b8b-ae57-1f5c-4670-cb8e-87e4",
       "next": "caa4a88e-133b-11f0-88c4-7e93a5d0b9a2-5-12fc-34b4-90f2-a517-fda0",
       "previous": "12e7c0d8-1132-11f0-acfe-1231102d67ae-7-08ea-b381-ef28-90c7-2a4a-a810-3404"
      },
      {
       "current": "2bdbb708-112c-11f0-acfe-1231102d67ae-9-666c-7f7d-6b8b-ae57-1f5c-4670-cb8e-87e4-2602",
       "next": "caa4a88e-133b-11f0-88c4-7e93a5d0b9a2-6-12fc-34b4-90f2-a517-fda0-5588",
       "previous": "12e7c0d8-1132-11f0-acfe-1231102d67ae-8-08ea-b381-ef28-90c7-2a4a-a810-3404-7621"
      }
     ],
     "next": "caa4a88e-133b-11f0-88c4-7e93a5d0b9a2-7-12fc-34b4-90f2-a517-fda0-5588-ccfc",
     "previous": "12e7c0d8-1132-11f0-acfe-1231102d67ae-9-08ea-b381-ef28-90c7-2a4a-a810-3404-7621-fbed"
    },
    "pinnedOutputTabIndex": 0,
    "run_through_control": {
     "frozen": true,
     "read_only": false
    },
    "scrolled": true
   },
   "outputs": [
    {
     "name": "stdout",
     "output_type": "stream",
     "text": [
      "result/result-20250520-015143/取りまとめ-Metadataアドオン.ipynb\n",
      "Sheet 001Metadataアドオン 4 27 GakuNinRDM 総合テスト [Metadataアドオン] {'サブシステム名': 'ストレージ管理', 'ページ/アドオン': 'Metadataアドオン', '機能分類': 'ストレージ制御確認', 'シナリオ名': '*', '用意するテストデータ': 'URL一覧、アカウント(既存ユーザー1: GRDM, 既存ユーザー2: GRDM)'}\n",
      "result/result-20250520-015143/取りまとめ-Metadataアドオン/notebooks/テスト手順-Metadataアドオン-非管理者での実行.ipynb\n",
      "Sheet 002非管理者での実行_Metadataアドオン 4 187 Metadataアドオンの非管理者での実行 {'サブシステム名': 'アドオン', 'ページ/アドオン': 'Metadata', '機能分類': 'プロジェクト設定', 'シナリオ名': '非管理者での実行', '用意するテストデータ': 'URL一覧、アカウント(既存ユーザー1: GRDM、既存ユーザー2: GRDM)'}\n",
      "result/result-20250520-015143/取りまとめ-Metadataアドオン/notebooks/テスト手順-Metadataアドオン-e-Rad情報を用いた自動補完.ipynb\n",
      "Sheet 003Rad情報を用いた自動補完_e 4 254 e-Rad情報を用いた自動補完 {'サブシステム名': 'アドオン', 'ページ/アドオン': 'Metadata', '機能分類': 'ユーザー設定', 'シナリオ名': 'e-Rad情報の設定', '用意するテストデータ': 'URL一覧、アカウント(既存ユーザー1: GRDM)', '事前条件': '「プロジェクトに対するMetadataアドオンの登録」を実施済みであり、e-Radダミーデータが登録済みであること'}\n",
      "result/result-20250520-015143/取りまとめ-Metadataアドオン/notebooks/テスト手順-Metadataアドオン-複数メタデータの一括設定.ipynb\n",
      "Sheet 004複数メタデータの一括設定_Metadataアドオン 4 243 複数メタデータの一括設定 {'サブシステム名': 'アドオン', 'ページ/アドオン': 'Metadata', '機能分類': 'ユーザー設定', 'シナリオ名': '複数メタデータの一括設定', '用意するテストデータ': 'URL一覧、アカウント(既存ユーザー1: GRDM)', '事前条件': '「プロジェクトに対するMetadataアドオンの登録」を実施済みであること'}\n",
      "result/result-20250520-015143/取りまとめ-Metadataアドオン/notebooks/テスト手順-ストレージ共通-Metadataアドオン.ipynb\n",
      "Sheet 005Metadataアドオン_ストレージ共通 4 177 プロジェクトに対するMetadataアドオンの登録 {'サブシステム名': 'アドオン', 'ページ/アドオン': 'Metadata', '機能分類': 'プロジェクト設定', 'シナリオ名': 'プロジェクトへの有効化', '用意するテストデータ': 'URL一覧、アカウント(既存ユーザー1: GRDM)'}\n",
      "Saved: result/result-20250520-015143/test-summary-2025-05-20.xlsx\n"
     ]
    }
   ],
   "source": [
    "import openpyxl\n",
    "from openpyxl.styles import Alignment\n",
    "from openpyxl.styles import PatternFill\n",
    "from openpyxl.drawing.image import Image\n",
    "from base64 import b64decode\n",
    "\n",
    "fill = PatternFill(start_color=\"AED6F1\", fill_type=\"solid\")\n",
    "\n",
    "def save_image(cellindex, base64data):\n",
    "    filename = os.path.join(work_dir, f'screenshot-{cellindex}.png')\n",
    "    with open(filename, 'wb') as f:\n",
    "        f.write(b64decode(base64data))\n",
    "    return filename\n",
    "\n",
    "def get_images_from_cell(cellindex, cell):\n",
    "    if 'outputs' not in cell:\n",
    "        return None\n",
    "    images = [out['data']['image/png'] for out in cell['outputs'] if 'data' in out and 'image/png' in out['data']]\n",
    "    return [save_image(cellindex, image) for image in images]\n",
    "\n",
    "def has_header2(cell):\n",
    "    if cell['cell_type'] != 'markdown':\n",
    "        return False\n",
    "    line = cell['source'].split('\\n')[0]\n",
    "    m = re.match(r'##\\s+(.+)', line)\n",
    "    if not m:\n",
    "        return False\n",
    "    return True\n",
    "\n",
    "wb = openpyxl.Workbook()\n",
    "summary_sheet = wb.worksheets[0]\n",
    "summary_sheet.title = 'サマリ'\n",
    "\n",
    "summary_sheet.column_dimensions['A'].width = summary_sheet.column_dimensions['A'].width * 1.25\n",
    "for colname, text in zip('ABCDEFGHIJKLMNO', ['ID', 'シート', 'サブシステム', 'ページ/アドオン', '機能分類', 'シナリオ名', '概要', 'リンク', 'テスト結果', '関連チケット', '担当', '実施日', 'コメント', '修正確認', '確認日']):\n",
    "    summary_sheet.column_dimensions[colname].width = summary_sheet.column_dimensions['A'].width\n",
    "    summary_sheet[f'{colname}1'] = text\n",
    "    summary_sheet[f'{colname}1'].fill = fill\n",
    "\n",
    "index = 0\n",
    "for notebook_file, (cells, test_sets) in all_test_sets:\n",
    "    print(notebook_file)\n",
    "    sheetname = '_'.join(os.path.splitext(os.path.split(notebook_file)[-1])[0].split('-')[1:][::-1][:2])\n",
    "    for i, ((start, header), (end, _)) in enumerate(zip(test_sets, test_sets[1:])):\n",
    "        index += 1\n",
    "        test_id = f'{id_prefix}{index:03d}{sheetname}'\n",
    "        os.makedirs(os.path.join(result_dir, 'screenshots', test_id), exist_ok=True)\n",
    "        video_path, _ = os.path.splitext(notebook_file)\n",
    "        if os.path.isdir(video_path):\n",
    "            for video_file in os.listdir(video_path):\n",
    "                if os.path.splitext(video_file)[-1].lower() != '.webm':\n",
    "                    continue\n",
    "                shutil.copyfile(os.path.join(video_path, video_file), os.path.join(result_dir, 'screenshots', test_id, video_file))\n",
    "        line = header['source'].split('\\n')[0]\n",
    "        m = re.match(r'#\\s+(.+)', line)\n",
    "        title = m.group(1)\n",
    "        attrs = {}\n",
    "        for line in header['source'].split('\\n'):\n",
    "            m = re.match(r'-\\s+([^:]+):\\s*(.+)', line)\n",
    "            if not m:\n",
    "                continue\n",
    "            attrs[m.group(1)] = m.group(2)\n",
    "        sheet = wb.create_sheet(test_id)\n",
    "        print('Sheet', test_id, start, end, title, attrs)\n",
    "        \n",
    "        for colname in 'ABCDEFGHIJ':\n",
    "            sheet[f'{colname}1'].fill = fill\n",
    "            sheet[f'{colname}4'].fill = fill\n",
    "        sheet['A6'].fill = fill\n",
    "    \n",
    "        sheet['A1'] = 'ID'\n",
    "        sheet['A2'] = test_id\n",
    "        sheet['B1'] = 'サブシステム名'\n",
    "        sheet['B2'] = attrs['サブシステム名']\n",
    "        sheet['C1'] = '分類'\n",
    "        sheet['C2'] = attrs['機能分類']\n",
    "        sheet['D2'] = attrs['ページ/アドオン']\n",
    "        sheet['H1'] = '作成者'\n",
    "        sheet['H2'] = author\n",
    "        sheet['I1'] = '作成日'\n",
    "        sheet['I2'] = datetime.now().strftime('%Y-%m-%d')\n",
    "        sheet['J1'] = '修正日'\n",
    "        sheet['J2'] = ''\n",
    "    \n",
    "        sheet['A4'] = '概要'\n",
    "        sheet['A5'] = attrs['概要'] if '概要' in attrs else title\n",
    "        sheet['A5'].alignment = Alignment(wrap_text=True)\n",
    "        sheet.merge_cells('A4:B4')\n",
    "        sheet.merge_cells('A5:B5')\n",
    "        sheet['C4'] = '用意するテストデータ'\n",
    "        sheet['C5'] = attrs['用意するテストデータ']\n",
    "        sheet['C5'].alignment = Alignment(wrap_text=True)\n",
    "        sheet['D4'] = 'テスト結果'\n",
    "        sheet['D5'] = '成功'\n",
    "        sheet['E4'] = '関連チケットURL'\n",
    "        sheet['E5'] = f'GRDM-{ticket_number}'\n",
    "        sheet['E5'].hyperlink = f'https://redmine.devops.rcos.nii.ac.jp/issues/{ticket_number}'\n",
    "        sheet['F4'] = '担当'\n",
    "        sheet['F5'] = author\n",
    "        sheet['G4'] = '実施日'\n",
    "        sheet['G5'] = datetime.now().strftime('%Y-%m-%d')\n",
    "        sheet['H4'] = 'コメント'\n",
    "        sheet['H5'] = ''\n",
    "        sheet['I4'] = '修正確認'\n",
    "        sheet['I5'] = ''\n",
    "        sheet['J4'] = '確認日'\n",
    "        sheet['J5'] = ''\n",
    "        for cell in sheet['A5:J5'][0]:\n",
    "            cell.alignment = Alignment(wrap_text=True, vertical='top')\n",
    "    \n",
    "        sheet['A6'] = '確認環境'\n",
    "        sheet['B6'] = 'Ubuntu'\n",
    "        sheet['C6'] = 'Chrome(Playwright)'\n",
    "        sheet['D6'] = 'ja-JP'\n",
    "    \n",
    "        sheet.column_dimensions['B'].width = sheet.column_dimensions['A'].width * 4\n",
    "        sheet.column_dimensions['C'].width = sheet.column_dimensions['A'].width * 5\n",
    "        sheet.column_dimensions['E'].width = sheet.column_dimensions['A'].width * 2\n",
    "        sheet.column_dimensions['G'].width = sheet.column_dimensions['A'].width * 2\n",
    "        sheet.column_dimensions['H'].width = sheet.column_dimensions['A'].width * 2\n",
    "        sheet.column_dimensions['I'].width = sheet.column_dimensions['A'].width * 2\n",
    "        sheet.column_dimensions['J'].width = sheet.column_dimensions['A'].width * 2\n",
    "        sheet.row_dimensions[5].height = sheet.column_dimensions['A'].width * 3\n",
    "    \n",
    "        startrow = 8\n",
    "        sheet[f'A{startrow}'] = 'No.'\n",
    "        sheet[f'B{startrow}'] = 'テスト手順'\n",
    "        sheet[f'C{startrow}'] = '確認内容'\n",
    "        sheet[f'D{startrow}'] = '実施'\n",
    "        sheet[f'E{startrow}'] = 'コメント'\n",
    "        sheet[f'F{startrow}'] = '実施者'\n",
    "        sheet[f'G{startrow}'] = '実施日'\n",
    "        sheet[f'H{startrow}'] = 'スクリーンショット'\n",
    "        for colname in 'ABCDEFGHIJ':\n",
    "            sheet[f'{colname}{startrow}'].fill = fill\n",
    "    \n",
    "        itemheight = sheet.column_dimensions['A'].width * 12 #* 6\n",
    "        itemindex = 1\n",
    "        last_images = None\n",
    "        row = startrow\n",
    "        has_error = False\n",
    "    \n",
    "        for i in range(end - (start + 1)):\n",
    "            cell = cells[i + start + 1]\n",
    "            if not has_header2(cell):\n",
    "                images = get_images_from_cell(i + start + 1, cell)\n",
    "                if images:\n",
    "                    last_images = images\n",
    "                continue\n",
    "            if last_images is not None and len(last_images) > 0:\n",
    "                screenshot = openpyxl.drawing.image.Image(last_images[0])\n",
    "                screenshot.height = itemheight\n",
    "                screenshot.width = int(itemheight / 1080 * 1920)\n",
    "                shutil.copy(last_images[0], os.path.join(result_dir, 'screenshots', test_id, '{0:05d}.png'.format(itemindex - 1)))\n",
    "            # 成功したか？\n",
    "            output_types = []\n",
    "            outputs = []\n",
    "            for next_cell in cells[i + start + 1 + 1:]:\n",
    "                if has_header2(next_cell):\n",
    "                    break\n",
    "                if 'outputs' not in next_cell:\n",
    "                    continue\n",
    "                #assert all([o['output_type'] != 'error' for o in next_cell['outputs']]), next_cell['outputs']\n",
    "                output_types += [o['output_type'] for o in next_cell['outputs']]\n",
    "                outputs += list(next_cell['outputs'])\n",
    "            output_types = set(output_types)\n",
    "            if 'error' in output_types or len(output_types) == 0:\n",
    "                has_error = True\n",
    "            line = cell['source'].split('\\n')[0]\n",
    "            m = re.match(r'##\\s+(.+)', line)\n",
    "            row = startrow + itemindex\n",
    "            sheet[f'A{row}'] = str(itemindex)\n",
    "            sheet[f'B{row}'] = m.group(1)\n",
    "            sheet[f'C{row}'] = '\\n'.join(cell['source'].split('\\n')[1:]).strip()\n",
    "            sheet[f'D{row}'] = '■' if 'error' not in output_types and len(output_types) > 0 else '□'\n",
    "            sheet[f'E{row}'] = '' if 'error' not in output_types else '\\n'.join([o['evalue'] if 'evalue' in o else o['ename'] for o in outputs if o['output_type'] == 'error'])\n",
    "            sheet[f'F{row}'] = 'Playwright'\n",
    "            sheet[f'G{row}'] = datetime.now().strftime('%Y-%m-%d')\n",
    "            sheet[f'H{row}'] = ''\n",
    "            for cell in sheet[f'A{row}:H{row}'][0]:\n",
    "                cell.alignment = Alignment(wrap_text=True, vertical='top')\n",
    "            sheet[f'D{row}'].alignment = Alignment(wrap_text=True, vertical='top', horizontal='center')\n",
    "            \n",
    "            sheet.row_dimensions[row].height = itemheight\n",
    "    \n",
    "            itemindex += 1\n",
    "            last_images = None\n",
    "            \n",
    "        if last_images is not None and len(last_images) > 0:\n",
    "            screenshot = openpyxl.drawing.image.Image(last_images[0])\n",
    "            screenshot.height = itemheight\n",
    "            screenshot.width = int(itemheight / 1080 * 1920)\n",
    "            shutil.copy(last_images[0], os.path.join(result_dir, 'screenshots', test_id, '{0:05d}.png'.format(itemindex - 1)))            \n",
    "            \n",
    "        summaryrow = index + 1\n",
    "        summary_sheet[f'A{summaryrow}'] = test_id\n",
    "        summary_sheet[f'B{summaryrow}'] = test_id\n",
    "        summary_sheet[f'C{summaryrow}'] = attrs['サブシステム名']\n",
    "        summary_sheet[f'D{summaryrow}'] = attrs['ページ/アドオン']\n",
    "        summary_sheet[f'E{summaryrow}'] = attrs['機能分類']\n",
    "        summary_sheet[f'F{summaryrow}'] = attrs['シナリオ名']\n",
    "        summary_sheet[f'G{summaryrow}'] = title\n",
    "        summary_sheet[f'H{summaryrow}'] = f'参照: {test_id}'\n",
    "        summary_sheet[f'H{summaryrow}'].hyperlink = f'#{test_id}!A1'\n",
    "        summary_sheet[f'I{summaryrow}'] = '成功' if not has_error else '失敗'\n",
    "        summary_sheet[f'J{summaryrow}'] = f'GRDM-{ticket_number}'\n",
    "        summary_sheet[f'J{summaryrow}'].hyperlink = f'https://redmine.devops.rcos.nii.ac.jp/issues/{ticket_number}'\n",
    "        summary_sheet[f'K{summaryrow}'] = author\n",
    "        summary_sheet[f'L{summaryrow}'] = datetime.now().strftime('%Y-%m-%d')\n",
    "        for cell in summary_sheet[f'A{summaryrow}:O{summaryrow}'][0]:\n",
    "            cell.alignment = Alignment(wrap_text=True, vertical='top')\n",
    "\n",
    "today = datetime.now().strftime('%Y-%m-%d')\n",
    "\n",
    "filename_prefix = os.path.join(result_dir, 'test-summary')\n",
    "print(f'Saved: {filename_prefix}-{today}.xlsx')\n",
    "wb.save(os.path.join(f'{filename_prefix}-{today}.xlsx'))"
   ]
  },
  {
   "cell_type": "code",
   "execution_count": 55,
   "id": "95d73c02-3ea3-46ab-88dd-8d34eb8f42b2",
   "metadata": {
    "deletable": false,
    "editable": false,
    "lc_cell_meme": {
     "current": "caa4a88e-133b-11f0-88c4-7e93a5d0b9a2-10-12fc-34b4-90f2-a517-fda0-5588-ccfc-d9dd-030c-3fd8",
     "execution_end_time": "2025-04-07T01:30:10.489Z",
     "history": [
      {
       "current": "caa4a88e-133b-11f0-88c4-7e93a5d0b9a2-1-12fc",
       "next": "15675aaa-f993-11ef-a92d-0242ac120006-11-6a44-9e21-1744-ab0b-3935-5dfc-db5e-1d89-8496-0ba0",
       "previous": "2bdbb708-112c-11f0-acfe-1231102d67ae-2-666c-7f7d"
      },
      {
       "current": "caa4a88e-133b-11f0-88c4-7e93a5d0b9a2-3-12fc-34b4-90f2",
       "next": "15675aaa-f993-11ef-a92d-0242ac120006-12-9e21-1744-ab0b-3935-5dfc-db5e-1d89-8496-0ba0-adf7",
       "previous": "2bdbb708-112c-11f0-acfe-1231102d67ae-3-666c-7f7d-6b8b"
      },
      {
       "current": "caa4a88e-133b-11f0-88c4-7e93a5d0b9a2-5-12fc-34b4-90f2-a517-fda0",
       "next": "15675aaa-f993-11ef-a92d-0242ac120006-14-ab0b-3935-5dfc-db5e-1d89-8496-0ba0-adf7-78cc-499b",
       "previous": "2bdbb708-112c-11f0-acfe-1231102d67ae-5-666c-7f7d-6b8b-ae57-1f5c"
      },
      {
       "current": "caa4a88e-133b-11f0-88c4-7e93a5d0b9a2-6-12fc-34b4-90f2-a517-fda0-5588",
       "next": "15675aaa-f993-11ef-a92d-0242ac120006-16-5dfc-db5e-1d89-8496-0ba0-adf7-78cc-499b-a787-e195",
       "previous": "2bdbb708-112c-11f0-acfe-1231102d67ae-7-666c-7f7d-6b8b-ae57-1f5c-4670-cb8e"
      },
      {
       "current": "caa4a88e-133b-11f0-88c4-7e93a5d0b9a2-7-12fc-34b4-90f2-a517-fda0-5588-ccfc",
       "next": "15675aaa-f993-11ef-a92d-0242ac120006-17-db5e-1d89-8496-0ba0-adf7-78cc-499b-a787-e195-72bc",
       "previous": "2bdbb708-112c-11f0-acfe-1231102d67ae-8-666c-7f7d-6b8b-ae57-1f5c-4670-cb8e-87e4"
      }
     ],
     "next": "15675aaa-f993-11ef-a92d-0242ac120006-18-1d89-8496-0ba0-adf7-78cc-499b-a787-e195-72bc-6ef7",
     "previous": "2bdbb708-112c-11f0-acfe-1231102d67ae-9-666c-7f7d-6b8b-ae57-1f5c-4670-cb8e-87e4-2602"
    },
    "pinnedOutputTabIndex": 0,
    "run_through_control": {
     "frozen": true,
     "read_only": false
    },
    "scrolled": true
   },
   "outputs": [
    {
     "name": "stdout",
     "output_type": "stream",
     "text": [
      "  adding: test-summary-2025-05-20.xlsx (deflated 6%)\n",
      "  adding: screenshots/ (stored 0%)\n",
      "  adding: screenshots/005Metadataアドオン_ストレージ共通/ (stored 0%)\n",
      "  adding: screenshots/005Metadataアドオン_ストレージ共通/00027.png (deflated 5%)\n",
      "  adding: screenshots/005Metadataアドオン_ストレージ共通/00049.png (deflated 5%)\n",
      "  adding: screenshots/005Metadataアドオン_ストレージ共通/00003.png (deflated 2%)\n",
      "  adding: screenshots/005Metadataアドオン_ストレージ共通/00047.png (deflated 5%)\n",
      "  adding: screenshots/005Metadataアドオン_ストレージ共通/00021.png (deflated 4%)\n",
      "  adding: screenshots/005Metadataアドオン_ストレージ共通/00048.png (deflated 5%)\n",
      "  adding: screenshots/005Metadataアドオン_ストレージ共通/00050.png (deflated 5%)\n",
      "  adding: screenshots/005Metadataアドオン_ストレージ共通/00071.png (deflated 4%)\n",
      "  adding: screenshots/005Metadataアドオン_ストレージ共通/00029.png (deflated 3%)\n",
      "  adding: screenshots/005Metadataアドオン_ストレージ共通/00009.png (deflated 9%)\n",
      "  adding: screenshots/005Metadataアドオン_ストレージ共通/00034.png (deflated 5%)\n",
      "  adding: screenshots/005Metadataアドオン_ストレージ共通/00051.png (deflated 6%)\n",
      "  adding: screenshots/005Metadataアドオン_ストレージ共通/00026.png (deflated 4%)\n",
      "  adding: screenshots/005Metadataアドオン_ストレージ共通/00069.png (deflated 4%)\n",
      "  adding: screenshots/005Metadataアドオン_ストレージ共通/00036.png (deflated 5%)\n",
      "  adding: screenshots/005Metadataアドオン_ストレージ共通/00046.png (deflated 6%)\n",
      "  adding: screenshots/005Metadataアドオン_ストレージ共通/00079.png (deflated 7%)\n",
      "  adding: screenshots/005Metadataアドオン_ストレージ共通/00032.png (deflated 5%)\n",
      "  adding: screenshots/005Metadataアドオン_ストレージ共通/00057.png (deflated 4%)\n",
      "  adding: screenshots/005Metadataアドオン_ストレージ共通/00037.png (deflated 6%)\n",
      "  adding: screenshots/005Metadataアドオン_ストレージ共通/video-1.webm (deflated 12%)\n",
      "  adding: screenshots/005Metadataアドオン_ストレージ共通/00014.png (deflated 2%)\n",
      "  adding: screenshots/005Metadataアドオン_ストレージ共通/00043.png (deflated 6%)\n",
      "  adding: screenshots/005Metadataアドオン_ストレージ共通/00010.png (deflated 2%)\n",
      "  adding: screenshots/005Metadataアドオン_ストレージ共通/00040.png (deflated 6%)\n",
      "  adding: screenshots/005Metadataアドオン_ストレージ共通/00066.png (deflated 5%)\n",
      "  adding: screenshots/005Metadataアドオン_ストレージ共通/00059.png (deflated 5%)\n",
      "  adding: screenshots/005Metadataアドオン_ストレージ共通/00028.png (deflated 4%)\n",
      "  adding: screenshots/005Metadataアドオン_ストレージ共通/00052.png (deflated 6%)\n",
      "  adding: screenshots/005Metadataアドオン_ストレージ共通/00078.png (deflated 7%)\n",
      "  adding: screenshots/005Metadataアドオン_ストレージ共通/00072.png (deflated 2%)\n",
      "  adding: screenshots/005Metadataアドオン_ストレージ共通/00041.png (deflated 6%)\n",
      "  adding: screenshots/005Metadataアドオン_ストレージ共通/00056.png (deflated 6%)\n",
      "  adding: screenshots/005Metadataアドオン_ストレージ共通/00062.png (deflated 6%)\n",
      "  adding: screenshots/005Metadataアドオン_ストレージ共通/00011.png (deflated 2%)\n",
      "  adding: screenshots/005Metadataアドオン_ストレージ共通/00039.png (deflated 6%)\n",
      "  adding: screenshots/005Metadataアドオン_ストレージ共通/00004.png (deflated 5%)\n",
      "  adding: screenshots/005Metadataアドオン_ストレージ共通/00044.png (deflated 6%)\n",
      "  adding: screenshots/005Metadataアドオン_ストレージ共通/00074.png (deflated 3%)\n",
      "  adding: screenshots/005Metadataアドオン_ストレージ共通/00055.png (deflated 6%)\n",
      "  adding: screenshots/005Metadataアドオン_ストレージ共通/video-2.webm (deflated 7%)\n",
      "  adding: screenshots/005Metadataアドオン_ストレージ共通/00063.png (deflated 6%)\n",
      "  adding: screenshots/005Metadataアドオン_ストレージ共通/00045.png (deflated 6%)\n",
      "  adding: screenshots/005Metadataアドオン_ストレージ共通/00033.png (deflated 5%)\n",
      "  adding: screenshots/005Metadataアドオン_ストレージ共通/00067.png (deflated 3%)\n",
      "  adding: screenshots/005Metadataアドオン_ストレージ共通/00001.png (deflated 0%)\n",
      "  adding: screenshots/005Metadataアドオン_ストレージ共通/00008.png (deflated 8%)\n",
      "  adding: screenshots/005Metadataアドオン_ストレージ共通/00013.png (deflated 2%)\n",
      "  adding: screenshots/005Metadataアドオン_ストレージ共通/00005.png (deflated 7%)\n",
      "  adding: screenshots/005Metadataアドオン_ストレージ共通/00070.png (deflated 5%)\n",
      "  adding: screenshots/005Metadataアドオン_ストレージ共通/00060.png (deflated 6%)\n",
      "  adding: screenshots/005Metadataアドオン_ストレージ共通/00019.png (deflated 4%)\n",
      "  adding: screenshots/005Metadataアドオン_ストレージ共通/00015.png (deflated 2%)\n",
      "  adding: screenshots/005Metadataアドオン_ストレージ共通/00012.png (deflated 2%)\n",
      "  adding: screenshots/005Metadataアドオン_ストレージ共通/00038.png (deflated 6%)\n",
      "  adding: screenshots/005Metadataアドオン_ストレージ共通/00073.png (deflated 3%)\n",
      "  adding: screenshots/005Metadataアドオン_ストレージ共通/00077.png (deflated 7%)\n",
      "  adding: screenshots/005Metadataアドオン_ストレージ共通/00035.png (deflated 5%)\n",
      "  adding: screenshots/005Metadataアドオン_ストレージ共通/00065.png (deflated 6%)\n",
      "  adding: screenshots/005Metadataアドオン_ストレージ共通/00002.png (deflated 2%)\n",
      "  adding: screenshots/005Metadataアドオン_ストレージ共通/00024.png (deflated 2%)\n",
      "  adding: screenshots/005Metadataアドオン_ストレージ共通/00017.png (deflated 4%)\n",
      "  adding: screenshots/005Metadataアドオン_ストレージ共通/00058.png (deflated 5%)\n",
      "  adding: screenshots/005Metadataアドオン_ストレージ共通/00075.png (deflated 8%)\n",
      "  adding: screenshots/005Metadataアドオン_ストレージ共通/00031.png (deflated 5%)\n",
      "  adding: screenshots/005Metadataアドオン_ストレージ共通/00064.png (deflated 6%)\n",
      "  adding: screenshots/005Metadataアドオン_ストレージ共通/00023.png (deflated 2%)\n",
      "  adding: screenshots/005Metadataアドオン_ストレージ共通/00007.png (deflated 7%)\n",
      "  adding: screenshots/005Metadataアドオン_ストレージ共通/00068.png (deflated 3%)\n",
      "  adding: screenshots/005Metadataアドオン_ストレージ共通/00018.png (deflated 4%)\n",
      "  adding: screenshots/005Metadataアドオン_ストレージ共通/00080.png (deflated 2%)\n",
      "  adding: screenshots/005Metadataアドオン_ストレージ共通/00076.png (deflated 7%)\n",
      "  adding: screenshots/005Metadataアドオン_ストレージ共通/00054.png (deflated 6%)\n",
      "  adding: screenshots/005Metadataアドオン_ストレージ共通/00025.png (deflated 4%)\n",
      "  adding: screenshots/005Metadataアドオン_ストレージ共通/00030.png (deflated 6%)\n",
      "  adding: screenshots/005Metadataアドオン_ストレージ共通/00022.png (deflated 2%)\n",
      "  adding: screenshots/005Metadataアドオン_ストレージ共通/00016.png (deflated 4%)\n",
      "  adding: screenshots/005Metadataアドオン_ストレージ共通/00006.png (deflated 5%)\n",
      "  adding: screenshots/005Metadataアドオン_ストレージ共通/00042.png (deflated 6%)\n",
      "  adding: screenshots/005Metadataアドオン_ストレージ共通/00061.png (deflated 5%)\n",
      "  adding: screenshots/005Metadataアドオン_ストレージ共通/00020.png (deflated 5%)\n",
      "  adding: screenshots/005Metadataアドオン_ストレージ共通/00053.png (deflated 6%)\n",
      "  adding: screenshots/001Metadataアドオン/ (stored 0%)\n",
      "  adding: screenshots/001Metadataアドオン/video-1.webm (deflated 7%)\n",
      "  adding: screenshots/001Metadataアドオン/00008.png (deflated 2%)\n",
      "  adding: screenshots/001Metadataアドオン/00005.png (deflated 0%)\n",
      "  adding: screenshots/001Metadataアドオン/00007.png (deflated 5%)\n",
      "  adding: screenshots/001Metadataアドオン/00006.png (deflated 2%)\n",
      "  adding: screenshots/004複数メタデータの一括設定_Metadataアドオン/ (stored 0%)\n",
      "  adding: screenshots/004複数メタデータの一括設定_Metadataアドオン/00110.png (deflated 3%)\n",
      "  adding: screenshots/004複数メタデータの一括設定_Metadataアドオン/00027.png (deflated 7%)\n",
      "  adding: screenshots/004複数メタデータの一括設定_Metadataアドオン/00049.png (deflated 7%)\n",
      "  adding: screenshots/004複数メタデータの一括設定_Metadataアドオン/00003.png (deflated 2%)\n",
      "  adding: screenshots/004複数メタデータの一括設定_Metadataアドオン/00047.png (deflated 7%)\n",
      "  adding: screenshots/004複数メタデータの一括設定_Metadataアドオン/00021.png (deflated 6%)\n",
      "  adding: screenshots/004複数メタデータの一括設定_Metadataアドオン/00048.png (deflated 6%)\n",
      "  adding: screenshots/004複数メタデータの一括設定_Metadataアドオン/00097.png (deflated 8%)\n",
      "  adding: screenshots/004複数メタデータの一括設定_Metadataアドオン/00050.png (deflated 7%)\n",
      "  adding: screenshots/004複数メタデータの一括設定_Metadataアドオン/00092.png (deflated 7%)\n",
      "  adding: screenshots/004複数メタデータの一括設定_Metadataアドオン/00071.png (deflated 3%)\n",
      "  adding: screenshots/004複数メタデータの一括設定_Metadataアドオン/00102.png (deflated 8%)\n",
      "  adding: screenshots/004複数メタデータの一括設定_Metadataアドオン/00029.png (deflated 6%)\n",
      "  adding: screenshots/004複数メタデータの一括設定_Metadataアドオン/00009.png (deflated 6%)\n",
      "  adding: screenshots/004複数メタデータの一括設定_Metadataアドオン/00034.png (deflated 6%)\n",
      "  adding: screenshots/004複数メタデータの一括設定_Metadataアドオン/00051.png (deflated 7%)\n",
      "  adding: screenshots/004複数メタデータの一括設定_Metadataアドオン/00088.png (deflated 7%)\n",
      "  adding: screenshots/004複数メタデータの一括設定_Metadataアドオン/00105.png (deflated 8%)\n",
      "  adding: screenshots/004複数メタデータの一括設定_Metadataアドオン/00026.png (deflated 7%)\n",
      "  adding: screenshots/004複数メタデータの一括設定_Metadataアドオン/00069.png (deflated 3%)\n",
      "  adding: screenshots/004複数メタデータの一括設定_Metadataアドオン/00036.png (deflated 6%)\n",
      "  adding: screenshots/004複数メタデータの一括設定_Metadataアドオン/00046.png (deflated 7%)\n",
      "  adding: screenshots/004複数メタデータの一括設定_Metadataアドオン/00087.png (deflated 7%)\n",
      "  adding: screenshots/004複数メタデータの一括設定_Metadataアドオン/00079.png (deflated 7%)\n",
      "  adding: screenshots/004複数メタデータの一括設定_Metadataアドオン/00111.png (deflated 3%)\n",
      "  adding: screenshots/004複数メタデータの一括設定_Metadataアドオン/00032.png (deflated 7%)\n",
      "  adding: screenshots/004複数メタデータの一括設定_Metadataアドオン/00057.png (deflated 3%)\n",
      "  adding: screenshots/004複数メタデータの一括設定_Metadataアドオン/00084.png (deflated 8%)\n",
      "  adding: screenshots/004複数メタデータの一括設定_Metadataアドオン/00037.png (deflated 6%)\n",
      "  adding: screenshots/004複数メタデータの一括設定_Metadataアドオン/video-1.webm (deflated 7%)\n",
      "  adding: screenshots/004複数メタデータの一括設定_Metadataアドオン/00086.png (deflated 7%)\n",
      "  adding: screenshots/004複数メタデータの一括設定_Metadataアドオン/00014.png (deflated 4%)\n",
      "  adding: screenshots/004複数メタデータの一括設定_Metadataアドオン/00043.png (deflated 7%)\n",
      "  adding: screenshots/004複数メタデータの一括設定_Metadataアドオン/00010.png (deflated 4%)\n",
      "  adding: screenshots/004複数メタデータの一括設定_Metadataアドオン/00040.png (deflated 7%)\n",
      "  adding: screenshots/004複数メタデータの一括設定_Metadataアドオン/00066.png (deflated 3%)\n",
      "  adding: screenshots/004複数メタデータの一括設定_Metadataアドオン/00103.png (deflated 8%)\n",
      "  adding: screenshots/004複数メタデータの一括設定_Metadataアドオン/00115.png (deflated 5%)\n",
      "  adding: screenshots/004複数メタデータの一括設定_Metadataアドオン/00108.png (deflated 8%)\n",
      "  adding: screenshots/004複数メタデータの一括設定_Metadataアドオン/00112.png (deflated 5%)\n",
      "  adding: screenshots/004複数メタデータの一括設定_Metadataアドオン/00059.png (deflated 6%)\n",
      "  adding: screenshots/004複数メタデータの一括設定_Metadataアドオン/00028.png (deflated 6%)\n",
      "  adding: screenshots/004複数メタデータの一括設定_Metadataアドオン/00052.png (deflated 7%)\n",
      "  adding: screenshots/004複数メタデータの一括設定_Metadataアドオン/00078.png (deflated 7%)\n",
      "  adding: screenshots/004複数メタデータの一括設定_Metadataアドオン/00072.png (deflated 4%)\n",
      "  adding: screenshots/004複数メタデータの一括設定_Metadataアドオン/00041.png (deflated 7%)\n",
      "  adding: screenshots/004複数メタデータの一括設定_Metadataアドオン/00056.png (deflated 3%)\n",
      "  adding: screenshots/004複数メタデータの一括設定_Metadataアドオン/00062.png (deflated 3%)\n",
      "  adding: screenshots/004複数メタデータの一括設定_Metadataアドオン/00011.png (deflated 4%)\n",
      "  adding: screenshots/004複数メタデータの一括設定_Metadataアドオン/00039.png (deflated 7%)\n",
      "  adding: screenshots/004複数メタデータの一括設定_Metadataアドオン/00107.png (deflated 8%)\n",
      "  adding: screenshots/004複数メタデータの一括設定_Metadataアドオン/00004.png (deflated 5%)\n",
      "  adding: screenshots/004複数メタデータの一括設定_Metadataアドオン/00100.png (deflated 8%)\n",
      "  adding: screenshots/004複数メタデータの一括設定_Metadataアドオン/00044.png (deflated 6%)\n",
      "  adding: screenshots/004複数メタデータの一括設定_Metadataアドオン/00116.png (deflated 3%)\n",
      "  adding: screenshots/004複数メタデータの一括設定_Metadataアドオン/00089.png (deflated 7%)\n",
      "  adding: screenshots/004複数メタデータの一括設定_Metadataアドオン/00113.png (deflated 3%)\n",
      "  adding: screenshots/004複数メタデータの一括設定_Metadataアドオン/00081.png (deflated 7%)\n",
      "  adding: screenshots/004複数メタデータの一括設定_Metadataアドオン/00074.png (deflated 7%)\n",
      "  adding: screenshots/004複数メタデータの一括設定_Metadataアドオン/00090.png (deflated 7%)\n",
      "  adding: screenshots/004複数メタデータの一括設定_Metadataアドオン/00099.png (deflated 8%)\n",
      "  adding: screenshots/004複数メタデータの一括設定_Metadataアドオン/00055.png (deflated 5%)\n",
      "  adding: screenshots/004複数メタデータの一括設定_Metadataアドオン/00095.png (deflated 7%)\n",
      "  adding: screenshots/004複数メタデータの一括設定_Metadataアドオン/00063.png (deflated 4%)\n",
      "  adding: screenshots/004複数メタデータの一括設定_Metadataアドオン/00045.png (deflated 6%)\n",
      "  adding: screenshots/004複数メタデータの一括設定_Metadataアドオン/00098.png (deflated 8%)\n",
      "  adding: screenshots/004複数メタデータの一括設定_Metadataアドオン/00033.png (deflated 6%)\n",
      "  adding: screenshots/004複数メタデータの一括設定_Metadataアドオン/00067.png (deflated 5%)\n",
      "  adding: screenshots/004複数メタデータの一括設定_Metadataアドオン/00096.png (deflated 8%)\n",
      "  adding: screenshots/004複数メタデータの一括設定_Metadataアドオン/00001.png (deflated 0%)\n",
      "  adding: screenshots/004複数メタデータの一括設定_Metadataアドオン/00008.png (deflated 6%)\n",
      "  adding: screenshots/004複数メタデータの一括設定_Metadataアドオン/00013.png (deflated 4%)\n",
      "  adding: screenshots/004複数メタデータの一括設定_Metadataアドオン/00005.png (deflated 7%)\n",
      "  adding: screenshots/004複数メタデータの一括設定_Metadataアドオン/00070.png (deflated 6%)\n",
      "  adding: screenshots/004複数メタデータの一括設定_Metadataアドオン/00060.png (deflated 6%)\n",
      "  adding: screenshots/004複数メタデータの一括設定_Metadataアドオン/00019.png (deflated 6%)\n",
      "  adding: screenshots/004複数メタデータの一括設定_Metadataアドオン/00015.png (deflated 4%)\n",
      "  adding: screenshots/004複数メタデータの一括設定_Metadataアドオン/00012.png (deflated 4%)\n",
      "  adding: screenshots/004複数メタデータの一括設定_Metadataアドオン/00038.png (deflated 6%)\n",
      "  adding: screenshots/004複数メタデータの一括設定_Metadataアドオン/00073.png (deflated 8%)\n",
      "  adding: screenshots/004複数メタデータの一括設定_Metadataアドオン/00077.png (deflated 7%)\n",
      "  adding: screenshots/004複数メタデータの一括設定_Metadataアドオン/00082.png (deflated 8%)\n",
      "  adding: screenshots/004複数メタデータの一括設定_Metadataアドオン/00035.png (deflated 6%)\n",
      "  adding: screenshots/004複数メタデータの一括設定_Metadataアドオン/00065.png (deflated 3%)\n",
      "  adding: screenshots/004複数メタデータの一括設定_Metadataアドオン/00002.png (deflated 2%)\n",
      "  adding: screenshots/004複数メタデータの一括設定_Metadataアドオン/00024.png (deflated 7%)\n",
      "  adding: screenshots/004複数メタデータの一括設定_Metadataアドオン/00017.png (deflated 7%)\n",
      "  adding: screenshots/004複数メタデータの一括設定_Metadataアドオン/00058.png (deflated 6%)\n",
      "  adding: screenshots/004複数メタデータの一括設定_Metadataアドオン/00114.png (deflated 3%)\n",
      "  adding: screenshots/004複数メタデータの一括設定_Metadataアドオン/00075.png (deflated 7%)\n",
      "  adding: screenshots/004複数メタデータの一括設定_Metadataアドオン/00031.png (deflated 7%)\n",
      "  adding: screenshots/004複数メタデータの一括設定_Metadataアドオン/00083.png (deflated 9%)\n",
      "  adding: screenshots/004複数メタデータの一括設定_Metadataアドオン/00064.png (deflated 8%)\n",
      "  adding: screenshots/004複数メタデータの一括設定_Metadataアドオン/00023.png (deflated 6%)\n",
      "  adding: screenshots/004複数メタデータの一括設定_Metadataアドオン/00101.png (deflated 8%)\n",
      "  adding: screenshots/004複数メタデータの一括設定_Metadataアドオン/00007.png (deflated 7%)\n",
      "  adding: screenshots/004複数メタデータの一括設定_Metadataアドオン/00068.png (deflated 3%)\n",
      "  adding: screenshots/004複数メタデータの一括設定_Metadataアドオン/00018.png (deflated 6%)\n",
      "  adding: screenshots/004複数メタデータの一括設定_Metadataアドオン/00091.png (deflated 7%)\n",
      "  adding: screenshots/004複数メタデータの一括設定_Metadataアドオン/00080.png (deflated 7%)\n",
      "  adding: screenshots/004複数メタデータの一括設定_Metadataアドオン/00076.png (deflated 9%)\n",
      "  adding: screenshots/004複数メタデータの一括設定_Metadataアドオン/00109.png (deflated 7%)\n",
      "  adding: screenshots/004複数メタデータの一括設定_Metadataアドオン/00054.png (deflated 3%)\n",
      "  adding: screenshots/004複数メタデータの一括設定_Metadataアドオン/00104.png (deflated 8%)\n",
      "  adding: screenshots/004複数メタデータの一括設定_Metadataアドオン/00025.png (deflated 7%)\n",
      "  adding: screenshots/004複数メタデータの一括設定_Metadataアドオン/00030.png (deflated 6%)\n",
      "  adding: screenshots/004複数メタデータの一括設定_Metadataアドオン/00022.png (deflated 6%)\n",
      "  adding: screenshots/004複数メタデータの一括設定_Metadataアドオン/00085.png (deflated 7%)\n",
      "  adding: screenshots/004複数メタデータの一括設定_Metadataアドオン/00016.png (deflated 7%)\n",
      "  adding: screenshots/004複数メタデータの一括設定_Metadataアドオン/00006.png (deflated 5%)\n",
      "  adding: screenshots/004複数メタデータの一括設定_Metadataアドオン/00042.png (deflated 7%)\n",
      "  adding: screenshots/004複数メタデータの一括設定_Metadataアドオン/00093.png (deflated 7%)\n",
      "  adding: screenshots/004複数メタデータの一括設定_Metadataアドオン/00094.png (deflated 8%)\n",
      "  adding: screenshots/004複数メタデータの一括設定_Metadataアドオン/00106.png (deflated 8%)\n",
      "  adding: screenshots/004複数メタデータの一括設定_Metadataアドオン/00061.png (deflated 6%)\n",
      "  adding: screenshots/004複数メタデータの一括設定_Metadataアドオン/00020.png (deflated 6%)\n",
      "  adding: screenshots/004複数メタデータの一括設定_Metadataアドオン/00053.png (deflated 3%)\n",
      "  adding: screenshots/002非管理者での実行_Metadataアドオン/ (stored 0%)\n",
      "  adding: screenshots/002非管理者での実行_Metadataアドオン/00027.png (deflated 2%)\n",
      "  adding: screenshots/002非管理者での実行_Metadataアドオン/00049.png (deflated 6%)\n",
      "  adding: screenshots/002非管理者での実行_Metadataアドオン/00003.png (deflated 2%)\n",
      "  adding: screenshots/002非管理者での実行_Metadataアドオン/00047.png (deflated 6%)\n",
      "  adding: screenshots/002非管理者での実行_Metadataアドオン/00021.png (deflated 4%)\n",
      "  adding: screenshots/002非管理者での実行_Metadataアドオン/00048.png (deflated 6%)\n",
      "  adding: screenshots/002非管理者での実行_Metadataアドオン/00050.png (deflated 6%)\n",
      "  adding: screenshots/002非管理者での実行_Metadataアドオン/00071.png (deflated 5%)\n",
      "  adding: screenshots/002非管理者での実行_Metadataアドオン/00029.png (deflated 2%)\n",
      "  adding: screenshots/002非管理者での実行_Metadataアドオン/00009.png (deflated 10%)\n",
      "  adding: screenshots/002非管理者での実行_Metadataアドオン/00034.png (deflated 3%)\n",
      "  adding: screenshots/002非管理者での実行_Metadataアドオン/00051.png (deflated 6%)\n",
      "  adding: screenshots/002非管理者での実行_Metadataアドオン/00026.png (deflated 4%)\n",
      "  adding: screenshots/002非管理者での実行_Metadataアドオン/00069.png (deflated 6%)\n",
      "  adding: screenshots/002非管理者での実行_Metadataアドオン/00036.png (deflated 5%)\n",
      "  adding: screenshots/002非管理者での実行_Metadataアドオン/00046.png (deflated 6%)\n",
      "  adding: screenshots/002非管理者での実行_Metadataアドオン/00079.png (deflated 3%)\n",
      "  adding: screenshots/002非管理者での実行_Metadataアドオン/00032.png (deflated 4%)\n",
      "  adding: screenshots/002非管理者での実行_Metadataアドオン/00057.png (deflated 6%)\n",
      "  adding: screenshots/002非管理者での実行_Metadataアドオン/00084.png (deflated 6%)\n",
      "  adding: screenshots/002非管理者での実行_Metadataアドオン/00037.png (deflated 5%)\n",
      "  adding: screenshots/002非管理者での実行_Metadataアドオン/video-1.webm (deflated 13%)\n",
      "  adding: screenshots/002非管理者での実行_Metadataアドオン/00014.png (deflated 10%)\n",
      "  adding: screenshots/002非管理者での実行_Metadataアドオン/00043.png (deflated 6%)\n",
      "  adding: screenshots/002非管理者での実行_Metadataアドオン/00010.png (deflated 10%)\n",
      "  adding: screenshots/002非管理者での実行_Metadataアドオン/00040.png (deflated 5%)\n",
      "  adding: screenshots/002非管理者での実行_Metadataアドオン/00066.png (deflated 5%)\n",
      "  adding: screenshots/002非管理者での実行_Metadataアドオン/00059.png (deflated 6%)\n",
      "  adding: screenshots/002非管理者での実行_Metadataアドオン/00028.png (deflated 2%)\n",
      "  adding: screenshots/002非管理者での実行_Metadataアドオン/00052.png (deflated 5%)\n",
      "  adding: screenshots/002非管理者での実行_Metadataアドオン/00078.png (deflated 2%)\n",
      "  adding: screenshots/002非管理者での実行_Metadataアドオン/00072.png (deflated 3%)\n",
      "  adding: screenshots/002非管理者での実行_Metadataアドオン/00041.png (deflated 6%)\n",
      "  adding: screenshots/002非管理者での実行_Metadataアドオン/00056.png (deflated 6%)\n",
      "  adding: screenshots/002非管理者での実行_Metadataアドオン/00062.png (deflated 5%)\n",
      "  adding: screenshots/002非管理者での実行_Metadataアドオン/00011.png (deflated 5%)\n",
      "  adding: screenshots/002非管理者での実行_Metadataアドオン/00039.png (deflated 5%)\n",
      "  adding: screenshots/002非管理者での実行_Metadataアドオン/00004.png (deflated 5%)\n",
      "  adding: screenshots/002非管理者での実行_Metadataアドオン/00044.png (deflated 6%)\n",
      "  adding: screenshots/002非管理者での実行_Metadataアドオン/00081.png (deflated 7%)\n",
      "  adding: screenshots/002非管理者での実行_Metadataアドオン/00074.png (deflated 5%)\n",
      "  adding: screenshots/002非管理者での実行_Metadataアドオン/00055.png (deflated 5%)\n",
      "  adding: screenshots/002非管理者での実行_Metadataアドオン/video-2.webm (deflated 7%)\n",
      "  adding: screenshots/002非管理者での実行_Metadataアドオン/00063.png (deflated 5%)\n",
      "  adding: screenshots/002非管理者での実行_Metadataアドオン/00045.png (deflated 6%)\n",
      "  adding: screenshots/002非管理者での実行_Metadataアドオン/00033.png (deflated 4%)\n",
      "  adding: screenshots/002非管理者での実行_Metadataアドオン/00067.png (deflated 6%)\n",
      "  adding: screenshots/002非管理者での実行_Metadataアドオン/00001.png (deflated 0%)\n",
      "  adding: screenshots/002非管理者での実行_Metadataアドオン/00008.png (deflated 10%)\n",
      "  adding: screenshots/002非管理者での実行_Metadataアドオン/00013.png (deflated 7%)\n",
      "  adding: screenshots/002非管理者での実行_Metadataアドオン/00005.png (deflated 7%)\n",
      "  adding: screenshots/002非管理者での実行_Metadataアドオン/00070.png (deflated 6%)\n",
      "  adding: screenshots/002非管理者での実行_Metadataアドオン/00060.png (deflated 5%)\n",
      "  adding: screenshots/002非管理者での実行_Metadataアドオン/00019.png (deflated 2%)\n",
      "  adding: screenshots/002非管理者での実行_Metadataアドオン/00015.png (deflated 2%)\n",
      "  adding: screenshots/002非管理者での実行_Metadataアドオン/00012.png (deflated 5%)\n",
      "  adding: screenshots/002非管理者での実行_Metadataアドオン/00038.png (deflated 5%)\n",
      "  adding: screenshots/002非管理者での実行_Metadataアドオン/00073.png (deflated 3%)\n",
      "  adding: screenshots/002非管理者での実行_Metadataアドオン/00077.png (deflated 2%)\n",
      "  adding: screenshots/002非管理者での実行_Metadataアドオン/00082.png (deflated 6%)\n",
      "  adding: screenshots/002非管理者での実行_Metadataアドオン/00035.png (deflated 6%)\n",
      "  adding: screenshots/002非管理者での実行_Metadataアドオン/00065.png (deflated 6%)\n",
      "  adding: screenshots/002非管理者での実行_Metadataアドオン/00002.png (deflated 2%)\n",
      "  adding: screenshots/002非管理者での実行_Metadataアドオン/00024.png (deflated 4%)\n",
      "  adding: screenshots/002非管理者での実行_Metadataアドオン/00017.png (deflated 2%)\n",
      "  adding: screenshots/002非管理者での実行_Metadataアドオン/00058.png (deflated 6%)\n",
      "  adding: screenshots/002非管理者での実行_Metadataアドオン/00075.png (deflated 5%)\n",
      "  adding: screenshots/002非管理者での実行_Metadataアドオン/00031.png (deflated 4%)\n",
      "  adding: screenshots/002非管理者での実行_Metadataアドオン/00083.png (deflated 7%)\n",
      "  adding: screenshots/002非管理者での実行_Metadataアドオン/00064.png (deflated 5%)\n",
      "  adding: screenshots/002非管理者での実行_Metadataアドオン/00023.png (deflated 4%)\n",
      "  adding: screenshots/002非管理者での実行_Metadataアドオン/00007.png (deflated 7%)\n",
      "  adding: screenshots/002非管理者での実行_Metadataアドオン/00068.png (deflated 6%)\n",
      "  adding: screenshots/002非管理者での実行_Metadataアドオン/00018.png (deflated 2%)\n",
      "  adding: screenshots/002非管理者での実行_Metadataアドオン/00080.png (deflated 8%)\n",
      "  adding: screenshots/002非管理者での実行_Metadataアドオン/00076.png (deflated 4%)\n",
      "  adding: screenshots/002非管理者での実行_Metadataアドオン/00054.png (deflated 5%)\n",
      "  adding: screenshots/002非管理者での実行_Metadataアドオン/00025.png (deflated 5%)\n",
      "  adding: screenshots/002非管理者での実行_Metadataアドオン/00030.png (deflated 4%)\n",
      "  adding: screenshots/002非管理者での実行_Metadataアドオン/00022.png (deflated 4%)\n",
      "  adding: screenshots/002非管理者での実行_Metadataアドオン/00085.png (deflated 2%)\n",
      "  adding: screenshots/002非管理者での実行_Metadataアドオン/00016.png (deflated 2%)\n",
      "  adding: screenshots/002非管理者での実行_Metadataアドオン/00006.png (deflated 5%)\n",
      "  adding: screenshots/002非管理者での実行_Metadataアドオン/00042.png (deflated 5%)\n",
      "  adding: screenshots/002非管理者での実行_Metadataアドオン/00061.png (deflated 6%)\n",
      "  adding: screenshots/002非管理者での実行_Metadataアドオン/00020.png (deflated 2%)\n",
      "  adding: screenshots/002非管理者での実行_Metadataアドオン/00053.png (deflated 5%)\n",
      "  adding: screenshots/003Rad情報を用いた自動補完_e/ (stored 0%)\n",
      "  adding: screenshots/003Rad情報を用いた自動補完_e/00110.png (deflated 6%)\n",
      "  adding: screenshots/003Rad情報を用いた自動補完_e/00027.png (deflated 5%)\n",
      "  adding: screenshots/003Rad情報を用いた自動補完_e/00049.png (deflated 6%)\n",
      "  adding: screenshots/003Rad情報を用いた自動補完_e/00003.png (deflated 2%)\n",
      "  adding: screenshots/003Rad情報を用いた自動補完_e/00047.png (deflated 6%)\n",
      "  adding: screenshots/003Rad情報を用いた自動補完_e/00021.png (deflated 4%)\n",
      "  adding: screenshots/003Rad情報を用いた自動補完_e/00048.png (deflated 6%)\n",
      "  adding: screenshots/003Rad情報を用いた自動補完_e/00119.png (deflated 7%)\n",
      "  adding: screenshots/003Rad情報を用いた自動補完_e/00097.png (deflated 6%)\n",
      "  adding: screenshots/003Rad情報を用いた自動補完_e/00050.png (deflated 6%)\n",
      "  adding: screenshots/003Rad情報を用いた自動補完_e/00092.png (deflated 7%)\n",
      "  adding: screenshots/003Rad情報を用いた自動補完_e/00071.png (deflated 6%)\n",
      "  adding: screenshots/003Rad情報を用いた自動補完_e/00102.png (deflated 7%)\n",
      "  adding: screenshots/003Rad情報を用いた自動補完_e/00117.png (deflated 3%)\n",
      "  adding: screenshots/003Rad情報を用いた自動補完_e/00029.png (deflated 5%)\n",
      "  adding: screenshots/003Rad情報を用いた自動補完_e/00009.png (deflated 4%)\n",
      "  adding: screenshots/003Rad情報を用いた自動補完_e/00034.png (deflated 6%)\n",
      "  adding: screenshots/003Rad情報を用いた自動補完_e/00051.png (deflated 6%)\n",
      "  adding: screenshots/003Rad情報を用いた自動補完_e/00088.png (deflated 7%)\n",
      "  adding: screenshots/003Rad情報を用いた自動補完_e/00105.png (deflated 7%)\n",
      "  adding: screenshots/003Rad情報を用いた自動補完_e/00026.png (deflated 6%)\n",
      "  adding: screenshots/003Rad情報を用いた自動補完_e/00069.png (deflated 3%)\n",
      "  adding: screenshots/003Rad情報を用いた自動補完_e/00036.png (deflated 6%)\n",
      "  adding: screenshots/003Rad情報を用いた自動補完_e/00046.png (deflated 5%)\n",
      "  adding: screenshots/003Rad情報を用いた自動補完_e/00087.png (deflated 7%)\n",
      "  adding: screenshots/003Rad情報を用いた自動補完_e/00079.png (deflated 6%)\n",
      "  adding: screenshots/003Rad情報を用いた自動補完_e/00111.png (deflated 6%)\n",
      "  adding: screenshots/003Rad情報を用いた自動補完_e/00032.png (deflated 6%)\n",
      "  adding: screenshots/003Rad情報を用いた自動補完_e/00057.png (deflated 5%)\n",
      "  adding: screenshots/003Rad情報を用いた自動補完_e/00084.png (deflated 7%)\n",
      "  adding: screenshots/003Rad情報を用いた自動補完_e/00037.png (deflated 6%)\n",
      "  adding: screenshots/003Rad情報を用いた自動補完_e/video-1.webm (deflated 10%)\n",
      "  adding: screenshots/003Rad情報を用いた自動補完_e/00086.png (deflated 7%)\n",
      "  adding: screenshots/003Rad情報を用いた自動補完_e/00014.png (deflated 2%)\n",
      "  adding: screenshots/003Rad情報を用いた自動補完_e/00043.png (deflated 5%)\n",
      "  adding: screenshots/003Rad情報を用いた自動補完_e/00010.png (deflated 8%)\n",
      "  adding: screenshots/003Rad情報を用いた自動補完_e/00040.png (deflated 6%)\n",
      "  adding: screenshots/003Rad情報を用いた自動補完_e/00066.png (deflated 2%)\n",
      "  adding: screenshots/003Rad情報を用いた自動補完_e/00103.png (deflated 6%)\n",
      "  adding: screenshots/003Rad情報を用いた自動補完_e/00115.png (deflated 2%)\n",
      "  adding: screenshots/003Rad情報を用いた自動補完_e/00108.png (deflated 7%)\n",
      "  adding: screenshots/003Rad情報を用いた自動補完_e/00112.png (deflated 7%)\n",
      "  adding: screenshots/003Rad情報を用いた自動補完_e/00059.png (deflated 6%)\n",
      "  adding: screenshots/003Rad情報を用いた自動補完_e/00028.png (deflated 5%)\n",
      "  adding: screenshots/003Rad情報を用いた自動補完_e/00052.png (deflated 6%)\n",
      "  adding: screenshots/003Rad情報を用いた自動補完_e/00078.png (deflated 6%)\n",
      "  adding: screenshots/003Rad情報を用いた自動補完_e/00072.png (deflated 6%)\n",
      "  adding: screenshots/003Rad情報を用いた自動補完_e/00041.png (deflated 6%)\n",
      "  adding: screenshots/003Rad情報を用いた自動補完_e/00056.png (deflated 6%)\n",
      "  adding: screenshots/003Rad情報を用いた自動補完_e/00062.png (deflated 5%)\n",
      "  adding: screenshots/003Rad情報を用いた自動補完_e/00011.png (deflated 9%)\n",
      "  adding: screenshots/003Rad情報を用いた自動補完_e/00039.png (deflated 6%)\n",
      "  adding: screenshots/003Rad情報を用いた自動補完_e/00107.png (deflated 7%)\n",
      "  adding: screenshots/003Rad情報を用いた自動補完_e/00004.png (deflated 5%)\n",
      "  adding: screenshots/003Rad情報を用いた自動補完_e/00100.png (deflated 7%)\n",
      "  adding: screenshots/003Rad情報を用いた自動補完_e/00044.png (deflated 5%)\n",
      "  adding: screenshots/003Rad情報を用いた自動補完_e/00116.png (deflated 2%)\n",
      "  adding: screenshots/003Rad情報を用いた自動補完_e/00089.png (deflated 7%)\n",
      "  adding: screenshots/003Rad情報を用いた自動補完_e/00113.png (deflated 7%)\n",
      "  adding: screenshots/003Rad情報を用いた自動補完_e/00081.png (deflated 7%)\n",
      "  adding: screenshots/003Rad情報を用いた自動補完_e/00074.png (deflated 6%)\n",
      "  adding: screenshots/003Rad情報を用いた自動補完_e/00090.png (deflated 7%)\n",
      "  adding: screenshots/003Rad情報を用いた自動補完_e/00099.png (deflated 6%)\n",
      "  adding: screenshots/003Rad情報を用いた自動補完_e/00055.png (deflated 5%)\n",
      "  adding: screenshots/003Rad情報を用いた自動補完_e/00095.png (deflated 6%)\n",
      "  adding: screenshots/003Rad情報を用いた自動補完_e/video-2.webm (deflated 9%)\n",
      "  adding: screenshots/003Rad情報を用いた自動補完_e/00063.png (deflated 3%)\n",
      "  adding: screenshots/003Rad情報を用いた自動補完_e/00045.png (deflated 5%)\n",
      "  adding: screenshots/003Rad情報を用いた自動補完_e/00098.png (deflated 6%)\n",
      "  adding: screenshots/003Rad情報を用いた自動補完_e/00033.png (deflated 6%)\n",
      "  adding: screenshots/003Rad情報を用いた自動補完_e/00067.png (deflated 4%)\n",
      "  adding: screenshots/003Rad情報を用いた自動補完_e/00096.png (deflated 6%)\n",
      "  adding: screenshots/003Rad情報を用いた自動補完_e/00001.png (deflated 0%)\n",
      "  adding: screenshots/003Rad情報を用いた自動補完_e/00008.png (deflated 2%)\n",
      "  adding: screenshots/003Rad情報を用いた自動補完_e/00013.png (deflated 4%)\n",
      "  adding: screenshots/003Rad情報を用いた自動補完_e/00005.png (deflated 6%)\n",
      "  adding: screenshots/003Rad情報を用いた自動補完_e/00070.png (deflated 2%)\n",
      "  adding: screenshots/003Rad情報を用いた自動補完_e/00060.png (deflated 6%)\n",
      "  adding: screenshots/003Rad情報を用いた自動補完_e/00019.png (deflated 6%)\n",
      "  adding: screenshots/003Rad情報を用いた自動補完_e/00015.png (deflated 2%)\n",
      "  adding: screenshots/003Rad情報を用いた自動補完_e/00012.png (deflated 2%)\n",
      "  adding: screenshots/003Rad情報を用いた自動補完_e/00038.png (deflated 6%)\n",
      "  adding: screenshots/003Rad情報を用いた自動補完_e/00073.png (deflated 6%)\n",
      "  adding: screenshots/003Rad情報を用いた自動補完_e/00077.png (deflated 6%)\n",
      "  adding: screenshots/003Rad情報を用いた自動補完_e/00082.png (deflated 7%)\n",
      "  adding: screenshots/003Rad情報を用いた自動補完_e/00035.png (deflated 6%)\n",
      "  adding: screenshots/003Rad情報を用いた自動補完_e/00065.png (deflated 8%)\n",
      "  adding: screenshots/003Rad情報を用いた自動補完_e/00002.png (deflated 2%)\n",
      "  adding: screenshots/003Rad情報を用いた自動補完_e/00024.png (deflated 3%)\n",
      "  adding: screenshots/003Rad情報を用いた自動補完_e/00017.png (deflated 7%)\n",
      "  adding: screenshots/003Rad情報を用いた自動補完_e/00058.png (deflated 6%)\n",
      "  adding: screenshots/003Rad情報を用いた自動補完_e/00120.png (deflated 8%)\n",
      "  adding: screenshots/003Rad情報を用いた自動補完_e/00114.png (deflated 7%)\n",
      "  adding: screenshots/003Rad情報を用いた自動補完_e/00075.png (deflated 7%)\n",
      "  adding: screenshots/003Rad情報を用いた自動補完_e/00031.png (deflated 6%)\n",
      "  adding: screenshots/003Rad情報を用いた自動補完_e/00083.png (deflated 7%)\n",
      "  adding: screenshots/003Rad情報を用いた自動補完_e/00064.png (deflated 8%)\n",
      "  adding: screenshots/003Rad情報を用いた自動補完_e/00023.png (deflated 3%)\n",
      "  adding: screenshots/003Rad情報を用いた自動補完_e/00101.png (deflated 7%)\n",
      "  adding: screenshots/003Rad情報を用いた自動補完_e/00007.png (deflated 6%)\n",
      "  adding: screenshots/003Rad情報を用いた自動補完_e/00068.png (deflated 4%)\n",
      "  adding: screenshots/003Rad情報を用いた自動補完_e/00118.png (deflated 8%)\n",
      "  adding: screenshots/003Rad情報を用いた自動補完_e/00018.png (deflated 6%)\n",
      "  adding: screenshots/003Rad情報を用いた自動補完_e/00091.png (deflated 7%)\n",
      "  adding: screenshots/003Rad情報を用いた自動補完_e/00080.png (deflated 6%)\n",
      "  adding: screenshots/003Rad情報を用いた自動補完_e/00076.png (deflated 6%)\n",
      "  adding: screenshots/003Rad情報を用いた自動補完_e/00109.png (deflated 6%)\n",
      "  adding: screenshots/003Rad情報を用いた自動補完_e/00054.png (deflated 5%)\n",
      "  adding: screenshots/003Rad情報を用いた自動補完_e/00104.png (deflated 6%)\n",
      "  adding: screenshots/003Rad情報を用いた自動補完_e/00025.png (deflated 4%)\n",
      "  adding: screenshots/003Rad情報を用いた自動補完_e/00030.png (deflated 5%)\n",
      "  adding: screenshots/003Rad情報を用いた自動補完_e/00022.png (deflated 3%)\n",
      "  adding: screenshots/003Rad情報を用いた自動補完_e/00085.png (deflated 7%)\n",
      "  adding: screenshots/003Rad情報を用いた自動補完_e/00016.png (deflated 5%)\n",
      "  adding: screenshots/003Rad情報を用いた自動補完_e/00006.png (deflated 7%)\n",
      "  adding: screenshots/003Rad情報を用いた自動補完_e/00042.png (deflated 6%)\n",
      "  adding: screenshots/003Rad情報を用いた自動補完_e/00093.png (deflated 6%)\n",
      "  adding: screenshots/003Rad情報を用いた自動補完_e/00094.png (deflated 7%)\n",
      "  adding: screenshots/003Rad情報を用いた自動補完_e/00106.png (deflated 7%)\n",
      "  adding: screenshots/003Rad情報を用いた自動補完_e/00061.png (deflated 6%)\n",
      "  adding: screenshots/003Rad情報を用いた自動補完_e/00020.png (deflated 2%)\n",
      "  adding: screenshots/003Rad情報を用いた自動補完_e/00053.png (deflated 5%)\n"
     ]
    }
   ],
   "source": [
    "!cd {result_dir}; zip test-summary-{today}.zip *.xlsx -r screenshots"
   ]
  },
  {
   "cell_type": "markdown",
   "id": "87016038-34a2-4cd8-b541-adf0c44941f9",
   "metadata": {
    "deletable": true,
    "editable": true,
    "lc_cell_meme": {
     "current": "15675aaa-f993-11ef-a92d-0242ac120006-21-adf7-78cc-499b-a787-e195-72bc-6ef7-c5dd-6e05-afe6",
     "history": [
      {
       "current": "15675aaa-f993-11ef-a92d-0242ac120006-3-d2e6-6a44-9e21",
       "next": "6de74618-edc2-11ef-a157-0242ac120006-2-de82-6fc2",
       "previous": "eb6dbd76-f991-11ef-a92d-0242ac120006-1-8889"
      },
      {
       "current": "15675aaa-f993-11ef-a92d-0242ac120006-5-d2e6-6a44-9e21-1744-ab0b",
       "next": "6de74618-edc2-11ef-a157-0242ac120006-4-de82-6fc2-07b8-0934",
       "previous": "eb6dbd76-f991-11ef-a92d-0242ac120006-3-8889-842e-cedc"
      },
      {
       "current": "15675aaa-f993-11ef-a92d-0242ac120006-5-d2e6-6a44-9e21-1744-ab0b",
       "next": "6de74618-edc2-11ef-a157-0242ac120006-4-de82-6fc2-07b8-0934",
       "previous": "eb6dbd76-f991-11ef-a92d-0242ac120006-3-8889-842e-cedc"
      },
      {
       "current": "15675aaa-f993-11ef-a92d-0242ac120006-6-d2e6-6a44-9e21-1744-ab0b-3935",
       "next": "6de74618-edc2-11ef-a157-0242ac120006-6-de82-6fc2-07b8-0934-9511-fadc",
       "previous": "eb6dbd76-f991-11ef-a92d-0242ac120006-5-8889-842e-cedc-47e8-1a64"
      },
      {
       "current": "15675aaa-f993-11ef-a92d-0242ac120006-7-d2e6-6a44-9e21-1744-ab0b-3935-5dfc",
       "next": "6de74618-edc2-11ef-a157-0242ac120006-7-de82-6fc2-07b8-0934-9511-fadc-a911",
       "previous": "eb6dbd76-f991-11ef-a92d-0242ac120006-6-8889-842e-cedc-47e8-1a64-21aa"
      },
      {
       "current": "15675aaa-f993-11ef-a92d-0242ac120006-9-d2e6-6a44-9e21-1744-ab0b-3935-5dfc-db5e-1d89",
       "next": "6de74618-edc2-11ef-a157-0242ac120006-8-de82-6fc2-07b8-0934-9511-fadc-a911-4327",
       "previous": "eb6dbd76-f991-11ef-a92d-0242ac120006-7-8889-842e-cedc-47e8-1a64-21aa-fe61"
      },
      {
       "current": "15675aaa-f993-11ef-a92d-0242ac120006-9-d2e6-6a44-9e21-1744-ab0b-3935-5dfc-db5e-1d89",
       "next": "6de74618-edc2-11ef-a157-0242ac120006-10-de82-6fc2-07b8-0934-9511-fadc-a911-4327-1b67-2a38",
       "previous": "eb6dbd76-f991-11ef-a92d-0242ac120006-9-8889-842e-cedc-47e8-1a64-21aa-fe61-ff57-dd67"
      },
      {
       "current": "15675aaa-f993-11ef-a92d-0242ac120006-9-d2e6-6a44-9e21-1744-ab0b-3935-5dfc-db5e-1d89",
       "next": "6de74618-edc2-11ef-a157-0242ac120006-10-de82-6fc2-07b8-0934-9511-fadc-a911-4327-1b67-2a38",
       "previous": "09b30c72-112b-11f0-acfe-1231102d67ae"
      },
      {
       "current": "15675aaa-f993-11ef-a92d-0242ac120006-9-d2e6-6a44-9e21-1744-ab0b-3935-5dfc-db5e-1d89",
       "next": "6de74618-edc2-11ef-a157-0242ac120006-10-de82-6fc2-07b8-0934-9511-fadc-a911-4327-1b67-2a38",
       "previous": "09b30c72-112b-11f0-acfe-1231102d67ae"
      },
      {
       "current": "15675aaa-f993-11ef-a92d-0242ac120006-9-d2e6-6a44-9e21-1744-ab0b-3935-5dfc-db5e-1d89",
       "next": "6de74618-edc2-11ef-a157-0242ac120006-10-de82-6fc2-07b8-0934-9511-fadc-a911-4327-1b67-2a38",
       "previous": "09b30c72-112b-11f0-acfe-1231102d67ae-1-3ee5"
      },
      {
       "current": "15675aaa-f993-11ef-a92d-0242ac120006-9-d2e6-6a44-9e21-1744-ab0b-3935-5dfc-db5e-1d89",
       "next": "6de74618-edc2-11ef-a157-0242ac120006-10-de82-6fc2-07b8-0934-9511-fadc-a911-4327-1b67-2a38",
       "previous": "2bdbb708-112c-11f0-acfe-1231102d67ae"
      },
      {
       "current": "15675aaa-f993-11ef-a92d-0242ac120006-9-d2e6-6a44-9e21-1744-ab0b-3935-5dfc-db5e-1d89",
       "next": "6de74618-edc2-11ef-a157-0242ac120006-10-de82-6fc2-07b8-0934-9511-fadc-a911-4327-1b67-2a38",
       "previous": "dc9b92a6-1132-11f0-acfe-1231102d67ae"
      },
      {
       "current": "15675aaa-f993-11ef-a92d-0242ac120006-10-d2e6-6a44-9e21-1744-ab0b-3935-5dfc-db5e-1d89-8496",
       "next": "6de74618-edc2-11ef-a157-0242ac120006-10-de82-6fc2-07b8-0934-9511-fadc-a911-4327-1b67-2a38",
       "previous": "2bdbb708-112c-11f0-acfe-1231102d67ae"
      },
      {
       "current": "15675aaa-f993-11ef-a92d-0242ac120006-11-6a44-9e21-1744-ab0b-3935-5dfc-db5e-1d89-8496-0ba0",
       "next": "6de74618-edc2-11ef-a157-0242ac120006-11-6fc2-07b8-0934-9511-fadc-a911-4327-1b67-2a38-2f06",
       "previous": "2bdbb708-112c-11f0-acfe-1231102d67ae-1-666c"
      },
      {
       "current": "15675aaa-f993-11ef-a92d-0242ac120006-11-6a44-9e21-1744-ab0b-3935-5dfc-db5e-1d89-8496-0ba0",
       "next": "6de74618-edc2-11ef-a157-0242ac120006-12-07b8-0934-9511-fadc-a911-4327-1b67-2a38-2f06-0219",
       "previous": "2bdbb708-112c-11f0-acfe-1231102d67ae-2-666c-7f7d"
      },
      {
       "current": "15675aaa-f993-11ef-a92d-0242ac120006-12-9e21-1744-ab0b-3935-5dfc-db5e-1d89-8496-0ba0-adf7",
       "next": "6de74618-edc2-11ef-a157-0242ac120006-12-07b8-0934-9511-fadc-a911-4327-1b67-2a38-2f06-0219",
       "previous": "caa4a88e-133b-11f0-88c4-7e93a5d0b9a2"
      },
      {
       "current": "15675aaa-f993-11ef-a92d-0242ac120006-14-ab0b-3935-5dfc-db5e-1d89-8496-0ba0-adf7-78cc-499b",
       "next": "6de74618-edc2-11ef-a157-0242ac120006-13-0934-9511-fadc-a911-4327-1b67-2a38-2f06-0219-debb",
       "previous": "caa4a88e-133b-11f0-88c4-7e93a5d0b9a2-1-12fc"
      },
      {
       "current": "15675aaa-f993-11ef-a92d-0242ac120006-16-5dfc-db5e-1d89-8496-0ba0-adf7-78cc-499b-a787-e195",
       "next": "6de74618-edc2-11ef-a157-0242ac120006-15-fadc-a911-4327-1b67-2a38-2f06-0219-debb-f0f9-8135",
       "previous": "caa4a88e-133b-11f0-88c4-7e93a5d0b9a2-3-12fc-34b4-90f2"
      },
      {
       "current": "15675aaa-f993-11ef-a92d-0242ac120006-17-db5e-1d89-8496-0ba0-adf7-78cc-499b-a787-e195-72bc",
       "next": "6de74618-edc2-11ef-a157-0242ac120006-17-4327-1b67-2a38-2f06-0219-debb-f0f9-8135-023b-d7a8",
       "previous": "caa4a88e-133b-11f0-88c4-7e93a5d0b9a2-5-12fc-34b4-90f2-a517-fda0"
      },
      {
       "current": "15675aaa-f993-11ef-a92d-0242ac120006-18-1d89-8496-0ba0-adf7-78cc-499b-a787-e195-72bc-6ef7",
       "next": "6de74618-edc2-11ef-a157-0242ac120006-18-1b67-2a38-2f06-0219-debb-f0f9-8135-023b-d7a8-53c4",
       "previous": "caa4a88e-133b-11f0-88c4-7e93a5d0b9a2-6-12fc-34b4-90f2-a517-fda0-5588"
      }
     ],
     "next": "6de74618-edc2-11ef-a157-0242ac120006-19-2a38-2f06-0219-debb-f0f9-8135-023b-d7a8-53c4-622d",
     "previous": "caa4a88e-133b-11f0-88c4-7e93a5d0b9a2-7-12fc-34b4-90f2-a517-fda0-5588-ccfc"
    },
    "pinnedOutputTabIndex": 0,
    "run_through_control": {
     "frozen": false,
     "read_only": false
    }
   },
   "source": [
    "## 統計情報の収集"
   ]
  },
  {
   "cell_type": "code",
   "execution_count": 56,
   "id": "79dcfa3d-2aa4-4b7e-ac7c-52af9eda755d",
   "metadata": {
    "deletable": false,
    "editable": false,
    "lc_cell_meme": {
     "current": "6de74618-edc2-11ef-a157-0242ac120006-22-debb-f0f9-8135-023b-d7a8-53c4-622d-6788-c3e2-fd90",
     "execution_end_time": "2025-02-18T06:47:18.663Z",
     "history": [
      {
       "current": "6de74618-edc2-11ef-a157-0242ac120006",
       "next": "8fb6040a-ecdc-11ef-b381-0242ac120006-2-297f-5610",
       "previous": "5219f0aa-ed1a-11ef-a157-0242ac120006-1-ae56"
      },
      {
       "current": "6de74618-edc2-11ef-a157-0242ac120006",
       "next": "7e66f320-edc3-11ef-a157-0242ac120006",
       "previous": "5219f0aa-ed1a-11ef-a157-0242ac120006-1-ae56"
      },
      {
       "current": "6de74618-edc2-11ef-a157-0242ac120006-2-de82-6fc2",
       "next": "8fb6040a-ecdc-11ef-b381-0242ac120006-2-297f-5610",
       "previous": "5219f0aa-ed1a-11ef-a157-0242ac120006-1-ae56"
      },
      {
       "current": "6de74618-edc2-11ef-a157-0242ac120006-2-de82-6fc2",
       "next": "ef48c55e-f981-11ef-a92d-0242ac120006",
       "previous": "5219f0aa-ed1a-11ef-a157-0242ac120006-3-ae56-d3e5-60f3"
      },
      {
       "current": "6de74618-edc2-11ef-a157-0242ac120006-2-de82-6fc2",
       "next": "19339240-f982-11ef-a92d-0242ac120006",
       "previous": "5219f0aa-ed1a-11ef-a157-0242ac120006-3-ae56-d3e5-60f3"
      },
      {
       "current": "6de74618-edc2-11ef-a157-0242ac120006-2-de82-6fc2",
       "next": "ef48c55e-f981-11ef-a92d-0242ac120006",
       "previous": "5219f0aa-ed1a-11ef-a157-0242ac120006-3-ae56-d3e5-60f3"
      },
      {
       "current": "6de74618-edc2-11ef-a157-0242ac120006-2-de82-6fc2",
       "next": "ef48c55e-f981-11ef-a92d-0242ac120006",
       "previous": "5219f0aa-ed1a-11ef-a157-0242ac120006-3-ae56-d3e5-60f3"
      },
      {
       "current": "6de74618-edc2-11ef-a157-0242ac120006-2-de82-6fc2",
       "next": "fbf1a14c-f989-11ef-a92d-0242ac120006-1-a14e",
       "previous": "5219f0aa-ed1a-11ef-a157-0242ac120006-3-ae56-d3e5-60f3"
      },
      {
       "current": "6de74618-edc2-11ef-a157-0242ac120006-2-de82-6fc2",
       "next": "fbf1a14c-f989-11ef-a92d-0242ac120006-1-a14e",
       "previous": "5219f0aa-ed1a-11ef-a157-0242ac120006-3-ae56-d3e5-60f3"
      },
      {
       "current": "6de74618-edc2-11ef-a157-0242ac120006-2-de82-6fc2",
       "next": "ef48c55e-f981-11ef-a92d-0242ac120006",
       "previous": "5219f0aa-ed1a-11ef-a157-0242ac120006-3-ae56-d3e5-60f3"
      },
      {
       "current": "6de74618-edc2-11ef-a157-0242ac120006-2-de82-6fc2",
       "next": "ef48c55e-f981-11ef-a92d-0242ac120006",
       "previous": "5219f0aa-ed1a-11ef-a157-0242ac120006-3-ae56-d3e5-60f3"
      },
      {
       "current": "6de74618-edc2-11ef-a157-0242ac120006-2-de82-6fc2",
       "next": "ef48c55e-f981-11ef-a92d-0242ac120006",
       "previous": "eb6dbd76-f991-11ef-a92d-0242ac120006-1-8889"
      },
      {
       "current": "6de74618-edc2-11ef-a157-0242ac120006-2-de82-6fc2",
       "next": "ef48c55e-f981-11ef-a92d-0242ac120006",
       "previous": "816e156e-f992-11ef-a92d-0242ac120006"
      },
      {
       "current": "6de74618-edc2-11ef-a157-0242ac120006-2-de82-6fc2",
       "next": "ef48c55e-f981-11ef-a92d-0242ac120006",
       "previous": "eb6dbd76-f991-11ef-a92d-0242ac120006-1-8889"
      },
      {
       "current": "6de74618-edc2-11ef-a157-0242ac120006-2-de82-6fc2",
       "next": "ef48c55e-f981-11ef-a92d-0242ac120006",
       "previous": "15675aaa-f993-11ef-a92d-0242ac120006"
      },
      {
       "current": "6de74618-edc2-11ef-a157-0242ac120006-2-de82-6fc2",
       "next": "ef48c55e-f981-11ef-a92d-0242ac120006",
       "previous": "15675aaa-f993-11ef-a92d-0242ac120006"
      },
      {
       "current": "6de74618-edc2-11ef-a157-0242ac120006-4-de82-6fc2-07b8-0934",
       "next": "ef48c55e-f981-11ef-a92d-0242ac120006",
       "previous": "15675aaa-f993-11ef-a92d-0242ac120006-1-d2e6"
      },
      {
       "current": "6de74618-edc2-11ef-a157-0242ac120006-6-de82-6fc2-07b8-0934-9511-fadc",
       "next": "ef48c55e-f981-11ef-a92d-0242ac120006-2-9c36-6b9c",
       "previous": "15675aaa-f993-11ef-a92d-0242ac120006-3-d2e6-6a44-9e21"
      },
      {
       "current": "6de74618-edc2-11ef-a157-0242ac120006-6-de82-6fc2-07b8-0934-9511-fadc",
       "next": "ef48c55e-f981-11ef-a92d-0242ac120006-2-9c36-6b9c",
       "previous": "15675aaa-f993-11ef-a92d-0242ac120006-3-d2e6-6a44-9e21"
      },
      {
       "current": "6de74618-edc2-11ef-a157-0242ac120006-7-de82-6fc2-07b8-0934-9511-fadc-a911",
       "next": "ef48c55e-f981-11ef-a92d-0242ac120006-4-9c36-6b9c-938b-5006",
       "previous": "15675aaa-f993-11ef-a92d-0242ac120006-5-d2e6-6a44-9e21-1744-ab0b"
      },
      {
       "current": "6de74618-edc2-11ef-a157-0242ac120006-7-de82-6fc2-07b8-0934-9511-fadc-a911",
       "next": "ef48c55e-f981-11ef-a92d-0242ac120006-5-9c36-6b9c-938b-5006-8026",
       "previous": "15675aaa-f993-11ef-a92d-0242ac120006-6-d2e6-6a44-9e21-1744-ab0b-3935"
      },
      {
       "current": "6de74618-edc2-11ef-a157-0242ac120006-8-de82-6fc2-07b8-0934-9511-fadc-a911-4327",
       "next": "bed400ee-0c7a-11f0-b991-feb16f56f93e",
       "previous": "15675aaa-f993-11ef-a92d-0242ac120006-6-d2e6-6a44-9e21-1744-ab0b-3935"
      },
      {
       "current": "6de74618-edc2-11ef-a157-0242ac120006-10-de82-6fc2-07b8-0934-9511-fadc-a911-4327-1b67-2a38",
       "next": "bed400ee-0c7a-11f0-b991-feb16f56f93e-1-cb3b",
       "previous": "15675aaa-f993-11ef-a92d-0242ac120006-7-d2e6-6a44-9e21-1744-ab0b-3935-5dfc"
      },
      {
       "current": "6de74618-edc2-11ef-a157-0242ac120006-11-6fc2-07b8-0934-9511-fadc-a911-4327-1b67-2a38-2f06",
       "next": "bed400ee-0c7a-11f0-b991-feb16f56f93e-3-cb3b-8d60-8907",
       "previous": "15675aaa-f993-11ef-a92d-0242ac120006-9-d2e6-6a44-9e21-1744-ab0b-3935-5dfc-db5e-1d89"
      },
      {
       "current": "6de74618-edc2-11ef-a157-0242ac120006-12-07b8-0934-9511-fadc-a911-4327-1b67-2a38-2f06-0219",
       "next": "bed400ee-0c7a-11f0-b991-feb16f56f93e-4-cb3b-8d60-8907-e2ae",
       "previous": "15675aaa-f993-11ef-a92d-0242ac120006-10-d2e6-6a44-9e21-1744-ab0b-3935-5dfc-db5e-1d89-8496"
      },
      {
       "current": "6de74618-edc2-11ef-a157-0242ac120006-13-0934-9511-fadc-a911-4327-1b67-2a38-2f06-0219-debb",
       "next": "bed400ee-0c7a-11f0-b991-feb16f56f93e-5-cb3b-8d60-8907-e2ae-856d",
       "previous": "15675aaa-f993-11ef-a92d-0242ac120006-11-6a44-9e21-1744-ab0b-3935-5dfc-db5e-1d89-8496-0ba0"
      },
      {
       "current": "6de74618-edc2-11ef-a157-0242ac120006-15-fadc-a911-4327-1b67-2a38-2f06-0219-debb-f0f9-8135",
       "next": "bed400ee-0c7a-11f0-b991-feb16f56f93e-6-cb3b-8d60-8907-e2ae-856d-6e5d",
       "previous": "15675aaa-f993-11ef-a92d-0242ac120006-12-9e21-1744-ab0b-3935-5dfc-db5e-1d89-8496-0ba0-adf7"
      },
      {
       "current": "6de74618-edc2-11ef-a157-0242ac120006-17-4327-1b67-2a38-2f06-0219-debb-f0f9-8135-023b-d7a8",
       "next": "bed400ee-0c7a-11f0-b991-feb16f56f93e-8-cb3b-8d60-8907-e2ae-856d-6e5d-e6ad-8bd4",
       "previous": "15675aaa-f993-11ef-a92d-0242ac120006-14-ab0b-3935-5dfc-db5e-1d89-8496-0ba0-adf7-78cc-499b"
      },
      {
       "current": "6de74618-edc2-11ef-a157-0242ac120006-18-1b67-2a38-2f06-0219-debb-f0f9-8135-023b-d7a8-53c4",
       "next": "bed400ee-0c7a-11f0-b991-feb16f56f93e-10-cb3b-8d60-8907-e2ae-856d-6e5d-e6ad-8bd4-924e-f683",
       "previous": "15675aaa-f993-11ef-a92d-0242ac120006-16-5dfc-db5e-1d89-8496-0ba0-adf7-78cc-499b-a787-e195"
      },
      {
       "current": "6de74618-edc2-11ef-a157-0242ac120006-19-2a38-2f06-0219-debb-f0f9-8135-023b-d7a8-53c4-622d",
       "next": "bed400ee-0c7a-11f0-b991-feb16f56f93e-11-8d60-8907-e2ae-856d-6e5d-e6ad-8bd4-924e-f683-19cc",
       "previous": "15675aaa-f993-11ef-a92d-0242ac120006-17-db5e-1d89-8496-0ba0-adf7-78cc-499b-a787-e195-72bc"
      }
     ],
     "next": "bed400ee-0c7a-11f0-b991-feb16f56f93e-12-8907-e2ae-856d-6e5d-e6ad-8bd4-924e-f683-19cc-4266",
     "previous": "15675aaa-f993-11ef-a92d-0242ac120006-18-1d89-8496-0ba0-adf7-78cc-499b-a787-e195-72bc-6ef7"
    },
    "pinnedOutputTabIndex": 0,
    "run_through_control": {
     "frozen": true,
     "read_only": false
    },
    "scrolled": true
   },
   "outputs": [
    {
     "name": "stdout",
     "output_type": "stream",
     "text": [
      "Archive:  result/result-20250520-015143/取りまとめ-Metadataアドオン/har.zip\n",
      "  inflating: /tmp/tmpuxb1djzm/har/dff7f70dd447420a31c0d8287a874c816826a030.html  \n",
      "  inflating: /tmp/tmpuxb1djzm/har/45d973cf07d81b69608c7630d45257a05417752e.js  \n",
      "  inflating: /tmp/tmpuxb1djzm/har/30fedc6c732ef68bff3ef42016c7610d70a00289.js  \n",
      "  inflating: /tmp/tmpuxb1djzm/har/7b4766f5ad599c8c54d19065f96c5113f6f61c7d.js  \n",
      "  inflating: /tmp/tmpuxb1djzm/har/141e23c01a8e3d83ec4addaf5586eac6f57768ab.js  \n",
      "  inflating: /tmp/tmpuxb1djzm/har/13f0c3bbeaeda59ebd1d10269437037043c3a9b3.css  \n",
      "  inflating: /tmp/tmpuxb1djzm/har/875ad2fe05a291ef1bee7fd6699515df36b58288.js  \n",
      "  inflating: /tmp/tmpuxb1djzm/har/935522aa346f62814b4e1cdd5314fa71446a985f.css  \n",
      "  inflating: /tmp/tmpuxb1djzm/har/9c5c7c564f3c4fc9d1ea5465f8205c636c1955ba.css  \n",
      "  inflating: /tmp/tmpuxb1djzm/har/03fd3649109057e8401e0ca2083fee954f1141a2.css  \n",
      "  inflating: /tmp/tmpuxb1djzm/har/39d45b4ff221ca7ff22a6e6d4f8b63dd0974669a.js  \n",
      "  inflating: /tmp/tmpuxb1djzm/har/5740d41abf80390324dc5a086b20976cca93eb32.dat  \n",
      "  inflating: /tmp/tmpuxb1djzm/har/e8b68397b3a6f7bc93a2cd8cebf97da2f9bbe6f9.png  \n",
      "  inflating: /tmp/tmpuxb1djzm/har/93963fbd7accc0d8b69725e8277fe9e256f9934c.png  \n",
      "  inflating: /tmp/tmpuxb1djzm/har/2f8d53fe2255cbed9117de71b0e6dd773b9067f7.jpeg  \n",
      "  inflating: /tmp/tmpuxb1djzm/har/45ab0412a1216c3377ff21d0a80eb6f84b98a036.dat  \n",
      "  inflating: /tmp/tmpuxb1djzm/har/e5c5f3134fe29e60b591c87ea85951f0aea36ee1.dat  \n",
      "  inflating: /tmp/tmpuxb1djzm/har/d6f48cba7d076fb6f2fd6ba993a75b9dc1ecbf0c.woff2  \n",
      "  inflating: /tmp/tmpuxb1djzm/har/2acf956561d44434a6d84204670cf849d3215d5f.woff2  \n",
      "  inflating: /tmp/tmpuxb1djzm/har/8872100f24d279a157a38463d4ae40d81ad68437.html  \n",
      "  inflating: /tmp/tmpuxb1djzm/har/ac23568a3e4dffba7830bb46b96461974f611125.css  \n",
      "  inflating: /tmp/tmpuxb1djzm/har/fdecbe8a0b7fa1671bdb2b03e01b08a6f3dd9ee0.png  \n",
      "  inflating: /tmp/tmpuxb1djzm/har/310797c735ce74ea229145ac6906e14a27ad9377.png  \n",
      "  inflating: /tmp/tmpuxb1djzm/har/da0e85a03270f25f849d179b043ee4d2dd2ec0af.png  \n",
      "  inflating: /tmp/tmpuxb1djzm/har/581e91045e01f1cd5e4a62cda118bd8844387b6b.js  \n",
      "  inflating: /tmp/tmpuxb1djzm/har/95c9de30444117adbbb3218070fda00af187a76a.js  \n",
      "  inflating: /tmp/tmpuxb1djzm/har/b286614a767c86a75059fb1d4557be706e7c3812.txt  \n",
      "  inflating: /tmp/tmpuxb1djzm/har/37b1db88b57438f1072a8ebc7559c909c9d3a682.dat  \n",
      "  inflating: /tmp/tmpuxb1djzm/har/8951433dce1d5627a2a778f006fac63ed3ad1a7e.dat  \n",
      "  inflating: /tmp/tmpuxb1djzm/har/132cede38b18e7280d3ee3dbd8f2f4e954b6e357.dat  \n",
      "  inflating: /tmp/tmpuxb1djzm/har/8f068c4a049dd944f20c59262d052f0155a659d5.jpeg  \n",
      "  inflating: /tmp/tmpuxb1djzm/har/dd5b61371d061d2229871886bcebeff0932f4071.jpeg  \n",
      "  inflating: /tmp/tmpuxb1djzm/har/853a66bffc32d4690e98bf36c15201c0145003a1.dat  \n",
      "  inflating: /tmp/tmpuxb1djzm/har/dd299523f52af331ec039535f6f57faab3a4bb23.dat  \n",
      "  inflating: /tmp/tmpuxb1djzm/har/7021aa1c1fed662fa1a9e94cf466d49aee095068.dat  \n",
      "  inflating: /tmp/tmpuxb1djzm/har/737f1432c24d42f9ee57bf31bd0283cd62e5e8d1.dat  \n",
      "  inflating: /tmp/tmpuxb1djzm/har/2eddf27bbda8fbef41c2d68be58df343c2ee3689.html  \n",
      "  inflating: /tmp/tmpuxb1djzm/har/3d2ee6d93a1c151c66ee328505d5874c2f515660.png  \n",
      "  inflating: /tmp/tmpuxb1djzm/har/5484c5cd6a1c5c1132d57af29bfd75fab06f10cf.css  \n",
      "  inflating: /tmp/tmpuxb1djzm/har/a88e504620db172b79f40e91b06baffb255293c9.css  \n",
      "  inflating: /tmp/tmpuxb1djzm/har/e1af5353a8df0f581629bb10bb32f2c52b366afb.js  \n",
      "  inflating: /tmp/tmpuxb1djzm/har/1055018c28ab41087ef9ccefe411606893dabea2.js  \n",
      "  inflating: /tmp/tmpuxb1djzm/har/78489e580adaef931e6e5b131dab556c397e4a1a.js  \n",
      "  inflating: /tmp/tmpuxb1djzm/har/bd541ee340254ba736e78b016deb16a8d3dde31d.css  \n",
      "  inflating: /tmp/tmpuxb1djzm/har/6527d8bf3e1e9368bab8c7b60f56bc01fa3afd68.css  \n",
      "  inflating: /tmp/tmpuxb1djzm/har/850a6decd18ea48a6f06d85affe37cec808afe77.js  \n",
      "  inflating: /tmp/tmpuxb1djzm/har/0bd3600f0aefc845870583be41378f1c378fd855.js  \n",
      "  inflating: /tmp/tmpuxb1djzm/har/40a366c3068b001567e82f5dc0ac12168777f0b0.js  \n",
      "  inflating: /tmp/tmpuxb1djzm/har/60865dad21fc9ad16c536e652692818dbd265a81.js  \n",
      "  inflating: /tmp/tmpuxb1djzm/har/691adbfde1b0f4b02cce49363378e786f7bee086.css  \n",
      "  inflating: /tmp/tmpuxb1djzm/har/8b72e446cb6e9c7cd5b249d9122355668dcf0a2c.js  \n",
      "  inflating: /tmp/tmpuxb1djzm/har/88b21cb0b768ad3c5de2d03d8c7b4baa9ddbb4d3.js  \n",
      "  inflating: /tmp/tmpuxb1djzm/har/666682b0411a309eb045e017a58629fbb9470306.js  \n",
      "  inflating: /tmp/tmpuxb1djzm/har/f2ccf24c28a2b1f698613c904ef845545b6452f3.js  \n",
      "  inflating: /tmp/tmpuxb1djzm/har/faf2aea3bfd1db9f2b7d4156a8fc6c765a9ac659.js  \n",
      "  inflating: /tmp/tmpuxb1djzm/har/479d130628cb87cbefa805b677d0c9f2221faf66.js  \n",
      "  inflating: /tmp/tmpuxb1djzm/har/636eb659cdc5367e5e52474a001ebb4c3aab2b23.js  \n",
      "  inflating: /tmp/tmpuxb1djzm/har/ccbb062cd30f47ac7dfef5b378aff2576c50d981.js  \n",
      "  inflating: /tmp/tmpuxb1djzm/har/0c9ccfd2feb52b792c222a880a8a4d1a9aeedcbf.js  \n",
      "  inflating: /tmp/tmpuxb1djzm/har/b672e4e5a3d6b38e26299eb71caa8e939900d090.js  \n",
      "  inflating: /tmp/tmpuxb1djzm/har/eeda2be638521572b55bfd9e576ba3c40125b90a.js  \n",
      "  inflating: /tmp/tmpuxb1djzm/har/e2a42a3892a1a9bfea9ced82538888fcf634d51f.js  \n",
      "  inflating: /tmp/tmpuxb1djzm/har/8cf44a13f8f762b53aee4ddde0776e3f4f9d8b10.js  \n",
      "  inflating: /tmp/tmpuxb1djzm/har/993da16c5474e92782ca509d0cec9519269b1697.js  \n",
      "  inflating: /tmp/tmpuxb1djzm/har/ec75e56f763767a1471be624d7c52528d0de2964.js  \n",
      "  inflating: /tmp/tmpuxb1djzm/har/0a45078d4cf09c9806fc7500aeceb3a8a65a5cfd.js  \n",
      "  inflating: /tmp/tmpuxb1djzm/har/db824faa3e4cfca21c609c5474f5ce6624aea115.js  \n",
      "  inflating: /tmp/tmpuxb1djzm/har/95bf665aa24efd6fc0534665a109c1e936fe9872.js  \n",
      "  inflating: /tmp/tmpuxb1djzm/har/c402f4b5822425cbe816cb7f86c1a44e8fa813fd.png  \n",
      "  inflating: /tmp/tmpuxb1djzm/har/659a06919d2525049dad3612eb9ebe54b26dad72.dat  \n",
      "  inflating: /tmp/tmpuxb1djzm/har/4ba659d1124a129d9892dc376ad7731be9fafbf2.dat  \n",
      "  inflating: /tmp/tmpuxb1djzm/har/2eba4dd338d51ee7663c0eb2dc9cadefe78648dc.dat  \n",
      "  inflating: /tmp/tmpuxb1djzm/har/bc8f075a052f686b54a4105476a7155b5a793080.json  \n",
      "  inflating: /tmp/tmpuxb1djzm/har/cecf3c7d1a820411ce84f934a34d4a716821c862.dat  \n",
      "  inflating: /tmp/tmpuxb1djzm/har/fd44a5705594028c5f7f69bb4508cc49c3b049a2.css  \n",
      "  inflating: /tmp/tmpuxb1djzm/har/574b09d82318c51903c4828c88f9fbe6eaa023b6.css  \n",
      "  inflating: /tmp/tmpuxb1djzm/har/496ad78c3aac14631f6db8f8e290369820a1eaaa.html  \n",
      "  inflating: /tmp/tmpuxb1djzm/har/24086a072373b3da22e916bb4f342933eebb5165.js  \n",
      "  inflating: /tmp/tmpuxb1djzm/har/a16b5b4bf233387a7455704926ce0b274da7cd0b.js  \n",
      "  inflating: /tmp/tmpuxb1djzm/har/bf491fd064d3f500ad1262f5c75b2f5c1d1640bf.js  \n",
      "  inflating: /tmp/tmpuxb1djzm/har/e862beda3c883319bc1cd72f99134ac0800a5688.png  \n",
      "  inflating: /tmp/tmpuxb1djzm/har/6aacec30f469f294d6de7923b8846dd842241ded.json  \n",
      "  inflating: /tmp/tmpuxb1djzm/har/34e191c601b4fbd1ecbbaadeca39c29459510c2b.json  \n",
      "  inflating: /tmp/tmpuxb1djzm/har/42afb09dd401c959d0cf6fbf5c80da8168af69f5.json  \n",
      "  inflating: /tmp/tmpuxb1djzm/har/04fa3b538c5ab55f5ff82ac6edd805fbff702912.json  \n",
      "  inflating: /tmp/tmpuxb1djzm/har/430f49a60955389195dade2281080f296c155775.json  \n",
      "  inflating: /tmp/tmpuxb1djzm/har/d02f422063cb9a2e239b6986ecbb023d277512de.dat  \n",
      "  inflating: /tmp/tmpuxb1djzm/har/e0eaaef0b1cce7c598533e22666924773ad64d50.json  \n",
      "  inflating: /tmp/tmpuxb1djzm/har/dbe0f882c038f07fe8d3885cc87541ccee916b39.dat  \n",
      "  inflating: /tmp/tmpuxb1djzm/har/har.har  \n"
     ]
    },
    {
     "data": {
      "text/plain": [
       "''"
      ]
     },
     "execution_count": 56,
     "metadata": {},
     "output_type": "execute_result"
    }
   ],
   "source": [
    "import pandas as pd\n",
    "import json\n",
    "\n",
    "har_dfs = []\n",
    "for dirname in os.listdir(result_dir):\n",
    "    dirpath = os.path.join(result_dir, dirname)\n",
    "    if not os.path.isdir(dirpath):\n",
    "        continue\n",
    "    har_path = os.path.join(dirpath, 'har.zip')\n",
    "    items = []\n",
    "    if not os.path.exists(har_path):\n",
    "        continue\n",
    "    if os.path.exists(os.path.join(work_dir, 'har')):\n",
    "        !rm -fr {work_dir}/har\n",
    "    !mkdir -p {work_dir}/har\n",
    "    !unzip -d {work_dir}/har \"{har_path}\"\n",
    "    har_json_path = os.path.join(work_dir, 'har', 'har.har')\n",
    "    assert os.path.exists(har_json_path)\n",
    "    with open(har_json_path, 'r') as f:\n",
    "        har_json = json.load(f)\n",
    "        if 'log' in har_json and 'entries' in har_json['log']:\n",
    "            for e in har_json['log']['entries']:\n",
    "                items.append({\n",
    "                    'time': e['time'],\n",
    "                    'method': e['request']['method'],\n",
    "                    'url': e['request']['url'],\n",
    "                    'status': e['response']['status'],\n",
    "                })\n",
    "    har_df = pd.DataFrame(items)\n",
    "    har_df['test'] = dirname\n",
    "    har_dfs.append(har_df)\n",
    "har_df = pd.concat(har_dfs)\n",
    "\n",
    "last_5xx_urls = ''\n",
    "if len(har_df[har_df['status'] >= 500]) > 0:\n",
    "    last_5xx_urls = 'time, url, status\\n' + '\\n'.join([f'{t}, {url}, {status}' for i, (t, url, status) in enumerate(har_df[har_df['status'] >= 500][['time', 'url', 'status']].values)])\n",
    "else:\n",
    "    last_5xx_urls = ''\n",
    "last_5xx_urls"
   ]
  },
  {
   "cell_type": "code",
   "execution_count": 57,
   "id": "ed76a032-2c43-4607-a6c0-f0505a356e9e",
   "metadata": {
    "deletable": false,
    "editable": false,
    "lc_cell_meme": {
     "current": "bed400ee-0c7a-11f0-b991-feb16f56f93e-15-6e5d-e6ad-8bd4-924e-f683-19cc-4266-23e7-c3bb-613c",
     "execution_end_time": "2025-03-29T08:49:42.731Z",
     "history": [
      {
       "current": "bed400ee-0c7a-11f0-b991-feb16f56f93e",
       "next": "ef48c55e-f981-11ef-a92d-0242ac120006-5-9c36-6b9c-938b-5006-8026",
       "previous": "6de74618-edc2-11ef-a157-0242ac120006-7-de82-6fc2-07b8-0934-9511-fadc-a911"
      },
      {
       "current": "bed400ee-0c7a-11f0-b991-feb16f56f93e",
       "next": "258c53f0-f98d-11ef-a92d-0242ac120006-5-86a9-38b8-a365-1e04-1542",
       "previous": "6de74618-edc2-11ef-a157-0242ac120006-7-de82-6fc2-07b8-0934-9511-fadc-a911"
      },
      {
       "current": "bed400ee-0c7a-11f0-b991-feb16f56f93e",
       "next": "fbf1a14c-f989-11ef-a92d-0242ac120006-7-a14e-a99d-6395-441c-0a01-a768-4c64",
       "previous": "6de74618-edc2-11ef-a157-0242ac120006-7-de82-6fc2-07b8-0934-9511-fadc-a911"
      },
      {
       "current": "bed400ee-0c7a-11f0-b991-feb16f56f93e",
       "next": "f67d43c8-ff2f-11ef-889a-0242ac120006-4-c89e-19a6-42b9-55c0",
       "previous": "6de74618-edc2-11ef-a157-0242ac120006-7-de82-6fc2-07b8-0934-9511-fadc-a911"
      },
      {
       "current": "bed400ee-0c7a-11f0-b991-feb16f56f93e",
       "next": "35db1844-ff38-11ef-889a-0242ac120006-3-f96f-9ff6-ff2f",
       "previous": "6de74618-edc2-11ef-a157-0242ac120006-7-de82-6fc2-07b8-0934-9511-fadc-a911"
      },
      {
       "current": "bed400ee-0c7a-11f0-b991-feb16f56f93e",
       "next": "1f45bcba-f993-11ef-a92d-0242ac120006-6-38a2-d79d-e733-c04d-1011-4a5b",
       "previous": "6de74618-edc2-11ef-a157-0242ac120006-7-de82-6fc2-07b8-0934-9511-fadc-a911"
      },
      {
       "current": "bed400ee-0c7a-11f0-b991-feb16f56f93e",
       "next": "8fb6040a-ecdc-11ef-b381-0242ac120006-9-297f-5610-466a-7c72-a3c5-a9b3-547b-043a-8258",
       "previous": "6de74618-edc2-11ef-a157-0242ac120006-7-de82-6fc2-07b8-0934-9511-fadc-a911"
      },
      {
       "current": "bed400ee-0c7a-11f0-b991-feb16f56f93e",
       "next": "48894834-ecec-11ef-a157-0242ac120006-8-c862-ff0e-6f07-b3d8-66e5-8d25-38bf-88a8",
       "previous": "6de74618-edc2-11ef-a157-0242ac120006-7-de82-6fc2-07b8-0934-9511-fadc-a911"
      },
      {
       "current": "bed400ee-0c7a-11f0-b991-feb16f56f93e-1-cb3b",
       "next": "d34d8234-0c7a-11f0-b991-feb16f56f93e",
       "previous": "6de74618-edc2-11ef-a157-0242ac120006-7-de82-6fc2-07b8-0934-9511-fadc-a911"
      },
      {
       "current": "bed400ee-0c7a-11f0-b991-feb16f56f93e-3-cb3b-8d60-8907",
       "next": "d34d8234-0c7a-11f0-b991-feb16f56f93e-1-3405",
       "previous": "6de74618-edc2-11ef-a157-0242ac120006-8-de82-6fc2-07b8-0934-9511-fadc-a911-4327"
      },
      {
       "current": "bed400ee-0c7a-11f0-b991-feb16f56f93e-4-cb3b-8d60-8907-e2ae",
       "next": "d34d8234-0c7a-11f0-b991-feb16f56f93e-3-3405-ff79-1fa8",
       "previous": "6de74618-edc2-11ef-a157-0242ac120006-10-de82-6fc2-07b8-0934-9511-fadc-a911-4327-1b67-2a38"
      },
      {
       "current": "bed400ee-0c7a-11f0-b991-feb16f56f93e-5-cb3b-8d60-8907-e2ae-856d",
       "next": "d34d8234-0c7a-11f0-b991-feb16f56f93e-4-3405-ff79-1fa8-0950",
       "previous": "6de74618-edc2-11ef-a157-0242ac120006-11-6fc2-07b8-0934-9511-fadc-a911-4327-1b67-2a38-2f06"
      },
      {
       "current": "bed400ee-0c7a-11f0-b991-feb16f56f93e-6-cb3b-8d60-8907-e2ae-856d-6e5d",
       "next": "d34d8234-0c7a-11f0-b991-feb16f56f93e-5-3405-ff79-1fa8-0950-6aac",
       "previous": "6de74618-edc2-11ef-a157-0242ac120006-12-07b8-0934-9511-fadc-a911-4327-1b67-2a38-2f06-0219"
      },
      {
       "current": "bed400ee-0c7a-11f0-b991-feb16f56f93e-8-cb3b-8d60-8907-e2ae-856d-6e5d-e6ad-8bd4",
       "next": "d34d8234-0c7a-11f0-b991-feb16f56f93e-6-3405-ff79-1fa8-0950-6aac-bdeb",
       "previous": "6de74618-edc2-11ef-a157-0242ac120006-13-0934-9511-fadc-a911-4327-1b67-2a38-2f06-0219-debb"
      },
      {
       "current": "bed400ee-0c7a-11f0-b991-feb16f56f93e-10-cb3b-8d60-8907-e2ae-856d-6e5d-e6ad-8bd4-924e-f683",
       "next": "d34d8234-0c7a-11f0-b991-feb16f56f93e-8-3405-ff79-1fa8-0950-6aac-bdeb-ba0d-61a9",
       "previous": "6de74618-edc2-11ef-a157-0242ac120006-15-fadc-a911-4327-1b67-2a38-2f06-0219-debb-f0f9-8135"
      },
      {
       "current": "bed400ee-0c7a-11f0-b991-feb16f56f93e-11-8d60-8907-e2ae-856d-6e5d-e6ad-8bd4-924e-f683-19cc",
       "next": "d34d8234-0c7a-11f0-b991-feb16f56f93e-10-3405-ff79-1fa8-0950-6aac-bdeb-ba0d-61a9-8705-fe70",
       "previous": "6de74618-edc2-11ef-a157-0242ac120006-17-4327-1b67-2a38-2f06-0219-debb-f0f9-8135-023b-d7a8"
      },
      {
       "current": "bed400ee-0c7a-11f0-b991-feb16f56f93e-12-8907-e2ae-856d-6e5d-e6ad-8bd4-924e-f683-19cc-4266",
       "next": "d34d8234-0c7a-11f0-b991-feb16f56f93e-11-ff79-1fa8-0950-6aac-bdeb-ba0d-61a9-8705-fe70-3740",
       "previous": "6de74618-edc2-11ef-a157-0242ac120006-18-1b67-2a38-2f06-0219-debb-f0f9-8135-023b-d7a8-53c4"
      }
     ],
     "next": "d34d8234-0c7a-11f0-b991-feb16f56f93e-12-1fa8-0950-6aac-bdeb-ba0d-61a9-8705-fe70-3740-eadb",
     "previous": "6de74618-edc2-11ef-a157-0242ac120006-19-2a38-2f06-0219-debb-f0f9-8135-023b-d7a8-53c4-622d"
    },
    "pinnedOutputTabIndex": 0,
    "run_through_control": {
     "frozen": true,
     "read_only": false
    }
   },
   "outputs": [
    {
     "data": {
      "text/html": [
       "<div>\n",
       "<style scoped>\n",
       "    .dataframe tbody tr th:only-of-type {\n",
       "        vertical-align: middle;\n",
       "    }\n",
       "\n",
       "    .dataframe tbody tr th {\n",
       "        vertical-align: top;\n",
       "    }\n",
       "\n",
       "    .dataframe thead th {\n",
       "        text-align: right;\n",
       "    }\n",
       "</style>\n",
       "<table border=\"1\" class=\"dataframe\">\n",
       "  <thead>\n",
       "    <tr style=\"text-align: right;\">\n",
       "      <th></th>\n",
       "      <th>time</th>\n",
       "      <th>method</th>\n",
       "      <th>url</th>\n",
       "      <th>status</th>\n",
       "      <th>test</th>\n",
       "    </tr>\n",
       "  </thead>\n",
       "  <tbody>\n",
       "    <tr>\n",
       "      <th>0</th>\n",
       "      <td>159.469</td>\n",
       "      <td>GET</td>\n",
       "      <td>https://bh.rdm.yzwlab.com/</td>\n",
       "      <td>200</td>\n",
       "      <td>取りまとめ-Metadataアドオン</td>\n",
       "    </tr>\n",
       "    <tr>\n",
       "      <th>1</th>\n",
       "      <td>159.074</td>\n",
       "      <td>GET</td>\n",
       "      <td>https://fonts.googleapis.com/css?family=Open+S...</td>\n",
       "      <td>200</td>\n",
       "      <td>取りまとめ-Metadataアドオン</td>\n",
       "    </tr>\n",
       "    <tr>\n",
       "      <th>2</th>\n",
       "      <td>295.338</td>\n",
       "      <td>GET</td>\n",
       "      <td>https://bh.rdm.yzwlab.com/ember_osf_web/assets...</td>\n",
       "      <td>200</td>\n",
       "      <td>取りまとめ-Metadataアドオン</td>\n",
       "    </tr>\n",
       "    <tr>\n",
       "      <th>3</th>\n",
       "      <td>340.022</td>\n",
       "      <td>GET</td>\n",
       "      <td>https://bh.rdm.yzwlab.com/ember_osf_web/assets...</td>\n",
       "      <td>200</td>\n",
       "      <td>取りまとめ-Metadataアドオン</td>\n",
       "    </tr>\n",
       "    <tr>\n",
       "      <th>4</th>\n",
       "      <td>71.608</td>\n",
       "      <td>GET</td>\n",
       "      <td>https://cdnjs.cloudflare.com/ajax/libs/mathjax...</td>\n",
       "      <td>200</td>\n",
       "      <td>取りまとめ-Metadataアドオン</td>\n",
       "    </tr>\n",
       "    <tr>\n",
       "      <th>...</th>\n",
       "      <td>...</td>\n",
       "      <td>...</td>\n",
       "      <td>...</td>\n",
       "      <td>...</td>\n",
       "      <td>...</td>\n",
       "    </tr>\n",
       "    <tr>\n",
       "      <th>195</th>\n",
       "      <td>-1.000</td>\n",
       "      <td>GET</td>\n",
       "      <td>https://api.bh.rdm.yzwlab.com/v2/nodes/dfjpm/b...</td>\n",
       "      <td>-1</td>\n",
       "      <td>取りまとめ-Metadataアドオン</td>\n",
       "    </tr>\n",
       "    <tr>\n",
       "      <th>196</th>\n",
       "      <td>-1.000</td>\n",
       "      <td>GET</td>\n",
       "      <td>https://api.bh.rdm.yzwlab.com/v2/nodes/8zqj2/b...</td>\n",
       "      <td>-1</td>\n",
       "      <td>取りまとめ-Metadataアドオン</td>\n",
       "    </tr>\n",
       "    <tr>\n",
       "      <th>197</th>\n",
       "      <td>-1.000</td>\n",
       "      <td>GET</td>\n",
       "      <td>https://api.bh.rdm.yzwlab.com/v2/nodes/7t5ab/b...</td>\n",
       "      <td>-1</td>\n",
       "      <td>取りまとめ-Metadataアドオン</td>\n",
       "    </tr>\n",
       "    <tr>\n",
       "      <th>198</th>\n",
       "      <td>-1.000</td>\n",
       "      <td>GET</td>\n",
       "      <td>https://api.bh.rdm.yzwlab.com/v2/nodes/7nm68/b...</td>\n",
       "      <td>-1</td>\n",
       "      <td>取りまとめ-Metadataアドオン</td>\n",
       "    </tr>\n",
       "    <tr>\n",
       "      <th>199</th>\n",
       "      <td>-1.000</td>\n",
       "      <td>GET</td>\n",
       "      <td>https://api.bh.rdm.yzwlab.com/v2/nodes/5msr7/b...</td>\n",
       "      <td>-1</td>\n",
       "      <td>取りまとめ-Metadataアドオン</td>\n",
       "    </tr>\n",
       "  </tbody>\n",
       "</table>\n",
       "<p>200 rows × 5 columns</p>\n",
       "</div>"
      ],
      "text/plain": [
       "        time method                                                url  \\\n",
       "0    159.469    GET                         https://bh.rdm.yzwlab.com/   \n",
       "1    159.074    GET  https://fonts.googleapis.com/css?family=Open+S...   \n",
       "2    295.338    GET  https://bh.rdm.yzwlab.com/ember_osf_web/assets...   \n",
       "3    340.022    GET  https://bh.rdm.yzwlab.com/ember_osf_web/assets...   \n",
       "4     71.608    GET  https://cdnjs.cloudflare.com/ajax/libs/mathjax...   \n",
       "..       ...    ...                                                ...   \n",
       "195   -1.000    GET  https://api.bh.rdm.yzwlab.com/v2/nodes/dfjpm/b...   \n",
       "196   -1.000    GET  https://api.bh.rdm.yzwlab.com/v2/nodes/8zqj2/b...   \n",
       "197   -1.000    GET  https://api.bh.rdm.yzwlab.com/v2/nodes/7t5ab/b...   \n",
       "198   -1.000    GET  https://api.bh.rdm.yzwlab.com/v2/nodes/7nm68/b...   \n",
       "199   -1.000    GET  https://api.bh.rdm.yzwlab.com/v2/nodes/5msr7/b...   \n",
       "\n",
       "     status                test  \n",
       "0       200  取りまとめ-Metadataアドオン  \n",
       "1       200  取りまとめ-Metadataアドオン  \n",
       "2       200  取りまとめ-Metadataアドオン  \n",
       "3       200  取りまとめ-Metadataアドオン  \n",
       "4       200  取りまとめ-Metadataアドオン  \n",
       "..      ...                 ...  \n",
       "195      -1  取りまとめ-Metadataアドオン  \n",
       "196      -1  取りまとめ-Metadataアドオン  \n",
       "197      -1  取りまとめ-Metadataアドオン  \n",
       "198      -1  取りまとめ-Metadataアドオン  \n",
       "199      -1  取りまとめ-Metadataアドオン  \n",
       "\n",
       "[200 rows x 5 columns]"
      ]
     },
     "execution_count": 57,
     "metadata": {},
     "output_type": "execute_result"
    }
   ],
   "source": [
    "har_df"
   ]
  },
  {
   "cell_type": "code",
   "execution_count": 58,
   "id": "ad727c2b-af3c-4e67-a3cf-a2035cf0451f",
   "metadata": {
    "deletable": false,
    "editable": false,
    "lc_cell_meme": {
     "current": "d34d8234-0c7a-11f0-b991-feb16f56f93e-15-bdeb-ba0d-61a9-8705-fe70-3740-eadb-12cd-2fbc-e9da",
     "execution_end_time": "2025-03-29T08:50:20.660Z",
     "history": [
      {
       "current": "d34d8234-0c7a-11f0-b991-feb16f56f93e",
       "next": "48894834-ecec-11ef-a157-0242ac120006-8-c862-ff0e-6f07-b3d8-66e5-8d25-38bf-88a8",
       "previous": "bed400ee-0c7a-11f0-b991-feb16f56f93e"
      },
      {
       "current": "d34d8234-0c7a-11f0-b991-feb16f56f93e-1-3405",
       "next": "f13c528e-0c7a-11f0-b991-feb16f56f93e",
       "previous": "bed400ee-0c7a-11f0-b991-feb16f56f93e"
      },
      {
       "current": "d34d8234-0c7a-11f0-b991-feb16f56f93e-3-3405-ff79-1fa8",
       "next": "f13c528e-0c7a-11f0-b991-feb16f56f93e-1-0932",
       "previous": "bed400ee-0c7a-11f0-b991-feb16f56f93e-1-cb3b"
      },
      {
       "current": "d34d8234-0c7a-11f0-b991-feb16f56f93e-4-3405-ff79-1fa8-0950",
       "next": "f13c528e-0c7a-11f0-b991-feb16f56f93e-3-0932-73b5-9ddf",
       "previous": "bed400ee-0c7a-11f0-b991-feb16f56f93e-3-cb3b-8d60-8907"
      },
      {
       "current": "d34d8234-0c7a-11f0-b991-feb16f56f93e-5-3405-ff79-1fa8-0950-6aac",
       "next": "f13c528e-0c7a-11f0-b991-feb16f56f93e-4-0932-73b5-9ddf-6048",
       "previous": "bed400ee-0c7a-11f0-b991-feb16f56f93e-4-cb3b-8d60-8907-e2ae"
      },
      {
       "current": "d34d8234-0c7a-11f0-b991-feb16f56f93e-6-3405-ff79-1fa8-0950-6aac-bdeb",
       "next": "f13c528e-0c7a-11f0-b991-feb16f56f93e-5-0932-73b5-9ddf-6048-78a3",
       "previous": "bed400ee-0c7a-11f0-b991-feb16f56f93e-5-cb3b-8d60-8907-e2ae-856d"
      },
      {
       "current": "d34d8234-0c7a-11f0-b991-feb16f56f93e-8-3405-ff79-1fa8-0950-6aac-bdeb-ba0d-61a9",
       "next": "f13c528e-0c7a-11f0-b991-feb16f56f93e-6-0932-73b5-9ddf-6048-78a3-9922",
       "previous": "bed400ee-0c7a-11f0-b991-feb16f56f93e-6-cb3b-8d60-8907-e2ae-856d-6e5d"
      },
      {
       "current": "d34d8234-0c7a-11f0-b991-feb16f56f93e-10-3405-ff79-1fa8-0950-6aac-bdeb-ba0d-61a9-8705-fe70",
       "next": "f13c528e-0c7a-11f0-b991-feb16f56f93e-8-0932-73b5-9ddf-6048-78a3-9922-08fd-7615",
       "previous": "bed400ee-0c7a-11f0-b991-feb16f56f93e-8-cb3b-8d60-8907-e2ae-856d-6e5d-e6ad-8bd4"
      },
      {
       "current": "d34d8234-0c7a-11f0-b991-feb16f56f93e-11-ff79-1fa8-0950-6aac-bdeb-ba0d-61a9-8705-fe70-3740",
       "next": "f13c528e-0c7a-11f0-b991-feb16f56f93e-10-0932-73b5-9ddf-6048-78a3-9922-08fd-7615-a21f-57ba",
       "previous": "bed400ee-0c7a-11f0-b991-feb16f56f93e-10-cb3b-8d60-8907-e2ae-856d-6e5d-e6ad-8bd4-924e-f683"
      },
      {
       "current": "d34d8234-0c7a-11f0-b991-feb16f56f93e-11-ff79-1fa8-0950-6aac-bdeb-ba0d-61a9-8705-fe70-3740",
       "next": "f13c528e-0c7a-11f0-b991-feb16f56f93e-11-73b5-9ddf-6048-78a3-9922-08fd-7615-a21f-57ba-b319",
       "previous": "bed400ee-0c7a-11f0-b991-feb16f56f93e-11-8d60-8907-e2ae-856d-6e5d-e6ad-8bd4-924e-f683-19cc"
      },
      {
       "current": "d34d8234-0c7a-11f0-b991-feb16f56f93e-12-1fa8-0950-6aac-bdeb-ba0d-61a9-8705-fe70-3740-eadb",
       "next": "01470e52-1ccb-11f0-bede-d2c904970d7c",
       "previous": "bed400ee-0c7a-11f0-b991-feb16f56f93e-11-8d60-8907-e2ae-856d-6e5d-e6ad-8bd4-924e-f683-19cc"
      }
     ],
     "next": "01470e52-1ccb-11f0-bede-d2c904970d7c-1-058f",
     "previous": "bed400ee-0c7a-11f0-b991-feb16f56f93e-12-8907-e2ae-856d-6e5d-e6ad-8bd4-924e-f683-19cc-4266"
    },
    "pinnedOutputTabIndex": 0,
    "run_through_control": {
     "frozen": true,
     "read_only": false
    }
   },
   "outputs": [
    {
     "data": {
      "text/html": [
       "<div>\n",
       "<style scoped>\n",
       "    .dataframe tbody tr th:only-of-type {\n",
       "        vertical-align: middle;\n",
       "    }\n",
       "\n",
       "    .dataframe tbody tr th {\n",
       "        vertical-align: top;\n",
       "    }\n",
       "\n",
       "    .dataframe thead th {\n",
       "        text-align: right;\n",
       "    }\n",
       "</style>\n",
       "<table border=\"1\" class=\"dataframe\">\n",
       "  <thead>\n",
       "    <tr style=\"text-align: right;\">\n",
       "      <th></th>\n",
       "      <th>time</th>\n",
       "      <th>method</th>\n",
       "      <th>url</th>\n",
       "      <th>status</th>\n",
       "      <th>test</th>\n",
       "    </tr>\n",
       "  </thead>\n",
       "  <tbody>\n",
       "    <tr>\n",
       "      <th>112</th>\n",
       "      <td>-1.000</td>\n",
       "      <td>GET</td>\n",
       "      <td>https://bh.rdm.yzwlab.com/api/v1/project/s5a6y...</td>\n",
       "      <td>-1</td>\n",
       "      <td>取りまとめ-Metadataアドオン</td>\n",
       "    </tr>\n",
       "    <tr>\n",
       "      <th>193</th>\n",
       "      <td>-1.000</td>\n",
       "      <td>GET</td>\n",
       "      <td>https://api.bh.rdm.yzwlab.com/v2/nodes/esfzq/b...</td>\n",
       "      <td>-1</td>\n",
       "      <td>取りまとめ-Metadataアドオン</td>\n",
       "    </tr>\n",
       "    <tr>\n",
       "      <th>194</th>\n",
       "      <td>-1.000</td>\n",
       "      <td>GET</td>\n",
       "      <td>https://api.bh.rdm.yzwlab.com/v2/nodes/edqpf/b...</td>\n",
       "      <td>-1</td>\n",
       "      <td>取りまとめ-Metadataアドオン</td>\n",
       "    </tr>\n",
       "    <tr>\n",
       "      <th>195</th>\n",
       "      <td>-1.000</td>\n",
       "      <td>GET</td>\n",
       "      <td>https://api.bh.rdm.yzwlab.com/v2/nodes/dfjpm/b...</td>\n",
       "      <td>-1</td>\n",
       "      <td>取りまとめ-Metadataアドオン</td>\n",
       "    </tr>\n",
       "    <tr>\n",
       "      <th>196</th>\n",
       "      <td>-1.000</td>\n",
       "      <td>GET</td>\n",
       "      <td>https://api.bh.rdm.yzwlab.com/v2/nodes/8zqj2/b...</td>\n",
       "      <td>-1</td>\n",
       "      <td>取りまとめ-Metadataアドオン</td>\n",
       "    </tr>\n",
       "    <tr>\n",
       "      <th>...</th>\n",
       "      <td>...</td>\n",
       "      <td>...</td>\n",
       "      <td>...</td>\n",
       "      <td>...</td>\n",
       "      <td>...</td>\n",
       "    </tr>\n",
       "    <tr>\n",
       "      <th>63</th>\n",
       "      <td>1223.019</td>\n",
       "      <td>GET</td>\n",
       "      <td>https://api.bh.rdm.yzwlab.com/v2/nodes/s5a6y/b...</td>\n",
       "      <td>200</td>\n",
       "      <td>取りまとめ-Metadataアドオン</td>\n",
       "    </tr>\n",
       "    <tr>\n",
       "      <th>114</th>\n",
       "      <td>1295.915</td>\n",
       "      <td>GET</td>\n",
       "      <td>https://api.bh.rdm.yzwlab.com/v2/nodes/s5a6y/l...</td>\n",
       "      <td>200</td>\n",
       "      <td>取りまとめ-Metadataアドオン</td>\n",
       "    </tr>\n",
       "    <tr>\n",
       "      <th>120</th>\n",
       "      <td>1307.002</td>\n",
       "      <td>GET</td>\n",
       "      <td>https://bh.rdm.yzwlab.com/s5a6y/settings/</td>\n",
       "      <td>200</td>\n",
       "      <td>取りまとめ-Metadataアドオン</td>\n",
       "    </tr>\n",
       "    <tr>\n",
       "      <th>189</th>\n",
       "      <td>1355.018</td>\n",
       "      <td>GET</td>\n",
       "      <td>https://api.bh.rdm.yzwlab.com/v2/sparse/users/...</td>\n",
       "      <td>200</td>\n",
       "      <td>取りまとめ-Metadataアドオン</td>\n",
       "    </tr>\n",
       "    <tr>\n",
       "      <th>113</th>\n",
       "      <td>1371.187</td>\n",
       "      <td>GET</td>\n",
       "      <td>https://bh.rdm.yzwlab.com/api/v1/project/s5a6y...</td>\n",
       "      <td>200</td>\n",
       "      <td>取りまとめ-Metadataアドオン</td>\n",
       "    </tr>\n",
       "  </tbody>\n",
       "</table>\n",
       "<p>200 rows × 5 columns</p>\n",
       "</div>"
      ],
      "text/plain": [
       "         time method                                                url  \\\n",
       "112    -1.000    GET  https://bh.rdm.yzwlab.com/api/v1/project/s5a6y...   \n",
       "193    -1.000    GET  https://api.bh.rdm.yzwlab.com/v2/nodes/esfzq/b...   \n",
       "194    -1.000    GET  https://api.bh.rdm.yzwlab.com/v2/nodes/edqpf/b...   \n",
       "195    -1.000    GET  https://api.bh.rdm.yzwlab.com/v2/nodes/dfjpm/b...   \n",
       "196    -1.000    GET  https://api.bh.rdm.yzwlab.com/v2/nodes/8zqj2/b...   \n",
       "..        ...    ...                                                ...   \n",
       "63   1223.019    GET  https://api.bh.rdm.yzwlab.com/v2/nodes/s5a6y/b...   \n",
       "114  1295.915    GET  https://api.bh.rdm.yzwlab.com/v2/nodes/s5a6y/l...   \n",
       "120  1307.002    GET          https://bh.rdm.yzwlab.com/s5a6y/settings/   \n",
       "189  1355.018    GET  https://api.bh.rdm.yzwlab.com/v2/sparse/users/...   \n",
       "113  1371.187    GET  https://bh.rdm.yzwlab.com/api/v1/project/s5a6y...   \n",
       "\n",
       "     status                test  \n",
       "112      -1  取りまとめ-Metadataアドオン  \n",
       "193      -1  取りまとめ-Metadataアドオン  \n",
       "194      -1  取りまとめ-Metadataアドオン  \n",
       "195      -1  取りまとめ-Metadataアドオン  \n",
       "196      -1  取りまとめ-Metadataアドオン  \n",
       "..      ...                 ...  \n",
       "63      200  取りまとめ-Metadataアドオン  \n",
       "114     200  取りまとめ-Metadataアドオン  \n",
       "120     200  取りまとめ-Metadataアドオン  \n",
       "189     200  取りまとめ-Metadataアドオン  \n",
       "113     200  取りまとめ-Metadataアドオン  \n",
       "\n",
       "[200 rows x 5 columns]"
      ]
     },
     "execution_count": 58,
     "metadata": {},
     "output_type": "execute_result"
    }
   ],
   "source": [
    "har_df.sort_values('time')"
   ]
  },
  {
   "cell_type": "code",
   "execution_count": 59,
   "id": "a6bf2ddc-9d1b-44e0-811d-543b4b63e047",
   "metadata": {
    "deletable": false,
    "editable": false,
    "lc_cell_meme": {
     "current": "01470e52-1ccb-11f0-bede-d2c904970d7c-4-058f-1cb0-33c8-a153",
     "execution_end_time": "2025-04-19T03:05:59.606Z",
     "history": [
      {
       "current": "01470e52-1ccb-11f0-bede-d2c904970d7c-1-058f",
       "next": "f13c528e-0c7a-11f0-b991-feb16f56f93e-11-73b5-9ddf-6048-78a3-9922-08fd-7615-a21f-57ba-b319",
       "previous": "d34d8234-0c7a-11f0-b991-feb16f56f93e-11-ff79-1fa8-0950-6aac-bdeb-ba0d-61a9-8705-fe70-3740"
      }
     ],
     "next": "f13c528e-0c7a-11f0-b991-feb16f56f93e-12-9ddf-6048-78a3-9922-08fd-7615-a21f-57ba-b319-1299",
     "previous": "d34d8234-0c7a-11f0-b991-feb16f56f93e-12-1fa8-0950-6aac-bdeb-ba0d-61a9-8705-fe70-3740-eadb"
    },
    "pinnedOutputTabIndex": 0,
    "run_through_control": {
     "frozen": true,
     "read_only": false
    }
   },
   "outputs": [
    {
     "data": {
      "text/html": [
       "<div>\n",
       "<style scoped>\n",
       "    .dataframe tbody tr th:only-of-type {\n",
       "        vertical-align: middle;\n",
       "    }\n",
       "\n",
       "    .dataframe tbody tr th {\n",
       "        vertical-align: top;\n",
       "    }\n",
       "\n",
       "    .dataframe thead th {\n",
       "        text-align: right;\n",
       "    }\n",
       "</style>\n",
       "<table border=\"1\" class=\"dataframe\">\n",
       "  <thead>\n",
       "    <tr style=\"text-align: right;\">\n",
       "      <th></th>\n",
       "      <th>time</th>\n",
       "      <th>method</th>\n",
       "      <th>url</th>\n",
       "      <th>status</th>\n",
       "      <th>test</th>\n",
       "    </tr>\n",
       "  </thead>\n",
       "  <tbody>\n",
       "    <tr>\n",
       "      <th>112</th>\n",
       "      <td>-1.0</td>\n",
       "      <td>GET</td>\n",
       "      <td>https://bh.rdm.yzwlab.com/api/v1/project/s5a6y...</td>\n",
       "      <td>-1</td>\n",
       "      <td>取りまとめ-Metadataアドオン</td>\n",
       "    </tr>\n",
       "    <tr>\n",
       "      <th>128</th>\n",
       "      <td>-1.0</td>\n",
       "      <td>GET</td>\n",
       "      <td>https://bh.rdm.yzwlab.com/api/v1/project/s5a6y...</td>\n",
       "      <td>-1</td>\n",
       "      <td>取りまとめ-Metadataアドオン</td>\n",
       "    </tr>\n",
       "    <tr>\n",
       "      <th>190</th>\n",
       "      <td>-1.0</td>\n",
       "      <td>GET</td>\n",
       "      <td>https://api.bh.rdm.yzwlab.com/v2/nodes/tj7kv/b...</td>\n",
       "      <td>-1</td>\n",
       "      <td>取りまとめ-Metadataアドオン</td>\n",
       "    </tr>\n",
       "    <tr>\n",
       "      <th>191</th>\n",
       "      <td>-1.0</td>\n",
       "      <td>GET</td>\n",
       "      <td>https://api.bh.rdm.yzwlab.com/v2/nodes/hftdy/b...</td>\n",
       "      <td>-1</td>\n",
       "      <td>取りまとめ-Metadataアドオン</td>\n",
       "    </tr>\n",
       "    <tr>\n",
       "      <th>192</th>\n",
       "      <td>-1.0</td>\n",
       "      <td>GET</td>\n",
       "      <td>https://api.bh.rdm.yzwlab.com/v2/nodes/ghb3e/b...</td>\n",
       "      <td>-1</td>\n",
       "      <td>取りまとめ-Metadataアドオン</td>\n",
       "    </tr>\n",
       "    <tr>\n",
       "      <th>193</th>\n",
       "      <td>-1.0</td>\n",
       "      <td>GET</td>\n",
       "      <td>https://api.bh.rdm.yzwlab.com/v2/nodes/esfzq/b...</td>\n",
       "      <td>-1</td>\n",
       "      <td>取りまとめ-Metadataアドオン</td>\n",
       "    </tr>\n",
       "    <tr>\n",
       "      <th>194</th>\n",
       "      <td>-1.0</td>\n",
       "      <td>GET</td>\n",
       "      <td>https://api.bh.rdm.yzwlab.com/v2/nodes/edqpf/b...</td>\n",
       "      <td>-1</td>\n",
       "      <td>取りまとめ-Metadataアドオン</td>\n",
       "    </tr>\n",
       "    <tr>\n",
       "      <th>195</th>\n",
       "      <td>-1.0</td>\n",
       "      <td>GET</td>\n",
       "      <td>https://api.bh.rdm.yzwlab.com/v2/nodes/dfjpm/b...</td>\n",
       "      <td>-1</td>\n",
       "      <td>取りまとめ-Metadataアドオン</td>\n",
       "    </tr>\n",
       "    <tr>\n",
       "      <th>196</th>\n",
       "      <td>-1.0</td>\n",
       "      <td>GET</td>\n",
       "      <td>https://api.bh.rdm.yzwlab.com/v2/nodes/8zqj2/b...</td>\n",
       "      <td>-1</td>\n",
       "      <td>取りまとめ-Metadataアドオン</td>\n",
       "    </tr>\n",
       "    <tr>\n",
       "      <th>197</th>\n",
       "      <td>-1.0</td>\n",
       "      <td>GET</td>\n",
       "      <td>https://api.bh.rdm.yzwlab.com/v2/nodes/7t5ab/b...</td>\n",
       "      <td>-1</td>\n",
       "      <td>取りまとめ-Metadataアドオン</td>\n",
       "    </tr>\n",
       "    <tr>\n",
       "      <th>198</th>\n",
       "      <td>-1.0</td>\n",
       "      <td>GET</td>\n",
       "      <td>https://api.bh.rdm.yzwlab.com/v2/nodes/7nm68/b...</td>\n",
       "      <td>-1</td>\n",
       "      <td>取りまとめ-Metadataアドオン</td>\n",
       "    </tr>\n",
       "    <tr>\n",
       "      <th>199</th>\n",
       "      <td>-1.0</td>\n",
       "      <td>GET</td>\n",
       "      <td>https://api.bh.rdm.yzwlab.com/v2/nodes/5msr7/b...</td>\n",
       "      <td>-1</td>\n",
       "      <td>取りまとめ-Metadataアドオン</td>\n",
       "    </tr>\n",
       "  </tbody>\n",
       "</table>\n",
       "</div>"
      ],
      "text/plain": [
       "     time method                                                url  status  \\\n",
       "112  -1.0    GET  https://bh.rdm.yzwlab.com/api/v1/project/s5a6y...      -1   \n",
       "128  -1.0    GET  https://bh.rdm.yzwlab.com/api/v1/project/s5a6y...      -1   \n",
       "190  -1.0    GET  https://api.bh.rdm.yzwlab.com/v2/nodes/tj7kv/b...      -1   \n",
       "191  -1.0    GET  https://api.bh.rdm.yzwlab.com/v2/nodes/hftdy/b...      -1   \n",
       "192  -1.0    GET  https://api.bh.rdm.yzwlab.com/v2/nodes/ghb3e/b...      -1   \n",
       "193  -1.0    GET  https://api.bh.rdm.yzwlab.com/v2/nodes/esfzq/b...      -1   \n",
       "194  -1.0    GET  https://api.bh.rdm.yzwlab.com/v2/nodes/edqpf/b...      -1   \n",
       "195  -1.0    GET  https://api.bh.rdm.yzwlab.com/v2/nodes/dfjpm/b...      -1   \n",
       "196  -1.0    GET  https://api.bh.rdm.yzwlab.com/v2/nodes/8zqj2/b...      -1   \n",
       "197  -1.0    GET  https://api.bh.rdm.yzwlab.com/v2/nodes/7t5ab/b...      -1   \n",
       "198  -1.0    GET  https://api.bh.rdm.yzwlab.com/v2/nodes/7nm68/b...      -1   \n",
       "199  -1.0    GET  https://api.bh.rdm.yzwlab.com/v2/nodes/5msr7/b...      -1   \n",
       "\n",
       "                   test  \n",
       "112  取りまとめ-Metadataアドオン  \n",
       "128  取りまとめ-Metadataアドオン  \n",
       "190  取りまとめ-Metadataアドオン  \n",
       "191  取りまとめ-Metadataアドオン  \n",
       "192  取りまとめ-Metadataアドオン  \n",
       "193  取りまとめ-Metadataアドオン  \n",
       "194  取りまとめ-Metadataアドオン  \n",
       "195  取りまとめ-Metadataアドオン  \n",
       "196  取りまとめ-Metadataアドオン  \n",
       "197  取りまとめ-Metadataアドオン  \n",
       "198  取りまとめ-Metadataアドオン  \n",
       "199  取りまとめ-Metadataアドオン  "
      ]
     },
     "execution_count": 59,
     "metadata": {},
     "output_type": "execute_result"
    }
   ],
   "source": [
    "har_df[~har_df['status'].isin([200, 201, 404, 301, 302, 304, 308, 410])].sort_values('time')"
   ]
  },
  {
   "cell_type": "code",
   "execution_count": 60,
   "id": "0e736318-a962-4376-9af3-ecab9e5aa743",
   "metadata": {
    "deletable": false,
    "editable": false,
    "lc_cell_meme": {
     "current": "f13c528e-0c7a-11f0-b991-feb16f56f93e-15-9922-08fd-7615-a21f-57ba-b319-1299-61fc-96ef-0e33",
     "history": [
      {
       "current": "f13c528e-0c7a-11f0-b991-feb16f56f93e-1-0932",
       "next": "48894834-ecec-11ef-a157-0242ac120006-8-c862-ff0e-6f07-b3d8-66e5-8d25-38bf-88a8",
       "previous": "d34d8234-0c7a-11f0-b991-feb16f56f93e"
      },
      {
       "current": "f13c528e-0c7a-11f0-b991-feb16f56f93e-3-0932-73b5-9ddf",
       "next": "48894834-ecec-11ef-a157-0242ac120006-9-c862-ff0e-6f07-b3d8-66e5-8d25-38bf-88a8-8886",
       "previous": "d34d8234-0c7a-11f0-b991-feb16f56f93e-1-3405"
      },
      {
       "current": "f13c528e-0c7a-11f0-b991-feb16f56f93e-4-0932-73b5-9ddf-6048",
       "next": "48894834-ecec-11ef-a157-0242ac120006-11-ff0e-6f07-b3d8-66e5-8d25-38bf-88a8-8886-c29a-8e7d",
       "previous": "d34d8234-0c7a-11f0-b991-feb16f56f93e-3-3405-ff79-1fa8"
      },
      {
       "current": "f13c528e-0c7a-11f0-b991-feb16f56f93e-5-0932-73b5-9ddf-6048-78a3",
       "next": "48894834-ecec-11ef-a157-0242ac120006-12-6f07-b3d8-66e5-8d25-38bf-88a8-8886-c29a-8e7d-e372",
       "previous": "d34d8234-0c7a-11f0-b991-feb16f56f93e-4-3405-ff79-1fa8-0950"
      },
      {
       "current": "f13c528e-0c7a-11f0-b991-feb16f56f93e-6-0932-73b5-9ddf-6048-78a3-9922",
       "next": "48894834-ecec-11ef-a157-0242ac120006-13-b3d8-66e5-8d25-38bf-88a8-8886-c29a-8e7d-e372-b930",
       "previous": "d34d8234-0c7a-11f0-b991-feb16f56f93e-5-3405-ff79-1fa8-0950-6aac"
      },
      {
       "current": "f13c528e-0c7a-11f0-b991-feb16f56f93e-8-0932-73b5-9ddf-6048-78a3-9922-08fd-7615",
       "next": "48894834-ecec-11ef-a157-0242ac120006-14-66e5-8d25-38bf-88a8-8886-c29a-8e7d-e372-b930-c0a4",
       "previous": "d34d8234-0c7a-11f0-b991-feb16f56f93e-6-3405-ff79-1fa8-0950-6aac-bdeb"
      },
      {
       "current": "f13c528e-0c7a-11f0-b991-feb16f56f93e-10-0932-73b5-9ddf-6048-78a3-9922-08fd-7615-a21f-57ba",
       "next": "48894834-ecec-11ef-a157-0242ac120006-16-38bf-88a8-8886-c29a-8e7d-e372-b930-c0a4-5fda-91a3",
       "previous": "d34d8234-0c7a-11f0-b991-feb16f56f93e-8-3405-ff79-1fa8-0950-6aac-bdeb-ba0d-61a9"
      },
      {
       "current": "f13c528e-0c7a-11f0-b991-feb16f56f93e-11-73b5-9ddf-6048-78a3-9922-08fd-7615-a21f-57ba-b319",
       "next": "48894834-ecec-11ef-a157-0242ac120006-18-8886-c29a-8e7d-e372-b930-c0a4-5fda-91a3-ab44-de15",
       "previous": "d34d8234-0c7a-11f0-b991-feb16f56f93e-10-3405-ff79-1fa8-0950-6aac-bdeb-ba0d-61a9-8705-fe70"
      },
      {
       "current": "f13c528e-0c7a-11f0-b991-feb16f56f93e-11-73b5-9ddf-6048-78a3-9922-08fd-7615-a21f-57ba-b319",
       "next": "48894834-ecec-11ef-a157-0242ac120006-19-c29a-8e7d-e372-b930-c0a4-5fda-91a3-ab44-de15-1fe3",
       "previous": "d34d8234-0c7a-11f0-b991-feb16f56f93e-11-ff79-1fa8-0950-6aac-bdeb-ba0d-61a9-8705-fe70-3740"
      },
      {
       "current": "f13c528e-0c7a-11f0-b991-feb16f56f93e-12-9ddf-6048-78a3-9922-08fd-7615-a21f-57ba-b319-1299",
       "next": "48894834-ecec-11ef-a157-0242ac120006-19-c29a-8e7d-e372-b930-c0a4-5fda-91a3-ab44-de15-1fe3",
       "previous": "01470e52-1ccb-11f0-bede-d2c904970d7c"
      }
     ],
     "next": "48894834-ecec-11ef-a157-0242ac120006-20-8e7d-e372-b930-c0a4-5fda-91a3-ab44-de15-1fe3-5b73",
     "previous": "01470e52-1ccb-11f0-bede-d2c904970d7c-1-058f"
    },
    "pinnedOutputTabIndex": 0,
    "run_through_control": {
     "frozen": true,
     "read_only": false
    }
   },
   "outputs": [],
   "source": [
    "har_df.sort_values('time').to_csv(os.path.join(result_dir, 'response.csv'))"
   ]
  },
  {
   "cell_type": "code",
   "execution_count": 61,
   "id": "e9662f8e-5257-489b-9738-e766b9ff2592",
   "metadata": {
    "deletable": false,
    "editable": false,
    "lc_cell_meme": {
     "current": "48894834-ecec-11ef-a157-0242ac120006-23-c0a4-5fda-91a3-ab44-de15-1fe3-5b73-f374-c94c-f384",
     "history": [
      {
       "current": "48894834-ecec-11ef-a157-0242ac120006",
       "next": "21a5d312-eced-11ef-a157-0242ac120006",
       "previous": "8fb6040a-ecdc-11ef-b381-0242ac120006-1-297f"
      },
      {
       "current": "48894834-ecec-11ef-a157-0242ac120006",
       "next": "21a5d312-eced-11ef-a157-0242ac120006",
       "previous": "86b4324e-eced-11ef-a157-0242ac120006"
      },
      {
       "current": "48894834-ecec-11ef-a157-0242ac120006-1-c862",
       "next": "21a5d312-eced-11ef-a157-0242ac120006",
       "previous": "8fb6040a-ecdc-11ef-b381-0242ac120006-1-297f"
      },
      {
       "current": "48894834-ecec-11ef-a157-0242ac120006-3-c862-ff0e-6f07",
       "next": "21a5d312-eced-11ef-a157-0242ac120006-1-11cf",
       "previous": "8fb6040a-ecdc-11ef-b381-0242ac120006-2-297f-5610"
      },
      {
       "current": "48894834-ecec-11ef-a157-0242ac120006-5-c862-ff0e-6f07-b3d8-66e5",
       "next": "21a5d312-eced-11ef-a157-0242ac120006-3-11cf-d96b-a73b",
       "previous": "8fb6040a-ecdc-11ef-b381-0242ac120006-4-297f-5610-466a-7c72"
      },
      {
       "current": "48894834-ecec-11ef-a157-0242ac120006-7-c862-ff0e-6f07-b3d8-66e5-8d25-38bf",
       "next": "21a5d312-eced-11ef-a157-0242ac120006-5-11cf-d96b-a73b-9579-1c99",
       "previous": "8fb6040a-ecdc-11ef-b381-0242ac120006-6-297f-5610-466a-7c72-a3c5-a9b3"
      },
      {
       "current": "48894834-ecec-11ef-a157-0242ac120006-7-c862-ff0e-6f07-b3d8-66e5-8d25-38bf",
       "next": "21a5d312-eced-11ef-a157-0242ac120006-5-11cf-d96b-a73b-9579-1c99",
       "previous": "8fb6040a-ecdc-11ef-b381-0242ac120006-6-297f-5610-466a-7c72-a3c5-a9b3"
      },
      {
       "current": "48894834-ecec-11ef-a157-0242ac120006-8-c862-ff0e-6f07-b3d8-66e5-8d25-38bf-88a8",
       "next": "21a5d312-eced-11ef-a157-0242ac120006-7-11cf-d96b-a73b-9579-1c99-37e2-3993",
       "previous": "8fb6040a-ecdc-11ef-b381-0242ac120006-8-297f-5610-466a-7c72-a3c5-a9b3-547b-043a"
      },
      {
       "current": "48894834-ecec-11ef-a157-0242ac120006-8-c862-ff0e-6f07-b3d8-66e5-8d25-38bf-88a8",
       "next": "21a5d312-eced-11ef-a157-0242ac120006-8-11cf-d96b-a73b-9579-1c99-37e2-3993-85c6",
       "previous": "8fb6040a-ecdc-11ef-b381-0242ac120006-9-297f-5610-466a-7c72-a3c5-a9b3-547b-043a-8258"
      },
      {
       "current": "48894834-ecec-11ef-a157-0242ac120006-8-c862-ff0e-6f07-b3d8-66e5-8d25-38bf-88a8",
       "next": "21a5d312-eced-11ef-a157-0242ac120006-8-11cf-d96b-a73b-9579-1c99-37e2-3993-85c6",
       "previous": "bed400ee-0c7a-11f0-b991-feb16f56f93e"
      },
      {
       "current": "48894834-ecec-11ef-a157-0242ac120006-8-c862-ff0e-6f07-b3d8-66e5-8d25-38bf-88a8",
       "next": "21a5d312-eced-11ef-a157-0242ac120006-8-11cf-d96b-a73b-9579-1c99-37e2-3993-85c6",
       "previous": "d34d8234-0c7a-11f0-b991-feb16f56f93e"
      },
      {
       "current": "48894834-ecec-11ef-a157-0242ac120006-9-c862-ff0e-6f07-b3d8-66e5-8d25-38bf-88a8-8886",
       "next": "21a5d312-eced-11ef-a157-0242ac120006-8-11cf-d96b-a73b-9579-1c99-37e2-3993-85c6",
       "previous": "f13c528e-0c7a-11f0-b991-feb16f56f93e"
      },
      {
       "current": "48894834-ecec-11ef-a157-0242ac120006-11-ff0e-6f07-b3d8-66e5-8d25-38bf-88a8-8886-c29a-8e7d",
       "next": "21a5d312-eced-11ef-a157-0242ac120006-9-11cf-d96b-a73b-9579-1c99-37e2-3993-85c6-b796",
       "previous": "f13c528e-0c7a-11f0-b991-feb16f56f93e-1-0932"
      },
      {
       "current": "48894834-ecec-11ef-a157-0242ac120006-12-6f07-b3d8-66e5-8d25-38bf-88a8-8886-c29a-8e7d-e372",
       "next": "21a5d312-eced-11ef-a157-0242ac120006-11-d96b-a73b-9579-1c99-37e2-3993-85c6-b796-fd14-626e",
       "previous": "f13c528e-0c7a-11f0-b991-feb16f56f93e-3-0932-73b5-9ddf"
      },
      {
       "current": "48894834-ecec-11ef-a157-0242ac120006-13-b3d8-66e5-8d25-38bf-88a8-8886-c29a-8e7d-e372-b930",
       "next": "21a5d312-eced-11ef-a157-0242ac120006-12-a73b-9579-1c99-37e2-3993-85c6-b796-fd14-626e-f62e",
       "previous": "f13c528e-0c7a-11f0-b991-feb16f56f93e-4-0932-73b5-9ddf-6048"
      },
      {
       "current": "48894834-ecec-11ef-a157-0242ac120006-14-66e5-8d25-38bf-88a8-8886-c29a-8e7d-e372-b930-c0a4",
       "next": "21a5d312-eced-11ef-a157-0242ac120006-13-9579-1c99-37e2-3993-85c6-b796-fd14-626e-f62e-1498",
       "previous": "f13c528e-0c7a-11f0-b991-feb16f56f93e-5-0932-73b5-9ddf-6048-78a3"
      },
      {
       "current": "48894834-ecec-11ef-a157-0242ac120006-16-38bf-88a8-8886-c29a-8e7d-e372-b930-c0a4-5fda-91a3",
       "next": "21a5d312-eced-11ef-a157-0242ac120006-14-1c99-37e2-3993-85c6-b796-fd14-626e-f62e-1498-7556",
       "previous": "f13c528e-0c7a-11f0-b991-feb16f56f93e-6-0932-73b5-9ddf-6048-78a3-9922"
      },
      {
       "current": "48894834-ecec-11ef-a157-0242ac120006-18-8886-c29a-8e7d-e372-b930-c0a4-5fda-91a3-ab44-de15",
       "next": "21a5d312-eced-11ef-a157-0242ac120006-16-3993-85c6-b796-fd14-626e-f62e-1498-7556-ca34-8941",
       "previous": "f13c528e-0c7a-11f0-b991-feb16f56f93e-8-0932-73b5-9ddf-6048-78a3-9922-08fd-7615"
      },
      {
       "current": "48894834-ecec-11ef-a157-0242ac120006-19-c29a-8e7d-e372-b930-c0a4-5fda-91a3-ab44-de15-1fe3",
       "next": "21a5d312-eced-11ef-a157-0242ac120006-18-b796-fd14-626e-f62e-1498-7556-ca34-8941-fe16-31ef",
       "previous": "f13c528e-0c7a-11f0-b991-feb16f56f93e-10-0932-73b5-9ddf-6048-78a3-9922-08fd-7615-a21f-57ba"
      },
      {
       "current": "48894834-ecec-11ef-a157-0242ac120006-20-8e7d-e372-b930-c0a4-5fda-91a3-ab44-de15-1fe3-5b73",
       "next": "21a5d312-eced-11ef-a157-0242ac120006-19-fd14-626e-f62e-1498-7556-ca34-8941-fe16-31ef-d9b2",
       "previous": "f13c528e-0c7a-11f0-b991-feb16f56f93e-11-73b5-9ddf-6048-78a3-9922-08fd-7615-a21f-57ba-b319"
      },
      {
       "current": "48894834-ecec-11ef-a157-0242ac120006-20-8e7d-e372-b930-c0a4-5fda-91a3-ab44-de15-1fe3-5b73",
       "next": "532993d2-274f-11f0-84de-32f9ed5d00a6",
       "previous": "f13c528e-0c7a-11f0-b991-feb16f56f93e-12-9ddf-6048-78a3-9922-08fd-7615-a21f-57ba-b319-1299"
      }
     ],
     "next": "21a5d312-eced-11ef-a157-0242ac120006-20-626e-f62e-1498-7556-ca34-8941-fe16-31ef-d9b2-5d7a",
     "previous": "f13c528e-0c7a-11f0-b991-feb16f56f93e-12-9ddf-6048-78a3-9922-08fd-7615-a21f-57ba-b319-1299"
    },
    "pinnedOutputTabIndex": 0,
    "run_through_control": {
     "frozen": true,
     "read_only": false
    }
   },
   "outputs": [],
   "source": [
    "!rm -fr {work_dir}"
   ]
  },
  {
   "cell_type": "code",
   "execution_count": null,
   "id": "9cc0c913-d99f-48ea-8faf-64ddef1ec796",
   "metadata": {
    "deletable": true,
    "editable": true,
    "lc_cell_meme": {
     "current": "21a5d312-eced-11ef-a157-0242ac120006-23-7556-ca34-8941-fe16-31ef-d9b2-5d7a-a47e-2109-72a3",
     "previous": "48894834-ecec-11ef-a157-0242ac120006-20-8e7d-e372-b930-c0a4-5fda-91a3-ab44-de15-1fe3-5b73"
    },
    "pinnedOutputTabIndex": 0,
    "run_through_control": {
     "frozen": false,
     "read_only": false
    }
   },
   "outputs": [],
   "source": []
  }
 ],
 "metadata": {
  "kernelspec": {
   "display_name": "Python 3",
   "language": "python",
   "name": "python3"
  },
  "language_info": {
   "file_extension": ".py",
   "mimetype": "text/x-python",
   "name": "python",
   "nbconvert_exporter": "python",
   "pygments_lexer": "ipython3",
   "version": "3.12.9"
  },
  "lc_notebook_meme": {
   "current": "be13da8e-ecd7-11ef-b381-0242ac120006",
   "lc_server_signature": {
    "current": {
     "notebook_dir": "/home/jovyan",
     "notebook_path": "/結合試験-実行.ipynb",
     "signature_id": "8bce1690-342e-11f0-95ec-1e9afc677375"
    }
   }
  }
 },
 "nbformat": 4,
 "nbformat_minor": 5
}
