{
 "cells": [
  {
   "cell_type": "code",
   "execution_count": null,
   "id": "c11c1bc4-80b2-4ddd-aabc-5ce74e190463",
   "metadata": {
    "deletable": true,
    "editable": true,
    "lc_cell_meme": {
     "current": "f05363a8-0c25-11f0-98e9-5e0a5654d7bd-15-fa46-c0e7-3185-bcb1-eb64-ff1f-e88c-0910-7923-180d",
     "history": [
      {
       "current": "f05363a8-0c25-11f0-98e9-5e0a5654d7bd-1-a21c",
       "next": "8b5ce6a0-80d5-11ed-95e1-0242ac120004-8-490a-05fb-01ac-29c3-d4dc-cf29-6b30-a674",
       "previous": "8b5ce66e-80d5-11ed-95e1-0242ac120004-8-cb1b-42bc-e44d-4556-863e-9370-b5f5-e658"
      },
      {
       "current": "f05363a8-0c25-11f0-98e9-5e0a5654d7bd-1-a21c",
       "next": "8b5ce6a0-80d5-11ed-95e1-0242ac120004-8-490a-05fb-01ac-29c3-d4dc-cf29-6b30-a674",
       "previous": "8b5ce66e-80d5-11ed-95e1-0242ac120004-8-cb1b-42bc-e44d-4556-863e-9370-b5f5-e658"
      }
     ],
     "next": "9a6a67cc-0c28-11f0-98e9-5e0a5654d7bd-12-9043-4ba3-5193-3fce-7040-afde-7319-156a-b08a-efc8",
     "previous": "05cdacf8-3a56-11f0-8d62-b672e09b3688"
    },
    "pinnedOutputTabIndex": 0,
    "run_through_control": {
     "frozen": false,
     "read_only": false
    },
    "slideshow": {
     "slide_type": ""
    },
    "tags": [
     "parameters"
    ]
   },
   "outputs": [],
   "source": "from datetime import datetime\nfrom getpass import getpass\n\nrdm_url = 'https://staging.rdm.example.com/'\nidp_name_1 = 'GakuNin RDM IdP'\nidp_username_1 = None\nidp_password_1 = None\nrdm_project_prefix = 'TEST-NIISTORAGE-{}'.format(datetime.now().strftime('%Y%m%d-%H%M%S'))\ntoo_large_file_upload_size = 60 # GB\nenable_1gb_file_upload = True\ndefault_result_path = None\nclose_on_fail = False\ntransition_timeout = 10000\nskip_failed_test = True\nskip_preview_check = False\nexclude_notebooks = []"
  },
  {
   "cell_type": "code",
   "execution_count": null,
   "id": "98f29bed-b81f-4ebf-b015-4cd4853bb0be",
   "metadata": {
    "deletable": true,
    "lc_cell_meme": {
     "current": "9a6a67cc-0c28-11f0-98e9-5e0a5654d7bd-13-4ba3-5193-3fce-7040-afde-7319-156a-b08a-efc8-3530",
     "execution_end_time": "2025-04-02T06:25:57.346Z",
     "history": [
      {
       "current": "9a6a67cc-0c28-11f0-98e9-5e0a5654d7bd",
       "next": "4f1d97fa-0c26-11f0-98e9-5e0a5654d7bd-1-4202",
       "previous": "f05363a8-0c25-11f0-98e9-5e0a5654d7bd-2-a21c-c06b"
      },
      {
       "current": "9a6a67cc-0c28-11f0-98e9-5e0a5654d7bd",
       "next": "4f1d97fa-0c26-11f0-98e9-5e0a5654d7bd-1-4202",
       "previous": "a0674b68-0c3c-11f0-98e9-5e0a5654d7bd"
      },
      {
       "current": "9a6a67cc-0c28-11f0-98e9-5e0a5654d7bd",
       "next": "4f1d97fa-0c26-11f0-98e9-5e0a5654d7bd-1-4202",
       "previous": "f05363a8-0c25-11f0-98e9-5e0a5654d7bd-2-a21c-c06b"
      },
      {
       "current": "9a6a67cc-0c28-11f0-98e9-5e0a5654d7bd",
       "next": "4f1d97fa-0c26-11f0-98e9-5e0a5654d7bd-1-4202",
       "previous": "d95d6308-0c3c-11f0-98e9-5e0a5654d7bd"
      },
      {
       "current": "9a6a67cc-0c28-11f0-98e9-5e0a5654d7bd",
       "next": "4f1d97fa-0c26-11f0-98e9-5e0a5654d7bd-1-4202",
       "previous": "f05363a8-0c25-11f0-98e9-5e0a5654d7bd-2-a21c-c06b"
      },
      {
       "current": "9a6a67cc-0c28-11f0-98e9-5e0a5654d7bd",
       "next": "4f1d97fa-0c26-11f0-98e9-5e0a5654d7bd-1-4202",
       "previous": "a8832c1c-0c3d-11f0-98e9-5e0a5654d7bd"
      },
      {
       "current": "9a6a67cc-0c28-11f0-98e9-5e0a5654d7bd",
       "next": "4f1d97fa-0c26-11f0-98e9-5e0a5654d7bd-1-4202",
       "previous": "f05363a8-0c25-11f0-98e9-5e0a5654d7bd-2-a21c-c06b"
      },
      {
       "current": "9a6a67cc-0c28-11f0-98e9-5e0a5654d7bd",
       "next": "4f1d97fa-0c26-11f0-98e9-5e0a5654d7bd-1-4202",
       "previous": "e7480d50-0c3d-11f0-98e9-5e0a5654d7bd"
      },
      {
       "current": "9a6a67cc-0c28-11f0-98e9-5e0a5654d7bd-1-3215",
       "next": "4f1d97fa-0c26-11f0-98e9-5e0a5654d7bd-1-4202",
       "previous": "f05363a8-0c25-11f0-98e9-5e0a5654d7bd-2-a21c-c06b"
      },
      {
       "current": "9a6a67cc-0c28-11f0-98e9-5e0a5654d7bd-1-3215",
       "next": "4f1d97fa-0c26-11f0-98e9-5e0a5654d7bd-1-4202",
       "previous": "f05363a8-0c25-11f0-98e9-5e0a5654d7bd-2-a21c-c06b"
      },
      {
       "current": "9a6a67cc-0c28-11f0-98e9-5e0a5654d7bd-1-3215",
       "next": "4f1d97fa-0c26-11f0-98e9-5e0a5654d7bd-1-4202",
       "previous": "f05363a8-0c25-11f0-98e9-5e0a5654d7bd-2-a21c-c06b"
      },
      {
       "current": "9a6a67cc-0c28-11f0-98e9-5e0a5654d7bd-1-3215",
       "next": "4f1d97fa-0c26-11f0-98e9-5e0a5654d7bd-2-4202-aef0",
       "previous": "f05363a8-0c25-11f0-98e9-5e0a5654d7bd-3-a21c-c06b-54e5"
      },
      {
       "current": "9a6a67cc-0c28-11f0-98e9-5e0a5654d7bd-1-3215",
       "next": "4f1d97fa-0c26-11f0-98e9-5e0a5654d7bd-2-4202-aef0",
       "previous": "f93f2d46-0c46-11f0-98e9-5e0a5654d7bd"
      },
      {
       "current": "9a6a67cc-0c28-11f0-98e9-5e0a5654d7bd-1-3215",
       "next": "4f1d97fa-0c26-11f0-98e9-5e0a5654d7bd-2-4202-aef0",
       "previous": "f05363a8-0c25-11f0-98e9-5e0a5654d7bd-3-a21c-c06b-54e5"
      },
      {
       "current": "9a6a67cc-0c28-11f0-98e9-5e0a5654d7bd-1-3215",
       "next": "4f1d97fa-0c26-11f0-98e9-5e0a5654d7bd-2-4202-aef0",
       "previous": "3295fed4-0c48-11f0-98e9-5e0a5654d7bd"
      },
      {
       "current": "9a6a67cc-0c28-11f0-98e9-5e0a5654d7bd-1-3215",
       "next": "4f1d97fa-0c26-11f0-98e9-5e0a5654d7bd-2-4202-aef0",
       "previous": "f05363a8-0c25-11f0-98e9-5e0a5654d7bd-3-a21c-c06b-54e5"
      },
      {
       "current": "9a6a67cc-0c28-11f0-98e9-5e0a5654d7bd-1-3215",
       "next": "4f1d97fa-0c26-11f0-98e9-5e0a5654d7bd-2-4202-aef0",
       "previous": "6a84eba0-0c4a-11f0-98e9-5e0a5654d7bd"
      },
      {
       "current": "9a6a67cc-0c28-11f0-98e9-5e0a5654d7bd-1-3215",
       "next": "4f1d97fa-0c26-11f0-98e9-5e0a5654d7bd-2-4202-aef0",
       "previous": "f05363a8-0c25-11f0-98e9-5e0a5654d7bd-3-a21c-c06b-54e5"
      },
      {
       "current": "9a6a67cc-0c28-11f0-98e9-5e0a5654d7bd-1-3215",
       "next": "4f1d97fa-0c26-11f0-98e9-5e0a5654d7bd-2-4202-aef0",
       "previous": "6d481ba6-0c53-11f0-98e9-5e0a5654d7bd"
      },
      {
       "current": "9a6a67cc-0c28-11f0-98e9-5e0a5654d7bd-1-3215",
       "next": "4f1d97fa-0c26-11f0-98e9-5e0a5654d7bd-2-4202-aef0",
       "previous": "f05363a8-0c25-11f0-98e9-5e0a5654d7bd-3-a21c-c06b-54e5"
      },
      {
       "current": "9a6a67cc-0c28-11f0-98e9-5e0a5654d7bd-1-3215",
       "next": "4f1d97fa-0c26-11f0-98e9-5e0a5654d7bd-2-4202-aef0",
       "previous": "221c4f0a-0c56-11f0-98e9-5e0a5654d7bd"
      },
      {
       "current": "9a6a67cc-0c28-11f0-98e9-5e0a5654d7bd-1-3215",
       "next": "4f1d97fa-0c26-11f0-98e9-5e0a5654d7bd-2-4202-aef0",
       "previous": "f05363a8-0c25-11f0-98e9-5e0a5654d7bd-3-a21c-c06b-54e5"
      },
      {
       "current": "9a6a67cc-0c28-11f0-98e9-5e0a5654d7bd-1-3215",
       "next": "4f1d97fa-0c26-11f0-98e9-5e0a5654d7bd-2-4202-aef0",
       "previous": "19d7ea5a-0c5d-11f0-98e9-5e0a5654d7bd"
      },
      {
       "current": "9a6a67cc-0c28-11f0-98e9-5e0a5654d7bd-1-3215",
       "next": "4f1d97fa-0c26-11f0-98e9-5e0a5654d7bd-2-4202-aef0",
       "previous": "f05363a8-0c25-11f0-98e9-5e0a5654d7bd-3-a21c-c06b-54e5"
      },
      {
       "current": "9a6a67cc-0c28-11f0-98e9-5e0a5654d7bd-1-3215",
       "next": "4f1d97fa-0c26-11f0-98e9-5e0a5654d7bd-2-4202-aef0",
       "previous": "377594ca-0c6e-11f0-98e9-5e0a5654d7bd"
      },
      {
       "current": "9a6a67cc-0c28-11f0-98e9-5e0a5654d7bd-3-3215-63a8-9043",
       "next": "4f1d97fa-0c26-11f0-98e9-5e0a5654d7bd-2-4202-aef0",
       "previous": "f05363a8-0c25-11f0-98e9-5e0a5654d7bd-3-a21c-c06b-54e5"
      },
      {
       "current": "9a6a67cc-0c28-11f0-98e9-5e0a5654d7bd-4-3215-63a8-9043-4ba3",
       "next": "4f1d97fa-0c26-11f0-98e9-5e0a5654d7bd-4-4202-aef0-78b6-5218",
       "previous": "f05363a8-0c25-11f0-98e9-5e0a5654d7bd-5-a21c-c06b-54e5-e070-ec83"
      },
      {
       "current": "9a6a67cc-0c28-11f0-98e9-5e0a5654d7bd-7-3215-63a8-9043-4ba3-5193-3fce-7040",
       "next": "4f1d97fa-0c26-11f0-98e9-5e0a5654d7bd-5-4202-aef0-78b6-5218-939f",
       "previous": "f05363a8-0c25-11f0-98e9-5e0a5654d7bd-6-a21c-c06b-54e5-e070-ec83-fa46"
      },
      {
       "current": "9a6a67cc-0c28-11f0-98e9-5e0a5654d7bd-8-3215-63a8-9043-4ba3-5193-3fce-7040-afde",
       "next": "4f1d97fa-0c26-11f0-98e9-5e0a5654d7bd-8-4202-aef0-78b6-5218-939f-7c1f-36a3-561d",
       "previous": "f05363a8-0c25-11f0-98e9-5e0a5654d7bd-9-a21c-c06b-54e5-e070-ec83-fa46-c0e7-3185-bcb1"
      },
      {
       "current": "9a6a67cc-0c28-11f0-98e9-5e0a5654d7bd-12-9043-4ba3-5193-3fce-7040-afde-7319-156a-b08a-efc8",
       "next": "4f1d97fa-0c26-11f0-98e9-5e0a5654d7bd-9-4202-aef0-78b6-5218-939f-7c1f-36a3-561d-61b6",
       "previous": "f05363a8-0c25-11f0-98e9-5e0a5654d7bd-10-a21c-c06b-54e5-e070-ec83-fa46-c0e7-3185-bcb1-eb64"
      }
     ],
     "next": "4f1d97fa-0c26-11f0-98e9-5e0a5654d7bd-13-5218-939f-7c1f-36a3-561d-61b6-8267-4a88-1c97-cfab",
     "previous": "f05363a8-0c25-11f0-98e9-5e0a5654d7bd-14-ec83-fa46-c0e7-3185-bcb1-eb64-ff1f-e88c-0910-7923"
    },
    "pinnedOutputTabIndex": 0,
    "run_through_control": {
     "frozen": false,
     "read_only": false
    },
    "slideshow": {
     "slide_type": ""
    },
    "tags": []
   },
   "outputs": [],
   "source": [
    "if idp_username_1 is None:\n",
    "    idp_username_1 = input(prompt=f'Username for {idp_name_1}')\n",
    "if idp_password_1 is None:\n",
    "    idp_password_1 = getpass(prompt=f'Password for {idp_username_1}@{idp_name_1}')\n",
    "(len(idp_username_1), len(idp_password_1))"
   ]
  },
  {
   "cell_type": "code",
   "execution_count": null,
   "id": "97683f65-7f21-419d-8c40-28cca14c5f08",
   "metadata": {
    "deletable": true,
    "lc_cell_meme": {
     "current": "4f1d97fa-0c26-11f0-98e9-5e0a5654d7bd-14-939f-7c1f-36a3-561d-61b6-8267-4a88-1c97-cfab-d694",
     "execution_end_time": "2025-04-02T06:25:59.737Z",
     "history": [
      {
       "current": "4f1d97fa-0c26-11f0-98e9-5e0a5654d7bd-1-4202",
       "next": "8b5ce66e-80d5-11ed-95e1-0242ac120004-8-cb1b-42bc-e44d-4556-863e-9370-b5f5-e658",
       "previous": "f05363a8-0c25-11f0-98e9-5e0a5654d7bd-1-a21c"
      },
      {
       "current": "4f1d97fa-0c26-11f0-98e9-5e0a5654d7bd-1-4202",
       "next": "8b5ce66e-80d5-11ed-95e1-0242ac120004-9-cb1b-42bc-e44d-4556-863e-9370-b5f5-e658-7a0b",
       "previous": "f05363a8-0c25-11f0-98e9-5e0a5654d7bd-2-a21c-c06b"
      },
      {
       "current": "4f1d97fa-0c26-11f0-98e9-5e0a5654d7bd-2-4202-aef0",
       "next": "8b5ce66e-80d5-11ed-95e1-0242ac120004-9-cb1b-42bc-e44d-4556-863e-9370-b5f5-e658-7a0b",
       "previous": "9a6a67cc-0c28-11f0-98e9-5e0a5654d7bd"
      },
      {
       "current": "4f1d97fa-0c26-11f0-98e9-5e0a5654d7bd-2-4202-aef0",
       "next": "8b5ce66e-80d5-11ed-95e1-0242ac120004-9-cb1b-42bc-e44d-4556-863e-9370-b5f5-e658-7a0b",
       "previous": "9a6a67cc-0c28-11f0-98e9-5e0a5654d7bd"
      },
      {
       "current": "4f1d97fa-0c26-11f0-98e9-5e0a5654d7bd-2-4202-aef0",
       "next": "8b5ce66e-80d5-11ed-95e1-0242ac120004-9-cb1b-42bc-e44d-4556-863e-9370-b5f5-e658-7a0b",
       "previous": "9a6a67cc-0c28-11f0-98e9-5e0a5654d7bd"
      },
      {
       "current": "4f1d97fa-0c26-11f0-98e9-5e0a5654d7bd-2-4202-aef0",
       "next": "8b5ce66e-80d5-11ed-95e1-0242ac120004-10-cb1b-42bc-e44d-4556-863e-9370-b5f5-e658-7a0b-7f11",
       "previous": "9a6a67cc-0c28-11f0-98e9-5e0a5654d7bd-1-3215"
      },
      {
       "current": "4f1d97fa-0c26-11f0-98e9-5e0a5654d7bd-2-4202-aef0",
       "next": "a72e1754-0c48-11f0-98e9-5e0a5654d7bd",
       "previous": "9a6a67cc-0c28-11f0-98e9-5e0a5654d7bd-1-3215"
      },
      {
       "current": "4f1d97fa-0c26-11f0-98e9-5e0a5654d7bd-2-4202-aef0",
       "next": "c31532b8-0c48-11f0-98e9-5e0a5654d7bd",
       "previous": "9a6a67cc-0c28-11f0-98e9-5e0a5654d7bd-1-3215"
      },
      {
       "current": "4f1d97fa-0c26-11f0-98e9-5e0a5654d7bd-4-4202-aef0-78b6-5218",
       "next": "a72e1754-0c48-11f0-98e9-5e0a5654d7bd",
       "previous": "9a6a67cc-0c28-11f0-98e9-5e0a5654d7bd-1-3215"
      },
      {
       "current": "4f1d97fa-0c26-11f0-98e9-5e0a5654d7bd-4-4202-aef0-78b6-5218",
       "next": "a72e1754-0c48-11f0-98e9-5e0a5654d7bd-2-ce6c-01ad",
       "previous": "9a6a67cc-0c28-11f0-98e9-5e0a5654d7bd-3-3215-63a8-9043"
      },
      {
       "current": "4f1d97fa-0c26-11f0-98e9-5e0a5654d7bd-5-4202-aef0-78b6-5218-939f",
       "next": "8b5ce66e-80d5-11ed-95e1-0242ac120004-12-e44d-4556-863e-9370-b5f5-e658-7a0b-7f11-50c2-120c",
       "previous": "9a6a67cc-0c28-11f0-98e9-5e0a5654d7bd-3-3215-63a8-9043"
      },
      {
       "current": "4f1d97fa-0c26-11f0-98e9-5e0a5654d7bd-8-4202-aef0-78b6-5218-939f-7c1f-36a3-561d",
       "next": "8b5ce66e-80d5-11ed-95e1-0242ac120004-13-4556-863e-9370-b5f5-e658-7a0b-7f11-50c2-120c-62e9",
       "previous": "9a6a67cc-0c28-11f0-98e9-5e0a5654d7bd-4-3215-63a8-9043-4ba3"
      },
      {
       "current": "4f1d97fa-0c26-11f0-98e9-5e0a5654d7bd-9-4202-aef0-78b6-5218-939f-7c1f-36a3-561d-61b6",
       "next": "8b5ce66e-80d5-11ed-95e1-0242ac120004-16-b5f5-e658-7a0b-7f11-50c2-120c-62e9-f0ed-0032-2c57",
       "previous": "9a6a67cc-0c28-11f0-98e9-5e0a5654d7bd-7-3215-63a8-9043-4ba3-5193-3fce-7040"
      },
      {
       "current": "4f1d97fa-0c26-11f0-98e9-5e0a5654d7bd-13-5218-939f-7c1f-36a3-561d-61b6-8267-4a88-1c97-cfab",
       "next": "8b5ce66e-80d5-11ed-95e1-0242ac120004-17-e658-7a0b-7f11-50c2-120c-62e9-f0ed-0032-2c57-2457",
       "previous": "9a6a67cc-0c28-11f0-98e9-5e0a5654d7bd-8-3215-63a8-9043-4ba3-5193-3fce-7040-afde"
      }
     ],
     "next": "8b5ce66e-80d5-11ed-95e1-0242ac120004-21-120c-62e9-f0ed-0032-2c57-2457-0051-5baf-1381-665a",
     "previous": "9a6a67cc-0c28-11f0-98e9-5e0a5654d7bd-12-9043-4ba3-5193-3fce-7040-afde-7319-156a-b08a-efc8"
    },
    "pinnedOutputTabIndex": 0,
    "run_through_control": {
     "frozen": false,
     "read_only": false
    },
    "slideshow": {
     "slide_type": ""
    },
    "tags": []
   },
   "outputs": [],
   "source": [
    "import tempfile\n",
    "\n",
    "work_dir = tempfile.mkdtemp()\n",
    "if default_result_path is None:\n",
    "    default_result_path = work_dir\n",
    "work_dir"
   ]
  },
  {
   "cell_type": "markdown",
   "id": "5ad1e5b4-e544-43b9-9afa-b6fd7ece8584",
   "metadata": {
    "deletable": true,
    "editable": true,
    "lc_cell_meme": {
     "current": "8b5ce66e-80d5-11ed-95e1-0242ac120004-22-62e9-f0ed-0032-2c57-2457-0051-5baf-1381-665a-d5e9",
     "history": [
      {
       "current": "8b5ce66e-80d5-11ed-95e1-0242ac120004-1-cb1b",
       "next": "8b5ce6a0-80d5-11ed-95e1-0242ac120004",
       "previous": null
      },
      {
       "current": "8b5ce66e-80d5-11ed-95e1-0242ac120004-2-cb1b-42bc",
       "next": "8b5ce6a0-80d5-11ed-95e1-0242ac120004-1-490a",
       "previous": null
      },
      {
       "current": "8b5ce66e-80d5-11ed-95e1-0242ac120004-3-cb1b-42bc-e44d",
       "next": "8b5ce6a0-80d5-11ed-95e1-0242ac120004-2-490a-05fb",
       "previous": null
      },
      {
       "current": "8b5ce66e-80d5-11ed-95e1-0242ac120004-4-cb1b-42bc-e44d-4556",
       "next": "8b5ce6a0-80d5-11ed-95e1-0242ac120004-3-490a-05fb-01ac",
       "previous": null
      },
      {
       "current": "8b5ce66e-80d5-11ed-95e1-0242ac120004-5-cb1b-42bc-e44d-4556-863e",
       "next": "8b5ce6a0-80d5-11ed-95e1-0242ac120004-4-490a-05fb-01ac-29c3",
       "previous": null
      },
      {
       "current": "8b5ce66e-80d5-11ed-95e1-0242ac120004-6-cb1b-42bc-e44d-4556-863e-9370",
       "next": "8b5ce6a0-80d5-11ed-95e1-0242ac120004-5-490a-05fb-01ac-29c3-d4dc",
       "previous": null
      },
      {
       "current": "8b5ce66e-80d5-11ed-95e1-0242ac120004-7-cb1b-42bc-e44d-4556-863e-9370-b5f5",
       "next": "8b5ce6a0-80d5-11ed-95e1-0242ac120004-6-490a-05fb-01ac-29c3-d4dc-cf29",
       "previous": null
      },
      {
       "current": "8b5ce66e-80d5-11ed-95e1-0242ac120004-8-cb1b-42bc-e44d-4556-863e-9370-b5f5-e658",
       "next": "8b5ce6a0-80d5-11ed-95e1-0242ac120004-7-490a-05fb-01ac-29c3-d4dc-cf29-6b30",
       "previous": null
      },
      {
       "current": "8b5ce66e-80d5-11ed-95e1-0242ac120004-8-cb1b-42bc-e44d-4556-863e-9370-b5f5-e658",
       "next": "8b5ce6a0-80d5-11ed-95e1-0242ac120004-8-490a-05fb-01ac-29c3-d4dc-cf29-6b30-a674",
       "previous": "f05363a8-0c25-11f0-98e9-5e0a5654d7bd-1-a21c"
      },
      {
       "current": "8b5ce66e-80d5-11ed-95e1-0242ac120004-8-cb1b-42bc-e44d-4556-863e-9370-b5f5-e658",
       "next": "8b5ce6a0-80d5-11ed-95e1-0242ac120004-8-490a-05fb-01ac-29c3-d4dc-cf29-6b30-a674",
       "previous": "0c7d1c72-0c26-11f0-98e9-5e0a5654d7bd"
      },
      {
       "current": "8b5ce66e-80d5-11ed-95e1-0242ac120004-8-cb1b-42bc-e44d-4556-863e-9370-b5f5-e658",
       "next": "8b5ce6a0-80d5-11ed-95e1-0242ac120004-8-490a-05fb-01ac-29c3-d4dc-cf29-6b30-a674",
       "previous": "f05363a8-0c25-11f0-98e9-5e0a5654d7bd-1-a21c"
      },
      {
       "current": "8b5ce66e-80d5-11ed-95e1-0242ac120004-8-cb1b-42bc-e44d-4556-863e-9370-b5f5-e658",
       "next": "8b5ce6e6-80d5-11ed-95e1-0242ac120004-8-cf3f-b3ef-db35-57ad-2bcf-ffc2-105c-69a6",
       "previous": "f05363a8-0c25-11f0-98e9-5e0a5654d7bd-1-a21c"
      },
      {
       "current": "8b5ce66e-80d5-11ed-95e1-0242ac120004-8-cb1b-42bc-e44d-4556-863e-9370-b5f5-e658",
       "next": "8b5ce704-80d5-11ed-95e1-0242ac120004-8-134a-19fd-8302-4b9a-fe94-8416-c02c-3d66",
       "previous": "f05363a8-0c25-11f0-98e9-5e0a5654d7bd-1-a21c"
      },
      {
       "current": "8b5ce66e-80d5-11ed-95e1-0242ac120004-8-cb1b-42bc-e44d-4556-863e-9370-b5f5-e658",
       "next": "4a2d93ba-575c-11ee-879c-cee8484f477d-7-ce15-af72-2e99-2376-ed5c-8317-0981",
       "previous": "f05363a8-0c25-11f0-98e9-5e0a5654d7bd-1-a21c"
      },
      {
       "current": "8b5ce66e-80d5-11ed-95e1-0242ac120004-8-cb1b-42bc-e44d-4556-863e-9370-b5f5-e658",
       "next": "ac9f5680-9be1-11ef-bec6-b6d4434572e8-3-0c61-b7da-7291",
       "previous": "f05363a8-0c25-11f0-98e9-5e0a5654d7bd-1-a21c"
      },
      {
       "current": "8b5ce66e-80d5-11ed-95e1-0242ac120004-8-cb1b-42bc-e44d-4556-863e-9370-b5f5-e658",
       "next": "8b5ce722-80d5-11ed-95e1-0242ac120004-8-ba9b-f235-19a9-23b6-7145-b64a-6dfb-09dd",
       "previous": "f05363a8-0c25-11f0-98e9-5e0a5654d7bd-1-a21c"
      },
      {
       "current": "8b5ce66e-80d5-11ed-95e1-0242ac120004-8-cb1b-42bc-e44d-4556-863e-9370-b5f5-e658",
       "next": "8b5ce740-80d5-11ed-95e1-0242ac120004-9-2295-9f93-ce95-2df2-6ce8-e56d-28e9-7a4e-fd92",
       "previous": "f05363a8-0c25-11f0-98e9-5e0a5654d7bd-1-a21c"
      },
      {
       "current": "8b5ce66e-80d5-11ed-95e1-0242ac120004-9-cb1b-42bc-e44d-4556-863e-9370-b5f5-e658-7a0b",
       "next": "8b5ce740-80d5-11ed-95e1-0242ac120004-9-2295-9f93-ce95-2df2-6ce8-e56d-28e9-7a4e-fd92",
       "previous": "4f1d97fa-0c26-11f0-98e9-5e0a5654d7bd"
      },
      {
       "current": "8b5ce66e-80d5-11ed-95e1-0242ac120004-10-cb1b-42bc-e44d-4556-863e-9370-b5f5-e658-7a0b-7f11",
       "next": "8b5ce740-80d5-11ed-95e1-0242ac120004-10-2295-9f93-ce95-2df2-6ce8-e56d-28e9-7a4e-fd92-f25a",
       "previous": "4f1d97fa-0c26-11f0-98e9-5e0a5654d7bd-1-4202"
      },
      {
       "current": "8b5ce66e-80d5-11ed-95e1-0242ac120004-10-cb1b-42bc-e44d-4556-863e-9370-b5f5-e658-7a0b-7f11",
       "next": "8b5ce740-80d5-11ed-95e1-0242ac120004-10-2295-9f93-ce95-2df2-6ce8-e56d-28e9-7a4e-fd92-f25a",
       "previous": "4f1d97fa-0c26-11f0-98e9-5e0a5654d7bd-1-4202"
      },
      {
       "current": "8b5ce66e-80d5-11ed-95e1-0242ac120004-10-cb1b-42bc-e44d-4556-863e-9370-b5f5-e658-7a0b-7f11",
       "next": "8b5ce740-80d5-11ed-95e1-0242ac120004-10-2295-9f93-ce95-2df2-6ce8-e56d-28e9-7a4e-fd92-f25a",
       "previous": "4f1d97fa-0c26-11f0-98e9-5e0a5654d7bd-1-4202"
      },
      {
       "current": "8b5ce66e-80d5-11ed-95e1-0242ac120004-10-cb1b-42bc-e44d-4556-863e-9370-b5f5-e658-7a0b-7f11",
       "next": "8b5ce740-80d5-11ed-95e1-0242ac120004-11-9f93-ce95-2df2-6ce8-e56d-28e9-7a4e-fd92-f25a-44f7",
       "previous": "4f1d97fa-0c26-11f0-98e9-5e0a5654d7bd-2-4202-aef0"
      },
      {
       "current": "8b5ce66e-80d5-11ed-95e1-0242ac120004-10-cb1b-42bc-e44d-4556-863e-9370-b5f5-e658-7a0b-7f11",
       "next": "8b5ce740-80d5-11ed-95e1-0242ac120004-11-9f93-ce95-2df2-6ce8-e56d-28e9-7a4e-fd92-f25a-44f7",
       "previous": "a72e1754-0c48-11f0-98e9-5e0a5654d7bd"
      },
      {
       "current": "8b5ce66e-80d5-11ed-95e1-0242ac120004-10-cb1b-42bc-e44d-4556-863e-9370-b5f5-e658-7a0b-7f11",
       "next": "8b5ce740-80d5-11ed-95e1-0242ac120004-11-9f93-ce95-2df2-6ce8-e56d-28e9-7a4e-fd92-f25a-44f7",
       "previous": "3bd0c974-0c49-11f0-98e9-5e0a5654d7bd"
      },
      {
       "current": "8b5ce66e-80d5-11ed-95e1-0242ac120004-12-e44d-4556-863e-9370-b5f5-e658-7a0b-7f11-50c2-120c",
       "next": "8b5ce740-80d5-11ed-95e1-0242ac120004-11-9f93-ce95-2df2-6ce8-e56d-28e9-7a4e-fd92-f25a-44f7",
       "previous": "a72e1754-0c48-11f0-98e9-5e0a5654d7bd"
      },
      {
       "current": "8b5ce66e-80d5-11ed-95e1-0242ac120004-12-e44d-4556-863e-9370-b5f5-e658-7a0b-7f11-50c2-120c",
       "next": "7258c5f6-0f8b-11f0-935e-6e323efef16c",
       "previous": "4f1d97fa-0c26-11f0-98e9-5e0a5654d7bd-4-4202-aef0-78b6-5218"
      },
      {
       "current": "8b5ce66e-80d5-11ed-95e1-0242ac120004-12-e44d-4556-863e-9370-b5f5-e658-7a0b-7f11-50c2-120c",
       "next": "8af0ac06-0c6f-11f0-98e9-5e0a5654d7bd-3-c85a-d8bf-8dea",
       "previous": "4f1d97fa-0c26-11f0-98e9-5e0a5654d7bd-4-4202-aef0-78b6-5218"
      },
      {
       "current": "8b5ce66e-80d5-11ed-95e1-0242ac120004-13-4556-863e-9370-b5f5-e658-7a0b-7f11-50c2-120c-62e9",
       "next": "b4bb8a0a-0f8b-11f0-935e-6e323efef16c",
       "previous": "4f1d97fa-0c26-11f0-98e9-5e0a5654d7bd-4-4202-aef0-78b6-5218"
      },
      {
       "current": "8b5ce66e-80d5-11ed-95e1-0242ac120004-16-b5f5-e658-7a0b-7f11-50c2-120c-62e9-f0ed-0032-2c57",
       "next": "b4bb8a0a-0f8b-11f0-935e-6e323efef16c-1-b213",
       "previous": "4f1d97fa-0c26-11f0-98e9-5e0a5654d7bd-5-4202-aef0-78b6-5218-939f"
      },
      {
       "current": "8b5ce66e-80d5-11ed-95e1-0242ac120004-17-e658-7a0b-7f11-50c2-120c-62e9-f0ed-0032-2c57-2457",
       "next": "b4bb8a0a-0f8b-11f0-935e-6e323efef16c-4-b213-00e1-d99a-d244",
       "previous": "4f1d97fa-0c26-11f0-98e9-5e0a5654d7bd-8-4202-aef0-78b6-5218-939f-7c1f-36a3-561d"
      },
      {
       "current": "8b5ce66e-80d5-11ed-95e1-0242ac120004-21-120c-62e9-f0ed-0032-2c57-2457-0051-5baf-1381-665a",
       "next": "b4bb8a0a-0f8b-11f0-935e-6e323efef16c-5-b213-00e1-d99a-d244-936b",
       "previous": "4f1d97fa-0c26-11f0-98e9-5e0a5654d7bd-9-4202-aef0-78b6-5218-939f-7c1f-36a3-561d-61b6"
      }
     ],
     "next": "b4bb8a0a-0f8b-11f0-935e-6e323efef16c-9-b213-00e1-d99a-d244-936b-b9fe-e496-7385-6aa6",
     "previous": "4f1d97fa-0c26-11f0-98e9-5e0a5654d7bd-13-5218-939f-7c1f-36a3-561d-61b6-8267-4a88-1c97-cfab"
    },
    "pinnedOutputTabIndex": 0,
    "run_through_control": {
     "frozen": false,
     "read_only": false
    },
    "slideshow": {
     "slide_type": ""
    },
    "tags": []
   },
   "source": [
    "# GakuNinRDM 総合テスト [NIIストレージ]\n",
    "\n",
    "- サブシステム名: ログイン\n",
    "- ページ/アドオン: トップページ\n",
    "- 機能分類: ストレージ制御確認\n",
    "- シナリオ名: *\n",
    "- 用意するテストデータ: URL一覧、アカウント(既存ユーザー1: GRDM)"
   ]
  },
  {
   "cell_type": "code",
   "execution_count": null,
   "id": "1378ce02-b202-431a-89b0-339fda216fe9",
   "metadata": {
    "deletable": true,
    "lc_cell_meme": {
     "current": "b4bb8a0a-0f8b-11f0-935e-6e323efef16c-10-b213-00e1-d99a-d244-936b-b9fe-e496-7385-6aa6-d160",
     "execution_end_time": "2025-04-02T07:37:27.006Z",
     "history": [
      {
       "current": "b4bb8a0a-0f8b-11f0-935e-6e323efef16c-1-b213",
       "next": "8af0ac06-0c6f-11f0-98e9-5e0a5654d7bd-3-c85a-d8bf-8dea",
       "previous": "8b5ce66e-80d5-11ed-95e1-0242ac120004-12-e44d-4556-863e-9370-b5f5-e658-7a0b-7f11-50c2-120c"
      },
      {
       "current": "b4bb8a0a-0f8b-11f0-935e-6e323efef16c-4-b213-00e1-d99a-d244",
       "next": "8af0ac06-0c6f-11f0-98e9-5e0a5654d7bd-4-c85a-d8bf-8dea-ced2",
       "previous": "8b5ce66e-80d5-11ed-95e1-0242ac120004-13-4556-863e-9370-b5f5-e658-7a0b-7f11-50c2-120c-62e9"
      },
      {
       "current": "b4bb8a0a-0f8b-11f0-935e-6e323efef16c-5-b213-00e1-d99a-d244-936b",
       "next": "8af0ac06-0c6f-11f0-98e9-5e0a5654d7bd-7-c85a-d8bf-8dea-ced2-b6ea-11de-e027",
       "previous": "8b5ce66e-80d5-11ed-95e1-0242ac120004-16-b5f5-e658-7a0b-7f11-50c2-120c-62e9-f0ed-0032-2c57"
      },
      {
       "current": "b4bb8a0a-0f8b-11f0-935e-6e323efef16c-9-b213-00e1-d99a-d244-936b-b9fe-e496-7385-6aa6",
       "next": "8af0ac06-0c6f-11f0-98e9-5e0a5654d7bd-8-c85a-d8bf-8dea-ced2-b6ea-11de-e027-5ced",
       "previous": "8b5ce66e-80d5-11ed-95e1-0242ac120004-17-e658-7a0b-7f11-50c2-120c-62e9-f0ed-0032-2c57-2457"
      }
     ],
     "next": "8af0ac06-0c6f-11f0-98e9-5e0a5654d7bd-12-8dea-ced2-b6ea-11de-e027-5ced-0939-f364-e8a5-98ea",
     "previous": "8b5ce66e-80d5-11ed-95e1-0242ac120004-21-120c-62e9-f0ed-0032-2c57-2457-0051-5baf-1381-665a"
    },
    "pinnedOutputTabIndex": 0,
    "run_through_control": {
     "frozen": false,
     "read_only": false
    }
   },
   "outputs": [],
   "source": [
    "target_storage_name = 'NII Storage'\n",
    "target_storage_id = 'osfstorage'\n",
    "(target_storage_id, target_storage_name)"
   ]
  },
  {
   "cell_type": "code",
   "execution_count": null,
   "id": "4d89a6c3-cb47-4206-b2ce-5527260dd3e9",
   "metadata": {
    "deletable": true,
    "lc_cell_meme": {
     "current": "8af0ac06-0c6f-11f0-98e9-5e0a5654d7bd-13-ced2-b6ea-11de-e027-5ced-0939-f364-e8a5-98ea-129a",
     "execution_end_time": "2025-04-02T06:31:11.748Z",
     "history": [
      {
       "current": "8af0ac06-0c6f-11f0-98e9-5e0a5654d7bd",
       "next": "fc1e9000-ecda-11ef-b381-0242ac120006-8-ad5a-1453-986a-418b-269a-3f21-466e-058e",
       "previous": "8b87efd0-f991-11ef-a92d-0242ac120006-5-ccde-2dab-8cb6-87a2-145c"
      },
      {
       "current": "8af0ac06-0c6f-11f0-98e9-5e0a5654d7bd-1-c85a",
       "next": "c9853da6-0c6f-11f0-98e9-5e0a5654d7bd",
       "previous": "8b87efd0-f991-11ef-a92d-0242ac120006-5-ccde-2dab-8cb6-87a2-145c"
      },
      {
       "current": "8af0ac06-0c6f-11f0-98e9-5e0a5654d7bd-3-c85a-d8bf-8dea",
       "next": "c9853da6-0c6f-11f0-98e9-5e0a5654d7bd-1-f3a3",
       "previous": "8b87efd0-f991-11ef-a92d-0242ac120006-6-ccde-2dab-8cb6-87a2-145c-a1d6"
      },
      {
       "current": "8af0ac06-0c6f-11f0-98e9-5e0a5654d7bd-3-c85a-d8bf-8dea",
       "next": "7258c5f6-0f8b-11f0-935e-6e323efef16c",
       "previous": "8b5ce66e-80d5-11ed-95e1-0242ac120004-12-e44d-4556-863e-9370-b5f5-e658-7a0b-7f11-50c2-120c"
      },
      {
       "current": "8af0ac06-0c6f-11f0-98e9-5e0a5654d7bd-3-c85a-d8bf-8dea",
       "next": "7258c5f6-0f8b-11f0-935e-6e323efef16c",
       "previous": "b4bb8a0a-0f8b-11f0-935e-6e323efef16c"
      },
      {
       "current": "8af0ac06-0c6f-11f0-98e9-5e0a5654d7bd-3-c85a-d8bf-8dea",
       "next": "e49811c6-0f8b-11f0-935e-6e323efef16c",
       "previous": "b4bb8a0a-0f8b-11f0-935e-6e323efef16c"
      },
      {
       "current": "8af0ac06-0c6f-11f0-98e9-5e0a5654d7bd-3-c85a-d8bf-8dea",
       "next": "9954a6fc-0c70-11f0-98e9-5e0a5654d7bd-3-f4b2-32da-b588",
       "previous": "b4bb8a0a-0f8b-11f0-935e-6e323efef16c"
      },
      {
       "current": "8af0ac06-0c6f-11f0-98e9-5e0a5654d7bd-3-c85a-d8bf-8dea",
       "next": "9954a6fc-0c70-11f0-98e9-5e0a5654d7bd-3-f4b2-32da-b588",
       "previous": "b4bb8a0a-0f8b-11f0-935e-6e323efef16c"
      },
      {
       "current": "8af0ac06-0c6f-11f0-98e9-5e0a5654d7bd-3-c85a-d8bf-8dea",
       "next": "3e836c18-0c75-11f0-b991-feb16f56f93e-3-b008-e8d0-3f9b",
       "previous": "b4bb8a0a-0f8b-11f0-935e-6e323efef16c"
      },
      {
       "current": "8af0ac06-0c6f-11f0-98e9-5e0a5654d7bd-3-c85a-d8bf-8dea",
       "next": "1945ee16-0f8c-11f0-935e-6e323efef16c",
       "previous": "b4bb8a0a-0f8b-11f0-935e-6e323efef16c"
      },
      {
       "current": "8af0ac06-0c6f-11f0-98e9-5e0a5654d7bd-3-c85a-d8bf-8dea",
       "next": "1945ee16-0f8c-11f0-935e-6e323efef16c",
       "previous": "b4bb8a0a-0f8b-11f0-935e-6e323efef16c"
      },
      {
       "current": "8af0ac06-0c6f-11f0-98e9-5e0a5654d7bd-4-c85a-d8bf-8dea-ced2",
       "next": "1945ee16-0f8c-11f0-935e-6e323efef16c-1-2c1c",
       "previous": "b4bb8a0a-0f8b-11f0-935e-6e323efef16c"
      },
      {
       "current": "8af0ac06-0c6f-11f0-98e9-5e0a5654d7bd-7-c85a-d8bf-8dea-ced2-b6ea-11de-e027",
       "next": "1945ee16-0f8c-11f0-935e-6e323efef16c-2-2c1c-4f08",
       "previous": "b4bb8a0a-0f8b-11f0-935e-6e323efef16c-1-b213"
      },
      {
       "current": "8af0ac06-0c6f-11f0-98e9-5e0a5654d7bd-7-c85a-d8bf-8dea-ced2-b6ea-11de-e027",
       "next": "e4ebb1f2-191b-11f0-ad36-668cb6ddd6b0",
       "previous": "b4bb8a0a-0f8b-11f0-935e-6e323efef16c-4-b213-00e1-d99a-d244"
      },
      {
       "current": "8af0ac06-0c6f-11f0-98e9-5e0a5654d7bd-8-c85a-d8bf-8dea-ced2-b6ea-11de-e027-5ced",
       "next": "1945ee16-0f8c-11f0-935e-6e323efef16c-5-2c1c-4f08-40b5-cf6e-9e08",
       "previous": "b4bb8a0a-0f8b-11f0-935e-6e323efef16c-4-b213-00e1-d99a-d244"
      },
      {
       "current": "8af0ac06-0c6f-11f0-98e9-5e0a5654d7bd-12-8dea-ced2-b6ea-11de-e027-5ced-0939-f364-e8a5-98ea",
       "next": "1945ee16-0f8c-11f0-935e-6e323efef16c-6-2c1c-4f08-40b5-cf6e-9e08-8d48",
       "previous": "b4bb8a0a-0f8b-11f0-935e-6e323efef16c-5-b213-00e1-d99a-d244-936b"
      }
     ],
     "next": "1945ee16-0f8c-11f0-935e-6e323efef16c-10-2c1c-4f08-40b5-cf6e-9e08-8d48-f057-5c33-2714-dcb0",
     "previous": "b4bb8a0a-0f8b-11f0-935e-6e323efef16c-9-b213-00e1-d99a-d244-936b-b9fe-e496-7385-6aa6"
    },
    "pinnedOutputTabIndex": 0,
    "run_through_control": {
     "frozen": false,
     "read_only": false
    }
   },
   "outputs": [],
   "source": "from datetime import datetime\nimport os\nimport papermill as pm\nimport traceback\nfrom scripts.papermillHelpers import gen_run_notebook\n\ndef make_result_dir(base_path):\n    result_dir = os.path.join(base_path, 'notebooks')\n    os.makedirs(result_dir, exist_ok=True)\n    return result_dir\n\nresult_dir = make_result_dir(default_result_path)\n\nrun_notebook = gen_run_notebook(\n    result_dir,\n    transition_timeout,\n    dict(\n        rdm_url=rdm_url,\n        idp_name_1=idp_name_1,\n        idp_username_1=idp_username_1,\n        idp_password_1=idp_password_1,\n    ),\n    skip_failed_test,\n    exclude_notebooks,\n)\n\nresult_notebooks = []\nresult_dir"
  },
  {
   "cell_type": "markdown",
   "id": "1c11ee02-6af0-4719-a05b-0b5abd3b88ff",
   "metadata": {
    "deletable": true,
    "editable": true,
    "lc_cell_meme": {
     "current": "1945ee16-0f8c-11f0-935e-6e323efef16c-11-4f08-40b5-cf6e-9e08-8d48-f057-5c33-2714-dcb0-e14d",
     "history": [
      {
       "current": "1945ee16-0f8c-11f0-935e-6e323efef16c-2-2c1c-4f08",
       "next": "3e836c18-0c75-11f0-b991-feb16f56f93e-3-b008-e8d0-3f9b",
       "previous": "8af0ac06-0c6f-11f0-98e9-5e0a5654d7bd-3-c85a-d8bf-8dea"
      },
      {
       "current": "1945ee16-0f8c-11f0-935e-6e323efef16c-5-2c1c-4f08-40b5-cf6e-9e08",
       "next": "3e836c18-0c75-11f0-b991-feb16f56f93e-4-b008-e8d0-3f9b-d91b",
       "previous": "8af0ac06-0c6f-11f0-98e9-5e0a5654d7bd-4-c85a-d8bf-8dea-ced2"
      },
      {
       "current": "1945ee16-0f8c-11f0-935e-6e323efef16c-5-2c1c-4f08-40b5-cf6e-9e08",
       "next": "3e836c18-0c75-11f0-b991-feb16f56f93e-7-b008-e8d0-3f9b-d91b-9971-7510-3c5e",
       "previous": "e4ebb1f2-191b-11f0-ad36-668cb6ddd6b0"
      },
      {
       "current": "1945ee16-0f8c-11f0-935e-6e323efef16c-6-2c1c-4f08-40b5-cf6e-9e08-8d48",
       "next": "3e836c18-0c75-11f0-b991-feb16f56f93e-7-b008-e8d0-3f9b-d91b-9971-7510-3c5e",
       "previous": "8af0ac06-0c6f-11f0-98e9-5e0a5654d7bd-7-c85a-d8bf-8dea-ced2-b6ea-11de-e027"
      },
      {
       "current": "1945ee16-0f8c-11f0-935e-6e323efef16c-10-2c1c-4f08-40b5-cf6e-9e08-8d48-f057-5c33-2714-dcb0",
       "next": "3e836c18-0c75-11f0-b991-feb16f56f93e-8-b008-e8d0-3f9b-d91b-9971-7510-3c5e-1a25",
       "previous": "8af0ac06-0c6f-11f0-98e9-5e0a5654d7bd-8-c85a-d8bf-8dea-ced2-b6ea-11de-e027-5ced"
      }
     ],
     "next": "3e836c18-0c75-11f0-b991-feb16f56f93e-12-3f9b-d91b-9971-7510-3c5e-1a25-8534-be8d-dff3-5553",
     "previous": "8af0ac06-0c6f-11f0-98e9-5e0a5654d7bd-12-8dea-ced2-b6ea-11de-e027-5ced-0939-f364-e8a5-98ea"
    },
    "pinnedOutputTabIndex": 0,
    "run_through_control": {
     "frozen": false,
     "read_only": false
    }
   },
   "source": [
    "## プロジェクトダッシュボードでの「ファイル基本操作」テストの実施\n",
    "\n",
    "テスト「テスト手順-ストレージ共通-ファイル基本操作」をプロジェクトダッシュボードで実施する。"
   ]
  },
  {
   "cell_type": "code",
   "execution_count": null,
   "id": "be8b1fd4-9f61-44e4-bea5-2d84e6419b16",
   "metadata": {
    "deletable": true,
    "lc_cell_meme": {
     "current": "3e836c18-0c75-11f0-b991-feb16f56f93e-13-d91b-9971-7510-3c5e-1a25-8534-be8d-dff3-5553-14d9",
     "execution_end_time": "2025-04-02T06:35:23.473Z",
     "history": [
      {
       "current": "3e836c18-0c75-11f0-b991-feb16f56f93e",
       "next": "ce8c187e-f991-11ef-a92d-0242ac120006-6-964d-161e-73da-b120-ac56-8b98",
       "previous": "9954a6fc-0c70-11f0-98e9-5e0a5654d7bd-1-f4b2"
      },
      {
       "current": "3e836c18-0c75-11f0-b991-feb16f56f93e",
       "next": "522aa0f0-0c76-11f0-b991-feb16f56f93e",
       "previous": "9954a6fc-0c70-11f0-98e9-5e0a5654d7bd-1-f4b2"
      },
      {
       "current": "3e836c18-0c75-11f0-b991-feb16f56f93e-2-b008-e8d0",
       "next": "ce8c187e-f991-11ef-a92d-0242ac120006-6-964d-161e-73da-b120-ac56-8b98",
       "previous": "9954a6fc-0c70-11f0-98e9-5e0a5654d7bd-1-f4b2"
      },
      {
       "current": "3e836c18-0c75-11f0-b991-feb16f56f93e-3-b008-e8d0-3f9b",
       "next": "e49811c6-0f8b-11f0-935e-6e323efef16c",
       "previous": "9954a6fc-0c70-11f0-98e9-5e0a5654d7bd-3-f4b2-32da-b588"
      },
      {
       "current": "3e836c18-0c75-11f0-b991-feb16f56f93e-3-b008-e8d0-3f9b",
       "next": "e49811c6-0f8b-11f0-935e-6e323efef16c",
       "previous": "9954a6fc-0c70-11f0-98e9-5e0a5654d7bd-3-f4b2-32da-b588"
      },
      {
       "current": "3e836c18-0c75-11f0-b991-feb16f56f93e-3-b008-e8d0-3f9b",
       "next": "9954a6fc-0c70-11f0-98e9-5e0a5654d7bd-3-f4b2-32da-b588",
       "previous": "8af0ac06-0c6f-11f0-98e9-5e0a5654d7bd-3-c85a-d8bf-8dea"
      },
      {
       "current": "3e836c18-0c75-11f0-b991-feb16f56f93e-3-b008-e8d0-3f9b",
       "next": "9954a6fc-0c70-11f0-98e9-5e0a5654d7bd-3-f4b2-32da-b588",
       "previous": "1945ee16-0f8c-11f0-935e-6e323efef16c"
      },
      {
       "current": "3e836c18-0c75-11f0-b991-feb16f56f93e-3-b008-e8d0-3f9b",
       "next": "9954a6fc-0c70-11f0-98e9-5e0a5654d7bd-3-f4b2-32da-b588",
       "previous": "1945ee16-0f8c-11f0-935e-6e323efef16c"
      },
      {
       "current": "3e836c18-0c75-11f0-b991-feb16f56f93e-3-b008-e8d0-3f9b",
       "next": "9954a6fc-0c70-11f0-98e9-5e0a5654d7bd-3-f4b2-32da-b588",
       "previous": "1945ee16-0f8c-11f0-935e-6e323efef16c-1-2c1c"
      },
      {
       "current": "3e836c18-0c75-11f0-b991-feb16f56f93e-3-b008-e8d0-3f9b",
       "next": "5111a470-0f8c-11f0-935e-6e323efef16c",
       "previous": "1945ee16-0f8c-11f0-935e-6e323efef16c-1-2c1c"
      },
      {
       "current": "3e836c18-0c75-11f0-b991-feb16f56f93e-3-b008-e8d0-3f9b",
       "next": "5111a470-0f8c-11f0-935e-6e323efef16c",
       "previous": "1945ee16-0f8c-11f0-935e-6e323efef16c-1-2c1c"
      },
      {
       "current": "3e836c18-0c75-11f0-b991-feb16f56f93e-4-b008-e8d0-3f9b-d91b",
       "next": "5111a470-0f8c-11f0-935e-6e323efef16c-1-cde4",
       "previous": "1945ee16-0f8c-11f0-935e-6e323efef16c-1-2c1c"
      },
      {
       "current": "3e836c18-0c75-11f0-b991-feb16f56f93e-7-b008-e8d0-3f9b-d91b-9971-7510-3c5e",
       "next": "5111a470-0f8c-11f0-935e-6e323efef16c-2-cde4-2f90",
       "previous": "1945ee16-0f8c-11f0-935e-6e323efef16c-2-2c1c-4f08"
      },
      {
       "current": "3e836c18-0c75-11f0-b991-feb16f56f93e-8-b008-e8d0-3f9b-d91b-9971-7510-3c5e-1a25",
       "next": "5111a470-0f8c-11f0-935e-6e323efef16c-5-cde4-2f90-b5a2-f6e5-88d7",
       "previous": "1945ee16-0f8c-11f0-935e-6e323efef16c-5-2c1c-4f08-40b5-cf6e-9e08"
      },
      {
       "current": "3e836c18-0c75-11f0-b991-feb16f56f93e-12-3f9b-d91b-9971-7510-3c5e-1a25-8534-be8d-dff3-5553",
       "next": "5111a470-0f8c-11f0-935e-6e323efef16c-6-cde4-2f90-b5a2-f6e5-88d7-521b",
       "previous": "1945ee16-0f8c-11f0-935e-6e323efef16c-6-2c1c-4f08-40b5-cf6e-9e08-8d48"
      }
     ],
     "next": "5111a470-0f8c-11f0-935e-6e323efef16c-10-cde4-2f90-b5a2-f6e5-88d7-521b-9af2-6a60-d07c-b454",
     "previous": "1945ee16-0f8c-11f0-935e-6e323efef16c-10-2c1c-4f08-40b5-cf6e-9e08-8d48-f057-5c33-2714-dcb0"
    },
    "pinnedOutputTabIndex": 0,
    "run_through_control": {
     "frozen": false,
     "read_only": false
    }
   },
   "outputs": [],
   "source": [
    "result_notebooks.append(run_notebook(\n",
    "    'テスト手順-ストレージ共通-ファイル基本操作.ipynb',\n",
    "    dict(\n",
    "        too_large_file_upload_size=too_large_file_upload_size,\n",
    "        target_storage_name=target_storage_name,\n",
    "        target_file_view='project-dashboard',\n",
    "        rdm_project_name=f'{rdm_project_prefix}-dashboard',\n",
    "        enable_1gb_file_upload=enable_1gb_file_upload,\n",
    "        skip_preview_check=skip_preview_check,\n",
    "    ),\n",
    "    '-プロジェクトダッシュボード-NII Storage',\n",
    "))\n",
    "result_notebooks[-1]"
   ]
  },
  {
   "cell_type": "markdown",
   "id": "d4a3864e-7e71-4325-8966-ba536328ae6e",
   "metadata": {
    "deletable": true,
    "editable": true,
    "lc_cell_meme": {
     "current": "5111a470-0f8c-11f0-935e-6e323efef16c-11-2f90-b5a2-f6e5-88d7-521b-9af2-6a60-d07c-b454-8eb4",
     "history": [
      {
       "current": "5111a470-0f8c-11f0-935e-6e323efef16c-2-cde4-2f90",
       "next": "9954a6fc-0c70-11f0-98e9-5e0a5654d7bd-3-f4b2-32da-b588",
       "previous": "3e836c18-0c75-11f0-b991-feb16f56f93e-3-b008-e8d0-3f9b"
      },
      {
       "current": "5111a470-0f8c-11f0-935e-6e323efef16c-5-cde4-2f90-b5a2-f6e5-88d7",
       "next": "9954a6fc-0c70-11f0-98e9-5e0a5654d7bd-4-f4b2-32da-b588-2530",
       "previous": "3e836c18-0c75-11f0-b991-feb16f56f93e-4-b008-e8d0-3f9b-d91b"
      },
      {
       "current": "5111a470-0f8c-11f0-935e-6e323efef16c-6-cde4-2f90-b5a2-f6e5-88d7-521b",
       "next": "9954a6fc-0c70-11f0-98e9-5e0a5654d7bd-7-f4b2-32da-b588-2530-2362-ef25-d28e",
       "previous": "3e836c18-0c75-11f0-b991-feb16f56f93e-7-b008-e8d0-3f9b-d91b-9971-7510-3c5e"
      },
      {
       "current": "5111a470-0f8c-11f0-935e-6e323efef16c-10-cde4-2f90-b5a2-f6e5-88d7-521b-9af2-6a60-d07c-b454",
       "next": "9954a6fc-0c70-11f0-98e9-5e0a5654d7bd-8-f4b2-32da-b588-2530-2362-ef25-d28e-b01d",
       "previous": "3e836c18-0c75-11f0-b991-feb16f56f93e-8-b008-e8d0-3f9b-d91b-9971-7510-3c5e-1a25"
      }
     ],
     "next": "9954a6fc-0c70-11f0-98e9-5e0a5654d7bd-12-b588-2530-2362-ef25-d28e-b01d-99fe-df5d-3833-854f",
     "previous": "3e836c18-0c75-11f0-b991-feb16f56f93e-12-3f9b-d91b-9971-7510-3c5e-1a25-8534-be8d-dff3-5553"
    },
    "pinnedOutputTabIndex": 0,
    "run_through_control": {
     "frozen": false,
     "read_only": false
    }
   },
   "source": [
    "## ファイルタブでの「ファイル基本操作」テストの実施\n",
    "\n",
    "テスト「テスト手順-ストレージ共通-ファイル基本操作」をファイルタブで実施する。"
   ]
  },
  {
   "cell_type": "code",
   "execution_count": null,
   "id": "5986f110-89b1-4f0a-b19d-93af641df5a9",
   "metadata": {
    "deletable": true,
    "lc_cell_meme": {
     "current": "9954a6fc-0c70-11f0-98e9-5e0a5654d7bd-13-2530-2362-ef25-d28e-b01d-99fe-df5d-3833-854f-2c66",
     "execution_end_time": "2025-04-02T06:39:17.510Z",
     "history": [
      {
       "current": "9954a6fc-0c70-11f0-98e9-5e0a5654d7bd",
       "next": "fc1e9000-ecda-11ef-b381-0242ac120006-8-ad5a-1453-986a-418b-269a-3f21-466e-058e",
       "previous": "c9853da6-0c6f-11f0-98e9-5e0a5654d7bd"
      },
      {
       "current": "9954a6fc-0c70-11f0-98e9-5e0a5654d7bd-1-f4b2",
       "next": "ce8c187e-f991-11ef-a92d-0242ac120006-5-964d-161e-73da-b120-ac56",
       "previous": "c9853da6-0c6f-11f0-98e9-5e0a5654d7bd"
      },
      {
       "current": "9954a6fc-0c70-11f0-98e9-5e0a5654d7bd-3-f4b2-32da-b588",
       "next": "3e836c18-0c75-11f0-b991-feb16f56f93e",
       "previous": "c9853da6-0c6f-11f0-98e9-5e0a5654d7bd-1-f3a3"
      },
      {
       "current": "9954a6fc-0c70-11f0-98e9-5e0a5654d7bd-3-f4b2-32da-b588",
       "next": "3e836c18-0c75-11f0-b991-feb16f56f93e-2-b008-e8d0",
       "previous": "8af0ac06-0c6f-11f0-98e9-5e0a5654d7bd-3-c85a-d8bf-8dea"
      },
      {
       "current": "9954a6fc-0c70-11f0-98e9-5e0a5654d7bd-3-f4b2-32da-b588",
       "next": "3e836c18-0c75-11f0-b991-feb16f56f93e-2-b008-e8d0",
       "previous": "8af0ac06-0c6f-11f0-98e9-5e0a5654d7bd-3-c85a-d8bf-8dea"
      },
      {
       "current": "9954a6fc-0c70-11f0-98e9-5e0a5654d7bd-3-f4b2-32da-b588",
       "next": "e49811c6-0f8b-11f0-935e-6e323efef16c",
       "previous": "3e836c18-0c75-11f0-b991-feb16f56f93e-3-b008-e8d0-3f9b"
      },
      {
       "current": "9954a6fc-0c70-11f0-98e9-5e0a5654d7bd-3-f4b2-32da-b588",
       "next": "e49811c6-0f8b-11f0-935e-6e323efef16c",
       "previous": "5111a470-0f8c-11f0-935e-6e323efef16c"
      },
      {
       "current": "9954a6fc-0c70-11f0-98e9-5e0a5654d7bd-3-f4b2-32da-b588",
       "next": "e49811c6-0f8b-11f0-935e-6e323efef16c",
       "previous": "5111a470-0f8c-11f0-935e-6e323efef16c"
      },
      {
       "current": "9954a6fc-0c70-11f0-98e9-5e0a5654d7bd-3-f4b2-32da-b588",
       "next": "e49811c6-0f8b-11f0-935e-6e323efef16c",
       "previous": "5111a470-0f8c-11f0-935e-6e323efef16c-1-cde4"
      },
      {
       "current": "9954a6fc-0c70-11f0-98e9-5e0a5654d7bd-4-f4b2-32da-b588-2530",
       "next": "5111a470-0f8c-11f0-935e-6e323efef16c-2-cde4-bd15",
       "previous": "5111a470-0f8c-11f0-935e-6e323efef16c-1-cde4"
      },
      {
       "current": "9954a6fc-0c70-11f0-98e9-5e0a5654d7bd-7-f4b2-32da-b588-2530-2362-ef25-d28e",
       "next": "5111a470-0f8c-11f0-935e-6e323efef16c-3-cde4-bd15-47f7",
       "previous": "5111a470-0f8c-11f0-935e-6e323efef16c-2-cde4-2f90"
      },
      {
       "current": "9954a6fc-0c70-11f0-98e9-5e0a5654d7bd-8-f4b2-32da-b588-2530-2362-ef25-d28e-b01d",
       "next": "5111a470-0f8c-11f0-935e-6e323efef16c-6-cde4-bd15-47f7-4a43-6e0c-4f72",
       "previous": "5111a470-0f8c-11f0-935e-6e323efef16c-5-cde4-2f90-b5a2-f6e5-88d7"
      },
      {
       "current": "9954a6fc-0c70-11f0-98e9-5e0a5654d7bd-12-b588-2530-2362-ef25-d28e-b01d-99fe-df5d-3833-854f",
       "next": "5111a470-0f8c-11f0-935e-6e323efef16c-7-cde4-bd15-47f7-4a43-6e0c-4f72-5d03",
       "previous": "5111a470-0f8c-11f0-935e-6e323efef16c-6-cde4-2f90-b5a2-f6e5-88d7-521b"
      }
     ],
     "next": "5111a470-0f8c-11f0-935e-6e323efef16c-11-bd15-47f7-4a43-6e0c-4f72-5d03-228c-c238-dbaa-a842",
     "previous": "5111a470-0f8c-11f0-935e-6e323efef16c-10-cde4-2f90-b5a2-f6e5-88d7-521b-9af2-6a60-d07c-b454"
    },
    "pinnedOutputTabIndex": 0,
    "run_through_control": {
     "frozen": false,
     "read_only": false
    }
   },
   "outputs": [],
   "source": [
    "result_notebooks.append(run_notebook(\n",
    "    'テスト手順-ストレージ共通-ファイル基本操作.ipynb',\n",
    "    dict(\n",
    "        too_large_file_upload_size=too_large_file_upload_size,\n",
    "        target_storage_name=target_storage_name,\n",
    "        target_file_view='file-tab',\n",
    "        rdm_project_name=f'{rdm_project_prefix}-filetab',\n",
    "        enable_1gb_file_upload=enable_1gb_file_upload,\n",
    "        skip_preview_check=skip_preview_check,\n",
    "    ),\n",
    "    '-ファイルタブ-NII Storage',\n",
    "))\n",
    "result_notebooks[-1]"
   ]
  },
  {
   "cell_type": "markdown",
   "id": "6431b4bc-39a5-4eb6-b4aa-7f34738fff5a",
   "metadata": {
    "deletable": true,
    "editable": true,
    "lc_cell_meme": {
     "current": "5111a470-0f8c-11f0-935e-6e323efef16c-12-47f7-4a43-6e0c-4f72-5d03-228c-c238-dbaa-a842-ed7d",
     "history": [
      {
       "current": "5111a470-0f8c-11f0-935e-6e323efef16c-2-cde4-bd15",
       "next": "9954a6fc-0c70-11f0-98e9-5e0a5654d7bd-3-f4b2-32da-b588",
       "previous": "3e836c18-0c75-11f0-b991-feb16f56f93e-3-b008-e8d0-3f9b"
      },
      {
       "current": "5111a470-0f8c-11f0-935e-6e323efef16c-3-cde4-bd15-47f7",
       "next": "9954a6fc-0c70-11f0-98e9-5e0a5654d7bd-4-f4b2-32da-b588-2ea3",
       "previous": "9954a6fc-0c70-11f0-98e9-5e0a5654d7bd-3-f4b2-32da-b588"
      },
      {
       "current": "5111a470-0f8c-11f0-935e-6e323efef16c-6-cde4-bd15-47f7-4a43-6e0c-4f72",
       "next": "9954a6fc-0c70-11f0-98e9-5e0a5654d7bd-5-f4b2-32da-b588-2ea3-c289",
       "previous": "9954a6fc-0c70-11f0-98e9-5e0a5654d7bd-4-f4b2-32da-b588-2530"
      },
      {
       "current": "5111a470-0f8c-11f0-935e-6e323efef16c-7-cde4-bd15-47f7-4a43-6e0c-4f72-5d03",
       "next": "9954a6fc-0c70-11f0-98e9-5e0a5654d7bd-8-f4b2-32da-b588-2ea3-c289-53e5-31c4-7b04",
       "previous": "9954a6fc-0c70-11f0-98e9-5e0a5654d7bd-7-f4b2-32da-b588-2530-2362-ef25-d28e"
      },
      {
       "current": "5111a470-0f8c-11f0-935e-6e323efef16c-11-bd15-47f7-4a43-6e0c-4f72-5d03-228c-c238-dbaa-a842",
       "next": "9954a6fc-0c70-11f0-98e9-5e0a5654d7bd-9-f4b2-32da-b588-2ea3-c289-53e5-31c4-7b04-2eff",
       "previous": "9954a6fc-0c70-11f0-98e9-5e0a5654d7bd-8-f4b2-32da-b588-2530-2362-ef25-d28e-b01d"
      }
     ],
     "next": "9954a6fc-0c70-11f0-98e9-5e0a5654d7bd-13-2ea3-c289-53e5-31c4-7b04-2eff-2c6e-2ac3-1cfb-6be8",
     "previous": "9954a6fc-0c70-11f0-98e9-5e0a5654d7bd-12-b588-2530-2362-ef25-d28e-b01d-99fe-df5d-3833-854f"
    },
    "pinnedOutputTabIndex": 0,
    "run_through_control": {
     "frozen": false,
     "read_only": false
    },
    "slideshow": {
     "slide_type": ""
    },
    "tags": [
     "parameters"
    ]
   },
   "source": [
    "## ストレージでの「Metadataアドオンの登録」テストの実施\n",
    "\n",
    "テスト「テスト手順-ストレージ共通-Metadataアドオン」をファイルタブで実施する。"
   ]
  },
  {
   "cell_type": "code",
   "execution_count": null,
   "id": "c9c8ea12-759b-4444-8b0f-42e8b575f330",
   "metadata": {
    "deletable": true,
    "lc_cell_meme": {
     "current": "9954a6fc-0c70-11f0-98e9-5e0a5654d7bd-14-c289-53e5-31c4-7b04-2eff-2c6e-2ac3-1cfb-6be8-e4ee",
     "execution_end_time": "2025-04-02T08:03:37.127Z",
     "history": [
      {
       "current": "9954a6fc-0c70-11f0-98e9-5e0a5654d7bd",
       "next": "fc1e9000-ecda-11ef-b381-0242ac120006-8-ad5a-1453-986a-418b-269a-3f21-466e-058e",
       "previous": "c9853da6-0c6f-11f0-98e9-5e0a5654d7bd"
      },
      {
       "current": "9954a6fc-0c70-11f0-98e9-5e0a5654d7bd-1-f4b2",
       "next": "ce8c187e-f991-11ef-a92d-0242ac120006-5-964d-161e-73da-b120-ac56",
       "previous": "c9853da6-0c6f-11f0-98e9-5e0a5654d7bd"
      },
      {
       "current": "9954a6fc-0c70-11f0-98e9-5e0a5654d7bd-3-f4b2-32da-b588",
       "next": "3e836c18-0c75-11f0-b991-feb16f56f93e",
       "previous": "c9853da6-0c6f-11f0-98e9-5e0a5654d7bd-1-f3a3"
      },
      {
       "current": "9954a6fc-0c70-11f0-98e9-5e0a5654d7bd-3-f4b2-32da-b588",
       "next": "3e836c18-0c75-11f0-b991-feb16f56f93e-2-b008-e8d0",
       "previous": "8af0ac06-0c6f-11f0-98e9-5e0a5654d7bd-3-c85a-d8bf-8dea"
      },
      {
       "current": "9954a6fc-0c70-11f0-98e9-5e0a5654d7bd-3-f4b2-32da-b588",
       "next": "3e836c18-0c75-11f0-b991-feb16f56f93e-2-b008-e8d0",
       "previous": "8af0ac06-0c6f-11f0-98e9-5e0a5654d7bd-3-c85a-d8bf-8dea"
      },
      {
       "current": "9954a6fc-0c70-11f0-98e9-5e0a5654d7bd-3-f4b2-32da-b588",
       "next": "e49811c6-0f8b-11f0-935e-6e323efef16c",
       "previous": "3e836c18-0c75-11f0-b991-feb16f56f93e-3-b008-e8d0-3f9b"
      },
      {
       "current": "9954a6fc-0c70-11f0-98e9-5e0a5654d7bd-3-f4b2-32da-b588",
       "next": "e49811c6-0f8b-11f0-935e-6e323efef16c",
       "previous": "5111a470-0f8c-11f0-935e-6e323efef16c"
      },
      {
       "current": "9954a6fc-0c70-11f0-98e9-5e0a5654d7bd-3-f4b2-32da-b588",
       "next": "e49811c6-0f8b-11f0-935e-6e323efef16c",
       "previous": "5111a470-0f8c-11f0-935e-6e323efef16c"
      },
      {
       "current": "9954a6fc-0c70-11f0-98e9-5e0a5654d7bd-4-f4b2-32da-b588-2ea3",
       "next": "e49811c6-0f8b-11f0-935e-6e323efef16c",
       "previous": "5111a470-0f8c-11f0-935e-6e323efef16c-1-cde4"
      },
      {
       "current": "9954a6fc-0c70-11f0-98e9-5e0a5654d7bd-4-f4b2-32da-b588-2ea3",
       "next": "e49811c6-0f8b-11f0-935e-6e323efef16c",
       "previous": "5111a470-0f8c-11f0-935e-6e323efef16c-2-cde4-bd15"
      },
      {
       "current": "9954a6fc-0c70-11f0-98e9-5e0a5654d7bd-5-f4b2-32da-b588-2ea3-c289",
       "next": "0d1531e8-80d6-11ed-95e1-0242ac120004-12-e81f-4086-98aa-d482-0385-8e2c-9432-9a6a-72f2-3e45",
       "previous": "5111a470-0f8c-11f0-935e-6e323efef16c-2-cde4-bd15"
      },
      {
       "current": "9954a6fc-0c70-11f0-98e9-5e0a5654d7bd-8-f4b2-32da-b588-2ea3-c289-53e5-31c4-7b04",
       "next": "0d1531e8-80d6-11ed-95e1-0242ac120004-13-4086-98aa-d482-0385-8e2c-9432-9a6a-72f2-3e45-343e",
       "previous": "5111a470-0f8c-11f0-935e-6e323efef16c-3-cde4-bd15-47f7"
      },
      {
       "current": "9954a6fc-0c70-11f0-98e9-5e0a5654d7bd-9-f4b2-32da-b588-2ea3-c289-53e5-31c4-7b04-2eff",
       "next": "0d1531e8-80d6-11ed-95e1-0242ac120004-16-0385-8e2c-9432-9a6a-72f2-3e45-343e-ea1c-9119-c24c",
       "previous": "5111a470-0f8c-11f0-935e-6e323efef16c-6-cde4-bd15-47f7-4a43-6e0c-4f72"
      },
      {
       "current": "9954a6fc-0c70-11f0-98e9-5e0a5654d7bd-9-f4b2-32da-b588-2ea3-c289-53e5-31c4-7b04-2eff",
       "next": "0f904455-dae3-11ec-9d35-2f7bec2724a5-20-cbc5-a521-c15f-b883-48b3-9d46-065e-f53e-1db9-bf2c",
       "previous": "5111a470-0f8c-11f0-935e-6e323efef16c-7-cde4-bd15-47f7-4a43-6e0c-4f72-5d03"
      },
      {
       "current": "9954a6fc-0c70-11f0-98e9-5e0a5654d7bd-9-f4b2-32da-b588-2ea3-c289-53e5-31c4-7b04-2eff",
       "next": "9598145a-f29d-11ea-b359-0a58a9feac02-27-0b62-1f07-dfea-e942-8adf-0009-1540-66e7-874f-5bc7",
       "previous": "5111a470-0f8c-11f0-935e-6e323efef16c-7-cde4-bd15-47f7-4a43-6e0c-4f72-5d03"
      },
      {
       "current": "9954a6fc-0c70-11f0-98e9-5e0a5654d7bd-9-f4b2-32da-b588-2ea3-c289-53e5-31c4-7b04-2eff",
       "next": "adbcf366-e5d6-11eb-941a-0a58a9feac02-25-336f-8de5-90ce-a3b5-a12d-937a-4360-886a-c26e-02f9",
       "previous": "5111a470-0f8c-11f0-935e-6e323efef16c-7-cde4-bd15-47f7-4a43-6e0c-4f72-5d03"
      },
      {
       "current": "9954a6fc-0c70-11f0-98e9-5e0a5654d7bd-9-f4b2-32da-b588-2ea3-c289-53e5-31c4-7b04-2eff",
       "next": "d335d3ec-80d5-11ed-95e1-0242ac120004-15-e073-8605-4483-934f-f6a6-d120-39e8-923e-1374-45bf",
       "previous": "5111a470-0f8c-11f0-935e-6e323efef16c-7-cde4-bd15-47f7-4a43-6e0c-4f72-5d03"
      },
      {
       "current": "9954a6fc-0c70-11f0-98e9-5e0a5654d7bd-9-f4b2-32da-b588-2ea3-c289-53e5-31c4-7b04-2eff",
       "next": "d335d464-80d5-11ed-95e1-0242ac120004-15-17d2-51dc-b14f-3876-17a3-6132-809d-8ea5-16f0-dc33",
       "previous": "5111a470-0f8c-11f0-935e-6e323efef16c-7-cde4-bd15-47f7-4a43-6e0c-4f72-5d03"
      },
      {
       "current": "9954a6fc-0c70-11f0-98e9-5e0a5654d7bd-9-f4b2-32da-b588-2ea3-c289-53e5-31c4-7b04-2eff",
       "next": "ee1320a8-0c28-11f0-98e9-5e0a5654d7bd-7-534f-ca98-0639-fd50-4b19-65a8-2db2",
       "previous": "5111a470-0f8c-11f0-935e-6e323efef16c-7-cde4-bd15-47f7-4a43-6e0c-4f72-5d03"
      },
      {
       "current": "9954a6fc-0c70-11f0-98e9-5e0a5654d7bd-9-f4b2-32da-b588-2ea3-c289-53e5-31c4-7b04-2eff",
       "next": "fa034c80-0c28-11f0-98e9-5e0a5654d7bd-6-61c8-3dff-8f8a-2237-1cfd-9257",
       "previous": "5111a470-0f8c-11f0-935e-6e323efef16c-7-cde4-bd15-47f7-4a43-6e0c-4f72-5d03"
      },
      {
       "current": "9954a6fc-0c70-11f0-98e9-5e0a5654d7bd-9-f4b2-32da-b588-2ea3-c289-53e5-31c4-7b04-2eff",
       "next": "17cc442e-0c29-11f0-98e9-5e0a5654d7bd-7-e886-de07-db5b-bc04-f477-8539-894f",
       "previous": "5111a470-0f8c-11f0-935e-6e323efef16c-7-cde4-bd15-47f7-4a43-6e0c-4f72-5d03"
      },
      {
       "current": "9954a6fc-0c70-11f0-98e9-5e0a5654d7bd-9-f4b2-32da-b588-2ea3-c289-53e5-31c4-7b04-2eff",
       "next": "1de94a14-0c29-11f0-98e9-5e0a5654d7bd-6-a479-3f2b-1422-f712-3b8b-f1e8",
       "previous": "5111a470-0f8c-11f0-935e-6e323efef16c-7-cde4-bd15-47f7-4a43-6e0c-4f72-5d03"
      },
      {
       "current": "9954a6fc-0c70-11f0-98e9-5e0a5654d7bd-9-f4b2-32da-b588-2ea3-c289-53e5-31c4-7b04-2eff",
       "next": "2840f6ba-0c29-11f0-98e9-5e0a5654d7bd-7-f26a-794a-d7be-5285-ae4d-9866-9a9d",
       "previous": "5111a470-0f8c-11f0-935e-6e323efef16c-7-cde4-bd15-47f7-4a43-6e0c-4f72-5d03"
      },
      {
       "current": "9954a6fc-0c70-11f0-98e9-5e0a5654d7bd-9-f4b2-32da-b588-2ea3-c289-53e5-31c4-7b04-2eff",
       "next": "3b9069e4-0c29-11f0-98e9-5e0a5654d7bd-6-9cb1-5973-c277-2053-1b0a-1bcc",
       "previous": "5111a470-0f8c-11f0-935e-6e323efef16c-7-cde4-bd15-47f7-4a43-6e0c-4f72-5d03"
      },
      {
       "current": "9954a6fc-0c70-11f0-98e9-5e0a5654d7bd-9-f4b2-32da-b588-2ea3-c289-53e5-31c4-7b04-2eff",
       "next": "8a8313f4-0c46-11f0-98e9-5e0a5654d7bd-6-1391-2434-3533-a3c9-7ec4-cc88",
       "previous": "5111a470-0f8c-11f0-935e-6e323efef16c-7-cde4-bd15-47f7-4a43-6e0c-4f72-5d03"
      },
      {
       "current": "9954a6fc-0c70-11f0-98e9-5e0a5654d7bd-9-f4b2-32da-b588-2ea3-c289-53e5-31c4-7b04-2eff",
       "next": "8a9be6c2-0c46-11f0-98e9-5e0a5654d7bd-5-575f-1d40-14d8-77f1-f119",
       "previous": "5111a470-0f8c-11f0-935e-6e323efef16c-7-cde4-bd15-47f7-4a43-6e0c-4f72-5d03"
      },
      {
       "current": "9954a6fc-0c70-11f0-98e9-5e0a5654d7bd-9-f4b2-32da-b588-2ea3-c289-53e5-31c4-7b04-2eff",
       "next": "fc8a6054-0c5c-11f0-98e9-5e0a5654d7bd-6-63e2-6c8a-0237-74e3-a90f-e71a",
       "previous": "5111a470-0f8c-11f0-935e-6e323efef16c-7-cde4-bd15-47f7-4a43-6e0c-4f72-5d03"
      },
      {
       "current": "9954a6fc-0c70-11f0-98e9-5e0a5654d7bd-9-f4b2-32da-b588-2ea3-c289-53e5-31c4-7b04-2eff",
       "next": "0cd70764-0c5d-11f0-98e9-5e0a5654d7bd-5-9bdf-ef38-b5d0-1868-6e51",
       "previous": "5111a470-0f8c-11f0-935e-6e323efef16c-7-cde4-bd15-47f7-4a43-6e0c-4f72-5d03"
      },
      {
       "current": "9954a6fc-0c70-11f0-98e9-5e0a5654d7bd-9-f4b2-32da-b588-2ea3-c289-53e5-31c4-7b04-2eff",
       "next": "0d1531e8-80d6-11ed-95e1-0242ac120004-15-d482-0385-8e2c-9432-9a6a-72f2-e590-6280-8f44-4258",
       "previous": "5111a470-0f8c-11f0-935e-6e323efef16c-7-cde4-bd15-47f7-4a43-6e0c-4f72-5d03"
      },
      {
       "current": "9954a6fc-0c70-11f0-98e9-5e0a5654d7bd-9-f4b2-32da-b588-2ea3-c289-53e5-31c4-7b04-2eff",
       "next": "0d153210-80d6-11ed-95e1-0242ac120004-15-f333-e27b-a86e-3653-5c2a-fa15-d3c9-8f37-c6be-0edc",
       "previous": "5111a470-0f8c-11f0-935e-6e323efef16c-7-cde4-bd15-47f7-4a43-6e0c-4f72-5d03"
      },
      {
       "current": "9954a6fc-0c70-11f0-98e9-5e0a5654d7bd-9-f4b2-32da-b588-2ea3-c289-53e5-31c4-7b04-2eff",
       "next": "41ca8840-0c28-11f0-98e9-5e0a5654d7bd-7-1403-a376-dc1e-e116-9124-5c27-100b",
       "previous": "5111a470-0f8c-11f0-935e-6e323efef16c-7-cde4-bd15-47f7-4a43-6e0c-4f72-5d03"
      },
      {
       "current": "9954a6fc-0c70-11f0-98e9-5e0a5654d7bd-9-f4b2-32da-b588-2ea3-c289-53e5-31c4-7b04-2eff",
       "next": "49f48492-1c24-11f0-baf6-eaf1011eb67f",
       "previous": "5111a470-0f8c-11f0-935e-6e323efef16c-7-cde4-bd15-47f7-4a43-6e0c-4f72-5d03"
      },
      {
       "current": "9954a6fc-0c70-11f0-98e9-5e0a5654d7bd-9-f4b2-32da-b588-2ea3-c289-53e5-31c4-7b04-2eff",
       "next": "49f48492-1c24-11f0-baf6-eaf1011eb67f",
       "previous": "5111a470-0f8c-11f0-935e-6e323efef16c-7-cde4-bd15-47f7-4a43-6e0c-4f72-5d03"
      },
      {
       "current": "9954a6fc-0c70-11f0-98e9-5e0a5654d7bd-13-2ea3-c289-53e5-31c4-7b04-2eff-2c6e-2ac3-1cfb-6be8",
       "next": "49f48492-1c24-11f0-baf6-eaf1011eb67f-1-e4e3",
       "previous": "5111a470-0f8c-11f0-935e-6e323efef16c-7-cde4-bd15-47f7-4a43-6e0c-4f72-5d03"
      }
     ],
     "next": "49f48492-1c24-11f0-baf6-eaf1011eb67f-5-e4e3-bf8a-77f2-63dd-03e6",
     "previous": "5111a470-0f8c-11f0-935e-6e323efef16c-11-bd15-47f7-4a43-6e0c-4f72-5d03-228c-c238-dbaa-a842"
    },
    "pinnedOutputTabIndex": 0,
    "run_through_control": {
     "frozen": false,
     "read_only": false
    },
    "slideshow": {
     "slide_type": ""
    },
    "tags": [
     "parameters"
    ]
   },
   "outputs": [],
   "source": [
    "result_notebooks.append(run_notebook(\n",
    "    'テスト手順-ストレージ共通-Metadataアドオン.ipynb',\n",
    "    dict(\n",
    "        target_storage_name=target_storage_name,\n",
    "        target_storage_id=target_storage_id,\n",
    "        rdm_project_name=f'{rdm_project_prefix}-metadata'\n",
    "    ),\n",
    "    '-NII Storage',\n",
    "))\n",
    "result_notebooks[-1]"
   ]
  },
  {
   "cell_type": "markdown",
   "id": "c5cc83a0-92f4-43f4-92d4-0788ef8f838e",
   "metadata": {
    "lc_cell_meme": {
     "current": "49f48492-1c24-11f0-baf6-eaf1011eb67f-6-e4e3-bf8a-77f2-63dd-03e6-1500",
     "execution_end_time": "2025-04-18T07:11:11.384Z",
     "history": [
      {
       "current": "49f48492-1c24-11f0-baf6-eaf1011eb67f-5-e4e3-bf8a-77f2-63dd-03e6",
       "next": "41ca8840-0c28-11f0-98e9-5e0a5654d7bd-7-1403-a376-dc1e-e116-9124-5c27-100b",
       "previous": "9954a6fc-0c70-11f0-98e9-5e0a5654d7bd-9-f4b2-32da-b588-2ea3-c289-53e5-31c4-7b04-2eff"
      }
     ],
     "next": "41ca8840-0c28-11f0-98e9-5e0a5654d7bd-11-a376-dc1e-e116-9124-5c27-100b-e3ef-d2c3-e955-016d",
     "previous": "9954a6fc-0c70-11f0-98e9-5e0a5654d7bd-13-2ea3-c289-53e5-31c4-7b04-2eff-2c6e-2ac3-1cfb-6be8"
    },
    "pinnedOutputTabIndex": 0
   },
   "source": [
    "終了処理を実施。"
   ]
  },
  {
   "cell_type": "code",
   "execution_count": null,
   "id": "14ba6005-25df-40b0-a422-5904229346ea",
   "metadata": {
    "deletable": true,
    "editable": true,
    "lc_cell_meme": {
     "current": "41ca8840-0c28-11f0-98e9-5e0a5654d7bd-12-dc1e-e116-9124-5c27-100b-e3ef-d2c3-e955-016d-1c7b",
     "history": [
      {
       "current": "41ca8840-0c28-11f0-98e9-5e0a5654d7bd",
       "next": "d9d1b1ac-ba69-11ee-be42-76dc322c86bf-7-4788-8a30-7d73-49da-50cd-ddaa-9795",
       "previous": "0d153210-80d6-11ed-95e1-0242ac120004-8-bd88-6497-d40c-e2d4-e257-f333-e27b-a86e"
      },
      {
       "current": "41ca8840-0c28-11f0-98e9-5e0a5654d7bd",
       "next": "a0be15fa-cfbc-11ee-aac4-e614fd240312-5-d8db-2f52-2d72-4f01-7bae",
       "previous": "0d153210-80d6-11ed-95e1-0242ac120004-8-bd88-6497-d40c-e2d4-e257-f333-e27b-a86e"
      },
      {
       "current": "41ca8840-0c28-11f0-98e9-5e0a5654d7bd",
       "next": "be5ca7a6-cfbd-11ee-aac4-e614fd240312-5-2859-6def-5a16-eab4-6380",
       "previous": "0d153210-80d6-11ed-95e1-0242ac120004-8-bd88-6497-d40c-e2d4-e257-f333-e27b-a86e"
      },
      {
       "current": "41ca8840-0c28-11f0-98e9-5e0a5654d7bd-1-1403",
       "next": "dcea328c-cfbe-11ee-aac4-e614fd240312-5-2457-4dd6-1c26-a538-0927",
       "previous": "0d153210-80d6-11ed-95e1-0242ac120004-8-bd88-6497-d40c-e2d4-e257-f333-e27b-a86e"
      },
      {
       "current": "41ca8840-0c28-11f0-98e9-5e0a5654d7bd-2-1403-a376",
       "next": "dcea328c-cfbe-11ee-aac4-e614fd240312-6-2457-4dd6-1c26-a538-0927-fec0",
       "previous": "0d153210-80d6-11ed-95e1-0242ac120004-9-bd88-6497-d40c-e2d4-e257-f333-e27b-a86e-3653"
      },
      {
       "current": "41ca8840-0c28-11f0-98e9-5e0a5654d7bd-2-1403-a376",
       "next": "dcea328c-cfbe-11ee-aac4-e614fd240312-6-2457-4dd6-1c26-a538-0927-fec0",
       "previous": "0d153210-80d6-11ed-95e1-0242ac120004-9-bd88-6497-d40c-e2d4-e257-f333-e27b-a86e-3653"
      },
      {
       "current": "41ca8840-0c28-11f0-98e9-5e0a5654d7bd-2-1403-a376",
       "next": "dcea328c-cfbe-11ee-aac4-e614fd240312-6-2457-4dd6-1c26-a538-0927-fec0",
       "previous": "0d153210-80d6-11ed-95e1-0242ac120004-9-bd88-6497-d40c-e2d4-e257-f333-e27b-a86e-3653"
      },
      {
       "current": "41ca8840-0c28-11f0-98e9-5e0a5654d7bd-4-1403-a376-dc1e-e116",
       "next": "dcea328c-cfbe-11ee-aac4-e614fd240312-7-2457-4dd6-1c26-a538-0927-fec0-3901",
       "previous": "0d153210-80d6-11ed-95e1-0242ac120004-10-bd88-6497-d40c-e2d4-e257-f333-e27b-a86e-3653-5c2a"
      },
      {
       "current": "41ca8840-0c28-11f0-98e9-5e0a5654d7bd-4-1403-a376-dc1e-e116",
       "next": "cf79f6c6-0422-11ef-b901-9ee4ca18f90f-9-3228-42c1-7841-354c-51c4-ea5d-d982-3358-01df",
       "previous": "0d153210-80d6-11ed-95e1-0242ac120004-12-d40c-e2d4-e257-f333-e27b-a86e-3653-5c2a-fa15-d3c9"
      },
      {
       "current": "41ca8840-0c28-11f0-98e9-5e0a5654d7bd-4-1403-a376-dc1e-e116",
       "next": "d270a640-0422-11ef-b901-9ee4ca18f90f-8-7a83-35a2-e666-ef9d-6e01-3bb7-30fc-7a42",
       "previous": "0d153210-80d6-11ed-95e1-0242ac120004-12-d40c-e2d4-e257-f333-e27b-a86e-3653-5c2a-fa15-d3c9"
      },
      {
       "current": "41ca8840-0c28-11f0-98e9-5e0a5654d7bd-4-1403-a376-dc1e-e116",
       "next": "88d5931c-0434-11ef-b901-9ee4ca18f90f-9-656a-f4ab-e3d8-0fc4-8f9b-dfcc-a95f-af4d-9c46",
       "previous": "0d153210-80d6-11ed-95e1-0242ac120004-12-d40c-e2d4-e257-f333-e27b-a86e-3653-5c2a-fa15-d3c9"
      },
      {
       "current": "41ca8840-0c28-11f0-98e9-5e0a5654d7bd-4-1403-a376-dc1e-e116",
       "next": "939d9c60-e7a8-11ef-8804-e664e9f91ae7-1-61df",
       "previous": "0d153210-80d6-11ed-95e1-0242ac120004-12-d40c-e2d4-e257-f333-e27b-a86e-3653-5c2a-fa15-d3c9"
      },
      {
       "current": "41ca8840-0c28-11f0-98e9-5e0a5654d7bd-4-1403-a376-dc1e-e116",
       "next": "8c06187c-0434-11ef-b901-9ee4ca18f90f-8-7549-a108-3151-df1a-9436-0956-114e-4777",
       "previous": "0d153210-80d6-11ed-95e1-0242ac120004-12-d40c-e2d4-e257-f333-e27b-a86e-3653-5c2a-fa15-d3c9"
      },
      {
       "current": "41ca8840-0c28-11f0-98e9-5e0a5654d7bd-6-1403-a376-dc1e-e116-9124-5c27",
       "next": "13c35e24-73c9-11ef-b0d7-cee2f9bc9ae0-2-4d24-05bb",
       "previous": "0d153210-80d6-11ed-95e1-0242ac120004-12-d40c-e2d4-e257-f333-e27b-a86e-3653-5c2a-fa15-d3c9"
      },
      {
       "current": "41ca8840-0c28-11f0-98e9-5e0a5654d7bd-7-1403-a376-dc1e-e116-9124-5c27-100b",
       "next": "7e8f35b8-1151-11f0-b2ca-76718da5da48-2-f82d-bed3",
       "previous": "0d153210-80d6-11ed-95e1-0242ac120004-14-e257-f333-e27b-a86e-3653-5c2a-fa15-d3c9-8f37-c6be"
      },
      {
       "current": "41ca8840-0c28-11f0-98e9-5e0a5654d7bd-7-1403-a376-dc1e-e116-9124-5c27-100b",
       "next": "41ca8840-0c28-11f0-98e9-5e0a5654d7bd-9-1403-a376-dc1e-51a1-47bb-3e03-b84f-4b83-212e",
       "previous": "0d153210-80d6-11ed-95e1-0242ac120004-15-f333-e27b-a86e-3653-5c2a-fa15-d3c9-8f37-c6be-0edc"
      },
      {
       "current": "41ca8840-0c28-11f0-98e9-5e0a5654d7bd-7-1403-a376-dc1e-e116-9124-5c27-100b",
       "next": "e49811c6-0f8b-11f0-935e-6e323efef16c-5-0919-5415-28e2-399c-c26b",
       "previous": "0d153210-80d6-11ed-95e1-0242ac120004-15-f333-e27b-a86e-3653-5c2a-fa15-d3c9-8f37-c6be-0edc"
      },
      {
       "current": "41ca8840-0c28-11f0-98e9-5e0a5654d7bd-7-1403-a376-dc1e-e116-9124-5c27-100b",
       "next": "e49811c6-0f8b-11f0-935e-6e323efef16c-5-0919-5415-28e2-399c-c26b",
       "previous": "9954a6fc-0c70-11f0-98e9-5e0a5654d7bd-9-f4b2-32da-b588-2ea3-c289-53e5-31c4-7b04-2eff"
      },
      {
       "current": "41ca8840-0c28-11f0-98e9-5e0a5654d7bd-7-1403-a376-dc1e-e116-9124-5c27-100b",
       "next": "e49811c6-0f8b-11f0-935e-6e323efef16c-5-0919-5415-28e2-399c-c26b",
       "previous": "49f48492-1c24-11f0-baf6-eaf1011eb67f"
      },
      {
       "current": "41ca8840-0c28-11f0-98e9-5e0a5654d7bd-7-1403-a376-dc1e-e116-9124-5c27-100b",
       "next": "e49811c6-0f8b-11f0-935e-6e323efef16c-5-0919-5415-28e2-399c-c26b",
       "previous": "49f48492-1c24-11f0-baf6-eaf1011eb67f"
      },
      {
       "current": "41ca8840-0c28-11f0-98e9-5e0a5654d7bd-11-a376-dc1e-e116-9124-5c27-100b-e3ef-d2c3-e955-016d",
       "next": "e49811c6-0f8b-11f0-935e-6e323efef16c-5-0919-5415-28e2-399c-c26b",
       "previous": "49f48492-1c24-11f0-baf6-eaf1011eb67f-1-e4e3"
      }
     ],
     "next": "e49811c6-0f8b-11f0-935e-6e323efef16c-9-0919-5415-28e2-399c-c26b-0541-36c1-58c6-f5f3",
     "previous": "49f48492-1c24-11f0-baf6-eaf1011eb67f-5-e4e3-bf8a-77f2-63dd-03e6"
    },
    "pinnedOutputTabIndex": 0,
    "run_through_control": {
     "frozen": false,
     "read_only": false
    },
    "slideshow": {
     "slide_type": ""
    },
    "tags": [
     "parameters"
    ]
   },
   "outputs": [],
   "source": [
    "!rm -fr {work_dir}"
   ]
  },
  {
   "cell_type": "code",
   "execution_count": null,
   "id": "47643a4c-de6f-48f2-b966-f46138e7e9e1",
   "metadata": {
    "deletable": true,
    "editable": true,
    "lc_cell_meme": {
     "current": "e49811c6-0f8b-11f0-935e-6e323efef16c-10-0919-5415-28e2-399c-c26b-0541-36c1-58c6-f5f3-cb64",
     "history": [
      {
       "current": "e49811c6-0f8b-11f0-935e-6e323efef16c",
       "next": "7258c5f6-0f8b-11f0-935e-6e323efef16c",
       "previous": "8af0ac06-0c6f-11f0-98e9-5e0a5654d7bd-3-c85a-d8bf-8dea"
      },
      {
       "current": "e49811c6-0f8b-11f0-935e-6e323efef16c",
       "next": "7258c5f6-0f8b-11f0-935e-6e323efef16c",
       "previous": "3e836c18-0c75-11f0-b991-feb16f56f93e-2-b008-e8d0"
      },
      {
       "current": "e49811c6-0f8b-11f0-935e-6e323efef16c",
       "next": "7258c5f6-0f8b-11f0-935e-6e323efef16c",
       "previous": "3e836c18-0c75-11f0-b991-feb16f56f93e-2-b008-e8d0"
      }
     ],
     "previous": "41ca8840-0c28-11f0-98e9-5e0a5654d7bd-11-a376-dc1e-e116-9124-5c27-100b-e3ef-d2c3-e955-016d"
    },
    "pinnedOutputTabIndex": 0,
    "run_through_control": {
     "frozen": false,
     "read_only": false
    },
    "slideshow": {
     "slide_type": ""
    },
    "tags": [
     "parameters"
    ]
   },
   "outputs": [],
   "source": []
  }
 ],
 "metadata": {
  "kernelspec": {
   "display_name": "Python 3",
   "language": "python",
   "name": "python3"
  },
  "language_info": {
   "file_extension": ".py",
   "mimetype": "text/x-python",
   "name": "python",
   "nbconvert_exporter": "python",
   "pygments_lexer": "ipython3",
   "version": "3.12.9"
  },
  "lc_notebook_meme": {
   "current": "efecb6ea-0f8a-11f0-935e-6e323efef16c",
   "lc_server_signature": {
    "current": {
     "notebook_dir": "/home/jovyan",
     "notebook_path": "/取りまとめ-NIIストレージ.ipynb",
     "signature_id": "1a2a1530-3284-11f0-89c3-c629d0b175e3"
    }
   }
  }
 },
 "nbformat": 4,
 "nbformat_minor": 5
}